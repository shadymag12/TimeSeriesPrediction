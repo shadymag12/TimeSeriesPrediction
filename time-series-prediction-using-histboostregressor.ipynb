{
 "cells": [
  {
   "cell_type": "code",
   "execution_count": 1,
   "id": "0b7d2176",
   "metadata": {
    "_cell_guid": "b1076dfc-b9ad-4769-8c92-a6c4dae69d19",
    "_uuid": "8f2839f25d086af736a60e9eeb907d3b93b6e0e5",
    "execution": {
     "iopub.execute_input": "2023-07-18T08:48:17.966972Z",
     "iopub.status.busy": "2023-07-18T08:48:17.966462Z",
     "iopub.status.idle": "2023-07-18T08:48:21.800822Z",
     "shell.execute_reply": "2023-07-18T08:48:21.798566Z"
    },
    "papermill": {
     "duration": 3.855811,
     "end_time": "2023-07-18T08:48:21.803980",
     "exception": false,
     "start_time": "2023-07-18T08:48:17.948169",
     "status": "completed"
    },
    "tags": []
   },
   "outputs": [
    {
     "name": "stderr",
     "output_type": "stream",
     "text": [
      "/opt/conda/lib/python3.10/site-packages/scipy/__init__.py:146: UserWarning: A NumPy version >=1.16.5 and <1.23.0 is required for this version of SciPy (detected version 1.23.5\n",
      "  warnings.warn(f\"A NumPy version >={np_minversion} and <{np_maxversion}\"\n"
     ]
    },
    {
     "name": "stdout",
     "output_type": "stream",
     "text": [
      "/kaggle/input/playground-series-s3e19/sample_submission.csv\n",
      "/kaggle/input/playground-series-s3e19/train.csv\n",
      "/kaggle/input/playground-series-s3e19/test.csv\n"
     ]
    }
   ],
   "source": [
    "\n",
    "\n",
    "import numpy as np # linear algebra\n",
    "import pandas as pd # data processing, CSV file I/O (e.g. pd.read_csv)\n",
    "import matplotlib.pyplot as plt\n",
    "import seaborn as sns\n",
    "#%matplotlib.inline\n",
    "import warnings\n",
    "warnings.filterwarnings(action='ignore')\n",
    "import optuna\n",
    "from sklearn.ensemble import HistGradientBoostingRegressor\n",
    "from category_encoders import CatBoostEncoder\n",
    "from sklearn.model_selection import train_test_split, cross_val_score,KFold\n",
    "\n",
    "\n",
    "\n",
    "import os\n",
    "for dirname, _, filenames in os.walk('/kaggle/input'):\n",
    "    for filename in filenames:\n",
    "        print(os.path.join(dirname, filename))\n",
    "\n"
   ]
  },
  {
   "cell_type": "code",
   "execution_count": 2,
   "id": "17fb96e0",
   "metadata": {
    "execution": {
     "iopub.execute_input": "2023-07-18T08:48:21.834174Z",
     "iopub.status.busy": "2023-07-18T08:48:21.833626Z",
     "iopub.status.idle": "2023-07-18T08:48:22.144373Z",
     "shell.execute_reply": "2023-07-18T08:48:22.143225Z"
    },
    "papermill": {
     "duration": 0.3301,
     "end_time": "2023-07-18T08:48:22.148153",
     "exception": false,
     "start_time": "2023-07-18T08:48:21.818053",
     "status": "completed"
    },
    "tags": []
   },
   "outputs": [],
   "source": [
    "train=pd.read_csv('/kaggle/input/playground-series-s3e19/train.csv')"
   ]
  },
  {
   "cell_type": "code",
   "execution_count": 3,
   "id": "11a19bd5",
   "metadata": {
    "execution": {
     "iopub.execute_input": "2023-07-18T08:48:22.180541Z",
     "iopub.status.busy": "2023-07-18T08:48:22.179571Z",
     "iopub.status.idle": "2023-07-18T08:48:22.244837Z",
     "shell.execute_reply": "2023-07-18T08:48:22.243772Z"
    },
    "papermill": {
     "duration": 0.084893,
     "end_time": "2023-07-18T08:48:22.247959",
     "exception": false,
     "start_time": "2023-07-18T08:48:22.163066",
     "status": "completed"
    },
    "tags": []
   },
   "outputs": [],
   "source": [
    "test = pd.read_csv('/kaggle/input/playground-series-s3e19/test.csv')"
   ]
  },
  {
   "cell_type": "code",
   "execution_count": 4,
   "id": "1037c225",
   "metadata": {
    "execution": {
     "iopub.execute_input": "2023-07-18T08:48:22.278637Z",
     "iopub.status.busy": "2023-07-18T08:48:22.277835Z",
     "iopub.status.idle": "2023-07-18T08:48:22.302804Z",
     "shell.execute_reply": "2023-07-18T08:48:22.300884Z"
    },
    "papermill": {
     "duration": 0.043627,
     "end_time": "2023-07-18T08:48:22.306044",
     "exception": false,
     "start_time": "2023-07-18T08:48:22.262417",
     "status": "completed"
    },
    "tags": []
   },
   "outputs": [
    {
     "data": {
      "text/html": [
       "<div>\n",
       "<style scoped>\n",
       "    .dataframe tbody tr th:only-of-type {\n",
       "        vertical-align: middle;\n",
       "    }\n",
       "\n",
       "    .dataframe tbody tr th {\n",
       "        vertical-align: top;\n",
       "    }\n",
       "\n",
       "    .dataframe thead th {\n",
       "        text-align: right;\n",
       "    }\n",
       "</style>\n",
       "<table border=\"1\" class=\"dataframe\">\n",
       "  <thead>\n",
       "    <tr style=\"text-align: right;\">\n",
       "      <th></th>\n",
       "      <th>id</th>\n",
       "      <th>date</th>\n",
       "      <th>country</th>\n",
       "      <th>store</th>\n",
       "      <th>product</th>\n",
       "    </tr>\n",
       "  </thead>\n",
       "  <tbody>\n",
       "    <tr>\n",
       "      <th>0</th>\n",
       "      <td>136950</td>\n",
       "      <td>2022-01-01</td>\n",
       "      <td>Argentina</td>\n",
       "      <td>Kaggle Learn</td>\n",
       "      <td>Using LLMs to Improve Your Coding</td>\n",
       "    </tr>\n",
       "    <tr>\n",
       "      <th>1</th>\n",
       "      <td>136951</td>\n",
       "      <td>2022-01-01</td>\n",
       "      <td>Argentina</td>\n",
       "      <td>Kaggle Learn</td>\n",
       "      <td>Using LLMs to Train More LLMs</td>\n",
       "    </tr>\n",
       "    <tr>\n",
       "      <th>2</th>\n",
       "      <td>136952</td>\n",
       "      <td>2022-01-01</td>\n",
       "      <td>Argentina</td>\n",
       "      <td>Kaggle Learn</td>\n",
       "      <td>Using LLMs to Win Friends and Influence People</td>\n",
       "    </tr>\n",
       "    <tr>\n",
       "      <th>3</th>\n",
       "      <td>136953</td>\n",
       "      <td>2022-01-01</td>\n",
       "      <td>Argentina</td>\n",
       "      <td>Kaggle Learn</td>\n",
       "      <td>Using LLMs to Win More Kaggle Competitions</td>\n",
       "    </tr>\n",
       "    <tr>\n",
       "      <th>4</th>\n",
       "      <td>136954</td>\n",
       "      <td>2022-01-01</td>\n",
       "      <td>Argentina</td>\n",
       "      <td>Kaggle Learn</td>\n",
       "      <td>Using LLMs to Write Better</td>\n",
       "    </tr>\n",
       "  </tbody>\n",
       "</table>\n",
       "</div>"
      ],
      "text/plain": [
       "       id        date    country         store  \\\n",
       "0  136950  2022-01-01  Argentina  Kaggle Learn   \n",
       "1  136951  2022-01-01  Argentina  Kaggle Learn   \n",
       "2  136952  2022-01-01  Argentina  Kaggle Learn   \n",
       "3  136953  2022-01-01  Argentina  Kaggle Learn   \n",
       "4  136954  2022-01-01  Argentina  Kaggle Learn   \n",
       "\n",
       "                                          product  \n",
       "0               Using LLMs to Improve Your Coding  \n",
       "1                   Using LLMs to Train More LLMs  \n",
       "2  Using LLMs to Win Friends and Influence People  \n",
       "3      Using LLMs to Win More Kaggle Competitions  \n",
       "4                      Using LLMs to Write Better  "
      ]
     },
     "execution_count": 4,
     "metadata": {},
     "output_type": "execute_result"
    }
   ],
   "source": [
    "test.head()"
   ]
  },
  {
   "cell_type": "code",
   "execution_count": 5,
   "id": "b072bcbf",
   "metadata": {
    "execution": {
     "iopub.execute_input": "2023-07-18T08:48:22.336862Z",
     "iopub.status.busy": "2023-07-18T08:48:22.336424Z",
     "iopub.status.idle": "2023-07-18T08:48:22.551516Z",
     "shell.execute_reply": "2023-07-18T08:48:22.550084Z"
    },
    "papermill": {
     "duration": 0.234233,
     "end_time": "2023-07-18T08:48:22.554916",
     "exception": false,
     "start_time": "2023-07-18T08:48:22.320683",
     "status": "completed"
    },
    "tags": []
   },
   "outputs": [
    {
     "name": "stdout",
     "output_type": "stream",
     "text": [
      "<class 'pandas.core.frame.DataFrame'>\n",
      "RangeIndex: 136950 entries, 0 to 136949\n",
      "Data columns (total 6 columns):\n",
      " #   Column    Non-Null Count   Dtype \n",
      "---  ------    --------------   ----- \n",
      " 0   id        136950 non-null  int64 \n",
      " 1   date      136950 non-null  object\n",
      " 2   country   136950 non-null  object\n",
      " 3   store     136950 non-null  object\n",
      " 4   product   136950 non-null  object\n",
      " 5   num_sold  136950 non-null  int64 \n",
      "dtypes: int64(2), object(4)\n",
      "memory usage: 6.3+ MB\n"
     ]
    }
   ],
   "source": [
    "train.info()"
   ]
  },
  {
   "cell_type": "code",
   "execution_count": 6,
   "id": "823c245e",
   "metadata": {
    "execution": {
     "iopub.execute_input": "2023-07-18T08:48:22.600005Z",
     "iopub.status.busy": "2023-07-18T08:48:22.598386Z",
     "iopub.status.idle": "2023-07-18T08:48:22.799062Z",
     "shell.execute_reply": "2023-07-18T08:48:22.797595Z"
    },
    "papermill": {
     "duration": 0.224855,
     "end_time": "2023-07-18T08:48:22.802377",
     "exception": false,
     "start_time": "2023-07-18T08:48:22.577522",
     "status": "completed"
    },
    "tags": []
   },
   "outputs": [
    {
     "data": {
      "text/plain": [
       "id          0\n",
       "date        0\n",
       "country     0\n",
       "store       0\n",
       "product     0\n",
       "num_sold    0\n",
       "dtype: int64"
      ]
     },
     "execution_count": 6,
     "metadata": {},
     "output_type": "execute_result"
    }
   ],
   "source": [
    "train.isnull().sum()"
   ]
  },
  {
   "cell_type": "code",
   "execution_count": 7,
   "id": "caa02841",
   "metadata": {
    "execution": {
     "iopub.execute_input": "2023-07-18T08:48:22.834628Z",
     "iopub.status.busy": "2023-07-18T08:48:22.834013Z",
     "iopub.status.idle": "2023-07-18T08:48:22.874926Z",
     "shell.execute_reply": "2023-07-18T08:48:22.873119Z"
    },
    "papermill": {
     "duration": 0.060786,
     "end_time": "2023-07-18T08:48:22.878110",
     "exception": false,
     "start_time": "2023-07-18T08:48:22.817324",
     "status": "completed"
    },
    "tags": []
   },
   "outputs": [],
   "source": [
    "train['date']=pd.to_datetime(train['date'])"
   ]
  },
  {
   "cell_type": "code",
   "execution_count": 8,
   "id": "e6b2b708",
   "metadata": {
    "execution": {
     "iopub.execute_input": "2023-07-18T08:48:22.909119Z",
     "iopub.status.busy": "2023-07-18T08:48:22.908452Z",
     "iopub.status.idle": "2023-07-18T08:48:22.926143Z",
     "shell.execute_reply": "2023-07-18T08:48:22.925124Z"
    },
    "papermill": {
     "duration": 0.036263,
     "end_time": "2023-07-18T08:48:22.928697",
     "exception": false,
     "start_time": "2023-07-18T08:48:22.892434",
     "status": "completed"
    },
    "tags": []
   },
   "outputs": [
    {
     "data": {
      "text/html": [
       "<div>\n",
       "<style scoped>\n",
       "    .dataframe tbody tr th:only-of-type {\n",
       "        vertical-align: middle;\n",
       "    }\n",
       "\n",
       "    .dataframe tbody tr th {\n",
       "        vertical-align: top;\n",
       "    }\n",
       "\n",
       "    .dataframe thead th {\n",
       "        text-align: right;\n",
       "    }\n",
       "</style>\n",
       "<table border=\"1\" class=\"dataframe\">\n",
       "  <thead>\n",
       "    <tr style=\"text-align: right;\">\n",
       "      <th></th>\n",
       "      <th>id</th>\n",
       "      <th>date</th>\n",
       "      <th>country</th>\n",
       "      <th>store</th>\n",
       "      <th>product</th>\n",
       "      <th>num_sold</th>\n",
       "    </tr>\n",
       "  </thead>\n",
       "  <tbody>\n",
       "    <tr>\n",
       "      <th>0</th>\n",
       "      <td>0</td>\n",
       "      <td>2017-01-01</td>\n",
       "      <td>Argentina</td>\n",
       "      <td>Kaggle Learn</td>\n",
       "      <td>Using LLMs to Improve Your Coding</td>\n",
       "      <td>63</td>\n",
       "    </tr>\n",
       "    <tr>\n",
       "      <th>1</th>\n",
       "      <td>1</td>\n",
       "      <td>2017-01-01</td>\n",
       "      <td>Argentina</td>\n",
       "      <td>Kaggle Learn</td>\n",
       "      <td>Using LLMs to Train More LLMs</td>\n",
       "      <td>66</td>\n",
       "    </tr>\n",
       "    <tr>\n",
       "      <th>2</th>\n",
       "      <td>2</td>\n",
       "      <td>2017-01-01</td>\n",
       "      <td>Argentina</td>\n",
       "      <td>Kaggle Learn</td>\n",
       "      <td>Using LLMs to Win Friends and Influence People</td>\n",
       "      <td>9</td>\n",
       "    </tr>\n",
       "    <tr>\n",
       "      <th>3</th>\n",
       "      <td>3</td>\n",
       "      <td>2017-01-01</td>\n",
       "      <td>Argentina</td>\n",
       "      <td>Kaggle Learn</td>\n",
       "      <td>Using LLMs to Win More Kaggle Competitions</td>\n",
       "      <td>59</td>\n",
       "    </tr>\n",
       "    <tr>\n",
       "      <th>4</th>\n",
       "      <td>4</td>\n",
       "      <td>2017-01-01</td>\n",
       "      <td>Argentina</td>\n",
       "      <td>Kaggle Learn</td>\n",
       "      <td>Using LLMs to Write Better</td>\n",
       "      <td>49</td>\n",
       "    </tr>\n",
       "  </tbody>\n",
       "</table>\n",
       "</div>"
      ],
      "text/plain": [
       "   id       date    country         store  \\\n",
       "0   0 2017-01-01  Argentina  Kaggle Learn   \n",
       "1   1 2017-01-01  Argentina  Kaggle Learn   \n",
       "2   2 2017-01-01  Argentina  Kaggle Learn   \n",
       "3   3 2017-01-01  Argentina  Kaggle Learn   \n",
       "4   4 2017-01-01  Argentina  Kaggle Learn   \n",
       "\n",
       "                                          product  num_sold  \n",
       "0               Using LLMs to Improve Your Coding        63  \n",
       "1                   Using LLMs to Train More LLMs        66  \n",
       "2  Using LLMs to Win Friends and Influence People         9  \n",
       "3      Using LLMs to Win More Kaggle Competitions        59  \n",
       "4                      Using LLMs to Write Better        49  "
      ]
     },
     "execution_count": 8,
     "metadata": {},
     "output_type": "execute_result"
    }
   ],
   "source": [
    "train.head()"
   ]
  },
  {
   "cell_type": "code",
   "execution_count": 9,
   "id": "33e587d0",
   "metadata": {
    "execution": {
     "iopub.execute_input": "2023-07-18T08:48:22.961480Z",
     "iopub.status.busy": "2023-07-18T08:48:22.960194Z",
     "iopub.status.idle": "2023-07-18T08:48:23.107268Z",
     "shell.execute_reply": "2023-07-18T08:48:23.105951Z"
    },
    "papermill": {
     "duration": 0.165868,
     "end_time": "2023-07-18T08:48:23.110465",
     "exception": false,
     "start_time": "2023-07-18T08:48:22.944597",
     "status": "completed"
    },
    "tags": []
   },
   "outputs": [
    {
     "data": {
      "text/plain": [
       "id          0\n",
       "date        0\n",
       "country     0\n",
       "store       0\n",
       "product     0\n",
       "num_sold    0\n",
       "dtype: int64"
      ]
     },
     "execution_count": 9,
     "metadata": {},
     "output_type": "execute_result"
    }
   ],
   "source": [
    "train.isnull().sum()"
   ]
  },
  {
   "cell_type": "code",
   "execution_count": 10,
   "id": "ddd08648",
   "metadata": {
    "execution": {
     "iopub.execute_input": "2023-07-18T08:48:23.144180Z",
     "iopub.status.busy": "2023-07-18T08:48:23.143626Z",
     "iopub.status.idle": "2023-07-18T08:48:23.180216Z",
     "shell.execute_reply": "2023-07-18T08:48:23.178791Z"
    },
    "papermill": {
     "duration": 0.057375,
     "end_time": "2023-07-18T08:48:23.183240",
     "exception": false,
     "start_time": "2023-07-18T08:48:23.125865",
     "status": "completed"
    },
    "tags": []
   },
   "outputs": [
    {
     "data": {
      "text/html": [
       "<div>\n",
       "<style scoped>\n",
       "    .dataframe tbody tr th:only-of-type {\n",
       "        vertical-align: middle;\n",
       "    }\n",
       "\n",
       "    .dataframe tbody tr th {\n",
       "        vertical-align: top;\n",
       "    }\n",
       "\n",
       "    .dataframe thead th {\n",
       "        text-align: right;\n",
       "    }\n",
       "</style>\n",
       "<table border=\"1\" class=\"dataframe\">\n",
       "  <thead>\n",
       "    <tr style=\"text-align: right;\">\n",
       "      <th></th>\n",
       "      <th>id</th>\n",
       "      <th>num_sold</th>\n",
       "    </tr>\n",
       "  </thead>\n",
       "  <tbody>\n",
       "    <tr>\n",
       "      <th>count</th>\n",
       "      <td>136950.00000</td>\n",
       "      <td>136950.000000</td>\n",
       "    </tr>\n",
       "    <tr>\n",
       "      <th>mean</th>\n",
       "      <td>68474.50000</td>\n",
       "      <td>165.522636</td>\n",
       "    </tr>\n",
       "    <tr>\n",
       "      <th>std</th>\n",
       "      <td>39534.20402</td>\n",
       "      <td>183.691575</td>\n",
       "    </tr>\n",
       "    <tr>\n",
       "      <th>min</th>\n",
       "      <td>0.00000</td>\n",
       "      <td>2.000000</td>\n",
       "    </tr>\n",
       "    <tr>\n",
       "      <th>25%</th>\n",
       "      <td>34237.25000</td>\n",
       "      <td>46.000000</td>\n",
       "    </tr>\n",
       "    <tr>\n",
       "      <th>50%</th>\n",
       "      <td>68474.50000</td>\n",
       "      <td>98.000000</td>\n",
       "    </tr>\n",
       "    <tr>\n",
       "      <th>75%</th>\n",
       "      <td>102711.75000</td>\n",
       "      <td>184.000000</td>\n",
       "    </tr>\n",
       "    <tr>\n",
       "      <th>max</th>\n",
       "      <td>136949.00000</td>\n",
       "      <td>1380.000000</td>\n",
       "    </tr>\n",
       "  </tbody>\n",
       "</table>\n",
       "</div>"
      ],
      "text/plain": [
       "                 id       num_sold\n",
       "count  136950.00000  136950.000000\n",
       "mean    68474.50000     165.522636\n",
       "std     39534.20402     183.691575\n",
       "min         0.00000       2.000000\n",
       "25%     34237.25000      46.000000\n",
       "50%     68474.50000      98.000000\n",
       "75%    102711.75000     184.000000\n",
       "max    136949.00000    1380.000000"
      ]
     },
     "execution_count": 10,
     "metadata": {},
     "output_type": "execute_result"
    }
   ],
   "source": [
    "train.describe()"
   ]
  },
  {
   "cell_type": "code",
   "execution_count": 11,
   "id": "09074c16",
   "metadata": {
    "execution": {
     "iopub.execute_input": "2023-07-18T08:48:23.217142Z",
     "iopub.status.busy": "2023-07-18T08:48:23.216566Z",
     "iopub.status.idle": "2023-07-18T08:48:23.277667Z",
     "shell.execute_reply": "2023-07-18T08:48:23.275081Z"
    },
    "papermill": {
     "duration": 0.081683,
     "end_time": "2023-07-18T08:48:23.280750",
     "exception": false,
     "start_time": "2023-07-18T08:48:23.199067",
     "status": "completed"
    },
    "tags": []
   },
   "outputs": [
    {
     "name": "stdout",
     "output_type": "stream",
     "text": [
      "id has 136950 values\n",
      "date has 1826 values\n",
      "country has 5 values\n",
      "store has 3 values\n",
      "product has 5 values\n",
      "num_sold has 1028 values\n"
     ]
    }
   ],
   "source": [
    "for col in train.columns:\n",
    "    print(f\"{col} has {len(train[col].unique())} values\")"
   ]
  },
  {
   "cell_type": "code",
   "execution_count": 12,
   "id": "8e70cd18",
   "metadata": {
    "execution": {
     "iopub.execute_input": "2023-07-18T08:48:23.315725Z",
     "iopub.status.busy": "2023-07-18T08:48:23.314943Z",
     "iopub.status.idle": "2023-07-18T08:48:23.336271Z",
     "shell.execute_reply": "2023-07-18T08:48:23.335028Z"
    },
    "papermill": {
     "duration": 0.041867,
     "end_time": "2023-07-18T08:48:23.339689",
     "exception": false,
     "start_time": "2023-07-18T08:48:23.297822",
     "status": "completed"
    },
    "tags": []
   },
   "outputs": [],
   "source": [
    "products= train['product'].unique()"
   ]
  },
  {
   "cell_type": "code",
   "execution_count": 13,
   "id": "f52890ad",
   "metadata": {
    "execution": {
     "iopub.execute_input": "2023-07-18T08:48:23.372052Z",
     "iopub.status.busy": "2023-07-18T08:48:23.371061Z",
     "iopub.status.idle": "2023-07-18T08:48:23.380053Z",
     "shell.execute_reply": "2023-07-18T08:48:23.378582Z"
    },
    "papermill": {
     "duration": 0.028243,
     "end_time": "2023-07-18T08:48:23.382785",
     "exception": false,
     "start_time": "2023-07-18T08:48:23.354542",
     "status": "completed"
    },
    "tags": []
   },
   "outputs": [
    {
     "data": {
      "text/plain": [
       "array(['Using LLMs to Improve Your Coding',\n",
       "       'Using LLMs to Train More LLMs',\n",
       "       'Using LLMs to Win Friends and Influence People',\n",
       "       'Using LLMs to Win More Kaggle Competitions',\n",
       "       'Using LLMs to Write Better'], dtype=object)"
      ]
     },
     "execution_count": 13,
     "metadata": {},
     "output_type": "execute_result"
    }
   ],
   "source": [
    "products"
   ]
  },
  {
   "cell_type": "code",
   "execution_count": 14,
   "id": "660b8cab",
   "metadata": {
    "execution": {
     "iopub.execute_input": "2023-07-18T08:48:23.418230Z",
     "iopub.status.busy": "2023-07-18T08:48:23.417424Z",
     "iopub.status.idle": "2023-07-18T08:48:23.426166Z",
     "shell.execute_reply": "2023-07-18T08:48:23.424893Z"
    },
    "papermill": {
     "duration": 0.029568,
     "end_time": "2023-07-18T08:48:23.428853",
     "exception": false,
     "start_time": "2023-07-18T08:48:23.399285",
     "status": "completed"
    },
    "tags": []
   },
   "outputs": [
    {
     "data": {
      "text/plain": [
       "5"
      ]
     },
     "execution_count": 14,
     "metadata": {},
     "output_type": "execute_result"
    }
   ],
   "source": [
    "len(products)"
   ]
  },
  {
   "cell_type": "code",
   "execution_count": 15,
   "id": "98a40568",
   "metadata": {
    "execution": {
     "iopub.execute_input": "2023-07-18T08:48:23.463754Z",
     "iopub.status.busy": "2023-07-18T08:48:23.463266Z",
     "iopub.status.idle": "2023-07-18T08:48:26.051611Z",
     "shell.execute_reply": "2023-07-18T08:48:26.050430Z"
    },
    "papermill": {
     "duration": 2.609543,
     "end_time": "2023-07-18T08:48:26.054509",
     "exception": false,
     "start_time": "2023-07-18T08:48:23.444966",
     "status": "completed"
    },
    "tags": []
   },
   "outputs": [
    {
     "data": {
      "image/png": "[encoded data removed]",
      "text/plain": [
       "<Figure size 640x480 with 1 Axes>"
      ]
     },
     "metadata": {},
     "output_type": "display_data"
    }
   ],
   "source": [
    "for i in products:\n",
    "    train_1 = train[train['product']==i]\n",
    "    #plt.subplot(len(products),1,j)\n",
    "    #plt.subplot(1,2,len(i))\n",
    "    plt.plot(train_1['date'],train_1['num_sold'])\n",
    "    # Giving title to the chart using plt.title\n",
    "    plt.title(f\"Product '{i}' sold by Date\")\n",
    "    # rotating the x-axis tick labels at 30degree\n",
    "    # towards right\n",
    "    plt.xticks(rotation=30, ha='right')\n",
    " \n",
    " # Providing x and y label to the chart\n",
    "    plt.xlabel('Date')\n",
    "    plt.ylabel('Products sold')\n",
    "    \n",
    "    "
   ]
  },
  {
   "cell_type": "code",
   "execution_count": 16,
   "id": "592c712a",
   "metadata": {
    "execution": {
     "iopub.execute_input": "2023-07-18T08:48:26.094168Z",
     "iopub.status.busy": "2023-07-18T08:48:26.093338Z",
     "iopub.status.idle": "2023-07-18T08:48:26.103992Z",
     "shell.execute_reply": "2023-07-18T08:48:26.102608Z"
    },
    "papermill": {
     "duration": 0.033395,
     "end_time": "2023-07-18T08:48:26.106898",
     "exception": false,
     "start_time": "2023-07-18T08:48:26.073503",
     "status": "completed"
    },
    "tags": []
   },
   "outputs": [
    {
     "data": {
      "text/plain": [
       "Timestamp('2021-12-31 00:00:00')"
      ]
     },
     "execution_count": 16,
     "metadata": {},
     "output_type": "execute_result"
    }
   ],
   "source": [
    "train['date'].max()"
   ]
  },
  {
   "cell_type": "code",
   "execution_count": 17,
   "id": "dec5b411",
   "metadata": {
    "execution": {
     "iopub.execute_input": "2023-07-18T08:48:26.145144Z",
     "iopub.status.busy": "2023-07-18T08:48:26.144656Z",
     "iopub.status.idle": "2023-07-18T08:48:26.155875Z",
     "shell.execute_reply": "2023-07-18T08:48:26.154290Z"
    },
    "papermill": {
     "duration": 0.034375,
     "end_time": "2023-07-18T08:48:26.158660",
     "exception": false,
     "start_time": "2023-07-18T08:48:26.124285",
     "status": "completed"
    },
    "tags": []
   },
   "outputs": [
    {
     "data": {
      "text/plain": [
       "Timestamp('2017-01-01 00:00:00')"
      ]
     },
     "execution_count": 17,
     "metadata": {},
     "output_type": "execute_result"
    }
   ],
   "source": [
    "train['date'].min()"
   ]
  },
  {
   "cell_type": "code",
   "execution_count": 18,
   "id": "2117272f",
   "metadata": {
    "execution": {
     "iopub.execute_input": "2023-07-18T08:48:26.195714Z",
     "iopub.status.busy": "2023-07-18T08:48:26.195216Z",
     "iopub.status.idle": "2023-07-18T08:48:26.203518Z",
     "shell.execute_reply": "2023-07-18T08:48:26.201642Z"
    },
    "papermill": {
     "duration": 0.031061,
     "end_time": "2023-07-18T08:48:26.206720",
     "exception": false,
     "start_time": "2023-07-18T08:48:26.175659",
     "status": "completed"
    },
    "tags": []
   },
   "outputs": [],
   "source": [
    "def new_column(df):\n",
    "   df['day']=df['date'].dt.day\n",
    "   df['month']=df['date'].dt.month\n",
    "   df['year']=df['date'].dt.year\n",
    "   df=df.drop(['date'],axis=1)\n",
    "   return df"
   ]
  },
  {
   "cell_type": "code",
   "execution_count": 19,
   "id": "6f4abcc4",
   "metadata": {
    "execution": {
     "iopub.execute_input": "2023-07-18T08:48:26.245336Z",
     "iopub.status.busy": "2023-07-18T08:48:26.244851Z",
     "iopub.status.idle": "2023-07-18T08:48:26.306905Z",
     "shell.execute_reply": "2023-07-18T08:48:26.305160Z"
    },
    "papermill": {
     "duration": 0.085813,
     "end_time": "2023-07-18T08:48:26.310331",
     "exception": false,
     "start_time": "2023-07-18T08:48:26.224518",
     "status": "completed"
    },
    "tags": []
   },
   "outputs": [],
   "source": [
    "train= new_column(train)"
   ]
  },
  {
   "cell_type": "code",
   "execution_count": 20,
   "id": "68766b58",
   "metadata": {
    "execution": {
     "iopub.execute_input": "2023-07-18T08:48:26.347186Z",
     "iopub.status.busy": "2023-07-18T08:48:26.346762Z",
     "iopub.status.idle": "2023-07-18T08:48:26.364930Z",
     "shell.execute_reply": "2023-07-18T08:48:26.363138Z"
    },
    "papermill": {
     "duration": 0.040614,
     "end_time": "2023-07-18T08:48:26.368068",
     "exception": false,
     "start_time": "2023-07-18T08:48:26.327454",
     "status": "completed"
    },
    "tags": []
   },
   "outputs": [
    {
     "data": {
      "text/html": [
       "<div>\n",
       "<style scoped>\n",
       "    .dataframe tbody tr th:only-of-type {\n",
       "        vertical-align: middle;\n",
       "    }\n",
       "\n",
       "    .dataframe tbody tr th {\n",
       "        vertical-align: top;\n",
       "    }\n",
       "\n",
       "    .dataframe thead th {\n",
       "        text-align: right;\n",
       "    }\n",
       "</style>\n",
       "<table border=\"1\" class=\"dataframe\">\n",
       "  <thead>\n",
       "    <tr style=\"text-align: right;\">\n",
       "      <th></th>\n",
       "      <th>id</th>\n",
       "      <th>country</th>\n",
       "      <th>store</th>\n",
       "      <th>product</th>\n",
       "      <th>num_sold</th>\n",
       "      <th>day</th>\n",
       "      <th>month</th>\n",
       "      <th>year</th>\n",
       "    </tr>\n",
       "  </thead>\n",
       "  <tbody>\n",
       "    <tr>\n",
       "      <th>0</th>\n",
       "      <td>0</td>\n",
       "      <td>Argentina</td>\n",
       "      <td>Kaggle Learn</td>\n",
       "      <td>Using LLMs to Improve Your Coding</td>\n",
       "      <td>63</td>\n",
       "      <td>1</td>\n",
       "      <td>1</td>\n",
       "      <td>2017</td>\n",
       "    </tr>\n",
       "    <tr>\n",
       "      <th>1</th>\n",
       "      <td>1</td>\n",
       "      <td>Argentina</td>\n",
       "      <td>Kaggle Learn</td>\n",
       "      <td>Using LLMs to Train More LLMs</td>\n",
       "      <td>66</td>\n",
       "      <td>1</td>\n",
       "      <td>1</td>\n",
       "      <td>2017</td>\n",
       "    </tr>\n",
       "    <tr>\n",
       "      <th>2</th>\n",
       "      <td>2</td>\n",
       "      <td>Argentina</td>\n",
       "      <td>Kaggle Learn</td>\n",
       "      <td>Using LLMs to Win Friends and Influence People</td>\n",
       "      <td>9</td>\n",
       "      <td>1</td>\n",
       "      <td>1</td>\n",
       "      <td>2017</td>\n",
       "    </tr>\n",
       "    <tr>\n",
       "      <th>3</th>\n",
       "      <td>3</td>\n",
       "      <td>Argentina</td>\n",
       "      <td>Kaggle Learn</td>\n",
       "      <td>Using LLMs to Win More Kaggle Competitions</td>\n",
       "      <td>59</td>\n",
       "      <td>1</td>\n",
       "      <td>1</td>\n",
       "      <td>2017</td>\n",
       "    </tr>\n",
       "    <tr>\n",
       "      <th>4</th>\n",
       "      <td>4</td>\n",
       "      <td>Argentina</td>\n",
       "      <td>Kaggle Learn</td>\n",
       "      <td>Using LLMs to Write Better</td>\n",
       "      <td>49</td>\n",
       "      <td>1</td>\n",
       "      <td>1</td>\n",
       "      <td>2017</td>\n",
       "    </tr>\n",
       "  </tbody>\n",
       "</table>\n",
       "</div>"
      ],
      "text/plain": [
       "   id    country         store  \\\n",
       "0   0  Argentina  Kaggle Learn   \n",
       "1   1  Argentina  Kaggle Learn   \n",
       "2   2  Argentina  Kaggle Learn   \n",
       "3   3  Argentina  Kaggle Learn   \n",
       "4   4  Argentina  Kaggle Learn   \n",
       "\n",
       "                                          product  num_sold  day  month  year  \n",
       "0               Using LLMs to Improve Your Coding        63    1      1  2017  \n",
       "1                   Using LLMs to Train More LLMs        66    1      1  2017  \n",
       "2  Using LLMs to Win Friends and Influence People         9    1      1  2017  \n",
       "3      Using LLMs to Win More Kaggle Competitions        59    1      1  2017  \n",
       "4                      Using LLMs to Write Better        49    1      1  2017  "
      ]
     },
     "execution_count": 20,
     "metadata": {},
     "output_type": "execute_result"
    }
   ],
   "source": [
    "train.head()"
   ]
  },
  {
   "cell_type": "code",
   "execution_count": 21,
   "id": "c0922406",
   "metadata": {
    "execution": {
     "iopub.execute_input": "2023-07-18T08:48:26.405098Z",
     "iopub.status.busy": "2023-07-18T08:48:26.404678Z",
     "iopub.status.idle": "2023-07-18T08:48:26.410515Z",
     "shell.execute_reply": "2023-07-18T08:48:26.408809Z"
    },
    "papermill": {
     "duration": 0.02909,
     "end_time": "2023-07-18T08:48:26.414642",
     "exception": false,
     "start_time": "2023-07-18T08:48:26.385552",
     "status": "completed"
    },
    "tags": []
   },
   "outputs": [],
   "source": [
    "#countries=train['country'].unique()"
   ]
  },
  {
   "cell_type": "code",
   "execution_count": 22,
   "id": "4a457ecc",
   "metadata": {
    "execution": {
     "iopub.execute_input": "2023-07-18T08:48:26.455538Z",
     "iopub.status.busy": "2023-07-18T08:48:26.455056Z",
     "iopub.status.idle": "2023-07-18T08:48:26.460890Z",
     "shell.execute_reply": "2023-07-18T08:48:26.459473Z"
    },
    "papermill": {
     "duration": 0.028842,
     "end_time": "2023-07-18T08:48:26.463771",
     "exception": false,
     "start_time": "2023-07-18T08:48:26.434929",
     "status": "completed"
    },
    "tags": []
   },
   "outputs": [],
   "source": [
    "#stores=train['store'].unique()"
   ]
  },
  {
   "cell_type": "code",
   "execution_count": 23,
   "id": "476317c4",
   "metadata": {
    "execution": {
     "iopub.execute_input": "2023-07-18T08:48:26.503616Z",
     "iopub.status.busy": "2023-07-18T08:48:26.502211Z",
     "iopub.status.idle": "2023-07-18T08:48:26.524238Z",
     "shell.execute_reply": "2023-07-18T08:48:26.522615Z"
    },
    "papermill": {
     "duration": 0.045985,
     "end_time": "2023-07-18T08:48:26.527538",
     "exception": false,
     "start_time": "2023-07-18T08:48:26.481553",
     "status": "completed"
    },
    "tags": []
   },
   "outputs": [],
   "source": [
    "X= train.drop(['num_sold'],axis=1)\n",
    "y= train[['num_sold']]"
   ]
  },
  {
   "cell_type": "code",
   "execution_count": 24,
   "id": "6dda7859",
   "metadata": {
    "execution": {
     "iopub.execute_input": "2023-07-18T08:48:26.565125Z",
     "iopub.status.busy": "2023-07-18T08:48:26.564687Z",
     "iopub.status.idle": "2023-07-18T08:48:26.997469Z",
     "shell.execute_reply": "2023-07-18T08:48:26.995731Z"
    },
    "papermill": {
     "duration": 0.455812,
     "end_time": "2023-07-18T08:48:27.001059",
     "exception": false,
     "start_time": "2023-07-18T08:48:26.545247",
     "status": "completed"
    },
    "tags": []
   },
   "outputs": [],
   "source": [
    "cbe= CatBoostEncoder(cols = ['country', 'store', 'product']).fit(X,y)\n",
    "X= cbe.transform(X)\n"
   ]
  },
  {
   "cell_type": "code",
   "execution_count": 25,
   "id": "04a35a96",
   "metadata": {
    "execution": {
     "iopub.execute_input": "2023-07-18T08:48:27.037441Z",
     "iopub.status.busy": "2023-07-18T08:48:27.036930Z",
     "iopub.status.idle": "2023-07-18T08:48:27.053947Z",
     "shell.execute_reply": "2023-07-18T08:48:27.051955Z"
    },
    "papermill": {
     "duration": 0.038997,
     "end_time": "2023-07-18T08:48:27.057995",
     "exception": false,
     "start_time": "2023-07-18T08:48:27.018998",
     "status": "completed"
    },
    "tags": []
   },
   "outputs": [],
   "source": [
    "test['date']=pd.to_datetime(test['date'])"
   ]
  },
  {
   "cell_type": "code",
   "execution_count": 26,
   "id": "9eed9528",
   "metadata": {
    "execution": {
     "iopub.execute_input": "2023-07-18T08:48:27.096536Z",
     "iopub.status.busy": "2023-07-18T08:48:27.096082Z",
     "iopub.status.idle": "2023-07-18T08:48:27.114633Z",
     "shell.execute_reply": "2023-07-18T08:48:27.113103Z"
    },
    "papermill": {
     "duration": 0.040965,
     "end_time": "2023-07-18T08:48:27.117628",
     "exception": false,
     "start_time": "2023-07-18T08:48:27.076663",
     "status": "completed"
    },
    "tags": []
   },
   "outputs": [],
   "source": [
    "test=new_column(test)"
   ]
  },
  {
   "cell_type": "code",
   "execution_count": 27,
   "id": "fceb6e85",
   "metadata": {
    "execution": {
     "iopub.execute_input": "2023-07-18T08:48:27.154706Z",
     "iopub.status.busy": "2023-07-18T08:48:27.153897Z",
     "iopub.status.idle": "2023-07-18T08:48:27.209880Z",
     "shell.execute_reply": "2023-07-18T08:48:27.208156Z"
    },
    "papermill": {
     "duration": 0.078797,
     "end_time": "2023-07-18T08:48:27.213125",
     "exception": false,
     "start_time": "2023-07-18T08:48:27.134328",
     "status": "completed"
    },
    "tags": []
   },
   "outputs": [],
   "source": [
    "test=cbe.transform(test)"
   ]
  },
  {
   "cell_type": "code",
   "execution_count": 28,
   "id": "1abe3fef",
   "metadata": {
    "execution": {
     "iopub.execute_input": "2023-07-18T08:48:27.251276Z",
     "iopub.status.busy": "2023-07-18T08:48:27.250759Z",
     "iopub.status.idle": "2023-07-18T08:48:27.262745Z",
     "shell.execute_reply": "2023-07-18T08:48:27.261410Z"
    },
    "papermill": {
     "duration": 0.035538,
     "end_time": "2023-07-18T08:48:27.265556",
     "exception": false,
     "start_time": "2023-07-18T08:48:27.230018",
     "status": "completed"
    },
    "tags": []
   },
   "outputs": [],
   "source": [
    "def hgbr_objective(trial):\n",
    "    # Use the trial object to suggest a value for alpha\n",
    "    # Optuna will come up with a suggested value based on the scores of previous trials\n",
    "    _alpha = trial.suggest_float(\"quantile\", 0.1, 1)\n",
    "    _beta = trial.suggest_float(\"learning_rate\", 0.1, 20)\n",
    "    _gamma = trial.suggest_int(\"max_iter\", 1, 100)\n",
    "    _delta= trial.suggest_int(\"max_leaf_nodes\", 2, 100)\n",
    "    _theta= trial.suggest_int(\"max_depth\", 1, 8)\n",
    "    # Define the model with the suggested alpha\n",
    "    hgbr = HistGradientBoostingRegressor(quantile=_alpha,learning_rate=_beta,max_iter=_gamma,\n",
    "                                         interaction_cst=\"pairwise\",warm_start=1,l2_regularization=1,\n",
    "                                         max_leaf_nodes= _delta,max_depth=_theta,random_state=42)\n",
    "    # Calculate the score with 10-folds cross validation, which returns a list of scores\n",
    "    # scoring is defined as negative RMSE as it is what this Kaggle competition uses to evaluate the result\n",
    "    scores = cross_val_score(hgbr, X, y, \n",
    "                             cv=KFold(n_splits=10,\n",
    "                                      shuffle=True,\n",
    "                                      random_state=42),\n",
    "                             scoring=\"neg_root_mean_squared_error\"\n",
    "                             #,error_score='raise'\n",
    "                            )\n",
    "    # Return the mean of 10 scores\n",
    "    return scores.mean()"
   ]
  },
  {
   "cell_type": "code",
   "execution_count": 29,
   "id": "ea84cdcf",
   "metadata": {
    "execution": {
     "iopub.execute_input": "2023-07-18T08:48:27.300984Z",
     "iopub.status.busy": "2023-07-18T08:48:27.300570Z",
     "iopub.status.idle": "2023-07-18T08:48:27.310252Z",
     "shell.execute_reply": "2023-07-18T08:48:27.308824Z"
    },
    "papermill": {
     "duration": 0.030551,
     "end_time": "2023-07-18T08:48:27.313069",
     "exception": false,
     "start_time": "2023-07-18T08:48:27.282518",
     "status": "completed"
    },
    "tags": []
   },
   "outputs": [
    {
     "name": "stderr",
     "output_type": "stream",
     "text": [
      "[I 2023-07-18 08:48:27,302] A new study created in memory with name: no-name-abca9286-db1a-4b54-bca1-1604bfc005fe\n"
     ]
    }
   ],
   "source": [
    "# Create Study object\n",
    "study = optuna.create_study(direction=\"maximize\")"
   ]
  },
  {
   "cell_type": "code",
   "execution_count": 30,
   "id": "b6dfdced",
   "metadata": {
    "execution": {
     "iopub.execute_input": "2023-07-18T08:48:27.348835Z",
     "iopub.status.busy": "2023-07-18T08:48:27.348404Z",
     "iopub.status.idle": "2023-07-18T09:00:52.962819Z",
     "shell.execute_reply": "2023-07-18T09:00:52.961777Z"
    },
    "papermill": {
     "duration": 745.636377,
     "end_time": "2023-07-18T09:00:52.966239",
     "exception": false,
     "start_time": "2023-07-18T08:48:27.329862",
     "status": "completed"
    },
    "tags": []
   },
   "outputs": [
    {
     "name": "stderr",
     "output_type": "stream",
     "text": [
      "[I 2023-07-18 08:48:29,434] Trial 0 finished with value: -697604535.0332005 and parameters: {'quantile': 0.47847263637215187, 'learning_rate': 5.633905547292779, 'max_iter': 80, 'max_leaf_nodes': 29, 'max_depth': 7}. Best is trial 0 with value: -697604535.0332005.\n",
      "[I 2023-07-18 08:48:31,448] Trial 1 finished with value: -673525848669.9641 and parameters: {'quantile': 0.3706723439237156, 'learning_rate': 10.213308861416435, 'max_iter': 20, 'max_leaf_nodes': 67, 'max_depth': 5}. Best is trial 0 with value: -697604535.0332005.\n",
      "[I 2023-07-18 08:48:33,137] Trial 2 finished with value: -755483.3825685414 and parameters: {'quantile': 0.12617892662462618, 'learning_rate': 6.479577711193632, 'max_iter': 5, 'max_leaf_nodes': 94, 'max_depth': 7}. Best is trial 2 with value: -755483.3825685414.\n",
      "[I 2023-07-18 08:48:35,362] Trial 3 finished with value: -11564523.66941244 and parameters: {'quantile': 0.5076427190733741, 'learning_rate': 4.075872018309004, 'max_iter': 81, 'max_leaf_nodes': 30, 'max_depth': 3}. Best is trial 2 with value: -755483.3825685414.\n",
      "[I 2023-07-18 08:48:37,907] Trial 4 finished with value: -537572444519681.2 and parameters: {'quantile': 0.4558853274522917, 'learning_rate': 18.97301440921251, 'max_iter': 81, 'max_leaf_nodes': 54, 'max_depth': 6}. Best is trial 2 with value: -755483.3825685414.\n",
      "[I 2023-07-18 08:48:39,604] Trial 5 finished with value: -1589272645147.3408 and parameters: {'quantile': 0.22106194808148086, 'learning_rate': 11.040795546884313, 'max_iter': 96, 'max_leaf_nodes': 36, 'max_depth': 3}. Best is trial 2 with value: -755483.3825685414.\n",
      "[I 2023-07-18 08:48:41,679] Trial 6 finished with value: -18337461975089.758 and parameters: {'quantile': 0.7326936452550936, 'learning_rate': 13.8207196980179, 'max_iter': 33, 'max_leaf_nodes': 86, 'max_depth': 8}. Best is trial 2 with value: -755483.3825685414.\n",
      "[I 2023-07-18 08:48:43,709] Trial 7 finished with value: -747617609532787.4 and parameters: {'quantile': 0.3037204615093071, 'learning_rate': 19.575695084941902, 'max_iter': 93, 'max_leaf_nodes': 39, 'max_depth': 8}. Best is trial 2 with value: -755483.3825685414.\n",
      "[I 2023-07-18 08:48:45,565] Trial 8 finished with value: -13206357.815317862 and parameters: {'quantile': 0.48135680573250095, 'learning_rate': 4.116409533518417, 'max_iter': 74, 'max_leaf_nodes': 10, 'max_depth': 4}. Best is trial 2 with value: -755483.3825685414.\n",
      "[I 2023-07-18 08:48:47,435] Trial 9 finished with value: -2019057957523.9614 and parameters: {'quantile': 0.7209449812618408, 'learning_rate': 11.28241490092503, 'max_iter': 90, 'max_leaf_nodes': 18, 'max_depth': 4}. Best is trial 2 with value: -755483.3825685414.\n",
      "[I 2023-07-18 08:48:48,831] Trial 10 finished with value: -122.35991476223771 and parameters: {'quantile': 0.12268228756738586, 'learning_rate': 0.2926610271267718, 'max_iter': 6, 'max_leaf_nodes': 99, 'max_depth': 1}. Best is trial 10 with value: -122.35991476223771.\n",
      "[I 2023-07-18 08:48:50,069] Trial 11 finished with value: -155.16368053346952 and parameters: {'quantile': 0.11069697635694054, 'learning_rate': 0.3780536307482252, 'max_iter': 1, 'max_leaf_nodes': 97, 'max_depth': 1}. Best is trial 10 with value: -122.35991476223771.\n",
      "[I 2023-07-18 08:48:51,417] Trial 12 finished with value: -155.96715518772453 and parameters: {'quantile': 0.10866943035382473, 'learning_rate': 0.10747607412325305, 'max_iter': 4, 'max_leaf_nodes': 78, 'max_depth': 1}. Best is trial 10 with value: -122.35991476223771.\n",
      "[I 2023-07-18 08:48:54,075] Trial 13 finished with value: -91.64720030400068 and parameters: {'quantile': 0.2334575101464662, 'learning_rate': 0.3293319061748541, 'max_iter': 39, 'max_leaf_nodes': 95, 'max_depth': 1}. Best is trial 13 with value: -91.64720030400068.\n",
      "[I 2023-07-18 08:48:57,763] Trial 14 finished with value: -50.254784116613344 and parameters: {'quantile': 0.2665199382218477, 'learning_rate': 1.844251754998276, 'max_iter': 50, 'max_leaf_nodes': 71, 'max_depth': 2}. Best is trial 14 with value: -50.254784116613344.\n",
      "[I 2023-07-18 08:48:59,518] Trial 15 finished with value: -129851.68281665328 and parameters: {'quantile': 0.28641324303639176, 'learning_rate': 2.966506492581871, 'max_iter': 56, 'max_leaf_nodes': 71, 'max_depth': 2}. Best is trial 14 with value: -50.254784116613344.\n",
      "[I 2023-07-18 08:49:01,262] Trial 16 finished with value: -12271685284.828053 and parameters: {'quantile': 0.956232414434597, 'learning_rate': 7.183511932155004, 'max_iter': 48, 'max_leaf_nodes': 56, 'max_depth': 2}. Best is trial 14 with value: -50.254784116613344.\n",
      "[I 2023-07-18 08:49:03,002] Trial 17 finished with value: -4484.9719787419 and parameters: {'quantile': 0.22936263866062265, 'learning_rate': 2.4044890597047415, 'max_iter': 52, 'max_leaf_nodes': 84, 'max_depth': 2}. Best is trial 14 with value: -50.254784116613344.\n",
      "[I 2023-07-18 08:49:04,767] Trial 18 finished with value: -284.69955264222983 and parameters: {'quantile': 0.3425970255151268, 'learning_rate': 2.0571320150562613, 'max_iter': 37, 'max_leaf_nodes': 68, 'max_depth': 3}. Best is trial 14 with value: -50.254784116613344.\n",
      "[I 2023-07-18 08:49:06,547] Trial 19 finished with value: -39792785977.17076 and parameters: {'quantile': 0.39797147168398916, 'learning_rate': 7.955444906708331, 'max_iter': 63, 'max_leaf_nodes': 62, 'max_depth': 2}. Best is trial 14 with value: -50.254784116613344.\n",
      "[I 2023-07-18 08:49:09,507] Trial 20 finished with value: -99779456.85652754 and parameters: {'quantile': 0.22129745248975016, 'learning_rate': 4.814986200102895, 'max_iter': 36, 'max_leaf_nodes': 82, 'max_depth': 5}. Best is trial 14 with value: -50.254784116613344.\n",
      "[I 2023-07-18 08:49:11,652] Trial 21 finished with value: -91.6242896313843 and parameters: {'quantile': 0.19490984835113756, 'learning_rate': 0.5426451862877248, 'max_iter': 23, 'max_leaf_nodes': 100, 'max_depth': 1}. Best is trial 14 with value: -50.254784116613344.\n",
      "[I 2023-07-18 08:49:13,287] Trial 22 finished with value: -260.254648014519 and parameters: {'quantile': 0.21899863732726052, 'learning_rate': 2.0591983115067514, 'max_iter': 26, 'max_leaf_nodes': 89, 'max_depth': 1}. Best is trial 14 with value: -50.254784116613344.\n",
      "[I 2023-07-18 08:49:15,128] Trial 23 finished with value: -92.57666988487134 and parameters: {'quantile': 0.2919972325215018, 'learning_rate': 1.4220510305349203, 'max_iter': 16, 'max_leaf_nodes': 74, 'max_depth': 1}. Best is trial 14 with value: -50.254784116613344.\n",
      "[I 2023-07-18 08:49:16,797] Trial 24 finished with value: -1093631.207878098 and parameters: {'quantile': 0.37457182942222156, 'learning_rate': 3.4335264550134514, 'max_iter': 45, 'max_leaf_nodes': 91, 'max_depth': 2}. Best is trial 14 with value: -50.254784116613344.\n",
      "[I 2023-07-18 08:49:21,657] Trial 25 finished with value: -38.95781171545589 and parameters: {'quantile': 0.17764654127610424, 'learning_rate': 1.5105547809132847, 'max_iter': 63, 'max_leaf_nodes': 100, 'max_depth': 3}. Best is trial 25 with value: -38.95781171545589.\n",
      "[I 2023-07-18 08:49:23,575] Trial 26 finished with value: -265345781.33631143 and parameters: {'quantile': 0.17709436411111906, 'learning_rate': 5.207594827485776, 'max_iter': 66, 'max_leaf_nodes': 100, 'max_depth': 3}. Best is trial 25 with value: -38.95781171545589.\n",
      "[I 2023-07-18 08:49:25,652] Trial 27 finished with value: -829730.4987085636 and parameters: {'quantile': 0.17020713194905743, 'learning_rate': 3.3631503143019543, 'max_iter': 61, 'max_leaf_nodes': 43, 'max_depth': 4}. Best is trial 25 with value: -38.95781171545589.\n",
      "[I 2023-07-18 08:49:30,851] Trial 28 finished with value: -38.2941439274039 and parameters: {'quantile': 0.2750220621785505, 'learning_rate': 1.2927220707024696, 'max_iter': 69, 'max_leaf_nodes': 79, 'max_depth': 3}. Best is trial 28 with value: -38.2941439274039.\n",
      "[I 2023-07-18 08:49:32,742] Trial 29 finished with value: -852227227.5221968 and parameters: {'quantile': 0.28809977368883527, 'learning_rate': 5.7283258545771, 'max_iter': 72, 'max_leaf_nodes': 77, 'max_depth': 3}. Best is trial 28 with value: -38.2941439274039.\n",
      "[I 2023-07-18 08:49:34,739] Trial 30 finished with value: -1185.4501303151171 and parameters: {'quantile': 0.4454212962896722, 'learning_rate': 2.227010710762492, 'max_iter': 72, 'max_leaf_nodes': 61, 'max_depth': 4}. Best is trial 28 with value: -38.2941439274039.\n",
      "[I 2023-07-18 08:49:39,634] Trial 31 finished with value: -41.88398669792871 and parameters: {'quantile': 0.18452740183340993, 'learning_rate': 1.0780400075828085, 'max_iter': 56, 'max_leaf_nodes': 82, 'max_depth': 2}. Best is trial 28 with value: -38.2941439274039.\n",
      "[I 2023-07-18 08:49:43,455] Trial 32 finished with value: -49.426480630022695 and parameters: {'quantile': 0.2712984618711375, 'learning_rate': 1.8410330478239931, 'max_iter': 54, 'max_leaf_nodes': 82, 'max_depth': 2}. Best is trial 28 with value: -38.2941439274039.\n",
      "[I 2023-07-18 08:49:45,589] Trial 33 finished with value: -9830509.775835946 and parameters: {'quantile': 0.16017284306059823, 'learning_rate': 4.025870337889739, 'max_iter': 56, 'max_leaf_nodes': 83, 'max_depth': 5}. Best is trial 28 with value: -38.2941439274039.\n",
      "[I 2023-07-18 08:49:50,795] Trial 34 finished with value: -39.717559961237555 and parameters: {'quantile': 0.3347966483483138, 'learning_rate': 1.6897273255273177, 'max_iter': 67, 'max_leaf_nodes': 90, 'max_depth': 3}. Best is trial 28 with value: -38.2941439274039.\n",
      "[I 2023-07-18 08:49:57,119] Trial 35 finished with value: -38.050077985164386 and parameters: {'quantile': 0.34886245736737864, 'learning_rate': 1.1734063916267758, 'max_iter': 86, 'max_leaf_nodes': 91, 'max_depth': 3}. Best is trial 35 with value: -38.050077985164386.\n",
      "[I 2023-07-18 08:49:58,895] Trial 36 finished with value: -260047.43713573483 and parameters: {'quantile': 0.33402336882369077, 'learning_rate': 3.104580498333762, 'max_iter': 84, 'max_leaf_nodes': 90, 'max_depth': 3}. Best is trial 35 with value: -38.050077985164386.\n",
      "[I 2023-07-18 08:50:00,703] Trial 37 finished with value: -35363227.149304494 and parameters: {'quantile': 0.42165565352179224, 'learning_rate': 4.4396129816314795, 'max_iter': 87, 'max_leaf_nodes': 92, 'max_depth': 3}. Best is trial 35 with value: -38.050077985164386.\n",
      "[I 2023-07-18 08:50:02,836] Trial 38 finished with value: -1431884255.7284627 and parameters: {'quantile': 0.33211132743087546, 'learning_rate': 5.979390599402076, 'max_iter': 76, 'max_leaf_nodes': 88, 'max_depth': 5}. Best is trial 35 with value: -38.050077985164386.\n",
      "[I 2023-07-18 08:50:18,647] Trial 39 finished with value: -36.45758791743119 and parameters: {'quantile': 0.5036099885213225, 'learning_rate': 1.1612200597542497, 'max_iter': 97, 'max_leaf_nodes': 94, 'max_depth': 6}. Best is trial 39 with value: -36.45758791743119.\n",
      "[I 2023-07-18 08:50:33,557] Trial 40 finished with value: -36.77600167423599 and parameters: {'quantile': 0.5116408113404777, 'learning_rate': 1.3293254810239519, 'max_iter': 97, 'max_leaf_nodes': 95, 'max_depth': 6}. Best is trial 39 with value: -36.45758791743119.\n",
      "[I 2023-07-18 08:50:35,728] Trial 41 finished with value: -105362.99322759942 and parameters: {'quantile': 0.5590244508362425, 'learning_rate': 2.9225259407660937, 'max_iter': 96, 'max_leaf_nodes': 95, 'max_depth': 7}. Best is trial 39 with value: -36.45758791743119.\n",
      "[I 2023-07-18 08:50:52,218] Trial 42 finished with value: -36.49293906460868 and parameters: {'quantile': 0.5387545519264092, 'learning_rate': 1.194510021014079, 'max_iter': 99, 'max_leaf_nodes': 95, 'max_depth': 6}. Best is trial 39 with value: -36.45758791743119.\n",
      "[I 2023-07-18 08:51:07,270] Trial 43 finished with value: -36.30544255763313 and parameters: {'quantile': 0.5201647296610779, 'learning_rate': 0.9060206928841614, 'max_iter': 100, 'max_leaf_nodes': 95, 'max_depth': 6}. Best is trial 43 with value: -36.30544255763313.\n",
      "[I 2023-07-18 08:51:09,387] Trial 44 finished with value: -10503908.373856734 and parameters: {'quantile': 0.5269501925755249, 'learning_rate': 4.045984430048296, 'max_iter': 100, 'max_leaf_nodes': 95, 'max_depth': 6}. Best is trial 43 with value: -36.30544255763313.\n",
      "[I 2023-07-18 08:51:22,753] Trial 45 finished with value: -36.56356273644925 and parameters: {'quantile': 0.5834516641884231, 'learning_rate': 0.8455154358028151, 'max_iter': 100, 'max_leaf_nodes': 27, 'max_depth': 6}. Best is trial 43 with value: -36.30544255763313.\n",
      "[I 2023-07-18 08:51:34,834] Trial 46 finished with value: -37.403948767510826 and parameters: {'quantile': 0.5729447038609202, 'learning_rate': 0.31364799902560014, 'max_iter': 99, 'max_leaf_nodes': 25, 'max_depth': 6}. Best is trial 43 with value: -36.30544255763313.\n",
      "[I 2023-07-18 08:51:36,878] Trial 47 finished with value: -4958.115893472879 and parameters: {'quantile': 0.6051788348581192, 'learning_rate': 2.41616310254956, 'max_iter': 91, 'max_leaf_nodes': 11, 'max_depth': 6}. Best is trial 43 with value: -36.30544255763313.\n",
      "[I 2023-07-18 08:51:39,033] Trial 48 finished with value: -4507905.102145171 and parameters: {'quantile': 0.4941341208768655, 'learning_rate': 3.798927806084573, 'max_iter': 94, 'max_leaf_nodes': 42, 'max_depth': 7}. Best is trial 43 with value: -36.30544255763313.\n",
      "[I 2023-07-18 08:51:49,816] Trial 49 finished with value: -41.886669800013486 and parameters: {'quantile': 0.46233585721248754, 'learning_rate': 0.1257072576567677, 'max_iter': 78, 'max_leaf_nodes': 26, 'max_depth': 8}. Best is trial 43 with value: -36.30544255763313.\n",
      "[I 2023-07-18 08:51:51,953] Trial 50 finished with value: -45585.4834038049 and parameters: {'quantile': 0.6136252230336926, 'learning_rate': 2.7680256222893287, 'max_iter': 82, 'max_leaf_nodes': 37, 'max_depth': 6}. Best is trial 43 with value: -36.30544255763313.\n",
      "[I 2023-07-18 08:52:03,740] Trial 51 finished with value: -36.452562822312835 and parameters: {'quantile': 0.5480218593729997, 'learning_rate': 0.915064526765728, 'max_iter': 100, 'max_leaf_nodes': 28, 'max_depth': 6}. Best is trial 43 with value: -36.30544255763313.\n",
      "[I 2023-07-18 08:52:09,107] Trial 52 finished with value: -38.77200075185108 and parameters: {'quantile': 0.5125054004868707, 'learning_rate': 0.961671351686686, 'max_iter': 89, 'max_leaf_nodes': 4, 'max_depth': 7}. Best is trial 43 with value: -36.30544255763313.\n",
      "[I 2023-07-18 08:52:19,786] Trial 53 finished with value: -36.86679268885088 and parameters: {'quantile': 0.4817376007592109, 'learning_rate': 0.8328429141096524, 'max_iter': 96, 'max_leaf_nodes': 19, 'max_depth': 6}. Best is trial 43 with value: -36.30544255763313.\n",
      "[I 2023-07-18 08:52:21,812] Trial 54 finished with value: -9128.402575290878 and parameters: {'quantile': 0.5303566288115084, 'learning_rate': 2.5053883028919013, 'max_iter': 100, 'max_leaf_nodes': 30, 'max_depth': 5}. Best is trial 43 with value: -36.30544255763313.\n",
      "[I 2023-07-18 08:52:33,446] Trial 55 finished with value: -36.47100298986996 and parameters: {'quantile': 0.5811869402335116, 'learning_rate': 0.9312117245836813, 'max_iter': 92, 'max_leaf_nodes': 33, 'max_depth': 6}. Best is trial 43 with value: -36.30544255763313.\n",
      "[I 2023-07-18 08:52:47,245] Trial 56 finished with value: -36.25886054538787 and parameters: {'quantile': 0.6411794109940967, 'learning_rate': 0.7481078696791922, 'max_iter': 92, 'max_leaf_nodes': 48, 'max_depth': 7}. Best is trial 56 with value: -36.25886054538787.\n",
      "[I 2023-07-18 08:52:49,297] Trial 57 finished with value: -111250378.02037875 and parameters: {'quantile': 0.6354056059895395, 'learning_rate': 4.856726553871605, 'max_iter': 91, 'max_leaf_nodes': 55, 'max_depth': 8}. Best is trial 56 with value: -36.25886054538787.\n",
      "[I 2023-07-18 08:53:02,871] Trial 58 finished with value: -40.88713445274245 and parameters: {'quantile': 0.650898492288831, 'learning_rate': 0.13049741894929356, 'max_iter': 93, 'max_leaf_nodes': 46, 'max_depth': 7}. Best is trial 56 with value: -36.25886054538787.\n",
      "[I 2023-07-18 08:53:05,001] Trial 59 finished with value: -686437.675091999 and parameters: {'quantile': 0.53742742700834, 'learning_rate': 3.3187744282069938, 'max_iter': 81, 'max_leaf_nodes': 34, 'max_depth': 7}. Best is trial 56 with value: -36.25886054538787.\n",
      "[I 2023-07-18 08:53:17,940] Trial 60 finished with value: -37.593049382349044 and parameters: {'quantile': 0.5560099480976675, 'learning_rate': 1.7143920741127643, 'max_iter': 87, 'max_leaf_nodes': 47, 'max_depth': 7}. Best is trial 56 with value: -36.25886054538787.\n",
      "[I 2023-07-18 08:53:28,764] Trial 61 finished with value: -36.76552221791729 and parameters: {'quantile': 0.592305235393827, 'learning_rate': 0.7700048238332935, 'max_iter': 94, 'max_leaf_nodes': 22, 'max_depth': 6}. Best is trial 56 with value: -36.25886054538787.\n",
      "[I 2023-07-18 08:53:39,348] Trial 62 finished with value: -36.78311370426585 and parameters: {'quantile': 0.5690353224895225, 'learning_rate': 0.8519710787027341, 'max_iter': 97, 'max_leaf_nodes': 32, 'max_depth': 5}. Best is trial 56 with value: -36.25886054538787.\n",
      "[I 2023-07-18 08:53:41,519] Trial 63 finished with value: -4621.746457197279 and parameters: {'quantile': 0.6770540130360051, 'learning_rate': 2.406321833189167, 'max_iter': 90, 'max_leaf_nodes': 39, 'max_depth': 6}. Best is trial 56 with value: -36.25886054538787.\n",
      "[I 2023-07-18 08:53:54,662] Trial 64 finished with value: -37.744329731815874 and parameters: {'quantile': 0.5918388786213687, 'learning_rate': 1.7105996893059987, 'max_iter': 100, 'max_leaf_nodes': 28, 'max_depth': 6}. Best is trial 56 with value: -36.25886054538787.\n",
      "[I 2023-07-18 08:54:03,942] Trial 65 finished with value: -42.04650297967696 and parameters: {'quantile': 0.4897518005631449, 'learning_rate': 0.10590634659591658, 'max_iter': 93, 'max_leaf_nodes': 16, 'max_depth': 5}. Best is trial 56 with value: -36.25886054538787.\n",
      "[I 2023-07-18 08:54:06,126] Trial 66 finished with value: -23270.73473736672 and parameters: {'quantile': 0.5454240275907646, 'learning_rate': 2.653060933042222, 'max_iter': 97, 'max_leaf_nodes': 62, 'max_depth': 7}. Best is trial 56 with value: -36.25886054538787.\n",
      "[I 2023-07-18 08:54:18,451] Trial 67 finished with value: -36.502355520043245 and parameters: {'quantile': 0.4682171128325895, 'learning_rate': 0.9426110651975484, 'max_iter': 85, 'max_leaf_nodes': 48, 'max_depth': 6}. Best is trial 56 with value: -36.25886054538787.\n",
      "[I 2023-07-18 08:54:20,683] Trial 68 finished with value: -639.3998431604487 and parameters: {'quantile': 0.4679063308568581, 'learning_rate': 2.1525180174330876, 'max_iter': 83, 'max_leaf_nodes': 48, 'max_depth': 6}. Best is trial 56 with value: -36.25886054538787.\n",
      "[I 2023-07-18 08:54:22,961] Trial 69 finished with value: -977870.2601269592 and parameters: {'quantile': 0.43020672301206564, 'learning_rate': 3.4022913041696463, 'max_iter': 86, 'max_leaf_nodes': 50, 'max_depth': 5}. Best is trial 56 with value: -36.25886054538787.\n",
      "[I 2023-07-18 08:54:40,917] Trial 70 finished with value: -36.584244579855714 and parameters: {'quantile': 0.4567350331723046, 'learning_rate': 1.4530947151465257, 'max_iter': 91, 'max_leaf_nodes': 53, 'max_depth': 8}. Best is trial 56 with value: -36.25886054538787.\n",
      "[I 2023-07-18 08:54:54,475] Trial 71 finished with value: -36.4552009071015 and parameters: {'quantile': 0.5469116395524082, 'learning_rate': 0.709275574354367, 'max_iter': 96, 'max_leaf_nodes': 41, 'max_depth': 6}. Best is trial 56 with value: -36.25886054538787.\n",
      "[I 2023-07-18 08:55:11,920] Trial 72 finished with value: -36.27658537291011 and parameters: {'quantile': 0.505677441130733, 'learning_rate': 0.64088316764376, 'max_iter': 94, 'max_leaf_nodes': 58, 'max_depth': 7}. Best is trial 56 with value: -36.25886054538787.\n",
      "[I 2023-07-18 08:55:24,403] Trial 73 finished with value: -41.13280116149402 and parameters: {'quantile': 0.5133806495976395, 'learning_rate': 1.9212803456145828, 'max_iter': 95, 'max_leaf_nodes': 40, 'max_depth': 7}. Best is trial 56 with value: -36.25886054538787.\n",
      "[I 2023-07-18 08:55:37,037] Trial 74 finished with value: -36.495487901352455 and parameters: {'quantile': 0.543307558648309, 'learning_rate': 0.7153733913650256, 'max_iter': 89, 'max_leaf_nodes': 34, 'max_depth': 7}. Best is trial 56 with value: -36.25886054538787.\n",
      "[I 2023-07-18 08:55:48,500] Trial 75 finished with value: -36.88011410160301 and parameters: {'quantile': 0.5030143403695319, 'learning_rate': 1.3074779007586614, 'max_iter': 78, 'max_leaf_nodes': 59, 'max_depth': 6}. Best is trial 56 with value: -36.25886054538787.\n",
      "[I 2023-07-18 08:56:05,618] Trial 76 finished with value: -36.374837876913055 and parameters: {'quantile': 0.6150231311575788, 'learning_rate': 0.598052456573162, 'max_iter': 93, 'max_leaf_nodes': 66, 'max_depth': 7}. Best is trial 56 with value: -36.25886054538787.\n",
      "[I 2023-07-18 08:56:22,331] Trial 77 finished with value: -36.23685410363508 and parameters: {'quantile': 0.6190741403684171, 'learning_rate': 0.5840102598388072, 'max_iter': 93, 'max_leaf_nodes': 66, 'max_depth': 8}. Best is trial 77 with value: -36.23685410363508.\n",
      "[I 2023-07-18 08:56:40,401] Trial 78 finished with value: -36.53220521640782 and parameters: {'quantile': 0.6198637678015269, 'learning_rate': 0.45996519865112945, 'max_iter': 89, 'max_leaf_nodes': 66, 'max_depth': 8}. Best is trial 77 with value: -36.23685410363508.\n",
      "[I 2023-07-18 08:56:43,070] Trial 79 finished with value: -121.02282780238004 and parameters: {'quantile': 0.657949768490174, 'learning_rate': 1.9529241269956525, 'max_iter': 14, 'max_leaf_nodes': 72, 'max_depth': 8}. Best is trial 77 with value: -36.23685410363508.\n",
      "[I 2023-07-18 08:56:45,216] Trial 80 finished with value: -60645.05405841841 and parameters: {'quantile': 0.7114710177277953, 'learning_rate': 2.819217289376103, 'max_iter': 97, 'max_leaf_nodes': 58, 'max_depth': 7}. Best is trial 77 with value: -36.23685410363508.\n",
      "[I 2023-07-18 08:57:00,970] Trial 81 finished with value: -36.41359508161085 and parameters: {'quantile': 0.5686991094540901, 'learning_rate': 0.6015480092994235, 'max_iter': 93, 'max_leaf_nodes': 66, 'max_depth': 7}. Best is trial 77 with value: -36.23685410363508.\n",
      "[I 2023-07-18 08:57:17,754] Trial 82 finished with value: -36.398616243568966 and parameters: {'quantile': 0.621555753116526, 'learning_rate': 0.5818444201495612, 'max_iter': 94, 'max_leaf_nodes': 65, 'max_depth': 7}. Best is trial 77 with value: -36.23685410363508.\n",
      "[I 2023-07-18 08:57:32,978] Trial 83 finished with value: -36.74653271281336 and parameters: {'quantile': 0.6229777341001715, 'learning_rate': 0.40304882062739544, 'max_iter': 88, 'max_leaf_nodes': 64, 'max_depth': 8}. Best is trial 77 with value: -36.23685410363508.\n",
      "[I 2023-07-18 08:57:50,761] Trial 84 finished with value: -37.169895317942014 and parameters: {'quantile': 0.5957381352784202, 'learning_rate': 1.669703150665431, 'max_iter': 94, 'max_leaf_nodes': 68, 'max_depth': 7}. Best is trial 77 with value: -36.23685410363508.\n",
      "[I 2023-07-18 08:57:57,505] Trial 85 finished with value: -44.992983556175396 and parameters: {'quantile': 0.6829376584879256, 'learning_rate': 0.135945392643615, 'max_iter': 43, 'max_leaf_nodes': 75, 'max_depth': 8}. Best is trial 77 with value: -36.23685410363508.\n",
      "[I 2023-07-18 08:58:14,619] Trial 86 finished with value: -36.28469179477011 and parameters: {'quantile': 0.5590409863024506, 'learning_rate': 0.6447889183534921, 'max_iter': 93, 'max_leaf_nodes': 65, 'max_depth': 7}. Best is trial 77 with value: -36.23685410363508.\n",
      "[I 2023-07-18 08:58:16,721] Trial 87 finished with value: -506.1278340244895 and parameters: {'quantile': 0.5697533640050536, 'learning_rate': 2.125020473131701, 'max_iter': 84, 'max_leaf_nodes': 71, 'max_depth': 7}. Best is trial 77 with value: -36.23685410363508.\n",
      "[I 2023-07-18 08:58:22,083] Trial 88 finished with value: -39.42752308289679 and parameters: {'quantile': 0.6082113150345809, 'learning_rate': 1.6398103668751405, 'max_iter': 30, 'max_leaf_nodes': 66, 'max_depth': 7}. Best is trial 77 with value: -36.23685410363508.\n",
      "[I 2023-07-18 08:58:37,679] Trial 89 finished with value: -36.41550817122274 and parameters: {'quantile': 0.6260513533233603, 'learning_rate': 0.5971472058748958, 'max_iter': 92, 'max_leaf_nodes': 59, 'max_depth': 7}. Best is trial 77 with value: -36.23685410363508.\n",
      "[I 2023-07-18 08:58:51,714] Trial 90 finished with value: -36.858724694404735 and parameters: {'quantile': 0.6376097624340786, 'learning_rate': 0.4623158163585508, 'max_iter': 79, 'max_leaf_nodes': 59, 'max_depth': 7}. Best is trial 77 with value: -36.23685410363508.\n",
      "[I 2023-07-18 08:59:08,537] Trial 91 finished with value: -36.451862428217986 and parameters: {'quantile': 0.5684989764456821, 'learning_rate': 1.2983012251205635, 'max_iter': 91, 'max_leaf_nodes': 69, 'max_depth': 7}. Best is trial 77 with value: -36.23685410363508.\n",
      "[I 2023-07-18 08:59:26,254] Trial 92 finished with value: -36.49010574934711 and parameters: {'quantile': 0.6230958017430137, 'learning_rate': 1.3319701483852286, 'max_iter': 92, 'max_leaf_nodes': 64, 'max_depth': 7}. Best is trial 77 with value: -36.23685410363508.\n",
      "[I 2023-07-18 08:59:42,862] Trial 93 finished with value: -36.269312457887004 and parameters: {'quantile': 0.5787246219974045, 'learning_rate': 0.5752196751297656, 'max_iter': 88, 'max_leaf_nodes': 69, 'max_depth': 8}. Best is trial 77 with value: -36.23685410363508.\n",
      "[I 2023-07-18 08:59:46,034] Trial 94 finished with value: -1266.1551209049105 and parameters: {'quantile': 0.6027182111358812, 'learning_rate': 2.2351783480615834, 'max_iter': 87, 'max_leaf_nodes': 53, 'max_depth': 8}. Best is trial 77 with value: -36.23685410363508.\n",
      "[I 2023-07-18 09:00:01,448] Trial 95 finished with value: -36.26243023901243 and parameters: {'quantile': 0.6507337261441302, 'learning_rate': 0.5960497138722148, 'max_iter': 94, 'max_leaf_nodes': 57, 'max_depth': 8}. Best is trial 77 with value: -36.23685410363508.\n",
      "[I 2023-07-18 09:00:18,954] Trial 96 finished with value: -36.42619770592289 and parameters: {'quantile': 0.5787741904093249, 'learning_rate': 0.5059824855471168, 'max_iter': 98, 'max_leaf_nodes': 56, 'max_depth': 8}. Best is trial 77 with value: -36.23685410363508.\n",
      "[I 2023-07-18 09:00:36,684] Trial 97 finished with value: -36.480867241250316 and parameters: {'quantile': 0.6591668739511252, 'learning_rate': 1.474495001216253, 'max_iter': 94, 'max_leaf_nodes': 64, 'max_depth': 8}. Best is trial 77 with value: -36.23685410363508.\n",
      "[I 2023-07-18 09:00:50,629] Trial 98 finished with value: -42.51573077011291 and parameters: {'quantile': 0.5296327653378887, 'learning_rate': 0.1089250239298496, 'max_iter': 82, 'max_leaf_nodes': 74, 'max_depth': 8}. Best is trial 77 with value: -36.23685410363508.\n",
      "[I 2023-07-18 09:00:52,955] Trial 99 finished with value: -49145.306479249506 and parameters: {'quantile': 0.6396896498793847, 'learning_rate': 2.781368935032519, 'max_iter': 95, 'max_leaf_nodes': 51, 'max_depth': 8}. Best is trial 77 with value: -36.23685410363508.\n"
     ]
    }
   ],
   "source": [
    "# Optimize the study, use more trials to obtain better result, use less trials to be more cost-efficient\n",
    "study.optimize(hgbr_objective, n_trials=100) # Use more"
   ]
  },
  {
   "cell_type": "code",
   "execution_count": 31,
   "id": "5548ec9e",
   "metadata": {
    "execution": {
     "iopub.execute_input": "2023-07-18T09:00:53.020976Z",
     "iopub.status.busy": "2023-07-18T09:00:53.020486Z",
     "iopub.status.idle": "2023-07-18T09:00:53.027891Z",
     "shell.execute_reply": "2023-07-18T09:00:53.026459Z"
    },
    "papermill": {
     "duration": 0.03863,
     "end_time": "2023-07-18T09:00:53.031498",
     "exception": false,
     "start_time": "2023-07-18T09:00:52.992868",
     "status": "completed"
    },
    "tags": []
   },
   "outputs": [],
   "source": [
    "# Print the result\n",
    "best_params = study.best_params\n",
    "best_score = study.best_value"
   ]
  },
  {
   "cell_type": "code",
   "execution_count": 32,
   "id": "018014ad",
   "metadata": {
    "execution": {
     "iopub.execute_input": "2023-07-18T09:00:53.087576Z",
     "iopub.status.busy": "2023-07-18T09:00:53.087051Z",
     "iopub.status.idle": "2023-07-18T09:00:53.097109Z",
     "shell.execute_reply": "2023-07-18T09:00:53.095054Z"
    },
    "papermill": {
     "duration": 0.042055,
     "end_time": "2023-07-18T09:00:53.101403",
     "exception": false,
     "start_time": "2023-07-18T09:00:53.059348",
     "status": "completed"
    },
    "tags": []
   },
   "outputs": [
    {
     "data": {
      "text/plain": [
       "-36.23685410363508"
      ]
     },
     "execution_count": 32,
     "metadata": {},
     "output_type": "execute_result"
    }
   ],
   "source": [
    "best_score"
   ]
  },
  {
   "cell_type": "code",
   "execution_count": 33,
   "id": "8e101d87",
   "metadata": {
    "execution": {
     "iopub.execute_input": "2023-07-18T09:00:53.158840Z",
     "iopub.status.busy": "2023-07-18T09:00:53.158402Z",
     "iopub.status.idle": "2023-07-18T09:00:53.165173Z",
     "shell.execute_reply": "2023-07-18T09:00:53.163329Z"
    },
    "papermill": {
     "duration": 0.039053,
     "end_time": "2023-07-18T09:00:53.168602",
     "exception": false,
     "start_time": "2023-07-18T09:00:53.129549",
     "status": "completed"
    },
    "tags": []
   },
   "outputs": [],
   "source": [
    "hgbr= HistGradientBoostingRegressor(**best_params,random_state=42)"
   ]
  },
  {
   "cell_type": "code",
   "execution_count": 34,
   "id": "e66491dd",
   "metadata": {
    "execution": {
     "iopub.execute_input": "2023-07-18T09:00:53.226081Z",
     "iopub.status.busy": "2023-07-18T09:00:53.224684Z",
     "iopub.status.idle": "2023-07-18T09:00:54.926734Z",
     "shell.execute_reply": "2023-07-18T09:00:54.925509Z"
    },
    "papermill": {
     "duration": 1.734278,
     "end_time": "2023-07-18T09:00:54.929779",
     "exception": false,
     "start_time": "2023-07-18T09:00:53.195501",
     "status": "completed"
    },
    "tags": []
   },
   "outputs": [
    {
     "data": {
      "text/html": [
       "<style>#sk-container-id-1 {color: black;background-color: white;}#sk-container-id-1 pre{padding: 0;}#sk-container-id-1 div.sk-toggleable {background-color: white;}#sk-container-id-1 label.sk-toggleable__label {cursor: pointer;display: block;width: 100%;margin-bottom: 0;padding: 0.3em;box-sizing: border-box;text-align: center;}#sk-container-id-1 label.sk-toggleable__label-arrow:before {content: \"▸\";float: left;margin-right: 0.25em;color: #696969;}#sk-container-id-1 label.sk-toggleable__label-arrow:hover:before {color: black;}#sk-container-id-1 div.sk-estimator:hover label.sk-toggleable__label-arrow:before {color: black;}#sk-container-id-1 div.sk-toggleable__content {max-height: 0;max-width: 0;overflow: hidden;text-align: left;background-color: #f0f8ff;}#sk-container-id-1 div.sk-toggleable__content pre {margin: 0.2em;color: black;border-radius: 0.25em;background-color: #f0f8ff;}#sk-container-id-1 input.sk-toggleable__control:checked~div.sk-toggleable__content {max-height: 200px;max-width: 100%;overflow: auto;}#sk-container-id-1 input.sk-toggleable__control:checked~label.sk-toggleable__label-arrow:before {content: \"▾\";}#sk-container-id-1 div.sk-estimator input.sk-toggleable__control:checked~label.sk-toggleable__label {background-color: #d4ebff;}#sk-container-id-1 div.sk-label input.sk-toggleable__control:checked~label.sk-toggleable__label {background-color: #d4ebff;}#sk-container-id-1 input.sk-hidden--visually {border: 0;clip: rect(1px 1px 1px 1px);clip: rect(1px, 1px, 1px, 1px);height: 1px;margin: -1px;overflow: hidden;padding: 0;position: absolute;width: 1px;}#sk-container-id-1 div.sk-estimator {font-family: monospace;background-color: #f0f8ff;border: 1px dotted black;border-radius: 0.25em;box-sizing: border-box;margin-bottom: 0.5em;}#sk-container-id-1 div.sk-estimator:hover {background-color: #d4ebff;}#sk-container-id-1 div.sk-parallel-item::after {content: \"\";width: 100%;border-bottom: 1px solid gray;flex-grow: 1;}#sk-container-id-1 div.sk-label:hover label.sk-toggleable__label {background-color: #d4ebff;}#sk-container-id-1 div.sk-serial::before {content: \"\";position: absolute;border-left: 1px solid gray;box-sizing: border-box;top: 0;bottom: 0;left: 50%;z-index: 0;}#sk-container-id-1 div.sk-serial {display: flex;flex-direction: column;align-items: center;background-color: white;padding-right: 0.2em;padding-left: 0.2em;position: relative;}#sk-container-id-1 div.sk-item {position: relative;z-index: 1;}#sk-container-id-1 div.sk-parallel {display: flex;align-items: stretch;justify-content: center;background-color: white;position: relative;}#sk-container-id-1 div.sk-item::before, #sk-container-id-1 div.sk-parallel-item::before {content: \"\";position: absolute;border-left: 1px solid gray;box-sizing: border-box;top: 0;bottom: 0;left: 50%;z-index: -1;}#sk-container-id-1 div.sk-parallel-item {display: flex;flex-direction: column;z-index: 1;position: relative;background-color: white;}#sk-container-id-1 div.sk-parallel-item:first-child::after {align-self: flex-end;width: 50%;}#sk-container-id-1 div.sk-parallel-item:last-child::after {align-self: flex-start;width: 50%;}#sk-container-id-1 div.sk-parallel-item:only-child::after {width: 0;}#sk-container-id-1 div.sk-dashed-wrapped {border: 1px dashed gray;margin: 0 0.4em 0.5em 0.4em;box-sizing: border-box;padding-bottom: 0.4em;background-color: white;}#sk-container-id-1 div.sk-label label {font-family: monospace;font-weight: bold;display: inline-block;line-height: 1.2em;}#sk-container-id-1 div.sk-label-container {text-align: center;}#sk-container-id-1 div.sk-container {/* jupyter's `normalize.less` sets `[hidden] { display: none; }` but bootstrap.min.css set `[hidden] { display: none !important; }` so we also need the `!important` here to be able to override the default hidden behavior on the sphinx rendered scikit-learn.org. See: https://github.com/scikit-learn/scikit-learn/issues/21755 */display: inline-block !important;position: relative;}#sk-container-id-1 div.sk-text-repr-fallback {display: none;}</style><div id=\"sk-container-id-1\" class=\"sk-top-container\"><div class=\"sk-text-repr-fallback\"><pre>HistGradientBoostingRegressor(learning_rate=0.5840102598388072, max_depth=8,\n",
       "                              max_iter=93, max_leaf_nodes=66,\n",
       "                              quantile=0.6190741403684171, random_state=42)</pre><b>In a Jupyter environment, please rerun this cell to show the HTML representation or trust the notebook. <br />On GitHub, the HTML representation is unable to render, please try loading this page with nbviewer.org.</b></div><div class=\"sk-container\" hidden><div class=\"sk-item\"><div class=\"sk-estimator sk-toggleable\"><input class=\"sk-toggleable__control sk-hidden--visually\" id=\"sk-estimator-id-1\" type=\"checkbox\" checked><label for=\"sk-estimator-id-1\" class=\"sk-toggleable__label sk-toggleable__label-arrow\">HistGradientBoostingRegressor</label><div class=\"sk-toggleable__content\"><pre>HistGradientBoostingRegressor(learning_rate=0.5840102598388072, max_depth=8,\n",
       "                              max_iter=93, max_leaf_nodes=66,\n",
       "                              quantile=0.6190741403684171, random_state=42)</pre></div></div></div></div></div>"
      ],
      "text/plain": [
       "HistGradientBoostingRegressor(learning_rate=0.5840102598388072, max_depth=8,\n",
       "                              max_iter=93, max_leaf_nodes=66,\n",
       "                              quantile=0.6190741403684171, random_state=42)"
      ]
     },
     "execution_count": 34,
     "metadata": {},
     "output_type": "execute_result"
    }
   ],
   "source": [
    "hgbr.fit(X,y)"
   ]
  },
  {
   "cell_type": "code",
   "execution_count": 35,
   "id": "d1a4d974",
   "metadata": {
    "execution": {
     "iopub.execute_input": "2023-07-18T09:00:54.985857Z",
     "iopub.status.busy": "2023-07-18T09:00:54.985342Z",
     "iopub.status.idle": "2023-07-18T09:00:54.991715Z",
     "shell.execute_reply": "2023-07-18T09:00:54.990230Z"
    },
    "papermill": {
     "duration": 0.03851,
     "end_time": "2023-07-18T09:00:54.994620",
     "exception": false,
     "start_time": "2023-07-18T09:00:54.956110",
     "status": "completed"
    },
    "tags": []
   },
   "outputs": [],
   "source": [
    "#for c in countries:\n",
    "   # train= train[train['country']==c]\n",
    "   # for s in stores:\n",
    "    # train = train[train['store']==s]\n",
    "   #  new_column= train[['date','num_sold']]\n",
    "   #  new_column.columns = ['ds', 'y'] \n",
    "   #  new_column = new_column.drop_duplicates(subset= 'ds', keep='last')\n",
    "     \n",
    "   #  model = n.fit(new_column, freq='D', epochs=10,batch_size=6)"
   ]
  },
  {
   "cell_type": "code",
   "execution_count": 36,
   "id": "31bb5296",
   "metadata": {
    "execution": {
     "iopub.execute_input": "2023-07-18T09:00:55.054242Z",
     "iopub.status.busy": "2023-07-18T09:00:55.053797Z",
     "iopub.status.idle": "2023-07-18T09:00:55.072117Z",
     "shell.execute_reply": "2023-07-18T09:00:55.070046Z"
    },
    "papermill": {
     "duration": 0.051679,
     "end_time": "2023-07-18T09:00:55.075824",
     "exception": false,
     "start_time": "2023-07-18T09:00:55.024145",
     "status": "completed"
    },
    "tags": []
   },
   "outputs": [
    {
     "data": {
      "text/html": [
       "<div>\n",
       "<style scoped>\n",
       "    .dataframe tbody tr th:only-of-type {\n",
       "        vertical-align: middle;\n",
       "    }\n",
       "\n",
       "    .dataframe tbody tr th {\n",
       "        vertical-align: top;\n",
       "    }\n",
       "\n",
       "    .dataframe thead th {\n",
       "        text-align: right;\n",
       "    }\n",
       "</style>\n",
       "<table border=\"1\" class=\"dataframe\">\n",
       "  <thead>\n",
       "    <tr style=\"text-align: right;\">\n",
       "      <th></th>\n",
       "      <th>id</th>\n",
       "      <th>country</th>\n",
       "      <th>store</th>\n",
       "      <th>product</th>\n",
       "      <th>day</th>\n",
       "      <th>month</th>\n",
       "      <th>year</th>\n",
       "    </tr>\n",
       "  </thead>\n",
       "  <tbody>\n",
       "    <tr>\n",
       "      <th>0</th>\n",
       "      <td>136950</td>\n",
       "      <td>61.458491</td>\n",
       "      <td>60.373256</td>\n",
       "      <td>221.585430</td>\n",
       "      <td>1</td>\n",
       "      <td>1</td>\n",
       "      <td>2022</td>\n",
       "    </tr>\n",
       "    <tr>\n",
       "      <th>1</th>\n",
       "      <td>136951</td>\n",
       "      <td>61.458491</td>\n",
       "      <td>60.373256</td>\n",
       "      <td>218.836133</td>\n",
       "      <td>1</td>\n",
       "      <td>1</td>\n",
       "      <td>2022</td>\n",
       "    </tr>\n",
       "    <tr>\n",
       "      <th>2</th>\n",
       "      <td>136952</td>\n",
       "      <td>61.458491</td>\n",
       "      <td>60.373256</td>\n",
       "      <td>34.052409</td>\n",
       "      <td>1</td>\n",
       "      <td>1</td>\n",
       "      <td>2022</td>\n",
       "    </tr>\n",
       "    <tr>\n",
       "      <th>3</th>\n",
       "      <td>136953</td>\n",
       "      <td>61.458491</td>\n",
       "      <td>60.373256</td>\n",
       "      <td>185.041748</td>\n",
       "      <td>1</td>\n",
       "      <td>1</td>\n",
       "      <td>2022</td>\n",
       "    </tr>\n",
       "    <tr>\n",
       "      <th>4</th>\n",
       "      <td>136954</td>\n",
       "      <td>61.458491</td>\n",
       "      <td>60.373256</td>\n",
       "      <td>168.097460</td>\n",
       "      <td>1</td>\n",
       "      <td>1</td>\n",
       "      <td>2022</td>\n",
       "    </tr>\n",
       "  </tbody>\n",
       "</table>\n",
       "</div>"
      ],
      "text/plain": [
       "       id    country      store     product  day  month  year\n",
       "0  136950  61.458491  60.373256  221.585430    1      1  2022\n",
       "1  136951  61.458491  60.373256  218.836133    1      1  2022\n",
       "2  136952  61.458491  60.373256   34.052409    1      1  2022\n",
       "3  136953  61.458491  60.373256  185.041748    1      1  2022\n",
       "4  136954  61.458491  60.373256  168.097460    1      1  2022"
      ]
     },
     "execution_count": 36,
     "metadata": {},
     "output_type": "execute_result"
    }
   ],
   "source": [
    "test.head()"
   ]
  },
  {
   "cell_type": "code",
   "execution_count": 37,
   "id": "3ec02711",
   "metadata": {
    "execution": {
     "iopub.execute_input": "2023-07-18T09:00:55.137619Z",
     "iopub.status.busy": "2023-07-18T09:00:55.137152Z",
     "iopub.status.idle": "2023-07-18T09:00:55.228133Z",
     "shell.execute_reply": "2023-07-18T09:00:55.226684Z"
    },
    "papermill": {
     "duration": 0.126461,
     "end_time": "2023-07-18T09:00:55.232410",
     "exception": false,
     "start_time": "2023-07-18T09:00:55.105949",
     "status": "completed"
    },
    "tags": []
   },
   "outputs": [],
   "source": [
    "prediction = hgbr.predict(test)"
   ]
  },
  {
   "cell_type": "code",
   "execution_count": 38,
   "id": "57a5ee05",
   "metadata": {
    "execution": {
     "iopub.execute_input": "2023-07-18T09:00:55.293637Z",
     "iopub.status.busy": "2023-07-18T09:00:55.293196Z",
     "iopub.status.idle": "2023-07-18T09:00:55.300296Z",
     "shell.execute_reply": "2023-07-18T09:00:55.298596Z"
    },
    "papermill": {
     "duration": 0.038586,
     "end_time": "2023-07-18T09:00:55.303453",
     "exception": false,
     "start_time": "2023-07-18T09:00:55.264867",
     "status": "completed"
    },
    "tags": []
   },
   "outputs": [],
   "source": [
    "output=pd.DataFrame({'id':test.id,'num_sold':prediction})"
   ]
  },
  {
   "cell_type": "code",
   "execution_count": 39,
   "id": "f3d6f321",
   "metadata": {
    "execution": {
     "iopub.execute_input": "2023-07-18T09:00:55.363239Z",
     "iopub.status.busy": "2023-07-18T09:00:55.362798Z",
     "iopub.status.idle": "2023-07-18T09:00:55.379096Z",
     "shell.execute_reply": "2023-07-18T09:00:55.377106Z"
    },
    "papermill": {
     "duration": 0.05081,
     "end_time": "2023-07-18T09:00:55.382576",
     "exception": false,
     "start_time": "2023-07-18T09:00:55.331766",
     "status": "completed"
    },
    "tags": []
   },
   "outputs": [
    {
     "data": {
      "text/html": [
       "<div>\n",
       "<style scoped>\n",
       "    .dataframe tbody tr th:only-of-type {\n",
       "        vertical-align: middle;\n",
       "    }\n",
       "\n",
       "    .dataframe tbody tr th {\n",
       "        vertical-align: top;\n",
       "    }\n",
       "\n",
       "    .dataframe thead th {\n",
       "        text-align: right;\n",
       "    }\n",
       "</style>\n",
       "<table border=\"1\" class=\"dataframe\">\n",
       "  <thead>\n",
       "    <tr style=\"text-align: right;\">\n",
       "      <th></th>\n",
       "      <th>id</th>\n",
       "      <th>num_sold</th>\n",
       "    </tr>\n",
       "  </thead>\n",
       "  <tbody>\n",
       "    <tr>\n",
       "      <th>0</th>\n",
       "      <td>136950</td>\n",
       "      <td>21.382127</td>\n",
       "    </tr>\n",
       "    <tr>\n",
       "      <th>1</th>\n",
       "      <td>136951</td>\n",
       "      <td>23.854446</td>\n",
       "    </tr>\n",
       "    <tr>\n",
       "      <th>2</th>\n",
       "      <td>136952</td>\n",
       "      <td>1.829239</td>\n",
       "    </tr>\n",
       "    <tr>\n",
       "      <th>3</th>\n",
       "      <td>136953</td>\n",
       "      <td>29.262752</td>\n",
       "    </tr>\n",
       "    <tr>\n",
       "      <th>4</th>\n",
       "      <td>136954</td>\n",
       "      <td>39.935382</td>\n",
       "    </tr>\n",
       "  </tbody>\n",
       "</table>\n",
       "</div>"
      ],
      "text/plain": [
       "       id   num_sold\n",
       "0  136950  21.382127\n",
       "1  136951  23.854446\n",
       "2  136952   1.829239\n",
       "3  136953  29.262752\n",
       "4  136954  39.935382"
      ]
     },
     "execution_count": 39,
     "metadata": {},
     "output_type": "execute_result"
    }
   ],
   "source": [
    "output.head()"
   ]
  },
  {
   "cell_type": "code",
   "execution_count": 40,
   "id": "ab8a6ddf",
   "metadata": {
    "execution": {
     "iopub.execute_input": "2023-07-18T09:00:55.444977Z",
     "iopub.status.busy": "2023-07-18T09:00:55.444523Z",
     "iopub.status.idle": "2023-07-18T09:00:55.585651Z",
     "shell.execute_reply": "2023-07-18T09:00:55.584338Z"
    },
    "papermill": {
     "duration": 0.176339,
     "end_time": "2023-07-18T09:00:55.588456",
     "exception": false,
     "start_time": "2023-07-18T09:00:55.412117",
     "status": "completed"
    },
    "tags": []
   },
   "outputs": [
    {
     "name": "stdout",
     "output_type": "stream",
     "text": [
      "Your submission was successfully saved!\n"
     ]
    }
   ],
   "source": [
    "output.to_csv('submission.csv', index=False)\n",
    "print(\"Your submission was successfully saved!\")"
   ]
  }
 ],
 "metadata": {
  "kernelspec": {
   "display_name": "Python 3",
   "language": "python",
   "name": "python3"
  },
  "language_info": {
   "codemirror_mode": {
    "name": "ipython",
    "version": 3
   },
   "file_extension": ".py",
   "mimetype": "text/x-python",
   "name": "python",
   "nbconvert_exporter": "python",
   "pygments_lexer": "ipython3",
   "version": "3.10.12"
  },
  "papermill": {
   "default_parameters": {},
   "duration": 774.080111,
   "end_time": "2023-07-18T09:00:57.146985",
   "environment_variables": {},
   "exception": null,
   "input_path": "__notebook__.ipynb",
   "output_path": "__notebook__.ipynb",
   "parameters": {},
   "start_time": "2023-07-18T08:48:03.066874",
   "version": "2.4.0"
  }
 },
 "nbformat": 4,
 "nbformat_minor": 5
}
