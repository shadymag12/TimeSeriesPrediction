{
 "cells": [
  {
   "cell_type": "code",
   "execution_count": 1,
   "id": "cf9f47fc",
   "metadata": {
    "_cell_guid": "b1076dfc-b9ad-4769-8c92-a6c4dae69d19",
    "_uuid": "8f2839f25d086af736a60e9eeb907d3b93b6e0e5",
    "execution": {
     "iopub.execute_input": "2023-07-21T15:25:35.818614Z",
     "iopub.status.busy": "2023-07-21T15:25:35.817806Z",
     "iopub.status.idle": "2023-07-21T15:25:38.778891Z",
     "shell.execute_reply": "2023-07-21T15:25:38.777911Z"
    },
    "papermill": {
     "duration": 2.977014,
     "end_time": "2023-07-21T15:25:38.781148",
     "exception": false,
     "start_time": "2023-07-21T15:25:35.804134",
     "status": "completed"
    },
    "tags": []
   },
   "outputs": [
    {
     "name": "stderr",
     "output_type": "stream",
     "text": [
      "/opt/conda/lib/python3.10/site-packages/scipy/__init__.py:146: UserWarning: A NumPy version >=1.16.5 and <1.23.0 is required for this version of SciPy (detected version 1.23.5\n",
      "  warnings.warn(f\"A NumPy version >={np_minversion} and <{np_maxversion}\"\n"
     ]
    },
    {
     "name": "stdout",
     "output_type": "stream",
     "text": [
      "/kaggle/input/playground-series-s3e19/sample_submission.csv\n",
      "/kaggle/input/playground-series-s3e19/train.csv\n",
      "/kaggle/input/playground-series-s3e19/test.csv\n"
     ]
    }
   ],
   "source": [
    "\n",
    "\n",
    "import numpy as np # linear algebra\n",
    "import pandas as pd # data processing, CSV file I/O (e.g. pd.read_csv)\n",
    "import matplotlib.pyplot as plt\n",
    "import seaborn as sns\n",
    "#%matplotlib.inline\n",
    "import warnings\n",
    "warnings.filterwarnings(action='ignore')\n",
    "import optuna\n",
    "from sklearn.ensemble import HistGradientBoostingRegressor\n",
    "from category_encoders import CatBoostEncoder\n",
    "from sklearn.model_selection import train_test_split, cross_val_score,KFold\n",
    "\n",
    "\n",
    "\n",
    "import os\n",
    "for dirname, _, filenames in os.walk('/kaggle/input'):\n",
    "    for filename in filenames:\n",
    "        print(os.path.join(dirname, filename))\n",
    "\n"
   ]
  },
  {
   "cell_type": "code",
   "execution_count": 2,
   "id": "a32203c7",
   "metadata": {
    "execution": {
     "iopub.execute_input": "2023-07-21T15:25:38.801461Z",
     "iopub.status.busy": "2023-07-21T15:25:38.801063Z",
     "iopub.status.idle": "2023-07-21T15:25:39.048971Z",
     "shell.execute_reply": "2023-07-21T15:25:39.047952Z"
    },
    "papermill": {
     "duration": 0.260905,
     "end_time": "2023-07-21T15:25:39.051581",
     "exception": false,
     "start_time": "2023-07-21T15:25:38.790676",
     "status": "completed"
    },
    "tags": []
   },
   "outputs": [],
   "source": [
    "train=pd.read_csv('/kaggle/input/playground-series-s3e19/train.csv')"
   ]
  },
  {
   "cell_type": "code",
   "execution_count": 3,
   "id": "5e5a0016",
   "metadata": {
    "execution": {
     "iopub.execute_input": "2023-07-21T15:25:39.071778Z",
     "iopub.status.busy": "2023-07-21T15:25:39.071351Z",
     "iopub.status.idle": "2023-07-21T15:25:39.118504Z",
     "shell.execute_reply": "2023-07-21T15:25:39.117363Z"
    },
    "papermill": {
     "duration": 0.060038,
     "end_time": "2023-07-21T15:25:39.120972",
     "exception": false,
     "start_time": "2023-07-21T15:25:39.060934",
     "status": "completed"
    },
    "tags": []
   },
   "outputs": [],
   "source": [
    "test = pd.read_csv('/kaggle/input/playground-series-s3e19/test.csv')"
   ]
  },
  {
   "cell_type": "code",
   "execution_count": 4,
   "id": "649db00a",
   "metadata": {
    "execution": {
     "iopub.execute_input": "2023-07-21T15:25:39.141456Z",
     "iopub.status.busy": "2023-07-21T15:25:39.141034Z",
     "iopub.status.idle": "2023-07-21T15:25:39.163934Z",
     "shell.execute_reply": "2023-07-21T15:25:39.162714Z"
    },
    "papermill": {
     "duration": 0.035849,
     "end_time": "2023-07-21T15:25:39.166325",
     "exception": false,
     "start_time": "2023-07-21T15:25:39.130476",
     "status": "completed"
    },
    "tags": []
   },
   "outputs": [
    {
     "data": {
      "text/html": [
       "<div>\n",
       "<style scoped>\n",
       "    .dataframe tbody tr th:only-of-type {\n",
       "        vertical-align: middle;\n",
       "    }\n",
       "\n",
       "    .dataframe tbody tr th {\n",
       "        vertical-align: top;\n",
       "    }\n",
       "\n",
       "    .dataframe thead th {\n",
       "        text-align: right;\n",
       "    }\n",
       "</style>\n",
       "<table border=\"1\" class=\"dataframe\">\n",
       "  <thead>\n",
       "    <tr style=\"text-align: right;\">\n",
       "      <th></th>\n",
       "      <th>id</th>\n",
       "      <th>date</th>\n",
       "      <th>country</th>\n",
       "      <th>store</th>\n",
       "      <th>product</th>\n",
       "    </tr>\n",
       "  </thead>\n",
       "  <tbody>\n",
       "    <tr>\n",
       "      <th>0</th>\n",
       "      <td>136950</td>\n",
       "      <td>2022-01-01</td>\n",
       "      <td>Argentina</td>\n",
       "      <td>Kaggle Learn</td>\n",
       "      <td>Using LLMs to Improve Your Coding</td>\n",
       "    </tr>\n",
       "    <tr>\n",
       "      <th>1</th>\n",
       "      <td>136951</td>\n",
       "      <td>2022-01-01</td>\n",
       "      <td>Argentina</td>\n",
       "      <td>Kaggle Learn</td>\n",
       "      <td>Using LLMs to Train More LLMs</td>\n",
       "    </tr>\n",
       "    <tr>\n",
       "      <th>2</th>\n",
       "      <td>136952</td>\n",
       "      <td>2022-01-01</td>\n",
       "      <td>Argentina</td>\n",
       "      <td>Kaggle Learn</td>\n",
       "      <td>Using LLMs to Win Friends and Influence People</td>\n",
       "    </tr>\n",
       "    <tr>\n",
       "      <th>3</th>\n",
       "      <td>136953</td>\n",
       "      <td>2022-01-01</td>\n",
       "      <td>Argentina</td>\n",
       "      <td>Kaggle Learn</td>\n",
       "      <td>Using LLMs to Win More Kaggle Competitions</td>\n",
       "    </tr>\n",
       "    <tr>\n",
       "      <th>4</th>\n",
       "      <td>136954</td>\n",
       "      <td>2022-01-01</td>\n",
       "      <td>Argentina</td>\n",
       "      <td>Kaggle Learn</td>\n",
       "      <td>Using LLMs to Write Better</td>\n",
       "    </tr>\n",
       "  </tbody>\n",
       "</table>\n",
       "</div>"
      ],
      "text/plain": [
       "       id        date    country         store  \\\n",
       "0  136950  2022-01-01  Argentina  Kaggle Learn   \n",
       "1  136951  2022-01-01  Argentina  Kaggle Learn   \n",
       "2  136952  2022-01-01  Argentina  Kaggle Learn   \n",
       "3  136953  2022-01-01  Argentina  Kaggle Learn   \n",
       "4  136954  2022-01-01  Argentina  Kaggle Learn   \n",
       "\n",
       "                                          product  \n",
       "0               Using LLMs to Improve Your Coding  \n",
       "1                   Using LLMs to Train More LLMs  \n",
       "2  Using LLMs to Win Friends and Influence People  \n",
       "3      Using LLMs to Win More Kaggle Competitions  \n",
       "4                      Using LLMs to Write Better  "
      ]
     },
     "execution_count": 4,
     "metadata": {},
     "output_type": "execute_result"
    }
   ],
   "source": [
    "test.head()"
   ]
  },
  {
   "cell_type": "code",
   "execution_count": 5,
   "id": "78edda2f",
   "metadata": {
    "execution": {
     "iopub.execute_input": "2023-07-21T15:25:39.187632Z",
     "iopub.status.busy": "2023-07-21T15:25:39.186742Z",
     "iopub.status.idle": "2023-07-21T15:25:39.291052Z",
     "shell.execute_reply": "2023-07-21T15:25:39.290006Z"
    },
    "papermill": {
     "duration": 0.117406,
     "end_time": "2023-07-21T15:25:39.293453",
     "exception": false,
     "start_time": "2023-07-21T15:25:39.176047",
     "status": "completed"
    },
    "tags": []
   },
   "outputs": [
    {
     "name": "stdout",
     "output_type": "stream",
     "text": [
      "<class 'pandas.core.frame.DataFrame'>\n",
      "RangeIndex: 136950 entries, 0 to 136949\n",
      "Data columns (total 6 columns):\n",
      " #   Column    Non-Null Count   Dtype \n",
      "---  ------    --------------   ----- \n",
      " 0   id        136950 non-null  int64 \n",
      " 1   date      136950 non-null  object\n",
      " 2   country   136950 non-null  object\n",
      " 3   store     136950 non-null  object\n",
      " 4   product   136950 non-null  object\n",
      " 5   num_sold  136950 non-null  int64 \n",
      "dtypes: int64(2), object(4)\n",
      "memory usage: 6.3+ MB\n"
     ]
    }
   ],
   "source": [
    "train.info()"
   ]
  },
  {
   "cell_type": "code",
   "execution_count": 6,
   "id": "f1ace55e",
   "metadata": {
    "execution": {
     "iopub.execute_input": "2023-07-21T15:25:39.313817Z",
     "iopub.status.busy": "2023-07-21T15:25:39.313464Z",
     "iopub.status.idle": "2023-07-21T15:25:39.402119Z",
     "shell.execute_reply": "2023-07-21T15:25:39.400935Z"
    },
    "papermill": {
     "duration": 0.101677,
     "end_time": "2023-07-21T15:25:39.404651",
     "exception": false,
     "start_time": "2023-07-21T15:25:39.302974",
     "status": "completed"
    },
    "tags": []
   },
   "outputs": [
    {
     "data": {
      "text/plain": [
       "id          0\n",
       "date        0\n",
       "country     0\n",
       "store       0\n",
       "product     0\n",
       "num_sold    0\n",
       "dtype: int64"
      ]
     },
     "execution_count": 6,
     "metadata": {},
     "output_type": "execute_result"
    }
   ],
   "source": [
    "train.isnull().sum()"
   ]
  },
  {
   "cell_type": "code",
   "execution_count": 7,
   "id": "bb692007",
   "metadata": {
    "execution": {
     "iopub.execute_input": "2023-07-21T15:25:39.425443Z",
     "iopub.status.busy": "2023-07-21T15:25:39.425059Z",
     "iopub.status.idle": "2023-07-21T15:25:39.452863Z",
     "shell.execute_reply": "2023-07-21T15:25:39.451748Z"
    },
    "papermill": {
     "duration": 0.04148,
     "end_time": "2023-07-21T15:25:39.455612",
     "exception": false,
     "start_time": "2023-07-21T15:25:39.414132",
     "status": "completed"
    },
    "tags": []
   },
   "outputs": [],
   "source": [
    "train['date']=pd.to_datetime(train['date'])"
   ]
  },
  {
   "cell_type": "code",
   "execution_count": 8,
   "id": "8d5b6f0e",
   "metadata": {
    "execution": {
     "iopub.execute_input": "2023-07-21T15:25:39.476746Z",
     "iopub.status.busy": "2023-07-21T15:25:39.476256Z",
     "iopub.status.idle": "2023-07-21T15:25:39.489107Z",
     "shell.execute_reply": "2023-07-21T15:25:39.487917Z"
    },
    "papermill": {
     "duration": 0.026394,
     "end_time": "2023-07-21T15:25:39.491537",
     "exception": false,
     "start_time": "2023-07-21T15:25:39.465143",
     "status": "completed"
    },
    "tags": []
   },
   "outputs": [
    {
     "data": {
      "text/html": [
       "<div>\n",
       "<style scoped>\n",
       "    .dataframe tbody tr th:only-of-type {\n",
       "        vertical-align: middle;\n",
       "    }\n",
       "\n",
       "    .dataframe tbody tr th {\n",
       "        vertical-align: top;\n",
       "    }\n",
       "\n",
       "    .dataframe thead th {\n",
       "        text-align: right;\n",
       "    }\n",
       "</style>\n",
       "<table border=\"1\" class=\"dataframe\">\n",
       "  <thead>\n",
       "    <tr style=\"text-align: right;\">\n",
       "      <th></th>\n",
       "      <th>id</th>\n",
       "      <th>date</th>\n",
       "      <th>country</th>\n",
       "      <th>store</th>\n",
       "      <th>product</th>\n",
       "      <th>num_sold</th>\n",
       "    </tr>\n",
       "  </thead>\n",
       "  <tbody>\n",
       "    <tr>\n",
       "      <th>0</th>\n",
       "      <td>0</td>\n",
       "      <td>2017-01-01</td>\n",
       "      <td>Argentina</td>\n",
       "      <td>Kaggle Learn</td>\n",
       "      <td>Using LLMs to Improve Your Coding</td>\n",
       "      <td>63</td>\n",
       "    </tr>\n",
       "    <tr>\n",
       "      <th>1</th>\n",
       "      <td>1</td>\n",
       "      <td>2017-01-01</td>\n",
       "      <td>Argentina</td>\n",
       "      <td>Kaggle Learn</td>\n",
       "      <td>Using LLMs to Train More LLMs</td>\n",
       "      <td>66</td>\n",
       "    </tr>\n",
       "    <tr>\n",
       "      <th>2</th>\n",
       "      <td>2</td>\n",
       "      <td>2017-01-01</td>\n",
       "      <td>Argentina</td>\n",
       "      <td>Kaggle Learn</td>\n",
       "      <td>Using LLMs to Win Friends and Influence People</td>\n",
       "      <td>9</td>\n",
       "    </tr>\n",
       "    <tr>\n",
       "      <th>3</th>\n",
       "      <td>3</td>\n",
       "      <td>2017-01-01</td>\n",
       "      <td>Argentina</td>\n",
       "      <td>Kaggle Learn</td>\n",
       "      <td>Using LLMs to Win More Kaggle Competitions</td>\n",
       "      <td>59</td>\n",
       "    </tr>\n",
       "    <tr>\n",
       "      <th>4</th>\n",
       "      <td>4</td>\n",
       "      <td>2017-01-01</td>\n",
       "      <td>Argentina</td>\n",
       "      <td>Kaggle Learn</td>\n",
       "      <td>Using LLMs to Write Better</td>\n",
       "      <td>49</td>\n",
       "    </tr>\n",
       "  </tbody>\n",
       "</table>\n",
       "</div>"
      ],
      "text/plain": [
       "   id       date    country         store  \\\n",
       "0   0 2017-01-01  Argentina  Kaggle Learn   \n",
       "1   1 2017-01-01  Argentina  Kaggle Learn   \n",
       "2   2 2017-01-01  Argentina  Kaggle Learn   \n",
       "3   3 2017-01-01  Argentina  Kaggle Learn   \n",
       "4   4 2017-01-01  Argentina  Kaggle Learn   \n",
       "\n",
       "                                          product  num_sold  \n",
       "0               Using LLMs to Improve Your Coding        63  \n",
       "1                   Using LLMs to Train More LLMs        66  \n",
       "2  Using LLMs to Win Friends and Influence People         9  \n",
       "3      Using LLMs to Win More Kaggle Competitions        59  \n",
       "4                      Using LLMs to Write Better        49  "
      ]
     },
     "execution_count": 8,
     "metadata": {},
     "output_type": "execute_result"
    }
   ],
   "source": [
    "train.head()"
   ]
  },
  {
   "cell_type": "code",
   "execution_count": 9,
   "id": "4bb6436f",
   "metadata": {
    "execution": {
     "iopub.execute_input": "2023-07-21T15:25:39.513565Z",
     "iopub.status.busy": "2023-07-21T15:25:39.512795Z",
     "iopub.status.idle": "2023-07-21T15:25:39.582597Z",
     "shell.execute_reply": "2023-07-21T15:25:39.581337Z"
    },
    "papermill": {
     "duration": 0.083636,
     "end_time": "2023-07-21T15:25:39.585059",
     "exception": false,
     "start_time": "2023-07-21T15:25:39.501423",
     "status": "completed"
    },
    "tags": []
   },
   "outputs": [
    {
     "data": {
      "text/plain": [
       "id          0\n",
       "date        0\n",
       "country     0\n",
       "store       0\n",
       "product     0\n",
       "num_sold    0\n",
       "dtype: int64"
      ]
     },
     "execution_count": 9,
     "metadata": {},
     "output_type": "execute_result"
    }
   ],
   "source": [
    "train.isnull().sum()"
   ]
  },
  {
   "cell_type": "code",
   "execution_count": 10,
   "id": "3298b49e",
   "metadata": {
    "execution": {
     "iopub.execute_input": "2023-07-21T15:25:39.606697Z",
     "iopub.status.busy": "2023-07-21T15:25:39.606325Z",
     "iopub.status.idle": "2023-07-21T15:25:39.633628Z",
     "shell.execute_reply": "2023-07-21T15:25:39.632681Z"
    },
    "papermill": {
     "duration": 0.040944,
     "end_time": "2023-07-21T15:25:39.635930",
     "exception": false,
     "start_time": "2023-07-21T15:25:39.594986",
     "status": "completed"
    },
    "tags": []
   },
   "outputs": [
    {
     "data": {
      "text/html": [
       "<div>\n",
       "<style scoped>\n",
       "    .dataframe tbody tr th:only-of-type {\n",
       "        vertical-align: middle;\n",
       "    }\n",
       "\n",
       "    .dataframe tbody tr th {\n",
       "        vertical-align: top;\n",
       "    }\n",
       "\n",
       "    .dataframe thead th {\n",
       "        text-align: right;\n",
       "    }\n",
       "</style>\n",
       "<table border=\"1\" class=\"dataframe\">\n",
       "  <thead>\n",
       "    <tr style=\"text-align: right;\">\n",
       "      <th></th>\n",
       "      <th>id</th>\n",
       "      <th>num_sold</th>\n",
       "    </tr>\n",
       "  </thead>\n",
       "  <tbody>\n",
       "    <tr>\n",
       "      <th>count</th>\n",
       "      <td>136950.00000</td>\n",
       "      <td>136950.000000</td>\n",
       "    </tr>\n",
       "    <tr>\n",
       "      <th>mean</th>\n",
       "      <td>68474.50000</td>\n",
       "      <td>165.522636</td>\n",
       "    </tr>\n",
       "    <tr>\n",
       "      <th>std</th>\n",
       "      <td>39534.20402</td>\n",
       "      <td>183.691575</td>\n",
       "    </tr>\n",
       "    <tr>\n",
       "      <th>min</th>\n",
       "      <td>0.00000</td>\n",
       "      <td>2.000000</td>\n",
       "    </tr>\n",
       "    <tr>\n",
       "      <th>25%</th>\n",
       "      <td>34237.25000</td>\n",
       "      <td>46.000000</td>\n",
       "    </tr>\n",
       "    <tr>\n",
       "      <th>50%</th>\n",
       "      <td>68474.50000</td>\n",
       "      <td>98.000000</td>\n",
       "    </tr>\n",
       "    <tr>\n",
       "      <th>75%</th>\n",
       "      <td>102711.75000</td>\n",
       "      <td>184.000000</td>\n",
       "    </tr>\n",
       "    <tr>\n",
       "      <th>max</th>\n",
       "      <td>136949.00000</td>\n",
       "      <td>1380.000000</td>\n",
       "    </tr>\n",
       "  </tbody>\n",
       "</table>\n",
       "</div>"
      ],
      "text/plain": [
       "                 id       num_sold\n",
       "count  136950.00000  136950.000000\n",
       "mean    68474.50000     165.522636\n",
       "std     39534.20402     183.691575\n",
       "min         0.00000       2.000000\n",
       "25%     34237.25000      46.000000\n",
       "50%     68474.50000      98.000000\n",
       "75%    102711.75000     184.000000\n",
       "max    136949.00000    1380.000000"
      ]
     },
     "execution_count": 10,
     "metadata": {},
     "output_type": "execute_result"
    }
   ],
   "source": [
    "train.describe()"
   ]
  },
  {
   "cell_type": "code",
   "execution_count": 11,
   "id": "1e2e0da8",
   "metadata": {
    "execution": {
     "iopub.execute_input": "2023-07-21T15:25:39.658796Z",
     "iopub.status.busy": "2023-07-21T15:25:39.657842Z",
     "iopub.status.idle": "2023-07-21T15:25:39.702828Z",
     "shell.execute_reply": "2023-07-21T15:25:39.701752Z"
    },
    "papermill": {
     "duration": 0.058639,
     "end_time": "2023-07-21T15:25:39.704981",
     "exception": false,
     "start_time": "2023-07-21T15:25:39.646342",
     "status": "completed"
    },
    "tags": []
   },
   "outputs": [
    {
     "name": "stdout",
     "output_type": "stream",
     "text": [
      "id has 136950 values\n",
      "date has 1826 values\n",
      "country has 5 values\n",
      "store has 3 values\n",
      "product has 5 values\n",
      "num_sold has 1028 values\n"
     ]
    }
   ],
   "source": [
    "for col in train.columns:\n",
    "    print(f\"{col} has {len(train[col].unique())} values\")"
   ]
  },
  {
   "cell_type": "code",
   "execution_count": 12,
   "id": "c0f6a19d",
   "metadata": {
    "execution": {
     "iopub.execute_input": "2023-07-21T15:25:39.727663Z",
     "iopub.status.busy": "2023-07-21T15:25:39.727039Z",
     "iopub.status.idle": "2023-07-21T15:25:39.743951Z",
     "shell.execute_reply": "2023-07-21T15:25:39.743032Z"
    },
    "papermill": {
     "duration": 0.031156,
     "end_time": "2023-07-21T15:25:39.746288",
     "exception": false,
     "start_time": "2023-07-21T15:25:39.715132",
     "status": "completed"
    },
    "tags": []
   },
   "outputs": [],
   "source": [
    "products= train['product'].unique()"
   ]
  },
  {
   "cell_type": "code",
   "execution_count": 13,
   "id": "b1d086f3",
   "metadata": {
    "execution": {
     "iopub.execute_input": "2023-07-21T15:25:39.769018Z",
     "iopub.status.busy": "2023-07-21T15:25:39.768387Z",
     "iopub.status.idle": "2023-07-21T15:25:39.774678Z",
     "shell.execute_reply": "2023-07-21T15:25:39.773672Z"
    },
    "papermill": {
     "duration": 0.019684,
     "end_time": "2023-07-21T15:25:39.776612",
     "exception": false,
     "start_time": "2023-07-21T15:25:39.756928",
     "status": "completed"
    },
    "tags": []
   },
   "outputs": [
    {
     "data": {
      "text/plain": [
       "array(['Using LLMs to Improve Your Coding',\n",
       "       'Using LLMs to Train More LLMs',\n",
       "       'Using LLMs to Win Friends and Influence People',\n",
       "       'Using LLMs to Win More Kaggle Competitions',\n",
       "       'Using LLMs to Write Better'], dtype=object)"
      ]
     },
     "execution_count": 13,
     "metadata": {},
     "output_type": "execute_result"
    }
   ],
   "source": [
    "products"
   ]
  },
  {
   "cell_type": "code",
   "execution_count": 14,
   "id": "731d669c",
   "metadata": {
    "execution": {
     "iopub.execute_input": "2023-07-21T15:25:39.799006Z",
     "iopub.status.busy": "2023-07-21T15:25:39.798415Z",
     "iopub.status.idle": "2023-07-21T15:25:39.804527Z",
     "shell.execute_reply": "2023-07-21T15:25:39.803556Z"
    },
    "papermill": {
     "duration": 0.019746,
     "end_time": "2023-07-21T15:25:39.806588",
     "exception": false,
     "start_time": "2023-07-21T15:25:39.786842",
     "status": "completed"
    },
    "tags": []
   },
   "outputs": [
    {
     "data": {
      "text/plain": [
       "5"
      ]
     },
     "execution_count": 14,
     "metadata": {},
     "output_type": "execute_result"
    }
   ],
   "source": [
    "len(products)"
   ]
  },
  {
   "cell_type": "code",
   "execution_count": 15,
   "id": "fca0bb1b",
   "metadata": {
    "execution": {
     "iopub.execute_input": "2023-07-21T15:25:39.829239Z",
     "iopub.status.busy": "2023-07-21T15:25:39.828887Z",
     "iopub.status.idle": "2023-07-21T15:25:41.985032Z",
     "shell.execute_reply": "2023-07-21T15:25:41.984037Z"
    },
    "papermill": {
     "duration": 2.170226,
     "end_time": "2023-07-21T15:25:41.987398",
     "exception": false,
     "start_time": "2023-07-21T15:25:39.817172",
     "status": "completed"
    },
    "tags": []
   },
   "outputs": [
    {
     "data": {
      "image/png": "[encoded data removed]",
      "text/plain": [
       "<Figure size 640x480 with 1 Axes>"
      ]
     },
     "metadata": {},
     "output_type": "display_data"
    }
   ],
   "source": [
    "for i in products:\n",
    "    train_1 = train[train['product']==i]\n",
    "    #plt.subplot(len(products),1,j)\n",
    "    #plt.subplot(1,2,len(i))\n",
    "    plt.plot(train_1['date'],train_1['num_sold'])\n",
    "    # Giving title to the chart using plt.title\n",
    "    plt.title(f\"Product '{i}' sold by Date\")\n",
    "    # rotating the x-axis tick labels at 30degree\n",
    "    # towards right\n",
    "    plt.xticks(rotation=30, ha='right')\n",
    " \n",
    " # Providing x and y label to the chart\n",
    "    plt.xlabel('Date')\n",
    "    plt.ylabel('Products sold')\n",
    "    \n",
    "    "
   ]
  },
  {
   "cell_type": "code",
   "execution_count": 16,
   "id": "1bc5f369",
   "metadata": {
    "execution": {
     "iopub.execute_input": "2023-07-21T15:25:42.012555Z",
     "iopub.status.busy": "2023-07-21T15:25:42.012138Z",
     "iopub.status.idle": "2023-07-21T15:25:42.020568Z",
     "shell.execute_reply": "2023-07-21T15:25:42.018969Z"
    },
    "papermill": {
     "duration": 0.023531,
     "end_time": "2023-07-21T15:25:42.023028",
     "exception": false,
     "start_time": "2023-07-21T15:25:41.999497",
     "status": "completed"
    },
    "tags": []
   },
   "outputs": [
    {
     "data": {
      "text/plain": [
       "Timestamp('2021-12-31 00:00:00')"
      ]
     },
     "execution_count": 16,
     "metadata": {},
     "output_type": "execute_result"
    }
   ],
   "source": [
    "train['date'].max()"
   ]
  },
  {
   "cell_type": "code",
   "execution_count": 17,
   "id": "7d51c45c",
   "metadata": {
    "execution": {
     "iopub.execute_input": "2023-07-21T15:25:42.048019Z",
     "iopub.status.busy": "2023-07-21T15:25:42.047214Z",
     "iopub.status.idle": "2023-07-21T15:25:42.054199Z",
     "shell.execute_reply": "2023-07-21T15:25:42.053478Z"
    },
    "papermill": {
     "duration": 0.02158,
     "end_time": "2023-07-21T15:25:42.056105",
     "exception": false,
     "start_time": "2023-07-21T15:25:42.034525",
     "status": "completed"
    },
    "tags": []
   },
   "outputs": [
    {
     "data": {
      "text/plain": [
       "Timestamp('2017-01-01 00:00:00')"
      ]
     },
     "execution_count": 17,
     "metadata": {},
     "output_type": "execute_result"
    }
   ],
   "source": [
    "train['date'].min()"
   ]
  },
  {
   "cell_type": "code",
   "execution_count": 18,
   "id": "e92d11d3",
   "metadata": {
    "execution": {
     "iopub.execute_input": "2023-07-21T15:25:42.081045Z",
     "iopub.status.busy": "2023-07-21T15:25:42.080357Z",
     "iopub.status.idle": "2023-07-21T15:25:42.085065Z",
     "shell.execute_reply": "2023-07-21T15:25:42.084340Z"
    },
    "papermill": {
     "duration": 0.019356,
     "end_time": "2023-07-21T15:25:42.087021",
     "exception": false,
     "start_time": "2023-07-21T15:25:42.067665",
     "status": "completed"
    },
    "tags": []
   },
   "outputs": [],
   "source": [
    "def new_column(df):\n",
    "   df['day']=df['date'].dt.day\n",
    "   df['month']=df['date'].dt.month\n",
    "   df['year']=df['date'].dt.year\n",
    "   df=df.drop(['date'],axis=1)\n",
    "   return df"
   ]
  },
  {
   "cell_type": "code",
   "execution_count": 19,
   "id": "a500bc0d",
   "metadata": {
    "execution": {
     "iopub.execute_input": "2023-07-21T15:25:42.111572Z",
     "iopub.status.busy": "2023-07-21T15:25:42.111145Z",
     "iopub.status.idle": "2023-07-21T15:25:42.163614Z",
     "shell.execute_reply": "2023-07-21T15:25:42.162488Z"
    },
    "papermill": {
     "duration": 0.067503,
     "end_time": "2023-07-21T15:25:42.166136",
     "exception": false,
     "start_time": "2023-07-21T15:25:42.098633",
     "status": "completed"
    },
    "tags": []
   },
   "outputs": [],
   "source": [
    "train= new_column(train)"
   ]
  },
  {
   "cell_type": "code",
   "execution_count": 20,
   "id": "92b80939",
   "metadata": {
    "execution": {
     "iopub.execute_input": "2023-07-21T15:25:42.190958Z",
     "iopub.status.busy": "2023-07-21T15:25:42.190576Z",
     "iopub.status.idle": "2023-07-21T15:25:42.202026Z",
     "shell.execute_reply": "2023-07-21T15:25:42.201321Z"
    },
    "papermill": {
     "duration": 0.026099,
     "end_time": "2023-07-21T15:25:42.203855",
     "exception": false,
     "start_time": "2023-07-21T15:25:42.177756",
     "status": "completed"
    },
    "tags": []
   },
   "outputs": [
    {
     "data": {
      "text/html": [
       "<div>\n",
       "<style scoped>\n",
       "    .dataframe tbody tr th:only-of-type {\n",
       "        vertical-align: middle;\n",
       "    }\n",
       "\n",
       "    .dataframe tbody tr th {\n",
       "        vertical-align: top;\n",
       "    }\n",
       "\n",
       "    .dataframe thead th {\n",
       "        text-align: right;\n",
       "    }\n",
       "</style>\n",
       "<table border=\"1\" class=\"dataframe\">\n",
       "  <thead>\n",
       "    <tr style=\"text-align: right;\">\n",
       "      <th></th>\n",
       "      <th>id</th>\n",
       "      <th>country</th>\n",
       "      <th>store</th>\n",
       "      <th>product</th>\n",
       "      <th>num_sold</th>\n",
       "      <th>day</th>\n",
       "      <th>month</th>\n",
       "      <th>year</th>\n",
       "    </tr>\n",
       "  </thead>\n",
       "  <tbody>\n",
       "    <tr>\n",
       "      <th>0</th>\n",
       "      <td>0</td>\n",
       "      <td>Argentina</td>\n",
       "      <td>Kaggle Learn</td>\n",
       "      <td>Using LLMs to Improve Your Coding</td>\n",
       "      <td>63</td>\n",
       "      <td>1</td>\n",
       "      <td>1</td>\n",
       "      <td>2017</td>\n",
       "    </tr>\n",
       "    <tr>\n",
       "      <th>1</th>\n",
       "      <td>1</td>\n",
       "      <td>Argentina</td>\n",
       "      <td>Kaggle Learn</td>\n",
       "      <td>Using LLMs to Train More LLMs</td>\n",
       "      <td>66</td>\n",
       "      <td>1</td>\n",
       "      <td>1</td>\n",
       "      <td>2017</td>\n",
       "    </tr>\n",
       "    <tr>\n",
       "      <th>2</th>\n",
       "      <td>2</td>\n",
       "      <td>Argentina</td>\n",
       "      <td>Kaggle Learn</td>\n",
       "      <td>Using LLMs to Win Friends and Influence People</td>\n",
       "      <td>9</td>\n",
       "      <td>1</td>\n",
       "      <td>1</td>\n",
       "      <td>2017</td>\n",
       "    </tr>\n",
       "    <tr>\n",
       "      <th>3</th>\n",
       "      <td>3</td>\n",
       "      <td>Argentina</td>\n",
       "      <td>Kaggle Learn</td>\n",
       "      <td>Using LLMs to Win More Kaggle Competitions</td>\n",
       "      <td>59</td>\n",
       "      <td>1</td>\n",
       "      <td>1</td>\n",
       "      <td>2017</td>\n",
       "    </tr>\n",
       "    <tr>\n",
       "      <th>4</th>\n",
       "      <td>4</td>\n",
       "      <td>Argentina</td>\n",
       "      <td>Kaggle Learn</td>\n",
       "      <td>Using LLMs to Write Better</td>\n",
       "      <td>49</td>\n",
       "      <td>1</td>\n",
       "      <td>1</td>\n",
       "      <td>2017</td>\n",
       "    </tr>\n",
       "  </tbody>\n",
       "</table>\n",
       "</div>"
      ],
      "text/plain": [
       "   id    country         store  \\\n",
       "0   0  Argentina  Kaggle Learn   \n",
       "1   1  Argentina  Kaggle Learn   \n",
       "2   2  Argentina  Kaggle Learn   \n",
       "3   3  Argentina  Kaggle Learn   \n",
       "4   4  Argentina  Kaggle Learn   \n",
       "\n",
       "                                          product  num_sold  day  month  year  \n",
       "0               Using LLMs to Improve Your Coding        63    1      1  2017  \n",
       "1                   Using LLMs to Train More LLMs        66    1      1  2017  \n",
       "2  Using LLMs to Win Friends and Influence People         9    1      1  2017  \n",
       "3      Using LLMs to Win More Kaggle Competitions        59    1      1  2017  \n",
       "4                      Using LLMs to Write Better        49    1      1  2017  "
      ]
     },
     "execution_count": 20,
     "metadata": {},
     "output_type": "execute_result"
    }
   ],
   "source": [
    "train.head()"
   ]
  },
  {
   "cell_type": "markdown",
   "id": "807069bc",
   "metadata": {
    "papermill": {
     "duration": 0.011252,
     "end_time": "2023-07-21T15:25:42.226989",
     "exception": false,
     "start_time": "2023-07-21T15:25:42.215737",
     "status": "completed"
    },
    "tags": []
   },
   "source": [
    "Exclude 2020 as it is outlier because of unpredictable covid 19 phase"
   ]
  },
  {
   "cell_type": "code",
   "execution_count": 21,
   "id": "39ae4cb5",
   "metadata": {
    "execution": {
     "iopub.execute_input": "2023-07-21T15:25:42.251847Z",
     "iopub.status.busy": "2023-07-21T15:25:42.251467Z",
     "iopub.status.idle": "2023-07-21T15:25:42.265583Z",
     "shell.execute_reply": "2023-07-21T15:25:42.264649Z"
    },
    "papermill": {
     "duration": 0.02942,
     "end_time": "2023-07-21T15:25:42.267930",
     "exception": false,
     "start_time": "2023-07-21T15:25:42.238510",
     "status": "completed"
    },
    "tags": []
   },
   "outputs": [],
   "source": [
    "train = train[train['year'] != 2020]"
   ]
  },
  {
   "cell_type": "code",
   "execution_count": 22,
   "id": "f02ea75a",
   "metadata": {
    "execution": {
     "iopub.execute_input": "2023-07-21T15:25:42.292661Z",
     "iopub.status.busy": "2023-07-21T15:25:42.292289Z",
     "iopub.status.idle": "2023-07-21T15:25:42.296457Z",
     "shell.execute_reply": "2023-07-21T15:25:42.295429Z"
    },
    "papermill": {
     "duration": 0.018887,
     "end_time": "2023-07-21T15:25:42.298405",
     "exception": false,
     "start_time": "2023-07-21T15:25:42.279518",
     "status": "completed"
    },
    "tags": []
   },
   "outputs": [],
   "source": [
    "#stores=train['store'].unique()"
   ]
  },
  {
   "cell_type": "code",
   "execution_count": 23,
   "id": "73ff819c",
   "metadata": {
    "execution": {
     "iopub.execute_input": "2023-07-21T15:25:42.323611Z",
     "iopub.status.busy": "2023-07-21T15:25:42.323216Z",
     "iopub.status.idle": "2023-07-21T15:25:42.333428Z",
     "shell.execute_reply": "2023-07-21T15:25:42.332425Z"
    },
    "papermill": {
     "duration": 0.025378,
     "end_time": "2023-07-21T15:25:42.335682",
     "exception": false,
     "start_time": "2023-07-21T15:25:42.310304",
     "status": "completed"
    },
    "tags": []
   },
   "outputs": [],
   "source": [
    "X= train.drop(['num_sold'],axis=1)\n",
    "y= train[['num_sold']]"
   ]
  },
  {
   "cell_type": "code",
   "execution_count": 24,
   "id": "77bb4164",
   "metadata": {
    "execution": {
     "iopub.execute_input": "2023-07-21T15:25:42.360804Z",
     "iopub.status.busy": "2023-07-21T15:25:42.360432Z",
     "iopub.status.idle": "2023-07-21T15:25:42.580168Z",
     "shell.execute_reply": "2023-07-21T15:25:42.579126Z"
    },
    "papermill": {
     "duration": 0.23534,
     "end_time": "2023-07-21T15:25:42.582683",
     "exception": false,
     "start_time": "2023-07-21T15:25:42.347343",
     "status": "completed"
    },
    "tags": []
   },
   "outputs": [],
   "source": [
    "cbe= CatBoostEncoder(cols = ['country', 'store', 'product']).fit(X,y)\n",
    "X= cbe.transform(X)\n"
   ]
  },
  {
   "cell_type": "code",
   "execution_count": 25,
   "id": "a42a1e34",
   "metadata": {
    "execution": {
     "iopub.execute_input": "2023-07-21T15:25:42.607560Z",
     "iopub.status.busy": "2023-07-21T15:25:42.607151Z",
     "iopub.status.idle": "2023-07-21T15:25:42.613355Z",
     "shell.execute_reply": "2023-07-21T15:25:42.612533Z"
    },
    "papermill": {
     "duration": 0.020942,
     "end_time": "2023-07-21T15:25:42.615405",
     "exception": false,
     "start_time": "2023-07-21T15:25:42.594463",
     "status": "completed"
    },
    "tags": []
   },
   "outputs": [],
   "source": [
    "y=np.log1p(y)"
   ]
  },
  {
   "cell_type": "code",
   "execution_count": 26,
   "id": "b1b714c9",
   "metadata": {
    "execution": {
     "iopub.execute_input": "2023-07-21T15:25:42.640880Z",
     "iopub.status.busy": "2023-07-21T15:25:42.640496Z",
     "iopub.status.idle": "2023-07-21T15:25:42.650916Z",
     "shell.execute_reply": "2023-07-21T15:25:42.650055Z"
    },
    "papermill": {
     "duration": 0.025785,
     "end_time": "2023-07-21T15:25:42.653115",
     "exception": false,
     "start_time": "2023-07-21T15:25:42.627330",
     "status": "completed"
    },
    "tags": []
   },
   "outputs": [],
   "source": [
    "test['date']=pd.to_datetime(test['date'])"
   ]
  },
  {
   "cell_type": "code",
   "execution_count": 27,
   "id": "1a444179",
   "metadata": {
    "execution": {
     "iopub.execute_input": "2023-07-21T15:25:42.677744Z",
     "iopub.status.busy": "2023-07-21T15:25:42.677367Z",
     "iopub.status.idle": "2023-07-21T15:25:42.693422Z",
     "shell.execute_reply": "2023-07-21T15:25:42.692398Z"
    },
    "papermill": {
     "duration": 0.031142,
     "end_time": "2023-07-21T15:25:42.695878",
     "exception": false,
     "start_time": "2023-07-21T15:25:42.664736",
     "status": "completed"
    },
    "tags": []
   },
   "outputs": [],
   "source": [
    "test=new_column(test)"
   ]
  },
  {
   "cell_type": "code",
   "execution_count": 28,
   "id": "1e57488a",
   "metadata": {
    "execution": {
     "iopub.execute_input": "2023-07-21T15:25:42.720600Z",
     "iopub.status.busy": "2023-07-21T15:25:42.720145Z",
     "iopub.status.idle": "2023-07-21T15:25:42.754199Z",
     "shell.execute_reply": "2023-07-21T15:25:42.753279Z"
    },
    "papermill": {
     "duration": 0.04914,
     "end_time": "2023-07-21T15:25:42.756586",
     "exception": false,
     "start_time": "2023-07-21T15:25:42.707446",
     "status": "completed"
    },
    "tags": []
   },
   "outputs": [],
   "source": [
    "test=cbe.transform(test)"
   ]
  },
  {
   "cell_type": "code",
   "execution_count": 29,
   "id": "1cc837cf",
   "metadata": {
    "execution": {
     "iopub.execute_input": "2023-07-21T15:25:42.781995Z",
     "iopub.status.busy": "2023-07-21T15:25:42.781404Z",
     "iopub.status.idle": "2023-07-21T15:25:42.787796Z",
     "shell.execute_reply": "2023-07-21T15:25:42.787034Z"
    },
    "papermill": {
     "duration": 0.021312,
     "end_time": "2023-07-21T15:25:42.789748",
     "exception": false,
     "start_time": "2023-07-21T15:25:42.768436",
     "status": "completed"
    },
    "tags": []
   },
   "outputs": [],
   "source": [
    "def hgbr_objective(trial):\n",
    "    # Use the trial object to suggest a value for alpha\n",
    "    # Optuna will come up with a suggested value based on the scores of previous trials\n",
    "    _alpha = trial.suggest_float(\"quantile\", 0.1, 1)\n",
    "    _beta = trial.suggest_float(\"learning_rate\", 0.1, 20)\n",
    "    _gamma = trial.suggest_int(\"max_iter\", 1, 100)\n",
    "    _delta= trial.suggest_int(\"max_leaf_nodes\", 2, 100)\n",
    "    _theta= trial.suggest_int(\"max_depth\", 1, 12)\n",
    "    # Define the model with the suggested alpha\n",
    "    hgbr = HistGradientBoostingRegressor(quantile=_alpha,learning_rate=_beta,max_iter=_gamma,\n",
    "                                         interaction_cst=\"pairwise\",warm_start=1,l2_regularization=1,\n",
    "                                         max_leaf_nodes= _delta,max_depth=_theta,random_state=42)\n",
    "    # Calculate the score with 10-folds cross validation, which returns a list of scores\n",
    "    # scoring is defined as negative RMSE as it is what this Kaggle competition uses to evaluate the result\n",
    "    scores = cross_val_score(hgbr, X, y, \n",
    "                             cv=KFold(n_splits=10,\n",
    "                                      shuffle=True,\n",
    "                                      random_state=42),\n",
    "                             scoring=\"neg_root_mean_squared_error\"\n",
    "                             #,error_score='raise'\n",
    "                            )\n",
    "    # Return the mean of 10 scores\n",
    "    return scores.mean()"
   ]
  },
  {
   "cell_type": "code",
   "execution_count": 30,
   "id": "2d597712",
   "metadata": {
    "execution": {
     "iopub.execute_input": "2023-07-21T15:25:42.814992Z",
     "iopub.status.busy": "2023-07-21T15:25:42.814385Z",
     "iopub.status.idle": "2023-07-21T15:25:42.819885Z",
     "shell.execute_reply": "2023-07-21T15:25:42.819091Z"
    },
    "papermill": {
     "duration": 0.020595,
     "end_time": "2023-07-21T15:25:42.821836",
     "exception": false,
     "start_time": "2023-07-21T15:25:42.801241",
     "status": "completed"
    },
    "tags": []
   },
   "outputs": [
    {
     "name": "stderr",
     "output_type": "stream",
     "text": [
      "[I 2023-07-21 15:25:42,816] A new study created in memory with name: no-name-c0490772-2216-4e8d-8060-b173cdd4f255\n"
     ]
    }
   ],
   "source": [
    "# Create Study object\n",
    "study = optuna.create_study(direction=\"maximize\")"
   ]
  },
  {
   "cell_type": "code",
   "execution_count": 31,
   "id": "b7d72674",
   "metadata": {
    "execution": {
     "iopub.execute_input": "2023-07-21T15:25:42.846985Z",
     "iopub.status.busy": "2023-07-21T15:25:42.846397Z",
     "iopub.status.idle": "2023-07-21T15:54:28.703318Z",
     "shell.execute_reply": "2023-07-21T15:54:28.702417Z"
    },
    "papermill": {
     "duration": 1725.871988,
     "end_time": "2023-07-21T15:54:28.705445",
     "exception": false,
     "start_time": "2023-07-21T15:25:42.833457",
     "status": "completed"
    },
    "tags": []
   },
   "outputs": [
    {
     "name": "stderr",
     "output_type": "stream",
     "text": [
      "[I 2023-07-21 15:25:44,214] Trial 0 finished with value: -5339535665.9035 and parameters: {'quantile': 0.47647285533457695, 'learning_rate': 10.385490455524995, 'max_iter': 24, 'max_leaf_nodes': 36, 'max_depth': 8}. Best is trial 0 with value: -5339535665.9035.\n",
      "[I 2023-07-21 15:25:45,151] Trial 1 finished with value: -35289.66817446128 and parameters: {'quantile': 0.6371008306981418, 'learning_rate': 14.680634850818151, 'max_iter': 4, 'max_leaf_nodes': 99, 'max_depth': 4}. Best is trial 1 with value: -35289.66817446128.\n",
      "[I 2023-07-21 15:25:46,562] Trial 2 finished with value: -3817.867709254265 and parameters: {'quantile': 0.6399842335287949, 'learning_rate': 3.2798678835765105, 'max_iter': 69, 'max_leaf_nodes': 79, 'max_depth': 7}. Best is trial 2 with value: -3817.867709254265.\n",
      "[I 2023-07-21 15:25:47,935] Trial 3 finished with value: -5118502567.998167 and parameters: {'quantile': 0.6126775018219263, 'learning_rate': 10.345895996596804, 'max_iter': 61, 'max_leaf_nodes': 70, 'max_depth': 12}. Best is trial 2 with value: -3817.867709254265.\n",
      "[I 2023-07-21 15:25:49,282] Trial 4 finished with value: -1462760678.6873493 and parameters: {'quantile': 0.8191093739793062, 'learning_rate': 9.245649700633296, 'max_iter': 93, 'max_leaf_nodes': 88, 'max_depth': 6}. Best is trial 2 with value: -3817.867709254265.\n",
      "[I 2023-07-21 15:25:50,636] Trial 5 finished with value: -20784562380.34874 and parameters: {'quantile': 0.28180611744138584, 'learning_rate': 11.751767313220663, 'max_iter': 12, 'max_leaf_nodes': 93, 'max_depth': 6}. Best is trial 2 with value: -3817.867709254265.\n",
      "[I 2023-07-21 15:25:51,676] Trial 6 finished with value: -5.28332986507777 and parameters: {'quantile': 0.3212474767363604, 'learning_rate': 2.3917356046897473, 'max_iter': 5, 'max_leaf_nodes': 84, 'max_depth': 8}. Best is trial 6 with value: -5.28332986507777.\n",
      "[I 2023-07-21 15:25:52,985] Trial 7 finished with value: -186469053.26277322 and parameters: {'quantile': 0.3711606201398081, 'learning_rate': 7.710733326647573, 'max_iter': 70, 'max_leaf_nodes': 91, 'max_depth': 5}. Best is trial 6 with value: -5.28332986507777.\n",
      "[I 2023-07-21 15:25:54,334] Trial 8 finished with value: -354599780.69057643 and parameters: {'quantile': 0.8988499685376226, 'learning_rate': 8.156201572952515, 'max_iter': 51, 'max_leaf_nodes': 14, 'max_depth': 11}. Best is trial 6 with value: -5.28332986507777.\n",
      "[I 2023-07-21 15:25:56,778] Trial 9 finished with value: -4380325777101.5405 and parameters: {'quantile': 0.7652821138603906, 'learning_rate': 19.35920938526437, 'max_iter': 45, 'max_leaf_nodes': 53, 'max_depth': 12}. Best is trial 6 with value: -5.28332986507777.\n",
      "[I 2023-07-21 15:25:58,197] Trial 10 finished with value: -0.16059815666906394 and parameters: {'quantile': 0.1738182914854849, 'learning_rate': 1.002678930229786, 'max_iter': 28, 'max_leaf_nodes': 62, 'max_depth': 1}. Best is trial 10 with value: -0.16059815666906394.\n",
      "[I 2023-07-21 15:25:59,592] Trial 11 finished with value: -0.1648431724373742 and parameters: {'quantile': 0.14185701699412087, 'learning_rate': 0.5052374582494608, 'max_iter': 27, 'max_leaf_nodes': 65, 'max_depth': 1}. Best is trial 10 with value: -0.16059815666906394.\n",
      "[I 2023-07-21 15:26:01,143] Trial 12 finished with value: -0.4126808512587957 and parameters: {'quantile': 0.14789180042799527, 'learning_rate': 0.10879998095056453, 'max_iter': 34, 'max_leaf_nodes': 58, 'max_depth': 1}. Best is trial 10 with value: -0.16059815666906394.\n",
      "[I 2023-07-21 15:26:02,532] Trial 13 finished with value: -0.3569692126319407 and parameters: {'quantile': 0.11930786589570447, 'learning_rate': 0.1539622239100602, 'max_iter': 28, 'max_leaf_nodes': 41, 'max_depth': 1}. Best is trial 10 with value: -0.16059815666906394.\n",
      "[I 2023-07-21 15:26:03,692] Trial 14 finished with value: -3689729.1001208886 and parameters: {'quantile': 0.20213724065265215, 'learning_rate': 5.534811907392917, 'max_iter': 19, 'max_leaf_nodes': 62, 'max_depth': 3}. Best is trial 10 with value: -0.16059815666906394.\n",
      "[I 2023-07-21 15:26:04,758] Trial 15 finished with value: -327153.70741356246 and parameters: {'quantile': 0.10970362178806803, 'learning_rate': 4.564755107151731, 'max_iter': 40, 'max_leaf_nodes': 33, 'max_depth': 2}. Best is trial 10 with value: -0.16059815666906394.\n",
      "[I 2023-07-21 15:26:05,925] Trial 16 finished with value: -8.158343551357534 and parameters: {'quantile': 0.23629276646577185, 'learning_rate': 2.233005123792805, 'max_iter': 17, 'max_leaf_nodes': 71, 'max_depth': 3}. Best is trial 10 with value: -0.16059815666906394.\n",
      "[I 2023-07-21 15:26:06,958] Trial 17 finished with value: -1641017.0673856628 and parameters: {'quantile': 0.4246697719668301, 'learning_rate': 5.329635151990154, 'max_iter': 33, 'max_leaf_nodes': 19, 'max_depth': 1}. Best is trial 10 with value: -0.16059815666906394.\n",
      "[I 2023-07-21 15:26:09,738] Trial 18 finished with value: -0.09423263049670824 and parameters: {'quantile': 0.24425886645218953, 'learning_rate': 1.1332028189450947, 'max_iter': 52, 'max_leaf_nodes': 44, 'max_depth': 3}. Best is trial 18 with value: -0.09423263049670824.\n",
      "[I 2023-07-21 15:26:10,935] Trial 19 finished with value: -15637838.043246884 and parameters: {'quantile': 0.26388646207427796, 'learning_rate': 6.239331935288056, 'max_iter': 86, 'max_leaf_nodes': 47, 'max_depth': 3}. Best is trial 18 with value: -0.09423263049670824.\n",
      "[I 2023-07-21 15:26:12,207] Trial 20 finished with value: -17812.728157518315 and parameters: {'quantile': 0.3506842843313584, 'learning_rate': 3.6595555168532217, 'max_iter': 55, 'max_leaf_nodes': 28, 'max_depth': 4}. Best is trial 18 with value: -0.09423263049670824.\n",
      "[I 2023-07-21 15:26:14,148] Trial 21 finished with value: -0.1910737961421453 and parameters: {'quantile': 0.15303238442871808, 'learning_rate': 1.8422647015327343, 'max_iter': 39, 'max_leaf_nodes': 69, 'max_depth': 2}. Best is trial 18 with value: -0.09423263049670824.\n",
      "[I 2023-07-21 15:26:16,026] Trial 22 finished with value: -0.16803310865428425 and parameters: {'quantile': 0.19884048272351146, 'learning_rate': 0.27841932489019394, 'max_iter': 47, 'max_leaf_nodes': 2, 'max_depth': 2}. Best is trial 18 with value: -0.09423263049670824.\n",
      "[I 2023-07-21 15:26:18,243] Trial 23 finished with value: -0.1576900466094438 and parameters: {'quantile': 0.2446303340553419, 'learning_rate': 1.6217739239016553, 'max_iter': 61, 'max_leaf_nodes': 47, 'max_depth': 1}. Best is trial 18 with value: -0.09423263049670824.\n",
      "[I 2023-07-21 15:26:19,513] Trial 24 finished with value: -1225.999632444712 and parameters: {'quantile': 0.28802332670030345, 'learning_rate': 3.035129970382962, 'max_iter': 68, 'max_leaf_nodes': 48, 'max_depth': 4}. Best is trial 18 with value: -0.09423263049670824.\n",
      "[I 2023-07-21 15:26:20,620] Trial 25 finished with value: -222629.99604767136 and parameters: {'quantile': 0.4011545002645761, 'learning_rate': 4.430150586586822, 'max_iter': 79, 'max_leaf_nodes': 54, 'max_depth': 2}. Best is trial 18 with value: -0.09423263049670824.\n",
      "[I 2023-07-21 15:26:23,821] Trial 26 finished with value: -0.1072452991276174 and parameters: {'quantile': 0.2193521884486223, 'learning_rate': 1.68410831425878, 'max_iter': 61, 'max_leaf_nodes': 44, 'max_depth': 3}. Best is trial 18 with value: -0.09423263049670824.\n",
      "[I 2023-07-21 15:26:29,317] Trial 27 finished with value: -0.47340403404046294 and parameters: {'quantile': 0.24253347022895086, 'learning_rate': 1.977866685731593, 'max_iter': 59, 'max_leaf_nodes': 44, 'max_depth': 5}. Best is trial 18 with value: -0.09423263049670824.\n",
      "[I 2023-07-21 15:26:30,680] Trial 28 finished with value: -25685.241309244364 and parameters: {'quantile': 0.3309203362773486, 'learning_rate': 3.758615365785515, 'max_iter': 78, 'max_leaf_nodes': 29, 'max_depth': 5}. Best is trial 18 with value: -0.09423263049670824.\n",
      "[I 2023-07-21 15:26:32,042] Trial 29 finished with value: -53527641.01668441 and parameters: {'quantile': 0.529506917776638, 'learning_rate': 6.923363240266915, 'max_iter': 65, 'max_leaf_nodes': 40, 'max_depth': 10}. Best is trial 18 with value: -0.09423263049670824.\n",
      "[I 2023-07-21 15:26:35,745] Trial 30 finished with value: -0.12227450581142714 and parameters: {'quantile': 0.4370225362037387, 'learning_rate': 1.8375547998581943, 'max_iter': 75, 'max_leaf_nodes': 23, 'max_depth': 3}. Best is trial 18 with value: -0.09423263049670824.\n",
      "[I 2023-07-21 15:26:39,497] Trial 31 finished with value: -0.09619805688436801 and parameters: {'quantile': 0.4244107736150885, 'learning_rate': 1.565679913924737, 'max_iter': 76, 'max_leaf_nodes': 23, 'max_depth': 3}. Best is trial 18 with value: -0.09423263049670824.\n",
      "[I 2023-07-21 15:26:40,662] Trial 32 finished with value: -658.9991570134907 and parameters: {'quantile': 0.4509866199722799, 'learning_rate': 2.913218115152953, 'max_iter': 98, 'max_leaf_nodes': 21, 'max_depth': 3}. Best is trial 18 with value: -0.09423263049670824.\n",
      "[I 2023-07-21 15:26:44,732] Trial 33 finished with value: -0.09236187454865884 and parameters: {'quantile': 0.4897545014002254, 'learning_rate': 1.5070566763535003, 'max_iter': 76, 'max_leaf_nodes': 9, 'max_depth': 4}. Best is trial 33 with value: -0.09236187454865884.\n",
      "[I 2023-07-21 15:26:45,977] Trial 34 finished with value: -129175.1377960811 and parameters: {'quantile': 0.4970100996162591, 'learning_rate': 4.242258659817789, 'max_iter': 85, 'max_leaf_nodes': 9, 'max_depth': 4}. Best is trial 33 with value: -0.09236187454865884.\n",
      "[I 2023-07-21 15:26:49,693] Trial 35 finished with value: -0.09036018547279526 and parameters: {'quantile': 0.38682627768681743, 'learning_rate': 1.1874160414081822, 'max_iter': 87, 'max_leaf_nodes': 5, 'max_depth': 4}. Best is trial 35 with value: -0.09036018547279526.\n",
      "[I 2023-07-21 15:26:50,769] Trial 36 finished with value: -1594.477256486071 and parameters: {'quantile': 0.46035722558056, 'learning_rate': 3.1122080210473113, 'max_iter': 88, 'max_leaf_nodes': 3, 'max_depth': 7}. Best is trial 35 with value: -0.09036018547279526.\n",
      "[I 2023-07-21 15:26:55,613] Trial 37 finished with value: -0.07871291548280948 and parameters: {'quantile': 0.38938684394230316, 'learning_rate': 1.0001884902161076, 'max_iter': 100, 'max_leaf_nodes': 9, 'max_depth': 6}. Best is trial 37 with value: -0.07871291548280948.\n",
      "[I 2023-07-21 15:27:01,943] Trial 38 finished with value: -0.07831705150421019 and parameters: {'quantile': 0.5875673647495098, 'learning_rate': 1.0995881624032555, 'max_iter': 100, 'max_leaf_nodes': 10, 'max_depth': 6}. Best is trial 38 with value: -0.07831705150421019.\n",
      "[I 2023-07-21 15:27:03,217] Trial 39 finished with value: -1404279.1496913538 and parameters: {'quantile': 0.5955265583732714, 'learning_rate': 5.115963999310161, 'max_iter': 98, 'max_leaf_nodes': 9, 'max_depth': 7}. Best is trial 38 with value: -0.07831705150421019.\n",
      "[I 2023-07-21 15:27:04,546] Trial 40 finished with value: -1060.8604943254895 and parameters: {'quantile': 0.5071911176294281, 'learning_rate': 3.005843732095011, 'max_iter': 92, 'max_leaf_nodes': 12, 'max_depth': 6}. Best is trial 38 with value: -0.07831705150421019.\n",
      "[I 2023-07-21 15:27:10,453] Trial 41 finished with value: -0.07038794183396291 and parameters: {'quantile': 0.553672316179999, 'learning_rate': 0.7105197136036321, 'max_iter': 94, 'max_leaf_nodes': 17, 'max_depth': 9}. Best is trial 41 with value: -0.07038794183396291.\n",
      "[I 2023-07-21 15:27:11,818] Trial 42 finished with value: -99.81021005555831 and parameters: {'quantile': 0.5699748304730009, 'learning_rate': 2.5836409981255506, 'max_iter': 100, 'max_leaf_nodes': 14, 'max_depth': 9}. Best is trial 41 with value: -0.07038794183396291.\n",
      "[I 2023-07-21 15:27:16,154] Trial 43 finished with value: -0.0820749249518872 and parameters: {'quantile': 0.648425502367952, 'learning_rate': 1.018748855821623, 'max_iter': 93, 'max_leaf_nodes': 8, 'max_depth': 8}. Best is trial 41 with value: -0.07038794183396291.\n",
      "[I 2023-07-21 15:27:20,099] Trial 44 finished with value: -0.09009768351872088 and parameters: {'quantile': 0.5502178380707625, 'learning_rate': 0.7955925547409967, 'max_iter': 93, 'max_leaf_nodes': 5, 'max_depth': 8}. Best is trial 41 with value: -0.07038794183396291.\n",
      "[I 2023-07-21 15:27:25,902] Trial 45 finished with value: -0.06808826651846789 and parameters: {'quantile': 0.6536959078156392, 'learning_rate': 0.9701770636613682, 'max_iter': 93, 'max_leaf_nodes': 17, 'max_depth': 8}. Best is trial 45 with value: -0.06808826651846789.\n",
      "[I 2023-07-21 15:27:33,863] Trial 46 finished with value: -0.09596021692687642 and parameters: {'quantile': 0.6814005925747216, 'learning_rate': 0.13307226828191487, 'max_iter': 95, 'max_leaf_nodes': 17, 'max_depth': 9}. Best is trial 45 with value: -0.06808826651846789.\n",
      "[I 2023-07-21 15:27:35,264] Trial 47 finished with value: -9756.573726089986 and parameters: {'quantile': 0.6442546006293671, 'learning_rate': 3.504118321660254, 'max_iter': 81, 'max_leaf_nodes': 16, 'max_depth': 9}. Best is trial 45 with value: -0.06808826651846789.\n",
      "[I 2023-07-21 15:27:49,476] Trial 48 finished with value: -0.05617382341302414 and parameters: {'quantile': 0.69162114509375, 'learning_rate': 0.8429750240076959, 'max_iter': 91, 'max_leaf_nodes': 100, 'max_depth': 8}. Best is trial 48 with value: -0.05617382341302414.\n",
      "[I 2023-07-21 15:27:50,893] Trial 49 finished with value: -31.814708800838684 and parameters: {'quantile': 0.7145262242123815, 'learning_rate': 2.412543859497434, 'max_iter': 89, 'max_leaf_nodes': 78, 'max_depth': 10}. Best is trial 48 with value: -0.05617382341302414.\n",
      "[I 2023-07-21 15:27:52,308] Trial 50 finished with value: -65276.8497022461 and parameters: {'quantile': 0.585776670093396, 'learning_rate': 4.0282844473212975, 'max_iter': 84, 'max_leaf_nodes': 99, 'max_depth': 6}. Best is trial 48 with value: -0.05617382341302414.\n",
      "[I 2023-07-21 15:27:59,658] Trial 51 finished with value: -0.06544236040775683 and parameters: {'quantile': 0.627237821351406, 'learning_rate': 0.617513944518, 'max_iter': 95, 'max_leaf_nodes': 27, 'max_depth': 8}. Best is trial 48 with value: -0.05617382341302414.\n",
      "[I 2023-07-21 15:28:08,302] Trial 52 finished with value: -0.08320183465516127 and parameters: {'quantile': 0.6180906772571251, 'learning_rate': 0.24360018273175166, 'max_iter': 96, 'max_leaf_nodes': 27, 'max_depth': 7}. Best is trial 48 with value: -0.05617382341302414.\n",
      "[I 2023-07-21 15:28:09,649] Trial 53 finished with value: -29.364898351697434 and parameters: {'quantile': 0.549729359568752, 'learning_rate': 2.401267998591644, 'max_iter': 91, 'max_leaf_nodes': 13, 'max_depth': 9}. Best is trial 48 with value: -0.05617382341302414.\n",
      "[I 2023-07-21 15:28:17,086] Trial 54 finished with value: -0.06149779622325173 and parameters: {'quantile': 0.6962556863999413, 'learning_rate': 0.8553680053988868, 'max_iter': 82, 'max_leaf_nodes': 35, 'max_depth': 8}. Best is trial 48 with value: -0.05617382341302414.\n",
      "[I 2023-07-21 15:28:18,470] Trial 55 finished with value: -31.60763880938248 and parameters: {'quantile': 0.74990732069823, 'learning_rate': 2.4116216440137466, 'max_iter': 83, 'max_leaf_nodes': 32, 'max_depth': 8}. Best is trial 48 with value: -0.05617382341302414.\n",
      "[I 2023-07-21 15:28:25,375] Trial 56 finished with value: -0.06146620295539277 and parameters: {'quantile': 0.6839619302757137, 'learning_rate': 0.811833601783701, 'max_iter': 72, 'max_leaf_nodes': 38, 'max_depth': 10}. Best is trial 48 with value: -0.05617382341302414.\n",
      "[I 2023-07-21 15:28:32,141] Trial 57 finished with value: -0.06436878969356333 and parameters: {'quantile': 0.687108263237061, 'learning_rate': 0.6356808903414034, 'max_iter': 71, 'max_leaf_nodes': 37, 'max_depth': 10}. Best is trial 48 with value: -0.05617382341302414.\n",
      "[I 2023-07-21 15:28:39,983] Trial 58 finished with value: -0.06277278640705178 and parameters: {'quantile': 0.6705366323709018, 'learning_rate': 0.7108434328838263, 'max_iter': 73, 'max_leaf_nodes': 35, 'max_depth': 11}. Best is trial 48 with value: -0.05617382341302414.\n",
      "[I 2023-07-21 15:28:46,835] Trial 59 finished with value: -0.0918616258243307 and parameters: {'quantile': 0.681978940333431, 'learning_rate': 0.18096827479573097, 'max_iter': 71, 'max_leaf_nodes': 38, 'max_depth': 11}. Best is trial 48 with value: -0.05617382341302414.\n",
      "[I 2023-07-21 15:28:48,247] Trial 60 finished with value: -3.4215500903816136 and parameters: {'quantile': 0.7839571229808685, 'learning_rate': 2.128996602299962, 'max_iter': 70, 'max_leaf_nodes': 36, 'max_depth': 11}. Best is trial 48 with value: -0.05617382341302414.\n",
      "[I 2023-07-21 15:28:54,841] Trial 61 finished with value: -0.0643822512911779 and parameters: {'quantile': 0.6796086598748503, 'learning_rate': 0.6627493202057773, 'max_iter': 73, 'max_leaf_nodes': 34, 'max_depth': 10}. Best is trial 48 with value: -0.05617382341302414.\n",
      "[I 2023-07-21 15:29:00,575] Trial 62 finished with value: -0.0683002137180457 and parameters: {'quantile': 0.7195457170645179, 'learning_rate': 0.641163753108959, 'max_iter': 65, 'max_leaf_nodes': 31, 'max_depth': 10}. Best is trial 48 with value: -0.05617382341302414.\n",
      "[I 2023-07-21 15:29:08,795] Trial 63 finished with value: -0.07410110735164928 and parameters: {'quantile': 0.8201963941910628, 'learning_rate': 1.6106489070692227, 'max_iter': 73, 'max_leaf_nodes': 35, 'max_depth': 12}. Best is trial 48 with value: -0.05617382341302414.\n",
      "[I 2023-07-21 15:29:10,185] Trial 64 finished with value: -11803.439126256977 and parameters: {'quantile': 0.6122802965128101, 'learning_rate': 3.552263404243525, 'max_iter': 66, 'max_leaf_nodes': 40, 'max_depth': 10}. Best is trial 48 with value: -0.05617382341302414.\n",
      "[I 2023-07-21 15:29:11,580] Trial 65 finished with value: -2.48611691802716 and parameters: {'quantile': 0.6866552101389793, 'learning_rate': 2.0923966073187694, 'max_iter': 81, 'max_leaf_nodes': 26, 'max_depth': 11}. Best is trial 48 with value: -0.05617382341302414.\n",
      "[I 2023-07-21 15:29:12,939] Trial 66 finished with value: -314.3707856007067 and parameters: {'quantile': 0.6296970954905156, 'learning_rate': 2.7761499185013876, 'max_iter': 56, 'max_leaf_nodes': 51, 'max_depth': 10}. Best is trial 48 with value: -0.05617382341302414.\n",
      "[I 2023-07-21 15:29:20,557] Trial 67 finished with value: -0.06359730227423792 and parameters: {'quantile': 0.720204711935599, 'learning_rate': 1.3771392553109076, 'max_iter': 80, 'max_leaf_nodes': 36, 'max_depth': 12}. Best is trial 48 with value: -0.05617382341302414.\n",
      "[I 2023-07-21 15:29:27,534] Trial 68 finished with value: -0.0739700423136928 and parameters: {'quantile': 0.7349057193166038, 'learning_rate': 1.595406581873899, 'max_iter': 74, 'max_leaf_nodes': 33, 'max_depth': 12}. Best is trial 48 with value: -0.05617382341302414.\n",
      "[I 2023-07-21 15:29:28,892] Trial 69 finished with value: -3489.2909179541225 and parameters: {'quantile': 0.7004099213450218, 'learning_rate': 3.2594438949918363, 'max_iter': 78, 'max_leaf_nodes': 43, 'max_depth': 11}. Best is trial 48 with value: -0.05617382341302414.\n",
      "[I 2023-07-21 15:29:34,736] Trial 70 finished with value: -0.0989273836741166 and parameters: {'quantile': 0.670697535882305, 'learning_rate': 0.13777788476077057, 'max_iter': 67, 'max_leaf_nodes': 37, 'max_depth': 11}. Best is trial 48 with value: -0.05617382341302414.\n",
      "[I 2023-07-21 15:29:47,638] Trial 71 finished with value: -0.055992756043827564 and parameters: {'quantile': 0.7088948954709932, 'learning_rate': 0.7167540799805485, 'max_iter': 72, 'max_leaf_nodes': 93, 'max_depth': 12}. Best is trial 71 with value: -0.055992756043827564.\n",
      "[I 2023-07-21 15:30:01,224] Trial 72 finished with value: -0.05724900506079672 and parameters: {'quantile': 0.7105408031807877, 'learning_rate': 1.356031972658932, 'max_iter': 82, 'max_leaf_nodes': 94, 'max_depth': 10}. Best is trial 71 with value: -0.055992756043827564.\n",
      "[I 2023-07-21 15:30:16,005] Trial 73 finished with value: -0.05716664697674552 and parameters: {'quantile': 0.7707896833032459, 'learning_rate': 1.4349540026659238, 'max_iter': 81, 'max_leaf_nodes': 94, 'max_depth': 12}. Best is trial 71 with value: -0.055992756043827564.\n",
      "[I 2023-07-21 15:30:29,868] Trial 74 finished with value: -0.057124503342223534 and parameters: {'quantile': 0.7639546062034248, 'learning_rate': 1.3870229305884756, 'max_iter': 81, 'max_leaf_nodes': 94, 'max_depth': 12}. Best is trial 71 with value: -0.055992756043827564.\n",
      "[I 2023-07-21 15:30:31,235] Trial 75 finished with value: -2.24007767939678 and parameters: {'quantile': 0.7952576091906768, 'learning_rate': 2.0805223161139565, 'max_iter': 83, 'max_leaf_nodes': 95, 'max_depth': 12}. Best is trial 71 with value: -0.055992756043827564.\n",
      "[I 2023-07-21 15:30:46,347] Trial 76 finished with value: -0.056280644228685096 and parameters: {'quantile': 0.7525171113987134, 'learning_rate': 1.2938770550484509, 'max_iter': 89, 'max_leaf_nodes': 87, 'max_depth': 12}. Best is trial 71 with value: -0.055992756043827564.\n",
      "[I 2023-07-21 15:31:01,253] Trial 77 finished with value: -0.056556701068182204 and parameters: {'quantile': 0.7590029507938815, 'learning_rate': 1.4195644220897952, 'max_iter': 90, 'max_leaf_nodes': 89, 'max_depth': 12}. Best is trial 71 with value: -0.055992756043827564.\n",
      "[I 2023-07-21 15:31:02,629] Trial 78 finished with value: -447.97318691588237 and parameters: {'quantile': 0.7594630543273551, 'learning_rate': 2.8401761283549125, 'max_iter': 89, 'max_leaf_nodes': 87, 'max_depth': 12}. Best is trial 71 with value: -0.055992756043827564.\n",
      "[I 2023-07-21 15:31:03,521] Trial 79 finished with value: -0.3916789741937231 and parameters: {'quantile': 0.8220840982213876, 'learning_rate': 1.3968142522228535, 'max_iter': 2, 'max_leaf_nodes': 91, 'max_depth': 12}. Best is trial 71 with value: -0.055992756043827564.\n",
      "[I 2023-07-21 15:31:04,903] Trial 80 finished with value: -727537.7513561627 and parameters: {'quantile': 0.8492252802028595, 'learning_rate': 4.853912351919574, 'max_iter': 87, 'max_leaf_nodes': 96, 'max_depth': 11}. Best is trial 71 with value: -0.055992756043827564.\n",
      "[I 2023-07-21 15:31:18,691] Trial 81 finished with value: -0.07357330264294762 and parameters: {'quantile': 0.7467359664046352, 'learning_rate': 1.8091945748247107, 'max_iter': 90, 'max_leaf_nodes': 81, 'max_depth': 12}. Best is trial 71 with value: -0.055992756043827564.\n",
      "[I 2023-07-21 15:31:32,556] Trial 82 finished with value: -0.055808210586477794 and parameters: {'quantile': 0.7670707275131988, 'learning_rate': 1.1720029223000963, 'max_iter': 85, 'max_leaf_nodes': 89, 'max_depth': 12}. Best is trial 82 with value: -0.055808210586477794.\n",
      "[I 2023-07-21 15:31:46,209] Trial 83 finished with value: -0.05752493915844277 and parameters: {'quantile': 0.7762384516001531, 'learning_rate': 1.389856882384434, 'max_iter': 77, 'max_leaf_nodes': 90, 'max_depth': 12}. Best is trial 82 with value: -0.055808210586477794.\n",
      "[I 2023-07-21 15:31:47,679] Trial 84 finished with value: -95.5407970564087 and parameters: {'quantile': 0.7780283720397067, 'learning_rate': 2.5767333389388885, 'max_iter': 85, 'max_leaf_nodes': 89, 'max_depth': 12}. Best is trial 82 with value: -0.055808210586477794.\n",
      "[I 2023-07-21 15:31:49,086] Trial 85 finished with value: -62728.253418430824 and parameters: {'quantile': 0.7694505013426131, 'learning_rate': 4.016248714986595, 'max_iter': 78, 'max_leaf_nodes': 84, 'max_depth': 12}. Best is trial 82 with value: -0.055808210586477794.\n",
      "[I 2023-07-21 15:32:03,560] Trial 86 finished with value: -0.05659152762182214 and parameters: {'quantile': 0.7947900932102192, 'learning_rate': 1.3581532942135117, 'max_iter': 86, 'max_leaf_nodes': 96, 'max_depth': 11}. Best is trial 82 with value: -0.055808210586477794.\n",
      "[I 2023-07-21 15:32:04,918] Trial 87 finished with value: -3828.1058096733555 and parameters: {'quantile': 0.8023301030848201, 'learning_rate': 3.280478481942834, 'max_iter': 86, 'max_leaf_nodes': 100, 'max_depth': 11}. Best is trial 82 with value: -0.055808210586477794.\n",
      "[I 2023-07-21 15:32:12,718] Trial 88 finished with value: -0.17701226171014964 and parameters: {'quantile': 0.7328488188253675, 'learning_rate': 1.9579063866214768, 'max_iter': 89, 'max_leaf_nodes': 93, 'max_depth': 12}. Best is trial 82 with value: -0.055808210586477794.\n",
      "[I 2023-07-21 15:32:14,084] Trial 89 finished with value: -228.8254830649461 and parameters: {'quantile': 0.7559950889173498, 'learning_rate': 2.7206278247965803, 'max_iter': 97, 'max_leaf_nodes': 86, 'max_depth': 11}. Best is trial 82 with value: -0.055808210586477794.\n",
      "[I 2023-07-21 15:32:30,617] Trial 90 finished with value: -0.05633913973143066 and parameters: {'quantile': 0.8645184440283336, 'learning_rate': 1.3601592637139175, 'max_iter': 91, 'max_leaf_nodes': 97, 'max_depth': 11}. Best is trial 82 with value: -0.055808210586477794.\n",
      "[I 2023-07-21 15:32:44,947] Trial 91 finished with value: -0.0563786102678893 and parameters: {'quantile': 0.8470950116631766, 'learning_rate': 1.33224630957937, 'max_iter': 85, 'max_leaf_nodes': 97, 'max_depth': 11}. Best is trial 82 with value: -0.055808210586477794.\n",
      "[I 2023-07-21 15:32:46,315] Trial 92 finished with value: -1.5447043914712624 and parameters: {'quantile': 0.8443915275266546, 'learning_rate': 2.0378837350027763, 'max_iter': 91, 'max_leaf_nodes': 97, 'max_depth': 11}. Best is trial 82 with value: -0.055808210586477794.\n",
      "[I 2023-07-21 15:33:02,202] Trial 93 finished with value: -0.056062566134238975 and parameters: {'quantile': 0.8880515899690485, 'learning_rate': 1.2441799858967675, 'max_iter': 86, 'max_leaf_nodes': 98, 'max_depth': 12}. Best is trial 82 with value: -0.055808210586477794.\n",
      "[I 2023-07-21 15:33:17,191] Trial 94 finished with value: -0.05518831501959835 and parameters: {'quantile': 0.8911369241559617, 'learning_rate': 1.1277388129721295, 'max_iter': 87, 'max_leaf_nodes': 98, 'max_depth': 12}. Best is trial 94 with value: -0.05518831501959835.\n",
      "[I 2023-07-21 15:33:29,263] Trial 95 finished with value: -0.090831803810157 and parameters: {'quantile': 0.8819920001275072, 'learning_rate': 0.13613031801690223, 'max_iter': 87, 'max_leaf_nodes': 97, 'max_depth': 11}. Best is trial 94 with value: -0.05518831501959835.\n",
      "[I 2023-07-21 15:33:44,700] Trial 96 finished with value: -0.05520178979154174 and parameters: {'quantile': 0.928373224425744, 'learning_rate': 1.0662534518720623, 'max_iter': 85, 'max_leaf_nodes': 98, 'max_depth': 12}. Best is trial 94 with value: -0.05518831501959835.\n",
      "[I 2023-07-21 15:33:46,055] Trial 97 finished with value: -17.37345841167195 and parameters: {'quantile': 0.9416376383147577, 'learning_rate': 2.3295894291373975, 'max_iter': 91, 'max_leaf_nodes': 100, 'max_depth': 12}. Best is trial 94 with value: -0.05518831501959835.\n",
      "[I 2023-07-21 15:34:00,093] Trial 98 finished with value: -0.05554749215397671 and parameters: {'quantile': 0.8847166023390242, 'learning_rate': 1.0757657242057461, 'max_iter': 84, 'max_leaf_nodes': 80, 'max_depth': 12}. Best is trial 94 with value: -0.05518831501959835.\n",
      "[I 2023-07-21 15:34:12,173] Trial 99 finished with value: -0.056608663704142116 and parameters: {'quantile': 0.9060223865661097, 'learning_rate': 0.5977371179338926, 'max_iter': 84, 'max_leaf_nodes': 76, 'max_depth': 12}. Best is trial 94 with value: -0.05518831501959835.\n",
      "[I 2023-07-21 15:34:28,387] Trial 100 finished with value: -0.05706699688488811 and parameters: {'quantile': 0.955557565594371, 'learning_rate': 0.4608789314018774, 'max_iter': 95, 'max_leaf_nodes': 92, 'max_depth': 11}. Best is trial 94 with value: -0.05518831501959835.\n",
      "[I 2023-07-21 15:34:42,129] Trial 101 finished with value: -0.05533066710319858 and parameters: {'quantile': 0.873876385497435, 'learning_rate': 1.0623762208690528, 'max_iter': 88, 'max_leaf_nodes': 84, 'max_depth': 12}. Best is trial 94 with value: -0.05518831501959835.\n",
      "[I 2023-07-21 15:34:57,247] Trial 102 finished with value: -0.0555045982092674 and parameters: {'quantile': 0.8758872326586206, 'learning_rate': 1.081173209451459, 'max_iter': 88, 'max_leaf_nodes': 83, 'max_depth': 12}. Best is trial 94 with value: -0.05518831501959835.\n",
      "[I 2023-07-21 15:35:12,983] Trial 103 finished with value: -0.055259934647413564 and parameters: {'quantile': 0.8844377765743412, 'learning_rate': 0.9382991603973558, 'max_iter': 93, 'max_leaf_nodes': 82, 'max_depth': 12}. Best is trial 94 with value: -0.05518831501959835.\n",
      "[I 2023-07-21 15:35:30,178] Trial 104 finished with value: -0.055163311102967384 and parameters: {'quantile': 0.9073357903149034, 'learning_rate': 1.0301485543138318, 'max_iter': 93, 'max_leaf_nodes': 82, 'max_depth': 12}. Best is trial 104 with value: -0.055163311102967384.\n",
      "[I 2023-07-21 15:35:45,370] Trial 105 finished with value: -0.05543502366869017 and parameters: {'quantile': 0.9106865823994691, 'learning_rate': 0.9395846409399603, 'max_iter': 98, 'max_leaf_nodes': 73, 'max_depth': 12}. Best is trial 104 with value: -0.055163311102967384.\n",
      "[I 2023-07-21 15:36:01,048] Trial 106 finished with value: -0.07788566125616345 and parameters: {'quantile': 0.9171201533336717, 'learning_rate': 1.8254746724712168, 'max_iter': 99, 'max_leaf_nodes': 73, 'max_depth': 12}. Best is trial 104 with value: -0.055163311102967384.\n",
      "[I 2023-07-21 15:36:17,295] Trial 107 finished with value: -0.05501514225198937 and parameters: {'quantile': 0.9229110902087891, 'learning_rate': 0.9841502781044791, 'max_iter': 96, 'max_leaf_nodes': 82, 'max_depth': 12}. Best is trial 107 with value: -0.05501514225198937.\n",
      "[I 2023-07-21 15:36:34,761] Trial 108 finished with value: -0.0552388968258446 and parameters: {'quantile': 0.9796832088471182, 'learning_rate': 0.8706516195507189, 'max_iter': 97, 'max_leaf_nodes': 82, 'max_depth': 12}. Best is trial 107 with value: -0.05501514225198937.\n",
      "[I 2023-07-21 15:36:50,604] Trial 109 finished with value: -0.0582321426072373 and parameters: {'quantile': 0.9775555064703246, 'learning_rate': 0.4078052724231819, 'max_iter': 97, 'max_leaf_nodes': 83, 'max_depth': 12}. Best is trial 107 with value: -0.05501514225198937.\n",
      "[I 2023-07-21 15:37:07,233] Trial 110 finished with value: -0.05520065294038527 and parameters: {'quantile': 0.9260766435472133, 'learning_rate': 0.9878334694088552, 'max_iter': 93, 'max_leaf_nodes': 80, 'max_depth': 12}. Best is trial 107 with value: -0.05501514225198937.\n",
      "[I 2023-07-21 15:37:22,883] Trial 111 finished with value: -0.055190196828222945 and parameters: {'quantile': 0.9306722486988068, 'learning_rate': 0.9931250317412266, 'max_iter': 93, 'max_leaf_nodes': 79, 'max_depth': 12}. Best is trial 107 with value: -0.05501514225198937.\n",
      "[I 2023-07-21 15:37:37,065] Trial 112 finished with value: -0.09060474562656509 and parameters: {'quantile': 0.9116234711348536, 'learning_rate': 1.8815709102098879, 'max_iter': 93, 'max_leaf_nodes': 79, 'max_depth': 12}. Best is trial 107 with value: -0.05501514225198937.\n",
      "[I 2023-07-21 15:37:52,309] Trial 113 finished with value: -0.055368773228656354 and parameters: {'quantile': 0.9318152778706853, 'learning_rate': 0.9013562443666434, 'max_iter': 96, 'max_leaf_nodes': 75, 'max_depth': 12}. Best is trial 107 with value: -0.05501514225198937.\n",
      "[I 2023-07-21 15:37:53,790] Trial 114 finished with value: -11.470793473546609 and parameters: {'quantile': 0.9306686805610478, 'learning_rate': 2.275458150268153, 'max_iter': 95, 'max_leaf_nodes': 74, 'max_depth': 12}. Best is trial 107 with value: -0.05501514225198937.\n",
      "[I 2023-07-21 15:38:07,242] Trial 115 finished with value: -0.08319538722502448 and parameters: {'quantile': 0.9843795557825304, 'learning_rate': 0.16672530201514746, 'max_iter': 97, 'max_leaf_nodes': 68, 'max_depth': 12}. Best is trial 107 with value: -0.05501514225198937.\n",
      "[I 2023-07-21 15:38:23,144] Trial 116 finished with value: -0.05522345871283405 and parameters: {'quantile': 0.9486184829290237, 'learning_rate': 0.9158525202744512, 'max_iter': 100, 'max_leaf_nodes': 77, 'max_depth': 11}. Best is trial 107 with value: -0.05501514225198937.\n",
      "[I 2023-07-21 15:38:39,624] Trial 117 finished with value: -0.055964997771179345 and parameters: {'quantile': 0.9647052599675141, 'learning_rate': 0.6002327775053202, 'max_iter': 100, 'max_leaf_nodes': 77, 'max_depth': 11}. Best is trial 107 with value: -0.05501514225198937.\n",
      "[I 2023-07-21 15:38:53,623] Trial 118 finished with value: -0.05565072440749088 and parameters: {'quantile': 0.9933958713884214, 'learning_rate': 0.875469554967338, 'max_iter': 98, 'max_leaf_nodes': 67, 'max_depth': 11}. Best is trial 107 with value: -0.05501514225198937.\n",
      "[I 2023-07-21 15:39:06,317] Trial 119 finished with value: -0.09271406348363813 and parameters: {'quantile': 0.9298805708080542, 'learning_rate': 1.883510577383905, 'max_iter': 95, 'max_leaf_nodes': 72, 'max_depth': 12}. Best is trial 107 with value: -0.05501514225198937.\n",
      "[I 2023-07-21 15:39:08,997] Trial 120 finished with value: -47.31738045086475 and parameters: {'quantile': 0.9503165120188133, 'learning_rate': 2.4697466836823, 'max_iter': 93, 'max_leaf_nodes': 75, 'max_depth': 12}. Best is trial 107 with value: -0.05501514225198937.\n",
      "[I 2023-07-21 15:39:25,144] Trial 121 finished with value: -0.05517273486548731 and parameters: {'quantile': 0.9257530866605999, 'learning_rate': 0.9549774597640894, 'max_iter': 98, 'max_leaf_nodes': 82, 'max_depth': 12}. Best is trial 107 with value: -0.05501514225198937.\n",
      "[I 2023-07-21 15:39:41,643] Trial 122 finished with value: -0.05794369339153025 and parameters: {'quantile': 0.8973612980455927, 'learning_rate': 0.41288171689893116, 'max_iter': 98, 'max_leaf_nodes': 81, 'max_depth': 12}. Best is trial 107 with value: -0.05501514225198937.\n",
      "[I 2023-07-21 15:39:55,991] Trial 123 finished with value: -0.0647220270976159 and parameters: {'quantile': 0.9277110536125013, 'learning_rate': 1.7317876093012787, 'max_iter': 100, 'max_leaf_nodes': 70, 'max_depth': 12}. Best is trial 107 with value: -0.05501514225198937.\n",
      "[I 2023-07-21 15:40:13,827] Trial 124 finished with value: -0.05522689744036045 and parameters: {'quantile': 0.9679537969061612, 'learning_rate': 0.9266378673952643, 'max_iter': 96, 'max_leaf_nodes': 84, 'max_depth': 11}. Best is trial 107 with value: -0.05501514225198937.\n",
      "[I 2023-07-21 15:40:28,812] Trial 125 finished with value: -0.05784226545418254 and parameters: {'quantile': 0.9736932839188156, 'learning_rate': 0.4341311552465926, 'max_iter': 94, 'max_leaf_nodes': 84, 'max_depth': 11}. Best is trial 107 with value: -0.05501514225198937.\n",
      "[I 2023-07-21 15:40:45,984] Trial 126 finished with value: -0.05519121631179223 and parameters: {'quantile': 0.998447853556128, 'learning_rate': 0.8766518442952388, 'max_iter': 96, 'max_leaf_nodes': 85, 'max_depth': 11}. Best is trial 107 with value: -0.05501514225198937.\n",
      "[I 2023-07-21 15:40:57,148] Trial 127 finished with value: -0.0946636271009345 and parameters: {'quantile': 0.9983327815893516, 'learning_rate': 0.10663790596418532, 'max_iter': 92, 'max_leaf_nodes': 82, 'max_depth': 11}. Best is trial 107 with value: -0.05501514225198937.\n",
      "[I 2023-07-21 15:40:58,599] Trial 128 finished with value: -2129.269453292153 and parameters: {'quantile': 0.9501606069518305, 'learning_rate': 3.1505637481941036, 'max_iter': 94, 'max_leaf_nodes': 86, 'max_depth': 11}. Best is trial 107 with value: -0.05501514225198937.\n",
      "[I 2023-07-21 15:41:13,986] Trial 129 finished with value: -0.06165201511488477 and parameters: {'quantile': 0.9495384307869634, 'learning_rate': 1.6697426155155501, 'max_iter': 96, 'max_leaf_nodes': 79, 'max_depth': 11}. Best is trial 107 with value: -0.05501514225198937.\n",
      "[I 2023-07-21 15:41:16,463] Trial 130 finished with value: -10.056691438410292 and parameters: {'quantile': 0.9729101132800045, 'learning_rate': 2.2587519787027968, 'max_iter': 100, 'max_leaf_nodes': 77, 'max_depth': 11}. Best is trial 107 with value: -0.05501514225198937.\n",
      "[I 2023-07-21 15:41:33,173] Trial 131 finished with value: -0.054952417681924604 and parameters: {'quantile': 0.9313252247719627, 'learning_rate': 0.959795628792108, 'max_iter': 96, 'max_leaf_nodes': 85, 'max_depth': 12}. Best is trial 131 with value: -0.054952417681924604.\n",
      "[I 2023-07-21 15:41:35,171] Trial 132 finished with value: -0.08721858806912361 and parameters: {'quantile': 0.9666188249072566, 'learning_rate': 0.9935696604759392, 'max_iter': 8, 'max_leaf_nodes': 81, 'max_depth': 12}. Best is trial 131 with value: -0.054952417681924604.\n",
      "[I 2023-07-21 15:41:51,471] Trial 133 finished with value: -0.05617976025881215 and parameters: {'quantile': 0.8967673814361111, 'learning_rate': 0.5587563612377356, 'max_iter': 93, 'max_leaf_nodes': 85, 'max_depth': 12}. Best is trial 131 with value: -0.054952417681924604.\n",
      "[I 2023-07-21 15:41:52,899] Trial 134 finished with value: -2892742612.9645157 and parameters: {'quantile': 0.9190843177654774, 'learning_rate': 9.827506125855601, 'max_iter': 46, 'max_leaf_nodes': 61, 'max_depth': 12}. Best is trial 131 with value: -0.054952417681924604.\n",
      "[I 2023-07-21 15:41:54,340] Trial 135 finished with value: -357.46042020465603 and parameters: {'quantile': 0.9410083684040002, 'learning_rate': 2.799110159371623, 'max_iter': 97, 'max_leaf_nodes': 88, 'max_depth': 12}. Best is trial 131 with value: -0.054952417681924604.\n",
      "[I 2023-07-21 15:42:08,342] Trial 136 finished with value: -0.06566025845636252 and parameters: {'quantile': 0.9990740930002195, 'learning_rate': 1.7176622498193042, 'max_iter': 90, 'max_leaf_nodes': 79, 'max_depth': 11}. Best is trial 131 with value: -0.054952417681924604.\n",
      "[I 2023-07-21 15:42:25,483] Trial 137 finished with value: -0.055247561325589487 and parameters: {'quantile': 0.9586528556673494, 'learning_rate': 0.9520554002601184, 'max_iter': 93, 'max_leaf_nodes': 85, 'max_depth': 12}. Best is trial 131 with value: -0.054952417681924604.\n",
      "[I 2023-07-21 15:42:37,677] Trial 138 finished with value: -0.09217878082957284 and parameters: {'quantile': 0.9604814571569773, 'learning_rate': 0.11631690549563822, 'max_iter': 95, 'max_leaf_nodes': 86, 'max_depth': 12}. Best is trial 131 with value: -0.054952417681924604.\n",
      "[I 2023-07-21 15:42:53,606] Trial 139 finished with value: -0.055747798634014224 and parameters: {'quantile': 0.9781513347356978, 'learning_rate': 0.6826171247329731, 'max_iter': 92, 'max_leaf_nodes': 82, 'max_depth': 11}. Best is trial 131 with value: -0.054952417681924604.\n",
      "[I 2023-07-21 15:42:55,129] Trial 140 finished with value: -8.220891122939811 and parameters: {'quantile': 0.9061654684561422, 'learning_rate': 2.233558950118021, 'max_iter': 98, 'max_leaf_nodes': 91, 'max_depth': 12}. Best is trial 131 with value: -0.054952417681924604.\n",
      "[I 2023-07-21 15:43:10,494] Trial 141 finished with value: -0.05527177633128334 and parameters: {'quantile': 0.9398938859987128, 'learning_rate': 1.0511224673545578, 'max_iter': 88, 'max_leaf_nodes': 85, 'max_depth': 12}. Best is trial 131 with value: -0.054952417681924604.\n",
      "[I 2023-07-21 15:43:26,190] Trial 142 finished with value: -0.06091682419932902 and parameters: {'quantile': 0.9405493822120519, 'learning_rate': 1.6408113380312228, 'max_iter': 93, 'max_leaf_nodes': 78, 'max_depth': 12}. Best is trial 131 with value: -0.054952417681924604.\n",
      "[I 2023-07-21 15:43:33,722] Trial 143 finished with value: -0.05868793919818919 and parameters: {'quantile': 0.9587286501541036, 'learning_rate': 0.9611209851604448, 'max_iter': 41, 'max_leaf_nodes': 88, 'max_depth': 12}. Best is trial 131 with value: -0.054952417681924604.\n",
      "[I 2023-07-21 15:43:35,178] Trial 144 finished with value: -255108279.3149324 and parameters: {'quantile': 0.9224748193311572, 'learning_rate': 7.924389190788707, 'max_iter': 96, 'max_leaf_nodes': 85, 'max_depth': 12}. Best is trial 131 with value: -0.054952417681924604.\n",
      "[I 2023-07-21 15:43:49,415] Trial 145 finished with value: -0.057277208453659724 and parameters: {'quantile': 0.8974128333758077, 'learning_rate': 0.49372156346825113, 'max_iter': 91, 'max_leaf_nodes': 81, 'max_depth': 11}. Best is trial 131 with value: -0.054952417681924604.\n",
      "[I 2023-07-21 15:43:50,918] Trial 146 finished with value: -66115040.38618152 and parameters: {'quantile': 0.9853921384503509, 'learning_rate': 7.049790831760694, 'max_iter': 99, 'max_leaf_nodes': 83, 'max_depth': 12}. Best is trial 131 with value: -0.054952417681924604.\n",
      "[I 2023-07-21 15:44:09,023] Trial 147 finished with value: -0.05558090743333893 and parameters: {'quantile': 0.9362533367151962, 'learning_rate': 1.2093667553899685, 'max_iter': 94, 'max_leaf_nodes': 87, 'max_depth': 12}. Best is trial 131 with value: -0.054952417681924604.\n",
      "[I 2023-07-21 15:44:10,541] Trial 148 finished with value: -1.376660540075481 and parameters: {'quantile': 0.9590323873584471, 'learning_rate': 2.0243559117328656, 'max_iter': 96, 'max_leaf_nodes': 80, 'max_depth': 11}. Best is trial 131 with value: -0.054952417681924604.\n",
      "[I 2023-07-21 15:44:26,088] Trial 149 finished with value: -0.06136326607997962 and parameters: {'quantile': 0.9141706577350702, 'learning_rate': 1.6183628413091662, 'max_iter': 89, 'max_leaf_nodes': 76, 'max_depth': 12}. Best is trial 131 with value: -0.054952417681924604.\n",
      "[I 2023-07-21 15:44:27,641] Trial 150 finished with value: -4516651.858139952 and parameters: {'quantile': 0.9469234814473193, 'learning_rate': 5.625888999303547, 'max_iter': 100, 'max_leaf_nodes': 84, 'max_depth': 12}. Best is trial 131 with value: -0.054952417681924604.\n",
      "[I 2023-07-21 15:44:43,512] Trial 151 finished with value: -0.05521424047220601 and parameters: {'quantile': 0.8698257734892927, 'learning_rate': 1.0102364775231718, 'max_iter': 92, 'max_leaf_nodes': 85, 'max_depth': 12}. Best is trial 131 with value: -0.054952417681924604.\n",
      "[I 2023-07-21 15:44:48,134] Trial 152 finished with value: -0.06412837813280049 and parameters: {'quantile': 0.8915047871163698, 'learning_rate': 1.0036562651769876, 'max_iter': 23, 'max_leaf_nodes': 91, 'max_depth': 12}. Best is trial 131 with value: -0.054952417681924604.\n",
      "[I 2023-07-21 15:45:03,981] Trial 153 finished with value: -0.056080136699384185 and parameters: {'quantile': 0.9243583609156645, 'learning_rate': 0.6369742225205273, 'max_iter': 91, 'max_leaf_nodes': 82, 'max_depth': 12}. Best is trial 131 with value: -0.054952417681924604.\n",
      "[I 2023-07-21 15:45:19,669] Trial 154 finished with value: -0.055831472367045235 and parameters: {'quantile': 0.8613484907487969, 'learning_rate': 1.1992475158941256, 'max_iter': 94, 'max_leaf_nodes': 78, 'max_depth': 12}. Best is trial 131 with value: -0.054952417681924604.\n",
      "[I 2023-07-21 15:45:32,909] Trial 155 finished with value: -0.09410035009490852 and parameters: {'quantile': 0.9795243754387064, 'learning_rate': 0.10775740136107137, 'max_iter': 97, 'max_leaf_nodes': 85, 'max_depth': 11}. Best is trial 131 with value: -0.054952417681924604.\n",
      "[I 2023-07-21 15:45:34,399] Trial 156 finished with value: -10795009233.3174 and parameters: {'quantile': 0.8743641596205746, 'learning_rate': 11.069976736295532, 'max_iter': 88, 'max_leaf_nodes': 88, 'max_depth': 12}. Best is trial 131 with value: -0.054952417681924604.\n",
      "[I 2023-07-21 15:45:49,759] Trial 157 finished with value: -0.05815784116525528 and parameters: {'quantile': 0.9372294527610056, 'learning_rate': 1.5545732464127913, 'max_iter': 93, 'max_leaf_nodes': 80, 'max_depth': 12}. Best is trial 131 with value: -0.054952417681924604.\n",
      "[I 2023-07-21 15:46:06,724] Trial 158 finished with value: -0.05528686396520397 and parameters: {'quantile': 0.9105953087819499, 'learning_rate': 0.7817025961021267, 'max_iter': 90, 'max_leaf_nodes': 90, 'max_depth': 11}. Best is trial 131 with value: -0.054952417681924604.\n",
      "[I 2023-07-21 15:46:08,232] Trial 159 finished with value: -214.95949337039752 and parameters: {'quantile': 0.9999666793239814, 'learning_rate': 2.7099065786469287, 'max_iter': 98, 'max_leaf_nodes': 86, 'max_depth': 12}. Best is trial 131 with value: -0.054952417681924604.\n",
      "[I 2023-07-21 15:46:09,772] Trial 160 finished with value: -2.316762277461402 and parameters: {'quantile': 0.962046464294416, 'learning_rate': 2.084356890002472, 'max_iter': 95, 'max_leaf_nodes': 83, 'max_depth': 12}. Best is trial 131 with value: -0.054952417681924604.\n",
      "[I 2023-07-21 15:46:24,729] Trial 161 finished with value: -0.05563938832447379 and parameters: {'quantile': 0.9079415895326727, 'learning_rate': 0.7044664015616928, 'max_iter': 90, 'max_leaf_nodes': 90, 'max_depth': 10}. Best is trial 131 with value: -0.054952417681924604.\n",
      "[I 2023-07-21 15:46:40,735] Trial 162 finished with value: -0.05541347507294468 and parameters: {'quantile': 0.8858059831791653, 'learning_rate': 0.9214478331175151, 'max_iter': 87, 'max_leaf_nodes': 89, 'max_depth': 11}. Best is trial 131 with value: -0.054952417681924604.\n",
      "[I 2023-07-21 15:46:55,920] Trial 163 finished with value: -0.05624042319105044 and parameters: {'quantile': 0.9270770604531385, 'learning_rate': 1.2479016677279817, 'max_iter': 92, 'max_leaf_nodes': 82, 'max_depth': 11}. Best is trial 131 with value: -0.054952417681924604.\n",
      "[I 2023-07-21 15:47:13,654] Trial 164 finished with value: -0.05628275635050267 and parameters: {'quantile': 0.9039242593683581, 'learning_rate': 0.5159331905781739, 'max_iter': 96, 'max_leaf_nodes': 92, 'max_depth': 12}. Best is trial 131 with value: -0.054952417681924604.\n",
      "[I 2023-07-21 15:47:29,049] Trial 165 finished with value: -0.06255739306844962 and parameters: {'quantile': 0.9701511337885362, 'learning_rate': 1.6829130752429857, 'max_iter': 92, 'max_leaf_nodes': 86, 'max_depth': 11}. Best is trial 131 with value: -0.054952417681924604.\n",
      "[I 2023-07-21 15:47:44,461] Trial 166 finished with value: -0.05544909206257496 and parameters: {'quantile': 0.9466947516265618, 'learning_rate': 0.9361401140572007, 'max_iter': 89, 'max_leaf_nodes': 79, 'max_depth': 12}. Best is trial 131 with value: -0.054952417681924604.\n",
      "[I 2023-07-21 15:47:59,214] Trial 167 finished with value: -0.05754536556669802 and parameters: {'quantile': 0.8596992800282139, 'learning_rate': 0.44203866377158385, 'max_iter': 94, 'max_leaf_nodes': 83, 'max_depth': 11}. Best is trial 131 with value: -0.054952417681924604.\n",
      "[I 2023-07-21 15:48:00,726] Trial 168 finished with value: -557421820.5284406 and parameters: {'quantile': 0.9182235754053669, 'learning_rate': 8.487325696865419, 'max_iter': 100, 'max_leaf_nodes': 77, 'max_depth': 10}. Best is trial 131 with value: -0.054952417681924604.\n",
      "[I 2023-07-21 15:48:18,712] Trial 169 finished with value: -0.056082135383194356 and parameters: {'quantile': 0.8884287144576524, 'learning_rate': 1.3426797484040625, 'max_iter': 98, 'max_leaf_nodes': 85, 'max_depth': 12}. Best is trial 131 with value: -0.054952417681924604.\n",
      "[I 2023-07-21 15:48:25,570] Trial 170 finished with value: -0.11292404252663528 and parameters: {'quantile': 0.9821227802551805, 'learning_rate': 0.10608666506825215, 'max_iter': 90, 'max_leaf_nodes': 81, 'max_depth': 5}. Best is trial 131 with value: -0.054952417681924604.\n",
      "[I 2023-07-21 15:48:41,564] Trial 171 finished with value: -0.055230153115316705 and parameters: {'quantile': 0.866839846347078, 'learning_rate': 0.9552718453279732, 'max_iter': 89, 'max_leaf_nodes': 84, 'max_depth': 12}. Best is trial 131 with value: -0.054952417681924604.\n",
      "[I 2023-07-21 15:48:56,472] Trial 172 finished with value: -0.05513987195464952 and parameters: {'quantile': 0.8348452176692346, 'learning_rate': 0.9048607118813929, 'max_iter': 87, 'max_leaf_nodes': 88, 'max_depth': 12}. Best is trial 131 with value: -0.054952417681924604.\n",
      "[I 2023-07-21 15:49:12,484] Trial 173 finished with value: -0.056979103907458264 and parameters: {'quantile': 0.8692761383299773, 'learning_rate': 1.4244080012449882, 'max_iter': 86, 'max_leaf_nodes': 87, 'max_depth': 12}. Best is trial 131 with value: -0.054952417681924604.\n",
      "[I 2023-07-21 15:49:13,929] Trial 174 finished with value: -70285371864.19289 and parameters: {'quantile': 0.8381279316980127, 'learning_rate': 13.144834166071, 'max_iter': 92, 'max_leaf_nodes': 84, 'max_depth': 12}. Best is trial 131 with value: -0.054952417681924604.\n",
      "[I 2023-07-21 15:49:28,435] Trial 175 finished with value: -0.07267114472808142 and parameters: {'quantile': 0.8278540878732328, 'learning_rate': 1.8100625632784713, 'max_iter': 96, 'max_leaf_nodes': 80, 'max_depth': 12}. Best is trial 131 with value: -0.054952417681924604.\n",
      "[I 2023-07-21 15:49:39,918] Trial 176 finished with value: -0.05612491289948689 and parameters: {'quantile': 0.8650572379164782, 'learning_rate': 1.0303977805401972, 'max_iter': 88, 'max_leaf_nodes': 56, 'max_depth': 12}. Best is trial 131 with value: -0.054952417681924604.\n",
      "[I 2023-07-21 15:49:55,579] Trial 177 finished with value: -0.05688482225941005 and parameters: {'quantile': 0.9345077127823584, 'learning_rate': 0.495790281903024, 'max_iter': 94, 'max_leaf_nodes': 82, 'max_depth': 12}. Best is trial 131 with value: -0.054952417681924604.\n",
      "[I 2023-07-21 15:49:57,088] Trial 178 finished with value: -16.15464653747966 and parameters: {'quantile': 0.8487092218934682, 'learning_rate': 2.319945834412612, 'max_iter': 98, 'max_leaf_nodes': 88, 'max_depth': 12}. Best is trial 131 with value: -0.054952417681924604.\n",
      "[I 2023-07-21 15:50:11,918] Trial 179 finished with value: -0.05604533628151441 and parameters: {'quantile': 0.9579022497380444, 'learning_rate': 1.1818717965572876, 'max_iter': 92, 'max_leaf_nodes': 75, 'max_depth': 12}. Best is trial 131 with value: -0.054952417681924604.\n",
      "[I 2023-07-21 15:50:25,298] Trial 180 finished with value: -0.07736102632282829 and parameters: {'quantile': 0.8834564711708536, 'learning_rate': 1.8091688734815914, 'max_iter': 83, 'max_leaf_nodes': 84, 'max_depth': 12}. Best is trial 131 with value: -0.054952417681924604.\n",
      "[I 2023-07-21 15:50:40,793] Trial 181 finished with value: -0.055544442326688384 and parameters: {'quantile': 0.9084773899752678, 'learning_rate': 0.738119214104616, 'max_iter': 90, 'max_leaf_nodes': 90, 'max_depth': 11}. Best is trial 131 with value: -0.054952417681924604.\n",
      "[I 2023-07-21 15:50:57,615] Trial 182 finished with value: -0.055723400691749456 and parameters: {'quantile': 0.9234899332798301, 'learning_rate': 0.5999598745276815, 'max_iter': 88, 'max_leaf_nodes': 94, 'max_depth': 12}. Best is trial 131 with value: -0.054952417681924604.\n",
      "[I 2023-07-21 15:51:14,033] Trial 183 finished with value: -0.055111409599162456 and parameters: {'quantile': 0.8996786065201754, 'learning_rate': 0.8298470336257401, 'max_iter': 95, 'max_leaf_nodes': 87, 'max_depth': 12}. Best is trial 131 with value: -0.054952417681924604.\n",
      "[I 2023-07-21 15:51:31,392] Trial 184 finished with value: -0.05646219226698309 and parameters: {'quantile': 0.9435715554400571, 'learning_rate': 1.448455613558455, 'max_iter': 95, 'max_leaf_nodes': 86, 'max_depth': 12}. Best is trial 131 with value: -0.054952417681924604.\n",
      "[I 2023-07-21 15:51:32,874] Trial 185 finished with value: -269192.6526476353 and parameters: {'quantile': 0.8893459240339194, 'learning_rate': 4.489187540731983, 'max_iter': 97, 'max_leaf_nodes': 78, 'max_depth': 12}. Best is trial 131 with value: -0.054952417681924604.\n",
      "[I 2023-07-21 15:51:41,044] Trial 186 finished with value: -0.05848684191920297 and parameters: {'quantile': 0.9770107748095002, 'learning_rate': 1.0668564911345224, 'max_iter': 49, 'max_leaf_nodes': 81, 'max_depth': 12}. Best is trial 131 with value: -0.054952417681924604.\n",
      "[I 2023-07-21 15:51:57,290] Trial 187 finished with value: -0.05680664505637593 and parameters: {'quantile': 0.9586755175820824, 'learning_rate': 0.5156392705031411, 'max_iter': 93, 'max_leaf_nodes': 84, 'max_depth': 12}. Best is trial 131 with value: -0.054952417681924604.\n",
      "[I 2023-07-21 15:52:15,136] Trial 188 finished with value: -0.0568606490262175 and parameters: {'quantile': 0.856421338430757, 'learning_rate': 1.49511514878975, 'max_iter': 100, 'max_leaf_nodes': 87, 'max_depth': 12}. Best is trial 131 with value: -0.054952417681924604.\n",
      "[I 2023-07-21 15:52:31,775] Trial 189 finished with value: -0.0553275619864706 and parameters: {'quantile': 0.8997656226988173, 'learning_rate': 0.9216071974192769, 'max_iter': 95, 'max_leaf_nodes': 80, 'max_depth': 12}. Best is trial 131 with value: -0.054952417681924604.\n",
      "[I 2023-07-21 15:52:45,240] Trial 190 finished with value: -0.09123570202097656 and parameters: {'quantile': 0.9319932064350279, 'learning_rate': 1.8823572535306328, 'max_iter': 97, 'max_leaf_nodes': 83, 'max_depth': 12}. Best is trial 131 with value: -0.054952417681924604.\n",
      "[I 2023-07-21 15:53:02,201] Trial 191 finished with value: -0.05521099355363782 and parameters: {'quantile': 0.9062149299050775, 'learning_rate': 0.8178178413714131, 'max_iter': 91, 'max_leaf_nodes': 89, 'max_depth': 11}. Best is trial 131 with value: -0.054952417681924604.\n",
      "[I 2023-07-21 15:53:16,905] Trial 192 finished with value: -0.05938733066152231 and parameters: {'quantile': 0.8793842760746343, 'learning_rate': 0.3792457455907693, 'max_iter': 92, 'max_leaf_nodes': 85, 'max_depth': 11}. Best is trial 131 with value: -0.054952417681924604.\n",
      "[I 2023-07-21 15:53:33,079] Trial 193 finished with value: -0.055424922637383155 and parameters: {'quantile': 0.9452099569729605, 'learning_rate': 1.1677415873437451, 'max_iter': 86, 'max_leaf_nodes': 88, 'max_depth': 12}. Best is trial 131 with value: -0.054952417681924604.\n",
      "[I 2023-07-21 15:53:44,452] Trial 194 finished with value: -0.09457907571555932 and parameters: {'quantile': 0.9181755758225234, 'learning_rate': 0.10567830041688919, 'max_iter': 94, 'max_leaf_nodes': 86, 'max_depth': 12}. Best is trial 131 with value: -0.054952417681924604.\n",
      "[I 2023-07-21 15:54:00,518] Trial 195 finished with value: -0.055506517969965474 and parameters: {'quantile': 0.8298804314355769, 'learning_rate': 0.7913808098550558, 'max_iter': 91, 'max_leaf_nodes': 83, 'max_depth': 12}. Best is trial 131 with value: -0.054952417681924604.\n",
      "[I 2023-07-21 15:54:07,047] Trial 196 finished with value: -0.06898249842332463 and parameters: {'quantile': 0.9990400610645407, 'learning_rate': 1.4568726575342987, 'max_iter': 34, 'max_leaf_nodes': 92, 'max_depth': 11}. Best is trial 131 with value: -0.054952417681924604.\n",
      "[I 2023-07-21 15:54:24,623] Trial 197 finished with value: -0.054909219177390035 and parameters: {'quantile': 0.8992688004089351, 'learning_rate': 0.9665737220848067, 'max_iter': 96, 'max_leaf_nodes': 95, 'max_depth': 11}. Best is trial 197 with value: -0.054909219177390035.\n",
      "[I 2023-07-21 15:54:26,159] Trial 198 finished with value: -13243.623389705952 and parameters: {'quantile': 0.881456914725593, 'learning_rate': 3.581814502449236, 'max_iter': 98, 'max_leaf_nodes': 95, 'max_depth': 11}. Best is trial 197 with value: -0.054909219177390035.\n",
      "[I 2023-07-21 15:54:28,699] Trial 199 finished with value: -2.296302622816536 and parameters: {'quantile': 0.9001222387500372, 'learning_rate': 2.0833463649118635, 'max_iter': 96, 'max_leaf_nodes': 97, 'max_depth': 11}. Best is trial 197 with value: -0.054909219177390035.\n"
     ]
    }
   ],
   "source": [
    "# Optimize the study, use more trials to obtain better result, use less trials to be more cost-efficient\n",
    "study.optimize(hgbr_objective, n_trials=200) # Use more"
   ]
  },
  {
   "cell_type": "code",
   "execution_count": 32,
   "id": "14ccedfd",
   "metadata": {
    "execution": {
     "iopub.execute_input": "2023-07-21T15:54:28.758970Z",
     "iopub.status.busy": "2023-07-21T15:54:28.757884Z",
     "iopub.status.idle": "2023-07-21T15:54:28.762904Z",
     "shell.execute_reply": "2023-07-21T15:54:28.762003Z"
    },
    "papermill": {
     "duration": 0.034434,
     "end_time": "2023-07-21T15:54:28.765064",
     "exception": false,
     "start_time": "2023-07-21T15:54:28.730630",
     "status": "completed"
    },
    "tags": []
   },
   "outputs": [],
   "source": [
    "# Print the result\n",
    "best_params = study.best_params\n",
    "best_score = study.best_value"
   ]
  },
  {
   "cell_type": "code",
   "execution_count": 33,
   "id": "69b8a766",
   "metadata": {
    "execution": {
     "iopub.execute_input": "2023-07-21T15:54:28.818099Z",
     "iopub.status.busy": "2023-07-21T15:54:28.816973Z",
     "iopub.status.idle": "2023-07-21T15:54:28.823824Z",
     "shell.execute_reply": "2023-07-21T15:54:28.822687Z"
    },
    "papermill": {
     "duration": 0.034788,
     "end_time": "2023-07-21T15:54:28.826429",
     "exception": false,
     "start_time": "2023-07-21T15:54:28.791641",
     "status": "completed"
    },
    "tags": []
   },
   "outputs": [
    {
     "data": {
      "text/plain": [
       "-0.054909219177390035"
      ]
     },
     "execution_count": 33,
     "metadata": {},
     "output_type": "execute_result"
    }
   ],
   "source": [
    "best_score"
   ]
  },
  {
   "cell_type": "code",
   "execution_count": 34,
   "id": "2c394f9f",
   "metadata": {
    "execution": {
     "iopub.execute_input": "2023-07-21T15:54:28.878836Z",
     "iopub.status.busy": "2023-07-21T15:54:28.878195Z",
     "iopub.status.idle": "2023-07-21T15:54:28.883374Z",
     "shell.execute_reply": "2023-07-21T15:54:28.882131Z"
    },
    "papermill": {
     "duration": 0.034679,
     "end_time": "2023-07-21T15:54:28.886009",
     "exception": false,
     "start_time": "2023-07-21T15:54:28.851330",
     "status": "completed"
    },
    "tags": []
   },
   "outputs": [],
   "source": [
    "hgbr= HistGradientBoostingRegressor(**best_params,random_state=42)"
   ]
  },
  {
   "cell_type": "code",
   "execution_count": 35,
   "id": "5296e8af",
   "metadata": {
    "execution": {
     "iopub.execute_input": "2023-07-21T15:54:28.937288Z",
     "iopub.status.busy": "2023-07-21T15:54:28.936866Z",
     "iopub.status.idle": "2023-07-21T15:54:30.592754Z",
     "shell.execute_reply": "2023-07-21T15:54:30.591631Z"
    },
    "papermill": {
     "duration": 1.683561,
     "end_time": "2023-07-21T15:54:30.595064",
     "exception": false,
     "start_time": "2023-07-21T15:54:28.911503",
     "status": "completed"
    },
    "tags": []
   },
   "outputs": [
    {
     "data": {
      "text/html": [
       "<style>#sk-container-id-1 {color: black;background-color: white;}#sk-container-id-1 pre{padding: 0;}#sk-container-id-1 div.sk-toggleable {background-color: white;}#sk-container-id-1 label.sk-toggleable__label {cursor: pointer;display: block;width: 100%;margin-bottom: 0;padding: 0.3em;box-sizing: border-box;text-align: center;}#sk-container-id-1 label.sk-toggleable__label-arrow:before {content: \"▸\";float: left;margin-right: 0.25em;color: #696969;}#sk-container-id-1 label.sk-toggleable__label-arrow:hover:before {color: black;}#sk-container-id-1 div.sk-estimator:hover label.sk-toggleable__label-arrow:before {color: black;}#sk-container-id-1 div.sk-toggleable__content {max-height: 0;max-width: 0;overflow: hidden;text-align: left;background-color: #f0f8ff;}#sk-container-id-1 div.sk-toggleable__content pre {margin: 0.2em;color: black;border-radius: 0.25em;background-color: #f0f8ff;}#sk-container-id-1 input.sk-toggleable__control:checked~div.sk-toggleable__content {max-height: 200px;max-width: 100%;overflow: auto;}#sk-container-id-1 input.sk-toggleable__control:checked~label.sk-toggleable__label-arrow:before {content: \"▾\";}#sk-container-id-1 div.sk-estimator input.sk-toggleable__control:checked~label.sk-toggleable__label {background-color: #d4ebff;}#sk-container-id-1 div.sk-label input.sk-toggleable__control:checked~label.sk-toggleable__label {background-color: #d4ebff;}#sk-container-id-1 input.sk-hidden--visually {border: 0;clip: rect(1px 1px 1px 1px);clip: rect(1px, 1px, 1px, 1px);height: 1px;margin: -1px;overflow: hidden;padding: 0;position: absolute;width: 1px;}#sk-container-id-1 div.sk-estimator {font-family: monospace;background-color: #f0f8ff;border: 1px dotted black;border-radius: 0.25em;box-sizing: border-box;margin-bottom: 0.5em;}#sk-container-id-1 div.sk-estimator:hover {background-color: #d4ebff;}#sk-container-id-1 div.sk-parallel-item::after {content: \"\";width: 100%;border-bottom: 1px solid gray;flex-grow: 1;}#sk-container-id-1 div.sk-label:hover label.sk-toggleable__label {background-color: #d4ebff;}#sk-container-id-1 div.sk-serial::before {content: \"\";position: absolute;border-left: 1px solid gray;box-sizing: border-box;top: 0;bottom: 0;left: 50%;z-index: 0;}#sk-container-id-1 div.sk-serial {display: flex;flex-direction: column;align-items: center;background-color: white;padding-right: 0.2em;padding-left: 0.2em;position: relative;}#sk-container-id-1 div.sk-item {position: relative;z-index: 1;}#sk-container-id-1 div.sk-parallel {display: flex;align-items: stretch;justify-content: center;background-color: white;position: relative;}#sk-container-id-1 div.sk-item::before, #sk-container-id-1 div.sk-parallel-item::before {content: \"\";position: absolute;border-left: 1px solid gray;box-sizing: border-box;top: 0;bottom: 0;left: 50%;z-index: -1;}#sk-container-id-1 div.sk-parallel-item {display: flex;flex-direction: column;z-index: 1;position: relative;background-color: white;}#sk-container-id-1 div.sk-parallel-item:first-child::after {align-self: flex-end;width: 50%;}#sk-container-id-1 div.sk-parallel-item:last-child::after {align-self: flex-start;width: 50%;}#sk-container-id-1 div.sk-parallel-item:only-child::after {width: 0;}#sk-container-id-1 div.sk-dashed-wrapped {border: 1px dashed gray;margin: 0 0.4em 0.5em 0.4em;box-sizing: border-box;padding-bottom: 0.4em;background-color: white;}#sk-container-id-1 div.sk-label label {font-family: monospace;font-weight: bold;display: inline-block;line-height: 1.2em;}#sk-container-id-1 div.sk-label-container {text-align: center;}#sk-container-id-1 div.sk-container {/* jupyter's `normalize.less` sets `[hidden] { display: none; }` but bootstrap.min.css set `[hidden] { display: none !important; }` so we also need the `!important` here to be able to override the default hidden behavior on the sphinx rendered scikit-learn.org. See: https://github.com/scikit-learn/scikit-learn/issues/21755 */display: inline-block !important;position: relative;}#sk-container-id-1 div.sk-text-repr-fallback {display: none;}</style><div id=\"sk-container-id-1\" class=\"sk-top-container\"><div class=\"sk-text-repr-fallback\"><pre>HistGradientBoostingRegressor(learning_rate=0.9665737220848067, max_depth=11,\n",
       "                              max_iter=96, max_leaf_nodes=95,\n",
       "                              quantile=0.8992688004089351, random_state=42)</pre><b>In a Jupyter environment, please rerun this cell to show the HTML representation or trust the notebook. <br />On GitHub, the HTML representation is unable to render, please try loading this page with nbviewer.org.</b></div><div class=\"sk-container\" hidden><div class=\"sk-item\"><div class=\"sk-estimator sk-toggleable\"><input class=\"sk-toggleable__control sk-hidden--visually\" id=\"sk-estimator-id-1\" type=\"checkbox\" checked><label for=\"sk-estimator-id-1\" class=\"sk-toggleable__label sk-toggleable__label-arrow\">HistGradientBoostingRegressor</label><div class=\"sk-toggleable__content\"><pre>HistGradientBoostingRegressor(learning_rate=0.9665737220848067, max_depth=11,\n",
       "                              max_iter=96, max_leaf_nodes=95,\n",
       "                              quantile=0.8992688004089351, random_state=42)</pre></div></div></div></div></div>"
      ],
      "text/plain": [
       "HistGradientBoostingRegressor(learning_rate=0.9665737220848067, max_depth=11,\n",
       "                              max_iter=96, max_leaf_nodes=95,\n",
       "                              quantile=0.8992688004089351, random_state=42)"
      ]
     },
     "execution_count": 35,
     "metadata": {},
     "output_type": "execute_result"
    }
   ],
   "source": [
    "hgbr.fit(X,y)"
   ]
  },
  {
   "cell_type": "code",
   "execution_count": 36,
   "id": "10f8332e",
   "metadata": {
    "execution": {
     "iopub.execute_input": "2023-07-21T15:54:30.648955Z",
     "iopub.status.busy": "2023-07-21T15:54:30.648170Z",
     "iopub.status.idle": "2023-07-21T15:54:30.653843Z",
     "shell.execute_reply": "2023-07-21T15:54:30.652735Z"
    },
    "papermill": {
     "duration": 0.036517,
     "end_time": "2023-07-21T15:54:30.656477",
     "exception": false,
     "start_time": "2023-07-21T15:54:30.619960",
     "status": "completed"
    },
    "tags": []
   },
   "outputs": [],
   "source": [
    "#for c in countries:\n",
    "   # train= train[train['country']==c]\n",
    "   # for s in stores:\n",
    "    # train = train[train['store']==s]\n",
    "   #  new_column= train[['date','num_sold']]\n",
    "   #  new_column.columns = ['ds', 'y'] \n",
    "   #  new_column = new_column.drop_duplicates(subset= 'ds', keep='last')\n",
    "     \n",
    "   #  model = n.fit(new_column, freq='D', epochs=10,batch_size=6)"
   ]
  },
  {
   "cell_type": "code",
   "execution_count": 37,
   "id": "b63efb7f",
   "metadata": {
    "execution": {
     "iopub.execute_input": "2023-07-21T15:54:30.711841Z",
     "iopub.status.busy": "2023-07-21T15:54:30.711471Z",
     "iopub.status.idle": "2023-07-21T15:54:30.723494Z",
     "shell.execute_reply": "2023-07-21T15:54:30.722496Z"
    },
    "papermill": {
     "duration": 0.043032,
     "end_time": "2023-07-21T15:54:30.726036",
     "exception": false,
     "start_time": "2023-07-21T15:54:30.683004",
     "status": "completed"
    },
    "tags": []
   },
   "outputs": [
    {
     "data": {
      "text/html": [
       "<div>\n",
       "<style scoped>\n",
       "    .dataframe tbody tr th:only-of-type {\n",
       "        vertical-align: middle;\n",
       "    }\n",
       "\n",
       "    .dataframe tbody tr th {\n",
       "        vertical-align: top;\n",
       "    }\n",
       "\n",
       "    .dataframe thead th {\n",
       "        text-align: right;\n",
       "    }\n",
       "</style>\n",
       "<table border=\"1\" class=\"dataframe\">\n",
       "  <thead>\n",
       "    <tr style=\"text-align: right;\">\n",
       "      <th></th>\n",
       "      <th>id</th>\n",
       "      <th>country</th>\n",
       "      <th>store</th>\n",
       "      <th>product</th>\n",
       "      <th>day</th>\n",
       "      <th>month</th>\n",
       "      <th>year</th>\n",
       "    </tr>\n",
       "  </thead>\n",
       "  <tbody>\n",
       "    <tr>\n",
       "      <th>0</th>\n",
       "      <td>136950</td>\n",
       "      <td>65.712922</td>\n",
       "      <td>61.909528</td>\n",
       "      <td>227.768216</td>\n",
       "      <td>1</td>\n",
       "      <td>1</td>\n",
       "      <td>2022</td>\n",
       "    </tr>\n",
       "    <tr>\n",
       "      <th>1</th>\n",
       "      <td>136951</td>\n",
       "      <td>65.712922</td>\n",
       "      <td>61.909528</td>\n",
       "      <td>222.596169</td>\n",
       "      <td>1</td>\n",
       "      <td>1</td>\n",
       "      <td>2022</td>\n",
       "    </tr>\n",
       "    <tr>\n",
       "      <th>2</th>\n",
       "      <td>136952</td>\n",
       "      <td>65.712922</td>\n",
       "      <td>61.909528</td>\n",
       "      <td>34.762737</td>\n",
       "      <td>1</td>\n",
       "      <td>1</td>\n",
       "      <td>2022</td>\n",
       "    </tr>\n",
       "    <tr>\n",
       "      <th>3</th>\n",
       "      <td>136953</td>\n",
       "      <td>65.712922</td>\n",
       "      <td>61.909528</td>\n",
       "      <td>190.187786</td>\n",
       "      <td>1</td>\n",
       "      <td>1</td>\n",
       "      <td>2022</td>\n",
       "    </tr>\n",
       "    <tr>\n",
       "      <th>4</th>\n",
       "      <td>136954</td>\n",
       "      <td>65.712922</td>\n",
       "      <td>61.909528</td>\n",
       "      <td>173.170344</td>\n",
       "      <td>1</td>\n",
       "      <td>1</td>\n",
       "      <td>2022</td>\n",
       "    </tr>\n",
       "  </tbody>\n",
       "</table>\n",
       "</div>"
      ],
      "text/plain": [
       "       id    country      store     product  day  month  year\n",
       "0  136950  65.712922  61.909528  227.768216    1      1  2022\n",
       "1  136951  65.712922  61.909528  222.596169    1      1  2022\n",
       "2  136952  65.712922  61.909528   34.762737    1      1  2022\n",
       "3  136953  65.712922  61.909528  190.187786    1      1  2022\n",
       "4  136954  65.712922  61.909528  173.170344    1      1  2022"
      ]
     },
     "execution_count": 37,
     "metadata": {},
     "output_type": "execute_result"
    }
   ],
   "source": [
    "test.head()"
   ]
  },
  {
   "cell_type": "code",
   "execution_count": 38,
   "id": "84ba549d",
   "metadata": {
    "execution": {
     "iopub.execute_input": "2023-07-21T15:54:30.777718Z",
     "iopub.status.busy": "2023-07-21T15:54:30.777338Z",
     "iopub.status.idle": "2023-07-21T15:54:30.856023Z",
     "shell.execute_reply": "2023-07-21T15:54:30.855121Z"
    },
    "papermill": {
     "duration": 0.107728,
     "end_time": "2023-07-21T15:54:30.858577",
     "exception": false,
     "start_time": "2023-07-21T15:54:30.750849",
     "status": "completed"
    },
    "tags": []
   },
   "outputs": [],
   "source": [
    "prediction = hgbr.predict(test)"
   ]
  },
  {
   "cell_type": "code",
   "execution_count": 39,
   "id": "3c5c7665",
   "metadata": {
    "execution": {
     "iopub.execute_input": "2023-07-21T15:54:30.913314Z",
     "iopub.status.busy": "2023-07-21T15:54:30.912254Z",
     "iopub.status.idle": "2023-07-21T15:54:30.919701Z",
     "shell.execute_reply": "2023-07-21T15:54:30.918390Z"
    },
    "papermill": {
     "duration": 0.037365,
     "end_time": "2023-07-21T15:54:30.922388",
     "exception": false,
     "start_time": "2023-07-21T15:54:30.885023",
     "status": "completed"
    },
    "tags": []
   },
   "outputs": [],
   "source": [
    "prediction=np.expm1(prediction)"
   ]
  },
  {
   "cell_type": "code",
   "execution_count": 40,
   "id": "c4781e89",
   "metadata": {
    "execution": {
     "iopub.execute_input": "2023-07-21T15:54:30.974469Z",
     "iopub.status.busy": "2023-07-21T15:54:30.974080Z",
     "iopub.status.idle": "2023-07-21T15:54:30.980242Z",
     "shell.execute_reply": "2023-07-21T15:54:30.978997Z"
    },
    "papermill": {
     "duration": 0.035212,
     "end_time": "2023-07-21T15:54:30.982671",
     "exception": false,
     "start_time": "2023-07-21T15:54:30.947459",
     "status": "completed"
    },
    "tags": []
   },
   "outputs": [],
   "source": [
    "output=pd.DataFrame({'id':test.id,'num_sold':prediction*1.5})"
   ]
  },
  {
   "cell_type": "code",
   "execution_count": 41,
   "id": "36f0098e",
   "metadata": {
    "execution": {
     "iopub.execute_input": "2023-07-21T15:54:31.036819Z",
     "iopub.status.busy": "2023-07-21T15:54:31.035924Z",
     "iopub.status.idle": "2023-07-21T15:54:31.045262Z",
     "shell.execute_reply": "2023-07-21T15:54:31.044388Z"
    },
    "papermill": {
     "duration": 0.039784,
     "end_time": "2023-07-21T15:54:31.047461",
     "exception": false,
     "start_time": "2023-07-21T15:54:31.007677",
     "status": "completed"
    },
    "tags": []
   },
   "outputs": [
    {
     "data": {
      "text/html": [
       "<div>\n",
       "<style scoped>\n",
       "    .dataframe tbody tr th:only-of-type {\n",
       "        vertical-align: middle;\n",
       "    }\n",
       "\n",
       "    .dataframe tbody tr th {\n",
       "        vertical-align: top;\n",
       "    }\n",
       "\n",
       "    .dataframe thead th {\n",
       "        text-align: right;\n",
       "    }\n",
       "</style>\n",
       "<table border=\"1\" class=\"dataframe\">\n",
       "  <thead>\n",
       "    <tr style=\"text-align: right;\">\n",
       "      <th></th>\n",
       "      <th>id</th>\n",
       "      <th>num_sold</th>\n",
       "    </tr>\n",
       "  </thead>\n",
       "  <tbody>\n",
       "    <tr>\n",
       "      <th>0</th>\n",
       "      <td>136950</td>\n",
       "      <td>41.549787</td>\n",
       "    </tr>\n",
       "    <tr>\n",
       "      <th>1</th>\n",
       "      <td>136951</td>\n",
       "      <td>44.844474</td>\n",
       "    </tr>\n",
       "    <tr>\n",
       "      <th>2</th>\n",
       "      <td>136952</td>\n",
       "      <td>8.168331</td>\n",
       "    </tr>\n",
       "    <tr>\n",
       "      <th>3</th>\n",
       "      <td>136953</td>\n",
       "      <td>45.985976</td>\n",
       "    </tr>\n",
       "    <tr>\n",
       "      <th>4</th>\n",
       "      <td>136954</td>\n",
       "      <td>43.276791</td>\n",
       "    </tr>\n",
       "  </tbody>\n",
       "</table>\n",
       "</div>"
      ],
      "text/plain": [
       "       id   num_sold\n",
       "0  136950  41.549787\n",
       "1  136951  44.844474\n",
       "2  136952   8.168331\n",
       "3  136953  45.985976\n",
       "4  136954  43.276791"
      ]
     },
     "execution_count": 41,
     "metadata": {},
     "output_type": "execute_result"
    }
   ],
   "source": [
    "output.head()"
   ]
  },
  {
   "cell_type": "code",
   "execution_count": 42,
   "id": "d1c26c23",
   "metadata": {
    "execution": {
     "iopub.execute_input": "2023-07-21T15:54:31.100360Z",
     "iopub.status.busy": "2023-07-21T15:54:31.099652Z",
     "iopub.status.idle": "2023-07-21T15:54:31.181063Z",
     "shell.execute_reply": "2023-07-21T15:54:31.179851Z"
    },
    "papermill": {
     "duration": 0.109963,
     "end_time": "2023-07-21T15:54:31.183355",
     "exception": false,
     "start_time": "2023-07-21T15:54:31.073392",
     "status": "completed"
    },
    "tags": []
   },
   "outputs": [
    {
     "name": "stdout",
     "output_type": "stream",
     "text": [
      "Your submission was successfully saved!\n"
     ]
    }
   ],
   "source": [
    "output.to_csv('submission.csv', index=False)\n",
    "print(\"Your submission was successfully saved!\")"
   ]
  }
 ],
 "metadata": {
  "kernelspec": {
   "display_name": "Python 3",
   "language": "python",
   "name": "python3"
  },
  "language_info": {
   "codemirror_mode": {
    "name": "ipython",
    "version": 3
   },
   "file_extension": ".py",
   "mimetype": "text/x-python",
   "name": "python",
   "nbconvert_exporter": "python",
   "pygments_lexer": "ipython3",
   "version": "3.10.12"
  },
  "papermill": {
   "default_parameters": {},
   "duration": 1745.707446,
   "end_time": "2023-07-21T15:54:32.335070",
   "environment_variables": {},
   "exception": null,
   "input_path": "__notebook__.ipynb",
   "output_path": "__notebook__.ipynb",
   "parameters": {},
   "start_time": "2023-07-21T15:25:26.627624",
   "version": "2.4.0"
  }
 },
 "nbformat": 4,
 "nbformat_minor": 5
}
