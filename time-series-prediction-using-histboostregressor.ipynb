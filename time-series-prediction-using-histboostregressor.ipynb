{
 "cells": [
  {
   "cell_type": "code",
   "execution_count": 1,
   "id": "f250a8ce",
   "metadata": {
    "_cell_guid": "b1076dfc-b9ad-4769-8c92-a6c4dae69d19",
    "_uuid": "8f2839f25d086af736a60e9eeb907d3b93b6e0e5",
    "execution": {
     "iopub.execute_input": "2023-07-25T07:42:25.920464Z",
     "iopub.status.busy": "2023-07-25T07:42:25.920043Z",
     "iopub.status.idle": "2023-07-25T07:42:29.131144Z",
     "shell.execute_reply": "2023-07-25T07:42:29.130074Z"
    },
    "papermill": {
     "duration": 3.228955,
     "end_time": "2023-07-25T07:42:29.134056",
     "exception": false,
     "start_time": "2023-07-25T07:42:25.905101",
     "status": "completed"
    },
    "tags": []
   },
   "outputs": [
    {
     "name": "stderr",
     "output_type": "stream",
     "text": [
      "/opt/conda/lib/python3.10/site-packages/scipy/__init__.py:146: UserWarning: A NumPy version >=1.16.5 and <1.23.0 is required for this version of SciPy (detected version 1.23.5\n",
      "  warnings.warn(f\"A NumPy version >={np_minversion} and <{np_maxversion}\"\n"
     ]
    },
    {
     "name": "stdout",
     "output_type": "stream",
     "text": [
      "/kaggle/input/playground-series-s3e19/sample_submission.csv\n",
      "/kaggle/input/playground-series-s3e19/train.csv\n",
      "/kaggle/input/playground-series-s3e19/test.csv\n"
     ]
    }
   ],
   "source": [
    "\n",
    "\n",
    "import numpy as np # linear algebra\n",
    "import pandas as pd # data processing, CSV file I/O (e.g. pd.read_csv)\n",
    "import matplotlib.pyplot as plt\n",
    "import seaborn as sns\n",
    "#%matplotlib.inline\n",
    "import warnings\n",
    "warnings.filterwarnings(action='ignore')\n",
    "import optuna\n",
    "from sklearn.ensemble import HistGradientBoostingRegressor\n",
    "from category_encoders import CatBoostEncoder\n",
    "from sklearn.model_selection import train_test_split, cross_val_score,KFold\n",
    "\n",
    "\n",
    "\n",
    "import os\n",
    "for dirname, _, filenames in os.walk('/kaggle/input'):\n",
    "    for filename in filenames:\n",
    "        print(os.path.join(dirname, filename))\n",
    "\n"
   ]
  },
  {
   "cell_type": "code",
   "execution_count": 2,
   "id": "f0f7aaf8",
   "metadata": {
    "execution": {
     "iopub.execute_input": "2023-07-25T07:42:29.157051Z",
     "iopub.status.busy": "2023-07-25T07:42:29.156695Z",
     "iopub.status.idle": "2023-07-25T07:42:29.364188Z",
     "shell.execute_reply": "2023-07-25T07:42:29.362789Z"
    },
    "papermill": {
     "duration": 0.221557,
     "end_time": "2023-07-25T07:42:29.366694",
     "exception": false,
     "start_time": "2023-07-25T07:42:29.145137",
     "status": "completed"
    },
    "tags": []
   },
   "outputs": [],
   "source": [
    "train=pd.read_csv('/kaggle/input/playground-series-s3e19/train.csv')"
   ]
  },
  {
   "cell_type": "code",
   "execution_count": 3,
   "id": "04886dff",
   "metadata": {
    "execution": {
     "iopub.execute_input": "2023-07-25T07:42:29.388493Z",
     "iopub.status.busy": "2023-07-25T07:42:29.388119Z",
     "iopub.status.idle": "2023-07-25T07:42:29.433257Z",
     "shell.execute_reply": "2023-07-25T07:42:29.431554Z"
    },
    "papermill": {
     "duration": 0.059032,
     "end_time": "2023-07-25T07:42:29.435908",
     "exception": false,
     "start_time": "2023-07-25T07:42:29.376876",
     "status": "completed"
    },
    "tags": []
   },
   "outputs": [],
   "source": [
    "test = pd.read_csv('/kaggle/input/playground-series-s3e19/test.csv')"
   ]
  },
  {
   "cell_type": "code",
   "execution_count": 4,
   "id": "fde64062",
   "metadata": {
    "execution": {
     "iopub.execute_input": "2023-07-25T07:42:29.457879Z",
     "iopub.status.busy": "2023-07-25T07:42:29.457245Z",
     "iopub.status.idle": "2023-07-25T07:42:29.476819Z",
     "shell.execute_reply": "2023-07-25T07:42:29.475440Z"
    },
    "papermill": {
     "duration": 0.032792,
     "end_time": "2023-07-25T07:42:29.478822",
     "exception": false,
     "start_time": "2023-07-25T07:42:29.446030",
     "status": "completed"
    },
    "tags": []
   },
   "outputs": [
    {
     "data": {
      "text/html": [
       "<div>\n",
       "<style scoped>\n",
       "    .dataframe tbody tr th:only-of-type {\n",
       "        vertical-align: middle;\n",
       "    }\n",
       "\n",
       "    .dataframe tbody tr th {\n",
       "        vertical-align: top;\n",
       "    }\n",
       "\n",
       "    .dataframe thead th {\n",
       "        text-align: right;\n",
       "    }\n",
       "</style>\n",
       "<table border=\"1\" class=\"dataframe\">\n",
       "  <thead>\n",
       "    <tr style=\"text-align: right;\">\n",
       "      <th></th>\n",
       "      <th>id</th>\n",
       "      <th>date</th>\n",
       "      <th>country</th>\n",
       "      <th>store</th>\n",
       "      <th>product</th>\n",
       "    </tr>\n",
       "  </thead>\n",
       "  <tbody>\n",
       "    <tr>\n",
       "      <th>0</th>\n",
       "      <td>136950</td>\n",
       "      <td>2022-01-01</td>\n",
       "      <td>Argentina</td>\n",
       "      <td>Kaggle Learn</td>\n",
       "      <td>Using LLMs to Improve Your Coding</td>\n",
       "    </tr>\n",
       "    <tr>\n",
       "      <th>1</th>\n",
       "      <td>136951</td>\n",
       "      <td>2022-01-01</td>\n",
       "      <td>Argentina</td>\n",
       "      <td>Kaggle Learn</td>\n",
       "      <td>Using LLMs to Train More LLMs</td>\n",
       "    </tr>\n",
       "    <tr>\n",
       "      <th>2</th>\n",
       "      <td>136952</td>\n",
       "      <td>2022-01-01</td>\n",
       "      <td>Argentina</td>\n",
       "      <td>Kaggle Learn</td>\n",
       "      <td>Using LLMs to Win Friends and Influence People</td>\n",
       "    </tr>\n",
       "    <tr>\n",
       "      <th>3</th>\n",
       "      <td>136953</td>\n",
       "      <td>2022-01-01</td>\n",
       "      <td>Argentina</td>\n",
       "      <td>Kaggle Learn</td>\n",
       "      <td>Using LLMs to Win More Kaggle Competitions</td>\n",
       "    </tr>\n",
       "    <tr>\n",
       "      <th>4</th>\n",
       "      <td>136954</td>\n",
       "      <td>2022-01-01</td>\n",
       "      <td>Argentina</td>\n",
       "      <td>Kaggle Learn</td>\n",
       "      <td>Using LLMs to Write Better</td>\n",
       "    </tr>\n",
       "  </tbody>\n",
       "</table>\n",
       "</div>"
      ],
      "text/plain": [
       "       id        date    country         store  \\\n",
       "0  136950  2022-01-01  Argentina  Kaggle Learn   \n",
       "1  136951  2022-01-01  Argentina  Kaggle Learn   \n",
       "2  136952  2022-01-01  Argentina  Kaggle Learn   \n",
       "3  136953  2022-01-01  Argentina  Kaggle Learn   \n",
       "4  136954  2022-01-01  Argentina  Kaggle Learn   \n",
       "\n",
       "                                          product  \n",
       "0               Using LLMs to Improve Your Coding  \n",
       "1                   Using LLMs to Train More LLMs  \n",
       "2  Using LLMs to Win Friends and Influence People  \n",
       "3      Using LLMs to Win More Kaggle Competitions  \n",
       "4                      Using LLMs to Write Better  "
      ]
     },
     "execution_count": 4,
     "metadata": {},
     "output_type": "execute_result"
    }
   ],
   "source": [
    "test.head()"
   ]
  },
  {
   "cell_type": "code",
   "execution_count": 5,
   "id": "71a30572",
   "metadata": {
    "execution": {
     "iopub.execute_input": "2023-07-25T07:42:29.500978Z",
     "iopub.status.busy": "2023-07-25T07:42:29.500652Z",
     "iopub.status.idle": "2023-07-25T07:42:29.597652Z",
     "shell.execute_reply": "2023-07-25T07:42:29.596210Z"
    },
    "papermill": {
     "duration": 0.110396,
     "end_time": "2023-07-25T07:42:29.599481",
     "exception": false,
     "start_time": "2023-07-25T07:42:29.489085",
     "status": "completed"
    },
    "tags": []
   },
   "outputs": [
    {
     "name": "stdout",
     "output_type": "stream",
     "text": [
      "<class 'pandas.core.frame.DataFrame'>\n",
      "RangeIndex: 136950 entries, 0 to 136949\n",
      "Data columns (total 6 columns):\n",
      " #   Column    Non-Null Count   Dtype \n",
      "---  ------    --------------   ----- \n",
      " 0   id        136950 non-null  int64 \n",
      " 1   date      136950 non-null  object\n",
      " 2   country   136950 non-null  object\n",
      " 3   store     136950 non-null  object\n",
      " 4   product   136950 non-null  object\n",
      " 5   num_sold  136950 non-null  int64 \n",
      "dtypes: int64(2), object(4)\n",
      "memory usage: 6.3+ MB\n"
     ]
    }
   ],
   "source": [
    "train.info()"
   ]
  },
  {
   "cell_type": "code",
   "execution_count": 6,
   "id": "28d26730",
   "metadata": {
    "execution": {
     "iopub.execute_input": "2023-07-25T07:42:29.622107Z",
     "iopub.status.busy": "2023-07-25T07:42:29.621756Z",
     "iopub.status.idle": "2023-07-25T07:42:29.705723Z",
     "shell.execute_reply": "2023-07-25T07:42:29.704622Z"
    },
    "papermill": {
     "duration": 0.097961,
     "end_time": "2023-07-25T07:42:29.708050",
     "exception": false,
     "start_time": "2023-07-25T07:42:29.610089",
     "status": "completed"
    },
    "tags": []
   },
   "outputs": [
    {
     "data": {
      "text/plain": [
       "id          0\n",
       "date        0\n",
       "country     0\n",
       "store       0\n",
       "product     0\n",
       "num_sold    0\n",
       "dtype: int64"
      ]
     },
     "execution_count": 6,
     "metadata": {},
     "output_type": "execute_result"
    }
   ],
   "source": [
    "train.isnull().sum()"
   ]
  },
  {
   "cell_type": "code",
   "execution_count": 7,
   "id": "c934b559",
   "metadata": {
    "execution": {
     "iopub.execute_input": "2023-07-25T07:42:29.732155Z",
     "iopub.status.busy": "2023-07-25T07:42:29.731826Z",
     "iopub.status.idle": "2023-07-25T07:42:29.757027Z",
     "shell.execute_reply": "2023-07-25T07:42:29.755030Z"
    },
    "papermill": {
     "duration": 0.041472,
     "end_time": "2023-07-25T07:42:29.760029",
     "exception": false,
     "start_time": "2023-07-25T07:42:29.718557",
     "status": "completed"
    },
    "tags": []
   },
   "outputs": [],
   "source": [
    "train['date']=pd.to_datetime(train['date'])"
   ]
  },
  {
   "cell_type": "code",
   "execution_count": 8,
   "id": "2d3f2b28",
   "metadata": {
    "execution": {
     "iopub.execute_input": "2023-07-25T07:42:29.782647Z",
     "iopub.status.busy": "2023-07-25T07:42:29.782276Z",
     "iopub.status.idle": "2023-07-25T07:42:29.792753Z",
     "shell.execute_reply": "2023-07-25T07:42:29.791791Z"
    },
    "papermill": {
     "duration": 0.024958,
     "end_time": "2023-07-25T07:42:29.795498",
     "exception": false,
     "start_time": "2023-07-25T07:42:29.770540",
     "status": "completed"
    },
    "tags": []
   },
   "outputs": [
    {
     "data": {
      "text/html": [
       "<div>\n",
       "<style scoped>\n",
       "    .dataframe tbody tr th:only-of-type {\n",
       "        vertical-align: middle;\n",
       "    }\n",
       "\n",
       "    .dataframe tbody tr th {\n",
       "        vertical-align: top;\n",
       "    }\n",
       "\n",
       "    .dataframe thead th {\n",
       "        text-align: right;\n",
       "    }\n",
       "</style>\n",
       "<table border=\"1\" class=\"dataframe\">\n",
       "  <thead>\n",
       "    <tr style=\"text-align: right;\">\n",
       "      <th></th>\n",
       "      <th>id</th>\n",
       "      <th>date</th>\n",
       "      <th>country</th>\n",
       "      <th>store</th>\n",
       "      <th>product</th>\n",
       "      <th>num_sold</th>\n",
       "    </tr>\n",
       "  </thead>\n",
       "  <tbody>\n",
       "    <tr>\n",
       "      <th>0</th>\n",
       "      <td>0</td>\n",
       "      <td>2017-01-01</td>\n",
       "      <td>Argentina</td>\n",
       "      <td>Kaggle Learn</td>\n",
       "      <td>Using LLMs to Improve Your Coding</td>\n",
       "      <td>63</td>\n",
       "    </tr>\n",
       "    <tr>\n",
       "      <th>1</th>\n",
       "      <td>1</td>\n",
       "      <td>2017-01-01</td>\n",
       "      <td>Argentina</td>\n",
       "      <td>Kaggle Learn</td>\n",
       "      <td>Using LLMs to Train More LLMs</td>\n",
       "      <td>66</td>\n",
       "    </tr>\n",
       "    <tr>\n",
       "      <th>2</th>\n",
       "      <td>2</td>\n",
       "      <td>2017-01-01</td>\n",
       "      <td>Argentina</td>\n",
       "      <td>Kaggle Learn</td>\n",
       "      <td>Using LLMs to Win Friends and Influence People</td>\n",
       "      <td>9</td>\n",
       "    </tr>\n",
       "    <tr>\n",
       "      <th>3</th>\n",
       "      <td>3</td>\n",
       "      <td>2017-01-01</td>\n",
       "      <td>Argentina</td>\n",
       "      <td>Kaggle Learn</td>\n",
       "      <td>Using LLMs to Win More Kaggle Competitions</td>\n",
       "      <td>59</td>\n",
       "    </tr>\n",
       "    <tr>\n",
       "      <th>4</th>\n",
       "      <td>4</td>\n",
       "      <td>2017-01-01</td>\n",
       "      <td>Argentina</td>\n",
       "      <td>Kaggle Learn</td>\n",
       "      <td>Using LLMs to Write Better</td>\n",
       "      <td>49</td>\n",
       "    </tr>\n",
       "  </tbody>\n",
       "</table>\n",
       "</div>"
      ],
      "text/plain": [
       "   id       date    country         store  \\\n",
       "0   0 2017-01-01  Argentina  Kaggle Learn   \n",
       "1   1 2017-01-01  Argentina  Kaggle Learn   \n",
       "2   2 2017-01-01  Argentina  Kaggle Learn   \n",
       "3   3 2017-01-01  Argentina  Kaggle Learn   \n",
       "4   4 2017-01-01  Argentina  Kaggle Learn   \n",
       "\n",
       "                                          product  num_sold  \n",
       "0               Using LLMs to Improve Your Coding        63  \n",
       "1                   Using LLMs to Train More LLMs        66  \n",
       "2  Using LLMs to Win Friends and Influence People         9  \n",
       "3      Using LLMs to Win More Kaggle Competitions        59  \n",
       "4                      Using LLMs to Write Better        49  "
      ]
     },
     "execution_count": 8,
     "metadata": {},
     "output_type": "execute_result"
    }
   ],
   "source": [
    "train.head()"
   ]
  },
  {
   "cell_type": "code",
   "execution_count": 9,
   "id": "fb72d6ba",
   "metadata": {
    "execution": {
     "iopub.execute_input": "2023-07-25T07:42:29.818336Z",
     "iopub.status.busy": "2023-07-25T07:42:29.817990Z",
     "iopub.status.idle": "2023-07-25T07:42:29.882800Z",
     "shell.execute_reply": "2023-07-25T07:42:29.881009Z"
    },
    "papermill": {
     "duration": 0.079099,
     "end_time": "2023-07-25T07:42:29.885389",
     "exception": false,
     "start_time": "2023-07-25T07:42:29.806290",
     "status": "completed"
    },
    "tags": []
   },
   "outputs": [
    {
     "data": {
      "text/plain": [
       "id          0\n",
       "date        0\n",
       "country     0\n",
       "store       0\n",
       "product     0\n",
       "num_sold    0\n",
       "dtype: int64"
      ]
     },
     "execution_count": 9,
     "metadata": {},
     "output_type": "execute_result"
    }
   ],
   "source": [
    "train.isnull().sum()"
   ]
  },
  {
   "cell_type": "markdown",
   "id": "3bf7a703",
   "metadata": {
    "papermill": {
     "duration": 0.010653,
     "end_time": "2023-07-25T07:42:29.907138",
     "exception": false,
     "start_time": "2023-07-25T07:42:29.896485",
     "status": "completed"
    },
    "tags": []
   },
   "source": [
    "Add features & holiday column for better prediction"
   ]
  },
  {
   "cell_type": "code",
   "execution_count": 10,
   "id": "b7b5a8ea",
   "metadata": {
    "execution": {
     "iopub.execute_input": "2023-07-25T07:42:29.931184Z",
     "iopub.status.busy": "2023-07-25T07:42:29.930892Z",
     "iopub.status.idle": "2023-07-25T07:42:29.955396Z",
     "shell.execute_reply": "2023-07-25T07:42:29.954481Z"
    },
    "papermill": {
     "duration": 0.039619,
     "end_time": "2023-07-25T07:42:29.957596",
     "exception": false,
     "start_time": "2023-07-25T07:42:29.917977",
     "status": "completed"
    },
    "tags": []
   },
   "outputs": [
    {
     "data": {
      "text/html": [
       "<div>\n",
       "<style scoped>\n",
       "    .dataframe tbody tr th:only-of-type {\n",
       "        vertical-align: middle;\n",
       "    }\n",
       "\n",
       "    .dataframe tbody tr th {\n",
       "        vertical-align: top;\n",
       "    }\n",
       "\n",
       "    .dataframe thead th {\n",
       "        text-align: right;\n",
       "    }\n",
       "</style>\n",
       "<table border=\"1\" class=\"dataframe\">\n",
       "  <thead>\n",
       "    <tr style=\"text-align: right;\">\n",
       "      <th></th>\n",
       "      <th>id</th>\n",
       "      <th>num_sold</th>\n",
       "    </tr>\n",
       "  </thead>\n",
       "  <tbody>\n",
       "    <tr>\n",
       "      <th>count</th>\n",
       "      <td>136950.00000</td>\n",
       "      <td>136950.000000</td>\n",
       "    </tr>\n",
       "    <tr>\n",
       "      <th>mean</th>\n",
       "      <td>68474.50000</td>\n",
       "      <td>165.522636</td>\n",
       "    </tr>\n",
       "    <tr>\n",
       "      <th>std</th>\n",
       "      <td>39534.20402</td>\n",
       "      <td>183.691575</td>\n",
       "    </tr>\n",
       "    <tr>\n",
       "      <th>min</th>\n",
       "      <td>0.00000</td>\n",
       "      <td>2.000000</td>\n",
       "    </tr>\n",
       "    <tr>\n",
       "      <th>25%</th>\n",
       "      <td>34237.25000</td>\n",
       "      <td>46.000000</td>\n",
       "    </tr>\n",
       "    <tr>\n",
       "      <th>50%</th>\n",
       "      <td>68474.50000</td>\n",
       "      <td>98.000000</td>\n",
       "    </tr>\n",
       "    <tr>\n",
       "      <th>75%</th>\n",
       "      <td>102711.75000</td>\n",
       "      <td>184.000000</td>\n",
       "    </tr>\n",
       "    <tr>\n",
       "      <th>max</th>\n",
       "      <td>136949.00000</td>\n",
       "      <td>1380.000000</td>\n",
       "    </tr>\n",
       "  </tbody>\n",
       "</table>\n",
       "</div>"
      ],
      "text/plain": [
       "                 id       num_sold\n",
       "count  136950.00000  136950.000000\n",
       "mean    68474.50000     165.522636\n",
       "std     39534.20402     183.691575\n",
       "min         0.00000       2.000000\n",
       "25%     34237.25000      46.000000\n",
       "50%     68474.50000      98.000000\n",
       "75%    102711.75000     184.000000\n",
       "max    136949.00000    1380.000000"
      ]
     },
     "execution_count": 10,
     "metadata": {},
     "output_type": "execute_result"
    }
   ],
   "source": [
    "train.describe()"
   ]
  },
  {
   "cell_type": "code",
   "execution_count": 11,
   "id": "cf825d98",
   "metadata": {
    "execution": {
     "iopub.execute_input": "2023-07-25T07:42:29.981285Z",
     "iopub.status.busy": "2023-07-25T07:42:29.980932Z",
     "iopub.status.idle": "2023-07-25T07:42:30.019609Z",
     "shell.execute_reply": "2023-07-25T07:42:30.018729Z"
    },
    "papermill": {
     "duration": 0.053224,
     "end_time": "2023-07-25T07:42:30.021385",
     "exception": false,
     "start_time": "2023-07-25T07:42:29.968161",
     "status": "completed"
    },
    "tags": []
   },
   "outputs": [
    {
     "name": "stdout",
     "output_type": "stream",
     "text": [
      "id has 136950 values\n",
      "date has 1826 values\n",
      "country has 5 values\n",
      "store has 3 values\n",
      "product has 5 values\n",
      "num_sold has 1028 values\n"
     ]
    }
   ],
   "source": [
    "for col in train.columns:\n",
    "    print(f\"{col} has {len(train[col].unique())} values\")"
   ]
  },
  {
   "cell_type": "code",
   "execution_count": 12,
   "id": "a00758ea",
   "metadata": {
    "execution": {
     "iopub.execute_input": "2023-07-25T07:42:30.044910Z",
     "iopub.status.busy": "2023-07-25T07:42:30.044353Z",
     "iopub.status.idle": "2023-07-25T07:42:30.060304Z",
     "shell.execute_reply": "2023-07-25T07:42:30.058866Z"
    },
    "papermill": {
     "duration": 0.031446,
     "end_time": "2023-07-25T07:42:30.063650",
     "exception": false,
     "start_time": "2023-07-25T07:42:30.032204",
     "status": "completed"
    },
    "tags": []
   },
   "outputs": [],
   "source": [
    "products= train['product'].unique()"
   ]
  },
  {
   "cell_type": "code",
   "execution_count": 13,
   "id": "ff9f7074",
   "metadata": {
    "execution": {
     "iopub.execute_input": "2023-07-25T07:42:30.089454Z",
     "iopub.status.busy": "2023-07-25T07:42:30.089066Z",
     "iopub.status.idle": "2023-07-25T07:42:30.098569Z",
     "shell.execute_reply": "2023-07-25T07:42:30.097020Z"
    },
    "papermill": {
     "duration": 0.025451,
     "end_time": "2023-07-25T07:42:30.100995",
     "exception": false,
     "start_time": "2023-07-25T07:42:30.075544",
     "status": "completed"
    },
    "tags": []
   },
   "outputs": [
    {
     "data": {
      "text/plain": [
       "array(['Using LLMs to Improve Your Coding',\n",
       "       'Using LLMs to Train More LLMs',\n",
       "       'Using LLMs to Win Friends and Influence People',\n",
       "       'Using LLMs to Win More Kaggle Competitions',\n",
       "       'Using LLMs to Write Better'], dtype=object)"
      ]
     },
     "execution_count": 13,
     "metadata": {},
     "output_type": "execute_result"
    }
   ],
   "source": [
    "products"
   ]
  },
  {
   "cell_type": "code",
   "execution_count": 14,
   "id": "dca071cc",
   "metadata": {
    "execution": {
     "iopub.execute_input": "2023-07-25T07:42:30.125390Z",
     "iopub.status.busy": "2023-07-25T07:42:30.124813Z",
     "iopub.status.idle": "2023-07-25T07:42:30.131043Z",
     "shell.execute_reply": "2023-07-25T07:42:30.129607Z"
    },
    "papermill": {
     "duration": 0.021256,
     "end_time": "2023-07-25T07:42:30.133518",
     "exception": false,
     "start_time": "2023-07-25T07:42:30.112262",
     "status": "completed"
    },
    "tags": []
   },
   "outputs": [
    {
     "data": {
      "text/plain": [
       "5"
      ]
     },
     "execution_count": 14,
     "metadata": {},
     "output_type": "execute_result"
    }
   ],
   "source": [
    "len(products)"
   ]
  },
  {
   "cell_type": "code",
   "execution_count": 15,
   "id": "4da754da",
   "metadata": {
    "execution": {
     "iopub.execute_input": "2023-07-25T07:42:30.159627Z",
     "iopub.status.busy": "2023-07-25T07:42:30.159061Z",
     "iopub.status.idle": "2023-07-25T07:42:31.619119Z",
     "shell.execute_reply": "2023-07-25T07:42:31.617627Z"
    },
    "papermill": {
     "duration": 1.477747,
     "end_time": "2023-07-25T07:42:31.622752",
     "exception": false,
     "start_time": "2023-07-25T07:42:30.145005",
     "status": "completed"
    },
    "tags": []
   },
   "outputs": [
    {
     "data": {
      "image/png": "[encoded data removed]",
      "text/plain": [
       "<Figure size 640x480 with 1 Axes>"
      ]
     },
     "metadata": {},
     "output_type": "display_data"
    }
   ],
   "source": [
    "for i in products:\n",
    "    train_1 = train[train['product']==i]\n",
    "    #plt.subplot(len(products),1,j)\n",
    "    #plt.subplot(1,2,len(i))\n",
    "    plt.plot(train_1['date'],train_1['num_sold'])\n",
    "    # Giving title to the chart using plt.title\n",
    "    plt.title(f\"Product '{i}' sold by Date\")\n",
    "    # rotating the x-axis tick labels at 30degree\n",
    "    # towards right\n",
    "    plt.xticks(rotation=30, ha='right')\n",
    " \n",
    " # Providing x and y label to the chart\n",
    "    plt.xlabel('Date')\n",
    "    plt.ylabel('Products sold')\n",
    "    \n",
    "    "
   ]
  },
  {
   "cell_type": "code",
   "execution_count": 16,
   "id": "44c50252",
   "metadata": {
    "execution": {
     "iopub.execute_input": "2023-07-25T07:42:31.648520Z",
     "iopub.status.busy": "2023-07-25T07:42:31.648155Z",
     "iopub.status.idle": "2023-07-25T07:42:31.658860Z",
     "shell.execute_reply": "2023-07-25T07:42:31.657324Z"
    },
    "papermill": {
     "duration": 0.025956,
     "end_time": "2023-07-25T07:42:31.661227",
     "exception": false,
     "start_time": "2023-07-25T07:42:31.635271",
     "status": "completed"
    },
    "tags": []
   },
   "outputs": [
    {
     "data": {
      "text/plain": [
       "Timestamp('2021-12-31 00:00:00')"
      ]
     },
     "execution_count": 16,
     "metadata": {},
     "output_type": "execute_result"
    }
   ],
   "source": [
    "train['date'].max()"
   ]
  },
  {
   "cell_type": "code",
   "execution_count": 17,
   "id": "e2c96c69",
   "metadata": {
    "execution": {
     "iopub.execute_input": "2023-07-25T07:42:31.686126Z",
     "iopub.status.busy": "2023-07-25T07:42:31.685796Z",
     "iopub.status.idle": "2023-07-25T07:42:31.693226Z",
     "shell.execute_reply": "2023-07-25T07:42:31.692261Z"
    },
    "papermill": {
     "duration": 0.022446,
     "end_time": "2023-07-25T07:42:31.695524",
     "exception": false,
     "start_time": "2023-07-25T07:42:31.673078",
     "status": "completed"
    },
    "tags": []
   },
   "outputs": [
    {
     "data": {
      "text/plain": [
       "Timestamp('2017-01-01 00:00:00')"
      ]
     },
     "execution_count": 17,
     "metadata": {},
     "output_type": "execute_result"
    }
   ],
   "source": [
    "train['date'].min()"
   ]
  },
  {
   "cell_type": "code",
   "execution_count": 18,
   "id": "da1f210b",
   "metadata": {
    "execution": {
     "iopub.execute_input": "2023-07-25T07:42:31.721638Z",
     "iopub.status.busy": "2023-07-25T07:42:31.721279Z",
     "iopub.status.idle": "2023-07-25T07:42:31.950189Z",
     "shell.execute_reply": "2023-07-25T07:42:31.949030Z"
    },
    "papermill": {
     "duration": 0.245503,
     "end_time": "2023-07-25T07:42:31.952850",
     "exception": false,
     "start_time": "2023-07-25T07:42:31.707347",
     "status": "completed"
    },
    "tags": []
   },
   "outputs": [],
   "source": [
    "import holidays\n",
    "\n",
    "# Creating holiday calendars for each country\n",
    "argentina_holidays = holidays.Argentina()\n",
    "canada_holidays = holidays.Canada()\n",
    "estonia_holidays = holidays.Estonia()\n",
    "japan_holidays = holidays.Japan()\n",
    "spain_holidays = holidays.Spain()"
   ]
  },
  {
   "cell_type": "code",
   "execution_count": 19,
   "id": "a2514ce4",
   "metadata": {
    "execution": {
     "iopub.execute_input": "2023-07-25T07:42:31.978569Z",
     "iopub.status.busy": "2023-07-25T07:42:31.978015Z",
     "iopub.status.idle": "2023-07-25T07:42:31.988025Z",
     "shell.execute_reply": "2023-07-25T07:42:31.986058Z"
    },
    "papermill": {
     "duration": 0.025504,
     "end_time": "2023-07-25T07:42:31.990473",
     "exception": false,
     "start_time": "2023-07-25T07:42:31.964969",
     "status": "completed"
    },
    "tags": []
   },
   "outputs": [],
   "source": [
    "def new_column(df):\n",
    "   df['day']=df['date'].dt.day\n",
    "   df['month']=df['date'].dt.month\n",
    "   df['year']=df['date'].dt.year\n",
    "   df['is_argentina_holiday'] = df['date'].apply(lambda x: int(x in argentina_holidays))\n",
    "   df['is_canada_holiday'] = df['date'].apply(lambda x: int(x in canada_holidays))\n",
    "   df['is_estonia_holiday'] = df['date'].apply(lambda x: int(x in estonia_holidays))\n",
    "   df['is_japan_holiday'] = df['date'].apply(lambda x: int(x in japan_holidays))\n",
    "   df['is_spain_holiday'] = df['date'].apply(lambda x: int(x in spain_holidays))\n",
    "   df['day_of_month'] = df.date.dt.day.astype(\"int8\")\n",
    "   df[\"quarter\"] = df.date.dt.quarter.astype(\"int8\")\n",
    "   df['month_sin'] = np.sin(2*np.pi*df.month/12)\n",
    "   df['month_cos'] = np.cos(2*np.pi*df.month/12)\n",
    "   df['day_sin'] = np.sin(2*np.pi*df.day_of_month/31)\n",
    "   df['day_cos'] = np.cos(2*np.pi*df.day_of_month/31)\n",
    "   df=df.drop(['date'],axis=1)\n",
    "   return df"
   ]
  },
  {
   "cell_type": "code",
   "execution_count": 20,
   "id": "bd061891",
   "metadata": {
    "execution": {
     "iopub.execute_input": "2023-07-25T07:42:32.015613Z",
     "iopub.status.busy": "2023-07-25T07:42:32.015266Z",
     "iopub.status.idle": "2023-07-25T07:42:34.575548Z",
     "shell.execute_reply": "2023-07-25T07:42:34.574330Z"
    },
    "papermill": {
     "duration": 2.575774,
     "end_time": "2023-07-25T07:42:34.578036",
     "exception": false,
     "start_time": "2023-07-25T07:42:32.002262",
     "status": "completed"
    },
    "tags": []
   },
   "outputs": [],
   "source": [
    "train= new_column(train)"
   ]
  },
  {
   "cell_type": "code",
   "execution_count": 21,
   "id": "08a1eb48",
   "metadata": {
    "execution": {
     "iopub.execute_input": "2023-07-25T07:42:34.603242Z",
     "iopub.status.busy": "2023-07-25T07:42:34.602918Z",
     "iopub.status.idle": "2023-07-25T07:42:34.620813Z",
     "shell.execute_reply": "2023-07-25T07:42:34.619440Z"
    },
    "papermill": {
     "duration": 0.032812,
     "end_time": "2023-07-25T07:42:34.622827",
     "exception": false,
     "start_time": "2023-07-25T07:42:34.590015",
     "status": "completed"
    },
    "tags": []
   },
   "outputs": [
    {
     "data": {
      "text/html": [
       "<div>\n",
       "<style scoped>\n",
       "    .dataframe tbody tr th:only-of-type {\n",
       "        vertical-align: middle;\n",
       "    }\n",
       "\n",
       "    .dataframe tbody tr th {\n",
       "        vertical-align: top;\n",
       "    }\n",
       "\n",
       "    .dataframe thead th {\n",
       "        text-align: right;\n",
       "    }\n",
       "</style>\n",
       "<table border=\"1\" class=\"dataframe\">\n",
       "  <thead>\n",
       "    <tr style=\"text-align: right;\">\n",
       "      <th></th>\n",
       "      <th>id</th>\n",
       "      <th>country</th>\n",
       "      <th>store</th>\n",
       "      <th>product</th>\n",
       "      <th>num_sold</th>\n",
       "      <th>day</th>\n",
       "      <th>month</th>\n",
       "      <th>year</th>\n",
       "      <th>is_argentina_holiday</th>\n",
       "      <th>is_canada_holiday</th>\n",
       "      <th>is_estonia_holiday</th>\n",
       "      <th>is_japan_holiday</th>\n",
       "      <th>is_spain_holiday</th>\n",
       "      <th>day_of_month</th>\n",
       "      <th>quarter</th>\n",
       "      <th>month_sin</th>\n",
       "      <th>month_cos</th>\n",
       "      <th>day_sin</th>\n",
       "      <th>day_cos</th>\n",
       "    </tr>\n",
       "  </thead>\n",
       "  <tbody>\n",
       "    <tr>\n",
       "      <th>0</th>\n",
       "      <td>0</td>\n",
       "      <td>Argentina</td>\n",
       "      <td>Kaggle Learn</td>\n",
       "      <td>Using LLMs to Improve Your Coding</td>\n",
       "      <td>63</td>\n",
       "      <td>1</td>\n",
       "      <td>1</td>\n",
       "      <td>2017</td>\n",
       "      <td>1</td>\n",
       "      <td>1</td>\n",
       "      <td>1</td>\n",
       "      <td>1</td>\n",
       "      <td>0</td>\n",
       "      <td>1</td>\n",
       "      <td>1</td>\n",
       "      <td>0.5</td>\n",
       "      <td>0.866025</td>\n",
       "      <td>0.201299</td>\n",
       "      <td>0.97953</td>\n",
       "    </tr>\n",
       "    <tr>\n",
       "      <th>1</th>\n",
       "      <td>1</td>\n",
       "      <td>Argentina</td>\n",
       "      <td>Kaggle Learn</td>\n",
       "      <td>Using LLMs to Train More LLMs</td>\n",
       "      <td>66</td>\n",
       "      <td>1</td>\n",
       "      <td>1</td>\n",
       "      <td>2017</td>\n",
       "      <td>1</td>\n",
       "      <td>1</td>\n",
       "      <td>1</td>\n",
       "      <td>1</td>\n",
       "      <td>0</td>\n",
       "      <td>1</td>\n",
       "      <td>1</td>\n",
       "      <td>0.5</td>\n",
       "      <td>0.866025</td>\n",
       "      <td>0.201299</td>\n",
       "      <td>0.97953</td>\n",
       "    </tr>\n",
       "    <tr>\n",
       "      <th>2</th>\n",
       "      <td>2</td>\n",
       "      <td>Argentina</td>\n",
       "      <td>Kaggle Learn</td>\n",
       "      <td>Using LLMs to Win Friends and Influence People</td>\n",
       "      <td>9</td>\n",
       "      <td>1</td>\n",
       "      <td>1</td>\n",
       "      <td>2017</td>\n",
       "      <td>1</td>\n",
       "      <td>1</td>\n",
       "      <td>1</td>\n",
       "      <td>1</td>\n",
       "      <td>0</td>\n",
       "      <td>1</td>\n",
       "      <td>1</td>\n",
       "      <td>0.5</td>\n",
       "      <td>0.866025</td>\n",
       "      <td>0.201299</td>\n",
       "      <td>0.97953</td>\n",
       "    </tr>\n",
       "    <tr>\n",
       "      <th>3</th>\n",
       "      <td>3</td>\n",
       "      <td>Argentina</td>\n",
       "      <td>Kaggle Learn</td>\n",
       "      <td>Using LLMs to Win More Kaggle Competitions</td>\n",
       "      <td>59</td>\n",
       "      <td>1</td>\n",
       "      <td>1</td>\n",
       "      <td>2017</td>\n",
       "      <td>1</td>\n",
       "      <td>1</td>\n",
       "      <td>1</td>\n",
       "      <td>1</td>\n",
       "      <td>0</td>\n",
       "      <td>1</td>\n",
       "      <td>1</td>\n",
       "      <td>0.5</td>\n",
       "      <td>0.866025</td>\n",
       "      <td>0.201299</td>\n",
       "      <td>0.97953</td>\n",
       "    </tr>\n",
       "    <tr>\n",
       "      <th>4</th>\n",
       "      <td>4</td>\n",
       "      <td>Argentina</td>\n",
       "      <td>Kaggle Learn</td>\n",
       "      <td>Using LLMs to Write Better</td>\n",
       "      <td>49</td>\n",
       "      <td>1</td>\n",
       "      <td>1</td>\n",
       "      <td>2017</td>\n",
       "      <td>1</td>\n",
       "      <td>1</td>\n",
       "      <td>1</td>\n",
       "      <td>1</td>\n",
       "      <td>0</td>\n",
       "      <td>1</td>\n",
       "      <td>1</td>\n",
       "      <td>0.5</td>\n",
       "      <td>0.866025</td>\n",
       "      <td>0.201299</td>\n",
       "      <td>0.97953</td>\n",
       "    </tr>\n",
       "  </tbody>\n",
       "</table>\n",
       "</div>"
      ],
      "text/plain": [
       "   id    country         store  \\\n",
       "0   0  Argentina  Kaggle Learn   \n",
       "1   1  Argentina  Kaggle Learn   \n",
       "2   2  Argentina  Kaggle Learn   \n",
       "3   3  Argentina  Kaggle Learn   \n",
       "4   4  Argentina  Kaggle Learn   \n",
       "\n",
       "                                          product  num_sold  day  month  year  \\\n",
       "0               Using LLMs to Improve Your Coding        63    1      1  2017   \n",
       "1                   Using LLMs to Train More LLMs        66    1      1  2017   \n",
       "2  Using LLMs to Win Friends and Influence People         9    1      1  2017   \n",
       "3      Using LLMs to Win More Kaggle Competitions        59    1      1  2017   \n",
       "4                      Using LLMs to Write Better        49    1      1  2017   \n",
       "\n",
       "   is_argentina_holiday  is_canada_holiday  is_estonia_holiday  \\\n",
       "0                     1                  1                   1   \n",
       "1                     1                  1                   1   \n",
       "2                     1                  1                   1   \n",
       "3                     1                  1                   1   \n",
       "4                     1                  1                   1   \n",
       "\n",
       "   is_japan_holiday  is_spain_holiday  day_of_month  quarter  month_sin  \\\n",
       "0                 1                 0             1        1        0.5   \n",
       "1                 1                 0             1        1        0.5   \n",
       "2                 1                 0             1        1        0.5   \n",
       "3                 1                 0             1        1        0.5   \n",
       "4                 1                 0             1        1        0.5   \n",
       "\n",
       "   month_cos   day_sin  day_cos  \n",
       "0   0.866025  0.201299  0.97953  \n",
       "1   0.866025  0.201299  0.97953  \n",
       "2   0.866025  0.201299  0.97953  \n",
       "3   0.866025  0.201299  0.97953  \n",
       "4   0.866025  0.201299  0.97953  "
      ]
     },
     "execution_count": 21,
     "metadata": {},
     "output_type": "execute_result"
    }
   ],
   "source": [
    "train.head()"
   ]
  },
  {
   "cell_type": "markdown",
   "id": "0bcee7a2",
   "metadata": {
    "papermill": {
     "duration": 0.012397,
     "end_time": "2023-07-25T07:42:34.647616",
     "exception": false,
     "start_time": "2023-07-25T07:42:34.635219",
     "status": "completed"
    },
    "tags": []
   },
   "source": [
    "Exclude 2020 as it is outlier because of unpredictable covid 19 phase"
   ]
  },
  {
   "cell_type": "code",
   "execution_count": 22,
   "id": "b213145a",
   "metadata": {
    "execution": {
     "iopub.execute_input": "2023-07-25T07:42:34.672923Z",
     "iopub.status.busy": "2023-07-25T07:42:34.672592Z",
     "iopub.status.idle": "2023-07-25T07:42:34.693907Z",
     "shell.execute_reply": "2023-07-25T07:42:34.692732Z"
    },
    "papermill": {
     "duration": 0.03657,
     "end_time": "2023-07-25T07:42:34.696317",
     "exception": false,
     "start_time": "2023-07-25T07:42:34.659747",
     "status": "completed"
    },
    "tags": []
   },
   "outputs": [],
   "source": [
    "train = train[train['year'] != 2020]"
   ]
  },
  {
   "cell_type": "code",
   "execution_count": 23,
   "id": "a5c1b6c6",
   "metadata": {
    "execution": {
     "iopub.execute_input": "2023-07-25T07:42:34.722366Z",
     "iopub.status.busy": "2023-07-25T07:42:34.722056Z",
     "iopub.status.idle": "2023-07-25T07:42:34.726584Z",
     "shell.execute_reply": "2023-07-25T07:42:34.725577Z"
    },
    "papermill": {
     "duration": 0.020817,
     "end_time": "2023-07-25T07:42:34.728912",
     "exception": false,
     "start_time": "2023-07-25T07:42:34.708095",
     "status": "completed"
    },
    "tags": []
   },
   "outputs": [],
   "source": [
    "#stores=train['store'].unique()"
   ]
  },
  {
   "cell_type": "code",
   "execution_count": 24,
   "id": "79b8aedb",
   "metadata": {
    "execution": {
     "iopub.execute_input": "2023-07-25T07:42:34.754816Z",
     "iopub.status.busy": "2023-07-25T07:42:34.754485Z",
     "iopub.status.idle": "2023-07-25T07:42:34.766885Z",
     "shell.execute_reply": "2023-07-25T07:42:34.765473Z"
    },
    "papermill": {
     "duration": 0.027748,
     "end_time": "2023-07-25T07:42:34.769336",
     "exception": false,
     "start_time": "2023-07-25T07:42:34.741588",
     "status": "completed"
    },
    "tags": []
   },
   "outputs": [],
   "source": [
    "X= train.drop(['num_sold'],axis=1)\n",
    "y= train[['num_sold']]"
   ]
  },
  {
   "cell_type": "code",
   "execution_count": 25,
   "id": "4a276493",
   "metadata": {
    "execution": {
     "iopub.execute_input": "2023-07-25T07:42:34.796579Z",
     "iopub.status.busy": "2023-07-25T07:42:34.796241Z",
     "iopub.status.idle": "2023-07-25T07:42:34.966711Z",
     "shell.execute_reply": "2023-07-25T07:42:34.965210Z"
    },
    "papermill": {
     "duration": 0.186902,
     "end_time": "2023-07-25T07:42:34.969442",
     "exception": false,
     "start_time": "2023-07-25T07:42:34.782540",
     "status": "completed"
    },
    "tags": []
   },
   "outputs": [],
   "source": [
    "cbe= CatBoostEncoder(cols = ['country', 'store', 'product']).fit(X,y)\n",
    "X= cbe.transform(X)\n"
   ]
  },
  {
   "cell_type": "code",
   "execution_count": 26,
   "id": "a049bbb6",
   "metadata": {
    "execution": {
     "iopub.execute_input": "2023-07-25T07:42:34.993980Z",
     "iopub.status.busy": "2023-07-25T07:42:34.993689Z",
     "iopub.status.idle": "2023-07-25T07:42:34.999982Z",
     "shell.execute_reply": "2023-07-25T07:42:34.998760Z"
    },
    "papermill": {
     "duration": 0.021545,
     "end_time": "2023-07-25T07:42:35.002662",
     "exception": false,
     "start_time": "2023-07-25T07:42:34.981117",
     "status": "completed"
    },
    "tags": []
   },
   "outputs": [],
   "source": [
    "y=np.log1p(y)"
   ]
  },
  {
   "cell_type": "code",
   "execution_count": 27,
   "id": "bd3dd7b9",
   "metadata": {
    "execution": {
     "iopub.execute_input": "2023-07-25T07:42:35.027894Z",
     "iopub.status.busy": "2023-07-25T07:42:35.027573Z",
     "iopub.status.idle": "2023-07-25T07:42:35.039473Z",
     "shell.execute_reply": "2023-07-25T07:42:35.038171Z"
    },
    "papermill": {
     "duration": 0.026937,
     "end_time": "2023-07-25T07:42:35.041544",
     "exception": false,
     "start_time": "2023-07-25T07:42:35.014607",
     "status": "completed"
    },
    "tags": []
   },
   "outputs": [],
   "source": [
    "test['date']=pd.to_datetime(test['date'])"
   ]
  },
  {
   "cell_type": "code",
   "execution_count": 28,
   "id": "9a97e97b",
   "metadata": {
    "execution": {
     "iopub.execute_input": "2023-07-25T07:42:35.067321Z",
     "iopub.status.busy": "2023-07-25T07:42:35.066304Z",
     "iopub.status.idle": "2023-07-25T07:42:35.512004Z",
     "shell.execute_reply": "2023-07-25T07:42:35.510701Z"
    },
    "papermill": {
     "duration": 0.460956,
     "end_time": "2023-07-25T07:42:35.514479",
     "exception": false,
     "start_time": "2023-07-25T07:42:35.053523",
     "status": "completed"
    },
    "tags": []
   },
   "outputs": [],
   "source": [
    "test=new_column(test)"
   ]
  },
  {
   "cell_type": "code",
   "execution_count": 29,
   "id": "c4a35c45",
   "metadata": {
    "execution": {
     "iopub.execute_input": "2023-07-25T07:42:35.539880Z",
     "iopub.status.busy": "2023-07-25T07:42:35.539511Z",
     "iopub.status.idle": "2023-07-25T07:42:35.569397Z",
     "shell.execute_reply": "2023-07-25T07:42:35.568064Z"
    },
    "papermill": {
     "duration": 0.04534,
     "end_time": "2023-07-25T07:42:35.571830",
     "exception": false,
     "start_time": "2023-07-25T07:42:35.526490",
     "status": "completed"
    },
    "tags": []
   },
   "outputs": [],
   "source": [
    "test=cbe.transform(test)"
   ]
  },
  {
   "cell_type": "code",
   "execution_count": 30,
   "id": "498ebc7a",
   "metadata": {
    "execution": {
     "iopub.execute_input": "2023-07-25T07:42:35.597606Z",
     "iopub.status.busy": "2023-07-25T07:42:35.597242Z",
     "iopub.status.idle": "2023-07-25T07:42:35.604535Z",
     "shell.execute_reply": "2023-07-25T07:42:35.603445Z"
    },
    "papermill": {
     "duration": 0.02239,
     "end_time": "2023-07-25T07:42:35.606208",
     "exception": false,
     "start_time": "2023-07-25T07:42:35.583818",
     "status": "completed"
    },
    "tags": []
   },
   "outputs": [],
   "source": [
    "def hgbr_objective(trial):\n",
    "    # Use the trial object to suggest a value for alpha\n",
    "    # Optuna will come up with a suggested value based on the scores of previous trials\n",
    "    _alpha = trial.suggest_float(\"quantile\", 0.1, 1)\n",
    "    _beta = trial.suggest_float(\"learning_rate\", 0.1, 20)\n",
    "    _gamma = trial.suggest_int(\"max_iter\", 1, 100)\n",
    "    _delta= trial.suggest_int(\"max_leaf_nodes\", 2, 100)\n",
    "    _theta= trial.suggest_int(\"max_depth\", 1, 12)\n",
    "    # Define the model with the suggested alpha\n",
    "    hgbr = HistGradientBoostingRegressor(quantile=_alpha,learning_rate=_beta,max_iter=_gamma,\n",
    "                                         interaction_cst=\"pairwise\",warm_start=1,l2_regularization=1,\n",
    "                                         max_leaf_nodes= _delta,max_depth=_theta,random_state=42)\n",
    "    # Calculate the score with 10-folds cross validation, which returns a list of scores\n",
    "    # scoring is defined as negative RMSE as it is what this Kaggle competition uses to evaluate the result\n",
    "    scores = cross_val_score(hgbr, X, y, \n",
    "                             cv=KFold(n_splits=10,\n",
    "                                      shuffle=True,\n",
    "                                      random_state=42),\n",
    "                             scoring=\"neg_root_mean_squared_error\"\n",
    "                             #,error_score='raise'\n",
    "                            )\n",
    "    # Return the mean of 10 scores\n",
    "    return scores.mean()"
   ]
  },
  {
   "cell_type": "code",
   "execution_count": 31,
   "id": "0c0e904b",
   "metadata": {
    "execution": {
     "iopub.execute_input": "2023-07-25T07:42:35.632779Z",
     "iopub.status.busy": "2023-07-25T07:42:35.632442Z",
     "iopub.status.idle": "2023-07-25T07:42:35.638165Z",
     "shell.execute_reply": "2023-07-25T07:42:35.636815Z"
    },
    "papermill": {
     "duration": 0.021689,
     "end_time": "2023-07-25T07:42:35.640552",
     "exception": false,
     "start_time": "2023-07-25T07:42:35.618863",
     "status": "completed"
    },
    "tags": []
   },
   "outputs": [
    {
     "name": "stderr",
     "output_type": "stream",
     "text": [
      "[I 2023-07-25 07:42:35,633] A new study created in memory with name: no-name-dbb925d3-186c-4d2e-9593-67f0a593b1b5\n"
     ]
    }
   ],
   "source": [
    "# Create Study object\n",
    "study = optuna.create_study(direction=\"maximize\")"
   ]
  },
  {
   "cell_type": "code",
   "execution_count": 32,
   "id": "cd700470",
   "metadata": {
    "execution": {
     "iopub.execute_input": "2023-07-25T07:42:35.667203Z",
     "iopub.status.busy": "2023-07-25T07:42:35.666259Z",
     "iopub.status.idle": "2023-07-25T08:11:35.400208Z",
     "shell.execute_reply": "2023-07-25T08:11:35.398327Z"
    },
    "papermill": {
     "duration": 1739.749971,
     "end_time": "2023-07-25T08:11:35.402826",
     "exception": false,
     "start_time": "2023-07-25T07:42:35.652855",
     "status": "completed"
    },
    "tags": []
   },
   "outputs": [
    {
     "name": "stderr",
     "output_type": "stream",
     "text": [
      "[I 2023-07-25 07:42:37,618] Trial 0 finished with value: -54129168021.276474 and parameters: {'quantile': 0.7963868800436467, 'learning_rate': 12.83173316281903, 'max_iter': 25, 'max_leaf_nodes': 45, 'max_depth': 7}. Best is trial 0 with value: -54129168021.276474.\n",
      "[I 2023-07-25 07:42:44,969] Trial 1 finished with value: -0.07154362317160877 and parameters: {'quantile': 0.6394168685348411, 'learning_rate': 1.1809881177102282, 'max_iter': 90, 'max_leaf_nodes': 83, 'max_depth': 5}. Best is trial 1 with value: -0.07154362317160877.\n",
      "[I 2023-07-25 07:42:46,938] Trial 2 finished with value: -1945698.635183656 and parameters: {'quantile': 0.43903290297273234, 'learning_rate': 5.252284392043122, 'max_iter': 75, 'max_leaf_nodes': 38, 'max_depth': 5}. Best is trial 1 with value: -0.07154362317160877.\n",
      "[I 2023-07-25 07:42:48,471] Trial 3 finished with value: -3539233104738.036 and parameters: {'quantile': 0.3661914559100743, 'learning_rate': 19.61352974411506, 'max_iter': 32, 'max_leaf_nodes': 32, 'max_depth': 1}. Best is trial 1 with value: -0.07154362317160877.\n",
      "[I 2023-07-25 07:42:50,398] Trial 4 finished with value: -322294230413.01965 and parameters: {'quantile': 0.37383228561215387, 'learning_rate': 15.142611562020333, 'max_iter': 74, 'max_leaf_nodes': 28, 'max_depth': 12}. Best is trial 1 with value: -0.07154362317160877.\n",
      "[I 2023-07-25 07:42:52,292] Trial 5 finished with value: -354048518064.0999 and parameters: {'quantile': 0.41744241814473415, 'learning_rate': 15.276133355786122, 'max_iter': 80, 'max_leaf_nodes': 69, 'max_depth': 5}. Best is trial 1 with value: -0.07154362317160877.\n",
      "[I 2023-07-25 07:42:53,868] Trial 6 finished with value: -250107.86742615624 and parameters: {'quantile': 0.6924274271880612, 'learning_rate': 4.470303519549361, 'max_iter': 89, 'max_leaf_nodes': 14, 'max_depth': 2}. Best is trial 1 with value: -0.07154362317160877.\n",
      "[I 2023-07-25 07:42:56,875] Trial 7 finished with value: -0.11842340551247207 and parameters: {'quantile': 0.39061220427001875, 'learning_rate': 1.693695817909053, 'max_iter': 30, 'max_leaf_nodes': 50, 'max_depth': 4}. Best is trial 1 with value: -0.07154362317160877.\n",
      "[I 2023-07-25 07:42:59,378] Trial 8 finished with value: -45967.753262445505 and parameters: {'quantile': 0.7452894015963414, 'learning_rate': 3.923928977450564, 'max_iter': 53, 'max_leaf_nodes': 96, 'max_depth': 9}. Best is trial 1 with value: -0.07154362317160877.\n",
      "[I 2023-07-25 07:43:03,516] Trial 9 finished with value: -0.0970356239653405 and parameters: {'quantile': 0.5698261168883111, 'learning_rate': 1.6067679730529223, 'max_iter': 29, 'max_leaf_nodes': 60, 'max_depth': 12}. Best is trial 1 with value: -0.07154362317160877.\n",
      "[I 2023-07-25 07:43:05,186] Trial 10 finished with value: -177319.73960889562 and parameters: {'quantile': 0.9672490253023326, 'learning_rate': 8.486158371479215, 'max_iter': 6, 'max_leaf_nodes': 100, 'max_depth': 8}. Best is trial 1 with value: -0.07154362317160877.\n",
      "[I 2023-07-25 07:43:16,200] Trial 11 finished with value: -0.08312089293862561 and parameters: {'quantile': 0.1400053746287826, 'learning_rate': 0.2171844782490311, 'max_iter': 99, 'max_leaf_nodes': 71, 'max_depth': 12}. Best is trial 1 with value: -0.07154362317160877.\n",
      "[I 2023-07-25 07:43:27,054] Trial 12 finished with value: -0.09328365947687786 and parameters: {'quantile': 0.15452097950666766, 'learning_rate': 0.12160161101795046, 'max_iter': 100, 'max_leaf_nodes': 78, 'max_depth': 10}. Best is trial 1 with value: -0.07154362317160877.\n",
      "[I 2023-07-25 07:43:33,814] Trial 13 finished with value: -0.12303098768829519 and parameters: {'quantile': 0.11215107885008384, 'learning_rate': 0.1124555066240778, 'max_iter': 99, 'max_leaf_nodes': 83, 'max_depth': 3}. Best is trial 1 with value: -0.07154362317160877.\n",
      "[I 2023-07-25 07:43:35,730] Trial 14 finished with value: -97243689.5246106 and parameters: {'quantile': 0.218423915340336, 'learning_rate': 7.287761792636994, 'max_iter': 62, 'max_leaf_nodes': 85, 'max_depth': 6}. Best is trial 1 with value: -0.07154362317160877.\n",
      "[I 2023-07-25 07:43:37,647] Trial 15 finished with value: -250.65013381712706 and parameters: {'quantile': 0.23512873916565646, 'learning_rate': 2.736372826387544, 'max_iter': 87, 'max_leaf_nodes': 63, 'max_depth': 10}. Best is trial 1 with value: -0.07154362317160877.\n",
      "[I 2023-07-25 07:43:39,527] Trial 16 finished with value: -12593682.720452141 and parameters: {'quantile': 0.5570848398430135, 'learning_rate': 6.125396759595721, 'max_iter': 62, 'max_leaf_nodes': 74, 'max_depth': 7}. Best is trial 1 with value: -0.07154362317160877.\n",
      "[I 2023-07-25 07:43:41,463] Trial 17 finished with value: -818.5227533587473 and parameters: {'quantile': 0.25885791784854034, 'learning_rate': 2.954498200178775, 'max_iter': 91, 'max_leaf_nodes': 88, 'max_depth': 10}. Best is trial 1 with value: -0.07154362317160877.\n",
      "[I 2023-07-25 07:43:43,219] Trial 18 finished with value: -827054335.696582 and parameters: {'quantile': 0.6346067931050505, 'learning_rate': 8.78886506425382, 'max_iter': 68, 'max_leaf_nodes': 58, 'max_depth': 4}. Best is trial 1 with value: -0.07154362317160877.\n",
      "[I 2023-07-25 07:43:45,154] Trial 19 finished with value: -8583955.131626723 and parameters: {'quantile': 0.47026353308684415, 'learning_rate': 5.932662944344699, 'max_iter': 46, 'max_leaf_nodes': 70, 'max_depth': 8}. Best is trial 1 with value: -0.07154362317160877.\n",
      "[I 2023-07-25 07:43:46,820] Trial 20 finished with value: -56128.78136500161 and parameters: {'quantile': 0.27779913278824775, 'learning_rate': 3.9886466179929236, 'max_iter': 83, 'max_leaf_nodes': 4, 'max_depth': 11}. Best is trial 1 with value: -0.07154362317160877.\n",
      "[I 2023-07-25 07:43:57,397] Trial 21 finished with value: -0.09290041663885436 and parameters: {'quantile': 0.10900855270613119, 'learning_rate': 0.12983170282771853, 'max_iter': 97, 'max_leaf_nodes': 79, 'max_depth': 11}. Best is trial 1 with value: -0.07154362317160877.\n",
      "[I 2023-07-25 07:44:13,400] Trial 22 finished with value: -0.05872441139628937 and parameters: {'quantile': 0.11285190714806578, 'learning_rate': 1.4952660914625513, 'max_iter': 100, 'max_leaf_nodes': 94, 'max_depth': 12}. Best is trial 22 with value: -0.05872441139628937.\n",
      "[I 2023-07-25 07:44:26,447] Trial 23 finished with value: -0.08186335515625524 and parameters: {'quantile': 0.16964018571489708, 'learning_rate': 1.847673045226589, 'max_iter': 93, 'max_leaf_nodes': 94, 'max_depth': 12}. Best is trial 22 with value: -0.05872441139628937.\n",
      "[I 2023-07-25 07:44:28,362] Trial 24 finished with value: -80.59001089903566 and parameters: {'quantile': 0.3032545811162358, 'learning_rate': 2.5501293189183962, 'max_iter': 89, 'max_leaf_nodes': 92, 'max_depth': 9}. Best is trial 22 with value: -0.05872441139628937.\n",
      "[I 2023-07-25 07:44:30,234] Trial 25 finished with value: -43067.16232935937 and parameters: {'quantile': 0.21012635235550453, 'learning_rate': 3.9049339247667234, 'max_iter': 77, 'max_leaf_nodes': 100, 'max_depth': 6}. Best is trial 22 with value: -0.05872441139628937.\n",
      "[I 2023-07-25 07:44:43,077] Trial 26 finished with value: -0.08837394394477567 and parameters: {'quantile': 0.4967817136616348, 'learning_rate': 1.8607335071118378, 'max_iter': 92, 'max_leaf_nodes': 91, 'max_depth': 11}. Best is trial 22 with value: -0.05872441139628937.\n",
      "[I 2023-07-25 07:44:44,982] Trial 27 finished with value: -5228344.810780784 and parameters: {'quantile': 0.3180865230895259, 'learning_rate': 5.6940722458043105, 'max_iter': 69, 'max_leaf_nodes': 90, 'max_depth': 8}. Best is trial 22 with value: -0.05872441139628937.\n",
      "[I 2023-07-25 07:44:51,932] Trial 28 finished with value: -0.24622562455413638 and parameters: {'quantile': 0.18338454989455522, 'learning_rate': 1.9689288619952352, 'max_iter': 84, 'max_leaf_nodes': 80, 'max_depth': 5}. Best is trial 22 with value: -0.05872441139628937.\n",
      "[I 2023-07-25 07:44:53,857] Trial 29 finished with value: -7992937473.449323 and parameters: {'quantile': 0.16018331551329273, 'learning_rate': 10.771854652102197, 'max_iter': 14, 'max_leaf_nodes': 95, 'max_depth': 9}. Best is trial 22 with value: -0.05872441139628937.\n",
      "[I 2023-07-25 07:44:55,768] Trial 30 finished with value: -54538597.92321966 and parameters: {'quantile': 0.3214071719207002, 'learning_rate': 6.93445624843918, 'max_iter': 40, 'max_leaf_nodes': 65, 'max_depth': 7}. Best is trial 22 with value: -0.05872441139628937.\n",
      "[I 2023-07-25 07:45:09,078] Trial 31 finished with value: -0.05795095195191267 and parameters: {'quantile': 0.11242291043426791, 'learning_rate': 1.1747442899784448, 'max_iter': 95, 'max_leaf_nodes': 73, 'max_depth': 12}. Best is trial 31 with value: -0.05795095195191267.\n",
      "[I 2023-07-25 07:45:22,662] Trial 32 finished with value: -0.05824183368926165 and parameters: {'quantile': 0.10157224006495628, 'learning_rate': 1.3725385990942125, 'max_iter': 95, 'max_leaf_nodes': 86, 'max_depth': 12}. Best is trial 31 with value: -0.05795095195191267.\n",
      "[I 2023-07-25 07:45:24,545] Trial 33 finished with value: -725451.8226699879 and parameters: {'quantile': 0.11306610701549805, 'learning_rate': 4.852806006507166, 'max_iter': 94, 'max_leaf_nodes': 85, 'max_depth': 11}. Best is trial 31 with value: -0.05795095195191267.\n",
      "[I 2023-07-25 07:45:26,499] Trial 34 finished with value: -2391.6998474313414 and parameters: {'quantile': 0.20824551414752848, 'learning_rate': 3.1757028800478952, 'max_iter': 82, 'max_leaf_nodes': 41, 'max_depth': 12}. Best is trial 31 with value: -0.05795095195191267.\n",
      "[I 2023-07-25 07:45:36,921] Trial 35 finished with value: -0.059610021517866575 and parameters: {'quantile': 0.2588403123849253, 'learning_rate': 1.0572826569699671, 'max_iter': 71, 'max_leaf_nodes': 75, 'max_depth': 11}. Best is trial 31 with value: -0.05795095195191267.\n",
      "[I 2023-07-25 07:45:45,615] Trial 36 finished with value: -0.061517161428582455 and parameters: {'quantile': 0.10051018973284011, 'learning_rate': 1.181677777460203, 'max_iter': 73, 'max_leaf_nodes': 53, 'max_depth': 11}. Best is trial 31 with value: -0.05795095195191267.\n",
      "[I 2023-07-25 07:45:47,563] Trial 37 finished with value: -3180.2494058607163 and parameters: {'quantile': 0.26645871123967213, 'learning_rate': 3.238588260057278, 'max_iter': 55, 'max_leaf_nodes': 79, 'max_depth': 12}. Best is trial 31 with value: -0.05795095195191267.\n",
      "[I 2023-07-25 07:45:49,535] Trial 38 finished with value: -562193.4255601825 and parameters: {'quantile': 0.18757321919500203, 'learning_rate': 4.755824444137065, 'max_iter': 62, 'max_leaf_nodes': 77, 'max_depth': 10}. Best is trial 31 with value: -0.05795095195191267.\n",
      "[I 2023-07-25 07:45:56,660] Trial 39 finished with value: -0.0656161488346696 and parameters: {'quantile': 0.3549083778437861, 'learning_rate': 1.0248122017170362, 'max_iter': 77, 'max_leaf_nodes': 29, 'max_depth': 11}. Best is trial 31 with value: -0.05795095195191267.\n",
      "[I 2023-07-25 07:46:08,476] Trial 40 finished with value: -0.058615922295928394 and parameters: {'quantile': 0.24175360269570695, 'learning_rate': 1.033286738307627, 'max_iter': 85, 'max_leaf_nodes': 66, 'max_depth': 12}. Best is trial 31 with value: -0.05795095195191267.\n",
      "[I 2023-07-25 07:46:19,368] Trial 41 finished with value: -0.058483831223762314 and parameters: {'quantile': 0.2331398437907562, 'learning_rate': 1.0868140502273416, 'max_iter': 84, 'max_leaf_nodes': 66, 'max_depth': 12}. Best is trial 31 with value: -0.05795095195191267.\n",
      "[I 2023-07-25 07:46:21,337] Trial 42 finished with value: -17.725611672324344 and parameters: {'quantile': 0.16186741967743443, 'learning_rate': 2.3322621334430984, 'max_iter': 85, 'max_leaf_nodes': 66, 'max_depth': 12}. Best is trial 31 with value: -0.05795095195191267.\n",
      "[I 2023-07-25 07:46:23,309] Trial 43 finished with value: -16443.72029184725 and parameters: {'quantile': 0.2236172550399446, 'learning_rate': 3.638297937721185, 'max_iter': 94, 'max_leaf_nodes': 54, 'max_depth': 12}. Best is trial 31 with value: -0.05795095195191267.\n",
      "[I 2023-07-25 07:46:32,234] Trial 44 finished with value: -0.061544297169392435 and parameters: {'quantile': 0.14337850254646248, 'learning_rate': 1.0926191773563094, 'max_iter': 80, 'max_leaf_nodes': 48, 'max_depth': 10}. Best is trial 31 with value: -0.05795095195191267.\n",
      "[I 2023-07-25 07:46:34,164] Trial 45 finished with value: -941.8271060068612 and parameters: {'quantile': 0.19530510934590128, 'learning_rate': 2.9821150967196544, 'max_iter': 88, 'max_leaf_nodes': 59, 'max_depth': 12}. Best is trial 31 with value: -0.05795095195191267.\n",
      "[I 2023-07-25 07:46:36,680] Trial 46 finished with value: -471866.889431344 and parameters: {'quantile': 0.13166012666392768, 'learning_rate': 4.6906168080305815, 'max_iter': 100, 'max_leaf_nodes': 72, 'max_depth': 12}. Best is trial 31 with value: -0.05795095195191267.\n",
      "[I 2023-07-25 07:46:48,988] Trial 47 finished with value: -0.05745306235107599 and parameters: {'quantile': 0.10219054876821557, 'learning_rate': 1.0251025346172724, 'max_iter': 96, 'max_leaf_nodes': 67, 'max_depth': 11}. Best is trial 47 with value: -0.05745306235107599.\n",
      "[I 2023-07-25 07:46:50,892] Trial 48 finished with value: -27.771415597485817 and parameters: {'quantile': 0.2368323622314491, 'learning_rate': 2.393470687512721, 'max_iter': 95, 'max_leaf_nodes': 66, 'max_depth': 9}. Best is trial 47 with value: -0.05745306235107599.\n",
      "[I 2023-07-25 07:46:54,556] Trial 49 finished with value: -0.1570927917173707 and parameters: {'quantile': 0.3996600482896976, 'learning_rate': 0.5566083380694966, 'max_iter': 79, 'max_leaf_nodes': 61, 'max_depth': 1}. Best is trial 47 with value: -0.05745306235107599.\n",
      "[I 2023-07-25 07:47:04,933] Trial 50 finished with value: -0.05892202517252069 and parameters: {'quantile': 0.152018862421186, 'learning_rate': 1.0462446253462878, 'max_iter': 87, 'max_leaf_nodes': 56, 'max_depth': 11}. Best is trial 47 with value: -0.05745306235107599.\n",
      "[I 2023-07-25 07:47:18,227] Trial 51 finished with value: -0.06153118368524705 and parameters: {'quantile': 0.112413829656497, 'learning_rate': 1.5530643577233763, 'max_iter': 97, 'max_leaf_nodes': 69, 'max_depth': 12}. Best is trial 47 with value: -0.05745306235107599.\n",
      "[I 2023-07-25 07:47:20,121] Trial 52 finished with value: -22.006007774537515 and parameters: {'quantile': 0.18334904572000335, 'learning_rate': 2.3614099895730742, 'max_iter': 90, 'max_leaf_nodes': 85, 'max_depth': 10}. Best is trial 47 with value: -0.05745306235107599.\n",
      "[I 2023-07-25 07:47:33,146] Trial 53 finished with value: -0.057028887588995616 and parameters: {'quantile': 0.14622287520700505, 'learning_rate': 0.8025971754574907, 'max_iter': 96, 'max_leaf_nodes': 81, 'max_depth': 11}. Best is trial 53 with value: -0.057028887588995616.\n",
      "[I 2023-07-25 07:47:44,897] Trial 54 finished with value: -0.060768593803326595 and parameters: {'quantile': 0.14348703170486765, 'learning_rate': 0.5277104683629172, 'max_iter': 85, 'max_leaf_nodes': 82, 'max_depth': 11}. Best is trial 53 with value: -0.057028887588995616.\n",
      "[I 2023-07-25 07:47:55,332] Trial 55 finished with value: -0.0881808121621962 and parameters: {'quantile': 0.23411832291966922, 'learning_rate': 0.17374605006470634, 'max_iter': 95, 'max_leaf_nodes': 74, 'max_depth': 10}. Best is trial 53 with value: -0.057028887588995616.\n",
      "[I 2023-07-25 07:47:57,303] Trial 56 finished with value: -53793.27340787748 and parameters: {'quantile': 0.1950215684302303, 'learning_rate': 3.9702564780392047, 'max_iter': 91, 'max_leaf_nodes': 69, 'max_depth': 11}. Best is trial 53 with value: -0.057028887588995616.\n",
      "[I 2023-07-25 07:47:59,234] Trial 57 finished with value: -4.497172735826118 and parameters: {'quantile': 0.14091957670296473, 'learning_rate': 2.1608303330373753, 'max_iter': 22, 'max_leaf_nodes': 62, 'max_depth': 12}. Best is trial 53 with value: -0.057028887588995616.\n",
      "[I 2023-07-25 07:48:01,136] Trial 58 finished with value: -5189.72129690119 and parameters: {'quantile': 0.17175310730086374, 'learning_rate': 3.3509379084284503, 'max_iter': 96, 'max_leaf_nodes': 46, 'max_depth': 11}. Best is trial 53 with value: -0.057028887588995616.\n",
      "[I 2023-07-25 07:48:06,642] Trial 59 finished with value: -0.0749592489568645 and parameters: {'quantile': 0.2856820438569516, 'learning_rate': 0.8599634380103055, 'max_iter': 66, 'max_leaf_nodes': 19, 'max_depth': 9}. Best is trial 53 with value: -0.057028887588995616.\n",
      "[I 2023-07-25 07:48:18,625] Trial 60 finished with value: -0.06874255410344043 and parameters: {'quantile': 0.24951878055103596, 'learning_rate': 1.66275859919176, 'max_iter': 82, 'max_leaf_nodes': 88, 'max_depth': 10}. Best is trial 53 with value: -0.057028887588995616.\n",
      "[I 2023-07-25 07:48:32,923] Trial 61 finished with value: -0.05830333696243077 and parameters: {'quantile': 0.10341514719062397, 'learning_rate': 1.350925431503161, 'max_iter': 100, 'max_leaf_nodes': 87, 'max_depth': 12}. Best is trial 53 with value: -0.057028887588995616.\n",
      "[I 2023-07-25 07:48:44,834] Trial 62 finished with value: -0.09034284944215296 and parameters: {'quantile': 0.1310236667660746, 'learning_rate': 0.15993882945228333, 'max_iter': 98, 'max_leaf_nodes': 82, 'max_depth': 12}. Best is trial 53 with value: -0.057028887588995616.\n",
      "[I 2023-07-25 07:48:46,757] Trial 63 finished with value: -83.38755692969153 and parameters: {'quantile': 0.10291117454231263, 'learning_rate': 2.5554277783331276, 'max_iter': 91, 'max_leaf_nodes': 75, 'max_depth': 12}. Best is trial 53 with value: -0.057028887588995616.\n",
      "[I 2023-07-25 07:49:00,533] Trial 64 finished with value: -0.06553326999399839 and parameters: {'quantile': 0.2214552618087148, 'learning_rate': 1.6866942098151974, 'max_iter': 100, 'max_leaf_nodes': 85, 'max_depth': 11}. Best is trial 53 with value: -0.057028887588995616.\n",
      "[I 2023-07-25 07:49:13,231] Trial 65 finished with value: -0.05832970429370408 and parameters: {'quantile': 0.17047421739920698, 'learning_rate': 0.5964348188764872, 'max_iter': 87, 'max_leaf_nodes': 88, 'max_depth': 12}. Best is trial 53 with value: -0.057028887588995616.\n",
      "[I 2023-07-25 07:49:14,493] Trial 66 finished with value: -1.9414718234098178 and parameters: {'quantile': 0.17158613420660912, 'learning_rate': 2.858206306608199, 'max_iter': 1, 'max_leaf_nodes': 97, 'max_depth': 11}. Best is trial 53 with value: -0.057028887588995616.\n",
      "[I 2023-07-25 07:49:26,628] Trial 67 finished with value: -0.058451581848379855 and parameters: {'quantile': 0.1368374792969476, 'learning_rate': 0.6192149506520077, 'max_iter': 88, 'max_leaf_nodes': 88, 'max_depth': 12}. Best is trial 53 with value: -0.057028887588995616.\n",
      "[I 2023-07-25 07:49:38,128] Trial 68 finished with value: -0.10409820969158043 and parameters: {'quantile': 0.12690440384482413, 'learning_rate': 1.9034277771955228, 'max_iter': 94, 'max_leaf_nodes': 88, 'max_depth': 11}. Best is trial 53 with value: -0.057028887588995616.\n",
      "[I 2023-07-25 07:49:51,021] Trial 69 finished with value: -0.06114481464795076 and parameters: {'quantile': 0.15822089425016558, 'learning_rate': 0.5048475670175391, 'max_iter': 87, 'max_leaf_nodes': 99, 'max_depth': 10}. Best is trial 53 with value: -0.057028887588995616.\n",
      "[I 2023-07-25 07:49:52,901] Trial 70 finished with value: -80779.25271734614 and parameters: {'quantile': 0.10710785879395525, 'learning_rate': 4.093501214412795, 'max_iter': 92, 'max_leaf_nodes': 89, 'max_depth': 12}. Best is trial 53 with value: -0.057028887588995616.\n",
      "[I 2023-07-25 07:50:07,486] Trial 71 finished with value: -0.057162706382539605 and parameters: {'quantile': 0.20578932849360002, 'learning_rate': 1.3049235521371392, 'max_iter': 97, 'max_leaf_nodes': 92, 'max_depth': 12}. Best is trial 53 with value: -0.057028887588995616.\n",
      "[I 2023-07-25 07:50:22,426] Trial 72 finished with value: -0.058955322857538274 and parameters: {'quantile': 0.1365789809788731, 'learning_rate': 1.4978360860979132, 'max_iter': 97, 'max_leaf_nodes': 93, 'max_depth': 12}. Best is trial 53 with value: -0.057028887588995616.\n",
      "[I 2023-07-25 07:50:33,856] Trial 73 finished with value: -0.058815917244251524 and parameters: {'quantile': 0.19113669593961963, 'learning_rate': 0.5962957837812878, 'max_iter': 88, 'max_leaf_nodes': 81, 'max_depth': 11}. Best is trial 53 with value: -0.057028887588995616.\n",
      "[I 2023-07-25 07:50:35,687] Trial 74 finished with value: -4.144155635266671 and parameters: {'quantile': 0.16485937537439715, 'learning_rate': 2.1512476294989984, 'max_iter': 100, 'max_leaf_nodes': 77, 'max_depth': 12}. Best is trial 53 with value: -0.057028887588995616.\n",
      "[I 2023-07-25 07:50:46,851] Trial 75 finished with value: -0.09112668094843918 and parameters: {'quantile': 0.10262589828641051, 'learning_rate': 0.1382276238614628, 'max_iter': 92, 'max_leaf_nodes': 91, 'max_depth': 11}. Best is trial 53 with value: -0.057028887588995616.\n",
      "[I 2023-07-25 07:50:48,751] Trial 76 finished with value: -670.5249201875138 and parameters: {'quantile': 0.20246228538442634, 'learning_rate': 2.915906625362339, 'max_iter': 96, 'max_leaf_nodes': 85, 'max_depth': 12}. Best is trial 53 with value: -0.057028887588995616.\n",
      "[I 2023-07-25 07:51:02,357] Trial 77 finished with value: -0.05820916087181906 and parameters: {'quantile': 0.13360577709195912, 'learning_rate': 1.3287163200052177, 'max_iter': 89, 'max_leaf_nodes': 97, 'max_depth': 11}. Best is trial 53 with value: -0.057028887588995616.\n",
      "[I 2023-07-25 07:51:04,302] Trial 78 finished with value: -19603.932112771112 and parameters: {'quantile': 0.20805492128695496, 'learning_rate': 3.6850831040361602, 'max_iter': 97, 'max_leaf_nodes': 96, 'max_depth': 11}. Best is trial 53 with value: -0.057028887588995616.\n",
      "[I 2023-07-25 07:51:17,745] Trial 79 finished with value: -0.0625501025947846 and parameters: {'quantile': 0.10009435297365371, 'learning_rate': 1.4943312842715102, 'max_iter': 93, 'max_leaf_nodes': 97, 'max_depth': 8}. Best is trial 53 with value: -0.057028887588995616.\n",
      "[I 2023-07-25 07:51:19,550] Trial 80 finished with value: -75.6162149019434 and parameters: {'quantile': 0.17209629394385212, 'learning_rate': 2.5403286103777543, 'max_iter': 76, 'max_leaf_nodes': 93, 'max_depth': 4}. Best is trial 53 with value: -0.057028887588995616.\n",
      "[I 2023-07-25 07:51:31,912] Trial 81 finished with value: -0.05751032224433148 and parameters: {'quantile': 0.13401748874938102, 'learning_rate': 0.7243092851197177, 'max_iter': 88, 'max_leaf_nodes': 87, 'max_depth': 12}. Best is trial 53 with value: -0.057028887588995616.\n",
      "[I 2023-07-25 07:51:37,426] Trial 82 finished with value: -0.0891843161657698 and parameters: {'quantile': 0.1267501176260698, 'learning_rate': 1.2120420438056094, 'max_iter': 90, 'max_leaf_nodes': 83, 'max_depth': 3}. Best is trial 53 with value: -0.057028887588995616.\n",
      "[I 2023-07-25 07:51:39,310] Trial 83 finished with value: -2.1386520670745695 and parameters: {'quantile': 0.15209645859572027, 'learning_rate': 2.075242882018492, 'max_iter': 39, 'max_leaf_nodes': 87, 'max_depth': 12}. Best is trial 53 with value: -0.057028887588995616.\n",
      "[I 2023-07-25 07:51:51,925] Trial 84 finished with value: -0.05940713032557567 and parameters: {'quantile': 0.13130693510430325, 'learning_rate': 1.3905396063203723, 'max_iter': 81, 'max_leaf_nodes': 91, 'max_depth': 11}. Best is trial 53 with value: -0.057028887588995616.\n",
      "[I 2023-07-25 07:52:04,919] Trial 85 finished with value: -0.05766870552649389 and parameters: {'quantile': 0.18193409333057742, 'learning_rate': 0.749612888890337, 'max_iter': 98, 'max_leaf_nodes': 79, 'max_depth': 10}. Best is trial 53 with value: -0.057028887588995616.\n",
      "[I 2023-07-25 07:52:06,810] Trial 86 finished with value: -5615.004758984737 and parameters: {'quantile': 0.21118216619866062, 'learning_rate': 3.3695264334456803, 'max_iter': 98, 'max_leaf_nodes': 78, 'max_depth': 10}. Best is trial 53 with value: -0.057028887588995616.\n",
      "[I 2023-07-25 07:52:19,537] Trial 87 finished with value: -0.05783536426848814 and parameters: {'quantile': 0.12448248364948851, 'learning_rate': 0.8875189956959706, 'max_iter': 94, 'max_leaf_nodes': 71, 'max_depth': 10}. Best is trial 53 with value: -0.057028887588995616.\n",
      "[I 2023-07-25 07:52:28,749] Trial 88 finished with value: -0.17239774477319864 and parameters: {'quantile': 0.19007698247140534, 'learning_rate': 1.9579139671147237, 'max_iter': 93, 'max_leaf_nodes': 73, 'max_depth': 9}. Best is trial 53 with value: -0.057028887588995616.\n",
      "[I 2023-07-25 07:52:41,290] Trial 89 finished with value: -0.05739784584542389 and parameters: {'quantile': 0.12280664517744201, 'learning_rate': 0.8737852689042743, 'max_iter': 95, 'max_leaf_nodes': 76, 'max_depth': 10}. Best is trial 53 with value: -0.057028887588995616.\n",
      "[I 2023-07-25 07:52:53,416] Trial 90 finished with value: -0.058167987775675736 and parameters: {'quantile': 0.15426460204437115, 'learning_rate': 0.9871757027708801, 'max_iter': 89, 'max_leaf_nodes': 72, 'max_depth': 10}. Best is trial 53 with value: -0.057028887588995616.\n",
      "[I 2023-07-25 07:53:05,099] Trial 91 finished with value: -0.058165109650679635 and parameters: {'quantile': 0.15620407778788908, 'learning_rate': 0.9563771263384702, 'max_iter': 90, 'max_leaf_nodes': 72, 'max_depth': 10}. Best is trial 53 with value: -0.057028887588995616.\n",
      "[I 2023-07-25 07:53:17,054] Trial 92 finished with value: -0.05865718483650584 and parameters: {'quantile': 0.15550799016145941, 'learning_rate': 0.8206122793876691, 'max_iter': 95, 'max_leaf_nodes': 71, 'max_depth': 9}. Best is trial 53 with value: -0.057028887588995616.\n",
      "[I 2023-07-25 07:53:29,494] Trial 93 finished with value: -0.05968743604743594 and parameters: {'quantile': 0.18043899449981293, 'learning_rate': 0.6133022487235097, 'max_iter': 90, 'max_leaf_nodes': 76, 'max_depth': 10}. Best is trial 53 with value: -0.057028887588995616.\n",
      "[I 2023-07-25 07:53:42,232] Trial 94 finished with value: -0.057621261206644715 and parameters: {'quantile': 0.2546528687885671, 'learning_rate': 0.8027984079041379, 'max_iter': 98, 'max_leaf_nodes': 80, 'max_depth': 9}. Best is trial 53 with value: -0.057028887588995616.\n",
      "[I 2023-07-25 07:53:54,881] Trial 95 finished with value: -0.09416236648118018 and parameters: {'quantile': 0.2599646210644152, 'learning_rate': 1.8789979842742621, 'max_iter': 98, 'max_leaf_nodes': 80, 'max_depth': 9}. Best is trial 53 with value: -0.057028887588995616.\n",
      "[I 2023-07-25 07:54:04,502] Trial 96 finished with value: -0.09868668109338705 and parameters: {'quantile': 0.2150228603677398, 'learning_rate': 0.10883068349193792, 'max_iter': 93, 'max_leaf_nodes': 68, 'max_depth': 8}. Best is trial 53 with value: -0.057028887588995616.\n",
      "[I 2023-07-25 07:54:06,400] Trial 97 finished with value: -32.23694750537739 and parameters: {'quantile': 0.122457968216983, 'learning_rate': 2.414407733388358, 'max_iter': 96, 'max_leaf_nodes': 79, 'max_depth': 10}. Best is trial 53 with value: -0.057028887588995616.\n",
      "[I 2023-07-25 07:54:08,270] Trial 98 finished with value: -237.85057400768247 and parameters: {'quantile': 0.22834146787008858, 'learning_rate': 2.727296087146355, 'max_iter': 59, 'max_leaf_nodes': 74, 'max_depth': 10}. Best is trial 53 with value: -0.057028887588995616.\n",
      "[I 2023-07-25 07:54:17,713] Trial 99 finished with value: -0.06312616327000797 and parameters: {'quantile': 0.2821039030937288, 'learning_rate': 0.7384812419152778, 'max_iter': 85, 'max_leaf_nodes': 68, 'max_depth': 7}. Best is trial 53 with value: -0.057028887588995616.\n",
      "[I 2023-07-25 07:54:31,515] Trial 100 finished with value: -0.06352562515567364 and parameters: {'quantile': 0.18665676462812109, 'learning_rate': 1.6042206145443534, 'max_iter': 98, 'max_leaf_nodes': 82, 'max_depth': 9}. Best is trial 53 with value: -0.057028887588995616.\n",
      "[I 2023-07-25 07:54:43,469] Trial 101 finished with value: -0.05799462622088042 and parameters: {'quantile': 0.15017037346795334, 'learning_rate': 0.9434676622760354, 'max_iter': 91, 'max_leaf_nodes': 71, 'max_depth': 10}. Best is trial 53 with value: -0.057028887588995616.\n",
      "[I 2023-07-25 07:54:55,603] Trial 102 finished with value: -0.07105742043720627 and parameters: {'quantile': 0.12095310230979381, 'learning_rate': 0.3386174408014787, 'max_iter': 95, 'max_leaf_nodes': 77, 'max_depth': 10}. Best is trial 53 with value: -0.057028887588995616.\n",
      "[I 2023-07-25 07:55:07,624] Trial 103 finished with value: -0.057818795485364484 and parameters: {'quantile': 0.1501534801983102, 'learning_rate': 0.9028969347297194, 'max_iter': 92, 'max_leaf_nodes': 72, 'max_depth': 10}. Best is trial 53 with value: -0.057028887588995616.\n",
      "[I 2023-07-25 07:55:09,478] Trial 104 finished with value: -1.9803196369578107 and parameters: {'quantile': 0.12169055431092624, 'learning_rate': 2.0664697037456987, 'max_iter': 92, 'max_leaf_nodes': 63, 'max_depth': 9}. Best is trial 53 with value: -0.057028887588995616.\n",
      "[I 2023-07-25 07:55:22,617] Trial 105 finished with value: -0.05732273005995624 and parameters: {'quantile': 0.145141029901705, 'learning_rate': 0.9176511702370445, 'max_iter': 100, 'max_leaf_nodes': 76, 'max_depth': 10}. Best is trial 53 with value: -0.057028887588995616.\n",
      "[I 2023-07-25 07:55:35,898] Trial 106 finished with value: -0.06282629986132429 and parameters: {'quantile': 0.20206379513208278, 'learning_rate': 0.42547494682958015, 'max_iter': 100, 'max_leaf_nodes': 75, 'max_depth': 11}. Best is trial 53 with value: -0.057028887588995616.\n",
      "[I 2023-07-25 07:55:48,596] Trial 107 finished with value: -0.06741152634767689 and parameters: {'quantile': 0.24802398390918812, 'learning_rate': 1.6875090907156134, 'max_iter': 94, 'max_leaf_nodes': 80, 'max_depth': 10}. Best is trial 53 with value: -0.057028887588995616.\n",
      "[I 2023-07-25 07:56:02,965] Trial 108 finished with value: -0.05794569968758342 and parameters: {'quantile': 0.17850220243778828, 'learning_rate': 1.3198947226631317, 'max_iter': 98, 'max_leaf_nodes': 83, 'max_depth': 11}. Best is trial 53 with value: -0.057028887588995616.\n",
      "[I 2023-07-25 07:56:16,106] Trial 109 finished with value: -0.05776857319868477 and parameters: {'quantile': 0.17118292898273368, 'learning_rate': 0.7301469441436459, 'max_iter': 98, 'max_leaf_nodes': 83, 'max_depth': 9}. Best is trial 53 with value: -0.057028887588995616.\n",
      "[I 2023-07-25 07:56:26,874] Trial 110 finished with value: -0.09328536045170044 and parameters: {'quantile': 0.22210286873995777, 'learning_rate': 0.12989391407531592, 'max_iter': 100, 'max_leaf_nodes': 84, 'max_depth': 9}. Best is trial 53 with value: -0.057028887588995616.\n",
      "[I 2023-07-25 07:56:39,407] Trial 111 finished with value: -0.059638633561835075 and parameters: {'quantile': 0.1758741827755523, 'learning_rate': 0.672844091403143, 'max_iter': 98, 'max_leaf_nodes': 83, 'max_depth': 8}. Best is trial 53 with value: -0.057028887588995616.\n",
      "[I 2023-07-25 07:56:52,385] Trial 112 finished with value: -0.05819472456353806 and parameters: {'quantile': 0.14139448758636872, 'learning_rate': 1.2517211108194872, 'max_iter': 97, 'max_leaf_nodes': 79, 'max_depth': 10}. Best is trial 53 with value: -0.057028887588995616.\n",
      "[I 2023-07-25 07:57:05,259] Trial 113 finished with value: -0.07206320398977907 and parameters: {'quantile': 0.17199348245815363, 'learning_rate': 1.7560887257386533, 'max_iter': 96, 'max_leaf_nodes': 76, 'max_depth': 9}. Best is trial 53 with value: -0.057028887588995616.\n",
      "[I 2023-07-25 07:57:14,486] Trial 114 finished with value: -0.061625980088566644 and parameters: {'quantile': 0.19404842779870934, 'learning_rate': 0.7720234615008998, 'max_iter': 94, 'max_leaf_nodes': 38, 'max_depth': 11}. Best is trial 53 with value: -0.057028887588995616.\n",
      "[I 2023-07-25 07:57:16,373] Trial 115 finished with value: -108.92394175749703 and parameters: {'quantile': 0.14643750938832703, 'learning_rate': 2.5975384355548767, 'max_iter': 99, 'max_leaf_nodes': 81, 'max_depth': 6}. Best is trial 53 with value: -0.057028887588995616.\n",
      "[I 2023-07-25 07:57:28,763] Trial 116 finished with value: -0.05926993626116356 and parameters: {'quantile': 0.16764980061028836, 'learning_rate': 1.3451383738253597, 'max_iter': 86, 'max_leaf_nodes': 86, 'max_depth': 10}. Best is trial 53 with value: -0.057028887588995616.\n",
      "[I 2023-07-25 07:57:31,296] Trial 117 finished with value: -3.1471174872237215 and parameters: {'quantile': 0.11749144456805803, 'learning_rate': 2.11936694286818, 'max_iter': 92, 'max_leaf_nodes': 90, 'max_depth': 11}. Best is trial 53 with value: -0.057028887588995616.\n",
      "[I 2023-07-25 07:57:43,900] Trial 118 finished with value: -0.06212168223690355 and parameters: {'quantile': 0.2025579665221825, 'learning_rate': 0.45321214252952235, 'max_iter': 98, 'max_leaf_nodes': 78, 'max_depth': 11}. Best is trial 53 with value: -0.057028887588995616.\n",
      "[I 2023-07-25 07:57:45,829] Trial 119 finished with value: -2350.179330007038 and parameters: {'quantile': 0.228713743415425, 'learning_rate': 3.1718962240104007, 'max_iter': 96, 'max_leaf_nodes': 84, 'max_depth': 10}. Best is trial 53 with value: -0.057028887588995616.\n",
      "[I 2023-07-25 07:57:52,688] Trial 120 finished with value: -0.06614801628853008 and parameters: {'quantile': 0.18034965738464406, 'learning_rate': 1.1408730312136302, 'max_iter': 49, 'max_leaf_nodes': 69, 'max_depth': 9}. Best is trial 53 with value: -0.057028887588995616.\n",
      "[I 2023-07-25 07:58:05,817] Trial 121 finished with value: -0.06938542913439577 and parameters: {'quantile': 0.1175180166262966, 'learning_rate': 1.7108994775889026, 'max_iter': 94, 'max_leaf_nodes': 74, 'max_depth': 11}. Best is trial 53 with value: -0.057028887588995616.\n",
      "[I 2023-07-25 07:58:18,165] Trial 122 finished with value: -0.057515090482652284 and parameters: {'quantile': 0.13974989322222875, 'learning_rate': 0.8766729241538711, 'max_iter': 100, 'max_leaf_nodes': 64, 'max_depth': 11}. Best is trial 53 with value: -0.057028887588995616.\n",
      "[I 2023-07-25 07:58:28,490] Trial 123 finished with value: -0.09246748632344957 and parameters: {'quantile': 0.14102998534383945, 'learning_rate': 0.1326614694245989, 'max_iter': 100, 'max_leaf_nodes': 63, 'max_depth': 11}. Best is trial 53 with value: -0.057028887588995616.\n",
      "[I 2023-07-25 07:58:40,999] Trial 124 finished with value: -0.057918748691107025 and parameters: {'quantile': 0.16268188608888343, 'learning_rate': 0.8202624189770432, 'max_iter': 97, 'max_leaf_nodes': 67, 'max_depth': 10}. Best is trial 53 with value: -0.057028887588995616.\n",
      "[I 2023-07-25 07:58:52,142] Trial 125 finished with value: -0.05843168312118731 and parameters: {'quantile': 0.1006044099602002, 'learning_rate': 0.8514866548343465, 'max_iter': 96, 'max_leaf_nodes': 58, 'max_depth': 10}. Best is trial 53 with value: -0.057028887588995616.\n",
      "[I 2023-07-25 07:59:03,198] Trial 126 finished with value: -0.062384710555115484 and parameters: {'quantile': 0.1374923473677554, 'learning_rate': 0.5393959259194109, 'max_iter': 93, 'max_leaf_nodes': 65, 'max_depth': 10}. Best is trial 53 with value: -0.057028887588995616.\n",
      "[I 2023-07-25 07:59:05,771] Trial 127 finished with value: -12.993629067673671 and parameters: {'quantile': 0.16188772861495151, 'learning_rate': 2.291483092797006, 'max_iter': 100, 'max_leaf_nodes': 67, 'max_depth': 9}. Best is trial 53 with value: -0.057028887588995616.\n",
      "[I 2023-07-25 07:59:17,463] Trial 128 finished with value: -0.058084256789912934 and parameters: {'quantile': 0.1255053435500635, 'learning_rate': 0.9806187499365158, 'max_iter': 95, 'max_leaf_nodes': 61, 'max_depth': 10}. Best is trial 53 with value: -0.057028887588995616.\n",
      "[I 2023-07-25 07:59:28,284] Trial 129 finished with value: -0.07591694293590727 and parameters: {'quantile': 0.24591237605982635, 'learning_rate': 1.7260016897651194, 'max_iter': 91, 'max_leaf_nodes': 64, 'max_depth': 8}. Best is trial 53 with value: -0.057028887588995616.\n",
      "[I 2023-07-25 07:59:39,647] Trial 130 finished with value: -0.0626718225596306 and parameters: {'quantile': 0.20869645051988328, 'learning_rate': 0.5506635446886442, 'max_iter': 89, 'max_leaf_nodes': 70, 'max_depth': 9}. Best is trial 53 with value: -0.057028887588995616.\n",
      "[I 2023-07-25 07:59:52,655] Trial 131 finished with value: -0.05839001088110699 and parameters: {'quantile': 0.18587032596511935, 'learning_rate': 1.331726065336837, 'max_iter': 98, 'max_leaf_nodes': 76, 'max_depth': 11}. Best is trial 53 with value: -0.057028887588995616.\n",
      "[I 2023-07-25 08:00:07,448] Trial 132 finished with value: -0.0571383893405932 and parameters: {'quantile': 0.14794459626612702, 'learning_rate': 1.1488991799814565, 'max_iter': 97, 'max_leaf_nodes': 81, 'max_depth': 11}. Best is trial 53 with value: -0.057028887588995616.\n",
      "[I 2023-07-25 08:00:20,369] Trial 133 finished with value: -0.05744840191581824 and parameters: {'quantile': 0.16128603668902647, 'learning_rate': 0.9577542838808939, 'max_iter': 96, 'max_leaf_nodes': 81, 'max_depth': 10}. Best is trial 53 with value: -0.057028887588995616.\n",
      "[I 2023-07-25 08:00:30,825] Trial 134 finished with value: -0.09323146438871521 and parameters: {'quantile': 0.14429763972082754, 'learning_rate': 0.13371299724093377, 'max_iter': 93, 'max_leaf_nodes': 81, 'max_depth': 11}. Best is trial 53 with value: -0.057028887588995616.\n",
      "[I 2023-07-25 08:00:39,757] Trial 135 finished with value: -0.47622363201535406 and parameters: {'quantile': 0.15112376065154992, 'learning_rate': 1.9864943819217968, 'max_iter': 96, 'max_leaf_nodes': 78, 'max_depth': 10}. Best is trial 53 with value: -0.057028887588995616.\n",
      "[I 2023-07-25 08:00:52,845] Trial 136 finished with value: -0.06109509580550694 and parameters: {'quantile': 0.12097376354383935, 'learning_rate': 1.48906294489601, 'max_iter': 100, 'max_leaf_nodes': 73, 'max_depth': 11}. Best is trial 53 with value: -0.057028887588995616.\n",
      "[I 2023-07-25 08:01:05,653] Trial 137 finished with value: -0.05747309695929208 and parameters: {'quantile': 0.16402626673992815, 'learning_rate': 1.022584653618048, 'max_iter': 94, 'max_leaf_nodes': 80, 'max_depth': 10}. Best is trial 53 with value: -0.057028887588995616.\n",
      "[I 2023-07-25 08:01:07,545] Trial 138 finished with value: -107.35258567470828 and parameters: {'quantile': 0.19287702250110586, 'learning_rate': 2.5952188604522783, 'max_iter': 91, 'max_leaf_nodes': 82, 'max_depth': 11}. Best is trial 53 with value: -0.057028887588995616.\n",
      "[I 2023-07-25 08:01:20,006] Trial 139 finished with value: -0.0638557525372705 and parameters: {'quantile': 0.21555870850007636, 'learning_rate': 0.42179467640261914, 'max_iter': 97, 'max_leaf_nodes': 80, 'max_depth': 10}. Best is trial 53 with value: -0.057028887588995616.\n",
      "[I 2023-07-25 08:01:23,945] Trial 140 finished with value: -0.08008629469915328 and parameters: {'quantile': 0.2682788362221181, 'learning_rate': 1.1628266960546936, 'max_iter': 24, 'max_leaf_nodes': 85, 'max_depth': 10}. Best is trial 53 with value: -0.057028887588995616.\n",
      "[I 2023-07-25 08:01:36,405] Trial 141 finished with value: -0.057876608933944605 and parameters: {'quantile': 0.16211963006567465, 'learning_rate': 0.8522272426975919, 'max_iter': 95, 'max_leaf_nodes': 77, 'max_depth': 10}. Best is trial 53 with value: -0.057028887588995616.\n",
      "[I 2023-07-25 08:01:49,835] Trial 142 finished with value: -0.05978552907760508 and parameters: {'quantile': 0.1293915440932468, 'learning_rate': 1.4471241222929514, 'max_iter': 94, 'max_leaf_nodes': 75, 'max_depth': 10}. Best is trial 53 with value: -0.057028887588995616.\n",
      "[I 2023-07-25 08:01:51,663] Trial 143 finished with value: -6.480254896276395 and parameters: {'quantile': 0.11468492612504175, 'learning_rate': 2.204418844974616, 'max_iter': 13, 'max_leaf_nodes': 86, 'max_depth': 9}. Best is trial 53 with value: -0.057028887588995616.\n",
      "[I 2023-07-25 08:02:04,900] Trial 144 finished with value: -0.05703227878748297 and parameters: {'quantile': 0.1588336958809203, 'learning_rate': 1.0568989516969325, 'max_iter': 98, 'max_leaf_nodes': 80, 'max_depth': 11}. Best is trial 53 with value: -0.057028887588995616.\n",
      "[I 2023-07-25 08:02:18,398] Trial 145 finished with value: -0.07790451224401258 and parameters: {'quantile': 0.1752729626841908, 'learning_rate': 1.8086437791864851, 'max_iter': 98, 'max_leaf_nodes': 79, 'max_depth': 11}. Best is trial 53 with value: -0.057028887588995616.\n",
      "[I 2023-07-25 08:02:31,805] Trial 146 finished with value: -0.05972928463390361 and parameters: {'quantile': 0.1488771872431497, 'learning_rate': 0.4671932189234258, 'max_iter': 100, 'max_leaf_nodes': 89, 'max_depth': 12}. Best is trial 53 with value: -0.057028887588995616.\n",
      "[I 2023-07-25 08:02:45,354] Trial 147 finished with value: -0.05767623890577901 and parameters: {'quantile': 0.18843651280243962, 'learning_rate': 1.201267571377853, 'max_iter': 92, 'max_leaf_nodes': 81, 'max_depth': 11}. Best is trial 53 with value: -0.057028887588995616.\n",
      "[I 2023-07-25 08:02:59,072] Trial 148 finished with value: -0.05817719693679644 and parameters: {'quantile': 0.203034641405207, 'learning_rate': 1.3376511955390529, 'max_iter': 98, 'max_leaf_nodes': 83, 'max_depth': 11}. Best is trial 53 with value: -0.057028887588995616.\n",
      "[I 2023-07-25 08:03:00,948] Trial 149 finished with value: -250688256.11211514 and parameters: {'quantile': 0.23491896001221166, 'learning_rate': 7.912297619670548, 'max_iter': 89, 'max_leaf_nodes': 87, 'max_depth': 12}. Best is trial 53 with value: -0.057028887588995616.\n",
      "[I 2023-07-25 08:03:02,820] Trial 150 finished with value: -2669697.9829980023 and parameters: {'quantile': 0.3030278346659896, 'learning_rate': 5.388948611639192, 'max_iter': 96, 'max_leaf_nodes': 81, 'max_depth': 11}. Best is trial 53 with value: -0.057028887588995616.\n",
      "[I 2023-07-25 08:03:15,870] Trial 151 finished with value: -0.05751330411413356 and parameters: {'quantile': 0.18448194070694096, 'learning_rate': 1.0432920504648528, 'max_iter': 92, 'max_leaf_nodes': 77, 'max_depth': 11}. Best is trial 53 with value: -0.057028887588995616.\n",
      "[I 2023-07-25 08:03:28,518] Trial 152 finished with value: -0.05730693657067528 and parameters: {'quantile': 0.18894035830528855, 'learning_rate': 1.0574370377104776, 'max_iter': 93, 'max_leaf_nodes': 78, 'max_depth': 11}. Best is trial 53 with value: -0.057028887588995616.\n",
      "[I 2023-07-25 08:03:40,291] Trial 153 finished with value: -0.07753837187857326 and parameters: {'quantile': 0.1870327913150544, 'learning_rate': 1.7849810092534877, 'max_iter': 87, 'max_leaf_nodes': 78, 'max_depth': 11}. Best is trial 53 with value: -0.057028887588995616.\n",
      "[I 2023-07-25 08:03:54,172] Trial 154 finished with value: -0.0570900606047801 and parameters: {'quantile': 0.2186931986478502, 'learning_rate': 1.1442343505608765, 'max_iter': 92, 'max_leaf_nodes': 80, 'max_depth': 12}. Best is trial 53 with value: -0.057028887588995616.\n",
      "[I 2023-07-25 08:04:04,556] Trial 155 finished with value: -0.09697175894054802 and parameters: {'quantile': 0.22072549146075565, 'learning_rate': 0.10469531605636762, 'max_iter': 94, 'max_leaf_nodes': 77, 'max_depth': 12}. Best is trial 53 with value: -0.057028887588995616.\n",
      "[I 2023-07-25 08:04:06,538] Trial 156 finished with value: -547.5317921600183 and parameters: {'quantile': 0.2615601647188453, 'learning_rate': 2.8774762451793423, 'max_iter': 83, 'max_leaf_nodes': 79, 'max_depth': 12}. Best is trial 53 with value: -0.057028887588995616.\n",
      "[I 2023-07-25 08:04:08,432] Trial 157 finished with value: -2.750771693446636 and parameters: {'quantile': 0.24170969821385574, 'learning_rate': 2.1039424360845826, 'max_iter': 90, 'max_leaf_nodes': 75, 'max_depth': 12}. Best is trial 53 with value: -0.057028887588995616.\n",
      "[I 2023-07-25 08:04:13,279] Trial 158 finished with value: -0.10971054665338482 and parameters: {'quantile': 0.16187104131324973, 'learning_rate': 1.573199488881178, 'max_iter': 96, 'max_leaf_nodes': 3, 'max_depth': 11}. Best is trial 53 with value: -0.057028887588995616.\n",
      "[I 2023-07-25 08:04:19,357] Trial 159 finished with value: -0.06745604603476923 and parameters: {'quantile': 0.20251408793971792, 'learning_rate': 0.9310818639766449, 'max_iter': 35, 'max_leaf_nodes': 85, 'max_depth': 12}. Best is trial 53 with value: -0.057028887588995616.\n",
      "[I 2023-07-25 08:04:29,572] Trial 160 finished with value: -0.06454854007062759 and parameters: {'quantile': 0.13741310089862388, 'learning_rate': 0.5069394817949786, 'max_iter': 93, 'max_leaf_nodes': 50, 'max_depth': 12}. Best is trial 53 with value: -0.057028887588995616.\n",
      "[I 2023-07-25 08:04:42,301] Trial 161 finished with value: -0.05765157109898704 and parameters: {'quantile': 0.4622370280990541, 'learning_rate': 1.1793275420666691, 'max_iter': 92, 'max_leaf_nodes': 81, 'max_depth': 11}. Best is trial 53 with value: -0.057028887588995616.\n",
      "[I 2023-07-25 08:04:55,430] Trial 162 finished with value: -0.058078568795838705 and parameters: {'quantile': 0.5805984171562878, 'learning_rate': 1.2083168558689188, 'max_iter': 91, 'max_leaf_nodes': 81, 'max_depth': 11}. Best is trial 53 with value: -0.057028887588995616.\n",
      "[I 2023-07-25 08:05:08,604] Trial 163 finished with value: -0.06116292097326461 and parameters: {'quantile': 0.22252014077070215, 'learning_rate': 1.5127505090486395, 'max_iter': 95, 'max_leaf_nodes': 79, 'max_depth': 11}. Best is trial 53 with value: -0.057028887588995616.\n",
      "[I 2023-07-25 08:05:21,769] Trial 164 finished with value: -0.06063231451965325 and parameters: {'quantile': 0.5011074639548853, 'learning_rate': 0.4932176458384805, 'max_iter': 100, 'max_leaf_nodes': 76, 'max_depth': 11}. Best is trial 53 with value: -0.057028887588995616.\n",
      "[I 2023-07-25 08:05:35,749] Trial 165 finished with value: -0.05657139612646857 and parameters: {'quantile': 0.41241930198414745, 'learning_rate': 1.0159137235694644, 'max_iter': 97, 'max_leaf_nodes': 94, 'max_depth': 11}. Best is trial 165 with value: -0.05657139612646857.\n",
      "[I 2023-07-25 08:05:37,612] Trial 166 finished with value: -11332307.794359108 and parameters: {'quantile': 0.439010604676753, 'learning_rate': 6.071590529111058, 'max_iter': 88, 'max_leaf_nodes': 94, 'max_depth': 11}. Best is trial 165 with value: -0.05657139612646857.\n",
      "[I 2023-07-25 08:05:52,025] Trial 167 finished with value: -0.05684316203741792 and parameters: {'quantile': 0.3666459513763515, 'learning_rate': 1.1335020503042137, 'max_iter': 93, 'max_leaf_nodes': 91, 'max_depth': 12}. Best is trial 165 with value: -0.05657139612646857.\n",
      "[I 2023-07-25 08:05:53,882] Trial 168 finished with value: -19.20639719557675 and parameters: {'quantile': 0.27992888524157544, 'learning_rate': 2.3430012503194604, 'max_iter': 96, 'max_leaf_nodes': 93, 'max_depth': 12}. Best is trial 165 with value: -0.05657139612646857.\n",
      "[I 2023-07-25 08:05:55,767] Trial 169 finished with value: -143388.52661945292 and parameters: {'quantile': 0.356342123306778, 'learning_rate': 4.276201536212377, 'max_iter': 93, 'max_leaf_nodes': 90, 'max_depth': 12}. Best is trial 165 with value: -0.05657139612646857.\n",
      "[I 2023-07-25 08:06:09,311] Trial 170 finished with value: -0.08181098956376945 and parameters: {'quantile': 0.35117051472998706, 'learning_rate': 1.844305680188402, 'max_iter': 98, 'max_leaf_nodes': 92, 'max_depth': 12}. Best is trial 165 with value: -0.05657139612646857.\n",
      "[I 2023-07-25 08:06:23,607] Trial 171 finished with value: -0.05720824785066662 and parameters: {'quantile': 0.38448422456936693, 'learning_rate': 1.092426674699943, 'max_iter': 94, 'max_leaf_nodes': 84, 'max_depth': 11}. Best is trial 165 with value: -0.05657139612646857.\n",
      "[I 2023-07-25 08:06:36,938] Trial 172 finished with value: -0.057052091360307054 and parameters: {'quantile': 0.4126207015222637, 'learning_rate': 0.8903668945058971, 'max_iter': 95, 'max_leaf_nodes': 87, 'max_depth': 11}. Best is trial 165 with value: -0.05657139612646857.\n",
      "[I 2023-07-25 08:06:51,824] Trial 173 finished with value: -0.05674056108155168 and parameters: {'quantile': 0.39856194468070005, 'learning_rate': 1.1281620031124284, 'max_iter': 94, 'max_leaf_nodes': 96, 'max_depth': 11}. Best is trial 165 with value: -0.05657139612646857.\n",
      "[I 2023-07-25 08:06:53,681] Trial 174 finished with value: -31248412.597926788 and parameters: {'quantile': 0.38889371979951065, 'learning_rate': 6.612985767556457, 'max_iter': 89, 'max_leaf_nodes': 95, 'max_depth': 12}. Best is trial 165 with value: -0.05657139612646857.\n",
      "[I 2023-07-25 08:07:07,824] Trial 175 finished with value: -0.0590602618369853 and parameters: {'quantile': 0.3941597719439471, 'learning_rate': 1.4692377870040172, 'max_iter': 94, 'max_leaf_nodes': 96, 'max_depth': 11}. Best is trial 165 with value: -0.05657139612646857.\n",
      "[I 2023-07-25 08:07:22,097] Trial 176 finished with value: -0.05653294310976818 and parameters: {'quantile': 0.4008484970520073, 'learning_rate': 1.1260929826290242, 'max_iter': 92, 'max_leaf_nodes': 99, 'max_depth': 12}. Best is trial 176 with value: -0.05653294310976818.\n",
      "[I 2023-07-25 08:07:33,876] Trial 177 finished with value: -0.124319436644202 and parameters: {'quantile': 0.41619840795938284, 'learning_rate': 1.9322742657027037, 'max_iter': 95, 'max_leaf_nodes': 99, 'max_depth': 12}. Best is trial 176 with value: -0.05653294310976818.\n",
      "[I 2023-07-25 08:07:46,344] Trial 178 finished with value: -0.06177043394245674 and parameters: {'quantile': 0.3652649958083673, 'learning_rate': 0.4292033741104859, 'max_iter': 91, 'max_leaf_nodes': 92, 'max_depth': 12}. Best is trial 176 with value: -0.05653294310976818.\n",
      "[I 2023-07-25 08:08:01,523] Trial 179 finished with value: -0.059046114278824155 and parameters: {'quantile': 0.3373984558307177, 'learning_rate': 1.5406730971392497, 'max_iter': 96, 'max_leaf_nodes': 99, 'max_depth': 12}. Best is trial 176 with value: -0.05653294310976818.\n",
      "[I 2023-07-25 08:08:03,361] Trial 180 finished with value: -1520748324.2705178 and parameters: {'quantile': 0.39609587523499645, 'learning_rate': 9.277768146495198, 'max_iter': 87, 'max_leaf_nodes': 100, 'max_depth': 12}. Best is trial 176 with value: -0.05653294310976818.\n",
      "[I 2023-07-25 08:08:16,709] Trial 181 finished with value: -0.05659556456194248 and parameters: {'quantile': 0.3925340053827796, 'learning_rate': 1.0874705775223121, 'max_iter': 93, 'max_leaf_nodes': 96, 'max_depth': 11}. Best is trial 176 with value: -0.05653294310976818.\n",
      "[I 2023-07-25 08:08:18,611] Trial 182 finished with value: -67693599910.56145 and parameters: {'quantile': 0.3771360630234157, 'learning_rate': 13.099289681395273, 'max_iter': 94, 'max_leaf_nodes': 96, 'max_depth': 11}. Best is trial 176 with value: -0.05653294310976818.\n",
      "[I 2023-07-25 08:08:32,783] Trial 183 finished with value: -0.05715299247342681 and parameters: {'quantile': 0.41327324966996337, 'learning_rate': 1.1184148277408832, 'max_iter': 90, 'max_leaf_nodes': 98, 'max_depth': 11}. Best is trial 176 with value: -0.05653294310976818.\n",
      "[I 2023-07-25 08:08:46,158] Trial 184 finished with value: -0.05692353226168327 and parameters: {'quantile': 0.4128669174345081, 'learning_rate': 1.150948544713195, 'max_iter': 90, 'max_leaf_nodes': 97, 'max_depth': 11}. Best is trial 176 with value: -0.05653294310976818.\n",
      "[I 2023-07-25 08:08:48,036] Trial 185 finished with value: -7.079135798824862 and parameters: {'quantile': 0.4118187936057362, 'learning_rate': 2.2151718647426355, 'max_iter': 90, 'max_leaf_nodes': 100, 'max_depth': 11}. Best is trial 176 with value: -0.05653294310976818.\n",
      "[I 2023-07-25 08:09:01,123] Trial 186 finished with value: -0.05804415994383211 and parameters: {'quantile': 0.3731166748970441, 'learning_rate': 1.2344429082182398, 'max_iter': 85, 'max_leaf_nodes': 97, 'max_depth': 11}. Best is trial 176 with value: -0.05653294310976818.\n",
      "[I 2023-07-25 08:09:14,462] Trial 187 finished with value: -0.06383070745606469 and parameters: {'quantile': 0.426881427305977, 'learning_rate': 1.6529363609547516, 'max_iter': 92, 'max_leaf_nodes': 95, 'max_depth': 11}. Best is trial 176 with value: -0.05653294310976818.\n",
      "[I 2023-07-25 08:09:25,435] Trial 188 finished with value: -0.09010070252543334 and parameters: {'quantile': 0.4276039157607849, 'learning_rate': 0.1375213205185809, 'max_iter': 97, 'max_leaf_nodes': 93, 'max_depth': 11}. Best is trial 176 with value: -0.05653294310976818.\n",
      "[I 2023-07-25 08:09:39,163] Trial 189 finished with value: -0.057142901002763535 and parameters: {'quantile': 0.40682305357919135, 'learning_rate': 0.7148221915563582, 'max_iter': 90, 'max_leaf_nodes': 98, 'max_depth': 11}. Best is trial 176 with value: -0.05653294310976818.\n",
      "[I 2023-07-25 08:09:52,234] Trial 190 finished with value: -0.05727401507288556 and parameters: {'quantile': 0.4038948759622897, 'learning_rate': 0.7261976293118874, 'max_iter': 90, 'max_leaf_nodes': 98, 'max_depth': 11}. Best is trial 176 with value: -0.05653294310976818.\n",
      "[I 2023-07-25 08:10:05,487] Trial 191 finished with value: -0.05795510013750312 and parameters: {'quantile': 0.40990170750316324, 'learning_rate': 0.6271076623522366, 'max_iter': 90, 'max_leaf_nodes': 98, 'max_depth': 11}. Best is trial 176 with value: -0.05653294310976818.\n",
      "[I 2023-07-25 08:10:18,207] Trial 192 finished with value: -0.05714878032997173 and parameters: {'quantile': 0.38819441102062324, 'learning_rate': 1.1481136415373139, 'max_iter': 87, 'max_leaf_nodes': 98, 'max_depth': 11}. Best is trial 176 with value: -0.05653294310976818.\n",
      "[I 2023-07-25 08:10:31,500] Trial 193 finished with value: -0.05783543240383445 and parameters: {'quantile': 0.39336702608089397, 'learning_rate': 1.2400714611618486, 'max_iter': 86, 'max_leaf_nodes': 98, 'max_depth': 11}. Best is trial 176 with value: -0.05653294310976818.\n",
      "[I 2023-07-25 08:10:43,778] Trial 194 finished with value: -0.05809994888313367 and parameters: {'quantile': 0.40329316653117603, 'learning_rate': 0.5874813792557992, 'max_iter': 89, 'max_leaf_nodes': 95, 'max_depth': 11}. Best is trial 176 with value: -0.05653294310976818.\n",
      "[I 2023-07-25 08:10:56,438] Trial 195 finished with value: -0.06334094834704132 and parameters: {'quantile': 0.3803442358797944, 'learning_rate': 1.6375326897506537, 'max_iter': 87, 'max_leaf_nodes': 97, 'max_depth': 11}. Best is trial 176 with value: -0.05653294310976818.\n",
      "[I 2023-07-25 08:10:58,343] Trial 196 finished with value: -966257.4699014913 and parameters: {'quantile': 0.436526157368625, 'learning_rate': 4.964834903037373, 'max_iter': 91, 'max_leaf_nodes': 98, 'max_depth': 11}. Best is trial 176 with value: -0.05653294310976818.\n",
      "[I 2023-07-25 08:11:11,183] Trial 197 finished with value: -0.05723611913325759 and parameters: {'quantile': 0.4194734995319927, 'learning_rate': 0.7905195059900709, 'max_iter': 84, 'max_leaf_nodes': 94, 'max_depth': 11}. Best is trial 176 with value: -0.05653294310976818.\n",
      "[I 2023-07-25 08:11:22,907] Trial 198 finished with value: -0.06184223880988339 and parameters: {'quantile': 0.417970212876368, 'learning_rate': 0.49408936822429717, 'max_iter': 84, 'max_leaf_nodes': 94, 'max_depth': 11}. Best is trial 176 with value: -0.05653294310976818.\n",
      "[I 2023-07-25 08:11:35,393] Trial 199 finished with value: -0.0584050418070138 and parameters: {'quantile': 0.3800782405819645, 'learning_rate': 1.2721418499897035, 'max_iter': 81, 'max_leaf_nodes': 91, 'max_depth': 11}. Best is trial 176 with value: -0.05653294310976818.\n"
     ]
    }
   ],
   "source": [
    "# Optimize the study, use more trials to obtain better result, use less trials to be more cost-efficient\n",
    "study.optimize(hgbr_objective, n_trials=200) # Use more"
   ]
  },
  {
   "cell_type": "code",
   "execution_count": 33,
   "id": "6a8b2913",
   "metadata": {
    "execution": {
     "iopub.execute_input": "2023-07-25T08:11:35.453388Z",
     "iopub.status.busy": "2023-07-25T08:11:35.452720Z",
     "iopub.status.idle": "2023-07-25T08:11:35.458351Z",
     "shell.execute_reply": "2023-07-25T08:11:35.456511Z"
    },
    "papermill": {
     "duration": 0.034875,
     "end_time": "2023-07-25T08:11:35.461865",
     "exception": false,
     "start_time": "2023-07-25T08:11:35.426990",
     "status": "completed"
    },
    "tags": []
   },
   "outputs": [],
   "source": [
    "# Print the result\n",
    "best_params = study.best_params\n",
    "best_score = study.best_value"
   ]
  },
  {
   "cell_type": "code",
   "execution_count": 34,
   "id": "483bde4d",
   "metadata": {
    "execution": {
     "iopub.execute_input": "2023-07-25T08:11:35.512131Z",
     "iopub.status.busy": "2023-07-25T08:11:35.511736Z",
     "iopub.status.idle": "2023-07-25T08:11:35.519428Z",
     "shell.execute_reply": "2023-07-25T08:11:35.517799Z"
    },
    "papermill": {
     "duration": 0.035212,
     "end_time": "2023-07-25T08:11:35.521939",
     "exception": false,
     "start_time": "2023-07-25T08:11:35.486727",
     "status": "completed"
    },
    "tags": []
   },
   "outputs": [
    {
     "data": {
      "text/plain": [
       "-0.05653294310976818"
      ]
     },
     "execution_count": 34,
     "metadata": {},
     "output_type": "execute_result"
    }
   ],
   "source": [
    "best_score"
   ]
  },
  {
   "cell_type": "code",
   "execution_count": 35,
   "id": "dc9b2ce0",
   "metadata": {
    "execution": {
     "iopub.execute_input": "2023-07-25T08:11:35.569905Z",
     "iopub.status.busy": "2023-07-25T08:11:35.569546Z",
     "iopub.status.idle": "2023-07-25T08:11:35.575123Z",
     "shell.execute_reply": "2023-07-25T08:11:35.574184Z"
    },
    "papermill": {
     "duration": 0.032209,
     "end_time": "2023-07-25T08:11:35.577519",
     "exception": false,
     "start_time": "2023-07-25T08:11:35.545310",
     "status": "completed"
    },
    "tags": []
   },
   "outputs": [],
   "source": [
    "hgbr= HistGradientBoostingRegressor(**best_params,random_state=42)"
   ]
  },
  {
   "cell_type": "code",
   "execution_count": 36,
   "id": "632e7606",
   "metadata": {
    "execution": {
     "iopub.execute_input": "2023-07-25T08:11:35.625731Z",
     "iopub.status.busy": "2023-07-25T08:11:35.625306Z",
     "iopub.status.idle": "2023-07-25T08:11:37.352563Z",
     "shell.execute_reply": "2023-07-25T08:11:37.351366Z"
    },
    "papermill": {
     "duration": 1.754069,
     "end_time": "2023-07-25T08:11:37.354799",
     "exception": false,
     "start_time": "2023-07-25T08:11:35.600730",
     "status": "completed"
    },
    "tags": []
   },
   "outputs": [
    {
     "data": {
      "text/html": [
       "<style>#sk-container-id-1 {color: black;background-color: white;}#sk-container-id-1 pre{padding: 0;}#sk-container-id-1 div.sk-toggleable {background-color: white;}#sk-container-id-1 label.sk-toggleable__label {cursor: pointer;display: block;width: 100%;margin-bottom: 0;padding: 0.3em;box-sizing: border-box;text-align: center;}#sk-container-id-1 label.sk-toggleable__label-arrow:before {content: \"▸\";float: left;margin-right: 0.25em;color: #696969;}#sk-container-id-1 label.sk-toggleable__label-arrow:hover:before {color: black;}#sk-container-id-1 div.sk-estimator:hover label.sk-toggleable__label-arrow:before {color: black;}#sk-container-id-1 div.sk-toggleable__content {max-height: 0;max-width: 0;overflow: hidden;text-align: left;background-color: #f0f8ff;}#sk-container-id-1 div.sk-toggleable__content pre {margin: 0.2em;color: black;border-radius: 0.25em;background-color: #f0f8ff;}#sk-container-id-1 input.sk-toggleable__control:checked~div.sk-toggleable__content {max-height: 200px;max-width: 100%;overflow: auto;}#sk-container-id-1 input.sk-toggleable__control:checked~label.sk-toggleable__label-arrow:before {content: \"▾\";}#sk-container-id-1 div.sk-estimator input.sk-toggleable__control:checked~label.sk-toggleable__label {background-color: #d4ebff;}#sk-container-id-1 div.sk-label input.sk-toggleable__control:checked~label.sk-toggleable__label {background-color: #d4ebff;}#sk-container-id-1 input.sk-hidden--visually {border: 0;clip: rect(1px 1px 1px 1px);clip: rect(1px, 1px, 1px, 1px);height: 1px;margin: -1px;overflow: hidden;padding: 0;position: absolute;width: 1px;}#sk-container-id-1 div.sk-estimator {font-family: monospace;background-color: #f0f8ff;border: 1px dotted black;border-radius: 0.25em;box-sizing: border-box;margin-bottom: 0.5em;}#sk-container-id-1 div.sk-estimator:hover {background-color: #d4ebff;}#sk-container-id-1 div.sk-parallel-item::after {content: \"\";width: 100%;border-bottom: 1px solid gray;flex-grow: 1;}#sk-container-id-1 div.sk-label:hover label.sk-toggleable__label {background-color: #d4ebff;}#sk-container-id-1 div.sk-serial::before {content: \"\";position: absolute;border-left: 1px solid gray;box-sizing: border-box;top: 0;bottom: 0;left: 50%;z-index: 0;}#sk-container-id-1 div.sk-serial {display: flex;flex-direction: column;align-items: center;background-color: white;padding-right: 0.2em;padding-left: 0.2em;position: relative;}#sk-container-id-1 div.sk-item {position: relative;z-index: 1;}#sk-container-id-1 div.sk-parallel {display: flex;align-items: stretch;justify-content: center;background-color: white;position: relative;}#sk-container-id-1 div.sk-item::before, #sk-container-id-1 div.sk-parallel-item::before {content: \"\";position: absolute;border-left: 1px solid gray;box-sizing: border-box;top: 0;bottom: 0;left: 50%;z-index: -1;}#sk-container-id-1 div.sk-parallel-item {display: flex;flex-direction: column;z-index: 1;position: relative;background-color: white;}#sk-container-id-1 div.sk-parallel-item:first-child::after {align-self: flex-end;width: 50%;}#sk-container-id-1 div.sk-parallel-item:last-child::after {align-self: flex-start;width: 50%;}#sk-container-id-1 div.sk-parallel-item:only-child::after {width: 0;}#sk-container-id-1 div.sk-dashed-wrapped {border: 1px dashed gray;margin: 0 0.4em 0.5em 0.4em;box-sizing: border-box;padding-bottom: 0.4em;background-color: white;}#sk-container-id-1 div.sk-label label {font-family: monospace;font-weight: bold;display: inline-block;line-height: 1.2em;}#sk-container-id-1 div.sk-label-container {text-align: center;}#sk-container-id-1 div.sk-container {/* jupyter's `normalize.less` sets `[hidden] { display: none; }` but bootstrap.min.css set `[hidden] { display: none !important; }` so we also need the `!important` here to be able to override the default hidden behavior on the sphinx rendered scikit-learn.org. See: https://github.com/scikit-learn/scikit-learn/issues/21755 */display: inline-block !important;position: relative;}#sk-container-id-1 div.sk-text-repr-fallback {display: none;}</style><div id=\"sk-container-id-1\" class=\"sk-top-container\"><div class=\"sk-text-repr-fallback\"><pre>HistGradientBoostingRegressor(learning_rate=1.1260929826290242, max_depth=12,\n",
       "                              max_iter=92, max_leaf_nodes=99,\n",
       "                              quantile=0.4008484970520073, random_state=42)</pre><b>In a Jupyter environment, please rerun this cell to show the HTML representation or trust the notebook. <br />On GitHub, the HTML representation is unable to render, please try loading this page with nbviewer.org.</b></div><div class=\"sk-container\" hidden><div class=\"sk-item\"><div class=\"sk-estimator sk-toggleable\"><input class=\"sk-toggleable__control sk-hidden--visually\" id=\"sk-estimator-id-1\" type=\"checkbox\" checked><label for=\"sk-estimator-id-1\" class=\"sk-toggleable__label sk-toggleable__label-arrow\">HistGradientBoostingRegressor</label><div class=\"sk-toggleable__content\"><pre>HistGradientBoostingRegressor(learning_rate=1.1260929826290242, max_depth=12,\n",
       "                              max_iter=92, max_leaf_nodes=99,\n",
       "                              quantile=0.4008484970520073, random_state=42)</pre></div></div></div></div></div>"
      ],
      "text/plain": [
       "HistGradientBoostingRegressor(learning_rate=1.1260929826290242, max_depth=12,\n",
       "                              max_iter=92, max_leaf_nodes=99,\n",
       "                              quantile=0.4008484970520073, random_state=42)"
      ]
     },
     "execution_count": 36,
     "metadata": {},
     "output_type": "execute_result"
    }
   ],
   "source": [
    "hgbr.fit(X,y)"
   ]
  },
  {
   "cell_type": "code",
   "execution_count": 37,
   "id": "7cfdbfbb",
   "metadata": {
    "execution": {
     "iopub.execute_input": "2023-07-25T08:11:37.404122Z",
     "iopub.status.busy": "2023-07-25T08:11:37.403742Z",
     "iopub.status.idle": "2023-07-25T08:11:37.420652Z",
     "shell.execute_reply": "2023-07-25T08:11:37.419595Z"
    },
    "papermill": {
     "duration": 0.044263,
     "end_time": "2023-07-25T08:11:37.423067",
     "exception": false,
     "start_time": "2023-07-25T08:11:37.378804",
     "status": "completed"
    },
    "tags": []
   },
   "outputs": [
    {
     "data": {
      "text/html": [
       "<div>\n",
       "<style scoped>\n",
       "    .dataframe tbody tr th:only-of-type {\n",
       "        vertical-align: middle;\n",
       "    }\n",
       "\n",
       "    .dataframe tbody tr th {\n",
       "        vertical-align: top;\n",
       "    }\n",
       "\n",
       "    .dataframe thead th {\n",
       "        text-align: right;\n",
       "    }\n",
       "</style>\n",
       "<table border=\"1\" class=\"dataframe\">\n",
       "  <thead>\n",
       "    <tr style=\"text-align: right;\">\n",
       "      <th></th>\n",
       "      <th>id</th>\n",
       "      <th>country</th>\n",
       "      <th>store</th>\n",
       "      <th>product</th>\n",
       "      <th>day</th>\n",
       "      <th>month</th>\n",
       "      <th>year</th>\n",
       "      <th>is_argentina_holiday</th>\n",
       "      <th>is_canada_holiday</th>\n",
       "      <th>is_estonia_holiday</th>\n",
       "      <th>is_japan_holiday</th>\n",
       "      <th>is_spain_holiday</th>\n",
       "      <th>day_of_month</th>\n",
       "      <th>quarter</th>\n",
       "      <th>month_sin</th>\n",
       "      <th>month_cos</th>\n",
       "      <th>day_sin</th>\n",
       "      <th>day_cos</th>\n",
       "    </tr>\n",
       "  </thead>\n",
       "  <tbody>\n",
       "    <tr>\n",
       "      <th>0</th>\n",
       "      <td>136950</td>\n",
       "      <td>65.712922</td>\n",
       "      <td>61.909528</td>\n",
       "      <td>227.768216</td>\n",
       "      <td>1</td>\n",
       "      <td>1</td>\n",
       "      <td>2022</td>\n",
       "      <td>1</td>\n",
       "      <td>1</td>\n",
       "      <td>1</td>\n",
       "      <td>1</td>\n",
       "      <td>1</td>\n",
       "      <td>1</td>\n",
       "      <td>1</td>\n",
       "      <td>0.5</td>\n",
       "      <td>0.866025</td>\n",
       "      <td>0.201299</td>\n",
       "      <td>0.97953</td>\n",
       "    </tr>\n",
       "    <tr>\n",
       "      <th>1</th>\n",
       "      <td>136951</td>\n",
       "      <td>65.712922</td>\n",
       "      <td>61.909528</td>\n",
       "      <td>222.596169</td>\n",
       "      <td>1</td>\n",
       "      <td>1</td>\n",
       "      <td>2022</td>\n",
       "      <td>1</td>\n",
       "      <td>1</td>\n",
       "      <td>1</td>\n",
       "      <td>1</td>\n",
       "      <td>1</td>\n",
       "      <td>1</td>\n",
       "      <td>1</td>\n",
       "      <td>0.5</td>\n",
       "      <td>0.866025</td>\n",
       "      <td>0.201299</td>\n",
       "      <td>0.97953</td>\n",
       "    </tr>\n",
       "    <tr>\n",
       "      <th>2</th>\n",
       "      <td>136952</td>\n",
       "      <td>65.712922</td>\n",
       "      <td>61.909528</td>\n",
       "      <td>34.762737</td>\n",
       "      <td>1</td>\n",
       "      <td>1</td>\n",
       "      <td>2022</td>\n",
       "      <td>1</td>\n",
       "      <td>1</td>\n",
       "      <td>1</td>\n",
       "      <td>1</td>\n",
       "      <td>1</td>\n",
       "      <td>1</td>\n",
       "      <td>1</td>\n",
       "      <td>0.5</td>\n",
       "      <td>0.866025</td>\n",
       "      <td>0.201299</td>\n",
       "      <td>0.97953</td>\n",
       "    </tr>\n",
       "    <tr>\n",
       "      <th>3</th>\n",
       "      <td>136953</td>\n",
       "      <td>65.712922</td>\n",
       "      <td>61.909528</td>\n",
       "      <td>190.187786</td>\n",
       "      <td>1</td>\n",
       "      <td>1</td>\n",
       "      <td>2022</td>\n",
       "      <td>1</td>\n",
       "      <td>1</td>\n",
       "      <td>1</td>\n",
       "      <td>1</td>\n",
       "      <td>1</td>\n",
       "      <td>1</td>\n",
       "      <td>1</td>\n",
       "      <td>0.5</td>\n",
       "      <td>0.866025</td>\n",
       "      <td>0.201299</td>\n",
       "      <td>0.97953</td>\n",
       "    </tr>\n",
       "    <tr>\n",
       "      <th>4</th>\n",
       "      <td>136954</td>\n",
       "      <td>65.712922</td>\n",
       "      <td>61.909528</td>\n",
       "      <td>173.170344</td>\n",
       "      <td>1</td>\n",
       "      <td>1</td>\n",
       "      <td>2022</td>\n",
       "      <td>1</td>\n",
       "      <td>1</td>\n",
       "      <td>1</td>\n",
       "      <td>1</td>\n",
       "      <td>1</td>\n",
       "      <td>1</td>\n",
       "      <td>1</td>\n",
       "      <td>0.5</td>\n",
       "      <td>0.866025</td>\n",
       "      <td>0.201299</td>\n",
       "      <td>0.97953</td>\n",
       "    </tr>\n",
       "  </tbody>\n",
       "</table>\n",
       "</div>"
      ],
      "text/plain": [
       "       id    country      store     product  day  month  year  \\\n",
       "0  136950  65.712922  61.909528  227.768216    1      1  2022   \n",
       "1  136951  65.712922  61.909528  222.596169    1      1  2022   \n",
       "2  136952  65.712922  61.909528   34.762737    1      1  2022   \n",
       "3  136953  65.712922  61.909528  190.187786    1      1  2022   \n",
       "4  136954  65.712922  61.909528  173.170344    1      1  2022   \n",
       "\n",
       "   is_argentina_holiday  is_canada_holiday  is_estonia_holiday  \\\n",
       "0                     1                  1                   1   \n",
       "1                     1                  1                   1   \n",
       "2                     1                  1                   1   \n",
       "3                     1                  1                   1   \n",
       "4                     1                  1                   1   \n",
       "\n",
       "   is_japan_holiday  is_spain_holiday  day_of_month  quarter  month_sin  \\\n",
       "0                 1                 1             1        1        0.5   \n",
       "1                 1                 1             1        1        0.5   \n",
       "2                 1                 1             1        1        0.5   \n",
       "3                 1                 1             1        1        0.5   \n",
       "4                 1                 1             1        1        0.5   \n",
       "\n",
       "   month_cos   day_sin  day_cos  \n",
       "0   0.866025  0.201299  0.97953  \n",
       "1   0.866025  0.201299  0.97953  \n",
       "2   0.866025  0.201299  0.97953  \n",
       "3   0.866025  0.201299  0.97953  \n",
       "4   0.866025  0.201299  0.97953  "
      ]
     },
     "execution_count": 37,
     "metadata": {},
     "output_type": "execute_result"
    }
   ],
   "source": [
    "test.head()"
   ]
  },
  {
   "cell_type": "code",
   "execution_count": 38,
   "id": "52199928",
   "metadata": {
    "execution": {
     "iopub.execute_input": "2023-07-25T08:11:37.474318Z",
     "iopub.status.busy": "2023-07-25T08:11:37.473985Z",
     "iopub.status.idle": "2023-07-25T08:11:37.546742Z",
     "shell.execute_reply": "2023-07-25T08:11:37.545667Z"
    },
    "papermill": {
     "duration": 0.101779,
     "end_time": "2023-07-25T08:11:37.549097",
     "exception": false,
     "start_time": "2023-07-25T08:11:37.447318",
     "status": "completed"
    },
    "tags": []
   },
   "outputs": [],
   "source": [
    "prediction = hgbr.predict(test)"
   ]
  },
  {
   "cell_type": "code",
   "execution_count": 39,
   "id": "70f9fdf8",
   "metadata": {
    "execution": {
     "iopub.execute_input": "2023-07-25T08:11:37.600674Z",
     "iopub.status.busy": "2023-07-25T08:11:37.600300Z",
     "iopub.status.idle": "2023-07-25T08:11:37.604998Z",
     "shell.execute_reply": "2023-07-25T08:11:37.603899Z"
    },
    "papermill": {
     "duration": 0.032534,
     "end_time": "2023-07-25T08:11:37.606858",
     "exception": false,
     "start_time": "2023-07-25T08:11:37.574324",
     "status": "completed"
    },
    "tags": []
   },
   "outputs": [],
   "source": [
    "prediction=np.expm1(prediction)"
   ]
  },
  {
   "cell_type": "code",
   "execution_count": 40,
   "id": "797b9923",
   "metadata": {
    "execution": {
     "iopub.execute_input": "2023-07-25T08:11:37.657020Z",
     "iopub.status.busy": "2023-07-25T08:11:37.656660Z",
     "iopub.status.idle": "2023-07-25T08:11:37.662265Z",
     "shell.execute_reply": "2023-07-25T08:11:37.661436Z"
    },
    "papermill": {
     "duration": 0.032893,
     "end_time": "2023-07-25T08:11:37.663988",
     "exception": false,
     "start_time": "2023-07-25T08:11:37.631095",
     "status": "completed"
    },
    "tags": []
   },
   "outputs": [],
   "source": [
    "output=pd.DataFrame({'id':test.id,'country':test.country,'num_sold':prediction})"
   ]
  },
  {
   "cell_type": "code",
   "execution_count": 41,
   "id": "cd7d34c2",
   "metadata": {
    "execution": {
     "iopub.execute_input": "2023-07-25T08:11:37.715201Z",
     "iopub.status.busy": "2023-07-25T08:11:37.714853Z",
     "iopub.status.idle": "2023-07-25T08:11:37.724733Z",
     "shell.execute_reply": "2023-07-25T08:11:37.723503Z"
    },
    "papermill": {
     "duration": 0.037665,
     "end_time": "2023-07-25T08:11:37.726591",
     "exception": false,
     "start_time": "2023-07-25T08:11:37.688926",
     "status": "completed"
    },
    "tags": []
   },
   "outputs": [
    {
     "data": {
      "text/html": [
       "<div>\n",
       "<style scoped>\n",
       "    .dataframe tbody tr th:only-of-type {\n",
       "        vertical-align: middle;\n",
       "    }\n",
       "\n",
       "    .dataframe tbody tr th {\n",
       "        vertical-align: top;\n",
       "    }\n",
       "\n",
       "    .dataframe thead th {\n",
       "        text-align: right;\n",
       "    }\n",
       "</style>\n",
       "<table border=\"1\" class=\"dataframe\">\n",
       "  <thead>\n",
       "    <tr style=\"text-align: right;\">\n",
       "      <th></th>\n",
       "      <th>id</th>\n",
       "      <th>country</th>\n",
       "      <th>num_sold</th>\n",
       "    </tr>\n",
       "  </thead>\n",
       "  <tbody>\n",
       "    <tr>\n",
       "      <th>0</th>\n",
       "      <td>136950</td>\n",
       "      <td>65.712922</td>\n",
       "      <td>34.738218</td>\n",
       "    </tr>\n",
       "    <tr>\n",
       "      <th>1</th>\n",
       "      <td>136951</td>\n",
       "      <td>65.712922</td>\n",
       "      <td>30.332749</td>\n",
       "    </tr>\n",
       "    <tr>\n",
       "      <th>2</th>\n",
       "      <td>136952</td>\n",
       "      <td>65.712922</td>\n",
       "      <td>5.311239</td>\n",
       "    </tr>\n",
       "    <tr>\n",
       "      <th>3</th>\n",
       "      <td>136953</td>\n",
       "      <td>65.712922</td>\n",
       "      <td>24.140429</td>\n",
       "    </tr>\n",
       "    <tr>\n",
       "      <th>4</th>\n",
       "      <td>136954</td>\n",
       "      <td>65.712922</td>\n",
       "      <td>22.548276</td>\n",
       "    </tr>\n",
       "  </tbody>\n",
       "</table>\n",
       "</div>"
      ],
      "text/plain": [
       "       id    country   num_sold\n",
       "0  136950  65.712922  34.738218\n",
       "1  136951  65.712922  30.332749\n",
       "2  136952  65.712922   5.311239\n",
       "3  136953  65.712922  24.140429\n",
       "4  136954  65.712922  22.548276"
      ]
     },
     "execution_count": 41,
     "metadata": {},
     "output_type": "execute_result"
    }
   ],
   "source": [
    "output.head()"
   ]
  },
  {
   "cell_type": "code",
   "execution_count": 42,
   "id": "caa65700",
   "metadata": {
    "execution": {
     "iopub.execute_input": "2023-07-25T08:11:37.778794Z",
     "iopub.status.busy": "2023-07-25T08:11:37.777876Z",
     "iopub.status.idle": "2023-07-25T08:11:37.782936Z",
     "shell.execute_reply": "2023-07-25T08:11:37.781732Z"
    },
    "papermill": {
     "duration": 0.033502,
     "end_time": "2023-07-25T08:11:37.784699",
     "exception": false,
     "start_time": "2023-07-25T08:11:37.751197",
     "status": "completed"
    },
    "tags": []
   },
   "outputs": [],
   "source": [
    "temp_d= output.copy()"
   ]
  },
  {
   "cell_type": "code",
   "execution_count": 43,
   "id": "6b145e87",
   "metadata": {
    "execution": {
     "iopub.execute_input": "2023-07-25T08:11:37.834895Z",
     "iopub.status.busy": "2023-07-25T08:11:37.834555Z",
     "iopub.status.idle": "2023-07-25T08:11:37.851440Z",
     "shell.execute_reply": "2023-07-25T08:11:37.850819Z"
    },
    "papermill": {
     "duration": 0.044233,
     "end_time": "2023-07-25T08:11:37.853245",
     "exception": false,
     "start_time": "2023-07-25T08:11:37.809012",
     "status": "completed"
    },
    "tags": []
   },
   "outputs": [
    {
     "data": {
      "text/html": [
       "<div>\n",
       "<style scoped>\n",
       "    .dataframe tbody tr th:only-of-type {\n",
       "        vertical-align: middle;\n",
       "    }\n",
       "\n",
       "    .dataframe tbody tr th {\n",
       "        vertical-align: top;\n",
       "    }\n",
       "\n",
       "    .dataframe thead th {\n",
       "        text-align: right;\n",
       "    }\n",
       "</style>\n",
       "<table border=\"1\" class=\"dataframe\">\n",
       "  <thead>\n",
       "    <tr style=\"text-align: right;\">\n",
       "      <th></th>\n",
       "      <th>num_sold</th>\n",
       "    </tr>\n",
       "    <tr>\n",
       "      <th>country</th>\n",
       "      <th></th>\n",
       "    </tr>\n",
       "  </thead>\n",
       "  <tbody>\n",
       "    <tr>\n",
       "      <th>65.712922</th>\n",
       "      <td>5.371949</td>\n",
       "    </tr>\n",
       "    <tr>\n",
       "      <th>132.383302</th>\n",
       "      <td>1.460675</td>\n",
       "    </tr>\n",
       "    <tr>\n",
       "      <th>164.753696</th>\n",
       "      <td>1.371148</td>\n",
       "    </tr>\n",
       "    <tr>\n",
       "      <th>221.840130</th>\n",
       "      <td>1.498781</td>\n",
       "    </tr>\n",
       "    <tr>\n",
       "      <th>263.795201</th>\n",
       "      <td>0.766791</td>\n",
       "    </tr>\n",
       "  </tbody>\n",
       "</table>\n",
       "</div>"
      ],
      "text/plain": [
       "            num_sold\n",
       "country             \n",
       "65.712922   5.371949\n",
       "132.383302  1.460675\n",
       "164.753696  1.371148\n",
       "221.840130  1.498781\n",
       "263.795201  0.766791"
      ]
     },
     "execution_count": 43,
     "metadata": {},
     "output_type": "execute_result"
    }
   ],
   "source": [
    "coef_df = 1/(temp_d.groupby('country')[['num_sold']].mean()/temp_d.groupby('country')[['num_sold']].mean().sum()/0.28)\n",
    "coef_df"
   ]
  },
  {
   "cell_type": "code",
   "execution_count": 44,
   "id": "e54b6cc2",
   "metadata": {
    "execution": {
     "iopub.execute_input": "2023-07-25T08:11:37.904390Z",
     "iopub.status.busy": "2023-07-25T08:11:37.904026Z",
     "iopub.status.idle": "2023-07-25T08:11:38.629667Z",
     "shell.execute_reply": "2023-07-25T08:11:38.628291Z"
    },
    "papermill": {
     "duration": 0.75399,
     "end_time": "2023-07-25T08:11:38.632068",
     "exception": false,
     "start_time": "2023-07-25T08:11:37.878078",
     "status": "completed"
    },
    "tags": []
   },
   "outputs": [],
   "source": [
    "temp_d['num_sold'] = temp_d.apply(lambda x: x['num_sold']*coef_df.iloc[0] if x['country']=='Argentina' else (\n",
    "x['num_sold']*coef_df.iloc[4] if x['country']=='Spain' else (x['num_sold']*coef_df.iloc[3] if x['country']=='Japan' else (\n",
    "x['num_sold']*coef_df.iloc[2] if x['country']=='Estonia' else x['num_sold']))), axis=1)"
   ]
  },
  {
   "cell_type": "code",
   "execution_count": 45,
   "id": "4beae9bd",
   "metadata": {
    "execution": {
     "iopub.execute_input": "2023-07-25T08:11:38.683749Z",
     "iopub.status.busy": "2023-07-25T08:11:38.683317Z",
     "iopub.status.idle": "2023-07-25T08:11:38.691799Z",
     "shell.execute_reply": "2023-07-25T08:11:38.690450Z"
    },
    "papermill": {
     "duration": 0.037372,
     "end_time": "2023-07-25T08:11:38.694478",
     "exception": false,
     "start_time": "2023-07-25T08:11:38.657106",
     "status": "completed"
    },
    "tags": []
   },
   "outputs": [
    {
     "data": {
      "text/plain": [
       "dtype('float64')"
      ]
     },
     "execution_count": 45,
     "metadata": {},
     "output_type": "execute_result"
    }
   ],
   "source": [
    "temp_d['num_sold'].dtype"
   ]
  },
  {
   "cell_type": "code",
   "execution_count": 46,
   "id": "a704409c",
   "metadata": {
    "execution": {
     "iopub.execute_input": "2023-07-25T08:11:38.746167Z",
     "iopub.status.busy": "2023-07-25T08:11:38.745834Z",
     "iopub.status.idle": "2023-07-25T08:11:38.751086Z",
     "shell.execute_reply": "2023-07-25T08:11:38.749897Z"
    },
    "papermill": {
     "duration": 0.033822,
     "end_time": "2023-07-25T08:11:38.753305",
     "exception": false,
     "start_time": "2023-07-25T08:11:38.719483",
     "status": "completed"
    },
    "tags": []
   },
   "outputs": [],
   "source": [
    "output['num_sold']=temp_d['num_sold']"
   ]
  },
  {
   "cell_type": "code",
   "execution_count": 47,
   "id": "929b3d93",
   "metadata": {
    "execution": {
     "iopub.execute_input": "2023-07-25T08:11:38.804812Z",
     "iopub.status.busy": "2023-07-25T08:11:38.804473Z",
     "iopub.status.idle": "2023-07-25T08:11:38.816137Z",
     "shell.execute_reply": "2023-07-25T08:11:38.814874Z"
    },
    "papermill": {
     "duration": 0.040315,
     "end_time": "2023-07-25T08:11:38.818564",
     "exception": false,
     "start_time": "2023-07-25T08:11:38.778249",
     "status": "completed"
    },
    "tags": []
   },
   "outputs": [
    {
     "data": {
      "text/html": [
       "<div>\n",
       "<style scoped>\n",
       "    .dataframe tbody tr th:only-of-type {\n",
       "        vertical-align: middle;\n",
       "    }\n",
       "\n",
       "    .dataframe tbody tr th {\n",
       "        vertical-align: top;\n",
       "    }\n",
       "\n",
       "    .dataframe thead th {\n",
       "        text-align: right;\n",
       "    }\n",
       "</style>\n",
       "<table border=\"1\" class=\"dataframe\">\n",
       "  <thead>\n",
       "    <tr style=\"text-align: right;\">\n",
       "      <th></th>\n",
       "      <th>id</th>\n",
       "      <th>num_sold</th>\n",
       "    </tr>\n",
       "  </thead>\n",
       "  <tbody>\n",
       "    <tr>\n",
       "      <th>0</th>\n",
       "      <td>136950</td>\n",
       "      <td>34.738218</td>\n",
       "    </tr>\n",
       "    <tr>\n",
       "      <th>1</th>\n",
       "      <td>136951</td>\n",
       "      <td>30.332749</td>\n",
       "    </tr>\n",
       "    <tr>\n",
       "      <th>2</th>\n",
       "      <td>136952</td>\n",
       "      <td>5.311239</td>\n",
       "    </tr>\n",
       "    <tr>\n",
       "      <th>3</th>\n",
       "      <td>136953</td>\n",
       "      <td>24.140429</td>\n",
       "    </tr>\n",
       "    <tr>\n",
       "      <th>4</th>\n",
       "      <td>136954</td>\n",
       "      <td>22.548276</td>\n",
       "    </tr>\n",
       "    <tr>\n",
       "      <th>...</th>\n",
       "      <td>...</td>\n",
       "      <td>...</td>\n",
       "    </tr>\n",
       "    <tr>\n",
       "      <th>27370</th>\n",
       "      <td>164320</td>\n",
       "      <td>729.256387</td>\n",
       "    </tr>\n",
       "    <tr>\n",
       "      <th>27371</th>\n",
       "      <td>164321</td>\n",
       "      <td>693.897111</td>\n",
       "    </tr>\n",
       "    <tr>\n",
       "      <th>27372</th>\n",
       "      <td>164322</td>\n",
       "      <td>82.316758</td>\n",
       "    </tr>\n",
       "    <tr>\n",
       "      <th>27373</th>\n",
       "      <td>164323</td>\n",
       "      <td>590.380272</td>\n",
       "    </tr>\n",
       "    <tr>\n",
       "      <th>27374</th>\n",
       "      <td>164324</td>\n",
       "      <td>541.467197</td>\n",
       "    </tr>\n",
       "  </tbody>\n",
       "</table>\n",
       "<p>27375 rows × 2 columns</p>\n",
       "</div>"
      ],
      "text/plain": [
       "           id    num_sold\n",
       "0      136950   34.738218\n",
       "1      136951   30.332749\n",
       "2      136952    5.311239\n",
       "3      136953   24.140429\n",
       "4      136954   22.548276\n",
       "...       ...         ...\n",
       "27370  164320  729.256387\n",
       "27371  164321  693.897111\n",
       "27372  164322   82.316758\n",
       "27373  164323  590.380272\n",
       "27374  164324  541.467197\n",
       "\n",
       "[27375 rows x 2 columns]"
      ]
     },
     "execution_count": 47,
     "metadata": {},
     "output_type": "execute_result"
    }
   ],
   "source": [
    "output.drop('country',axis=1)"
   ]
  },
  {
   "cell_type": "code",
   "execution_count": 48,
   "id": "2b3a5046",
   "metadata": {
    "execution": {
     "iopub.execute_input": "2023-07-25T08:11:38.871503Z",
     "iopub.status.busy": "2023-07-25T08:11:38.871093Z",
     "iopub.status.idle": "2023-07-25T08:11:38.881227Z",
     "shell.execute_reply": "2023-07-25T08:11:38.880285Z"
    },
    "papermill": {
     "duration": 0.038648,
     "end_time": "2023-07-25T08:11:38.883264",
     "exception": false,
     "start_time": "2023-07-25T08:11:38.844616",
     "status": "completed"
    },
    "tags": []
   },
   "outputs": [
    {
     "data": {
      "text/html": [
       "<div>\n",
       "<style scoped>\n",
       "    .dataframe tbody tr th:only-of-type {\n",
       "        vertical-align: middle;\n",
       "    }\n",
       "\n",
       "    .dataframe tbody tr th {\n",
       "        vertical-align: top;\n",
       "    }\n",
       "\n",
       "    .dataframe thead th {\n",
       "        text-align: right;\n",
       "    }\n",
       "</style>\n",
       "<table border=\"1\" class=\"dataframe\">\n",
       "  <thead>\n",
       "    <tr style=\"text-align: right;\">\n",
       "      <th></th>\n",
       "      <th>id</th>\n",
       "      <th>country</th>\n",
       "      <th>num_sold</th>\n",
       "    </tr>\n",
       "  </thead>\n",
       "  <tbody>\n",
       "    <tr>\n",
       "      <th>0</th>\n",
       "      <td>136950</td>\n",
       "      <td>65.712922</td>\n",
       "      <td>34.738218</td>\n",
       "    </tr>\n",
       "    <tr>\n",
       "      <th>1</th>\n",
       "      <td>136951</td>\n",
       "      <td>65.712922</td>\n",
       "      <td>30.332749</td>\n",
       "    </tr>\n",
       "    <tr>\n",
       "      <th>2</th>\n",
       "      <td>136952</td>\n",
       "      <td>65.712922</td>\n",
       "      <td>5.311239</td>\n",
       "    </tr>\n",
       "    <tr>\n",
       "      <th>3</th>\n",
       "      <td>136953</td>\n",
       "      <td>65.712922</td>\n",
       "      <td>24.140429</td>\n",
       "    </tr>\n",
       "    <tr>\n",
       "      <th>4</th>\n",
       "      <td>136954</td>\n",
       "      <td>65.712922</td>\n",
       "      <td>22.548276</td>\n",
       "    </tr>\n",
       "  </tbody>\n",
       "</table>\n",
       "</div>"
      ],
      "text/plain": [
       "       id    country   num_sold\n",
       "0  136950  65.712922  34.738218\n",
       "1  136951  65.712922  30.332749\n",
       "2  136952  65.712922   5.311239\n",
       "3  136953  65.712922  24.140429\n",
       "4  136954  65.712922  22.548276"
      ]
     },
     "execution_count": 48,
     "metadata": {},
     "output_type": "execute_result"
    }
   ],
   "source": [
    "output.head()"
   ]
  },
  {
   "cell_type": "code",
   "execution_count": 49,
   "id": "7f7d0231",
   "metadata": {
    "execution": {
     "iopub.execute_input": "2023-07-25T08:11:38.936238Z",
     "iopub.status.busy": "2023-07-25T08:11:38.935870Z",
     "iopub.status.idle": "2023-07-25T08:11:39.014952Z",
     "shell.execute_reply": "2023-07-25T08:11:39.013019Z"
    },
    "papermill": {
     "duration": 0.109368,
     "end_time": "2023-07-25T08:11:39.017579",
     "exception": false,
     "start_time": "2023-07-25T08:11:38.908211",
     "status": "completed"
    },
    "tags": []
   },
   "outputs": [
    {
     "name": "stdout",
     "output_type": "stream",
     "text": [
      "Your submission was successfully saved!\n"
     ]
    }
   ],
   "source": [
    "output.to_csv('submission.csv', index=False)\n",
    "print(\"Your submission was successfully saved!\")"
   ]
  },
  {
   "cell_type": "code",
   "execution_count": null,
   "id": "5960f370",
   "metadata": {
    "papermill": {
     "duration": 0.026237,
     "end_time": "2023-07-25T08:11:39.069042",
     "exception": false,
     "start_time": "2023-07-25T08:11:39.042805",
     "status": "completed"
    },
    "tags": []
   },
   "outputs": [],
   "source": []
  }
 ],
 "metadata": {
  "kernelspec": {
   "display_name": "Python 3",
   "language": "python",
   "name": "python3"
  },
  "language_info": {
   "codemirror_mode": {
    "name": "ipython",
    "version": 3
   },
   "file_extension": ".py",
   "mimetype": "text/x-python",
   "name": "python",
   "nbconvert_exporter": "python",
   "pygments_lexer": "ipython3",
   "version": "3.10.12"
  },
  "papermill": {
   "default_parameters": {},
   "duration": 1763.504189,
   "end_time": "2023-07-25T08:11:40.220755",
   "environment_variables": {},
   "exception": null,
   "input_path": "__notebook__.ipynb",
   "output_path": "__notebook__.ipynb",
   "parameters": {},
   "start_time": "2023-07-25T07:42:16.716566",
   "version": "2.4.0"
  }
 },
 "nbformat": 4,
 "nbformat_minor": 5
}
