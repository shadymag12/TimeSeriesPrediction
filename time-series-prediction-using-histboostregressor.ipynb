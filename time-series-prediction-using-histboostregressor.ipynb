{
 "cells": [
  {
   "cell_type": "code",
   "execution_count": 1,
   "id": "5f14280b",
   "metadata": {
    "_cell_guid": "b1076dfc-b9ad-4769-8c92-a6c4dae69d19",
    "_uuid": "8f2839f25d086af736a60e9eeb907d3b93b6e0e5",
    "execution": {
     "iopub.execute_input": "2023-07-25T06:43:53.892875Z",
     "iopub.status.busy": "2023-07-25T06:43:53.892150Z",
     "iopub.status.idle": "2023-07-25T06:43:57.099780Z",
     "shell.execute_reply": "2023-07-25T06:43:57.098600Z"
    },
    "papermill": {
     "duration": 3.227484,
     "end_time": "2023-07-25T06:43:57.102488",
     "exception": false,
     "start_time": "2023-07-25T06:43:53.875004",
     "status": "completed"
    },
    "tags": []
   },
   "outputs": [
    {
     "name": "stderr",
     "output_type": "stream",
     "text": [
      "/opt/conda/lib/python3.10/site-packages/scipy/__init__.py:146: UserWarning: A NumPy version >=1.16.5 and <1.23.0 is required for this version of SciPy (detected version 1.23.5\n",
      "  warnings.warn(f\"A NumPy version >={np_minversion} and <{np_maxversion}\"\n"
     ]
    },
    {
     "name": "stdout",
     "output_type": "stream",
     "text": [
      "/kaggle/input/playground-series-s3e19/sample_submission.csv\n",
      "/kaggle/input/playground-series-s3e19/train.csv\n",
      "/kaggle/input/playground-series-s3e19/test.csv\n"
     ]
    }
   ],
   "source": [
    "\n",
    "\n",
    "import numpy as np # linear algebra\n",
    "import pandas as pd # data processing, CSV file I/O (e.g. pd.read_csv)\n",
    "import matplotlib.pyplot as plt\n",
    "import seaborn as sns\n",
    "#%matplotlib.inline\n",
    "import warnings\n",
    "warnings.filterwarnings(action='ignore')\n",
    "import optuna\n",
    "from sklearn.ensemble import HistGradientBoostingRegressor\n",
    "from category_encoders import CatBoostEncoder\n",
    "from sklearn.model_selection import train_test_split, cross_val_score,KFold\n",
    "\n",
    "\n",
    "\n",
    "import os\n",
    "for dirname, _, filenames in os.walk('/kaggle/input'):\n",
    "    for filename in filenames:\n",
    "        print(os.path.join(dirname, filename))\n",
    "\n"
   ]
  },
  {
   "cell_type": "code",
   "execution_count": 2,
   "id": "fb54a604",
   "metadata": {
    "execution": {
     "iopub.execute_input": "2023-07-25T06:43:57.136163Z",
     "iopub.status.busy": "2023-07-25T06:43:57.135029Z",
     "iopub.status.idle": "2023-07-25T06:43:57.420712Z",
     "shell.execute_reply": "2023-07-25T06:43:57.419541Z"
    },
    "papermill": {
     "duration": 0.305426,
     "end_time": "2023-07-25T06:43:57.423798",
     "exception": false,
     "start_time": "2023-07-25T06:43:57.118372",
     "status": "completed"
    },
    "tags": []
   },
   "outputs": [],
   "source": [
    "train=pd.read_csv('/kaggle/input/playground-series-s3e19/train.csv')"
   ]
  },
  {
   "cell_type": "code",
   "execution_count": 3,
   "id": "1d7d376f",
   "metadata": {
    "execution": {
     "iopub.execute_input": "2023-07-25T06:43:57.456941Z",
     "iopub.status.busy": "2023-07-25T06:43:57.456531Z",
     "iopub.status.idle": "2023-07-25T06:43:57.515735Z",
     "shell.execute_reply": "2023-07-25T06:43:57.514644Z"
    },
    "papermill": {
     "duration": 0.078826,
     "end_time": "2023-07-25T06:43:57.518321",
     "exception": false,
     "start_time": "2023-07-25T06:43:57.439495",
     "status": "completed"
    },
    "tags": []
   },
   "outputs": [],
   "source": [
    "test = pd.read_csv('/kaggle/input/playground-series-s3e19/test.csv')"
   ]
  },
  {
   "cell_type": "code",
   "execution_count": 4,
   "id": "5d9b91df",
   "metadata": {
    "execution": {
     "iopub.execute_input": "2023-07-25T06:43:57.551101Z",
     "iopub.status.busy": "2023-07-25T06:43:57.550684Z",
     "iopub.status.idle": "2023-07-25T06:43:57.573565Z",
     "shell.execute_reply": "2023-07-25T06:43:57.572444Z"
    },
    "papermill": {
     "duration": 0.041986,
     "end_time": "2023-07-25T06:43:57.575943",
     "exception": false,
     "start_time": "2023-07-25T06:43:57.533957",
     "status": "completed"
    },
    "tags": []
   },
   "outputs": [
    {
     "data": {
      "text/html": [
       "<div>\n",
       "<style scoped>\n",
       "    .dataframe tbody tr th:only-of-type {\n",
       "        vertical-align: middle;\n",
       "    }\n",
       "\n",
       "    .dataframe tbody tr th {\n",
       "        vertical-align: top;\n",
       "    }\n",
       "\n",
       "    .dataframe thead th {\n",
       "        text-align: right;\n",
       "    }\n",
       "</style>\n",
       "<table border=\"1\" class=\"dataframe\">\n",
       "  <thead>\n",
       "    <tr style=\"text-align: right;\">\n",
       "      <th></th>\n",
       "      <th>id</th>\n",
       "      <th>date</th>\n",
       "      <th>country</th>\n",
       "      <th>store</th>\n",
       "      <th>product</th>\n",
       "    </tr>\n",
       "  </thead>\n",
       "  <tbody>\n",
       "    <tr>\n",
       "      <th>0</th>\n",
       "      <td>136950</td>\n",
       "      <td>2022-01-01</td>\n",
       "      <td>Argentina</td>\n",
       "      <td>Kaggle Learn</td>\n",
       "      <td>Using LLMs to Improve Your Coding</td>\n",
       "    </tr>\n",
       "    <tr>\n",
       "      <th>1</th>\n",
       "      <td>136951</td>\n",
       "      <td>2022-01-01</td>\n",
       "      <td>Argentina</td>\n",
       "      <td>Kaggle Learn</td>\n",
       "      <td>Using LLMs to Train More LLMs</td>\n",
       "    </tr>\n",
       "    <tr>\n",
       "      <th>2</th>\n",
       "      <td>136952</td>\n",
       "      <td>2022-01-01</td>\n",
       "      <td>Argentina</td>\n",
       "      <td>Kaggle Learn</td>\n",
       "      <td>Using LLMs to Win Friends and Influence People</td>\n",
       "    </tr>\n",
       "    <tr>\n",
       "      <th>3</th>\n",
       "      <td>136953</td>\n",
       "      <td>2022-01-01</td>\n",
       "      <td>Argentina</td>\n",
       "      <td>Kaggle Learn</td>\n",
       "      <td>Using LLMs to Win More Kaggle Competitions</td>\n",
       "    </tr>\n",
       "    <tr>\n",
       "      <th>4</th>\n",
       "      <td>136954</td>\n",
       "      <td>2022-01-01</td>\n",
       "      <td>Argentina</td>\n",
       "      <td>Kaggle Learn</td>\n",
       "      <td>Using LLMs to Write Better</td>\n",
       "    </tr>\n",
       "  </tbody>\n",
       "</table>\n",
       "</div>"
      ],
      "text/plain": [
       "       id        date    country         store  \\\n",
       "0  136950  2022-01-01  Argentina  Kaggle Learn   \n",
       "1  136951  2022-01-01  Argentina  Kaggle Learn   \n",
       "2  136952  2022-01-01  Argentina  Kaggle Learn   \n",
       "3  136953  2022-01-01  Argentina  Kaggle Learn   \n",
       "4  136954  2022-01-01  Argentina  Kaggle Learn   \n",
       "\n",
       "                                          product  \n",
       "0               Using LLMs to Improve Your Coding  \n",
       "1                   Using LLMs to Train More LLMs  \n",
       "2  Using LLMs to Win Friends and Influence People  \n",
       "3      Using LLMs to Win More Kaggle Competitions  \n",
       "4                      Using LLMs to Write Better  "
      ]
     },
     "execution_count": 4,
     "metadata": {},
     "output_type": "execute_result"
    }
   ],
   "source": [
    "test.head()"
   ]
  },
  {
   "cell_type": "code",
   "execution_count": 5,
   "id": "039de4c8",
   "metadata": {
    "execution": {
     "iopub.execute_input": "2023-07-25T06:43:57.609719Z",
     "iopub.status.busy": "2023-07-25T06:43:57.608468Z",
     "iopub.status.idle": "2023-07-25T06:43:57.814113Z",
     "shell.execute_reply": "2023-07-25T06:43:57.812515Z"
    },
    "papermill": {
     "duration": 0.225608,
     "end_time": "2023-07-25T06:43:57.817014",
     "exception": false,
     "start_time": "2023-07-25T06:43:57.591406",
     "status": "completed"
    },
    "tags": []
   },
   "outputs": [
    {
     "name": "stdout",
     "output_type": "stream",
     "text": [
      "<class 'pandas.core.frame.DataFrame'>\n",
      "RangeIndex: 136950 entries, 0 to 136949\n",
      "Data columns (total 6 columns):\n",
      " #   Column    Non-Null Count   Dtype \n",
      "---  ------    --------------   ----- \n",
      " 0   id        136950 non-null  int64 \n",
      " 1   date      136950 non-null  object\n",
      " 2   country   136950 non-null  object\n",
      " 3   store     136950 non-null  object\n",
      " 4   product   136950 non-null  object\n",
      " 5   num_sold  136950 non-null  int64 \n",
      "dtypes: int64(2), object(4)\n",
      "memory usage: 6.3+ MB\n"
     ]
    }
   ],
   "source": [
    "train.info()"
   ]
  },
  {
   "cell_type": "code",
   "execution_count": 6,
   "id": "e6b3780c",
   "metadata": {
    "execution": {
     "iopub.execute_input": "2023-07-25T06:43:57.850914Z",
     "iopub.status.busy": "2023-07-25T06:43:57.850516Z",
     "iopub.status.idle": "2023-07-25T06:43:58.035496Z",
     "shell.execute_reply": "2023-07-25T06:43:58.034674Z"
    },
    "papermill": {
     "duration": 0.204952,
     "end_time": "2023-07-25T06:43:58.038016",
     "exception": false,
     "start_time": "2023-07-25T06:43:57.833064",
     "status": "completed"
    },
    "tags": []
   },
   "outputs": [
    {
     "data": {
      "text/plain": [
       "id          0\n",
       "date        0\n",
       "country     0\n",
       "store       0\n",
       "product     0\n",
       "num_sold    0\n",
       "dtype: int64"
      ]
     },
     "execution_count": 6,
     "metadata": {},
     "output_type": "execute_result"
    }
   ],
   "source": [
    "train.isnull().sum()"
   ]
  },
  {
   "cell_type": "code",
   "execution_count": 7,
   "id": "de41ac86",
   "metadata": {
    "execution": {
     "iopub.execute_input": "2023-07-25T06:43:58.073642Z",
     "iopub.status.busy": "2023-07-25T06:43:58.073228Z",
     "iopub.status.idle": "2023-07-25T06:43:58.108818Z",
     "shell.execute_reply": "2023-07-25T06:43:58.107766Z"
    },
    "papermill": {
     "duration": 0.055711,
     "end_time": "2023-07-25T06:43:58.111643",
     "exception": false,
     "start_time": "2023-07-25T06:43:58.055932",
     "status": "completed"
    },
    "tags": []
   },
   "outputs": [],
   "source": [
    "train['date']=pd.to_datetime(train['date'])"
   ]
  },
  {
   "cell_type": "code",
   "execution_count": 8,
   "id": "3a3008cf",
   "metadata": {
    "execution": {
     "iopub.execute_input": "2023-07-25T06:43:58.145133Z",
     "iopub.status.busy": "2023-07-25T06:43:58.144742Z",
     "iopub.status.idle": "2023-07-25T06:43:58.157437Z",
     "shell.execute_reply": "2023-07-25T06:43:58.156570Z"
    },
    "papermill": {
     "duration": 0.031911,
     "end_time": "2023-07-25T06:43:58.159582",
     "exception": false,
     "start_time": "2023-07-25T06:43:58.127671",
     "status": "completed"
    },
    "tags": []
   },
   "outputs": [
    {
     "data": {
      "text/html": [
       "<div>\n",
       "<style scoped>\n",
       "    .dataframe tbody tr th:only-of-type {\n",
       "        vertical-align: middle;\n",
       "    }\n",
       "\n",
       "    .dataframe tbody tr th {\n",
       "        vertical-align: top;\n",
       "    }\n",
       "\n",
       "    .dataframe thead th {\n",
       "        text-align: right;\n",
       "    }\n",
       "</style>\n",
       "<table border=\"1\" class=\"dataframe\">\n",
       "  <thead>\n",
       "    <tr style=\"text-align: right;\">\n",
       "      <th></th>\n",
       "      <th>id</th>\n",
       "      <th>date</th>\n",
       "      <th>country</th>\n",
       "      <th>store</th>\n",
       "      <th>product</th>\n",
       "      <th>num_sold</th>\n",
       "    </tr>\n",
       "  </thead>\n",
       "  <tbody>\n",
       "    <tr>\n",
       "      <th>0</th>\n",
       "      <td>0</td>\n",
       "      <td>2017-01-01</td>\n",
       "      <td>Argentina</td>\n",
       "      <td>Kaggle Learn</td>\n",
       "      <td>Using LLMs to Improve Your Coding</td>\n",
       "      <td>63</td>\n",
       "    </tr>\n",
       "    <tr>\n",
       "      <th>1</th>\n",
       "      <td>1</td>\n",
       "      <td>2017-01-01</td>\n",
       "      <td>Argentina</td>\n",
       "      <td>Kaggle Learn</td>\n",
       "      <td>Using LLMs to Train More LLMs</td>\n",
       "      <td>66</td>\n",
       "    </tr>\n",
       "    <tr>\n",
       "      <th>2</th>\n",
       "      <td>2</td>\n",
       "      <td>2017-01-01</td>\n",
       "      <td>Argentina</td>\n",
       "      <td>Kaggle Learn</td>\n",
       "      <td>Using LLMs to Win Friends and Influence People</td>\n",
       "      <td>9</td>\n",
       "    </tr>\n",
       "    <tr>\n",
       "      <th>3</th>\n",
       "      <td>3</td>\n",
       "      <td>2017-01-01</td>\n",
       "      <td>Argentina</td>\n",
       "      <td>Kaggle Learn</td>\n",
       "      <td>Using LLMs to Win More Kaggle Competitions</td>\n",
       "      <td>59</td>\n",
       "    </tr>\n",
       "    <tr>\n",
       "      <th>4</th>\n",
       "      <td>4</td>\n",
       "      <td>2017-01-01</td>\n",
       "      <td>Argentina</td>\n",
       "      <td>Kaggle Learn</td>\n",
       "      <td>Using LLMs to Write Better</td>\n",
       "      <td>49</td>\n",
       "    </tr>\n",
       "  </tbody>\n",
       "</table>\n",
       "</div>"
      ],
      "text/plain": [
       "   id       date    country         store  \\\n",
       "0   0 2017-01-01  Argentina  Kaggle Learn   \n",
       "1   1 2017-01-01  Argentina  Kaggle Learn   \n",
       "2   2 2017-01-01  Argentina  Kaggle Learn   \n",
       "3   3 2017-01-01  Argentina  Kaggle Learn   \n",
       "4   4 2017-01-01  Argentina  Kaggle Learn   \n",
       "\n",
       "                                          product  num_sold  \n",
       "0               Using LLMs to Improve Your Coding        63  \n",
       "1                   Using LLMs to Train More LLMs        66  \n",
       "2  Using LLMs to Win Friends and Influence People         9  \n",
       "3      Using LLMs to Win More Kaggle Competitions        59  \n",
       "4                      Using LLMs to Write Better        49  "
      ]
     },
     "execution_count": 8,
     "metadata": {},
     "output_type": "execute_result"
    }
   ],
   "source": [
    "train.head()"
   ]
  },
  {
   "cell_type": "code",
   "execution_count": 9,
   "id": "a8f2e76c",
   "metadata": {
    "execution": {
     "iopub.execute_input": "2023-07-25T06:43:58.194552Z",
     "iopub.status.busy": "2023-07-25T06:43:58.193770Z",
     "iopub.status.idle": "2023-07-25T06:43:58.332736Z",
     "shell.execute_reply": "2023-07-25T06:43:58.331858Z"
    },
    "papermill": {
     "duration": 0.15933,
     "end_time": "2023-07-25T06:43:58.335165",
     "exception": false,
     "start_time": "2023-07-25T06:43:58.175835",
     "status": "completed"
    },
    "tags": []
   },
   "outputs": [
    {
     "data": {
      "text/plain": [
       "id          0\n",
       "date        0\n",
       "country     0\n",
       "store       0\n",
       "product     0\n",
       "num_sold    0\n",
       "dtype: int64"
      ]
     },
     "execution_count": 9,
     "metadata": {},
     "output_type": "execute_result"
    }
   ],
   "source": [
    "train.isnull().sum()"
   ]
  },
  {
   "cell_type": "markdown",
   "id": "793908f6",
   "metadata": {
    "papermill": {
     "duration": 0.016073,
     "end_time": "2023-07-25T06:43:58.367666",
     "exception": false,
     "start_time": "2023-07-25T06:43:58.351593",
     "status": "completed"
    },
    "tags": []
   },
   "source": [
    "Add features & holiday column for better prediction"
   ]
  },
  {
   "cell_type": "code",
   "execution_count": 10,
   "id": "f5c46abc",
   "metadata": {
    "execution": {
     "iopub.execute_input": "2023-07-25T06:43:58.402222Z",
     "iopub.status.busy": "2023-07-25T06:43:58.401515Z",
     "iopub.status.idle": "2023-07-25T06:43:58.432099Z",
     "shell.execute_reply": "2023-07-25T06:43:58.430968Z"
    },
    "papermill": {
     "duration": 0.050945,
     "end_time": "2023-07-25T06:43:58.434747",
     "exception": false,
     "start_time": "2023-07-25T06:43:58.383802",
     "status": "completed"
    },
    "tags": []
   },
   "outputs": [
    {
     "data": {
      "text/html": [
       "<div>\n",
       "<style scoped>\n",
       "    .dataframe tbody tr th:only-of-type {\n",
       "        vertical-align: middle;\n",
       "    }\n",
       "\n",
       "    .dataframe tbody tr th {\n",
       "        vertical-align: top;\n",
       "    }\n",
       "\n",
       "    .dataframe thead th {\n",
       "        text-align: right;\n",
       "    }\n",
       "</style>\n",
       "<table border=\"1\" class=\"dataframe\">\n",
       "  <thead>\n",
       "    <tr style=\"text-align: right;\">\n",
       "      <th></th>\n",
       "      <th>id</th>\n",
       "      <th>num_sold</th>\n",
       "    </tr>\n",
       "  </thead>\n",
       "  <tbody>\n",
       "    <tr>\n",
       "      <th>count</th>\n",
       "      <td>136950.00000</td>\n",
       "      <td>136950.000000</td>\n",
       "    </tr>\n",
       "    <tr>\n",
       "      <th>mean</th>\n",
       "      <td>68474.50000</td>\n",
       "      <td>165.522636</td>\n",
       "    </tr>\n",
       "    <tr>\n",
       "      <th>std</th>\n",
       "      <td>39534.20402</td>\n",
       "      <td>183.691575</td>\n",
       "    </tr>\n",
       "    <tr>\n",
       "      <th>min</th>\n",
       "      <td>0.00000</td>\n",
       "      <td>2.000000</td>\n",
       "    </tr>\n",
       "    <tr>\n",
       "      <th>25%</th>\n",
       "      <td>34237.25000</td>\n",
       "      <td>46.000000</td>\n",
       "    </tr>\n",
       "    <tr>\n",
       "      <th>50%</th>\n",
       "      <td>68474.50000</td>\n",
       "      <td>98.000000</td>\n",
       "    </tr>\n",
       "    <tr>\n",
       "      <th>75%</th>\n",
       "      <td>102711.75000</td>\n",
       "      <td>184.000000</td>\n",
       "    </tr>\n",
       "    <tr>\n",
       "      <th>max</th>\n",
       "      <td>136949.00000</td>\n",
       "      <td>1380.000000</td>\n",
       "    </tr>\n",
       "  </tbody>\n",
       "</table>\n",
       "</div>"
      ],
      "text/plain": [
       "                 id       num_sold\n",
       "count  136950.00000  136950.000000\n",
       "mean    68474.50000     165.522636\n",
       "std     39534.20402     183.691575\n",
       "min         0.00000       2.000000\n",
       "25%     34237.25000      46.000000\n",
       "50%     68474.50000      98.000000\n",
       "75%    102711.75000     184.000000\n",
       "max    136949.00000    1380.000000"
      ]
     },
     "execution_count": 10,
     "metadata": {},
     "output_type": "execute_result"
    }
   ],
   "source": [
    "train.describe()"
   ]
  },
  {
   "cell_type": "code",
   "execution_count": 11,
   "id": "6b0db330",
   "metadata": {
    "execution": {
     "iopub.execute_input": "2023-07-25T06:43:58.470430Z",
     "iopub.status.busy": "2023-07-25T06:43:58.469125Z",
     "iopub.status.idle": "2023-07-25T06:43:58.524767Z",
     "shell.execute_reply": "2023-07-25T06:43:58.523930Z"
    },
    "papermill": {
     "duration": 0.07559,
     "end_time": "2023-07-25T06:43:58.527025",
     "exception": false,
     "start_time": "2023-07-25T06:43:58.451435",
     "status": "completed"
    },
    "tags": []
   },
   "outputs": [
    {
     "name": "stdout",
     "output_type": "stream",
     "text": [
      "id has 136950 values\n",
      "date has 1826 values\n",
      "country has 5 values\n",
      "store has 3 values\n",
      "product has 5 values\n",
      "num_sold has 1028 values\n"
     ]
    }
   ],
   "source": [
    "for col in train.columns:\n",
    "    print(f\"{col} has {len(train[col].unique())} values\")"
   ]
  },
  {
   "cell_type": "code",
   "execution_count": 12,
   "id": "41b7376a",
   "metadata": {
    "execution": {
     "iopub.execute_input": "2023-07-25T06:43:58.562367Z",
     "iopub.status.busy": "2023-07-25T06:43:58.561736Z",
     "iopub.status.idle": "2023-07-25T06:43:58.581408Z",
     "shell.execute_reply": "2023-07-25T06:43:58.580522Z"
    },
    "papermill": {
     "duration": 0.040227,
     "end_time": "2023-07-25T06:43:58.583870",
     "exception": false,
     "start_time": "2023-07-25T06:43:58.543643",
     "status": "completed"
    },
    "tags": []
   },
   "outputs": [],
   "source": [
    "products= train['product'].unique()"
   ]
  },
  {
   "cell_type": "code",
   "execution_count": 13,
   "id": "477a984a",
   "metadata": {
    "execution": {
     "iopub.execute_input": "2023-07-25T06:43:58.619870Z",
     "iopub.status.busy": "2023-07-25T06:43:58.619243Z",
     "iopub.status.idle": "2023-07-25T06:43:58.624755Z",
     "shell.execute_reply": "2023-07-25T06:43:58.623972Z"
    },
    "papermill": {
     "duration": 0.026076,
     "end_time": "2023-07-25T06:43:58.626826",
     "exception": false,
     "start_time": "2023-07-25T06:43:58.600750",
     "status": "completed"
    },
    "tags": []
   },
   "outputs": [
    {
     "data": {
      "text/plain": [
       "array(['Using LLMs to Improve Your Coding',\n",
       "       'Using LLMs to Train More LLMs',\n",
       "       'Using LLMs to Win Friends and Influence People',\n",
       "       'Using LLMs to Win More Kaggle Competitions',\n",
       "       'Using LLMs to Write Better'], dtype=object)"
      ]
     },
     "execution_count": 13,
     "metadata": {},
     "output_type": "execute_result"
    }
   ],
   "source": [
    "products"
   ]
  },
  {
   "cell_type": "code",
   "execution_count": 14,
   "id": "f2757edf",
   "metadata": {
    "execution": {
     "iopub.execute_input": "2023-07-25T06:43:58.662456Z",
     "iopub.status.busy": "2023-07-25T06:43:58.661851Z",
     "iopub.status.idle": "2023-07-25T06:43:58.667114Z",
     "shell.execute_reply": "2023-07-25T06:43:58.666352Z"
    },
    "papermill": {
     "duration": 0.025463,
     "end_time": "2023-07-25T06:43:58.669172",
     "exception": false,
     "start_time": "2023-07-25T06:43:58.643709",
     "status": "completed"
    },
    "tags": []
   },
   "outputs": [
    {
     "data": {
      "text/plain": [
       "5"
      ]
     },
     "execution_count": 14,
     "metadata": {},
     "output_type": "execute_result"
    }
   ],
   "source": [
    "len(products)"
   ]
  },
  {
   "cell_type": "code",
   "execution_count": 15,
   "id": "24fbb7e1",
   "metadata": {
    "execution": {
     "iopub.execute_input": "2023-07-25T06:43:58.705574Z",
     "iopub.status.busy": "2023-07-25T06:43:58.705130Z",
     "iopub.status.idle": "2023-07-25T06:44:01.010987Z",
     "shell.execute_reply": "2023-07-25T06:44:01.009728Z"
    },
    "papermill": {
     "duration": 2.327093,
     "end_time": "2023-07-25T06:44:01.013463",
     "exception": false,
     "start_time": "2023-07-25T06:43:58.686370",
     "status": "completed"
    },
    "tags": []
   },
   "outputs": [
    {
     "data": {
      "image/png": "[encoded data removed]",
      "text/plain": [
       "<Figure size 640x480 with 1 Axes>"
      ]
     },
     "metadata": {},
     "output_type": "display_data"
    }
   ],
   "source": [
    "for i in products:\n",
    "    train_1 = train[train['product']==i]\n",
    "    #plt.subplot(len(products),1,j)\n",
    "    #plt.subplot(1,2,len(i))\n",
    "    plt.plot(train_1['date'],train_1['num_sold'])\n",
    "    # Giving title to the chart using plt.title\n",
    "    plt.title(f\"Product '{i}' sold by Date\")\n",
    "    # rotating the x-axis tick labels at 30degree\n",
    "    # towards right\n",
    "    plt.xticks(rotation=30, ha='right')\n",
    " \n",
    " # Providing x and y label to the chart\n",
    "    plt.xlabel('Date')\n",
    "    plt.ylabel('Products sold')\n",
    "    \n",
    "    "
   ]
  },
  {
   "cell_type": "code",
   "execution_count": 16,
   "id": "62025b78",
   "metadata": {
    "execution": {
     "iopub.execute_input": "2023-07-25T06:44:01.051570Z",
     "iopub.status.busy": "2023-07-25T06:44:01.050302Z",
     "iopub.status.idle": "2023-07-25T06:44:01.058200Z",
     "shell.execute_reply": "2023-07-25T06:44:01.057264Z"
    },
    "papermill": {
     "duration": 0.029226,
     "end_time": "2023-07-25T06:44:01.060665",
     "exception": false,
     "start_time": "2023-07-25T06:44:01.031439",
     "status": "completed"
    },
    "tags": []
   },
   "outputs": [
    {
     "data": {
      "text/plain": [
       "Timestamp('2021-12-31 00:00:00')"
      ]
     },
     "execution_count": 16,
     "metadata": {},
     "output_type": "execute_result"
    }
   ],
   "source": [
    "train['date'].max()"
   ]
  },
  {
   "cell_type": "code",
   "execution_count": 17,
   "id": "d8da69a0",
   "metadata": {
    "execution": {
     "iopub.execute_input": "2023-07-25T06:44:01.099241Z",
     "iopub.status.busy": "2023-07-25T06:44:01.098525Z",
     "iopub.status.idle": "2023-07-25T06:44:01.106503Z",
     "shell.execute_reply": "2023-07-25T06:44:01.105489Z"
    },
    "papermill": {
     "duration": 0.029468,
     "end_time": "2023-07-25T06:44:01.108716",
     "exception": false,
     "start_time": "2023-07-25T06:44:01.079248",
     "status": "completed"
    },
    "tags": []
   },
   "outputs": [
    {
     "data": {
      "text/plain": [
       "Timestamp('2017-01-01 00:00:00')"
      ]
     },
     "execution_count": 17,
     "metadata": {},
     "output_type": "execute_result"
    }
   ],
   "source": [
    "train['date'].min()"
   ]
  },
  {
   "cell_type": "code",
   "execution_count": 18,
   "id": "110258d2",
   "metadata": {
    "execution": {
     "iopub.execute_input": "2023-07-25T06:44:01.150992Z",
     "iopub.status.busy": "2023-07-25T06:44:01.150195Z",
     "iopub.status.idle": "2023-07-25T06:44:01.386614Z",
     "shell.execute_reply": "2023-07-25T06:44:01.385562Z"
    },
    "papermill": {
     "duration": 0.262688,
     "end_time": "2023-07-25T06:44:01.389448",
     "exception": false,
     "start_time": "2023-07-25T06:44:01.126760",
     "status": "completed"
    },
    "tags": []
   },
   "outputs": [],
   "source": [
    "import holidays\n",
    "\n",
    "# Creating holiday calendars for each country\n",
    "argentina_holidays = holidays.Argentina()\n",
    "canada_holidays = holidays.Canada()\n",
    "estonia_holidays = holidays.Estonia()\n",
    "japan_holidays = holidays.Japan()\n",
    "spain_holidays = holidays.Spain()"
   ]
  },
  {
   "cell_type": "code",
   "execution_count": 19,
   "id": "5ab94738",
   "metadata": {
    "execution": {
     "iopub.execute_input": "2023-07-25T06:44:01.427369Z",
     "iopub.status.busy": "2023-07-25T06:44:01.426946Z",
     "iopub.status.idle": "2023-07-25T06:44:01.438775Z",
     "shell.execute_reply": "2023-07-25T06:44:01.437924Z"
    },
    "papermill": {
     "duration": 0.033421,
     "end_time": "2023-07-25T06:44:01.441133",
     "exception": false,
     "start_time": "2023-07-25T06:44:01.407712",
     "status": "completed"
    },
    "tags": []
   },
   "outputs": [],
   "source": [
    "def new_column(df):\n",
    "   df['day']=df['date'].dt.day\n",
    "   df['month']=df['date'].dt.month\n",
    "   df['year']=df['date'].dt.year\n",
    "   df['is_argentina_holiday'] = df['date'].apply(lambda x: int(x in argentina_holidays))\n",
    "   df['is_canada_holiday'] = df['date'].apply(lambda x: int(x in canada_holidays))\n",
    "   df['is_estonia_holiday'] = df['date'].apply(lambda x: int(x in estonia_holidays))\n",
    "   df['is_japan_holiday'] = df['date'].apply(lambda x: int(x in japan_holidays))\n",
    "   df['is_spain_holiday'] = df['date'].apply(lambda x: int(x in spain_holidays))\n",
    "   df['day_of_month'] = df.date.dt.day.astype(\"int8\")\n",
    "   df[\"quarter\"] = df.date.dt.quarter.astype(\"int8\")\n",
    "   df['month_sin'] = np.sin(2*np.pi*df.month/12)\n",
    "   df['month_cos'] = np.cos(2*np.pi*df.month/12)\n",
    "   df['day_sin'] = np.sin(2*np.pi*df.day_of_month/31)\n",
    "   df['day_cos'] = np.cos(2*np.pi*df.day_of_month/31)\n",
    "   df=df.drop(['date'],axis=1)\n",
    "   return df"
   ]
  },
  {
   "cell_type": "code",
   "execution_count": 20,
   "id": "3a832239",
   "metadata": {
    "execution": {
     "iopub.execute_input": "2023-07-25T06:44:01.480538Z",
     "iopub.status.busy": "2023-07-25T06:44:01.479848Z",
     "iopub.status.idle": "2023-07-25T06:44:05.529152Z",
     "shell.execute_reply": "2023-07-25T06:44:05.527764Z"
    },
    "papermill": {
     "duration": 4.072315,
     "end_time": "2023-07-25T06:44:05.531883",
     "exception": false,
     "start_time": "2023-07-25T06:44:01.459568",
     "status": "completed"
    },
    "tags": []
   },
   "outputs": [],
   "source": [
    "train= new_column(train)"
   ]
  },
  {
   "cell_type": "code",
   "execution_count": 21,
   "id": "d7e3f8b5",
   "metadata": {
    "execution": {
     "iopub.execute_input": "2023-07-25T06:44:05.569947Z",
     "iopub.status.busy": "2023-07-25T06:44:05.569228Z",
     "iopub.status.idle": "2023-07-25T06:44:05.592250Z",
     "shell.execute_reply": "2023-07-25T06:44:05.591379Z"
    },
    "papermill": {
     "duration": 0.044712,
     "end_time": "2023-07-25T06:44:05.594657",
     "exception": false,
     "start_time": "2023-07-25T06:44:05.549945",
     "status": "completed"
    },
    "tags": []
   },
   "outputs": [
    {
     "data": {
      "text/html": [
       "<div>\n",
       "<style scoped>\n",
       "    .dataframe tbody tr th:only-of-type {\n",
       "        vertical-align: middle;\n",
       "    }\n",
       "\n",
       "    .dataframe tbody tr th {\n",
       "        vertical-align: top;\n",
       "    }\n",
       "\n",
       "    .dataframe thead th {\n",
       "        text-align: right;\n",
       "    }\n",
       "</style>\n",
       "<table border=\"1\" class=\"dataframe\">\n",
       "  <thead>\n",
       "    <tr style=\"text-align: right;\">\n",
       "      <th></th>\n",
       "      <th>id</th>\n",
       "      <th>country</th>\n",
       "      <th>store</th>\n",
       "      <th>product</th>\n",
       "      <th>num_sold</th>\n",
       "      <th>day</th>\n",
       "      <th>month</th>\n",
       "      <th>year</th>\n",
       "      <th>is_argentina_holiday</th>\n",
       "      <th>is_canada_holiday</th>\n",
       "      <th>is_estonia_holiday</th>\n",
       "      <th>is_japan_holiday</th>\n",
       "      <th>is_spain_holiday</th>\n",
       "      <th>day_of_month</th>\n",
       "      <th>quarter</th>\n",
       "      <th>month_sin</th>\n",
       "      <th>month_cos</th>\n",
       "      <th>day_sin</th>\n",
       "      <th>day_cos</th>\n",
       "    </tr>\n",
       "  </thead>\n",
       "  <tbody>\n",
       "    <tr>\n",
       "      <th>0</th>\n",
       "      <td>0</td>\n",
       "      <td>Argentina</td>\n",
       "      <td>Kaggle Learn</td>\n",
       "      <td>Using LLMs to Improve Your Coding</td>\n",
       "      <td>63</td>\n",
       "      <td>1</td>\n",
       "      <td>1</td>\n",
       "      <td>2017</td>\n",
       "      <td>1</td>\n",
       "      <td>1</td>\n",
       "      <td>1</td>\n",
       "      <td>1</td>\n",
       "      <td>0</td>\n",
       "      <td>1</td>\n",
       "      <td>1</td>\n",
       "      <td>0.5</td>\n",
       "      <td>0.866025</td>\n",
       "      <td>0.201299</td>\n",
       "      <td>0.97953</td>\n",
       "    </tr>\n",
       "    <tr>\n",
       "      <th>1</th>\n",
       "      <td>1</td>\n",
       "      <td>Argentina</td>\n",
       "      <td>Kaggle Learn</td>\n",
       "      <td>Using LLMs to Train More LLMs</td>\n",
       "      <td>66</td>\n",
       "      <td>1</td>\n",
       "      <td>1</td>\n",
       "      <td>2017</td>\n",
       "      <td>1</td>\n",
       "      <td>1</td>\n",
       "      <td>1</td>\n",
       "      <td>1</td>\n",
       "      <td>0</td>\n",
       "      <td>1</td>\n",
       "      <td>1</td>\n",
       "      <td>0.5</td>\n",
       "      <td>0.866025</td>\n",
       "      <td>0.201299</td>\n",
       "      <td>0.97953</td>\n",
       "    </tr>\n",
       "    <tr>\n",
       "      <th>2</th>\n",
       "      <td>2</td>\n",
       "      <td>Argentina</td>\n",
       "      <td>Kaggle Learn</td>\n",
       "      <td>Using LLMs to Win Friends and Influence People</td>\n",
       "      <td>9</td>\n",
       "      <td>1</td>\n",
       "      <td>1</td>\n",
       "      <td>2017</td>\n",
       "      <td>1</td>\n",
       "      <td>1</td>\n",
       "      <td>1</td>\n",
       "      <td>1</td>\n",
       "      <td>0</td>\n",
       "      <td>1</td>\n",
       "      <td>1</td>\n",
       "      <td>0.5</td>\n",
       "      <td>0.866025</td>\n",
       "      <td>0.201299</td>\n",
       "      <td>0.97953</td>\n",
       "    </tr>\n",
       "    <tr>\n",
       "      <th>3</th>\n",
       "      <td>3</td>\n",
       "      <td>Argentina</td>\n",
       "      <td>Kaggle Learn</td>\n",
       "      <td>Using LLMs to Win More Kaggle Competitions</td>\n",
       "      <td>59</td>\n",
       "      <td>1</td>\n",
       "      <td>1</td>\n",
       "      <td>2017</td>\n",
       "      <td>1</td>\n",
       "      <td>1</td>\n",
       "      <td>1</td>\n",
       "      <td>1</td>\n",
       "      <td>0</td>\n",
       "      <td>1</td>\n",
       "      <td>1</td>\n",
       "      <td>0.5</td>\n",
       "      <td>0.866025</td>\n",
       "      <td>0.201299</td>\n",
       "      <td>0.97953</td>\n",
       "    </tr>\n",
       "    <tr>\n",
       "      <th>4</th>\n",
       "      <td>4</td>\n",
       "      <td>Argentina</td>\n",
       "      <td>Kaggle Learn</td>\n",
       "      <td>Using LLMs to Write Better</td>\n",
       "      <td>49</td>\n",
       "      <td>1</td>\n",
       "      <td>1</td>\n",
       "      <td>2017</td>\n",
       "      <td>1</td>\n",
       "      <td>1</td>\n",
       "      <td>1</td>\n",
       "      <td>1</td>\n",
       "      <td>0</td>\n",
       "      <td>1</td>\n",
       "      <td>1</td>\n",
       "      <td>0.5</td>\n",
       "      <td>0.866025</td>\n",
       "      <td>0.201299</td>\n",
       "      <td>0.97953</td>\n",
       "    </tr>\n",
       "  </tbody>\n",
       "</table>\n",
       "</div>"
      ],
      "text/plain": [
       "   id    country         store  \\\n",
       "0   0  Argentina  Kaggle Learn   \n",
       "1   1  Argentina  Kaggle Learn   \n",
       "2   2  Argentina  Kaggle Learn   \n",
       "3   3  Argentina  Kaggle Learn   \n",
       "4   4  Argentina  Kaggle Learn   \n",
       "\n",
       "                                          product  num_sold  day  month  year  \\\n",
       "0               Using LLMs to Improve Your Coding        63    1      1  2017   \n",
       "1                   Using LLMs to Train More LLMs        66    1      1  2017   \n",
       "2  Using LLMs to Win Friends and Influence People         9    1      1  2017   \n",
       "3      Using LLMs to Win More Kaggle Competitions        59    1      1  2017   \n",
       "4                      Using LLMs to Write Better        49    1      1  2017   \n",
       "\n",
       "   is_argentina_holiday  is_canada_holiday  is_estonia_holiday  \\\n",
       "0                     1                  1                   1   \n",
       "1                     1                  1                   1   \n",
       "2                     1                  1                   1   \n",
       "3                     1                  1                   1   \n",
       "4                     1                  1                   1   \n",
       "\n",
       "   is_japan_holiday  is_spain_holiday  day_of_month  quarter  month_sin  \\\n",
       "0                 1                 0             1        1        0.5   \n",
       "1                 1                 0             1        1        0.5   \n",
       "2                 1                 0             1        1        0.5   \n",
       "3                 1                 0             1        1        0.5   \n",
       "4                 1                 0             1        1        0.5   \n",
       "\n",
       "   month_cos   day_sin  day_cos  \n",
       "0   0.866025  0.201299  0.97953  \n",
       "1   0.866025  0.201299  0.97953  \n",
       "2   0.866025  0.201299  0.97953  \n",
       "3   0.866025  0.201299  0.97953  \n",
       "4   0.866025  0.201299  0.97953  "
      ]
     },
     "execution_count": 21,
     "metadata": {},
     "output_type": "execute_result"
    }
   ],
   "source": [
    "train.head()"
   ]
  },
  {
   "cell_type": "markdown",
   "id": "9555933d",
   "metadata": {
    "papermill": {
     "duration": 0.018037,
     "end_time": "2023-07-25T06:44:05.631183",
     "exception": false,
     "start_time": "2023-07-25T06:44:05.613146",
     "status": "completed"
    },
    "tags": []
   },
   "source": [
    "Exclude 2020 as it is outlier because of unpredictable covid 19 phase"
   ]
  },
  {
   "cell_type": "code",
   "execution_count": 22,
   "id": "553d9d48",
   "metadata": {
    "execution": {
     "iopub.execute_input": "2023-07-25T06:44:05.670013Z",
     "iopub.status.busy": "2023-07-25T06:44:05.669363Z",
     "iopub.status.idle": "2023-07-25T06:44:05.698223Z",
     "shell.execute_reply": "2023-07-25T06:44:05.697180Z"
    },
    "papermill": {
     "duration": 0.051211,
     "end_time": "2023-07-25T06:44:05.700823",
     "exception": false,
     "start_time": "2023-07-25T06:44:05.649612",
     "status": "completed"
    },
    "tags": []
   },
   "outputs": [],
   "source": [
    "train = train[train['year'] != 2020]"
   ]
  },
  {
   "cell_type": "code",
   "execution_count": 23,
   "id": "010d3c74",
   "metadata": {
    "execution": {
     "iopub.execute_input": "2023-07-25T06:44:05.739696Z",
     "iopub.status.busy": "2023-07-25T06:44:05.738995Z",
     "iopub.status.idle": "2023-07-25T06:44:05.743824Z",
     "shell.execute_reply": "2023-07-25T06:44:05.742760Z"
    },
    "papermill": {
     "duration": 0.027006,
     "end_time": "2023-07-25T06:44:05.746196",
     "exception": false,
     "start_time": "2023-07-25T06:44:05.719190",
     "status": "completed"
    },
    "tags": []
   },
   "outputs": [],
   "source": [
    "#stores=train['store'].unique()"
   ]
  },
  {
   "cell_type": "code",
   "execution_count": 24,
   "id": "b26d9b24",
   "metadata": {
    "execution": {
     "iopub.execute_input": "2023-07-25T06:44:05.784986Z",
     "iopub.status.busy": "2023-07-25T06:44:05.784601Z",
     "iopub.status.idle": "2023-07-25T06:44:05.799180Z",
     "shell.execute_reply": "2023-07-25T06:44:05.797885Z"
    },
    "papermill": {
     "duration": 0.037269,
     "end_time": "2023-07-25T06:44:05.802025",
     "exception": false,
     "start_time": "2023-07-25T06:44:05.764756",
     "status": "completed"
    },
    "tags": []
   },
   "outputs": [],
   "source": [
    "X= train.drop(['num_sold'],axis=1)\n",
    "y= train[['num_sold']]"
   ]
  },
  {
   "cell_type": "code",
   "execution_count": 25,
   "id": "31a3b80e",
   "metadata": {
    "execution": {
     "iopub.execute_input": "2023-07-25T06:44:05.840597Z",
     "iopub.status.busy": "2023-07-25T06:44:05.840167Z",
     "iopub.status.idle": "2023-07-25T06:44:06.164879Z",
     "shell.execute_reply": "2023-07-25T06:44:06.163787Z"
    },
    "papermill": {
     "duration": 0.347159,
     "end_time": "2023-07-25T06:44:06.167600",
     "exception": false,
     "start_time": "2023-07-25T06:44:05.820441",
     "status": "completed"
    },
    "tags": []
   },
   "outputs": [],
   "source": [
    "cbe= CatBoostEncoder(cols = ['country', 'store', 'product']).fit(X,y)\n",
    "X= cbe.transform(X)\n"
   ]
  },
  {
   "cell_type": "code",
   "execution_count": 26,
   "id": "f1590e58",
   "metadata": {
    "execution": {
     "iopub.execute_input": "2023-07-25T06:44:06.207987Z",
     "iopub.status.busy": "2023-07-25T06:44:06.207568Z",
     "iopub.status.idle": "2023-07-25T06:44:06.214935Z",
     "shell.execute_reply": "2023-07-25T06:44:06.213983Z"
    },
    "papermill": {
     "duration": 0.030691,
     "end_time": "2023-07-25T06:44:06.217163",
     "exception": false,
     "start_time": "2023-07-25T06:44:06.186472",
     "status": "completed"
    },
    "tags": []
   },
   "outputs": [],
   "source": [
    "y=np.log1p(y)"
   ]
  },
  {
   "cell_type": "code",
   "execution_count": 27,
   "id": "ed83098a",
   "metadata": {
    "execution": {
     "iopub.execute_input": "2023-07-25T06:44:06.255657Z",
     "iopub.status.busy": "2023-07-25T06:44:06.255225Z",
     "iopub.status.idle": "2023-07-25T06:44:06.268337Z",
     "shell.execute_reply": "2023-07-25T06:44:06.267139Z"
    },
    "papermill": {
     "duration": 0.035229,
     "end_time": "2023-07-25T06:44:06.270770",
     "exception": false,
     "start_time": "2023-07-25T06:44:06.235541",
     "status": "completed"
    },
    "tags": []
   },
   "outputs": [],
   "source": [
    "test['date']=pd.to_datetime(test['date'])"
   ]
  },
  {
   "cell_type": "code",
   "execution_count": 28,
   "id": "bfcc0ffa",
   "metadata": {
    "execution": {
     "iopub.execute_input": "2023-07-25T06:44:06.309826Z",
     "iopub.status.busy": "2023-07-25T06:44:06.309420Z",
     "iopub.status.idle": "2023-07-25T06:44:07.054422Z",
     "shell.execute_reply": "2023-07-25T06:44:07.053342Z"
    },
    "papermill": {
     "duration": 0.767999,
     "end_time": "2023-07-25T06:44:07.057186",
     "exception": false,
     "start_time": "2023-07-25T06:44:06.289187",
     "status": "completed"
    },
    "tags": []
   },
   "outputs": [],
   "source": [
    "test=new_column(test)"
   ]
  },
  {
   "cell_type": "code",
   "execution_count": 29,
   "id": "2305106c",
   "metadata": {
    "execution": {
     "iopub.execute_input": "2023-07-25T06:44:07.097424Z",
     "iopub.status.busy": "2023-07-25T06:44:07.096909Z",
     "iopub.status.idle": "2023-07-25T06:44:07.146024Z",
     "shell.execute_reply": "2023-07-25T06:44:07.144933Z"
    },
    "papermill": {
     "duration": 0.073019,
     "end_time": "2023-07-25T06:44:07.148698",
     "exception": false,
     "start_time": "2023-07-25T06:44:07.075679",
     "status": "completed"
    },
    "tags": []
   },
   "outputs": [],
   "source": [
    "test=cbe.transform(test)"
   ]
  },
  {
   "cell_type": "code",
   "execution_count": 30,
   "id": "b243c2e8",
   "metadata": {
    "execution": {
     "iopub.execute_input": "2023-07-25T06:44:07.188502Z",
     "iopub.status.busy": "2023-07-25T06:44:07.188058Z",
     "iopub.status.idle": "2023-07-25T06:44:07.197523Z",
     "shell.execute_reply": "2023-07-25T06:44:07.196267Z"
    },
    "papermill": {
     "duration": 0.031893,
     "end_time": "2023-07-25T06:44:07.199843",
     "exception": false,
     "start_time": "2023-07-25T06:44:07.167950",
     "status": "completed"
    },
    "tags": []
   },
   "outputs": [],
   "source": [
    "def hgbr_objective(trial):\n",
    "    # Use the trial object to suggest a value for alpha\n",
    "    # Optuna will come up with a suggested value based on the scores of previous trials\n",
    "    _alpha = trial.suggest_float(\"quantile\", 0.1, 1)\n",
    "    _beta = trial.suggest_float(\"learning_rate\", 0.1, 20)\n",
    "    _gamma = trial.suggest_int(\"max_iter\", 1, 100)\n",
    "    _delta= trial.suggest_int(\"max_leaf_nodes\", 2, 100)\n",
    "    _theta= trial.suggest_int(\"max_depth\", 1, 12)\n",
    "    # Define the model with the suggested alpha\n",
    "    hgbr = HistGradientBoostingRegressor(quantile=_alpha,learning_rate=_beta,max_iter=_gamma,\n",
    "                                         interaction_cst=\"pairwise\",warm_start=1,l2_regularization=1,\n",
    "                                         max_leaf_nodes= _delta,max_depth=_theta,random_state=42)\n",
    "    # Calculate the score with 10-folds cross validation, which returns a list of scores\n",
    "    # scoring is defined as negative RMSE as it is what this Kaggle competition uses to evaluate the result\n",
    "    scores = cross_val_score(hgbr, X, y, \n",
    "                             cv=KFold(n_splits=10,\n",
    "                                      shuffle=True,\n",
    "                                      random_state=42),\n",
    "                             scoring=\"neg_root_mean_squared_error\"\n",
    "                             #,error_score='raise'\n",
    "                            )\n",
    "    # Return the mean of 10 scores\n",
    "    return scores.mean()"
   ]
  },
  {
   "cell_type": "code",
   "execution_count": 31,
   "id": "129d64bf",
   "metadata": {
    "execution": {
     "iopub.execute_input": "2023-07-25T06:44:07.238867Z",
     "iopub.status.busy": "2023-07-25T06:44:07.238170Z",
     "iopub.status.idle": "2023-07-25T06:44:07.244916Z",
     "shell.execute_reply": "2023-07-25T06:44:07.243987Z"
    },
    "papermill": {
     "duration": 0.028832,
     "end_time": "2023-07-25T06:44:07.247242",
     "exception": false,
     "start_time": "2023-07-25T06:44:07.218410",
     "status": "completed"
    },
    "tags": []
   },
   "outputs": [
    {
     "name": "stderr",
     "output_type": "stream",
     "text": [
      "[I 2023-07-25 06:44:07,240] A new study created in memory with name: no-name-5e281aab-2b35-4963-977e-571f5944d367\n"
     ]
    }
   ],
   "source": [
    "# Create Study object\n",
    "study = optuna.create_study(direction=\"maximize\")"
   ]
  },
  {
   "cell_type": "code",
   "execution_count": 32,
   "id": "15d2d8b8",
   "metadata": {
    "execution": {
     "iopub.execute_input": "2023-07-25T06:44:07.286823Z",
     "iopub.status.busy": "2023-07-25T06:44:07.285985Z",
     "iopub.status.idle": "2023-07-25T07:22:50.210088Z",
     "shell.execute_reply": "2023-07-25T07:22:50.209058Z"
    },
    "papermill": {
     "duration": 2322.947064,
     "end_time": "2023-07-25T07:22:50.213073",
     "exception": false,
     "start_time": "2023-07-25T06:44:07.266009",
     "status": "completed"
    },
    "tags": []
   },
   "outputs": [
    {
     "name": "stderr",
     "output_type": "stream",
     "text": [
      "[I 2023-07-25 06:44:09,708] Trial 0 finished with value: -74653085742.76183 and parameters: {'quantile': 0.29789323415216007, 'learning_rate': 13.218273409994762, 'max_iter': 85, 'max_leaf_nodes': 25, 'max_depth': 8}. Best is trial 0 with value: -74653085742.76183.\n",
      "[I 2023-07-25 06:44:12,015] Trial 1 finished with value: -80161.10902768731 and parameters: {'quantile': 0.6709123402716108, 'learning_rate': 4.091214604073424, 'max_iter': 41, 'max_leaf_nodes': 46, 'max_depth': 4}. Best is trial 1 with value: -80161.10902768731.\n",
      "[I 2023-07-25 06:44:14,207] Trial 2 finished with value: -32349502.561287086 and parameters: {'quantile': 0.7694008040267022, 'learning_rate': 6.634356040185884, 'max_iter': 58, 'max_leaf_nodes': 19, 'max_depth': 3}. Best is trial 1 with value: -80161.10902768731.\n",
      "[I 2023-07-25 06:44:16,499] Trial 3 finished with value: -430435989.97720444 and parameters: {'quantile': 0.9758852678385431, 'learning_rate': 8.55665580819803, 'max_iter': 84, 'max_leaf_nodes': 61, 'max_depth': 1}. Best is trial 1 with value: -80161.10902768731.\n",
      "[I 2023-07-25 06:44:19,364] Trial 4 finished with value: -7584409705.899088 and parameters: {'quantile': 0.9391639617745132, 'learning_rate': 10.720721960568373, 'max_iter': 40, 'max_leaf_nodes': 13, 'max_depth': 11}. Best is trial 1 with value: -80161.10902768731.\n",
      "[I 2023-07-25 06:44:21,405] Trial 5 finished with value: -119694553.96751428 and parameters: {'quantile': 0.6927757538648507, 'learning_rate': 7.648848601802719, 'max_iter': 34, 'max_leaf_nodes': 58, 'max_depth': 1}. Best is trial 1 with value: -80161.10902768731.\n",
      "[I 2023-07-25 06:44:23,855] Trial 6 finished with value: -7.454190776303401 and parameters: {'quantile': 0.8117713563620766, 'learning_rate': 2.2214916902701742, 'max_iter': 47, 'max_leaf_nodes': 29, 'max_depth': 6}. Best is trial 6 with value: -7.454190776303401.\n",
      "[I 2023-07-25 06:44:26,291] Trial 7 finished with value: -2984.9808575167553 and parameters: {'quantile': 0.6631932560227011, 'learning_rate': 3.2244489238115364, 'max_iter': 26, 'max_leaf_nodes': 87, 'max_depth': 11}. Best is trial 6 with value: -7.454190776303401.\n",
      "[I 2023-07-25 06:44:28,726] Trial 8 finished with value: -506247234872.9832 and parameters: {'quantile': 0.408877488478095, 'learning_rate': 15.795867345506805, 'max_iter': 16, 'max_leaf_nodes': 19, 'max_depth': 8}. Best is trial 6 with value: -7.454190776303401.\n",
      "[I 2023-07-25 06:44:31,085] Trial 9 finished with value: -1595038418.6403203 and parameters: {'quantile': 0.9885798415788094, 'learning_rate': 9.317342801090748, 'max_iter': 31, 'max_leaf_nodes': 88, 'max_depth': 5}. Best is trial 6 with value: -7.454190776303401.\n",
      "[I 2023-07-25 06:44:38,941] Trial 10 finished with value: -0.08559541643057467 and parameters: {'quantile': 0.12734670278145005, 'learning_rate': 0.349854260164145, 'max_iter': 63, 'max_leaf_nodes': 41, 'max_depth': 7}. Best is trial 10 with value: -0.08559541643057467.\n",
      "[I 2023-07-25 06:44:47,010] Trial 11 finished with value: -0.11277069358365258 and parameters: {'quantile': 0.17177163965480913, 'learning_rate': 0.11393795308652321, 'max_iter': 66, 'max_leaf_nodes': 37, 'max_depth': 7}. Best is trial 10 with value: -0.08559541643057467.\n",
      "[I 2023-07-25 06:44:56,288] Trial 12 finished with value: -0.09225654432102126 and parameters: {'quantile': 0.10684679841825827, 'learning_rate': 0.23658075703671963, 'max_iter': 64, 'max_leaf_nodes': 42, 'max_depth': 8}. Best is trial 10 with value: -0.08559541643057467.\n",
      "[I 2023-07-25 06:45:05,874] Trial 13 finished with value: -0.10147698793424842 and parameters: {'quantile': 0.1024794345396903, 'learning_rate': 0.11795686154071489, 'max_iter': 70, 'max_leaf_nodes': 71, 'max_depth': 9}. Best is trial 10 with value: -0.08559541643057467.\n",
      "[I 2023-07-25 06:45:08,310] Trial 14 finished with value: -916766.3997607457 and parameters: {'quantile': 0.25131258049129723, 'learning_rate': 4.9440442075131665, 'max_iter': 97, 'max_leaf_nodes': 42, 'max_depth': 10}. Best is trial 10 with value: -0.08559541643057467.\n",
      "[I 2023-07-25 06:45:10,026] Trial 15 finished with value: -1.2762260313379885 and parameters: {'quantile': 0.4520422071683969, 'learning_rate': 2.1606800983030525, 'max_iter': 1, 'max_leaf_nodes': 70, 'max_depth': 6}. Best is trial 10 with value: -0.08559541643057467.\n",
      "[I 2023-07-25 06:45:12,159] Trial 16 finished with value: -4585179800085.382 and parameters: {'quantile': 0.13986190491397577, 'learning_rate': 19.64657561105878, 'max_iter': 71, 'max_leaf_nodes': 3, 'max_depth': 12}. Best is trial 10 with value: -0.08559541643057467.\n",
      "[I 2023-07-25 06:45:14,586] Trial 17 finished with value: -4425495.105253292 and parameters: {'quantile': 0.27352116843984065, 'learning_rate': 5.616467259833682, 'max_iter': 58, 'max_leaf_nodes': 35, 'max_depth': 8}. Best is trial 10 with value: -0.08559541643057467.\n",
      "[I 2023-07-25 06:45:16,776] Trial 18 finished with value: -2.673676171482324 and parameters: {'quantile': 0.10704594592546166, 'learning_rate': 2.1009892957430756, 'max_iter': 83, 'max_leaf_nodes': 48, 'max_depth': 3}. Best is trial 10 with value: -0.08559541643057467.\n",
      "[I 2023-07-25 06:45:20,101] Trial 19 finished with value: -6712009.799559398 and parameters: {'quantile': 0.21370981260340932, 'learning_rate': 5.812805084858298, 'max_iter': 56, 'max_leaf_nodes': 56, 'max_depth': 9}. Best is trial 10 with value: -0.08559541643057467.\n",
      "[I 2023-07-25 06:45:32,216] Trial 20 finished with value: -0.09221874331754883 and parameters: {'quantile': 0.3542113329645622, 'learning_rate': 0.17647187111474041, 'max_iter': 98, 'max_leaf_nodes': 71, 'max_depth': 7}. Best is trial 10 with value: -0.08559541643057467.\n",
      "[I 2023-07-25 06:45:45,380] Trial 21 finished with value: -0.07321908740968236 and parameters: {'quantile': 0.3438624967322824, 'learning_rate': 0.3673943796389665, 'max_iter': 98, 'max_leaf_nodes': 71, 'max_depth': 7}. Best is trial 21 with value: -0.07321908740968236.\n",
      "[I 2023-07-25 06:45:47,791] Trial 22 finished with value: -6117.346826019925 and parameters: {'quantile': 0.34855404395595796, 'learning_rate': 3.3899159516597877, 'max_iter': 95, 'max_leaf_nodes': 78, 'max_depth': 5}. Best is trial 21 with value: -0.07321908740968236.\n",
      "[I 2023-07-25 06:45:51,336] Trial 23 finished with value: -1.945256081742388 and parameters: {'quantile': 0.5113714806601096, 'learning_rate': 2.0644292567512967, 'max_iter': 91, 'max_leaf_nodes': 94, 'max_depth': 7}. Best is trial 21 with value: -0.07321908740968236.\n",
      "[I 2023-07-25 06:45:53,733] Trial 24 finished with value: -516528.2603507987 and parameters: {'quantile': 0.34817062576588914, 'learning_rate': 4.724142236455311, 'max_iter': 99, 'max_leaf_nodes': 71, 'max_depth': 5}. Best is trial 21 with value: -0.07321908740968236.\n",
      "[I 2023-07-25 06:46:05,442] Trial 25 finished with value: -0.063740582395835 and parameters: {'quantile': 0.21136056838828254, 'learning_rate': 1.1135944255059333, 'max_iter': 76, 'max_leaf_nodes': 77, 'max_depth': 7}. Best is trial 25 with value: -0.063740582395835.\n",
      "[I 2023-07-25 06:46:19,638] Trial 26 finished with value: -0.06909548459375818 and parameters: {'quantile': 0.20832577965183083, 'learning_rate': 1.6517327875217367, 'max_iter': 81, 'max_leaf_nodes': 81, 'max_depth': 9}. Best is trial 25 with value: -0.063740582395835.\n",
      "[I 2023-07-25 06:46:22,973] Trial 27 finished with value: -16392.37136191839 and parameters: {'quantile': 0.20613693641853303, 'learning_rate': 3.637472959972587, 'max_iter': 77, 'max_leaf_nodes': 79, 'max_depth': 9}. Best is trial 25 with value: -0.063740582395835.\n",
      "[I 2023-07-25 06:46:25,450] Trial 28 finished with value: -49571619.88760899 and parameters: {'quantile': 0.21302523624617573, 'learning_rate': 6.8780591055817615, 'max_iter': 78, 'max_leaf_nodes': 97, 'max_depth': 10}. Best is trial 25 with value: -0.063740582395835.\n",
      "[I 2023-07-25 06:46:27,978] Trial 29 finished with value: -1.165565338731134 and parameters: {'quantile': 0.2865554902654929, 'learning_rate': 2.0039014451258677, 'max_iter': 88, 'max_leaf_nodes': 81, 'max_depth': 10}. Best is trial 25 with value: -0.063740582395835.\n",
      "[I 2023-07-25 06:46:30,461] Trial 30 finished with value: -452438.84080176766 and parameters: {'quantile': 0.2991221255365563, 'learning_rate': 4.675133039956919, 'max_iter': 77, 'max_leaf_nodes': 63, 'max_depth': 8}. Best is trial 25 with value: -0.063740582395835.\n",
      "[I 2023-07-25 06:46:42,086] Trial 31 finished with value: -0.07168175077669588 and parameters: {'quantile': 0.17829218034928973, 'learning_rate': 1.4605275842795513, 'max_iter': 89, 'max_leaf_nodes': 88, 'max_depth': 6}. Best is trial 25 with value: -0.063740582395835.\n",
      "[I 2023-07-25 06:46:55,010] Trial 32 finished with value: -0.06717384483126607 and parameters: {'quantile': 0.20991996385505696, 'learning_rate': 1.3145314953884306, 'max_iter': 92, 'max_leaf_nodes': 87, 'max_depth': 6}. Best is trial 25 with value: -0.063740582395835.\n",
      "[I 2023-07-25 06:46:57,518] Trial 33 finished with value: -6812.75250508435 and parameters: {'quantile': 0.18097091835098317, 'learning_rate': 3.4157850853615193, 'max_iter': 90, 'max_leaf_nodes': 100, 'max_depth': 6}. Best is trial 25 with value: -0.063740582395835.\n",
      "[I 2023-07-25 06:47:05,083] Trial 34 finished with value: -0.0879293121413286 and parameters: {'quantile': 0.23780637762101497, 'learning_rate': 1.4813719719169802, 'max_iter': 84, 'max_leaf_nodes': 93, 'max_depth': 4}. Best is trial 25 with value: -0.063740582395835.\n",
      "[I 2023-07-25 06:47:11,736] Trial 35 finished with value: -0.08393751061757761 and parameters: {'quantile': 0.18196105251380298, 'learning_rate': 1.309514589467515, 'max_iter': 73, 'max_leaf_nodes': 86, 'max_depth': 4}. Best is trial 25 with value: -0.063740582395835.\n",
      "[I 2023-07-25 06:47:14,157] Trial 36 finished with value: -657.2851489425022 and parameters: {'quantile': 0.2544437179799881, 'learning_rate': 2.9120898422870853, 'max_iter': 81, 'max_leaf_nodes': 83, 'max_depth': 5}. Best is trial 25 with value: -0.063740582395835.\n",
      "[I 2023-07-25 06:47:16,584] Trial 37 finished with value: -43140.023766938015 and parameters: {'quantile': 0.1598528048402172, 'learning_rate': 3.905424988402765, 'max_iter': 91, 'max_leaf_nodes': 77, 'max_depth': 6}. Best is trial 25 with value: -0.063740582395835.\n",
      "[I 2023-07-25 06:47:18,709] Trial 38 finished with value: -19102268.875167735 and parameters: {'quantile': 0.30592021789726964, 'learning_rate': 6.353778854842398, 'max_iter': 87, 'max_leaf_nodes': 91, 'max_depth': 2}. Best is trial 25 with value: -0.063740582395835.\n",
      "[I 2023-07-25 06:47:20,978] Trial 39 finished with value: -377.25292125747154 and parameters: {'quantile': 0.22063011354177856, 'learning_rate': 2.8094260622719327, 'max_iter': 93, 'max_leaf_nodes': 63, 'max_depth': 3}. Best is trial 25 with value: -0.063740582395835.\n",
      "[I 2023-07-25 06:47:23,517] Trial 40 finished with value: -221093063.2505382 and parameters: {'quantile': 0.16449128062477403, 'learning_rate': 7.826005870658888, 'max_iter': 52, 'max_leaf_nodes': 86, 'max_depth': 9}. Best is trial 25 with value: -0.063740582395835.\n",
      "[I 2023-07-25 06:47:37,144] Trial 41 finished with value: -0.06454487329326428 and parameters: {'quantile': 0.25346393443571613, 'learning_rate': 1.1791635479157794, 'max_iter': 100, 'max_leaf_nodes': 75, 'max_depth': 6}. Best is trial 25 with value: -0.063740582395835.\n",
      "[I 2023-07-25 06:47:49,617] Trial 42 finished with value: -0.06506239287068652 and parameters: {'quantile': 0.24585252485081116, 'learning_rate': 1.261016143940868, 'max_iter': 100, 'max_leaf_nodes': 76, 'max_depth': 6}. Best is trial 25 with value: -0.063740582395835.\n",
      "[I 2023-07-25 06:47:52,079] Trial 43 finished with value: -186320.23861966428 and parameters: {'quantile': 0.2809697093348863, 'learning_rate': 4.363137893682163, 'max_iter': 94, 'max_leaf_nodes': 75, 'max_depth': 5}. Best is trial 25 with value: -0.063740582395835.\n",
      "[I 2023-07-25 06:48:03,598] Trial 44 finished with value: -0.07119026434094675 and parameters: {'quantile': 0.40977964217098234, 'learning_rate': 1.4108151099351236, 'max_iter': 81, 'max_leaf_nodes': 66, 'max_depth': 6}. Best is trial 25 with value: -0.063740582395835.\n",
      "[I 2023-07-25 06:48:06,091] Trial 45 finished with value: -414.44666697887186 and parameters: {'quantile': 0.23214519623318355, 'learning_rate': 2.825918208178959, 'max_iter': 100, 'max_leaf_nodes': 55, 'max_depth': 7}. Best is trial 25 with value: -0.063740582395835.\n",
      "[I 2023-07-25 06:48:20,086] Trial 46 finished with value: -0.06038031351128337 and parameters: {'quantile': 0.13774964012936258, 'learning_rate': 0.8555989471228127, 'max_iter': 85, 'max_leaf_nodes': 75, 'max_depth': 8}. Best is trial 46 with value: -0.06038031351128337.\n",
      "[I 2023-07-25 06:48:34,490] Trial 47 finished with value: -0.06103069593248944 and parameters: {'quantile': 0.13738557709879146, 'learning_rate': 0.7162871622076699, 'max_iter': 86, 'max_leaf_nodes': 66, 'max_depth': 8}. Best is trial 46 with value: -0.06038031351128337.\n",
      "[I 2023-07-25 06:48:48,155] Trial 48 finished with value: -0.06050348301350207 and parameters: {'quantile': 0.13541775312380555, 'learning_rate': 0.880384377116089, 'max_iter': 86, 'max_leaf_nodes': 66, 'max_depth': 8}. Best is trial 46 with value: -0.06038031351128337.\n",
      "[I 2023-07-25 06:48:54,827] Trial 49 finished with value: -0.0733879764960842 and parameters: {'quantile': 0.12327134154245253, 'learning_rate': 0.8367945976045986, 'max_iter': 40, 'max_leaf_nodes': 59, 'max_depth': 8}. Best is trial 46 with value: -0.06038031351128337.\n",
      "[I 2023-07-25 06:48:57,309] Trial 50 finished with value: -23.63552205754888 and parameters: {'quantile': 0.14721964563490672, 'learning_rate': 2.371173890706421, 'max_iter': 67, 'max_leaf_nodes': 51, 'max_depth': 7}. Best is trial 46 with value: -0.06038031351128337.\n",
      "[I 2023-07-25 06:49:12,160] Trial 51 finished with value: -0.060340037628382706 and parameters: {'quantile': 0.13837196260718596, 'learning_rate': 0.923270916401455, 'max_iter': 86, 'max_leaf_nodes': 66, 'max_depth': 8}. Best is trial 51 with value: -0.060340037628382706.\n",
      "[I 2023-07-25 06:49:23,468] Trial 52 finished with value: -0.06641698623676415 and parameters: {'quantile': 0.10246314900091603, 'learning_rate': 0.5954370610017535, 'max_iter': 74, 'max_leaf_nodes': 66, 'max_depth': 8}. Best is trial 51 with value: -0.060340037628382706.\n",
      "[I 2023-07-25 06:49:37,857] Trial 53 finished with value: -0.060175812006670736 and parameters: {'quantile': 0.13683215350177083, 'learning_rate': 0.8840738530760912, 'max_iter': 84, 'max_leaf_nodes': 67, 'max_depth': 8}. Best is trial 53 with value: -0.060175812006670736.\n",
      "[I 2023-07-25 06:49:40,357] Trial 54 finished with value: -154.8292596116741 and parameters: {'quantile': 0.1511212254379501, 'learning_rate': 2.6547147882200495, 'max_iter': 85, 'max_leaf_nodes': 67, 'max_depth': 8}. Best is trial 53 with value: -0.060175812006670736.\n",
      "[I 2023-07-25 06:49:50,309] Trial 55 finished with value: -0.07033974665305417 and parameters: {'quantile': 0.13521293893086517, 'learning_rate': 0.5721154492917414, 'max_iter': 68, 'max_leaf_nodes': 53, 'max_depth': 8}. Best is trial 53 with value: -0.060175812006670736.\n",
      "[I 2023-07-25 06:50:00,293] Trial 56 finished with value: -0.09747843541102116 and parameters: {'quantile': 0.13178597237339457, 'learning_rate': 0.13087603697264016, 'max_iter': 75, 'max_leaf_nodes': 60, 'max_depth': 9}. Best is trial 53 with value: -0.060175812006670736.\n",
      "[I 2023-07-25 06:50:03,727] Trial 57 finished with value: -28612.39208901947 and parameters: {'quantile': 0.108576216854139, 'learning_rate': 3.788546923709188, 'max_iter': 61, 'max_leaf_nodes': 68, 'max_depth': 11}. Best is trial 53 with value: -0.060175812006670736.\n",
      "[I 2023-07-25 06:50:06,197] Trial 58 finished with value: -3.337464953080219 and parameters: {'quantile': 0.17910828500060108, 'learning_rate': 2.1261262091627025, 'max_iter': 20, 'max_leaf_nodes': 47, 'max_depth': 10}. Best is trial 53 with value: -0.060175812006670736.\n",
      "[I 2023-07-25 06:50:19,545] Trial 59 finished with value: -0.06126013423012132 and parameters: {'quantile': 0.1397141965728154, 'learning_rate': 0.9177924321809878, 'max_iter': 85, 'max_leaf_nodes': 63, 'max_depth': 8}. Best is trial 53 with value: -0.060175812006670736.\n",
      "[I 2023-07-25 06:50:22,064] Trial 60 finished with value: -1306.3649626653048 and parameters: {'quantile': 0.13738118086283682, 'learning_rate': 3.0480340833283606, 'max_iter': 86, 'max_leaf_nodes': 62, 'max_depth': 8}. Best is trial 53 with value: -0.060175812006670736.\n",
      "[I 2023-07-25 06:50:35,385] Trial 61 finished with value: -0.06211116504417293 and parameters: {'quantile': 0.18561220190815814, 'learning_rate': 0.9833006613043517, 'max_iter': 79, 'max_leaf_nodes': 74, 'max_depth': 7}. Best is trial 53 with value: -0.060175812006670736.\n",
      "[I 2023-07-25 06:50:47,102] Trial 62 finished with value: -0.06435868671864804 and parameters: {'quantile': 0.15790820248441442, 'learning_rate': 0.6284790744248829, 'max_iter': 80, 'max_leaf_nodes': 57, 'max_depth': 8}. Best is trial 53 with value: -0.060175812006670736.\n",
      "[I 2023-07-25 06:50:49,585] Trial 63 finished with value: -3.633864493902016 and parameters: {'quantile': 0.10228578156865317, 'learning_rate': 2.1359587380792684, 'max_iter': 71, 'max_leaf_nodes': 73, 'max_depth': 9}. Best is trial 53 with value: -0.060175812006670736.\n",
      "[I 2023-07-25 06:50:59,990] Trial 64 finished with value: -0.10403685665745674 and parameters: {'quantile': 0.18750380098818623, 'learning_rate': 0.11119502988996599, 'max_iter': 83, 'max_leaf_nodes': 64, 'max_depth': 7}. Best is trial 53 with value: -0.060175812006670736.\n",
      "[I 2023-07-25 06:51:16,709] Trial 65 finished with value: -0.05805724200248853 and parameters: {'quantile': 0.125376705451382, 'learning_rate': 0.9693833766361066, 'max_iter': 95, 'max_leaf_nodes': 69, 'max_depth': 9}. Best is trial 65 with value: -0.05805724200248853.\n",
      "[I 2023-07-25 06:51:19,171] Trial 66 finished with value: -56.85624978842806 and parameters: {'quantile': 0.13200724507416486, 'learning_rate': 2.496987656366486, 'max_iter': 96, 'max_leaf_nodes': 69, 'max_depth': 9}. Best is trial 65 with value: -0.05805724200248853.\n",
      "[I 2023-07-25 06:51:31,694] Trial 67 finished with value: -0.08731798552881406 and parameters: {'quantile': 0.1562961900090441, 'learning_rate': 1.8209397607712448, 'max_iter': 88, 'max_leaf_nodes': 50, 'max_depth': 10}. Best is trial 65 with value: -0.05805724200248853.\n",
      "[I 2023-07-25 06:51:34,030] Trial 68 finished with value: -0.11359498615341228 and parameters: {'quantile': 0.13109877081343005, 'learning_rate': 0.8796607509464694, 'max_iter': 6, 'max_leaf_nodes': 54, 'max_depth': 9}. Best is trial 65 with value: -0.05805724200248853.\n",
      "[I 2023-07-25 06:51:37,526] Trial 69 finished with value: -3140.937091008354 and parameters: {'quantile': 0.11053881984431756, 'learning_rate': 3.2358057208469417, 'max_iter': 95, 'max_leaf_nodes': 59, 'max_depth': 8}. Best is trial 65 with value: -0.05805724200248853.\n",
      "[I 2023-07-25 06:51:50,344] Trial 70 finished with value: -0.09484805534852567 and parameters: {'quantile': 0.19822401719639934, 'learning_rate': 1.8615564703860608, 'max_iter': 85, 'max_leaf_nodes': 64, 'max_depth': 11}. Best is trial 65 with value: -0.05805724200248853.\n",
      "[I 2023-07-25 06:52:03,665] Trial 71 finished with value: -0.06040231643003051 and parameters: {'quantile': 0.19201705329015634, 'learning_rate': 0.9110732093746807, 'max_iter': 80, 'max_leaf_nodes': 73, 'max_depth': 8}. Best is trial 65 with value: -0.05805724200248853.\n",
      "[I 2023-07-25 06:52:19,618] Trial 72 finished with value: -0.0591888068849095 and parameters: {'quantile': 0.1587021792890247, 'learning_rate': 0.7659861588303964, 'max_iter': 91, 'max_leaf_nodes': 71, 'max_depth': 9}. Best is trial 65 with value: -0.05805724200248853.\n",
      "[I 2023-07-25 06:52:34,319] Trial 73 finished with value: -0.08614487282700682 and parameters: {'quantile': 0.16893555190855625, 'learning_rate': 1.8244336366996827, 'max_iter': 91, 'max_leaf_nodes': 72, 'max_depth': 9}. Best is trial 65 with value: -0.05805724200248853.\n",
      "[I 2023-07-25 06:52:48,070] Trial 74 finished with value: -0.09226885251880011 and parameters: {'quantile': 0.201131166098588, 'learning_rate': 0.14322613363891257, 'max_iter': 88, 'max_leaf_nodes': 82, 'max_depth': 10}. Best is trial 65 with value: -0.05805724200248853.\n",
      "[I 2023-07-25 06:52:50,534] Trial 75 finished with value: -94628.710677743 and parameters: {'quantile': 0.22935740384056075, 'learning_rate': 4.142840055252754, 'max_iter': 93, 'max_leaf_nodes': 69, 'max_depth': 9}. Best is trial 65 with value: -0.05805724200248853.\n",
      "[I 2023-07-25 06:53:04,996] Trial 76 finished with value: -0.06557795149711856 and parameters: {'quantile': 0.10022319725018267, 'learning_rate': 1.5823913445780706, 'max_iter': 82, 'max_leaf_nodes': 73, 'max_depth': 10}. Best is trial 65 with value: -0.05805724200248853.\n",
      "[I 2023-07-25 06:53:22,308] Trial 77 finished with value: -0.05925054594138342 and parameters: {'quantile': 0.15923462987580309, 'learning_rate': 0.6384398312162446, 'max_iter': 96, 'max_leaf_nodes': 79, 'max_depth': 9}. Best is trial 65 with value: -0.05805724200248853.\n",
      "[I 2023-07-25 06:53:24,756] Trial 78 finished with value: -8896.453024199907 and parameters: {'quantile': 0.1635195224889238, 'learning_rate': 3.4811158048524393, 'max_iter': 44, 'max_leaf_nodes': 78, 'max_depth': 10}. Best is trial 65 with value: -0.05805724200248853.\n",
      "[I 2023-07-25 06:53:27,185] Trial 79 finished with value: -149.68201758220147 and parameters: {'quantile': 0.1962544350184127, 'learning_rate': 2.64913010950023, 'max_iter': 97, 'max_leaf_nodes': 84, 'max_depth': 9}. Best is trial 65 with value: -0.05805724200248853.\n",
      "[I 2023-07-25 06:53:44,146] Trial 80 finished with value: -0.058330239656991675 and parameters: {'quantile': 0.25751261079501025, 'learning_rate': 1.1147594918819501, 'max_iter': 90, 'max_leaf_nodes': 80, 'max_depth': 9}. Best is trial 65 with value: -0.05805724200248853.\n",
      "[I 2023-07-25 06:53:59,975] Trial 81 finished with value: -0.058613258747482355 and parameters: {'quantile': 0.1650250324546011, 'learning_rate': 1.1712845944320773, 'max_iter': 90, 'max_leaf_nodes': 80, 'max_depth': 9}. Best is trial 65 with value: -0.05805724200248853.\n",
      "[I 2023-07-25 06:54:17,271] Trial 82 finished with value: -0.06675095806569302 and parameters: {'quantile': 0.22861868719874218, 'learning_rate': 1.627202638668154, 'max_iter': 91, 'max_leaf_nodes': 80, 'max_depth': 9}. Best is trial 65 with value: -0.05805724200248853.\n",
      "[I 2023-07-25 06:54:19,801] Trial 83 finished with value: -29.31723388931842 and parameters: {'quantile': 0.25443266511203994, 'learning_rate': 2.4010409642918225, 'max_iter': 95, 'max_leaf_nodes': 84, 'max_depth': 9}. Best is trial 65 with value: -0.05805724200248853.\n",
      "[I 2023-07-25 06:54:35,541] Trial 84 finished with value: -0.05946531586227331 and parameters: {'quantile': 0.1667090810621243, 'learning_rate': 0.5893061281097989, 'max_iter': 90, 'max_leaf_nodes': 80, 'max_depth': 10}. Best is trial 65 with value: -0.05805724200248853.\n",
      "[I 2023-07-25 06:54:54,126] Trial 85 finished with value: -0.06014423195708205 and parameters: {'quantile': 0.16404380373368516, 'learning_rate': 1.5062133088750211, 'max_iter': 89, 'max_leaf_nodes': 91, 'max_depth': 11}. Best is trial 65 with value: -0.05805724200248853.\n",
      "[I 2023-07-25 06:55:11,258] Trial 86 finished with value: -0.06040347787440257 and parameters: {'quantile': 0.16845518872161253, 'learning_rate': 1.5019676834646627, 'max_iter': 89, 'max_leaf_nodes': 89, 'max_depth': 12}. Best is trial 65 with value: -0.05805724200248853.\n",
      "[I 2023-07-25 06:55:14,097] Trial 87 finished with value: -4.479836585794383 and parameters: {'quantile': 0.2638460209152032, 'learning_rate': 2.1603762867251564, 'max_iter': 98, 'max_leaf_nodes': 95, 'max_depth': 11}. Best is trial 65 with value: -0.05805724200248853.\n",
      "[I 2023-07-25 06:55:30,425] Trial 88 finished with value: -0.059965931320279206 and parameters: {'quantile': 0.22147389547149715, 'learning_rate': 0.5774988351914863, 'max_iter': 93, 'max_leaf_nodes': 80, 'max_depth': 10}. Best is trial 65 with value: -0.05805724200248853.\n",
      "[I 2023-07-25 06:55:47,086] Trial 89 finished with value: -0.06566166557360062 and parameters: {'quantile': 0.2773397174520728, 'learning_rate': 0.39396773201376356, 'max_iter': 93, 'max_leaf_nodes': 80, 'max_depth': 11}. Best is trial 65 with value: -0.05805724200248853.\n",
      "[I 2023-07-25 06:56:04,627] Trial 90 finished with value: -0.059892198147111365 and parameters: {'quantile': 0.22534849198509557, 'learning_rate': 1.43468831992209, 'max_iter': 90, 'max_leaf_nodes': 90, 'max_depth': 11}. Best is trial 65 with value: -0.05805724200248853.\n",
      "[I 2023-07-25 06:56:23,956] Trial 91 finished with value: -0.05770818213309624 and parameters: {'quantile': 0.21505474378883077, 'learning_rate': 1.285789064182646, 'max_iter': 96, 'max_leaf_nodes': 90, 'max_depth': 11}. Best is trial 91 with value: -0.05770818213309624.\n",
      "[I 2023-07-25 06:56:42,982] Trial 92 finished with value: -0.05715935640989471 and parameters: {'quantile': 0.21460008672815495, 'learning_rate': 1.2728985428803115, 'max_iter': 97, 'max_leaf_nodes': 90, 'max_depth': 12}. Best is trial 92 with value: -0.05715935640989471.\n",
      "[I 2023-07-25 06:57:03,135] Trial 93 finished with value: -0.056843088280171684 and parameters: {'quantile': 0.22609782439114018, 'learning_rate': 1.288998338596595, 'max_iter': 97, 'max_leaf_nodes': 98, 'max_depth': 12}. Best is trial 93 with value: -0.056843088280171684.\n",
      "[I 2023-07-25 06:57:05,529] Trial 94 finished with value: -773.4061029330549 and parameters: {'quantile': 0.3126900309106327, 'learning_rate': 2.9434489708339298, 'max_iter': 97, 'max_leaf_nodes': 99, 'max_depth': 12}. Best is trial 93 with value: -0.056843088280171684.\n",
      "[I 2023-07-25 06:57:26,779] Trial 95 finished with value: -0.05718910637334977 and parameters: {'quantile': 0.23778557232728054, 'learning_rate': 1.2661791486145035, 'max_iter': 100, 'max_leaf_nodes': 96, 'max_depth': 12}. Best is trial 93 with value: -0.056843088280171684.\n",
      "[I 2023-07-25 06:57:37,179] Trial 96 finished with value: -0.24571619116565366 and parameters: {'quantile': 0.24997548716872037, 'learning_rate': 1.9738123931654556, 'max_iter': 100, 'max_leaf_nodes': 97, 'max_depth': 12}. Best is trial 93 with value: -0.056843088280171684.\n",
      "[I 2023-07-25 06:57:39,504] Trial 97 finished with value: -72.13100987616852 and parameters: {'quantile': 0.2419224840429941, 'learning_rate': 2.5330356503362625, 'max_iter': 96, 'max_leaf_nodes': 92, 'max_depth': 12}. Best is trial 93 with value: -0.056843088280171684.\n",
      "[I 2023-07-25 06:58:00,212] Trial 98 finished with value: -0.05723052397191451 and parameters: {'quantile': 0.20900868812237283, 'learning_rate': 1.2748062118207273, 'max_iter': 98, 'max_leaf_nodes': 96, 'max_depth': 12}. Best is trial 93 with value: -0.056843088280171684.\n",
      "[I 2023-07-25 06:58:19,708] Trial 99 finished with value: -0.056607126115735984 and parameters: {'quantile': 0.21155958341576964, 'learning_rate': 1.200624526754927, 'max_iter': 98, 'max_leaf_nodes': 95, 'max_depth': 12}. Best is trial 99 with value: -0.056607126115735984.\n",
      "[I 2023-07-25 06:58:40,202] Trial 100 finished with value: -0.05675307409302094 and parameters: {'quantile': 0.26759286976781943, 'learning_rate': 1.2169052532827873, 'max_iter': 98, 'max_leaf_nodes': 97, 'max_depth': 12}. Best is trial 99 with value: -0.056607126115735984.\n",
      "[I 2023-07-25 06:59:00,546] Trial 101 finished with value: -0.05702075256228908 and parameters: {'quantile': 0.2714458334906985, 'learning_rate': 1.2099660584253655, 'max_iter': 98, 'max_leaf_nodes': 94, 'max_depth': 12}. Best is trial 99 with value: -0.056607126115735984.\n",
      "[I 2023-07-25 06:59:19,608] Trial 102 finished with value: -0.05681999323720814 and parameters: {'quantile': 0.2912879659407752, 'learning_rate': 1.2166040497672876, 'max_iter': 98, 'max_leaf_nodes': 94, 'max_depth': 12}. Best is trial 99 with value: -0.056607126115735984.\n",
      "[I 2023-07-25 06:59:22,037] Trial 103 finished with value: -15.72149701644731 and parameters: {'quantile': 0.31365978256748916, 'learning_rate': 2.3163600181170008, 'max_iter': 98, 'max_leaf_nodes': 95, 'max_depth': 12}. Best is trial 99 with value: -0.056607126115735984.\n",
      "[I 2023-07-25 06:59:24,621] Trial 104 finished with value: -5441.848062161208 and parameters: {'quantile': 0.2872028343273894, 'learning_rate': 3.3621162630980472, 'max_iter': 100, 'max_leaf_nodes': 98, 'max_depth': 12}. Best is trial 99 with value: -0.056607126115735984.\n",
      "[I 2023-07-25 06:59:43,828] Trial 105 finished with value: -0.05715931469162676 and parameters: {'quantile': 0.26639185698200923, 'learning_rate': 1.2193410352567713, 'max_iter': 94, 'max_leaf_nodes': 94, 'max_depth': 12}. Best is trial 99 with value: -0.056607126115735984.\n",
      "[I 2023-07-25 07:00:02,690] Trial 106 finished with value: -0.07849233177983456 and parameters: {'quantile': 0.3242853690226747, 'learning_rate': 1.83304138154844, 'max_iter': 98, 'max_leaf_nodes': 95, 'max_depth': 12}. Best is trial 99 with value: -0.056607126115735984.\n",
      "[I 2023-07-25 07:00:05,135] Trial 107 finished with value: -1083.0007414722354 and parameters: {'quantile': 0.27191330222093313, 'learning_rate': 3.009991335535118, 'max_iter': 94, 'max_leaf_nodes': 100, 'max_depth': 12}. Best is trial 99 with value: -0.056607126115735984.\n",
      "[I 2023-07-25 07:00:24,335] Trial 108 finished with value: -0.05720420994916227 and parameters: {'quantile': 0.28965285450186223, 'learning_rate': 1.2684738272259903, 'max_iter': 95, 'max_leaf_nodes': 93, 'max_depth': 12}. Best is trial 99 with value: -0.056607126115735984.\n",
      "[I 2023-07-25 07:00:40,179] Trial 109 finished with value: -0.09429244825105407 and parameters: {'quantile': 0.29306994099990197, 'learning_rate': 0.10671188791552333, 'max_iter': 99, 'max_leaf_nodes': 93, 'max_depth': 12}. Best is trial 99 with value: -0.056607126115735984.\n",
      "[I 2023-07-25 07:00:57,656] Trial 110 finished with value: -0.08566431412434025 and parameters: {'quantile': 0.28106466553251, 'learning_rate': 1.8525778028509898, 'max_iter': 94, 'max_leaf_nodes': 97, 'max_depth': 12}. Best is trial 99 with value: -0.056607126115735984.\n",
      "[I 2023-07-25 07:01:17,195] Trial 111 finished with value: -0.058033365320996 and parameters: {'quantile': 0.24426736339665045, 'learning_rate': 1.3648386655657347, 'max_iter': 96, 'max_leaf_nodes': 89, 'max_depth': 11}. Best is trial 99 with value: -0.056607126115735984.\n",
      "[I 2023-07-25 07:01:36,885] Trial 112 finished with value: -0.05675319527837776 and parameters: {'quantile': 0.23868008574611863, 'learning_rate': 1.1674049887073934, 'max_iter': 97, 'max_leaf_nodes': 87, 'max_depth': 11}. Best is trial 99 with value: -0.056607126115735984.\n",
      "[I 2023-07-25 07:01:39,321] Trial 113 finished with value: -13.071477737328797 and parameters: {'quantile': 0.21271181425118868, 'learning_rate': 2.292255868538268, 'max_iter': 100, 'max_leaf_nodes': 86, 'max_depth': 12}. Best is trial 99 with value: -0.056607126115735984.\n",
      "[I 2023-07-25 07:01:58,402] Trial 114 finished with value: -0.057151893974951705 and parameters: {'quantile': 0.2747895600322564, 'learning_rate': 1.2329738085194262, 'max_iter': 98, 'max_leaf_nodes': 93, 'max_depth': 11}. Best is trial 99 with value: -0.056607126115735984.\n",
      "[I 2023-07-25 07:02:00,842] Trial 115 finished with value: -151.29280480132883 and parameters: {'quantile': 0.33176225522829633, 'learning_rate': 2.650896132295454, 'max_iter': 98, 'max_leaf_nodes': 94, 'max_depth': 12}. Best is trial 99 with value: -0.056607126115735984.\n",
      "[I 2023-07-25 07:02:19,274] Trial 116 finished with value: -0.08265628178436465 and parameters: {'quantile': 0.26416739906257664, 'learning_rate': 1.8401126206492786, 'max_iter': 93, 'max_leaf_nodes': 98, 'max_depth': 11}. Best is trial 99 with value: -0.056607126115735984.\n",
      "[I 2023-07-25 07:02:37,918] Trial 117 finished with value: -0.0631673696756977 and parameters: {'quantile': 0.3701804903675407, 'learning_rate': 0.3705927963067188, 'max_iter': 98, 'max_leaf_nodes': 92, 'max_depth': 12}. Best is trial 99 with value: -0.056607126115735984.\n",
      "[I 2023-07-25 07:02:57,602] Trial 118 finished with value: -0.057615755155397706 and parameters: {'quantile': 0.30356206710507366, 'learning_rate': 1.354215041819911, 'max_iter': 100, 'max_leaf_nodes': 87, 'max_depth': 12}. Best is trial 99 with value: -0.056607126115735984.\n",
      "[I 2023-07-25 07:03:00,018] Trial 119 finished with value: -2.145670488277086 and parameters: {'quantile': 0.2950175179565806, 'learning_rate': 2.075616274227672, 'max_iter': 93, 'max_leaf_nodes': 96, 'max_depth': 11}. Best is trial 99 with value: -0.056607126115735984.\n",
      "[I 2023-07-25 07:03:02,442] Trial 120 finished with value: -2058.052162571098 and parameters: {'quantile': 0.2398962888055819, 'learning_rate': 3.143260678572796, 'max_iter': 95, 'max_leaf_nodes': 26, 'max_depth': 12}. Best is trial 99 with value: -0.056607126115735984.\n",
      "[I 2023-07-25 07:03:23,752] Trial 121 finished with value: -0.056322446394808046 and parameters: {'quantile': 0.2693981492283317, 'learning_rate': 1.146548816080574, 'max_iter': 99, 'max_leaf_nodes': 100, 'max_depth': 12}. Best is trial 121 with value: -0.056322446394808046.\n",
      "[I 2023-07-25 07:03:43,494] Trial 122 finished with value: -0.059495738077003715 and parameters: {'quantile': 0.2682659845909965, 'learning_rate': 0.4620937195700392, 'max_iter': 97, 'max_leaf_nodes': 100, 'max_depth': 12}. Best is trial 121 with value: -0.056322446394808046.\n",
      "[I 2023-07-25 07:04:02,080] Trial 123 finished with value: -0.0569908904903773 and parameters: {'quantile': 0.2791934820481069, 'learning_rate': 1.090766037676298, 'max_iter': 92, 'max_leaf_nodes': 93, 'max_depth': 12}. Best is trial 121 with value: -0.056322446394808046.\n",
      "[I 2023-07-25 07:04:09,233] Trial 124 finished with value: -0.10159822015442707 and parameters: {'quantile': 0.28319470309254097, 'learning_rate': 1.6800395308347265, 'max_iter': 29, 'max_leaf_nodes': 94, 'max_depth': 12}. Best is trial 121 with value: -0.056322446394808046.\n",
      "[I 2023-07-25 07:04:28,055] Trial 125 finished with value: -0.05679200291317306 and parameters: {'quantile': 0.32730459762563585, 'learning_rate': 1.0379674763847615, 'max_iter': 95, 'max_leaf_nodes': 93, 'max_depth': 11}. Best is trial 121 with value: -0.056322446394808046.\n",
      "[I 2023-07-25 07:04:36,384] Trial 126 finished with value: -0.08480225275427422 and parameters: {'quantile': 0.23430535226070784, 'learning_rate': 0.3843206349742887, 'max_iter': 100, 'max_leaf_nodes': 12, 'max_depth': 11}. Best is trial 121 with value: -0.056322446394808046.\n",
      "[I 2023-07-25 07:04:56,051] Trial 127 finished with value: -0.05662952257750792 and parameters: {'quantile': 0.3252407504317779, 'learning_rate': 0.9928074935506457, 'max_iter': 92, 'max_leaf_nodes': 98, 'max_depth': 11}. Best is trial 121 with value: -0.056322446394808046.\n",
      "[I 2023-07-25 07:05:15,620] Trial 128 finished with value: -0.05712145868954227 and parameters: {'quantile': 0.3436104872814232, 'learning_rate': 0.8568520503355653, 'max_iter': 92, 'max_leaf_nodes': 100, 'max_depth': 11}. Best is trial 121 with value: -0.056322446394808046.\n",
      "[I 2023-07-25 07:05:29,797] Trial 129 finished with value: -0.09553680967319296 and parameters: {'quantile': 0.33331091601677887, 'learning_rate': 0.1173451115416615, 'max_iter': 92, 'max_leaf_nodes': 100, 'max_depth': 11}. Best is trial 121 with value: -0.056322446394808046.\n",
      "[I 2023-07-25 07:05:48,372] Trial 130 finished with value: -0.05717918859984167 and parameters: {'quantile': 0.366937437530381, 'learning_rate': 0.8465003477145319, 'max_iter': 88, 'max_leaf_nodes': 98, 'max_depth': 11}. Best is trial 121 with value: -0.056322446394808046.\n",
      "[I 2023-07-25 07:06:06,518] Trial 131 finished with value: -0.05658844380313406 and parameters: {'quantile': 0.3211236779649526, 'learning_rate': 1.0042695448174295, 'max_iter': 92, 'max_leaf_nodes': 91, 'max_depth': 11}. Best is trial 121 with value: -0.056322446394808046.\n",
      "[I 2023-07-25 07:06:25,331] Trial 132 finished with value: -0.0570764837318858 and parameters: {'quantile': 0.3143005257534243, 'learning_rate': 0.6963755021931024, 'max_iter': 92, 'max_leaf_nodes': 92, 'max_depth': 11}. Best is trial 121 with value: -0.056322446394808046.\n",
      "[I 2023-07-25 07:06:42,816] Trial 133 finished with value: -0.057533660086076535 and parameters: {'quantile': 0.3129513832037784, 'learning_rate': 0.6556621465122768, 'max_iter': 92, 'max_leaf_nodes': 92, 'max_depth': 11}. Best is trial 121 with value: -0.056322446394808046.\n",
      "[I 2023-07-25 07:07:01,037] Trial 134 finished with value: -0.07523516099247299 and parameters: {'quantile': 0.35280660467202396, 'learning_rate': 1.7895962739014384, 'max_iter': 92, 'max_leaf_nodes': 88, 'max_depth': 11}. Best is trial 121 with value: -0.056322446394808046.\n",
      "[I 2023-07-25 07:07:03,479] Trial 135 finished with value: -11.26711507941682 and parameters: {'quantile': 0.33390904419190814, 'learning_rate': 2.2731708012006147, 'max_iter': 95, 'max_leaf_nodes': 98, 'max_depth': 11}. Best is trial 121 with value: -0.056322446394808046.\n",
      "[I 2023-07-25 07:07:11,346] Trial 136 finished with value: -0.0669549564035562 and parameters: {'quantile': 0.30281428310375924, 'learning_rate': 0.8753984818220782, 'max_iter': 38, 'max_leaf_nodes': 85, 'max_depth': 11}. Best is trial 121 with value: -0.056322446394808046.\n",
      "[I 2023-07-25 07:07:28,689] Trial 137 finished with value: -0.06130640017750531 and parameters: {'quantile': 0.31435546529207503, 'learning_rate': 0.5033657517217582, 'max_iter': 87, 'max_leaf_nodes': 91, 'max_depth': 11}. Best is trial 121 with value: -0.056322446394808046.\n",
      "[I 2023-07-25 07:07:31,123] Trial 138 finished with value: -2075343.2337346817 and parameters: {'quantile': 0.36898591173519046, 'learning_rate': 5.279801660739499, 'max_iter': 53, 'max_leaf_nodes': 100, 'max_depth': 11}. Best is trial 121 with value: -0.056322446394808046.\n",
      "[I 2023-07-25 07:07:36,061] Trial 139 finished with value: -0.1569732930707168 and parameters: {'quantile': 0.3399680603877747, 'learning_rate': 1.6653972402142383, 'max_iter': 92, 'max_leaf_nodes': 96, 'max_depth': 1}. Best is trial 121 with value: -0.056322446394808046.\n",
      "[I 2023-07-25 07:07:55,331] Trial 140 finished with value: -0.057236832056841803 and parameters: {'quantile': 0.3224514514304171, 'learning_rate': 1.01785115542395, 'max_iter': 96, 'max_leaf_nodes': 88, 'max_depth': 10}. Best is trial 121 with value: -0.056322446394808046.\n",
      "[I 2023-07-25 07:08:14,013] Trial 141 finished with value: -0.05618177475564471 and parameters: {'quantile': 0.2665857923160117, 'learning_rate': 1.0650971964185865, 'max_iter': 94, 'max_leaf_nodes': 94, 'max_depth': 12}. Best is trial 141 with value: -0.05618177475564471.\n",
      "[I 2023-07-25 07:08:28,807] Trial 142 finished with value: -0.0942104765786568 and parameters: {'quantile': 0.2976233983483365, 'learning_rate': 0.11272733962199921, 'max_iter': 94, 'max_leaf_nodes': 93, 'max_depth': 11}. Best is trial 141 with value: -0.05618177475564471.\n",
      "[I 2023-07-25 07:08:47,681] Trial 143 finished with value: -0.056467484321717644 and parameters: {'quantile': 0.26645339101551435, 'learning_rate': 0.7269118575879151, 'max_iter': 97, 'max_leaf_nodes': 97, 'max_depth': 12}. Best is trial 141 with value: -0.05618177475564471.\n",
      "[I 2023-07-25 07:09:05,841] Trial 144 finished with value: -0.05712432301564792 and parameters: {'quantile': 0.25522301751061194, 'learning_rate': 0.6838541132118462, 'max_iter': 89, 'max_leaf_nodes': 97, 'max_depth': 12}. Best is trial 141 with value: -0.05618177475564471.\n",
      "[I 2023-07-25 07:09:26,103] Trial 145 finished with value: -0.06394857219862407 and parameters: {'quantile': 0.35425797712020823, 'learning_rate': 1.684438973734657, 'max_iter': 96, 'max_leaf_nodes': 95, 'max_depth': 12}. Best is trial 141 with value: -0.05618177475564471.\n",
      "[I 2023-07-25 07:09:28,543] Trial 146 finished with value: -3.280641452645397 and parameters: {'quantile': 0.28189669940102186, 'learning_rate': 2.1241474811475998, 'max_iter': 91, 'max_leaf_nodes': 98, 'max_depth': 12}. Best is trial 141 with value: -0.05618177475564471.\n",
      "[I 2023-07-25 07:09:47,757] Trial 147 finished with value: -0.05604655404756518 and parameters: {'quantile': 0.26280896325464864, 'learning_rate': 0.955749973576953, 'max_iter': 94, 'max_leaf_nodes': 100, 'max_depth': 12}. Best is trial 147 with value: -0.05604655404756518.\n",
      "[I 2023-07-25 07:09:50,149] Trial 148 finished with value: -2581493909.516844 and parameters: {'quantile': 0.2594651713799269, 'learning_rate': 9.727588083462395, 'max_iter': 98, 'max_leaf_nodes': 91, 'max_depth': 12}. Best is trial 147 with value: -0.05604655404756518.\n",
      "[I 2023-07-25 07:09:53,491] Trial 149 finished with value: -31577.52550580119 and parameters: {'quantile': 0.30117580954028433, 'learning_rate': 3.8161781686688414, 'max_iter': 94, 'max_leaf_nodes': 95, 'max_depth': 12}. Best is trial 147 with value: -0.05604655404756518.\n",
      "[I 2023-07-25 07:09:55,860] Trial 150 finished with value: -150.50984689541696 and parameters: {'quantile': 0.25163610121224456, 'learning_rate': 2.6500398436825456, 'max_iter': 88, 'max_leaf_nodes': 34, 'max_depth': 12}. Best is trial 147 with value: -0.05604655404756518.\n",
      "[I 2023-07-25 07:10:14,666] Trial 151 finished with value: -0.05604296858112161 and parameters: {'quantile': 0.3256486582692958, 'learning_rate': 0.9432840579268196, 'max_iter': 91, 'max_leaf_nodes': 100, 'max_depth': 12}. Best is trial 151 with value: -0.05604296858112161.\n",
      "[I 2023-07-25 07:10:34,118] Trial 152 finished with value: -0.05868893016883361 and parameters: {'quantile': 0.3189444458657147, 'learning_rate': 0.4965485757883348, 'max_iter': 96, 'max_leaf_nodes': 98, 'max_depth': 12}. Best is trial 151 with value: -0.05604296858112161.\n",
      "[I 2023-07-25 07:10:53,340] Trial 153 finished with value: -0.056261759489425536 and parameters: {'quantile': 0.27871836061534355, 'learning_rate': 1.0021281503562647, 'max_iter': 94, 'max_leaf_nodes': 97, 'max_depth': 12}. Best is trial 151 with value: -0.05604296858112161.\n",
      "[I 2023-07-25 07:11:13,955] Trial 154 finished with value: -0.05627924429452481 and parameters: {'quantile': 0.27323229573521735, 'learning_rate': 1.0196017596952984, 'max_iter': 97, 'max_leaf_nodes': 96, 'max_depth': 12}. Best is trial 151 with value: -0.05604296858112161.\n",
      "[I 2023-07-25 07:11:34,072] Trial 155 finished with value: -0.06254138031358998 and parameters: {'quantile': 0.23628356237465917, 'learning_rate': 1.624292542231452, 'max_iter': 94, 'max_leaf_nodes': 97, 'max_depth': 12}. Best is trial 151 with value: -0.05604296858112161.\n",
      "[I 2023-07-25 07:11:52,467] Trial 156 finished with value: -0.05666746294057499 and parameters: {'quantile': 0.28875831294072013, 'learning_rate': 1.0941081526422247, 'max_iter': 90, 'max_leaf_nodes': 100, 'max_depth': 12}. Best is trial 151 with value: -0.05604296858112161.\n",
      "[I 2023-07-25 07:11:54,844] Trial 157 finished with value: -20787215263.410675 and parameters: {'quantile': 0.29604134959761963, 'learning_rate': 11.75190452448003, 'max_iter': 90, 'max_leaf_nodes': 100, 'max_depth': 12}. Best is trial 151 with value: -0.05604296858112161.\n",
      "[I 2023-07-25 07:11:57,331] Trial 158 finished with value: -1.1759688427055313 and parameters: {'quantile': 0.22629508725852807, 'learning_rate': 2.0049612713209823, 'max_iter': 100, 'max_leaf_nodes': 96, 'max_depth': 12}. Best is trial 151 with value: -0.05604296858112161.\n",
      "[I 2023-07-25 07:12:12,614] Trial 159 finished with value: -0.09424329950786182 and parameters: {'quantile': 0.3867027714784091, 'learning_rate': 0.10612395357145588, 'max_iter': 96, 'max_leaf_nodes': 98, 'max_depth': 12}. Best is trial 151 with value: -0.05604296858112161.\n",
      "[I 2023-07-25 07:12:33,011] Trial 160 finished with value: -0.05938131386884472 and parameters: {'quantile': 0.26155128275991835, 'learning_rate': 1.5364126026552225, 'max_iter': 97, 'max_leaf_nodes': 96, 'max_depth': 12}. Best is trial 151 with value: -0.05604296858112161.\n",
      "[I 2023-07-25 07:12:52,195] Trial 161 finished with value: -0.056280054184666736 and parameters: {'quantile': 0.28188262276674, 'learning_rate': 0.9753440227326258, 'max_iter': 94, 'max_leaf_nodes': 100, 'max_depth': 12}. Best is trial 151 with value: -0.05604296858112161.\n",
      "[I 2023-07-25 07:13:12,607] Trial 162 finished with value: -0.056116850065349555 and parameters: {'quantile': 0.288744958696315, 'learning_rate': 0.9580573109514893, 'max_iter': 94, 'max_leaf_nodes': 100, 'max_depth': 12}. Best is trial 151 with value: -0.05604296858112161.\n",
      "[I 2023-07-25 07:13:32,671] Trial 163 finished with value: -0.056109157280314646 and parameters: {'quantile': 0.290304877987838, 'learning_rate': 0.942928302868157, 'max_iter': 94, 'max_leaf_nodes': 100, 'max_depth': 12}. Best is trial 151 with value: -0.05604296858112161.\n",
      "[I 2023-07-25 07:13:50,589] Trial 164 finished with value: -0.056921258552956176 and parameters: {'quantile': 0.2749105565419752, 'learning_rate': 0.8514265266024863, 'max_iter': 90, 'max_leaf_nodes': 100, 'max_depth': 12}. Best is trial 151 with value: -0.05604296858112161.\n",
      "[I 2023-07-25 07:14:09,534] Trial 165 finished with value: -0.05860288966689416 and parameters: {'quantile': 0.32818540951383945, 'learning_rate': 0.47983344192833677, 'max_iter': 94, 'max_leaf_nodes': 100, 'max_depth': 12}. Best is trial 151 with value: -0.05604296858112161.\n",
      "[I 2023-07-25 07:14:11,922] Trial 166 finished with value: -99518711.23929557 and parameters: {'quantile': 0.25229952197740196, 'learning_rate': 7.302319100991521, 'max_iter': 88, 'max_leaf_nodes': 98, 'max_depth': 12}. Best is trial 151 with value: -0.05604296858112161.\n",
      "[I 2023-07-25 07:14:30,817] Trial 167 finished with value: -0.05642852257308558 and parameters: {'quantile': 0.30682315687418105, 'learning_rate': 0.9916283088189477, 'max_iter': 95, 'max_leaf_nodes': 96, 'max_depth': 12}. Best is trial 151 with value: -0.05604296858112161.\n",
      "[I 2023-07-25 07:14:48,130] Trial 168 finished with value: -0.06156090656988632 and parameters: {'quantile': 0.30112911182158536, 'learning_rate': 0.4694375285750211, 'max_iter': 86, 'max_leaf_nodes': 96, 'max_depth': 12}. Best is trial 151 with value: -0.05604296858112161.\n",
      "[I 2023-07-25 07:15:08,028] Trial 169 finished with value: -0.06227338113918361 and parameters: {'quantile': 0.2842663263408124, 'learning_rate': 1.6096224554787675, 'max_iter': 93, 'max_leaf_nodes': 100, 'max_depth': 12}. Best is trial 151 with value: -0.05604296858112161.\n",
      "[I 2023-07-25 07:15:10,411] Trial 170 finished with value: -12.014815620024882 and parameters: {'quantile': 0.2645194063208317, 'learning_rate': 2.2813923611570255, 'max_iter': 91, 'max_leaf_nodes': 98, 'max_depth': 12}. Best is trial 151 with value: -0.05604296858112161.\n",
      "[I 2023-07-25 07:15:28,868] Trial 171 finished with value: -0.05640028239094826 and parameters: {'quantile': 0.3022198305494111, 'learning_rate': 0.8028643067209902, 'max_iter': 95, 'max_leaf_nodes': 95, 'max_depth': 12}. Best is trial 151 with value: -0.05604296858112161.\n",
      "[I 2023-07-25 07:15:48,613] Trial 172 finished with value: -0.056614639243489126 and parameters: {'quantile': 0.30862606038548956, 'learning_rate': 0.8347279188374981, 'max_iter': 95, 'max_leaf_nodes': 96, 'max_depth': 12}. Best is trial 151 with value: -0.05604296858112161.\n",
      "[I 2023-07-25 07:16:06,666] Trial 173 finished with value: -0.056561122119939466 and parameters: {'quantile': 0.3071411629218639, 'learning_rate': 0.8037836928535886, 'max_iter': 94, 'max_leaf_nodes': 96, 'max_depth': 12}. Best is trial 151 with value: -0.05604296858112161.\n",
      "[I 2023-07-25 07:16:25,881] Trial 174 finished with value: -0.056990231788657884 and parameters: {'quantile': 0.31493825338740306, 'learning_rate': 0.8227701809950055, 'max_iter': 94, 'max_leaf_nodes': 95, 'max_depth': 12}. Best is trial 151 with value: -0.05604296858112161.\n",
      "[I 2023-07-25 07:16:43,583] Trial 175 finished with value: -0.061889865921013684 and parameters: {'quantile': 0.30056716251573085, 'learning_rate': 0.4342114634624066, 'max_iter': 90, 'max_leaf_nodes': 99, 'max_depth': 12}. Best is trial 151 with value: -0.05604296858112161.\n",
      "[I 2023-07-25 07:16:46,021] Trial 176 finished with value: -209356.06070055888 and parameters: {'quantile': 0.29002834459796034, 'learning_rate': 4.402569521537932, 'max_iter': 10, 'max_leaf_nodes': 96, 'max_depth': 12}. Best is trial 151 with value: -0.05604296858112161.\n",
      "[I 2023-07-25 07:16:48,457] Trial 177 finished with value: -347941248.28127235 and parameters: {'quantile': 0.34163993304161816, 'learning_rate': 8.142649301712478, 'max_iter': 95, 'max_leaf_nodes': 100, 'max_depth': 12}. Best is trial 151 with value: -0.05604296858112161.\n",
      "[I 2023-07-25 07:16:54,366] Trial 178 finished with value: -0.10111432106438026 and parameters: {'quantile': 0.31313245415743446, 'learning_rate': 0.8044997535752563, 'max_iter': 93, 'max_leaf_nodes': 97, 'max_depth': 2}. Best is trial 151 with value: -0.05604296858112161.\n",
      "[I 2023-07-25 07:17:13,453] Trial 179 finished with value: -0.060569721543293806 and parameters: {'quantile': 0.33663119554917115, 'learning_rate': 1.5126757975824026, 'max_iter': 89, 'max_leaf_nodes': 95, 'max_depth': 12}. Best is trial 151 with value: -0.05604296858112161.\n",
      "[I 2023-07-25 07:17:29,233] Trial 180 finished with value: -0.07154411708707141 and parameters: {'quantile': 0.2807684820638038, 'learning_rate': 0.318008671520688, 'max_iter': 91, 'max_leaf_nodes': 98, 'max_depth': 12}. Best is trial 151 with value: -0.05604296858112161.\n",
      "[I 2023-07-25 07:17:50,254] Trial 181 finished with value: -0.05638612894166878 and parameters: {'quantile': 0.26390302541375804, 'learning_rate': 1.0589564125565638, 'max_iter': 99, 'max_leaf_nodes': 98, 'max_depth': 12}. Best is trial 151 with value: -0.05604296858112161.\n",
      "[I 2023-07-25 07:18:09,736] Trial 182 finished with value: -0.05619426282076554 and parameters: {'quantile': 0.305532814895714, 'learning_rate': 0.9694462558294807, 'max_iter': 96, 'max_leaf_nodes': 100, 'max_depth': 12}. Best is trial 151 with value: -0.05604296858112161.\n",
      "[I 2023-07-25 07:18:29,958] Trial 183 finished with value: -0.05649864333644905 and parameters: {'quantile': 0.32595105379893946, 'learning_rate': 0.7059186666045003, 'max_iter': 100, 'max_leaf_nodes': 94, 'max_depth': 12}. Best is trial 151 with value: -0.05604296858112161.\n",
      "[I 2023-07-25 07:18:32,339] Trial 184 finished with value: -33922803.710421324 and parameters: {'quantile': 0.3568547005664679, 'learning_rate': 6.659267558059915, 'max_iter': 100, 'max_leaf_nodes': 90, 'max_depth': 12}. Best is trial 151 with value: -0.05604296858112161.\n",
      "[I 2023-07-25 07:18:52,396] Trial 185 finished with value: -0.05749350388762077 and parameters: {'quantile': 0.30580987750442623, 'learning_rate': 0.566806497636267, 'max_iter': 98, 'max_leaf_nodes': 94, 'max_depth': 12}. Best is trial 151 with value: -0.05604296858112161.\n",
      "[I 2023-07-25 07:19:10,268] Trial 186 finished with value: -0.07516053133130506 and parameters: {'quantile': 0.25783989341355223, 'learning_rate': 1.815685357140286, 'max_iter': 96, 'max_leaf_nodes': 96, 'max_depth': 12}. Best is trial 151 with value: -0.05604296858112161.\n",
      "[I 2023-07-25 07:19:26,109] Trial 187 finished with value: -0.08906611579206639 and parameters: {'quantile': 0.4698740372917819, 'learning_rate': 0.14424912777692833, 'max_iter': 99, 'max_leaf_nodes': 92, 'max_depth': 12}. Best is trial 151 with value: -0.05604296858112161.\n",
      "[I 2023-07-25 07:19:44,682] Trial 188 finished with value: -0.056498295592709226 and parameters: {'quantile': 0.27532058515653296, 'learning_rate': 0.8400188568027038, 'max_iter': 96, 'max_leaf_nodes': 94, 'max_depth': 12}. Best is trial 151 with value: -0.05604296858112161.\n",
      "[I 2023-07-25 07:20:05,640] Trial 189 finished with value: -0.059540428827728885 and parameters: {'quantile': 0.2744286929585001, 'learning_rate': 1.524674795033775, 'max_iter': 100, 'max_leaf_nodes': 94, 'max_depth': 12}. Best is trial 151 with value: -0.05604296858112161.\n",
      "[I 2023-07-25 07:20:25,628] Trial 190 finished with value: -0.05648009330914292 and parameters: {'quantile': 0.2408509104445804, 'learning_rate': 1.0189980212563026, 'max_iter': 97, 'max_leaf_nodes': 91, 'max_depth': 12}. Best is trial 151 with value: -0.05604296858112161.\n",
      "[I 2023-07-25 07:20:44,492] Trial 191 finished with value: -0.05623048382997868 and parameters: {'quantile': 0.2491466579833396, 'learning_rate': 0.9863033632093456, 'max_iter': 97, 'max_leaf_nodes': 90, 'max_depth': 12}. Best is trial 151 with value: -0.05604296858112161.\n",
      "[I 2023-07-25 07:21:03,672] Trial 192 finished with value: -0.057424229031424225 and parameters: {'quantile': 0.25051718478417856, 'learning_rate': 0.6119521650488144, 'max_iter': 96, 'max_leaf_nodes': 92, 'max_depth': 12}. Best is trial 151 with value: -0.05604296858112161.\n",
      "[I 2023-07-25 07:21:23,723] Trial 193 finished with value: -0.056387964692603224 and parameters: {'quantile': 0.23927700102058558, 'learning_rate': 1.0046155744805767, 'max_iter': 97, 'max_leaf_nodes': 90, 'max_depth': 12}. Best is trial 151 with value: -0.05604296858112161.\n",
      "[I 2023-07-25 07:21:37,957] Trial 194 finished with value: -0.09506071542833575 and parameters: {'quantile': 0.2332259647300979, 'learning_rate': 0.10743986082410706, 'max_iter': 97, 'max_leaf_nodes': 89, 'max_depth': 12}. Best is trial 151 with value: -0.05604296858112161.\n",
      "[I 2023-07-25 07:21:58,161] Trial 195 finished with value: -0.05818404394984322 and parameters: {'quantile': 0.24522567920527638, 'learning_rate': 1.4629432748731444, 'max_iter': 95, 'max_leaf_nodes': 98, 'max_depth': 12}. Best is trial 151 with value: -0.05604296858112161.\n",
      "[I 2023-07-25 07:22:00,548] Trial 196 finished with value: -13156448.392541068 and parameters: {'quantile': 0.27362247372534887, 'learning_rate': 6.147851712815718, 'max_iter': 98, 'max_leaf_nodes': 100, 'max_depth': 12}. Best is trial 151 with value: -0.05604296858112161.\n",
      "[I 2023-07-25 07:22:19,546] Trial 197 finished with value: -0.0565539662441906 and parameters: {'quantile': 0.26234985740775585, 'learning_rate': 0.713444166068893, 'max_iter': 100, 'max_leaf_nodes': 94, 'max_depth': 12}. Best is trial 151 with value: -0.05604296858112161.\n",
      "[I 2023-07-25 07:22:40,408] Trial 198 finished with value: -0.056216310791091594 and parameters: {'quantile': 0.2626459871926569, 'learning_rate': 1.1157869301166166, 'max_iter': 100, 'max_leaf_nodes': 94, 'max_depth': 12}. Best is trial 151 with value: -0.05604296858112161.\n",
      "[I 2023-07-25 07:22:50,205] Trial 199 finished with value: -0.6770112136567057 and parameters: {'quantile': 0.226774853898687, 'learning_rate': 1.992657805880913, 'max_iter': 98, 'max_leaf_nodes': 91, 'max_depth': 12}. Best is trial 151 with value: -0.05604296858112161.\n"
     ]
    }
   ],
   "source": [
    "# Optimize the study, use more trials to obtain better result, use less trials to be more cost-efficient\n",
    "study.optimize(hgbr_objective, n_trials=200) # Use more"
   ]
  },
  {
   "cell_type": "code",
   "execution_count": 33,
   "id": "203e2898",
   "metadata": {
    "execution": {
     "iopub.execute_input": "2023-07-25T07:22:50.289897Z",
     "iopub.status.busy": "2023-07-25T07:22:50.288736Z",
     "iopub.status.idle": "2023-07-25T07:22:50.293930Z",
     "shell.execute_reply": "2023-07-25T07:22:50.293107Z"
    },
    "papermill": {
     "duration": 0.045652,
     "end_time": "2023-07-25T07:22:50.296120",
     "exception": false,
     "start_time": "2023-07-25T07:22:50.250468",
     "status": "completed"
    },
    "tags": []
   },
   "outputs": [],
   "source": [
    "# Print the result\n",
    "best_params = study.best_params\n",
    "best_score = study.best_value"
   ]
  },
  {
   "cell_type": "code",
   "execution_count": 34,
   "id": "8aaae4a3",
   "metadata": {
    "execution": {
     "iopub.execute_input": "2023-07-25T07:22:50.371596Z",
     "iopub.status.busy": "2023-07-25T07:22:50.370847Z",
     "iopub.status.idle": "2023-07-25T07:22:50.376821Z",
     "shell.execute_reply": "2023-07-25T07:22:50.375742Z"
    },
    "papermill": {
     "duration": 0.046423,
     "end_time": "2023-07-25T07:22:50.379068",
     "exception": false,
     "start_time": "2023-07-25T07:22:50.332645",
     "status": "completed"
    },
    "tags": []
   },
   "outputs": [
    {
     "data": {
      "text/plain": [
       "-0.05604296858112161"
      ]
     },
     "execution_count": 34,
     "metadata": {},
     "output_type": "execute_result"
    }
   ],
   "source": [
    "best_score"
   ]
  },
  {
   "cell_type": "code",
   "execution_count": 35,
   "id": "72ec6620",
   "metadata": {
    "execution": {
     "iopub.execute_input": "2023-07-25T07:22:50.455568Z",
     "iopub.status.busy": "2023-07-25T07:22:50.455149Z",
     "iopub.status.idle": "2023-07-25T07:22:50.459638Z",
     "shell.execute_reply": "2023-07-25T07:22:50.458771Z"
    },
    "papermill": {
     "duration": 0.045643,
     "end_time": "2023-07-25T07:22:50.462087",
     "exception": false,
     "start_time": "2023-07-25T07:22:50.416444",
     "status": "completed"
    },
    "tags": []
   },
   "outputs": [],
   "source": [
    "hgbr= HistGradientBoostingRegressor(**best_params,random_state=42)"
   ]
  },
  {
   "cell_type": "code",
   "execution_count": 36,
   "id": "ca1b3a8a",
   "metadata": {
    "execution": {
     "iopub.execute_input": "2023-07-25T07:22:50.537904Z",
     "iopub.status.busy": "2023-07-25T07:22:50.537501Z",
     "iopub.status.idle": "2023-07-25T07:22:52.763334Z",
     "shell.execute_reply": "2023-07-25T07:22:52.762097Z"
    },
    "papermill": {
     "duration": 2.266964,
     "end_time": "2023-07-25T07:22:52.765874",
     "exception": false,
     "start_time": "2023-07-25T07:22:50.498910",
     "status": "completed"
    },
    "tags": []
   },
   "outputs": [
    {
     "data": {
      "text/html": [
       "<style>#sk-container-id-1 {color: black;background-color: white;}#sk-container-id-1 pre{padding: 0;}#sk-container-id-1 div.sk-toggleable {background-color: white;}#sk-container-id-1 label.sk-toggleable__label {cursor: pointer;display: block;width: 100%;margin-bottom: 0;padding: 0.3em;box-sizing: border-box;text-align: center;}#sk-container-id-1 label.sk-toggleable__label-arrow:before {content: \"▸\";float: left;margin-right: 0.25em;color: #696969;}#sk-container-id-1 label.sk-toggleable__label-arrow:hover:before {color: black;}#sk-container-id-1 div.sk-estimator:hover label.sk-toggleable__label-arrow:before {color: black;}#sk-container-id-1 div.sk-toggleable__content {max-height: 0;max-width: 0;overflow: hidden;text-align: left;background-color: #f0f8ff;}#sk-container-id-1 div.sk-toggleable__content pre {margin: 0.2em;color: black;border-radius: 0.25em;background-color: #f0f8ff;}#sk-container-id-1 input.sk-toggleable__control:checked~div.sk-toggleable__content {max-height: 200px;max-width: 100%;overflow: auto;}#sk-container-id-1 input.sk-toggleable__control:checked~label.sk-toggleable__label-arrow:before {content: \"▾\";}#sk-container-id-1 div.sk-estimator input.sk-toggleable__control:checked~label.sk-toggleable__label {background-color: #d4ebff;}#sk-container-id-1 div.sk-label input.sk-toggleable__control:checked~label.sk-toggleable__label {background-color: #d4ebff;}#sk-container-id-1 input.sk-hidden--visually {border: 0;clip: rect(1px 1px 1px 1px);clip: rect(1px, 1px, 1px, 1px);height: 1px;margin: -1px;overflow: hidden;padding: 0;position: absolute;width: 1px;}#sk-container-id-1 div.sk-estimator {font-family: monospace;background-color: #f0f8ff;border: 1px dotted black;border-radius: 0.25em;box-sizing: border-box;margin-bottom: 0.5em;}#sk-container-id-1 div.sk-estimator:hover {background-color: #d4ebff;}#sk-container-id-1 div.sk-parallel-item::after {content: \"\";width: 100%;border-bottom: 1px solid gray;flex-grow: 1;}#sk-container-id-1 div.sk-label:hover label.sk-toggleable__label {background-color: #d4ebff;}#sk-container-id-1 div.sk-serial::before {content: \"\";position: absolute;border-left: 1px solid gray;box-sizing: border-box;top: 0;bottom: 0;left: 50%;z-index: 0;}#sk-container-id-1 div.sk-serial {display: flex;flex-direction: column;align-items: center;background-color: white;padding-right: 0.2em;padding-left: 0.2em;position: relative;}#sk-container-id-1 div.sk-item {position: relative;z-index: 1;}#sk-container-id-1 div.sk-parallel {display: flex;align-items: stretch;justify-content: center;background-color: white;position: relative;}#sk-container-id-1 div.sk-item::before, #sk-container-id-1 div.sk-parallel-item::before {content: \"\";position: absolute;border-left: 1px solid gray;box-sizing: border-box;top: 0;bottom: 0;left: 50%;z-index: -1;}#sk-container-id-1 div.sk-parallel-item {display: flex;flex-direction: column;z-index: 1;position: relative;background-color: white;}#sk-container-id-1 div.sk-parallel-item:first-child::after {align-self: flex-end;width: 50%;}#sk-container-id-1 div.sk-parallel-item:last-child::after {align-self: flex-start;width: 50%;}#sk-container-id-1 div.sk-parallel-item:only-child::after {width: 0;}#sk-container-id-1 div.sk-dashed-wrapped {border: 1px dashed gray;margin: 0 0.4em 0.5em 0.4em;box-sizing: border-box;padding-bottom: 0.4em;background-color: white;}#sk-container-id-1 div.sk-label label {font-family: monospace;font-weight: bold;display: inline-block;line-height: 1.2em;}#sk-container-id-1 div.sk-label-container {text-align: center;}#sk-container-id-1 div.sk-container {/* jupyter's `normalize.less` sets `[hidden] { display: none; }` but bootstrap.min.css set `[hidden] { display: none !important; }` so we also need the `!important` here to be able to override the default hidden behavior on the sphinx rendered scikit-learn.org. See: https://github.com/scikit-learn/scikit-learn/issues/21755 */display: inline-block !important;position: relative;}#sk-container-id-1 div.sk-text-repr-fallback {display: none;}</style><div id=\"sk-container-id-1\" class=\"sk-top-container\"><div class=\"sk-text-repr-fallback\"><pre>HistGradientBoostingRegressor(learning_rate=0.9432840579268196, max_depth=12,\n",
       "                              max_iter=91, max_leaf_nodes=100,\n",
       "                              quantile=0.3256486582692958, random_state=42)</pre><b>In a Jupyter environment, please rerun this cell to show the HTML representation or trust the notebook. <br />On GitHub, the HTML representation is unable to render, please try loading this page with nbviewer.org.</b></div><div class=\"sk-container\" hidden><div class=\"sk-item\"><div class=\"sk-estimator sk-toggleable\"><input class=\"sk-toggleable__control sk-hidden--visually\" id=\"sk-estimator-id-1\" type=\"checkbox\" checked><label for=\"sk-estimator-id-1\" class=\"sk-toggleable__label sk-toggleable__label-arrow\">HistGradientBoostingRegressor</label><div class=\"sk-toggleable__content\"><pre>HistGradientBoostingRegressor(learning_rate=0.9432840579268196, max_depth=12,\n",
       "                              max_iter=91, max_leaf_nodes=100,\n",
       "                              quantile=0.3256486582692958, random_state=42)</pre></div></div></div></div></div>"
      ],
      "text/plain": [
       "HistGradientBoostingRegressor(learning_rate=0.9432840579268196, max_depth=12,\n",
       "                              max_iter=91, max_leaf_nodes=100,\n",
       "                              quantile=0.3256486582692958, random_state=42)"
      ]
     },
     "execution_count": 36,
     "metadata": {},
     "output_type": "execute_result"
    }
   ],
   "source": [
    "hgbr.fit(X,y)"
   ]
  },
  {
   "cell_type": "code",
   "execution_count": 37,
   "id": "2fc70b3e",
   "metadata": {
    "execution": {
     "iopub.execute_input": "2023-07-25T07:22:52.843917Z",
     "iopub.status.busy": "2023-07-25T07:22:52.843527Z",
     "iopub.status.idle": "2023-07-25T07:22:52.863820Z",
     "shell.execute_reply": "2023-07-25T07:22:52.862875Z"
    },
    "papermill": {
     "duration": 0.0626,
     "end_time": "2023-07-25T07:22:52.866941",
     "exception": false,
     "start_time": "2023-07-25T07:22:52.804341",
     "status": "completed"
    },
    "tags": []
   },
   "outputs": [
    {
     "data": {
      "text/html": [
       "<div>\n",
       "<style scoped>\n",
       "    .dataframe tbody tr th:only-of-type {\n",
       "        vertical-align: middle;\n",
       "    }\n",
       "\n",
       "    .dataframe tbody tr th {\n",
       "        vertical-align: top;\n",
       "    }\n",
       "\n",
       "    .dataframe thead th {\n",
       "        text-align: right;\n",
       "    }\n",
       "</style>\n",
       "<table border=\"1\" class=\"dataframe\">\n",
       "  <thead>\n",
       "    <tr style=\"text-align: right;\">\n",
       "      <th></th>\n",
       "      <th>id</th>\n",
       "      <th>country</th>\n",
       "      <th>store</th>\n",
       "      <th>product</th>\n",
       "      <th>day</th>\n",
       "      <th>month</th>\n",
       "      <th>year</th>\n",
       "      <th>is_argentina_holiday</th>\n",
       "      <th>is_canada_holiday</th>\n",
       "      <th>is_estonia_holiday</th>\n",
       "      <th>is_japan_holiday</th>\n",
       "      <th>is_spain_holiday</th>\n",
       "      <th>day_of_month</th>\n",
       "      <th>quarter</th>\n",
       "      <th>month_sin</th>\n",
       "      <th>month_cos</th>\n",
       "      <th>day_sin</th>\n",
       "      <th>day_cos</th>\n",
       "    </tr>\n",
       "  </thead>\n",
       "  <tbody>\n",
       "    <tr>\n",
       "      <th>0</th>\n",
       "      <td>136950</td>\n",
       "      <td>65.712922</td>\n",
       "      <td>61.909528</td>\n",
       "      <td>227.768216</td>\n",
       "      <td>1</td>\n",
       "      <td>1</td>\n",
       "      <td>2022</td>\n",
       "      <td>1</td>\n",
       "      <td>1</td>\n",
       "      <td>1</td>\n",
       "      <td>1</td>\n",
       "      <td>1</td>\n",
       "      <td>1</td>\n",
       "      <td>1</td>\n",
       "      <td>0.5</td>\n",
       "      <td>0.866025</td>\n",
       "      <td>0.201299</td>\n",
       "      <td>0.97953</td>\n",
       "    </tr>\n",
       "    <tr>\n",
       "      <th>1</th>\n",
       "      <td>136951</td>\n",
       "      <td>65.712922</td>\n",
       "      <td>61.909528</td>\n",
       "      <td>222.596169</td>\n",
       "      <td>1</td>\n",
       "      <td>1</td>\n",
       "      <td>2022</td>\n",
       "      <td>1</td>\n",
       "      <td>1</td>\n",
       "      <td>1</td>\n",
       "      <td>1</td>\n",
       "      <td>1</td>\n",
       "      <td>1</td>\n",
       "      <td>1</td>\n",
       "      <td>0.5</td>\n",
       "      <td>0.866025</td>\n",
       "      <td>0.201299</td>\n",
       "      <td>0.97953</td>\n",
       "    </tr>\n",
       "    <tr>\n",
       "      <th>2</th>\n",
       "      <td>136952</td>\n",
       "      <td>65.712922</td>\n",
       "      <td>61.909528</td>\n",
       "      <td>34.762737</td>\n",
       "      <td>1</td>\n",
       "      <td>1</td>\n",
       "      <td>2022</td>\n",
       "      <td>1</td>\n",
       "      <td>1</td>\n",
       "      <td>1</td>\n",
       "      <td>1</td>\n",
       "      <td>1</td>\n",
       "      <td>1</td>\n",
       "      <td>1</td>\n",
       "      <td>0.5</td>\n",
       "      <td>0.866025</td>\n",
       "      <td>0.201299</td>\n",
       "      <td>0.97953</td>\n",
       "    </tr>\n",
       "    <tr>\n",
       "      <th>3</th>\n",
       "      <td>136953</td>\n",
       "      <td>65.712922</td>\n",
       "      <td>61.909528</td>\n",
       "      <td>190.187786</td>\n",
       "      <td>1</td>\n",
       "      <td>1</td>\n",
       "      <td>2022</td>\n",
       "      <td>1</td>\n",
       "      <td>1</td>\n",
       "      <td>1</td>\n",
       "      <td>1</td>\n",
       "      <td>1</td>\n",
       "      <td>1</td>\n",
       "      <td>1</td>\n",
       "      <td>0.5</td>\n",
       "      <td>0.866025</td>\n",
       "      <td>0.201299</td>\n",
       "      <td>0.97953</td>\n",
       "    </tr>\n",
       "    <tr>\n",
       "      <th>4</th>\n",
       "      <td>136954</td>\n",
       "      <td>65.712922</td>\n",
       "      <td>61.909528</td>\n",
       "      <td>173.170344</td>\n",
       "      <td>1</td>\n",
       "      <td>1</td>\n",
       "      <td>2022</td>\n",
       "      <td>1</td>\n",
       "      <td>1</td>\n",
       "      <td>1</td>\n",
       "      <td>1</td>\n",
       "      <td>1</td>\n",
       "      <td>1</td>\n",
       "      <td>1</td>\n",
       "      <td>0.5</td>\n",
       "      <td>0.866025</td>\n",
       "      <td>0.201299</td>\n",
       "      <td>0.97953</td>\n",
       "    </tr>\n",
       "  </tbody>\n",
       "</table>\n",
       "</div>"
      ],
      "text/plain": [
       "       id    country      store     product  day  month  year  \\\n",
       "0  136950  65.712922  61.909528  227.768216    1      1  2022   \n",
       "1  136951  65.712922  61.909528  222.596169    1      1  2022   \n",
       "2  136952  65.712922  61.909528   34.762737    1      1  2022   \n",
       "3  136953  65.712922  61.909528  190.187786    1      1  2022   \n",
       "4  136954  65.712922  61.909528  173.170344    1      1  2022   \n",
       "\n",
       "   is_argentina_holiday  is_canada_holiday  is_estonia_holiday  \\\n",
       "0                     1                  1                   1   \n",
       "1                     1                  1                   1   \n",
       "2                     1                  1                   1   \n",
       "3                     1                  1                   1   \n",
       "4                     1                  1                   1   \n",
       "\n",
       "   is_japan_holiday  is_spain_holiday  day_of_month  quarter  month_sin  \\\n",
       "0                 1                 1             1        1        0.5   \n",
       "1                 1                 1             1        1        0.5   \n",
       "2                 1                 1             1        1        0.5   \n",
       "3                 1                 1             1        1        0.5   \n",
       "4                 1                 1             1        1        0.5   \n",
       "\n",
       "   month_cos   day_sin  day_cos  \n",
       "0   0.866025  0.201299  0.97953  \n",
       "1   0.866025  0.201299  0.97953  \n",
       "2   0.866025  0.201299  0.97953  \n",
       "3   0.866025  0.201299  0.97953  \n",
       "4   0.866025  0.201299  0.97953  "
      ]
     },
     "execution_count": 37,
     "metadata": {},
     "output_type": "execute_result"
    }
   ],
   "source": [
    "test.head()"
   ]
  },
  {
   "cell_type": "code",
   "execution_count": 38,
   "id": "97baed4b",
   "metadata": {
    "execution": {
     "iopub.execute_input": "2023-07-25T07:22:52.945879Z",
     "iopub.status.busy": "2023-07-25T07:22:52.945389Z",
     "iopub.status.idle": "2023-07-25T07:22:53.025143Z",
     "shell.execute_reply": "2023-07-25T07:22:53.024028Z"
    },
    "papermill": {
     "duration": 0.123744,
     "end_time": "2023-07-25T07:22:53.028270",
     "exception": false,
     "start_time": "2023-07-25T07:22:52.904526",
     "status": "completed"
    },
    "tags": []
   },
   "outputs": [],
   "source": [
    "prediction = hgbr.predict(test)"
   ]
  },
  {
   "cell_type": "code",
   "execution_count": 39,
   "id": "1c773263",
   "metadata": {
    "execution": {
     "iopub.execute_input": "2023-07-25T07:22:53.110010Z",
     "iopub.status.busy": "2023-07-25T07:22:53.109269Z",
     "iopub.status.idle": "2023-07-25T07:22:53.115390Z",
     "shell.execute_reply": "2023-07-25T07:22:53.114235Z"
    },
    "papermill": {
     "duration": 0.047973,
     "end_time": "2023-07-25T07:22:53.117682",
     "exception": false,
     "start_time": "2023-07-25T07:22:53.069709",
     "status": "completed"
    },
    "tags": []
   },
   "outputs": [],
   "source": [
    "prediction=np.expm1(prediction)"
   ]
  },
  {
   "cell_type": "code",
   "execution_count": 40,
   "id": "7f5295a3",
   "metadata": {
    "execution": {
     "iopub.execute_input": "2023-07-25T07:22:53.194455Z",
     "iopub.status.busy": "2023-07-25T07:22:53.193486Z",
     "iopub.status.idle": "2023-07-25T07:22:53.200514Z",
     "shell.execute_reply": "2023-07-25T07:22:53.199352Z"
    },
    "papermill": {
     "duration": 0.04791,
     "end_time": "2023-07-25T07:22:53.202915",
     "exception": false,
     "start_time": "2023-07-25T07:22:53.155005",
     "status": "completed"
    },
    "tags": []
   },
   "outputs": [],
   "source": [
    "output=pd.DataFrame({'id':test.id,'country':test.country,'num_sold':prediction})"
   ]
  },
  {
   "cell_type": "code",
   "execution_count": 41,
   "id": "c537144d",
   "metadata": {
    "execution": {
     "iopub.execute_input": "2023-07-25T07:22:53.283508Z",
     "iopub.status.busy": "2023-07-25T07:22:53.282762Z",
     "iopub.status.idle": "2023-07-25T07:22:53.293732Z",
     "shell.execute_reply": "2023-07-25T07:22:53.292598Z"
    },
    "papermill": {
     "duration": 0.055669,
     "end_time": "2023-07-25T07:22:53.296263",
     "exception": false,
     "start_time": "2023-07-25T07:22:53.240594",
     "status": "completed"
    },
    "tags": []
   },
   "outputs": [
    {
     "data": {
      "text/html": [
       "<div>\n",
       "<style scoped>\n",
       "    .dataframe tbody tr th:only-of-type {\n",
       "        vertical-align: middle;\n",
       "    }\n",
       "\n",
       "    .dataframe tbody tr th {\n",
       "        vertical-align: top;\n",
       "    }\n",
       "\n",
       "    .dataframe thead th {\n",
       "        text-align: right;\n",
       "    }\n",
       "</style>\n",
       "<table border=\"1\" class=\"dataframe\">\n",
       "  <thead>\n",
       "    <tr style=\"text-align: right;\">\n",
       "      <th></th>\n",
       "      <th>id</th>\n",
       "      <th>country</th>\n",
       "      <th>num_sold</th>\n",
       "    </tr>\n",
       "  </thead>\n",
       "  <tbody>\n",
       "    <tr>\n",
       "      <th>0</th>\n",
       "      <td>136950</td>\n",
       "      <td>65.712922</td>\n",
       "      <td>34.490343</td>\n",
       "    </tr>\n",
       "    <tr>\n",
       "      <th>1</th>\n",
       "      <td>136951</td>\n",
       "      <td>65.712922</td>\n",
       "      <td>35.731987</td>\n",
       "    </tr>\n",
       "    <tr>\n",
       "      <th>2</th>\n",
       "      <td>136952</td>\n",
       "      <td>65.712922</td>\n",
       "      <td>7.386241</td>\n",
       "    </tr>\n",
       "    <tr>\n",
       "      <th>3</th>\n",
       "      <td>136953</td>\n",
       "      <td>65.712922</td>\n",
       "      <td>33.546012</td>\n",
       "    </tr>\n",
       "    <tr>\n",
       "      <th>4</th>\n",
       "      <td>136954</td>\n",
       "      <td>65.712922</td>\n",
       "      <td>29.590615</td>\n",
       "    </tr>\n",
       "  </tbody>\n",
       "</table>\n",
       "</div>"
      ],
      "text/plain": [
       "       id    country   num_sold\n",
       "0  136950  65.712922  34.490343\n",
       "1  136951  65.712922  35.731987\n",
       "2  136952  65.712922   7.386241\n",
       "3  136953  65.712922  33.546012\n",
       "4  136954  65.712922  29.590615"
      ]
     },
     "execution_count": 41,
     "metadata": {},
     "output_type": "execute_result"
    }
   ],
   "source": [
    "output.head()"
   ]
  },
  {
   "cell_type": "code",
   "execution_count": 42,
   "id": "975f5532",
   "metadata": {
    "execution": {
     "iopub.execute_input": "2023-07-25T07:22:53.374090Z",
     "iopub.status.busy": "2023-07-25T07:22:53.373106Z",
     "iopub.status.idle": "2023-07-25T07:22:53.378660Z",
     "shell.execute_reply": "2023-07-25T07:22:53.377559Z"
    },
    "papermill": {
     "duration": 0.047041,
     "end_time": "2023-07-25T07:22:53.381163",
     "exception": false,
     "start_time": "2023-07-25T07:22:53.334122",
     "status": "completed"
    },
    "tags": []
   },
   "outputs": [],
   "source": [
    "temp_d= output.copy()"
   ]
  },
  {
   "cell_type": "code",
   "execution_count": 43,
   "id": "0d279fa8",
   "metadata": {
    "execution": {
     "iopub.execute_input": "2023-07-25T07:22:53.459417Z",
     "iopub.status.busy": "2023-07-25T07:22:53.458998Z",
     "iopub.status.idle": "2023-07-25T07:22:53.480485Z",
     "shell.execute_reply": "2023-07-25T07:22:53.479273Z"
    },
    "papermill": {
     "duration": 0.063527,
     "end_time": "2023-07-25T07:22:53.482711",
     "exception": false,
     "start_time": "2023-07-25T07:22:53.419184",
     "status": "completed"
    },
    "tags": []
   },
   "outputs": [
    {
     "data": {
      "text/html": [
       "<div>\n",
       "<style scoped>\n",
       "    .dataframe tbody tr th:only-of-type {\n",
       "        vertical-align: middle;\n",
       "    }\n",
       "\n",
       "    .dataframe tbody tr th {\n",
       "        vertical-align: top;\n",
       "    }\n",
       "\n",
       "    .dataframe thead th {\n",
       "        text-align: right;\n",
       "    }\n",
       "</style>\n",
       "<table border=\"1\" class=\"dataframe\">\n",
       "  <thead>\n",
       "    <tr style=\"text-align: right;\">\n",
       "      <th></th>\n",
       "      <th>num_sold</th>\n",
       "    </tr>\n",
       "    <tr>\n",
       "      <th>country</th>\n",
       "      <th></th>\n",
       "    </tr>\n",
       "  </thead>\n",
       "  <tbody>\n",
       "    <tr>\n",
       "      <th>65.712922</th>\n",
       "      <td>4.018930</td>\n",
       "    </tr>\n",
       "    <tr>\n",
       "      <th>132.383302</th>\n",
       "      <td>1.489509</td>\n",
       "    </tr>\n",
       "    <tr>\n",
       "      <th>164.753696</th>\n",
       "      <td>1.445520</td>\n",
       "    </tr>\n",
       "    <tr>\n",
       "      <th>221.840130</th>\n",
       "      <td>1.344176</td>\n",
       "    </tr>\n",
       "    <tr>\n",
       "      <th>263.795201</th>\n",
       "      <td>0.822706</td>\n",
       "    </tr>\n",
       "  </tbody>\n",
       "</table>\n",
       "</div>"
      ],
      "text/plain": [
       "            num_sold\n",
       "country             \n",
       "65.712922   4.018930\n",
       "132.383302  1.489509\n",
       "164.753696  1.445520\n",
       "221.840130  1.344176\n",
       "263.795201  0.822706"
      ]
     },
     "execution_count": 43,
     "metadata": {},
     "output_type": "execute_result"
    }
   ],
   "source": [
    "coef_df = 1/(temp_d.groupby('country')[['num_sold']].mean()/temp_d.groupby('country')[['num_sold']].mean().sum()/0.28)\n",
    "coef_df"
   ]
  },
  {
   "cell_type": "code",
   "execution_count": 44,
   "id": "d25785b4",
   "metadata": {
    "execution": {
     "iopub.execute_input": "2023-07-25T07:22:53.633465Z",
     "iopub.status.busy": "2023-07-25T07:22:53.632994Z",
     "iopub.status.idle": "2023-07-25T07:22:55.034121Z",
     "shell.execute_reply": "2023-07-25T07:22:55.032873Z"
    },
    "papermill": {
     "duration": 1.443764,
     "end_time": "2023-07-25T07:22:55.036951",
     "exception": false,
     "start_time": "2023-07-25T07:22:53.593187",
     "status": "completed"
    },
    "tags": []
   },
   "outputs": [],
   "source": [
    "temp_d['num_sold'] = temp_d.apply(lambda x: x['num_sold']*coef_df.iloc[0] if x['country']=='Argentina' else (\n",
    "x['num_sold']*coef_df.iloc[4] if x['country']=='Spain' else (x['num_sold']*coef_df.iloc[3] if x['country']=='Japan' else (\n",
    "x['num_sold']*coef_df.iloc[2] if x['country']=='Estonia' else x['num_sold']))), axis=1)"
   ]
  },
  {
   "cell_type": "code",
   "execution_count": 45,
   "id": "7b6550a3",
   "metadata": {
    "execution": {
     "iopub.execute_input": "2023-07-25T07:22:55.118631Z",
     "iopub.status.busy": "2023-07-25T07:22:55.117928Z",
     "iopub.status.idle": "2023-07-25T07:22:55.125603Z",
     "shell.execute_reply": "2023-07-25T07:22:55.124507Z"
    },
    "papermill": {
     "duration": 0.050168,
     "end_time": "2023-07-25T07:22:55.128006",
     "exception": false,
     "start_time": "2023-07-25T07:22:55.077838",
     "status": "completed"
    },
    "tags": []
   },
   "outputs": [
    {
     "data": {
      "text/plain": [
       "dtype('float64')"
      ]
     },
     "execution_count": 45,
     "metadata": {},
     "output_type": "execute_result"
    }
   ],
   "source": [
    "temp_d['num_sold'].dtype"
   ]
  },
  {
   "cell_type": "code",
   "execution_count": 46,
   "id": "c9768e12",
   "metadata": {
    "execution": {
     "iopub.execute_input": "2023-07-25T07:22:55.210018Z",
     "iopub.status.busy": "2023-07-25T07:22:55.209277Z",
     "iopub.status.idle": "2023-07-25T07:22:55.214935Z",
     "shell.execute_reply": "2023-07-25T07:22:55.213777Z"
    },
    "papermill": {
     "duration": 0.049205,
     "end_time": "2023-07-25T07:22:55.217694",
     "exception": false,
     "start_time": "2023-07-25T07:22:55.168489",
     "status": "completed"
    },
    "tags": []
   },
   "outputs": [],
   "source": [
    "output['num_sold']=temp_d['num_sold'].astype(int)"
   ]
  },
  {
   "cell_type": "code",
   "execution_count": 47,
   "id": "fc59c097",
   "metadata": {
    "execution": {
     "iopub.execute_input": "2023-07-25T07:22:55.307789Z",
     "iopub.status.busy": "2023-07-25T07:22:55.307041Z",
     "iopub.status.idle": "2023-07-25T07:22:55.320436Z",
     "shell.execute_reply": "2023-07-25T07:22:55.319308Z"
    },
    "papermill": {
     "duration": 0.065067,
     "end_time": "2023-07-25T07:22:55.322923",
     "exception": false,
     "start_time": "2023-07-25T07:22:55.257856",
     "status": "completed"
    },
    "tags": []
   },
   "outputs": [
    {
     "data": {
      "text/html": [
       "<div>\n",
       "<style scoped>\n",
       "    .dataframe tbody tr th:only-of-type {\n",
       "        vertical-align: middle;\n",
       "    }\n",
       "\n",
       "    .dataframe tbody tr th {\n",
       "        vertical-align: top;\n",
       "    }\n",
       "\n",
       "    .dataframe thead th {\n",
       "        text-align: right;\n",
       "    }\n",
       "</style>\n",
       "<table border=\"1\" class=\"dataframe\">\n",
       "  <thead>\n",
       "    <tr style=\"text-align: right;\">\n",
       "      <th></th>\n",
       "      <th>id</th>\n",
       "      <th>num_sold</th>\n",
       "    </tr>\n",
       "  </thead>\n",
       "  <tbody>\n",
       "    <tr>\n",
       "      <th>0</th>\n",
       "      <td>136950</td>\n",
       "      <td>34</td>\n",
       "    </tr>\n",
       "    <tr>\n",
       "      <th>1</th>\n",
       "      <td>136951</td>\n",
       "      <td>35</td>\n",
       "    </tr>\n",
       "    <tr>\n",
       "      <th>2</th>\n",
       "      <td>136952</td>\n",
       "      <td>7</td>\n",
       "    </tr>\n",
       "    <tr>\n",
       "      <th>3</th>\n",
       "      <td>136953</td>\n",
       "      <td>33</td>\n",
       "    </tr>\n",
       "    <tr>\n",
       "      <th>4</th>\n",
       "      <td>136954</td>\n",
       "      <td>29</td>\n",
       "    </tr>\n",
       "    <tr>\n",
       "      <th>...</th>\n",
       "      <td>...</td>\n",
       "      <td>...</td>\n",
       "    </tr>\n",
       "    <tr>\n",
       "      <th>27370</th>\n",
       "      <td>164320</td>\n",
       "      <td>710</td>\n",
       "    </tr>\n",
       "    <tr>\n",
       "      <th>27371</th>\n",
       "      <td>164321</td>\n",
       "      <td>680</td>\n",
       "    </tr>\n",
       "    <tr>\n",
       "      <th>27372</th>\n",
       "      <td>164322</td>\n",
       "      <td>128</td>\n",
       "    </tr>\n",
       "    <tr>\n",
       "      <th>27373</th>\n",
       "      <td>164323</td>\n",
       "      <td>645</td>\n",
       "    </tr>\n",
       "    <tr>\n",
       "      <th>27374</th>\n",
       "      <td>164324</td>\n",
       "      <td>550</td>\n",
       "    </tr>\n",
       "  </tbody>\n",
       "</table>\n",
       "<p>27375 rows × 2 columns</p>\n",
       "</div>"
      ],
      "text/plain": [
       "           id  num_sold\n",
       "0      136950        34\n",
       "1      136951        35\n",
       "2      136952         7\n",
       "3      136953        33\n",
       "4      136954        29\n",
       "...       ...       ...\n",
       "27370  164320       710\n",
       "27371  164321       680\n",
       "27372  164322       128\n",
       "27373  164323       645\n",
       "27374  164324       550\n",
       "\n",
       "[27375 rows x 2 columns]"
      ]
     },
     "execution_count": 47,
     "metadata": {},
     "output_type": "execute_result"
    }
   ],
   "source": [
    "output.drop('country',axis=1)"
   ]
  },
  {
   "cell_type": "code",
   "execution_count": 48,
   "id": "7e099891",
   "metadata": {
    "execution": {
     "iopub.execute_input": "2023-07-25T07:22:55.406253Z",
     "iopub.status.busy": "2023-07-25T07:22:55.405494Z",
     "iopub.status.idle": "2023-07-25T07:22:55.535740Z",
     "shell.execute_reply": "2023-07-25T07:22:55.534827Z"
    },
    "papermill": {
     "duration": 0.176052,
     "end_time": "2023-07-25T07:22:55.538466",
     "exception": false,
     "start_time": "2023-07-25T07:22:55.362414",
     "status": "completed"
    },
    "tags": []
   },
   "outputs": [
    {
     "name": "stdout",
     "output_type": "stream",
     "text": [
      "Your submission was successfully saved!\n"
     ]
    }
   ],
   "source": [
    "output.to_csv('submission.csv', index=False)\n",
    "print(\"Your submission was successfully saved!\")"
   ]
  }
 ],
 "metadata": {
  "kernelspec": {
   "display_name": "Python 3",
   "language": "python",
   "name": "python3"
  },
  "language_info": {
   "codemirror_mode": {
    "name": "ipython",
    "version": 3
   },
   "file_extension": ".py",
   "mimetype": "text/x-python",
   "name": "python",
   "nbconvert_exporter": "python",
   "pygments_lexer": "ipython3",
   "version": "3.10.12"
  },
  "papermill": {
   "default_parameters": {},
   "duration": 2354.586464,
   "end_time": "2023-07-25T07:22:56.807025",
   "environment_variables": {},
   "exception": null,
   "input_path": "__notebook__.ipynb",
   "output_path": "__notebook__.ipynb",
   "parameters": {},
   "start_time": "2023-07-25T06:43:42.220561",
   "version": "2.4.0"
  }
 },
 "nbformat": 4,
 "nbformat_minor": 5
}
