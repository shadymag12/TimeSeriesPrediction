{
 "cells": [
  {
   "cell_type": "code",
   "execution_count": 1,
   "id": "50d18634",
   "metadata": {
    "_cell_guid": "b1076dfc-b9ad-4769-8c92-a6c4dae69d19",
    "_uuid": "8f2839f25d086af736a60e9eeb907d3b93b6e0e5",
    "execution": {
     "iopub.execute_input": "2023-07-25T12:16:40.437859Z",
     "iopub.status.busy": "2023-07-25T12:16:40.437298Z",
     "iopub.status.idle": "2023-07-25T12:16:43.996802Z",
     "shell.execute_reply": "2023-07-25T12:16:43.995694Z"
    },
    "papermill": {
     "duration": 3.582204,
     "end_time": "2023-07-25T12:16:43.999473",
     "exception": false,
     "start_time": "2023-07-25T12:16:40.417269",
     "status": "completed"
    },
    "tags": []
   },
   "outputs": [
    {
     "name": "stderr",
     "output_type": "stream",
     "text": [
      "/opt/conda/lib/python3.10/site-packages/scipy/__init__.py:146: UserWarning: A NumPy version >=1.16.5 and <1.23.0 is required for this version of SciPy (detected version 1.23.5\n",
      "  warnings.warn(f\"A NumPy version >={np_minversion} and <{np_maxversion}\"\n"
     ]
    },
    {
     "name": "stdout",
     "output_type": "stream",
     "text": [
      "/kaggle/input/playground-series-s3e19/sample_submission.csv\n",
      "/kaggle/input/playground-series-s3e19/train.csv\n",
      "/kaggle/input/playground-series-s3e19/test.csv\n"
     ]
    }
   ],
   "source": [
    "\n",
    "\n",
    "import numpy as np # linear algebra\n",
    "import pandas as pd # data processing, CSV file I/O (e.g. pd.read_csv)\n",
    "import matplotlib.pyplot as plt\n",
    "import seaborn as sns\n",
    "#%matplotlib.inline\n",
    "import warnings\n",
    "warnings.filterwarnings(action='ignore')\n",
    "import optuna\n",
    "from sklearn.ensemble import HistGradientBoostingRegressor\n",
    "from category_encoders import CatBoostEncoder\n",
    "from sklearn.model_selection import train_test_split, cross_val_score,KFold\n",
    "\n",
    "\n",
    "\n",
    "import os\n",
    "for dirname, _, filenames in os.walk('/kaggle/input'):\n",
    "    for filename in filenames:\n",
    "        print(os.path.join(dirname, filename))\n",
    "\n"
   ]
  },
  {
   "cell_type": "code",
   "execution_count": 2,
   "id": "0ec72fbb",
   "metadata": {
    "execution": {
     "iopub.execute_input": "2023-07-25T12:16:44.036255Z",
     "iopub.status.busy": "2023-07-25T12:16:44.035406Z",
     "iopub.status.idle": "2023-07-25T12:16:44.349484Z",
     "shell.execute_reply": "2023-07-25T12:16:44.348172Z"
    },
    "papermill": {
     "duration": 0.336138,
     "end_time": "2023-07-25T12:16:44.352805",
     "exception": false,
     "start_time": "2023-07-25T12:16:44.016667",
     "status": "completed"
    },
    "tags": []
   },
   "outputs": [],
   "source": [
    "train=pd.read_csv('/kaggle/input/playground-series-s3e19/train.csv')"
   ]
  },
  {
   "cell_type": "code",
   "execution_count": 3,
   "id": "e8657685",
   "metadata": {
    "execution": {
     "iopub.execute_input": "2023-07-25T12:16:44.389383Z",
     "iopub.status.busy": "2023-07-25T12:16:44.388886Z",
     "iopub.status.idle": "2023-07-25T12:16:44.451634Z",
     "shell.execute_reply": "2023-07-25T12:16:44.450114Z"
    },
    "papermill": {
     "duration": 0.083906,
     "end_time": "2023-07-25T12:16:44.454667",
     "exception": false,
     "start_time": "2023-07-25T12:16:44.370761",
     "status": "completed"
    },
    "tags": []
   },
   "outputs": [],
   "source": [
    "test = pd.read_csv('/kaggle/input/playground-series-s3e19/test.csv')"
   ]
  },
  {
   "cell_type": "code",
   "execution_count": 4,
   "id": "22f85cad",
   "metadata": {
    "execution": {
     "iopub.execute_input": "2023-07-25T12:16:44.490089Z",
     "iopub.status.busy": "2023-07-25T12:16:44.489583Z",
     "iopub.status.idle": "2023-07-25T12:16:44.513677Z",
     "shell.execute_reply": "2023-07-25T12:16:44.512415Z"
    },
    "papermill": {
     "duration": 0.045249,
     "end_time": "2023-07-25T12:16:44.516436",
     "exception": false,
     "start_time": "2023-07-25T12:16:44.471187",
     "status": "completed"
    },
    "tags": []
   },
   "outputs": [
    {
     "data": {
      "text/html": [
       "<div>\n",
       "<style scoped>\n",
       "    .dataframe tbody tr th:only-of-type {\n",
       "        vertical-align: middle;\n",
       "    }\n",
       "\n",
       "    .dataframe tbody tr th {\n",
       "        vertical-align: top;\n",
       "    }\n",
       "\n",
       "    .dataframe thead th {\n",
       "        text-align: right;\n",
       "    }\n",
       "</style>\n",
       "<table border=\"1\" class=\"dataframe\">\n",
       "  <thead>\n",
       "    <tr style=\"text-align: right;\">\n",
       "      <th></th>\n",
       "      <th>id</th>\n",
       "      <th>date</th>\n",
       "      <th>country</th>\n",
       "      <th>store</th>\n",
       "      <th>product</th>\n",
       "    </tr>\n",
       "  </thead>\n",
       "  <tbody>\n",
       "    <tr>\n",
       "      <th>0</th>\n",
       "      <td>136950</td>\n",
       "      <td>2022-01-01</td>\n",
       "      <td>Argentina</td>\n",
       "      <td>Kaggle Learn</td>\n",
       "      <td>Using LLMs to Improve Your Coding</td>\n",
       "    </tr>\n",
       "    <tr>\n",
       "      <th>1</th>\n",
       "      <td>136951</td>\n",
       "      <td>2022-01-01</td>\n",
       "      <td>Argentina</td>\n",
       "      <td>Kaggle Learn</td>\n",
       "      <td>Using LLMs to Train More LLMs</td>\n",
       "    </tr>\n",
       "    <tr>\n",
       "      <th>2</th>\n",
       "      <td>136952</td>\n",
       "      <td>2022-01-01</td>\n",
       "      <td>Argentina</td>\n",
       "      <td>Kaggle Learn</td>\n",
       "      <td>Using LLMs to Win Friends and Influence People</td>\n",
       "    </tr>\n",
       "    <tr>\n",
       "      <th>3</th>\n",
       "      <td>136953</td>\n",
       "      <td>2022-01-01</td>\n",
       "      <td>Argentina</td>\n",
       "      <td>Kaggle Learn</td>\n",
       "      <td>Using LLMs to Win More Kaggle Competitions</td>\n",
       "    </tr>\n",
       "    <tr>\n",
       "      <th>4</th>\n",
       "      <td>136954</td>\n",
       "      <td>2022-01-01</td>\n",
       "      <td>Argentina</td>\n",
       "      <td>Kaggle Learn</td>\n",
       "      <td>Using LLMs to Write Better</td>\n",
       "    </tr>\n",
       "  </tbody>\n",
       "</table>\n",
       "</div>"
      ],
      "text/plain": [
       "       id        date    country         store  \\\n",
       "0  136950  2022-01-01  Argentina  Kaggle Learn   \n",
       "1  136951  2022-01-01  Argentina  Kaggle Learn   \n",
       "2  136952  2022-01-01  Argentina  Kaggle Learn   \n",
       "3  136953  2022-01-01  Argentina  Kaggle Learn   \n",
       "4  136954  2022-01-01  Argentina  Kaggle Learn   \n",
       "\n",
       "                                          product  \n",
       "0               Using LLMs to Improve Your Coding  \n",
       "1                   Using LLMs to Train More LLMs  \n",
       "2  Using LLMs to Win Friends and Influence People  \n",
       "3      Using LLMs to Win More Kaggle Competitions  \n",
       "4                      Using LLMs to Write Better  "
      ]
     },
     "execution_count": 4,
     "metadata": {},
     "output_type": "execute_result"
    }
   ],
   "source": [
    "test.head()"
   ]
  },
  {
   "cell_type": "code",
   "execution_count": 5,
   "id": "a010bed8",
   "metadata": {
    "execution": {
     "iopub.execute_input": "2023-07-25T12:16:44.555552Z",
     "iopub.status.busy": "2023-07-25T12:16:44.554998Z",
     "iopub.status.idle": "2023-07-25T12:16:44.760862Z",
     "shell.execute_reply": "2023-07-25T12:16:44.759523Z"
    },
    "papermill": {
     "duration": 0.230745,
     "end_time": "2023-07-25T12:16:44.764172",
     "exception": false,
     "start_time": "2023-07-25T12:16:44.533427",
     "status": "completed"
    },
    "tags": []
   },
   "outputs": [
    {
     "name": "stdout",
     "output_type": "stream",
     "text": [
      "<class 'pandas.core.frame.DataFrame'>\n",
      "RangeIndex: 136950 entries, 0 to 136949\n",
      "Data columns (total 6 columns):\n",
      " #   Column    Non-Null Count   Dtype \n",
      "---  ------    --------------   ----- \n",
      " 0   id        136950 non-null  int64 \n",
      " 1   date      136950 non-null  object\n",
      " 2   country   136950 non-null  object\n",
      " 3   store     136950 non-null  object\n",
      " 4   product   136950 non-null  object\n",
      " 5   num_sold  136950 non-null  int64 \n",
      "dtypes: int64(2), object(4)\n",
      "memory usage: 6.3+ MB\n"
     ]
    }
   ],
   "source": [
    "train.info()"
   ]
  },
  {
   "cell_type": "code",
   "execution_count": 6,
   "id": "16d003e2",
   "metadata": {
    "execution": {
     "iopub.execute_input": "2023-07-25T12:16:44.802837Z",
     "iopub.status.busy": "2023-07-25T12:16:44.802218Z",
     "iopub.status.idle": "2023-07-25T12:16:44.992791Z",
     "shell.execute_reply": "2023-07-25T12:16:44.991058Z"
    },
    "papermill": {
     "duration": 0.214437,
     "end_time": "2023-07-25T12:16:44.995741",
     "exception": false,
     "start_time": "2023-07-25T12:16:44.781304",
     "status": "completed"
    },
    "tags": []
   },
   "outputs": [
    {
     "data": {
      "text/plain": [
       "id          0\n",
       "date        0\n",
       "country     0\n",
       "store       0\n",
       "product     0\n",
       "num_sold    0\n",
       "dtype: int64"
      ]
     },
     "execution_count": 6,
     "metadata": {},
     "output_type": "execute_result"
    }
   ],
   "source": [
    "train.isnull().sum()"
   ]
  },
  {
   "cell_type": "code",
   "execution_count": 7,
   "id": "7fab1b26",
   "metadata": {
    "execution": {
     "iopub.execute_input": "2023-07-25T12:16:45.034738Z",
     "iopub.status.busy": "2023-07-25T12:16:45.034139Z",
     "iopub.status.idle": "2023-07-25T12:16:45.073228Z",
     "shell.execute_reply": "2023-07-25T12:16:45.071955Z"
    },
    "papermill": {
     "duration": 0.062508,
     "end_time": "2023-07-25T12:16:45.076765",
     "exception": false,
     "start_time": "2023-07-25T12:16:45.014257",
     "status": "completed"
    },
    "tags": []
   },
   "outputs": [],
   "source": [
    "train['date']=pd.to_datetime(train['date'])"
   ]
  },
  {
   "cell_type": "code",
   "execution_count": 8,
   "id": "3b85a55b",
   "metadata": {
    "execution": {
     "iopub.execute_input": "2023-07-25T12:16:45.117105Z",
     "iopub.status.busy": "2023-07-25T12:16:45.116619Z",
     "iopub.status.idle": "2023-07-25T12:16:45.132217Z",
     "shell.execute_reply": "2023-07-25T12:16:45.130750Z"
    },
    "papermill": {
     "duration": 0.038936,
     "end_time": "2023-07-25T12:16:45.135428",
     "exception": false,
     "start_time": "2023-07-25T12:16:45.096492",
     "status": "completed"
    },
    "tags": []
   },
   "outputs": [
    {
     "data": {
      "text/html": [
       "<div>\n",
       "<style scoped>\n",
       "    .dataframe tbody tr th:only-of-type {\n",
       "        vertical-align: middle;\n",
       "    }\n",
       "\n",
       "    .dataframe tbody tr th {\n",
       "        vertical-align: top;\n",
       "    }\n",
       "\n",
       "    .dataframe thead th {\n",
       "        text-align: right;\n",
       "    }\n",
       "</style>\n",
       "<table border=\"1\" class=\"dataframe\">\n",
       "  <thead>\n",
       "    <tr style=\"text-align: right;\">\n",
       "      <th></th>\n",
       "      <th>id</th>\n",
       "      <th>date</th>\n",
       "      <th>country</th>\n",
       "      <th>store</th>\n",
       "      <th>product</th>\n",
       "      <th>num_sold</th>\n",
       "    </tr>\n",
       "  </thead>\n",
       "  <tbody>\n",
       "    <tr>\n",
       "      <th>0</th>\n",
       "      <td>0</td>\n",
       "      <td>2017-01-01</td>\n",
       "      <td>Argentina</td>\n",
       "      <td>Kaggle Learn</td>\n",
       "      <td>Using LLMs to Improve Your Coding</td>\n",
       "      <td>63</td>\n",
       "    </tr>\n",
       "    <tr>\n",
       "      <th>1</th>\n",
       "      <td>1</td>\n",
       "      <td>2017-01-01</td>\n",
       "      <td>Argentina</td>\n",
       "      <td>Kaggle Learn</td>\n",
       "      <td>Using LLMs to Train More LLMs</td>\n",
       "      <td>66</td>\n",
       "    </tr>\n",
       "    <tr>\n",
       "      <th>2</th>\n",
       "      <td>2</td>\n",
       "      <td>2017-01-01</td>\n",
       "      <td>Argentina</td>\n",
       "      <td>Kaggle Learn</td>\n",
       "      <td>Using LLMs to Win Friends and Influence People</td>\n",
       "      <td>9</td>\n",
       "    </tr>\n",
       "    <tr>\n",
       "      <th>3</th>\n",
       "      <td>3</td>\n",
       "      <td>2017-01-01</td>\n",
       "      <td>Argentina</td>\n",
       "      <td>Kaggle Learn</td>\n",
       "      <td>Using LLMs to Win More Kaggle Competitions</td>\n",
       "      <td>59</td>\n",
       "    </tr>\n",
       "    <tr>\n",
       "      <th>4</th>\n",
       "      <td>4</td>\n",
       "      <td>2017-01-01</td>\n",
       "      <td>Argentina</td>\n",
       "      <td>Kaggle Learn</td>\n",
       "      <td>Using LLMs to Write Better</td>\n",
       "      <td>49</td>\n",
       "    </tr>\n",
       "  </tbody>\n",
       "</table>\n",
       "</div>"
      ],
      "text/plain": [
       "   id       date    country         store  \\\n",
       "0   0 2017-01-01  Argentina  Kaggle Learn   \n",
       "1   1 2017-01-01  Argentina  Kaggle Learn   \n",
       "2   2 2017-01-01  Argentina  Kaggle Learn   \n",
       "3   3 2017-01-01  Argentina  Kaggle Learn   \n",
       "4   4 2017-01-01  Argentina  Kaggle Learn   \n",
       "\n",
       "                                          product  num_sold  \n",
       "0               Using LLMs to Improve Your Coding        63  \n",
       "1                   Using LLMs to Train More LLMs        66  \n",
       "2  Using LLMs to Win Friends and Influence People         9  \n",
       "3      Using LLMs to Win More Kaggle Competitions        59  \n",
       "4                      Using LLMs to Write Better        49  "
      ]
     },
     "execution_count": 8,
     "metadata": {},
     "output_type": "execute_result"
    }
   ],
   "source": [
    "train.head()"
   ]
  },
  {
   "cell_type": "code",
   "execution_count": 9,
   "id": "2fddc494",
   "metadata": {
    "execution": {
     "iopub.execute_input": "2023-07-25T12:16:45.180694Z",
     "iopub.status.busy": "2023-07-25T12:16:45.180126Z",
     "iopub.status.idle": "2023-07-25T12:16:45.334024Z",
     "shell.execute_reply": "2023-07-25T12:16:45.332628Z"
    },
    "papermill": {
     "duration": 0.182019,
     "end_time": "2023-07-25T12:16:45.336858",
     "exception": false,
     "start_time": "2023-07-25T12:16:45.154839",
     "status": "completed"
    },
    "tags": []
   },
   "outputs": [
    {
     "data": {
      "text/plain": [
       "id          0\n",
       "date        0\n",
       "country     0\n",
       "store       0\n",
       "product     0\n",
       "num_sold    0\n",
       "dtype: int64"
      ]
     },
     "execution_count": 9,
     "metadata": {},
     "output_type": "execute_result"
    }
   ],
   "source": [
    "train.isnull().sum()"
   ]
  },
  {
   "cell_type": "markdown",
   "id": "a771c2a2",
   "metadata": {
    "papermill": {
     "duration": 0.018077,
     "end_time": "2023-07-25T12:16:45.373758",
     "exception": false,
     "start_time": "2023-07-25T12:16:45.355681",
     "status": "completed"
    },
    "tags": []
   },
   "source": [
    "Add features & holiday column for better prediction"
   ]
  },
  {
   "cell_type": "code",
   "execution_count": 10,
   "id": "0588beee",
   "metadata": {
    "execution": {
     "iopub.execute_input": "2023-07-25T12:16:45.417752Z",
     "iopub.status.busy": "2023-07-25T12:16:45.417275Z",
     "iopub.status.idle": "2023-07-25T12:16:45.452418Z",
     "shell.execute_reply": "2023-07-25T12:16:45.450996Z"
    },
    "papermill": {
     "duration": 0.058342,
     "end_time": "2023-07-25T12:16:45.455588",
     "exception": false,
     "start_time": "2023-07-25T12:16:45.397246",
     "status": "completed"
    },
    "tags": []
   },
   "outputs": [
    {
     "data": {
      "text/html": [
       "<div>\n",
       "<style scoped>\n",
       "    .dataframe tbody tr th:only-of-type {\n",
       "        vertical-align: middle;\n",
       "    }\n",
       "\n",
       "    .dataframe tbody tr th {\n",
       "        vertical-align: top;\n",
       "    }\n",
       "\n",
       "    .dataframe thead th {\n",
       "        text-align: right;\n",
       "    }\n",
       "</style>\n",
       "<table border=\"1\" class=\"dataframe\">\n",
       "  <thead>\n",
       "    <tr style=\"text-align: right;\">\n",
       "      <th></th>\n",
       "      <th>id</th>\n",
       "      <th>num_sold</th>\n",
       "    </tr>\n",
       "  </thead>\n",
       "  <tbody>\n",
       "    <tr>\n",
       "      <th>count</th>\n",
       "      <td>136950.00000</td>\n",
       "      <td>136950.000000</td>\n",
       "    </tr>\n",
       "    <tr>\n",
       "      <th>mean</th>\n",
       "      <td>68474.50000</td>\n",
       "      <td>165.522636</td>\n",
       "    </tr>\n",
       "    <tr>\n",
       "      <th>std</th>\n",
       "      <td>39534.20402</td>\n",
       "      <td>183.691575</td>\n",
       "    </tr>\n",
       "    <tr>\n",
       "      <th>min</th>\n",
       "      <td>0.00000</td>\n",
       "      <td>2.000000</td>\n",
       "    </tr>\n",
       "    <tr>\n",
       "      <th>25%</th>\n",
       "      <td>34237.25000</td>\n",
       "      <td>46.000000</td>\n",
       "    </tr>\n",
       "    <tr>\n",
       "      <th>50%</th>\n",
       "      <td>68474.50000</td>\n",
       "      <td>98.000000</td>\n",
       "    </tr>\n",
       "    <tr>\n",
       "      <th>75%</th>\n",
       "      <td>102711.75000</td>\n",
       "      <td>184.000000</td>\n",
       "    </tr>\n",
       "    <tr>\n",
       "      <th>max</th>\n",
       "      <td>136949.00000</td>\n",
       "      <td>1380.000000</td>\n",
       "    </tr>\n",
       "  </tbody>\n",
       "</table>\n",
       "</div>"
      ],
      "text/plain": [
       "                 id       num_sold\n",
       "count  136950.00000  136950.000000\n",
       "mean    68474.50000     165.522636\n",
       "std     39534.20402     183.691575\n",
       "min         0.00000       2.000000\n",
       "25%     34237.25000      46.000000\n",
       "50%     68474.50000      98.000000\n",
       "75%    102711.75000     184.000000\n",
       "max    136949.00000    1380.000000"
      ]
     },
     "execution_count": 10,
     "metadata": {},
     "output_type": "execute_result"
    }
   ],
   "source": [
    "train.describe()"
   ]
  },
  {
   "cell_type": "code",
   "execution_count": 11,
   "id": "f1d22cdb",
   "metadata": {
    "execution": {
     "iopub.execute_input": "2023-07-25T12:16:45.495064Z",
     "iopub.status.busy": "2023-07-25T12:16:45.494526Z",
     "iopub.status.idle": "2023-07-25T12:16:45.565019Z",
     "shell.execute_reply": "2023-07-25T12:16:45.563759Z"
    },
    "papermill": {
     "duration": 0.095189,
     "end_time": "2023-07-25T12:16:45.569082",
     "exception": false,
     "start_time": "2023-07-25T12:16:45.473893",
     "status": "completed"
    },
    "tags": []
   },
   "outputs": [
    {
     "name": "stdout",
     "output_type": "stream",
     "text": [
      "id has 136950 values\n",
      "date has 1826 values\n",
      "country has 5 values\n",
      "store has 3 values\n",
      "product has 5 values\n",
      "num_sold has 1028 values\n"
     ]
    }
   ],
   "source": [
    "for col in train.columns:\n",
    "    print(f\"{col} has {len(train[col].unique())} values\")"
   ]
  },
  {
   "cell_type": "code",
   "execution_count": 12,
   "id": "7a2fdc9e",
   "metadata": {
    "execution": {
     "iopub.execute_input": "2023-07-25T12:16:45.616366Z",
     "iopub.status.busy": "2023-07-25T12:16:45.615716Z",
     "iopub.status.idle": "2023-07-25T12:16:45.642321Z",
     "shell.execute_reply": "2023-07-25T12:16:45.640869Z"
    },
    "papermill": {
     "duration": 0.051777,
     "end_time": "2023-07-25T12:16:45.645737",
     "exception": false,
     "start_time": "2023-07-25T12:16:45.593960",
     "status": "completed"
    },
    "tags": []
   },
   "outputs": [],
   "source": [
    "products= train['product'].unique()"
   ]
  },
  {
   "cell_type": "code",
   "execution_count": 13,
   "id": "6172c939",
   "metadata": {
    "execution": {
     "iopub.execute_input": "2023-07-25T12:16:45.695760Z",
     "iopub.status.busy": "2023-07-25T12:16:45.694715Z",
     "iopub.status.idle": "2023-07-25T12:16:45.706126Z",
     "shell.execute_reply": "2023-07-25T12:16:45.704762Z"
    },
    "papermill": {
     "duration": 0.041434,
     "end_time": "2023-07-25T12:16:45.709696",
     "exception": false,
     "start_time": "2023-07-25T12:16:45.668262",
     "status": "completed"
    },
    "tags": []
   },
   "outputs": [
    {
     "data": {
      "text/plain": [
       "array(['Using LLMs to Improve Your Coding',\n",
       "       'Using LLMs to Train More LLMs',\n",
       "       'Using LLMs to Win Friends and Influence People',\n",
       "       'Using LLMs to Win More Kaggle Competitions',\n",
       "       'Using LLMs to Write Better'], dtype=object)"
      ]
     },
     "execution_count": 13,
     "metadata": {},
     "output_type": "execute_result"
    }
   ],
   "source": [
    "products"
   ]
  },
  {
   "cell_type": "code",
   "execution_count": 14,
   "id": "9a364817",
   "metadata": {
    "execution": {
     "iopub.execute_input": "2023-07-25T12:16:45.756955Z",
     "iopub.status.busy": "2023-07-25T12:16:45.755918Z",
     "iopub.status.idle": "2023-07-25T12:16:45.764907Z",
     "shell.execute_reply": "2023-07-25T12:16:45.763658Z"
    },
    "papermill": {
     "duration": 0.033977,
     "end_time": "2023-07-25T12:16:45.768094",
     "exception": false,
     "start_time": "2023-07-25T12:16:45.734117",
     "status": "completed"
    },
    "tags": []
   },
   "outputs": [
    {
     "data": {
      "text/plain": [
       "5"
      ]
     },
     "execution_count": 14,
     "metadata": {},
     "output_type": "execute_result"
    }
   ],
   "source": [
    "len(products)"
   ]
  },
  {
   "cell_type": "code",
   "execution_count": 15,
   "id": "6df3dd38",
   "metadata": {
    "execution": {
     "iopub.execute_input": "2023-07-25T12:16:45.808159Z",
     "iopub.status.busy": "2023-07-25T12:16:45.807142Z",
     "iopub.status.idle": "2023-07-25T12:16:48.360866Z",
     "shell.execute_reply": "2023-07-25T12:16:48.359529Z"
    },
    "papermill": {
     "duration": 2.57663,
     "end_time": "2023-07-25T12:16:48.363707",
     "exception": false,
     "start_time": "2023-07-25T12:16:45.787077",
     "status": "completed"
    },
    "tags": []
   },
   "outputs": [
    {
     "data": {
      "image/png": "[encoded data removed]",
      "text/plain": [
       "<Figure size 640x480 with 1 Axes>"
      ]
     },
     "metadata": {},
     "output_type": "display_data"
    }
   ],
   "source": [
    "for i in products:\n",
    "    train_1 = train[train['product']==i]\n",
    "    #plt.subplot(len(products),1,j)\n",
    "    #plt.subplot(1,2,len(i))\n",
    "    plt.plot(train_1['date'],train_1['num_sold'])\n",
    "    # Giving title to the chart using plt.title\n",
    "    plt.title(f\"Product '{i}' sold by Date\")\n",
    "    # rotating the x-axis tick labels at 30degree\n",
    "    # towards right\n",
    "    plt.xticks(rotation=30, ha='right')\n",
    " \n",
    " # Providing x and y label to the chart\n",
    "    plt.xlabel('Date')\n",
    "    plt.ylabel('Products sold')\n",
    "    \n",
    "    "
   ]
  },
  {
   "cell_type": "code",
   "execution_count": 16,
   "id": "ff0636fe",
   "metadata": {
    "execution": {
     "iopub.execute_input": "2023-07-25T12:16:48.405486Z",
     "iopub.status.busy": "2023-07-25T12:16:48.404969Z",
     "iopub.status.idle": "2023-07-25T12:16:48.415585Z",
     "shell.execute_reply": "2023-07-25T12:16:48.414270Z"
    },
    "papermill": {
     "duration": 0.034516,
     "end_time": "2023-07-25T12:16:48.418332",
     "exception": false,
     "start_time": "2023-07-25T12:16:48.383816",
     "status": "completed"
    },
    "tags": []
   },
   "outputs": [
    {
     "data": {
      "text/plain": [
       "Timestamp('2021-12-31 00:00:00')"
      ]
     },
     "execution_count": 16,
     "metadata": {},
     "output_type": "execute_result"
    }
   ],
   "source": [
    "train['date'].max()"
   ]
  },
  {
   "cell_type": "code",
   "execution_count": 17,
   "id": "7e5c298a",
   "metadata": {
    "execution": {
     "iopub.execute_input": "2023-07-25T12:16:48.460753Z",
     "iopub.status.busy": "2023-07-25T12:16:48.460250Z",
     "iopub.status.idle": "2023-07-25T12:16:48.469007Z",
     "shell.execute_reply": "2023-07-25T12:16:48.467937Z"
    },
    "papermill": {
     "duration": 0.032703,
     "end_time": "2023-07-25T12:16:48.471306",
     "exception": false,
     "start_time": "2023-07-25T12:16:48.438603",
     "status": "completed"
    },
    "tags": []
   },
   "outputs": [
    {
     "data": {
      "text/plain": [
       "Timestamp('2017-01-01 00:00:00')"
      ]
     },
     "execution_count": 17,
     "metadata": {},
     "output_type": "execute_result"
    }
   ],
   "source": [
    "train['date'].min()"
   ]
  },
  {
   "cell_type": "code",
   "execution_count": 18,
   "id": "574c77a3",
   "metadata": {
    "execution": {
     "iopub.execute_input": "2023-07-25T12:16:48.512730Z",
     "iopub.status.busy": "2023-07-25T12:16:48.511811Z",
     "iopub.status.idle": "2023-07-25T12:16:48.725112Z",
     "shell.execute_reply": "2023-07-25T12:16:48.723770Z"
    },
    "papermill": {
     "duration": 0.237354,
     "end_time": "2023-07-25T12:16:48.728356",
     "exception": false,
     "start_time": "2023-07-25T12:16:48.491002",
     "status": "completed"
    },
    "tags": []
   },
   "outputs": [],
   "source": [
    "import holidays\n",
    "\n",
    "# Creating holiday calendars for each country\n",
    "argentina_holidays = holidays.Argentina()\n",
    "canada_holidays = holidays.Canada()\n",
    "estonia_holidays = holidays.Estonia()\n",
    "japan_holidays = holidays.Japan()\n",
    "spain_holidays = holidays.Spain()"
   ]
  },
  {
   "cell_type": "code",
   "execution_count": 19,
   "id": "95633966",
   "metadata": {
    "execution": {
     "iopub.execute_input": "2023-07-25T12:16:48.770043Z",
     "iopub.status.busy": "2023-07-25T12:16:48.769566Z",
     "iopub.status.idle": "2023-07-25T12:16:48.783230Z",
     "shell.execute_reply": "2023-07-25T12:16:48.781398Z"
    },
    "papermill": {
     "duration": 0.038353,
     "end_time": "2023-07-25T12:16:48.786105",
     "exception": false,
     "start_time": "2023-07-25T12:16:48.747752",
     "status": "completed"
    },
    "tags": []
   },
   "outputs": [],
   "source": [
    "def new_column(df):\n",
    "   df['day']=df['date'].dt.day\n",
    "   df['month']=df['date'].dt.month\n",
    "   df['year']=df['date'].dt.year\n",
    "   df['is_argentina_holiday'] = df['date'].apply(lambda x: int(x in argentina_holidays))\n",
    "   df['is_canada_holiday'] = df['date'].apply(lambda x: int(x in canada_holidays))\n",
    "   df['is_estonia_holiday'] = df['date'].apply(lambda x: int(x in estonia_holidays))\n",
    "   df['is_japan_holiday'] = df['date'].apply(lambda x: int(x in japan_holidays))\n",
    "   df['is_spain_holiday'] = df['date'].apply(lambda x: int(x in spain_holidays))\n",
    "   df['day_of_month'] = df.date.dt.day.astype(\"int8\")\n",
    "   df[\"quarter\"] = df.date.dt.quarter.astype(\"int8\")\n",
    "   df['month_sin'] = np.sin(2*np.pi*df.month/12)\n",
    "   df['month_cos'] = np.cos(2*np.pi*df.month/12)\n",
    "   df['day_sin'] = np.sin(2*np.pi*df.day_of_month/31)\n",
    "   df['day_cos'] = np.cos(2*np.pi*df.day_of_month/31)\n",
    "   df=df.drop(['date'],axis=1)\n",
    "   return df"
   ]
  },
  {
   "cell_type": "code",
   "execution_count": 20,
   "id": "1f66d382",
   "metadata": {
    "execution": {
     "iopub.execute_input": "2023-07-25T12:16:48.828565Z",
     "iopub.status.busy": "2023-07-25T12:16:48.828056Z",
     "iopub.status.idle": "2023-07-25T12:16:53.596458Z",
     "shell.execute_reply": "2023-07-25T12:16:53.595029Z"
    },
    "papermill": {
     "duration": 4.79343,
     "end_time": "2023-07-25T12:16:53.599596",
     "exception": false,
     "start_time": "2023-07-25T12:16:48.806166",
     "status": "completed"
    },
    "tags": []
   },
   "outputs": [],
   "source": [
    "train= new_column(train)"
   ]
  },
  {
   "cell_type": "code",
   "execution_count": 21,
   "id": "3fb54897",
   "metadata": {
    "execution": {
     "iopub.execute_input": "2023-07-25T12:16:53.641281Z",
     "iopub.status.busy": "2023-07-25T12:16:53.640745Z",
     "iopub.status.idle": "2023-07-25T12:16:53.664370Z",
     "shell.execute_reply": "2023-07-25T12:16:53.662985Z"
    },
    "papermill": {
     "duration": 0.047923,
     "end_time": "2023-07-25T12:16:53.667250",
     "exception": false,
     "start_time": "2023-07-25T12:16:53.619327",
     "status": "completed"
    },
    "tags": []
   },
   "outputs": [
    {
     "data": {
      "text/html": [
       "<div>\n",
       "<style scoped>\n",
       "    .dataframe tbody tr th:only-of-type {\n",
       "        vertical-align: middle;\n",
       "    }\n",
       "\n",
       "    .dataframe tbody tr th {\n",
       "        vertical-align: top;\n",
       "    }\n",
       "\n",
       "    .dataframe thead th {\n",
       "        text-align: right;\n",
       "    }\n",
       "</style>\n",
       "<table border=\"1\" class=\"dataframe\">\n",
       "  <thead>\n",
       "    <tr style=\"text-align: right;\">\n",
       "      <th></th>\n",
       "      <th>id</th>\n",
       "      <th>country</th>\n",
       "      <th>store</th>\n",
       "      <th>product</th>\n",
       "      <th>num_sold</th>\n",
       "      <th>day</th>\n",
       "      <th>month</th>\n",
       "      <th>year</th>\n",
       "      <th>is_argentina_holiday</th>\n",
       "      <th>is_canada_holiday</th>\n",
       "      <th>is_estonia_holiday</th>\n",
       "      <th>is_japan_holiday</th>\n",
       "      <th>is_spain_holiday</th>\n",
       "      <th>day_of_month</th>\n",
       "      <th>quarter</th>\n",
       "      <th>month_sin</th>\n",
       "      <th>month_cos</th>\n",
       "      <th>day_sin</th>\n",
       "      <th>day_cos</th>\n",
       "    </tr>\n",
       "  </thead>\n",
       "  <tbody>\n",
       "    <tr>\n",
       "      <th>0</th>\n",
       "      <td>0</td>\n",
       "      <td>Argentina</td>\n",
       "      <td>Kaggle Learn</td>\n",
       "      <td>Using LLMs to Improve Your Coding</td>\n",
       "      <td>63</td>\n",
       "      <td>1</td>\n",
       "      <td>1</td>\n",
       "      <td>2017</td>\n",
       "      <td>1</td>\n",
       "      <td>1</td>\n",
       "      <td>1</td>\n",
       "      <td>1</td>\n",
       "      <td>0</td>\n",
       "      <td>1</td>\n",
       "      <td>1</td>\n",
       "      <td>0.5</td>\n",
       "      <td>0.866025</td>\n",
       "      <td>0.201299</td>\n",
       "      <td>0.97953</td>\n",
       "    </tr>\n",
       "    <tr>\n",
       "      <th>1</th>\n",
       "      <td>1</td>\n",
       "      <td>Argentina</td>\n",
       "      <td>Kaggle Learn</td>\n",
       "      <td>Using LLMs to Train More LLMs</td>\n",
       "      <td>66</td>\n",
       "      <td>1</td>\n",
       "      <td>1</td>\n",
       "      <td>2017</td>\n",
       "      <td>1</td>\n",
       "      <td>1</td>\n",
       "      <td>1</td>\n",
       "      <td>1</td>\n",
       "      <td>0</td>\n",
       "      <td>1</td>\n",
       "      <td>1</td>\n",
       "      <td>0.5</td>\n",
       "      <td>0.866025</td>\n",
       "      <td>0.201299</td>\n",
       "      <td>0.97953</td>\n",
       "    </tr>\n",
       "    <tr>\n",
       "      <th>2</th>\n",
       "      <td>2</td>\n",
       "      <td>Argentina</td>\n",
       "      <td>Kaggle Learn</td>\n",
       "      <td>Using LLMs to Win Friends and Influence People</td>\n",
       "      <td>9</td>\n",
       "      <td>1</td>\n",
       "      <td>1</td>\n",
       "      <td>2017</td>\n",
       "      <td>1</td>\n",
       "      <td>1</td>\n",
       "      <td>1</td>\n",
       "      <td>1</td>\n",
       "      <td>0</td>\n",
       "      <td>1</td>\n",
       "      <td>1</td>\n",
       "      <td>0.5</td>\n",
       "      <td>0.866025</td>\n",
       "      <td>0.201299</td>\n",
       "      <td>0.97953</td>\n",
       "    </tr>\n",
       "    <tr>\n",
       "      <th>3</th>\n",
       "      <td>3</td>\n",
       "      <td>Argentina</td>\n",
       "      <td>Kaggle Learn</td>\n",
       "      <td>Using LLMs to Win More Kaggle Competitions</td>\n",
       "      <td>59</td>\n",
       "      <td>1</td>\n",
       "      <td>1</td>\n",
       "      <td>2017</td>\n",
       "      <td>1</td>\n",
       "      <td>1</td>\n",
       "      <td>1</td>\n",
       "      <td>1</td>\n",
       "      <td>0</td>\n",
       "      <td>1</td>\n",
       "      <td>1</td>\n",
       "      <td>0.5</td>\n",
       "      <td>0.866025</td>\n",
       "      <td>0.201299</td>\n",
       "      <td>0.97953</td>\n",
       "    </tr>\n",
       "    <tr>\n",
       "      <th>4</th>\n",
       "      <td>4</td>\n",
       "      <td>Argentina</td>\n",
       "      <td>Kaggle Learn</td>\n",
       "      <td>Using LLMs to Write Better</td>\n",
       "      <td>49</td>\n",
       "      <td>1</td>\n",
       "      <td>1</td>\n",
       "      <td>2017</td>\n",
       "      <td>1</td>\n",
       "      <td>1</td>\n",
       "      <td>1</td>\n",
       "      <td>1</td>\n",
       "      <td>0</td>\n",
       "      <td>1</td>\n",
       "      <td>1</td>\n",
       "      <td>0.5</td>\n",
       "      <td>0.866025</td>\n",
       "      <td>0.201299</td>\n",
       "      <td>0.97953</td>\n",
       "    </tr>\n",
       "  </tbody>\n",
       "</table>\n",
       "</div>"
      ],
      "text/plain": [
       "   id    country         store  \\\n",
       "0   0  Argentina  Kaggle Learn   \n",
       "1   1  Argentina  Kaggle Learn   \n",
       "2   2  Argentina  Kaggle Learn   \n",
       "3   3  Argentina  Kaggle Learn   \n",
       "4   4  Argentina  Kaggle Learn   \n",
       "\n",
       "                                          product  num_sold  day  month  year  \\\n",
       "0               Using LLMs to Improve Your Coding        63    1      1  2017   \n",
       "1                   Using LLMs to Train More LLMs        66    1      1  2017   \n",
       "2  Using LLMs to Win Friends and Influence People         9    1      1  2017   \n",
       "3      Using LLMs to Win More Kaggle Competitions        59    1      1  2017   \n",
       "4                      Using LLMs to Write Better        49    1      1  2017   \n",
       "\n",
       "   is_argentina_holiday  is_canada_holiday  is_estonia_holiday  \\\n",
       "0                     1                  1                   1   \n",
       "1                     1                  1                   1   \n",
       "2                     1                  1                   1   \n",
       "3                     1                  1                   1   \n",
       "4                     1                  1                   1   \n",
       "\n",
       "   is_japan_holiday  is_spain_holiday  day_of_month  quarter  month_sin  \\\n",
       "0                 1                 0             1        1        0.5   \n",
       "1                 1                 0             1        1        0.5   \n",
       "2                 1                 0             1        1        0.5   \n",
       "3                 1                 0             1        1        0.5   \n",
       "4                 1                 0             1        1        0.5   \n",
       "\n",
       "   month_cos   day_sin  day_cos  \n",
       "0   0.866025  0.201299  0.97953  \n",
       "1   0.866025  0.201299  0.97953  \n",
       "2   0.866025  0.201299  0.97953  \n",
       "3   0.866025  0.201299  0.97953  \n",
       "4   0.866025  0.201299  0.97953  "
      ]
     },
     "execution_count": 21,
     "metadata": {},
     "output_type": "execute_result"
    }
   ],
   "source": [
    "train.head()"
   ]
  },
  {
   "cell_type": "markdown",
   "id": "0a3f1b03",
   "metadata": {
    "papermill": {
     "duration": 0.019869,
     "end_time": "2023-07-25T12:16:53.706855",
     "exception": false,
     "start_time": "2023-07-25T12:16:53.686986",
     "status": "completed"
    },
    "tags": []
   },
   "source": [
    "Exclude 2020 as it is outlier because of unpredictable covid 19 phase"
   ]
  },
  {
   "cell_type": "code",
   "execution_count": 22,
   "id": "eaa0cefa",
   "metadata": {
    "execution": {
     "iopub.execute_input": "2023-07-25T12:16:53.750099Z",
     "iopub.status.busy": "2023-07-25T12:16:53.749563Z",
     "iopub.status.idle": "2023-07-25T12:16:53.788222Z",
     "shell.execute_reply": "2023-07-25T12:16:53.786960Z"
    },
    "papermill": {
     "duration": 0.064325,
     "end_time": "2023-07-25T12:16:53.791673",
     "exception": false,
     "start_time": "2023-07-25T12:16:53.727348",
     "status": "completed"
    },
    "tags": []
   },
   "outputs": [],
   "source": [
    "train = train[train['year'] != 2020]"
   ]
  },
  {
   "cell_type": "code",
   "execution_count": 23,
   "id": "0f7a5b06",
   "metadata": {
    "execution": {
     "iopub.execute_input": "2023-07-25T12:16:53.835766Z",
     "iopub.status.busy": "2023-07-25T12:16:53.834946Z",
     "iopub.status.idle": "2023-07-25T12:16:53.839458Z",
     "shell.execute_reply": "2023-07-25T12:16:53.838513Z"
    },
    "papermill": {
     "duration": 0.030175,
     "end_time": "2023-07-25T12:16:53.842042",
     "exception": false,
     "start_time": "2023-07-25T12:16:53.811867",
     "status": "completed"
    },
    "tags": []
   },
   "outputs": [],
   "source": [
    "#stores=train['store'].unique()"
   ]
  },
  {
   "cell_type": "code",
   "execution_count": 24,
   "id": "3b926a43",
   "metadata": {
    "execution": {
     "iopub.execute_input": "2023-07-25T12:16:53.886064Z",
     "iopub.status.busy": "2023-07-25T12:16:53.885169Z",
     "iopub.status.idle": "2023-07-25T12:16:53.902949Z",
     "shell.execute_reply": "2023-07-25T12:16:53.901564Z"
    },
    "papermill": {
     "duration": 0.043446,
     "end_time": "2023-07-25T12:16:53.905872",
     "exception": false,
     "start_time": "2023-07-25T12:16:53.862426",
     "status": "completed"
    },
    "tags": []
   },
   "outputs": [],
   "source": [
    "X= train.drop(['num_sold'],axis=1)\n",
    "y= train[['num_sold']]"
   ]
  },
  {
   "cell_type": "code",
   "execution_count": 25,
   "id": "8c212cb7",
   "metadata": {
    "execution": {
     "iopub.execute_input": "2023-07-25T12:16:53.947273Z",
     "iopub.status.busy": "2023-07-25T12:16:53.946748Z",
     "iopub.status.idle": "2023-07-25T12:16:54.291301Z",
     "shell.execute_reply": "2023-07-25T12:16:54.289827Z"
    },
    "papermill": {
     "duration": 0.369059,
     "end_time": "2023-07-25T12:16:54.294593",
     "exception": false,
     "start_time": "2023-07-25T12:16:53.925534",
     "status": "completed"
    },
    "tags": []
   },
   "outputs": [],
   "source": [
    "cbe= CatBoostEncoder(cols = ['country', 'store', 'product']).fit(X,y)\n",
    "X= cbe.transform(X)\n"
   ]
  },
  {
   "cell_type": "code",
   "execution_count": 26,
   "id": "f3fb88f5",
   "metadata": {
    "execution": {
     "iopub.execute_input": "2023-07-25T12:16:54.336288Z",
     "iopub.status.busy": "2023-07-25T12:16:54.335776Z",
     "iopub.status.idle": "2023-07-25T12:16:54.344025Z",
     "shell.execute_reply": "2023-07-25T12:16:54.342721Z"
    },
    "papermill": {
     "duration": 0.032822,
     "end_time": "2023-07-25T12:16:54.347068",
     "exception": false,
     "start_time": "2023-07-25T12:16:54.314246",
     "status": "completed"
    },
    "tags": []
   },
   "outputs": [],
   "source": [
    "y=np.log1p(y)"
   ]
  },
  {
   "cell_type": "code",
   "execution_count": 27,
   "id": "7fe634c3",
   "metadata": {
    "execution": {
     "iopub.execute_input": "2023-07-25T12:16:54.390316Z",
     "iopub.status.busy": "2023-07-25T12:16:54.389803Z",
     "iopub.status.idle": "2023-07-25T12:16:54.405317Z",
     "shell.execute_reply": "2023-07-25T12:16:54.404029Z"
    },
    "papermill": {
     "duration": 0.040803,
     "end_time": "2023-07-25T12:16:54.408422",
     "exception": false,
     "start_time": "2023-07-25T12:16:54.367619",
     "status": "completed"
    },
    "tags": []
   },
   "outputs": [],
   "source": [
    "test['date']=pd.to_datetime(test['date'])"
   ]
  },
  {
   "cell_type": "code",
   "execution_count": 28,
   "id": "55690b8d",
   "metadata": {
    "execution": {
     "iopub.execute_input": "2023-07-25T12:16:54.452533Z",
     "iopub.status.busy": "2023-07-25T12:16:54.451955Z",
     "iopub.status.idle": "2023-07-25T12:16:55.294381Z",
     "shell.execute_reply": "2023-07-25T12:16:55.293098Z"
    },
    "papermill": {
     "duration": 0.867446,
     "end_time": "2023-07-25T12:16:55.297293",
     "exception": false,
     "start_time": "2023-07-25T12:16:54.429847",
     "status": "completed"
    },
    "tags": []
   },
   "outputs": [],
   "source": [
    "test=new_column(test)"
   ]
  },
  {
   "cell_type": "code",
   "execution_count": 29,
   "id": "b885207c",
   "metadata": {
    "execution": {
     "iopub.execute_input": "2023-07-25T12:16:55.340184Z",
     "iopub.status.busy": "2023-07-25T12:16:55.339691Z",
     "iopub.status.idle": "2023-07-25T12:16:55.393299Z",
     "shell.execute_reply": "2023-07-25T12:16:55.391565Z"
    },
    "papermill": {
     "duration": 0.078599,
     "end_time": "2023-07-25T12:16:55.396536",
     "exception": false,
     "start_time": "2023-07-25T12:16:55.317937",
     "status": "completed"
    },
    "tags": []
   },
   "outputs": [],
   "source": [
    "test=cbe.transform(test)"
   ]
  },
  {
   "cell_type": "code",
   "execution_count": 30,
   "id": "0079b09a",
   "metadata": {
    "execution": {
     "iopub.execute_input": "2023-07-25T12:16:55.439820Z",
     "iopub.status.busy": "2023-07-25T12:16:55.439304Z",
     "iopub.status.idle": "2023-07-25T12:16:55.448970Z",
     "shell.execute_reply": "2023-07-25T12:16:55.447746Z"
    },
    "papermill": {
     "duration": 0.034705,
     "end_time": "2023-07-25T12:16:55.451618",
     "exception": false,
     "start_time": "2023-07-25T12:16:55.416913",
     "status": "completed"
    },
    "tags": []
   },
   "outputs": [],
   "source": [
    "def hgbr_objective(trial):\n",
    "    # Use the trial object to suggest a value for alpha\n",
    "    # Optuna will come up with a suggested value based on the scores of previous trials\n",
    "    _alpha = trial.suggest_float(\"quantile\", 0.1, 1)\n",
    "    _beta = trial.suggest_float(\"learning_rate\", 0.1, 20)\n",
    "    _gamma = trial.suggest_int(\"max_iter\", 1, 100)\n",
    "    _delta= trial.suggest_int(\"max_leaf_nodes\", 2, 100)\n",
    "    _theta= trial.suggest_int(\"max_depth\", 1, 12)\n",
    "    # Define the model with the suggested alpha\n",
    "    hgbr = HistGradientBoostingRegressor(quantile=_alpha,learning_rate=_beta,max_iter=_gamma,\n",
    "                                         interaction_cst=\"pairwise\",warm_start=1,l2_regularization=1,\n",
    "                                         max_leaf_nodes= _delta,max_depth=_theta,random_state=42)\n",
    "    # Calculate the score with 10-folds cross validation, which returns a list of scores\n",
    "    # scoring is defined as negative RMSE as it is what this Kaggle competition uses to evaluate the result\n",
    "    scores = cross_val_score(hgbr, X, y, \n",
    "                             cv=KFold(n_splits=10,\n",
    "                                      shuffle=True,\n",
    "                                      random_state=42),\n",
    "                             scoring=\"neg_root_mean_squared_error\"\n",
    "                             #,error_score='raise'\n",
    "                            )\n",
    "    # Return the mean of 10 scores\n",
    "    return scores.mean()"
   ]
  },
  {
   "cell_type": "code",
   "execution_count": 31,
   "id": "f7e32d2e",
   "metadata": {
    "execution": {
     "iopub.execute_input": "2023-07-25T12:16:55.493672Z",
     "iopub.status.busy": "2023-07-25T12:16:55.493161Z",
     "iopub.status.idle": "2023-07-25T12:16:55.501310Z",
     "shell.execute_reply": "2023-07-25T12:16:55.499543Z"
    },
    "papermill": {
     "duration": 0.032761,
     "end_time": "2023-07-25T12:16:55.504294",
     "exception": false,
     "start_time": "2023-07-25T12:16:55.471533",
     "status": "completed"
    },
    "tags": []
   },
   "outputs": [
    {
     "name": "stderr",
     "output_type": "stream",
     "text": [
      "[I 2023-07-25 12:16:55,495] A new study created in memory with name: no-name-8d673845-a3d4-455d-8e18-0f6d83dce6db\n"
     ]
    }
   ],
   "source": [
    "# Create Study object\n",
    "study = optuna.create_study(direction=\"maximize\")"
   ]
  },
  {
   "cell_type": "code",
   "execution_count": 32,
   "id": "c0186757",
   "metadata": {
    "execution": {
     "iopub.execute_input": "2023-07-25T12:16:55.548305Z",
     "iopub.status.busy": "2023-07-25T12:16:55.547713Z",
     "iopub.status.idle": "2023-07-25T12:59:38.612349Z",
     "shell.execute_reply": "2023-07-25T12:59:38.611206Z"
    },
    "papermill": {
     "duration": 2563.090067,
     "end_time": "2023-07-25T12:59:38.615584",
     "exception": false,
     "start_time": "2023-07-25T12:16:55.525517",
     "status": "completed"
    },
    "tags": []
   },
   "outputs": [
    {
     "name": "stderr",
     "output_type": "stream",
     "text": [
      "[I 2023-07-25 12:17:11,452] Trial 0 finished with value: -0.05907124972162109 and parameters: {'quantile': 0.19058880010335782, 'learning_rate': 1.0558096085883772, 'max_iter': 85, 'max_leaf_nodes': 69, 'max_depth': 9}. Best is trial 0 with value: -0.05907124972162109.\n",
      "[I 2023-07-25 12:17:14,461] Trial 1 finished with value: -27696.208278424463 and parameters: {'quantile': 0.21473238447428974, 'learning_rate': 3.7794869895478627, 'max_iter': 51, 'max_leaf_nodes': 99, 'max_depth': 8}. Best is trial 0 with value: -0.05907124972162109.\n",
      "[I 2023-07-25 12:17:18,146] Trial 2 finished with value: -570081015773.8884 and parameters: {'quantile': 0.6205054211525632, 'learning_rate': 15.973062632446117, 'max_iter': 97, 'max_leaf_nodes': 97, 'max_depth': 4}. Best is trial 0 with value: -0.05907124972162109.\n",
      "[I 2023-07-25 12:17:20,652] Trial 3 finished with value: -3.99795917535605 and parameters: {'quantile': 0.2238394217299704, 'learning_rate': 2.408553940345725, 'max_iter': 4, 'max_leaf_nodes': 75, 'max_depth': 7}. Best is trial 0 with value: -0.05907124972162109.\n",
      "[I 2023-07-25 12:17:23,634] Trial 4 finished with value: -1712403459277.528 and parameters: {'quantile': 0.7172286350521883, 'learning_rate': 17.71337982160687, 'max_iter': 36, 'max_leaf_nodes': 83, 'max_depth': 5}. Best is trial 0 with value: -0.05907124972162109.\n",
      "[I 2023-07-25 12:17:26,641] Trial 5 finished with value: -2990127207455.233 and parameters: {'quantile': 0.19655802049010668, 'learning_rate': 18.671460120557946, 'max_iter': 33, 'max_leaf_nodes': 16, 'max_depth': 5}. Best is trial 0 with value: -0.05907124972162109.\n",
      "[I 2023-07-25 12:17:32,657] Trial 6 finished with value: -0.08552492325828134 and parameters: {'quantile': 0.7851587790843928, 'learning_rate': 0.8681367048853441, 'max_iter': 53, 'max_leaf_nodes': 59, 'max_depth': 4}. Best is trial 0 with value: -0.05907124972162109.\n",
      "[I 2023-07-25 12:17:35,455] Trial 7 finished with value: -37419582014.38933 and parameters: {'quantile': 0.9573897118512792, 'learning_rate': 12.40323736551485, 'max_iter': 45, 'max_leaf_nodes': 27, 'max_depth': 4}. Best is trial 0 with value: -0.05907124972162109.\n",
      "[I 2023-07-25 12:17:38,482] Trial 8 finished with value: -2662465121267.7197 and parameters: {'quantile': 0.5290544247584523, 'learning_rate': 18.467546276258158, 'max_iter': 45, 'max_leaf_nodes': 58, 'max_depth': 9}. Best is trial 0 with value: -0.05907124972162109.\n",
      "[I 2023-07-25 12:17:40,675] Trial 9 finished with value: -8.773999535515475 and parameters: {'quantile': 0.1990659082300586, 'learning_rate': 9.687573189637193, 'max_iter': 1, 'max_leaf_nodes': 62, 'max_depth': 6}. Best is trial 0 with value: -0.05907124972162109.\n",
      "[I 2023-07-25 12:17:43,725] Trial 10 finished with value: -7409501.010104584 and parameters: {'quantile': 0.4179953805035428, 'learning_rate': 5.860621262950758, 'max_iter': 100, 'max_leaf_nodes': 37, 'max_depth': 12}. Best is trial 0 with value: -0.05907124972162109.\n",
      "[I 2023-07-25 12:17:50,021] Trial 11 finished with value: -0.15994529290116827 and parameters: {'quantile': 0.8096111067024228, 'learning_rate': 0.2848108375116386, 'max_iter': 76, 'max_leaf_nodes': 46, 'max_depth': 1}. Best is trial 0 with value: -0.05907124972162109.\n",
      "[I 2023-07-25 12:18:03,347] Trial 12 finished with value: -0.06555408886688883 and parameters: {'quantile': 0.3824302412589557, 'learning_rate': 0.5257039569802229, 'max_iter': 73, 'max_leaf_nodes': 70, 'max_depth': 11}. Best is trial 0 with value: -0.05907124972162109.\n",
      "[I 2023-07-25 12:18:06,315] Trial 13 finished with value: -1529268.5888079025 and parameters: {'quantile': 0.34792915648615197, 'learning_rate': 5.151102753433967, 'max_iter': 75, 'max_leaf_nodes': 76, 'max_depth': 11}. Best is trial 0 with value: -0.05907124972162109.\n",
      "[I 2023-07-25 12:18:18,449] Trial 14 finished with value: -0.08786314272994822 and parameters: {'quantile': 0.35724014710985325, 'learning_rate': 0.2150250065835344, 'max_iter': 77, 'max_leaf_nodes': 70, 'max_depth': 10}. Best is trial 0 with value: -0.05907124972162109.\n",
      "[I 2023-07-25 12:18:22,019] Trial 15 finished with value: -16052507.065453222 and parameters: {'quantile': 0.1481574697644469, 'learning_rate': 6.261460446317022, 'max_iter': 87, 'max_leaf_nodes': 4, 'max_depth': 12}. Best is trial 0 with value: -0.05907124972162109.\n",
      "[I 2023-07-25 12:18:24,985] Trial 16 finished with value: -1000.2222857010875 and parameters: {'quantile': 0.45012588377994744, 'learning_rate': 2.9940737348190645, 'max_iter': 65, 'max_leaf_nodes': 87, 'max_depth': 10}. Best is trial 0 with value: -0.05907124972162109.\n",
      "[I 2023-07-25 12:18:27,936] Trial 17 finished with value: -149004122.7336486 and parameters: {'quantile': 0.3029226949859714, 'learning_rate': 7.561896055885152, 'max_iter': 65, 'max_leaf_nodes': 47, 'max_depth': 9}. Best is trial 0 with value: -0.05907124972162109.\n",
      "[I 2023-07-25 12:18:30,892] Trial 18 finished with value: -69.02740942342794 and parameters: {'quantile': 0.12868162679549056, 'learning_rate': 2.526308400973761, 'max_iter': 89, 'max_leaf_nodes': 68, 'max_depth': 8}. Best is trial 0 with value: -0.05907124972162109.\n",
      "[I 2023-07-25 12:18:33,859] Trial 19 finished with value: -48242.28490399351 and parameters: {'quantile': 0.10958356526144465, 'learning_rate': 3.9380837724760553, 'max_iter': 64, 'max_leaf_nodes': 87, 'max_depth': 11}. Best is trial 0 with value: -0.05907124972162109.\n",
      "[I 2023-07-25 12:18:36,351] Trial 20 finished with value: -563404885.5005453 and parameters: {'quantile': 0.287475136653327, 'learning_rate': 8.762842970321442, 'max_iter': 18, 'max_leaf_nodes': 38, 'max_depth': 1}. Best is trial 0 with value: -0.05907124972162109.\n",
      "[I 2023-07-25 12:18:41,427] Trial 21 finished with value: -0.14177441959109754 and parameters: {'quantile': 0.5319973528020624, 'learning_rate': 0.1586309666499126, 'max_iter': 56, 'max_leaf_nodes': 55, 'max_depth': 2}. Best is trial 0 with value: -0.05907124972162109.\n",
      "[I 2023-07-25 12:18:49,290] Trial 22 finished with value: -0.09911884147107974 and parameters: {'quantile': 0.4338741449285398, 'learning_rate': 1.7108398712128705, 'max_iter': 89, 'max_leaf_nodes': 64, 'max_depth': 3}. Best is trial 0 with value: -0.05907124972162109.\n",
      "[I 2023-07-25 12:19:01,916] Trial 23 finished with value: -0.09315563561660242 and parameters: {'quantile': 0.6466826108317475, 'learning_rate': 1.7961137062215706, 'max_iter': 73, 'max_leaf_nodes': 52, 'max_depth': 7}. Best is trial 0 with value: -0.05907124972162109.\n",
      "[I 2023-07-25 12:19:05,015] Trial 24 finished with value: -57615.31353783257 and parameters: {'quantile': 0.26947350523306124, 'learning_rate': 3.990713438399557, 'max_iter': 83, 'max_leaf_nodes': 77, 'max_depth': 10}. Best is trial 0 with value: -0.05907124972162109.\n",
      "[I 2023-07-25 12:19:16,298] Trial 25 finished with value: -0.08267338043655857 and parameters: {'quantile': 0.4852097406114434, 'learning_rate': 1.6931544000838379, 'max_iter': 60, 'max_leaf_nodes': 67, 'max_depth': 8}. Best is trial 0 with value: -0.05907124972162109.\n",
      "[I 2023-07-25 12:19:29,125] Trial 26 finished with value: -0.08830527845762087 and parameters: {'quantile': 0.3693528601888879, 'learning_rate': 1.7623724131652194, 'max_iter': 61, 'max_leaf_nodes': 81, 'max_depth': 8}. Best is trial 0 with value: -0.05907124972162109.\n",
      "[I 2023-07-25 12:19:32,190] Trial 27 finished with value: -671170.5597805923 and parameters: {'quantile': 0.4783212900879731, 'learning_rate': 4.822959546832811, 'max_iter': 68, 'max_leaf_nodes': 92, 'max_depth': 9}. Best is trial 0 with value: -0.05907124972162109.\n",
      "[I 2023-07-25 12:19:35,298] Trial 28 finished with value: -239.00715835375254 and parameters: {'quantile': 0.3713986556081415, 'learning_rate': 2.728134110253425, 'max_iter': 81, 'max_leaf_nodes': 69, 'max_depth': 11}. Best is trial 0 with value: -0.05907124972162109.\n",
      "[I 2023-07-25 12:19:38,545] Trial 29 finished with value: -37637.18256319091 and parameters: {'quantile': 0.25226623326753367, 'learning_rate': 3.8660491793116343, 'max_iter': 45, 'max_leaf_nodes': 42, 'max_depth': 8}. Best is trial 0 with value: -0.05907124972162109.\n",
      "[I 2023-07-25 12:19:41,700] Trial 30 finished with value: -44640951.82420449 and parameters: {'quantile': 0.49879758331146096, 'learning_rate': 6.816799513714319, 'max_iter': 93, 'max_leaf_nodes': 71, 'max_depth': 9}. Best is trial 0 with value: -0.05907124972162109.\n",
      "[I 2023-07-25 12:19:50,769] Trial 31 finished with value: -0.07192220635563153 and parameters: {'quantile': 0.5796603959132763, 'learning_rate': 1.280547970580906, 'max_iter': 50, 'max_leaf_nodes': 61, 'max_depth': 7}. Best is trial 0 with value: -0.05907124972162109.\n",
      "[I 2023-07-25 12:20:00,886] Trial 32 finished with value: -0.07449944060148485 and parameters: {'quantile': 0.5890101184080918, 'learning_rate': 1.2876801222523067, 'max_iter': 58, 'max_leaf_nodes': 99, 'max_depth': 6}. Best is trial 0 with value: -0.05907124972162109.\n",
      "[I 2023-07-25 12:20:06,258] Trial 33 finished with value: -0.08847558461187505 and parameters: {'quantile': 0.41213659494435984, 'learning_rate': 1.1083578766895394, 'max_iter': 34, 'max_leaf_nodes': 99, 'max_depth': 5}. Best is trial 0 with value: -0.05907124972162109.\n",
      "[I 2023-07-25 12:20:09,464] Trial 34 finished with value: -2484.949099248336 and parameters: {'quantile': 0.5763672420816948, 'learning_rate': 3.18403984930211, 'max_iter': 69, 'max_leaf_nodes': 93, 'max_depth': 6}. Best is trial 0 with value: -0.05907124972162109.\n",
      "[I 2023-07-25 12:20:12,514] Trial 35 finished with value: -376349.5121594147 and parameters: {'quantile': 0.5654283165423063, 'learning_rate': 4.608083105764464, 'max_iter': 28, 'max_leaf_nodes': 82, 'max_depth': 7}. Best is trial 0 with value: -0.05907124972162109.\n",
      "[I 2023-07-25 12:20:21,062] Trial 36 finished with value: -0.07417023637049427 and parameters: {'quantile': 0.6251857164709358, 'learning_rate': 1.216014217034901, 'max_iter': 52, 'max_leaf_nodes': 93, 'max_depth': 6}. Best is trial 0 with value: -0.05907124972162109.\n",
      "[I 2023-07-25 12:20:24,118] Trial 37 finished with value: -1486.7738511398738 and parameters: {'quantile': 0.6454257822558942, 'learning_rate': 3.0746976882011894, 'max_iter': 50, 'max_leaf_nodes': 76, 'max_depth': 5}. Best is trial 0 with value: -0.05907124972162109.\n",
      "[I 2023-07-25 12:20:27,282] Trial 38 finished with value: -3.0747234768421485 and parameters: {'quantile': 0.17045143332223447, 'learning_rate': 2.1166938137841718, 'max_iter': 24, 'max_leaf_nodes': 60, 'max_depth': 7}. Best is trial 0 with value: -0.05907124972162109.\n",
      "[I 2023-07-25 12:20:37,640] Trial 39 finished with value: -0.0672804070945946 and parameters: {'quantile': 0.22798658189100834, 'learning_rate': 0.8328092166540464, 'max_iter': 40, 'max_leaf_nodes': 90, 'max_depth': 10}. Best is trial 0 with value: -0.05907124972162109.\n",
      "[I 2023-07-25 12:20:41,155] Trial 40 finished with value: -0.16541412179314804 and parameters: {'quantile': 0.1953961721913302, 'learning_rate': 0.29292507180419947, 'max_iter': 12, 'max_leaf_nodes': 86, 'max_depth': 10}. Best is trial 0 with value: -0.05907124972162109.\n",
      "[I 2023-07-25 12:20:50,346] Trial 41 finished with value: -0.06378125261025805 and parameters: {'quantile': 0.24394595460022647, 'learning_rate': 0.9862742425210247, 'max_iter': 37, 'max_leaf_nodes': 92, 'max_depth': 11}. Best is trial 0 with value: -0.05907124972162109.\n",
      "[I 2023-07-25 12:20:53,426] Trial 42 finished with value: -22.911664673765216 and parameters: {'quantile': 0.2280970776471178, 'learning_rate': 2.3669139644938797, 'max_iter': 41, 'max_leaf_nodes': 81, 'max_depth': 12}. Best is trial 0 with value: -0.05907124972162109.\n",
      "[I 2023-07-25 12:21:03,311] Trial 43 finished with value: -0.06878630038844087 and parameters: {'quantile': 0.2342770532336667, 'learning_rate': 0.7813393787325534, 'max_iter': 40, 'max_leaf_nodes': 73, 'max_depth': 11}. Best is trial 0 with value: -0.05907124972162109.\n",
      "[I 2023-07-25 12:21:08,528] Trial 44 finished with value: -0.16866111529305283 and parameters: {'quantile': 0.24284926933301706, 'learning_rate': 0.13769331609499313, 'max_iter': 28, 'max_leaf_nodes': 89, 'max_depth': 11}. Best is trial 0 with value: -0.05907124972162109.\n",
      "[I 2023-07-25 12:21:11,556] Trial 45 finished with value: -3774.96729465559 and parameters: {'quantile': 0.17344879344140807, 'learning_rate': 3.2772931707869235, 'max_iter': 38, 'max_leaf_nodes': 73, 'max_depth': 11}. Best is trial 0 with value: -0.05907124972162109.\n",
      "[I 2023-07-25 12:21:21,215] Trial 46 finished with value: -0.06594515650292374 and parameters: {'quantile': 0.30738845443484575, 'learning_rate': 0.7367133553592028, 'max_iter': 42, 'max_leaf_nodes': 95, 'max_depth': 12}. Best is trial 0 with value: -0.05907124972162109.\n",
      "[I 2023-07-25 12:21:24,204] Trial 47 finished with value: -23706466386.951557 and parameters: {'quantile': 0.30898175612609213, 'learning_rate': 11.89412549036555, 'max_iter': 31, 'max_leaf_nodes': 94, 'max_depth': 12}. Best is trial 0 with value: -0.05907124972162109.\n",
      "[I 2023-07-25 12:21:27,296] Trial 48 finished with value: -2621597.3568849843 and parameters: {'quantile': 0.31498378807362976, 'learning_rate': 5.38097634026474, 'max_iter': 45, 'max_leaf_nodes': 100, 'max_depth': 10}. Best is trial 0 with value: -0.05907124972162109.\n",
      "[I 2023-07-25 12:21:30,385] Trial 49 finished with value: -23.333322019543708 and parameters: {'quantile': 0.20178556681117918, 'learning_rate': 2.3694099242193802, 'max_iter': 21, 'max_leaf_nodes': 27, 'max_depth': 12}. Best is trial 0 with value: -0.05907124972162109.\n",
      "[I 2023-07-25 12:21:52,407] Trial 50 finished with value: -0.05751446459987166 and parameters: {'quantile': 0.10028351951528922, 'learning_rate': 0.8464785035111141, 'max_iter': 98, 'max_leaf_nodes': 96, 'max_depth': 10}. Best is trial 50 with value: -0.05751446459987166.\n",
      "[I 2023-07-25 12:22:14,345] Trial 51 finished with value: -0.0565982541899383 and parameters: {'quantile': 0.139729862969168, 'learning_rate': 0.8813634790762186, 'max_iter': 99, 'max_leaf_nodes': 96, 'max_depth': 10}. Best is trial 51 with value: -0.0565982541899383.\n",
      "[I 2023-07-25 12:22:37,294] Trial 52 finished with value: -0.05644248975282014 and parameters: {'quantile': 0.11332342707244647, 'learning_rate': 0.8312951594617504, 'max_iter': 100, 'max_leaf_nodes': 95, 'max_depth': 12}. Best is trial 52 with value: -0.05644248975282014.\n",
      "[I 2023-07-25 12:22:40,223] Trial 53 finished with value: -10.159601287158766 and parameters: {'quantile': 0.10613361673169644, 'learning_rate': 2.2600372704545038, 'max_iter': 100, 'max_leaf_nodes': 85, 'max_depth': 9}. Best is trial 52 with value: -0.05644248975282014.\n",
      "[I 2023-07-25 12:22:43,147] Trial 54 finished with value: -6399.437184931725 and parameters: {'quantile': 0.16332039240004376, 'learning_rate': 3.4007137330699826, 'max_iter': 95, 'max_leaf_nodes': 97, 'max_depth': 11}. Best is trial 52 with value: -0.05644248975282014.\n",
      "[I 2023-07-25 12:22:57,980] Trial 55 finished with value: -0.08643584219247932 and parameters: {'quantile': 0.14354655010784748, 'learning_rate': 0.19689815777251718, 'max_iter': 92, 'max_leaf_nodes': 79, 'max_depth': 10}. Best is trial 52 with value: -0.05644248975282014.\n",
      "[I 2023-07-25 12:23:00,900] Trial 56 finished with value: -143602.62339277298 and parameters: {'quantile': 0.11898353312658501, 'learning_rate': 4.276690362475331, 'max_iter': 97, 'max_leaf_nodes': 89, 'max_depth': 11}. Best is trial 52 with value: -0.05644248975282014.\n",
      "[I 2023-07-25 12:23:18,457] Trial 57 finished with value: -0.08300065044961204 and parameters: {'quantile': 0.1012626671103594, 'learning_rate': 1.8287345159453343, 'max_iter': 84, 'max_leaf_nodes': 95, 'max_depth': 10}. Best is trial 52 with value: -0.05644248975282014.\n",
      "[I 2023-07-25 12:23:21,522] Trial 58 finished with value: -235.1134518354833 and parameters: {'quantile': 0.14944261363783123, 'learning_rate': 2.7252981498706443, 'max_iter': 89, 'max_leaf_nodes': 84, 'max_depth': 12}. Best is trial 52 with value: -0.05644248975282014.\n",
      "[I 2023-07-25 12:23:24,569] Trial 59 finished with value: -18005.14667550189 and parameters: {'quantile': 0.18985432094076887, 'learning_rate': 3.662338546184818, 'max_iter': 100, 'max_leaf_nodes': 56, 'max_depth': 9}. Best is trial 52 with value: -0.05644248975282014.\n",
      "[I 2023-07-25 12:23:40,858] Trial 60 finished with value: -0.059638227429800385 and parameters: {'quantile': 0.14597777462822925, 'learning_rate': 1.2289027052218575, 'max_iter': 78, 'max_leaf_nodes': 66, 'max_depth': 11}. Best is trial 52 with value: -0.05644248975282014.\n",
      "[I 2023-07-25 12:23:55,898] Trial 61 finished with value: -0.06501765035828852 and parameters: {'quantile': 0.14417016165327567, 'learning_rate': 1.5421823700263695, 'max_iter': 80, 'max_leaf_nodes': 65, 'max_depth': 11}. Best is trial 52 with value: -0.05644248975282014.\n",
      "[I 2023-07-25 12:24:12,250] Trial 62 finished with value: -0.05966714223225815 and parameters: {'quantile': 0.14463487183273813, 'learning_rate': 1.1234924489436173, 'max_iter': 79, 'max_leaf_nodes': 66, 'max_depth': 11}. Best is trial 52 with value: -0.05644248975282014.\n",
      "[I 2023-07-25 12:24:28,272] Trial 63 finished with value: -0.05867827529002125 and parameters: {'quantile': 0.13608539031085717, 'learning_rate': 0.9441415195117197, 'max_iter': 92, 'max_leaf_nodes': 53, 'max_depth': 12}. Best is trial 52 with value: -0.05644248975282014.\n",
      "[I 2023-07-25 12:24:39,304] Trial 64 finished with value: -0.456168905289254 and parameters: {'quantile': 0.12981321948259253, 'learning_rate': 1.9853164389573257, 'max_iter': 93, 'max_leaf_nodes': 50, 'max_depth': 12}. Best is trial 52 with value: -0.05644248975282014.\n",
      "[I 2023-07-25 12:24:51,724] Trial 65 finished with value: -0.06759722885764602 and parameters: {'quantile': 0.1811333260887196, 'learning_rate': 0.7154743423709349, 'max_iter': 86, 'max_leaf_nodes': 28, 'max_depth': 12}. Best is trial 52 with value: -0.05644248975282014.\n",
      "[I 2023-07-25 12:24:54,695] Trial 66 finished with value: -208.08832334200187 and parameters: {'quantile': 0.10016473947029099, 'learning_rate': 2.7043610609990916, 'max_iter': 96, 'max_leaf_nodes': 53, 'max_depth': 10}. Best is trial 52 with value: -0.05644248975282014.\n",
      "[I 2023-07-25 12:25:07,760] Trial 67 finished with value: -0.0629664179504307 and parameters: {'quantile': 0.1320716134936821, 'learning_rate': 1.3667422933008344, 'max_iter': 78, 'max_leaf_nodes': 49, 'max_depth': 11}. Best is trial 52 with value: -0.05644248975282014.\n",
      "[I 2023-07-25 12:25:21,091] Trial 68 finished with value: -0.09527519447749774 and parameters: {'quantile': 0.2120050997941448, 'learning_rate': 0.13803612751966232, 'max_iter': 90, 'max_leaf_nodes': 44, 'max_depth': 10}. Best is trial 52 with value: -0.05644248975282014.\n",
      "[I 2023-07-25 12:25:23,963] Trial 69 finished with value: -152103.9793456173 and parameters: {'quantile': 0.17060592247489986, 'learning_rate': 4.29558952268867, 'max_iter': 85, 'max_leaf_nodes': 66, 'max_depth': 9}. Best is trial 52 with value: -0.05644248975282014.\n",
      "[I 2023-07-25 12:25:37,615] Trial 70 finished with value: -0.06895212712848493 and parameters: {'quantile': 0.15022090602995183, 'learning_rate': 1.5212894497618734, 'max_iter': 97, 'max_leaf_nodes': 34, 'max_depth': 12}. Best is trial 52 with value: -0.05644248975282014.\n",
      "[I 2023-07-25 12:25:51,789] Trial 71 finished with value: -0.061728686106893284 and parameters: {'quantile': 0.1276950183775247, 'learning_rate': 1.226745164721266, 'max_iter': 78, 'max_leaf_nodes': 48, 'max_depth': 11}. Best is trial 52 with value: -0.05644248975282014.\n",
      "[I 2023-07-25 12:26:04,881] Trial 72 finished with value: -0.0615986857642364 and parameters: {'quantile': 0.12329075764631155, 'learning_rate': 0.7630828026373011, 'max_iter': 72, 'max_leaf_nodes': 57, 'max_depth': 11}. Best is trial 52 with value: -0.05644248975282014.\n",
      "[I 2023-07-25 12:26:20,113] Trial 73 finished with value: -0.06041400281179813 and parameters: {'quantile': 0.19319026399152311, 'learning_rate': 0.7857194237813634, 'max_iter': 73, 'max_leaf_nodes': 63, 'max_depth': 12}. Best is trial 52 with value: -0.05644248975282014.\n",
      "[I 2023-07-25 12:26:23,342] Trial 74 finished with value: -2.5174066539912565 and parameters: {'quantile': 0.20153074506167243, 'learning_rate': 2.0938226630023884, 'max_iter': 81, 'max_leaf_nodes': 63, 'max_depth': 12}. Best is trial 52 with value: -0.05644248975282014.\n",
      "[I 2023-07-25 12:26:26,545] Trial 75 finished with value: -83.57867937086469 and parameters: {'quantile': 0.1652121076365201, 'learning_rate': 2.5557838904922634, 'max_iter': 92, 'max_leaf_nodes': 60, 'max_depth': 12}. Best is trial 52 with value: -0.05644248975282014.\n",
      "[I 2023-07-25 12:26:43,713] Trial 76 finished with value: -0.05881002710610974 and parameters: {'quantile': 0.27876235697904106, 'learning_rate': 0.7715276602123471, 'max_iter': 100, 'max_leaf_nodes': 53, 'max_depth': 12}. Best is trial 52 with value: -0.05644248975282014.\n",
      "[I 2023-07-25 12:27:01,220] Trial 77 finished with value: -0.08110924899110186 and parameters: {'quantile': 0.2612234659040523, 'learning_rate': 1.8041582029003993, 'max_iter': 100, 'max_leaf_nodes': 54, 'max_depth': 10}. Best is trial 52 with value: -0.05644248975282014.\n",
      "[I 2023-07-25 12:27:04,100] Trial 78 finished with value: -1678.9584038148764 and parameters: {'quantile': 0.2207535213594536, 'learning_rate': 3.1000709028972406, 'max_iter': 87, 'max_leaf_nodes': 45, 'max_depth': 11}. Best is trial 52 with value: -0.05644248975282014.\n",
      "[I 2023-07-25 12:27:17,644] Trial 79 finished with value: -0.0643951454126125 and parameters: {'quantile': 0.2771371732077872, 'learning_rate': 0.5988802992630716, 'max_iter': 95, 'max_leaf_nodes': 40, 'max_depth': 9}. Best is trial 52 with value: -0.05644248975282014.\n",
      "[I 2023-07-25 12:27:35,803] Trial 80 finished with value: -0.060191069890014035 and parameters: {'quantile': 0.14780367500272118, 'learning_rate': 1.3287057353769258, 'max_iter': 90, 'max_leaf_nodes': 71, 'max_depth': 10}. Best is trial 52 with value: -0.05644248975282014.\n",
      "[I 2023-07-25 12:27:42,306] Trial 81 finished with value: -0.10232704760586082 and parameters: {'quantile': 0.1568922501107014, 'learning_rate': 1.4028993707674697, 'max_iter': 91, 'max_leaf_nodes': 3, 'max_depth': 10}. Best is trial 52 with value: -0.05644248975282014.\n",
      "[I 2023-07-25 12:27:58,273] Trial 82 finished with value: -0.09549829651963072 and parameters: {'quantile': 0.12372749164066152, 'learning_rate': 0.10716189300720969, 'max_iter': 98, 'max_leaf_nodes': 71, 'max_depth': 11}. Best is trial 52 with value: -0.05644248975282014.\n",
      "[I 2023-07-25 12:28:01,067] Trial 83 finished with value: -3.7441125307102903 and parameters: {'quantile': 0.10102086523335568, 'learning_rate': 2.139427938876998, 'max_iter': 94, 'max_leaf_nodes': 11, 'max_depth': 10}. Best is trial 52 with value: -0.05644248975282014.\n",
      "[I 2023-07-25 12:28:16,518] Trial 84 finished with value: -0.058844872526507386 and parameters: {'quantile': 0.18748175962545943, 'learning_rate': 1.1523184190279754, 'max_iter': 82, 'max_leaf_nodes': 68, 'max_depth': 11}. Best is trial 52 with value: -0.05644248975282014.\n",
      "[I 2023-07-25 12:28:31,820] Trial 85 finished with value: -0.061431332083705145 and parameters: {'quantile': 0.18170380478964088, 'learning_rate': 0.6272055600186288, 'max_iter': 82, 'max_leaf_nodes': 58, 'max_depth': 12}. Best is trial 52 with value: -0.05644248975282014.\n",
      "[I 2023-07-25 12:28:48,332] Trial 86 finished with value: -0.05821950959442927 and parameters: {'quantile': 0.22351968605377498, 'learning_rate': 1.0961797901687527, 'max_iter': 87, 'max_leaf_nodes': 67, 'max_depth': 11}. Best is trial 52 with value: -0.05644248975282014.\n",
      "[I 2023-07-25 12:28:51,263] Trial 87 finished with value: -296.8536651015337 and parameters: {'quantile': 0.2127354634562714, 'learning_rate': 2.7659965129793944, 'max_iter': 88, 'max_leaf_nodes': 76, 'max_depth': 8}. Best is trial 52 with value: -0.05644248975282014.\n",
      "[I 2023-07-25 12:28:54,153] Trial 88 finished with value: -25696.299435461424 and parameters: {'quantile': 0.25638208309882754, 'learning_rate': 3.7587341013492317, 'max_iter': 98, 'max_leaf_nodes': 98, 'max_depth': 12}. Best is trial 52 with value: -0.05644248975282014.\n",
      "[I 2023-07-25 12:29:10,898] Trial 89 finished with value: -0.08978590459829701 and parameters: {'quantile': 0.23089665024961376, 'learning_rate': 1.8517861890219462, 'max_iter': 86, 'max_leaf_nodes': 78, 'max_depth': 11}. Best is trial 52 with value: -0.05644248975282014.\n",
      "[I 2023-07-25 12:29:29,738] Trial 90 finished with value: -0.059000134760967396 and parameters: {'quantile': 0.18388400462983487, 'learning_rate': 0.6335847119630319, 'max_iter': 94, 'max_leaf_nodes': 68, 'max_depth': 12}. Best is trial 52 with value: -0.05644248975282014.\n",
      "[I 2023-07-25 12:29:47,908] Trial 91 finished with value: -0.05820338718367126 and parameters: {'quantile': 0.18232997958367717, 'learning_rate': 0.6635541847150994, 'max_iter': 94, 'max_leaf_nodes': 69, 'max_depth': 12}. Best is trial 52 with value: -0.05644248975282014.\n",
      "[I 2023-07-25 12:30:06,021] Trial 92 finished with value: -0.061731705855413224 and parameters: {'quantile': 0.1827935181003879, 'learning_rate': 0.5030772697479448, 'max_iter': 94, 'max_leaf_nodes': 69, 'max_depth': 12}. Best is trial 52 with value: -0.05644248975282014.\n",
      "[I 2023-07-25 12:30:25,250] Trial 93 finished with value: -0.05675516673219625 and parameters: {'quantile': 0.20454216447732781, 'learning_rate': 0.9245023879296377, 'max_iter': 98, 'max_leaf_nodes': 75, 'max_depth': 12}. Best is trial 52 with value: -0.05644248975282014.\n",
      "[I 2023-07-25 12:30:45,887] Trial 94 finished with value: -0.05661661252750204 and parameters: {'quantile': 0.28295347972806695, 'learning_rate': 0.9708318240609807, 'max_iter': 99, 'max_leaf_nodes': 74, 'max_depth': 12}. Best is trial 52 with value: -0.05644248975282014.\n",
      "[I 2023-07-25 12:30:48,837] Trial 95 finished with value: -15.437113559997352 and parameters: {'quantile': 0.2093288640736543, 'learning_rate': 2.313956981677361, 'max_iter': 98, 'max_leaf_nodes': 75, 'max_depth': 12}. Best is trial 52 with value: -0.05644248975282014.\n",
      "[I 2023-07-25 12:31:09,341] Trial 96 finished with value: -0.057140474908301896 and parameters: {'quantile': 0.2853901845200168, 'learning_rate': 0.9701661340680136, 'max_iter': 99, 'max_leaf_nodes': 74, 'max_depth': 12}. Best is trial 52 with value: -0.05644248975282014.\n",
      "[I 2023-07-25 12:31:28,734] Trial 97 finished with value: -0.06529874039063219 and parameters: {'quantile': 0.34202374290644, 'learning_rate': 1.6549943095243984, 'max_iter': 96, 'max_leaf_nodes': 80, 'max_depth': 12}. Best is trial 52 with value: -0.05644248975282014.\n",
      "[I 2023-07-25 12:31:49,006] Trial 98 finished with value: -0.06121779557738196 and parameters: {'quantile': 0.28270184089164324, 'learning_rate': 0.4302661710891842, 'max_iter': 100, 'max_leaf_nodes': 83, 'max_depth': 12}. Best is trial 52 with value: -0.05644248975282014.\n",
      "[I 2023-07-25 12:32:08,982] Trial 99 finished with value: -0.05674825454579076 and parameters: {'quantile': 0.270560959465381, 'learning_rate': 0.9731325193406285, 'max_iter': 98, 'max_leaf_nodes': 73, 'max_depth': 12}. Best is trial 52 with value: -0.05644248975282014.\n",
      "[I 2023-07-25 12:32:23,063] Trial 100 finished with value: -0.09512857136616165 and parameters: {'quantile': 0.24729609039926342, 'learning_rate': 0.12150141469141917, 'max_iter': 91, 'max_leaf_nodes': 73, 'max_depth': 12}. Best is trial 52 with value: -0.05644248975282014.\n",
      "[I 2023-07-25 12:32:45,378] Trial 101 finished with value: -0.056414191157643956 and parameters: {'quantile': 0.28804991642474664, 'learning_rate': 0.9539738114323113, 'max_iter': 98, 'max_leaf_nodes': 91, 'max_depth': 12}. Best is trial 101 with value: -0.056414191157643956.\n",
      "[I 2023-07-25 12:33:07,495] Trial 102 finished with value: -0.05603366802262373 and parameters: {'quantile': 0.29615254503282173, 'learning_rate': 1.0004642502483825, 'max_iter': 98, 'max_leaf_nodes': 96, 'max_depth': 12}. Best is trial 102 with value: -0.05603366802262373.\n",
      "[I 2023-07-25 12:33:29,151] Trial 103 finished with value: -0.06835205450489076 and parameters: {'quantile': 0.26536962538780073, 'learning_rate': 1.7543987419727523, 'max_iter': 98, 'max_leaf_nodes': 90, 'max_depth': 12}. Best is trial 102 with value: -0.05603366802262373.\n",
      "[I 2023-07-25 12:33:32,102] Trial 104 finished with value: -10.62913729094453 and parameters: {'quantile': 0.32215582053633807, 'learning_rate': 2.2657560437131954, 'max_iter': 97, 'max_leaf_nodes': 95, 'max_depth': 12}. Best is trial 102 with value: -0.05603366802262373.\n",
      "[I 2023-07-25 12:33:53,066] Trial 105 finished with value: -0.05679778912452219 and parameters: {'quantile': 0.29527349330753, 'learning_rate': 1.0429517428305939, 'max_iter': 95, 'max_leaf_nodes': 87, 'max_depth': 11}. Best is trial 102 with value: -0.05603366802262373.\n",
      "[I 2023-07-25 12:34:13,013] Trial 106 finished with value: -0.060944160916268086 and parameters: {'quantile': 0.28424561585262115, 'learning_rate': 1.5801450204767498, 'max_iter': 95, 'max_leaf_nodes': 87, 'max_depth': 12}. Best is trial 102 with value: -0.05603366802262373.\n",
      "[I 2023-07-25 12:34:33,788] Trial 107 finished with value: -0.05896077401956936 and parameters: {'quantile': 0.29252128329171223, 'learning_rate': 0.521567388008824, 'max_iter': 98, 'max_leaf_nodes': 91, 'max_depth': 11}. Best is trial 102 with value: -0.05603366802262373.\n",
      "[I 2023-07-25 12:34:36,663] Trial 108 finished with value: -951.8329685970448 and parameters: {'quantile': 0.3271042930807285, 'learning_rate': 2.9842107193349294, 'max_iter': 96, 'max_leaf_nodes': 97, 'max_depth': 11}. Best is trial 102 with value: -0.05603366802262373.\n",
      "[I 2023-07-25 12:34:48,901] Trial 109 finished with value: -0.24199948864856435 and parameters: {'quantile': 0.3011044129033921, 'learning_rate': 1.9713108183046455, 'max_iter': 93, 'max_leaf_nodes': 87, 'max_depth': 12}. Best is trial 102 with value: -0.05603366802262373.\n",
      "[I 2023-07-25 12:34:56,052] Trial 110 finished with value: -0.0949219819310251 and parameters: {'quantile': 0.24743177245032646, 'learning_rate': 1.0686951942295173, 'max_iter': 100, 'max_leaf_nodes': 100, 'max_depth': 2}. Best is trial 102 with value: -0.05603366802262373.\n",
      "[I 2023-07-25 12:35:15,217] Trial 111 finished with value: -0.056797112969986206 and parameters: {'quantile': 0.224121751885104, 'learning_rate': 0.9920827814484353, 'max_iter': 89, 'max_leaf_nodes': 93, 'max_depth': 11}. Best is trial 102 with value: -0.05603366802262373.\n",
      "[I 2023-07-25 12:35:35,753] Trial 112 finished with value: -0.05665961201524219 and parameters: {'quantile': 0.3377168486616536, 'learning_rate': 0.9536702927829159, 'max_iter': 89, 'max_leaf_nodes': 97, 'max_depth': 12}. Best is trial 102 with value: -0.05603366802262373.\n",
      "[I 2023-07-25 12:35:55,968] Trial 113 finished with value: -0.0612840592857527 and parameters: {'quantile': 0.3449612340114962, 'learning_rate': 1.5486416996490462, 'max_iter': 89, 'max_leaf_nodes': 93, 'max_depth': 11}. Best is trial 102 with value: -0.05603366802262373.\n",
      "[I 2023-07-25 12:35:58,863] Trial 114 finished with value: -97.84481982963769 and parameters: {'quantile': 0.298366007259149, 'learning_rate': 2.580494834773851, 'max_iter': 96, 'max_leaf_nodes': 96, 'max_depth': 12}. Best is trial 102 with value: -0.05603366802262373.\n",
      "[I 2023-07-25 12:36:17,695] Trial 115 finished with value: -0.057012324586633176 and parameters: {'quantile': 0.3684591525584552, 'learning_rate': 1.012162622687992, 'max_iter': 91, 'max_leaf_nodes': 89, 'max_depth': 11}. Best is trial 102 with value: -0.05603366802262373.\n",
      "[I 2023-07-25 12:36:35,737] Trial 116 finished with value: -0.06607951195996678 and parameters: {'quantile': 0.37938176959412906, 'learning_rate': 0.37764159622866267, 'max_iter': 91, 'max_leaf_nodes': 89, 'max_depth': 11}. Best is trial 102 with value: -0.05603366802262373.\n",
      "[I 2023-07-25 12:36:55,964] Trial 117 finished with value: -0.05672389762417333 and parameters: {'quantile': 0.33359531852225727, 'learning_rate': 1.0814768183380736, 'max_iter': 93, 'max_leaf_nodes': 85, 'max_depth': 12}. Best is trial 102 with value: -0.05603366802262373.\n",
      "[I 2023-07-25 12:36:58,780] Trial 118 finished with value: -1.8378333423048148 and parameters: {'quantile': 0.3592696824202441, 'learning_rate': 2.0579303799756916, 'max_iter': 84, 'max_leaf_nodes': 92, 'max_depth': 11}. Best is trial 102 with value: -0.05603366802262373.\n",
      "[I 2023-07-25 12:37:01,558] Trial 119 finished with value: -8530.31245870431 and parameters: {'quantile': 0.31572859555245647, 'learning_rate': 3.4707109912558822, 'max_iter': 89, 'max_leaf_nodes': 84, 'max_depth': 12}. Best is trial 102 with value: -0.05603366802262373.\n",
      "[I 2023-07-25 12:37:21,313] Trial 120 finished with value: -0.05859402433105772 and parameters: {'quantile': 0.39780380893187817, 'learning_rate': 1.442153140084157, 'max_iter': 92, 'max_leaf_nodes': 94, 'max_depth': 12}. Best is trial 102 with value: -0.05603366802262373.\n",
      "[I 2023-07-25 12:37:43,069] Trial 121 finished with value: -0.056436810597931944 and parameters: {'quantile': 0.2665682703444191, 'learning_rate': 1.1186639825165783, 'max_iter': 100, 'max_leaf_nodes': 89, 'max_depth': 12}. Best is trial 102 with value: -0.05603366802262373.\n",
      "[I 2023-07-25 12:38:04,729] Trial 122 finished with value: -0.05646214591604322 and parameters: {'quantile': 0.3262811849569207, 'learning_rate': 1.0649821300097968, 'max_iter': 96, 'max_leaf_nodes': 88, 'max_depth': 12}. Best is trial 102 with value: -0.05603366802262373.\n",
      "[I 2023-07-25 12:38:20,219] Trial 123 finished with value: -0.08990162343667413 and parameters: {'quantile': 0.3293627371838305, 'learning_rate': 0.16032937919764456, 'max_iter': 96, 'max_leaf_nodes': 86, 'max_depth': 12}. Best is trial 102 with value: -0.05603366802262373.\n",
      "[I 2023-07-25 12:38:40,224] Trial 124 finished with value: -0.05895036355642025 and parameters: {'quantile': 0.33542897137703653, 'learning_rate': 1.3942070492701804, 'max_iter': 94, 'max_leaf_nodes': 82, 'max_depth': 12}. Best is trial 102 with value: -0.05603366802262373.\n",
      "[I 2023-07-25 12:38:43,028] Trial 125 finished with value: -35.608142883572874 and parameters: {'quantile': 0.3081803766471337, 'learning_rate': 2.4285475104613905, 'max_iter': 98, 'max_leaf_nodes': 91, 'max_depth': 12}. Best is trial 102 with value: -0.05603366802262373.\n",
      "[I 2023-07-25 12:39:05,778] Trial 126 finished with value: -0.06185681373841141 and parameters: {'quantile': 0.2600642874025782, 'learning_rate': 1.654139292122154, 'max_iter': 100, 'max_leaf_nodes': 98, 'max_depth': 12}. Best is trial 102 with value: -0.05603366802262373.\n",
      "[I 2023-07-25 12:39:25,399] Trial 127 finished with value: -0.05665799442986437 and parameters: {'quantile': 0.266713091779314, 'learning_rate': 1.0431650129913728, 'max_iter': 96, 'max_leaf_nodes': 88, 'max_depth': 12}. Best is trial 102 with value: -0.05603366802262373.\n",
      "[I 2023-07-25 12:39:43,336] Trial 128 finished with value: -0.10788276778482328 and parameters: {'quantile': 0.2676662041887179, 'learning_rate': 1.9143002353759888, 'max_iter': 93, 'max_leaf_nodes': 100, 'max_depth': 12}. Best is trial 102 with value: -0.05603366802262373.\n",
      "[I 2023-07-25 12:40:01,281] Trial 129 finished with value: -0.06693347563000153 and parameters: {'quantile': 0.24162341634225215, 'learning_rate': 0.3361973808025768, 'max_iter': 97, 'max_leaf_nodes': 93, 'max_depth': 12}. Best is trial 102 with value: -0.05603366802262373.\n",
      "[I 2023-07-25 12:40:04,057] Trial 130 finished with value: -854.2124266130006 and parameters: {'quantile': 0.35294928345778304, 'learning_rate': 2.96285695435584, 'max_iter': 100, 'max_leaf_nodes': 89, 'max_depth': 12}. Best is trial 102 with value: -0.05603366802262373.\n",
      "[I 2023-07-25 12:40:23,893] Trial 131 finished with value: -0.05697069478231783 and parameters: {'quantile': 0.2930763545313408, 'learning_rate': 1.0510010289552583, 'max_iter': 95, 'max_leaf_nodes': 85, 'max_depth': 11}. Best is trial 102 with value: -0.05603366802262373.\n",
      "[I 2023-07-25 12:40:45,235] Trial 132 finished with value: -0.057244505505553954 and parameters: {'quantile': 0.2695857086514788, 'learning_rate': 1.2285299900943802, 'max_iter': 96, 'max_leaf_nodes': 88, 'max_depth': 12}. Best is trial 102 with value: -0.05603366802262373.\n",
      "[I 2023-07-25 12:41:04,607] Trial 133 finished with value: -0.05677318561549895 and parameters: {'quantile': 0.23482334167421776, 'learning_rate': 0.7115096762429223, 'max_iter': 93, 'max_leaf_nodes': 96, 'max_depth': 12}. Best is trial 102 with value: -0.05603366802262373.\n",
      "[I 2023-07-25 12:41:24,906] Trial 134 finished with value: -0.05863571662188997 and parameters: {'quantile': 0.22736918540063056, 'learning_rate': 0.5443725112317539, 'max_iter': 93, 'max_leaf_nodes': 96, 'max_depth': 12}. Best is trial 102 with value: -0.05603366802262373.\n",
      "[I 2023-07-25 12:41:27,772] Trial 135 finished with value: -5.808034015087427 and parameters: {'quantile': 0.23763048528851557, 'learning_rate': 2.1912113436264304, 'max_iter': 89, 'max_leaf_nodes': 92, 'max_depth': 12}. Best is trial 102 with value: -0.05603366802262373.\n",
      "[I 2023-07-25 12:41:49,726] Trial 136 finished with value: -0.05635039730035054 and parameters: {'quantile': 0.20997517718383255, 'learning_rate': 0.7343981793530474, 'max_iter': 98, 'max_leaf_nodes': 98, 'max_depth': 12}. Best is trial 102 with value: -0.05603366802262373.\n",
      "[I 2023-07-25 12:42:10,283] Trial 137 finished with value: -0.057208202332965086 and parameters: {'quantile': 0.31946171986950006, 'learning_rate': 0.6379022447992981, 'max_iter': 98, 'max_leaf_nodes': 97, 'max_depth': 12}. Best is trial 102 with value: -0.05603366802262373.\n",
      "[I 2023-07-25 12:42:28,124] Trial 138 finished with value: -0.08693588948611557 and parameters: {'quantile': 0.20406369827415108, 'learning_rate': 0.16180597292149823, 'max_iter': 100, 'max_leaf_nodes': 98, 'max_depth': 12}. Best is trial 102 with value: -0.05603366802262373.\n",
      "[I 2023-07-25 12:42:37,310] Trial 139 finished with value: -0.08254388460142273 and parameters: {'quantile': 0.26183157290360715, 'learning_rate': 1.4207837395195104, 'max_iter': 97, 'max_leaf_nodes': 95, 'max_depth': 4}. Best is trial 102 with value: -0.05603366802262373.\n",
      "[I 2023-07-25 12:42:55,815] Trial 140 finished with value: -0.07517243275113608 and parameters: {'quantile': 0.2511204128525311, 'learning_rate': 1.7756985459595422, 'max_iter': 93, 'max_leaf_nodes': 79, 'max_depth': 12}. Best is trial 102 with value: -0.05603366802262373.\n",
      "[I 2023-07-25 12:43:17,805] Trial 141 finished with value: -0.05635941901581272 and parameters: {'quantile': 0.2167436921242598, 'learning_rate': 0.879490547274627, 'max_iter': 98, 'max_leaf_nodes': 91, 'max_depth': 12}. Best is trial 102 with value: -0.05603366802262373.\n",
      "[I 2023-07-25 12:43:38,077] Trial 142 finished with value: -0.05656212760323296 and parameters: {'quantile': 0.2752213721683462, 'learning_rate': 0.7968229659136947, 'max_iter': 98, 'max_leaf_nodes': 91, 'max_depth': 12}. Best is trial 102 with value: -0.05603366802262373.\n",
      "[I 2023-07-25 12:43:59,883] Trial 143 finished with value: -0.05790690566427363 and parameters: {'quantile': 0.27124319834280625, 'learning_rate': 1.373536946156875, 'max_iter': 98, 'max_leaf_nodes': 91, 'max_depth': 12}. Best is trial 102 with value: -0.05603366802262373.\n",
      "[I 2023-07-25 12:44:18,405] Trial 144 finished with value: -0.06214594784983567 and parameters: {'quantile': 0.3328506595434447, 'learning_rate': 0.4184719286428328, 'max_iter': 100, 'max_leaf_nodes': 83, 'max_depth': 12}. Best is trial 102 with value: -0.05603366802262373.\n",
      "[I 2023-07-25 12:44:39,139] Trial 145 finished with value: -0.056813442816816564 and parameters: {'quantile': 0.3097688097465066, 'learning_rate': 0.844494601490392, 'max_iter': 96, 'max_leaf_nodes': 90, 'max_depth': 12}. Best is trial 102 with value: -0.05603366802262373.\n",
      "[I 2023-07-25 12:44:59,357] Trial 146 finished with value: -0.08312510611666718 and parameters: {'quantile': 0.2112071237953504, 'learning_rate': 1.8495767502491116, 'max_iter': 98, 'max_leaf_nodes': 94, 'max_depth': 12}. Best is trial 102 with value: -0.05603366802262373.\n",
      "[I 2023-07-25 12:45:02,151] Trial 147 finished with value: -11538820.01639308 and parameters: {'quantile': 0.2866228727256157, 'learning_rate': 6.08075745862761, 'max_iter': 95, 'max_leaf_nodes': 86, 'max_depth': 12}. Best is trial 102 with value: -0.05603366802262373.\n",
      "[I 2023-07-25 12:45:04,932] Trial 148 finished with value: -20.826560794453865 and parameters: {'quantile': 0.3513265434516855, 'learning_rate': 2.3539276986674724, 'max_iter': 100, 'max_leaf_nodes': 100, 'max_depth': 12}. Best is trial 102 with value: -0.05603366802262373.\n",
      "[I 2023-07-25 12:45:07,815] Trial 149 finished with value: -166289662.91285342 and parameters: {'quantile': 0.2518697602648349, 'learning_rate': 7.634312709854608, 'max_iter': 97, 'max_leaf_nodes': 91, 'max_depth': 12}. Best is trial 102 with value: -0.05603366802262373.\n",
      "[I 2023-07-25 12:45:23,952] Trial 150 finished with value: -0.09345250581404982 and parameters: {'quantile': 0.2822425349147314, 'learning_rate': 0.12338095220727019, 'max_iter': 95, 'max_leaf_nodes': 94, 'max_depth': 11}. Best is trial 102 with value: -0.05603366802262373.\n",
      "[I 2023-07-25 12:45:43,786] Trial 151 finished with value: -0.05665160466837673 and parameters: {'quantile': 0.22728158980935984, 'learning_rate': 0.7918970490085242, 'max_iter': 92, 'max_leaf_nodes': 96, 'max_depth': 12}. Best is trial 102 with value: -0.05603366802262373.\n",
      "[I 2023-07-25 12:46:03,861] Trial 152 finished with value: -0.056697770340407225 and parameters: {'quantile': 0.21421789453470336, 'learning_rate': 1.0132554847337107, 'max_iter': 91, 'max_leaf_nodes': 88, 'max_depth': 12}. Best is trial 102 with value: -0.05603366802262373.\n",
      "[I 2023-07-25 12:46:23,115] Trial 153 finished with value: -0.058607771115747984 and parameters: {'quantile': 0.1593714869567259, 'learning_rate': 1.3781327522951128, 'max_iter': 87, 'max_leaf_nodes': 98, 'max_depth': 12}. Best is trial 102 with value: -0.05603366802262373.\n",
      "[I 2023-07-25 12:46:42,414] Trial 154 finished with value: -0.05793007783101273 and parameters: {'quantile': 0.30950214475897586, 'learning_rate': 0.5892640464862298, 'max_iter': 91, 'max_leaf_nodes': 88, 'max_depth': 12}. Best is trial 102 with value: -0.05603366802262373.\n",
      "[I 2023-07-25 12:47:03,075] Trial 155 finished with value: -0.056679719089496206 and parameters: {'quantile': 0.2222668568343397, 'learning_rate': 1.1223002371137434, 'max_iter': 92, 'max_leaf_nodes': 92, 'max_depth': 12}. Best is trial 102 with value: -0.05603366802262373.\n",
      "[I 2023-07-25 12:47:22,074] Trial 156 finished with value: -0.061076059701301186 and parameters: {'quantile': 0.21249104250503714, 'learning_rate': 1.5472365568653528, 'max_iter': 91, 'max_leaf_nodes': 92, 'max_depth': 11}. Best is trial 102 with value: -0.05603366802262373.\n",
      "[I 2023-07-25 12:47:24,930] Trial 157 finished with value: -1.1472628510141154 and parameters: {'quantile': 0.24242339090272225, 'learning_rate': 2.002051689820065, 'max_iter': 94, 'max_leaf_nodes': 95, 'max_depth': 12}. Best is trial 102 with value: -0.05603366802262373.\n",
      "[I 2023-07-25 12:47:45,219] Trial 158 finished with value: -0.05674382556570895 and parameters: {'quantile': 0.17490185559870172, 'learning_rate': 1.1262275027287771, 'max_iter': 91, 'max_leaf_nodes': 90, 'max_depth': 12}. Best is trial 102 with value: -0.05603366802262373.\n",
      "[I 2023-07-25 12:48:05,538] Trial 159 finished with value: -0.05812670332878558 and parameters: {'quantile': 0.19295393006452227, 'learning_rate': 0.5833571020027423, 'max_iter': 96, 'max_leaf_nodes': 85, 'max_depth': 12}. Best is trial 102 with value: -0.05603366802262373.\n",
      "[I 2023-07-25 12:48:08,471] Trial 160 finished with value: -3875200.7150587165 and parameters: {'quantile': 0.16261858658532857, 'learning_rate': 5.555574744405582, 'max_iter': 93, 'max_leaf_nodes': 97, 'max_depth': 11}. Best is trial 102 with value: -0.05603366802262373.\n",
      "[I 2023-07-25 12:48:27,454] Trial 161 finished with value: -0.05681771399009459 and parameters: {'quantile': 0.22303723393473113, 'learning_rate': 1.1368156819739987, 'max_iter': 90, 'max_leaf_nodes': 90, 'max_depth': 12}. Best is trial 102 with value: -0.05603366802262373.\n",
      "[I 2023-07-25 12:48:31,132] Trial 162 finished with value: -0.10168328478478099 and parameters: {'quantile': 0.19723457804910058, 'learning_rate': 0.9358113625069586, 'max_iter': 11, 'max_leaf_nodes': 93, 'max_depth': 12}. Best is trial 102 with value: -0.05603366802262373.\n",
      "[I 2023-07-25 12:48:50,232] Trial 163 finished with value: -0.06517993297426947 and parameters: {'quantile': 0.11971772942100639, 'learning_rate': 1.6750457593474517, 'max_iter': 87, 'max_leaf_nodes': 88, 'max_depth': 12}. Best is trial 102 with value: -0.05603366802262373.\n",
      "[I 2023-07-25 12:49:10,662] Trial 164 finished with value: -0.05777679680607321 and parameters: {'quantile': 0.17429628711375061, 'learning_rate': 1.3006430113312817, 'max_iter': 92, 'max_leaf_nodes': 91, 'max_depth': 12}. Best is trial 102 with value: -0.05603366802262373.\n",
      "[I 2023-07-25 12:49:13,494] Trial 165 finished with value: -154.37450860489065 and parameters: {'quantile': 0.39037898002513394, 'learning_rate': 2.654228176630449, 'max_iter': 85, 'max_leaf_nodes': 95, 'max_depth': 12}. Best is trial 102 with value: -0.05603366802262373.\n",
      "[I 2023-07-25 12:49:33,848] Trial 166 finished with value: -0.05786938991934889 and parameters: {'quantile': 0.24861763005351997, 'learning_rate': 0.528142786522794, 'max_iter': 100, 'max_leaf_nodes': 99, 'max_depth': 12}. Best is trial 102 with value: -0.05603366802262373.\n",
      "[I 2023-07-25 12:49:54,879] Trial 167 finished with value: -0.05660774499874407 and parameters: {'quantile': 0.29928863076526646, 'learning_rate': 0.9400268951908534, 'max_iter': 95, 'max_leaf_nodes': 89, 'max_depth': 11}. Best is trial 102 with value: -0.05603366802262373.\n",
      "[I 2023-07-25 12:50:13,201] Trial 168 finished with value: -0.06537040669210901 and parameters: {'quantile': 0.29872256870554836, 'learning_rate': 0.39493027810023373, 'max_iter': 96, 'max_leaf_nodes': 81, 'max_depth': 11}. Best is trial 102 with value: -0.05603366802262373.\n",
      "[I 2023-07-25 12:50:28,100] Trial 169 finished with value: -0.09663931809059956 and parameters: {'quantile': 0.328006557658059, 'learning_rate': 0.10316070680704015, 'max_iter': 94, 'max_leaf_nodes': 87, 'max_depth': 11}. Best is trial 102 with value: -0.05603366802262373.\n",
      "[I 2023-07-25 12:50:30,921] Trial 170 finished with value: -402734.79414498585 and parameters: {'quantile': 0.2720037884090907, 'learning_rate': 4.632613506837947, 'max_iter': 98, 'max_leaf_nodes': 93, 'max_depth': 11}. Best is trial 102 with value: -0.05603366802262373.\n",
      "[I 2023-07-25 12:50:51,937] Trial 171 finished with value: -0.05662225519863775 and parameters: {'quantile': 0.4475554058150104, 'learning_rate': 0.9219332986825507, 'max_iter': 95, 'max_leaf_nodes': 89, 'max_depth': 12}. Best is trial 102 with value: -0.05603366802262373.\n",
      "[I 2023-07-25 12:51:13,679] Trial 172 finished with value: -0.05643541123788239 and parameters: {'quantile': 0.37761462579171995, 'learning_rate': 0.8741421723107057, 'max_iter': 95, 'max_leaf_nodes': 89, 'max_depth': 12}. Best is trial 102 with value: -0.05603366802262373.\n",
      "[I 2023-07-25 12:51:34,256] Trial 173 finished with value: -0.056635393106690204 and parameters: {'quantile': 0.41561876667697084, 'learning_rate': 0.7456038030270092, 'max_iter': 96, 'max_leaf_nodes': 95, 'max_depth': 12}. Best is trial 102 with value: -0.05603366802262373.\n",
      "[I 2023-07-25 12:51:56,095] Trial 174 finished with value: -0.05662896392889606 and parameters: {'quantile': 0.4558985327242671, 'learning_rate': 0.7370724747816522, 'max_iter': 96, 'max_leaf_nodes': 96, 'max_depth': 12}. Best is trial 102 with value: -0.05603366802262373.\n",
      "[I 2023-07-25 12:52:17,721] Trial 175 finished with value: -0.057898327373822014 and parameters: {'quantile': 0.4364165325952557, 'learning_rate': 0.5208769721398026, 'max_iter': 98, 'max_leaf_nodes': 97, 'max_depth': 12}. Best is trial 102 with value: -0.05603366802262373.\n",
      "[I 2023-07-25 12:52:38,477] Trial 176 finished with value: -0.06465393302979082 and parameters: {'quantile': 0.41466958589524827, 'learning_rate': 1.6777191794335733, 'max_iter': 96, 'max_leaf_nodes': 95, 'max_depth': 12}. Best is trial 102 with value: -0.05603366802262373.\n",
      "[I 2023-07-25 12:53:01,462] Trial 177 finished with value: -0.056215001719017665 and parameters: {'quantile': 0.45455872840116035, 'learning_rate': 0.739270938455791, 'max_iter': 100, 'max_leaf_nodes': 99, 'max_depth': 12}. Best is trial 102 with value: -0.05603366802262373.\n",
      "[I 2023-07-25 12:53:23,971] Trial 178 finished with value: -0.0561884496009192 and parameters: {'quantile': 0.4547183087432539, 'learning_rate': 0.744084376107728, 'max_iter': 100, 'max_leaf_nodes': 99, 'max_depth': 12}. Best is trial 102 with value: -0.05603366802262373.\n",
      "[I 2023-07-25 12:53:41,007] Trial 179 finished with value: -0.09177624468126333 and parameters: {'quantile': 0.42963300278825534, 'learning_rate': 0.1270777166032857, 'max_iter': 100, 'max_leaf_nodes': 99, 'max_depth': 12}. Best is trial 102 with value: -0.05603366802262373.\n",
      "[I 2023-07-25 12:54:03,030] Trial 180 finished with value: -0.0570677865419557 and parameters: {'quantile': 0.47211996178170684, 'learning_rate': 0.6013035235464728, 'max_iter': 99, 'max_leaf_nodes': 100, 'max_depth': 11}. Best is trial 102 with value: -0.05603366802262373.\n",
      "[I 2023-07-25 12:54:24,899] Trial 181 finished with value: -0.056637201508336135 and parameters: {'quantile': 0.4537361818153652, 'learning_rate': 0.7535724870961619, 'max_iter': 97, 'max_leaf_nodes': 95, 'max_depth': 12}. Best is trial 102 with value: -0.05603366802262373.\n",
      "[I 2023-07-25 12:54:45,765] Trial 182 finished with value: -0.05687864673748329 and parameters: {'quantile': 0.45688710166912694, 'learning_rate': 0.6399855254887735, 'max_iter': 98, 'max_leaf_nodes': 96, 'max_depth': 12}. Best is trial 102 with value: -0.05603366802262373.\n",
      "[I 2023-07-25 12:55:08,974] Trial 183 finished with value: -0.058381883047719144 and parameters: {'quantile': 0.4023136128106423, 'learning_rate': 1.4070386284638776, 'max_iter': 100, 'max_leaf_nodes': 94, 'max_depth': 12}. Best is trial 102 with value: -0.05603366802262373.\n",
      "[I 2023-07-25 12:55:11,845] Trial 184 finished with value: -1114683.8107386965 and parameters: {'quantile': 0.5091002100720892, 'learning_rate': 5.0218953384910705, 'max_iter': 97, 'max_leaf_nodes': 97, 'max_depth': 12}. Best is trial 102 with value: -0.05603366802262373.\n",
      "[I 2023-07-25 12:55:34,173] Trial 185 finished with value: -0.056346364065128184 and parameters: {'quantile': 0.4445498301384928, 'learning_rate': 0.7779607172097557, 'max_iter': 95, 'max_leaf_nodes': 100, 'max_depth': 12}. Best is trial 102 with value: -0.05603366802262373.\n",
      "[I 2023-07-25 12:55:48,145] Trial 186 finished with value: -0.1529028889711955 and parameters: {'quantile': 0.46082660511631846, 'learning_rate': 1.949700513675538, 'max_iter': 95, 'max_leaf_nodes': 100, 'max_depth': 12}. Best is trial 102 with value: -0.05603366802262373.\n",
      "[I 2023-07-25 12:55:51,006] Trial 187 finished with value: -5663581362.313789 and parameters: {'quantile': 0.44377032991895327, 'learning_rate': 10.440950004769196, 'max_iter': 98, 'max_leaf_nodes': 98, 'max_depth': 12}. Best is trial 102 with value: -0.05603366802262373.\n",
      "[I 2023-07-25 12:56:13,735] Trial 188 finished with value: -0.0585084358076852 and parameters: {'quantile': 0.42551148522608834, 'learning_rate': 1.5045293846980856, 'max_iter': 100, 'max_leaf_nodes': 92, 'max_depth': 12}. Best is trial 102 with value: -0.05603366802262373.\n",
      "[I 2023-07-25 12:56:33,692] Trial 189 finished with value: -0.06135264489655005 and parameters: {'quantile': 0.47210469755009815, 'learning_rate': 0.4356729656670403, 'max_iter': 95, 'max_leaf_nodes': 94, 'max_depth': 11}. Best is trial 102 with value: -0.05603366802262373.\n",
      "[I 2023-07-25 12:56:54,445] Trial 190 finished with value: -0.056361499831306075 and parameters: {'quantile': 0.45401784743935464, 'learning_rate': 0.8026895112308807, 'max_iter': 97, 'max_leaf_nodes': 100, 'max_depth': 12}. Best is trial 102 with value: -0.05603366802262373.\n",
      "[I 2023-07-25 12:57:16,582] Trial 191 finished with value: -0.05630663139037377 and parameters: {'quantile': 0.44058583183689787, 'learning_rate': 0.7964104879780646, 'max_iter': 97, 'max_leaf_nodes': 99, 'max_depth': 12}. Best is trial 102 with value: -0.05603366802262373.\n",
      "[I 2023-07-25 12:57:19,498] Trial 192 finished with value: -143999293652.39258 and parameters: {'quantile': 0.4117281193283322, 'learning_rate': 14.047904531316139, 'max_iter': 98, 'max_leaf_nodes': 100, 'max_depth': 12}. Best is trial 102 with value: -0.05603366802262373.\n",
      "[I 2023-07-25 12:57:41,193] Trial 193 finished with value: -0.05636630301023323 and parameters: {'quantile': 0.43842330498608717, 'learning_rate': 0.7906848806048866, 'max_iter': 96, 'max_leaf_nodes': 98, 'max_depth': 12}. Best is trial 102 with value: -0.05603366802262373.\n",
      "[I 2023-07-25 12:57:53,645] Trial 194 finished with value: -0.0629233293915686 and parameters: {'quantile': 0.43332566314077947, 'learning_rate': 1.3353510717082158, 'max_iter': 54, 'max_leaf_nodes': 98, 'max_depth': 12}. Best is trial 102 with value: -0.05603366802262373.\n",
      "[I 2023-07-25 12:58:14,764] Trial 195 finished with value: -0.0638012586626361 and parameters: {'quantile': 0.4880613602513566, 'learning_rate': 0.3554837177589537, 'max_iter': 100, 'max_leaf_nodes': 100, 'max_depth': 12}. Best is trial 102 with value: -0.05603366802262373.\n",
      "[I 2023-07-25 12:58:30,318] Trial 196 finished with value: -0.09374762961962052 and parameters: {'quantile': 0.4534358372575647, 'learning_rate': 0.12198390006412152, 'max_iter': 94, 'max_leaf_nodes': 98, 'max_depth': 12}. Best is trial 102 with value: -0.05603366802262373.\n",
      "[I 2023-07-25 12:58:53,005] Trial 197 finished with value: -0.056419561937152196 and parameters: {'quantile': 0.4926195168277184, 'learning_rate': 0.8921649601504896, 'max_iter': 98, 'max_leaf_nodes': 98, 'max_depth': 12}. Best is trial 102 with value: -0.05603366802262373.\n",
      "[I 2023-07-25 12:59:16,098] Trial 198 finished with value: -0.06300932298710876 and parameters: {'quantile': 0.5026965426819694, 'learning_rate': 1.6587729365376591, 'max_iter': 98, 'max_leaf_nodes': 98, 'max_depth': 12}. Best is trial 102 with value: -0.05603366802262373.\n",
      "[I 2023-07-25 12:59:38,606] Trial 199 finished with value: -0.05697192537634368 and parameters: {'quantile': 0.47794829764000224, 'learning_rate': 1.2889837600537262, 'max_iter': 100, 'max_leaf_nodes': 100, 'max_depth': 11}. Best is trial 102 with value: -0.05603366802262373.\n"
     ]
    }
   ],
   "source": [
    "# Optimize the study, use more trials to obtain better result, use less trials to be more cost-efficient\n",
    "study.optimize(hgbr_objective, n_trials=200) # Use more"
   ]
  },
  {
   "cell_type": "code",
   "execution_count": 33,
   "id": "706e5d4a",
   "metadata": {
    "execution": {
     "iopub.execute_input": "2023-07-25T12:59:38.808968Z",
     "iopub.status.busy": "2023-07-25T12:59:38.808420Z",
     "iopub.status.idle": "2023-07-25T12:59:38.815356Z",
     "shell.execute_reply": "2023-07-25T12:59:38.814359Z"
    },
    "papermill": {
     "duration": 0.162462,
     "end_time": "2023-07-25T12:59:38.818012",
     "exception": false,
     "start_time": "2023-07-25T12:59:38.655550",
     "status": "completed"
    },
    "tags": []
   },
   "outputs": [],
   "source": [
    "# Print the result\n",
    "best_params = study.best_params\n",
    "best_score = study.best_value"
   ]
  },
  {
   "cell_type": "code",
   "execution_count": 34,
   "id": "1e89c2f0",
   "metadata": {
    "execution": {
     "iopub.execute_input": "2023-07-25T12:59:38.902401Z",
     "iopub.status.busy": "2023-07-25T12:59:38.901926Z",
     "iopub.status.idle": "2023-07-25T12:59:38.909831Z",
     "shell.execute_reply": "2023-07-25T12:59:38.908692Z"
    },
    "papermill": {
     "duration": 0.052267,
     "end_time": "2023-07-25T12:59:38.912612",
     "exception": false,
     "start_time": "2023-07-25T12:59:38.860345",
     "status": "completed"
    },
    "tags": []
   },
   "outputs": [
    {
     "data": {
      "text/plain": [
       "-0.05603366802262373"
      ]
     },
     "execution_count": 34,
     "metadata": {},
     "output_type": "execute_result"
    }
   ],
   "source": [
    "best_score"
   ]
  },
  {
   "cell_type": "code",
   "execution_count": 35,
   "id": "fbbff5f7",
   "metadata": {
    "execution": {
     "iopub.execute_input": "2023-07-25T12:59:38.994493Z",
     "iopub.status.busy": "2023-07-25T12:59:38.993983Z",
     "iopub.status.idle": "2023-07-25T12:59:39.000007Z",
     "shell.execute_reply": "2023-07-25T12:59:38.998571Z"
    },
    "papermill": {
     "duration": 0.050306,
     "end_time": "2023-07-25T12:59:39.002468",
     "exception": false,
     "start_time": "2023-07-25T12:59:38.952162",
     "status": "completed"
    },
    "tags": []
   },
   "outputs": [],
   "source": [
    "hgbr= HistGradientBoostingRegressor(**best_params,random_state=42)"
   ]
  },
  {
   "cell_type": "code",
   "execution_count": 36,
   "id": "23a4b2ea",
   "metadata": {
    "execution": {
     "iopub.execute_input": "2023-07-25T12:59:39.082781Z",
     "iopub.status.busy": "2023-07-25T12:59:39.081790Z",
     "iopub.status.idle": "2023-07-25T12:59:42.619731Z",
     "shell.execute_reply": "2023-07-25T12:59:42.618557Z"
    },
    "papermill": {
     "duration": 3.581419,
     "end_time": "2023-07-25T12:59:42.622551",
     "exception": false,
     "start_time": "2023-07-25T12:59:39.041132",
     "status": "completed"
    },
    "tags": []
   },
   "outputs": [
    {
     "data": {
      "text/html": [
       "<style>#sk-container-id-1 {color: black;background-color: white;}#sk-container-id-1 pre{padding: 0;}#sk-container-id-1 div.sk-toggleable {background-color: white;}#sk-container-id-1 label.sk-toggleable__label {cursor: pointer;display: block;width: 100%;margin-bottom: 0;padding: 0.3em;box-sizing: border-box;text-align: center;}#sk-container-id-1 label.sk-toggleable__label-arrow:before {content: \"▸\";float: left;margin-right: 0.25em;color: #696969;}#sk-container-id-1 label.sk-toggleable__label-arrow:hover:before {color: black;}#sk-container-id-1 div.sk-estimator:hover label.sk-toggleable__label-arrow:before {color: black;}#sk-container-id-1 div.sk-toggleable__content {max-height: 0;max-width: 0;overflow: hidden;text-align: left;background-color: #f0f8ff;}#sk-container-id-1 div.sk-toggleable__content pre {margin: 0.2em;color: black;border-radius: 0.25em;background-color: #f0f8ff;}#sk-container-id-1 input.sk-toggleable__control:checked~div.sk-toggleable__content {max-height: 200px;max-width: 100%;overflow: auto;}#sk-container-id-1 input.sk-toggleable__control:checked~label.sk-toggleable__label-arrow:before {content: \"▾\";}#sk-container-id-1 div.sk-estimator input.sk-toggleable__control:checked~label.sk-toggleable__label {background-color: #d4ebff;}#sk-container-id-1 div.sk-label input.sk-toggleable__control:checked~label.sk-toggleable__label {background-color: #d4ebff;}#sk-container-id-1 input.sk-hidden--visually {border: 0;clip: rect(1px 1px 1px 1px);clip: rect(1px, 1px, 1px, 1px);height: 1px;margin: -1px;overflow: hidden;padding: 0;position: absolute;width: 1px;}#sk-container-id-1 div.sk-estimator {font-family: monospace;background-color: #f0f8ff;border: 1px dotted black;border-radius: 0.25em;box-sizing: border-box;margin-bottom: 0.5em;}#sk-container-id-1 div.sk-estimator:hover {background-color: #d4ebff;}#sk-container-id-1 div.sk-parallel-item::after {content: \"\";width: 100%;border-bottom: 1px solid gray;flex-grow: 1;}#sk-container-id-1 div.sk-label:hover label.sk-toggleable__label {background-color: #d4ebff;}#sk-container-id-1 div.sk-serial::before {content: \"\";position: absolute;border-left: 1px solid gray;box-sizing: border-box;top: 0;bottom: 0;left: 50%;z-index: 0;}#sk-container-id-1 div.sk-serial {display: flex;flex-direction: column;align-items: center;background-color: white;padding-right: 0.2em;padding-left: 0.2em;position: relative;}#sk-container-id-1 div.sk-item {position: relative;z-index: 1;}#sk-container-id-1 div.sk-parallel {display: flex;align-items: stretch;justify-content: center;background-color: white;position: relative;}#sk-container-id-1 div.sk-item::before, #sk-container-id-1 div.sk-parallel-item::before {content: \"\";position: absolute;border-left: 1px solid gray;box-sizing: border-box;top: 0;bottom: 0;left: 50%;z-index: -1;}#sk-container-id-1 div.sk-parallel-item {display: flex;flex-direction: column;z-index: 1;position: relative;background-color: white;}#sk-container-id-1 div.sk-parallel-item:first-child::after {align-self: flex-end;width: 50%;}#sk-container-id-1 div.sk-parallel-item:last-child::after {align-self: flex-start;width: 50%;}#sk-container-id-1 div.sk-parallel-item:only-child::after {width: 0;}#sk-container-id-1 div.sk-dashed-wrapped {border: 1px dashed gray;margin: 0 0.4em 0.5em 0.4em;box-sizing: border-box;padding-bottom: 0.4em;background-color: white;}#sk-container-id-1 div.sk-label label {font-family: monospace;font-weight: bold;display: inline-block;line-height: 1.2em;}#sk-container-id-1 div.sk-label-container {text-align: center;}#sk-container-id-1 div.sk-container {/* jupyter's `normalize.less` sets `[hidden] { display: none; }` but bootstrap.min.css set `[hidden] { display: none !important; }` so we also need the `!important` here to be able to override the default hidden behavior on the sphinx rendered scikit-learn.org. See: https://github.com/scikit-learn/scikit-learn/issues/21755 */display: inline-block !important;position: relative;}#sk-container-id-1 div.sk-text-repr-fallback {display: none;}</style><div id=\"sk-container-id-1\" class=\"sk-top-container\"><div class=\"sk-text-repr-fallback\"><pre>HistGradientBoostingRegressor(learning_rate=1.0004642502483825, max_depth=12,\n",
       "                              max_iter=98, max_leaf_nodes=96,\n",
       "                              quantile=0.29615254503282173, random_state=42)</pre><b>In a Jupyter environment, please rerun this cell to show the HTML representation or trust the notebook. <br />On GitHub, the HTML representation is unable to render, please try loading this page with nbviewer.org.</b></div><div class=\"sk-container\" hidden><div class=\"sk-item\"><div class=\"sk-estimator sk-toggleable\"><input class=\"sk-toggleable__control sk-hidden--visually\" id=\"sk-estimator-id-1\" type=\"checkbox\" checked><label for=\"sk-estimator-id-1\" class=\"sk-toggleable__label sk-toggleable__label-arrow\">HistGradientBoostingRegressor</label><div class=\"sk-toggleable__content\"><pre>HistGradientBoostingRegressor(learning_rate=1.0004642502483825, max_depth=12,\n",
       "                              max_iter=98, max_leaf_nodes=96,\n",
       "                              quantile=0.29615254503282173, random_state=42)</pre></div></div></div></div></div>"
      ],
      "text/plain": [
       "HistGradientBoostingRegressor(learning_rate=1.0004642502483825, max_depth=12,\n",
       "                              max_iter=98, max_leaf_nodes=96,\n",
       "                              quantile=0.29615254503282173, random_state=42)"
      ]
     },
     "execution_count": 36,
     "metadata": {},
     "output_type": "execute_result"
    }
   ],
   "source": [
    "hgbr.fit(X,y)"
   ]
  },
  {
   "cell_type": "code",
   "execution_count": 37,
   "id": "ee55dfc0",
   "metadata": {
    "execution": {
     "iopub.execute_input": "2023-07-25T12:59:42.704822Z",
     "iopub.status.busy": "2023-07-25T12:59:42.703659Z",
     "iopub.status.idle": "2023-07-25T12:59:42.728508Z",
     "shell.execute_reply": "2023-07-25T12:59:42.727083Z"
    },
    "papermill": {
     "duration": 0.069607,
     "end_time": "2023-07-25T12:59:42.731625",
     "exception": false,
     "start_time": "2023-07-25T12:59:42.662018",
     "status": "completed"
    },
    "tags": []
   },
   "outputs": [
    {
     "data": {
      "text/html": [
       "<div>\n",
       "<style scoped>\n",
       "    .dataframe tbody tr th:only-of-type {\n",
       "        vertical-align: middle;\n",
       "    }\n",
       "\n",
       "    .dataframe tbody tr th {\n",
       "        vertical-align: top;\n",
       "    }\n",
       "\n",
       "    .dataframe thead th {\n",
       "        text-align: right;\n",
       "    }\n",
       "</style>\n",
       "<table border=\"1\" class=\"dataframe\">\n",
       "  <thead>\n",
       "    <tr style=\"text-align: right;\">\n",
       "      <th></th>\n",
       "      <th>id</th>\n",
       "      <th>country</th>\n",
       "      <th>store</th>\n",
       "      <th>product</th>\n",
       "      <th>day</th>\n",
       "      <th>month</th>\n",
       "      <th>year</th>\n",
       "      <th>is_argentina_holiday</th>\n",
       "      <th>is_canada_holiday</th>\n",
       "      <th>is_estonia_holiday</th>\n",
       "      <th>is_japan_holiday</th>\n",
       "      <th>is_spain_holiday</th>\n",
       "      <th>day_of_month</th>\n",
       "      <th>quarter</th>\n",
       "      <th>month_sin</th>\n",
       "      <th>month_cos</th>\n",
       "      <th>day_sin</th>\n",
       "      <th>day_cos</th>\n",
       "    </tr>\n",
       "  </thead>\n",
       "  <tbody>\n",
       "    <tr>\n",
       "      <th>0</th>\n",
       "      <td>136950</td>\n",
       "      <td>65.712922</td>\n",
       "      <td>61.909528</td>\n",
       "      <td>227.768216</td>\n",
       "      <td>1</td>\n",
       "      <td>1</td>\n",
       "      <td>2022</td>\n",
       "      <td>1</td>\n",
       "      <td>1</td>\n",
       "      <td>1</td>\n",
       "      <td>1</td>\n",
       "      <td>1</td>\n",
       "      <td>1</td>\n",
       "      <td>1</td>\n",
       "      <td>0.5</td>\n",
       "      <td>0.866025</td>\n",
       "      <td>0.201299</td>\n",
       "      <td>0.97953</td>\n",
       "    </tr>\n",
       "    <tr>\n",
       "      <th>1</th>\n",
       "      <td>136951</td>\n",
       "      <td>65.712922</td>\n",
       "      <td>61.909528</td>\n",
       "      <td>222.596169</td>\n",
       "      <td>1</td>\n",
       "      <td>1</td>\n",
       "      <td>2022</td>\n",
       "      <td>1</td>\n",
       "      <td>1</td>\n",
       "      <td>1</td>\n",
       "      <td>1</td>\n",
       "      <td>1</td>\n",
       "      <td>1</td>\n",
       "      <td>1</td>\n",
       "      <td>0.5</td>\n",
       "      <td>0.866025</td>\n",
       "      <td>0.201299</td>\n",
       "      <td>0.97953</td>\n",
       "    </tr>\n",
       "    <tr>\n",
       "      <th>2</th>\n",
       "      <td>136952</td>\n",
       "      <td>65.712922</td>\n",
       "      <td>61.909528</td>\n",
       "      <td>34.762737</td>\n",
       "      <td>1</td>\n",
       "      <td>1</td>\n",
       "      <td>2022</td>\n",
       "      <td>1</td>\n",
       "      <td>1</td>\n",
       "      <td>1</td>\n",
       "      <td>1</td>\n",
       "      <td>1</td>\n",
       "      <td>1</td>\n",
       "      <td>1</td>\n",
       "      <td>0.5</td>\n",
       "      <td>0.866025</td>\n",
       "      <td>0.201299</td>\n",
       "      <td>0.97953</td>\n",
       "    </tr>\n",
       "    <tr>\n",
       "      <th>3</th>\n",
       "      <td>136953</td>\n",
       "      <td>65.712922</td>\n",
       "      <td>61.909528</td>\n",
       "      <td>190.187786</td>\n",
       "      <td>1</td>\n",
       "      <td>1</td>\n",
       "      <td>2022</td>\n",
       "      <td>1</td>\n",
       "      <td>1</td>\n",
       "      <td>1</td>\n",
       "      <td>1</td>\n",
       "      <td>1</td>\n",
       "      <td>1</td>\n",
       "      <td>1</td>\n",
       "      <td>0.5</td>\n",
       "      <td>0.866025</td>\n",
       "      <td>0.201299</td>\n",
       "      <td>0.97953</td>\n",
       "    </tr>\n",
       "    <tr>\n",
       "      <th>4</th>\n",
       "      <td>136954</td>\n",
       "      <td>65.712922</td>\n",
       "      <td>61.909528</td>\n",
       "      <td>173.170344</td>\n",
       "      <td>1</td>\n",
       "      <td>1</td>\n",
       "      <td>2022</td>\n",
       "      <td>1</td>\n",
       "      <td>1</td>\n",
       "      <td>1</td>\n",
       "      <td>1</td>\n",
       "      <td>1</td>\n",
       "      <td>1</td>\n",
       "      <td>1</td>\n",
       "      <td>0.5</td>\n",
       "      <td>0.866025</td>\n",
       "      <td>0.201299</td>\n",
       "      <td>0.97953</td>\n",
       "    </tr>\n",
       "  </tbody>\n",
       "</table>\n",
       "</div>"
      ],
      "text/plain": [
       "       id    country      store     product  day  month  year  \\\n",
       "0  136950  65.712922  61.909528  227.768216    1      1  2022   \n",
       "1  136951  65.712922  61.909528  222.596169    1      1  2022   \n",
       "2  136952  65.712922  61.909528   34.762737    1      1  2022   \n",
       "3  136953  65.712922  61.909528  190.187786    1      1  2022   \n",
       "4  136954  65.712922  61.909528  173.170344    1      1  2022   \n",
       "\n",
       "   is_argentina_holiday  is_canada_holiday  is_estonia_holiday  \\\n",
       "0                     1                  1                   1   \n",
       "1                     1                  1                   1   \n",
       "2                     1                  1                   1   \n",
       "3                     1                  1                   1   \n",
       "4                     1                  1                   1   \n",
       "\n",
       "   is_japan_holiday  is_spain_holiday  day_of_month  quarter  month_sin  \\\n",
       "0                 1                 1             1        1        0.5   \n",
       "1                 1                 1             1        1        0.5   \n",
       "2                 1                 1             1        1        0.5   \n",
       "3                 1                 1             1        1        0.5   \n",
       "4                 1                 1             1        1        0.5   \n",
       "\n",
       "   month_cos   day_sin  day_cos  \n",
       "0   0.866025  0.201299  0.97953  \n",
       "1   0.866025  0.201299  0.97953  \n",
       "2   0.866025  0.201299  0.97953  \n",
       "3   0.866025  0.201299  0.97953  \n",
       "4   0.866025  0.201299  0.97953  "
      ]
     },
     "execution_count": 37,
     "metadata": {},
     "output_type": "execute_result"
    }
   ],
   "source": [
    "test.head()"
   ]
  },
  {
   "cell_type": "code",
   "execution_count": 38,
   "id": "56db1916",
   "metadata": {
    "execution": {
     "iopub.execute_input": "2023-07-25T12:59:42.817904Z",
     "iopub.status.busy": "2023-07-25T12:59:42.817363Z",
     "iopub.status.idle": "2023-07-25T12:59:42.902926Z",
     "shell.execute_reply": "2023-07-25T12:59:42.901803Z"
    },
    "papermill": {
     "duration": 0.132821,
     "end_time": "2023-07-25T12:59:42.906399",
     "exception": false,
     "start_time": "2023-07-25T12:59:42.773578",
     "status": "completed"
    },
    "tags": []
   },
   "outputs": [],
   "source": [
    "prediction = hgbr.predict(test)"
   ]
  },
  {
   "cell_type": "code",
   "execution_count": 39,
   "id": "900a3924",
   "metadata": {
    "execution": {
     "iopub.execute_input": "2023-07-25T12:59:42.991472Z",
     "iopub.status.busy": "2023-07-25T12:59:42.990948Z",
     "iopub.status.idle": "2023-07-25T12:59:42.997056Z",
     "shell.execute_reply": "2023-07-25T12:59:42.995767Z"
    },
    "papermill": {
     "duration": 0.051073,
     "end_time": "2023-07-25T12:59:42.999939",
     "exception": false,
     "start_time": "2023-07-25T12:59:42.948866",
     "status": "completed"
    },
    "tags": []
   },
   "outputs": [],
   "source": [
    "prediction=np.expm1(prediction)"
   ]
  },
  {
   "cell_type": "code",
   "execution_count": 40,
   "id": "274d2e25",
   "metadata": {
    "execution": {
     "iopub.execute_input": "2023-07-25T12:59:43.082902Z",
     "iopub.status.busy": "2023-07-25T12:59:43.082424Z",
     "iopub.status.idle": "2023-07-25T12:59:43.091404Z",
     "shell.execute_reply": "2023-07-25T12:59:43.090401Z"
    },
    "papermill": {
     "duration": 0.053789,
     "end_time": "2023-07-25T12:59:43.094000",
     "exception": false,
     "start_time": "2023-07-25T12:59:43.040211",
     "status": "completed"
    },
    "tags": []
   },
   "outputs": [],
   "source": [
    "output=pd.DataFrame({'id':test.id,'country':test.country,'num_sold':prediction})"
   ]
  },
  {
   "cell_type": "code",
   "execution_count": 41,
   "id": "07da8657",
   "metadata": {
    "execution": {
     "iopub.execute_input": "2023-07-25T12:59:43.176508Z",
     "iopub.status.busy": "2023-07-25T12:59:43.175945Z",
     "iopub.status.idle": "2023-07-25T12:59:43.189640Z",
     "shell.execute_reply": "2023-07-25T12:59:43.188488Z"
    },
    "papermill": {
     "duration": 0.05779,
     "end_time": "2023-07-25T12:59:43.192104",
     "exception": false,
     "start_time": "2023-07-25T12:59:43.134314",
     "status": "completed"
    },
    "tags": []
   },
   "outputs": [
    {
     "data": {
      "text/html": [
       "<div>\n",
       "<style scoped>\n",
       "    .dataframe tbody tr th:only-of-type {\n",
       "        vertical-align: middle;\n",
       "    }\n",
       "\n",
       "    .dataframe tbody tr th {\n",
       "        vertical-align: top;\n",
       "    }\n",
       "\n",
       "    .dataframe thead th {\n",
       "        text-align: right;\n",
       "    }\n",
       "</style>\n",
       "<table border=\"1\" class=\"dataframe\">\n",
       "  <thead>\n",
       "    <tr style=\"text-align: right;\">\n",
       "      <th></th>\n",
       "      <th>id</th>\n",
       "      <th>country</th>\n",
       "      <th>num_sold</th>\n",
       "    </tr>\n",
       "  </thead>\n",
       "  <tbody>\n",
       "    <tr>\n",
       "      <th>0</th>\n",
       "      <td>136950</td>\n",
       "      <td>65.712922</td>\n",
       "      <td>46.021508</td>\n",
       "    </tr>\n",
       "    <tr>\n",
       "      <th>1</th>\n",
       "      <td>136951</td>\n",
       "      <td>65.712922</td>\n",
       "      <td>42.997624</td>\n",
       "    </tr>\n",
       "    <tr>\n",
       "      <th>2</th>\n",
       "      <td>136952</td>\n",
       "      <td>65.712922</td>\n",
       "      <td>5.884205</td>\n",
       "    </tr>\n",
       "    <tr>\n",
       "      <th>3</th>\n",
       "      <td>136953</td>\n",
       "      <td>65.712922</td>\n",
       "      <td>36.853350</td>\n",
       "    </tr>\n",
       "    <tr>\n",
       "      <th>4</th>\n",
       "      <td>136954</td>\n",
       "      <td>65.712922</td>\n",
       "      <td>27.684495</td>\n",
       "    </tr>\n",
       "  </tbody>\n",
       "</table>\n",
       "</div>"
      ],
      "text/plain": [
       "       id    country   num_sold\n",
       "0  136950  65.712922  46.021508\n",
       "1  136951  65.712922  42.997624\n",
       "2  136952  65.712922   5.884205\n",
       "3  136953  65.712922  36.853350\n",
       "4  136954  65.712922  27.684495"
      ]
     },
     "execution_count": 41,
     "metadata": {},
     "output_type": "execute_result"
    }
   ],
   "source": [
    "output.head()"
   ]
  },
  {
   "cell_type": "code",
   "execution_count": 42,
   "id": "8ce14d63",
   "metadata": {
    "execution": {
     "iopub.execute_input": "2023-07-25T12:59:43.276113Z",
     "iopub.status.busy": "2023-07-25T12:59:43.275256Z",
     "iopub.status.idle": "2023-07-25T12:59:43.282058Z",
     "shell.execute_reply": "2023-07-25T12:59:43.280760Z"
    },
    "papermill": {
     "duration": 0.052278,
     "end_time": "2023-07-25T12:59:43.284678",
     "exception": false,
     "start_time": "2023-07-25T12:59:43.232400",
     "status": "completed"
    },
    "tags": []
   },
   "outputs": [],
   "source": [
    "temp_d= output.copy()"
   ]
  },
  {
   "cell_type": "code",
   "execution_count": 43,
   "id": "32dfd36f",
   "metadata": {
    "execution": {
     "iopub.execute_input": "2023-07-25T12:59:43.367582Z",
     "iopub.status.busy": "2023-07-25T12:59:43.366175Z",
     "iopub.status.idle": "2023-07-25T12:59:43.391038Z",
     "shell.execute_reply": "2023-07-25T12:59:43.390066Z"
    },
    "papermill": {
     "duration": 0.069308,
     "end_time": "2023-07-25T12:59:43.393737",
     "exception": false,
     "start_time": "2023-07-25T12:59:43.324429",
     "status": "completed"
    },
    "tags": []
   },
   "outputs": [
    {
     "data": {
      "text/html": [
       "<div>\n",
       "<style scoped>\n",
       "    .dataframe tbody tr th:only-of-type {\n",
       "        vertical-align: middle;\n",
       "    }\n",
       "\n",
       "    .dataframe tbody tr th {\n",
       "        vertical-align: top;\n",
       "    }\n",
       "\n",
       "    .dataframe thead th {\n",
       "        text-align: right;\n",
       "    }\n",
       "</style>\n",
       "<table border=\"1\" class=\"dataframe\">\n",
       "  <thead>\n",
       "    <tr style=\"text-align: right;\">\n",
       "      <th></th>\n",
       "      <th>num_sold</th>\n",
       "    </tr>\n",
       "    <tr>\n",
       "      <th>country</th>\n",
       "      <th></th>\n",
       "    </tr>\n",
       "  </thead>\n",
       "  <tbody>\n",
       "    <tr>\n",
       "      <th>65.712922</th>\n",
       "      <td>3.941306</td>\n",
       "    </tr>\n",
       "    <tr>\n",
       "      <th>132.383302</th>\n",
       "      <td>1.516589</td>\n",
       "    </tr>\n",
       "    <tr>\n",
       "      <th>164.753696</th>\n",
       "      <td>1.594678</td>\n",
       "    </tr>\n",
       "    <tr>\n",
       "      <th>221.840130</th>\n",
       "      <td>1.180843</td>\n",
       "    </tr>\n",
       "    <tr>\n",
       "      <th>263.795201</th>\n",
       "      <td>0.844314</td>\n",
       "    </tr>\n",
       "  </tbody>\n",
       "</table>\n",
       "</div>"
      ],
      "text/plain": [
       "            num_sold\n",
       "country             \n",
       "65.712922   3.941306\n",
       "132.383302  1.516589\n",
       "164.753696  1.594678\n",
       "221.840130  1.180843\n",
       "263.795201  0.844314"
      ]
     },
     "execution_count": 43,
     "metadata": {},
     "output_type": "execute_result"
    }
   ],
   "source": [
    "coef_df = 1/(temp_d.groupby('country')[['num_sold']].mean()/temp_d.groupby('country')[['num_sold']].mean().sum()/0.28)\n",
    "coef_df"
   ]
  },
  {
   "cell_type": "code",
   "execution_count": 44,
   "id": "8de42fb1",
   "metadata": {
    "execution": {
     "iopub.execute_input": "2023-07-25T12:59:43.477162Z",
     "iopub.status.busy": "2023-07-25T12:59:43.476167Z",
     "iopub.status.idle": "2023-07-25T12:59:44.897992Z",
     "shell.execute_reply": "2023-07-25T12:59:44.896576Z"
    },
    "papermill": {
     "duration": 1.467176,
     "end_time": "2023-07-25T12:59:44.901408",
     "exception": false,
     "start_time": "2023-07-25T12:59:43.434232",
     "status": "completed"
    },
    "tags": []
   },
   "outputs": [],
   "source": [
    "temp_d['num_sold'] = temp_d.apply(lambda x: x['num_sold']*coef_df.iloc[0] if x['country']=='Argentina' else (\n",
    "x['num_sold']*coef_df.iloc[4] if x['country']=='Spain' else (x['num_sold']*coef_df.iloc[3] if x['country']=='Japan' else (\n",
    "x['num_sold']*coef_df.iloc[2] if x['country']=='Estonia' else x['num_sold']))), axis=1)"
   ]
  },
  {
   "cell_type": "code",
   "execution_count": 45,
   "id": "22e4b378",
   "metadata": {
    "execution": {
     "iopub.execute_input": "2023-07-25T12:59:44.989244Z",
     "iopub.status.busy": "2023-07-25T12:59:44.988735Z",
     "iopub.status.idle": "2023-07-25T12:59:44.997000Z",
     "shell.execute_reply": "2023-07-25T12:59:44.995875Z"
    },
    "papermill": {
     "duration": 0.054115,
     "end_time": "2023-07-25T12:59:44.999643",
     "exception": false,
     "start_time": "2023-07-25T12:59:44.945528",
     "status": "completed"
    },
    "tags": []
   },
   "outputs": [
    {
     "data": {
      "text/plain": [
       "dtype('float64')"
      ]
     },
     "execution_count": 45,
     "metadata": {},
     "output_type": "execute_result"
    }
   ],
   "source": [
    "temp_d['num_sold'].dtype"
   ]
  },
  {
   "cell_type": "code",
   "execution_count": 46,
   "id": "c7133306",
   "metadata": {
    "execution": {
     "iopub.execute_input": "2023-07-25T12:59:45.084265Z",
     "iopub.status.busy": "2023-07-25T12:59:45.083797Z",
     "iopub.status.idle": "2023-07-25T12:59:45.090396Z",
     "shell.execute_reply": "2023-07-25T12:59:45.089327Z"
    },
    "papermill": {
     "duration": 0.051779,
     "end_time": "2023-07-25T12:59:45.092995",
     "exception": false,
     "start_time": "2023-07-25T12:59:45.041216",
     "status": "completed"
    },
    "tags": []
   },
   "outputs": [],
   "source": [
    "output['num_sold']=temp_d['num_sold']"
   ]
  },
  {
   "cell_type": "code",
   "execution_count": 47,
   "id": "9dea012d",
   "metadata": {
    "execution": {
     "iopub.execute_input": "2023-07-25T12:59:45.177629Z",
     "iopub.status.busy": "2023-07-25T12:59:45.177080Z",
     "iopub.status.idle": "2023-07-25T12:59:45.184790Z",
     "shell.execute_reply": "2023-07-25T12:59:45.183169Z"
    },
    "papermill": {
     "duration": 0.053813,
     "end_time": "2023-07-25T12:59:45.187432",
     "exception": false,
     "start_time": "2023-07-25T12:59:45.133619",
     "status": "completed"
    },
    "tags": []
   },
   "outputs": [],
   "source": [
    "output=output.drop('country',axis=1)"
   ]
  },
  {
   "cell_type": "code",
   "execution_count": 48,
   "id": "35653430",
   "metadata": {
    "execution": {
     "iopub.execute_input": "2023-07-25T12:59:45.272243Z",
     "iopub.status.busy": "2023-07-25T12:59:45.271776Z",
     "iopub.status.idle": "2023-07-25T12:59:45.284327Z",
     "shell.execute_reply": "2023-07-25T12:59:45.283021Z"
    },
    "papermill": {
     "duration": 0.057681,
     "end_time": "2023-07-25T12:59:45.286947",
     "exception": false,
     "start_time": "2023-07-25T12:59:45.229266",
     "status": "completed"
    },
    "tags": []
   },
   "outputs": [
    {
     "data": {
      "text/html": [
       "<div>\n",
       "<style scoped>\n",
       "    .dataframe tbody tr th:only-of-type {\n",
       "        vertical-align: middle;\n",
       "    }\n",
       "\n",
       "    .dataframe tbody tr th {\n",
       "        vertical-align: top;\n",
       "    }\n",
       "\n",
       "    .dataframe thead th {\n",
       "        text-align: right;\n",
       "    }\n",
       "</style>\n",
       "<table border=\"1\" class=\"dataframe\">\n",
       "  <thead>\n",
       "    <tr style=\"text-align: right;\">\n",
       "      <th></th>\n",
       "      <th>id</th>\n",
       "      <th>num_sold</th>\n",
       "    </tr>\n",
       "  </thead>\n",
       "  <tbody>\n",
       "    <tr>\n",
       "      <th>0</th>\n",
       "      <td>136950</td>\n",
       "      <td>46.021508</td>\n",
       "    </tr>\n",
       "    <tr>\n",
       "      <th>1</th>\n",
       "      <td>136951</td>\n",
       "      <td>42.997624</td>\n",
       "    </tr>\n",
       "    <tr>\n",
       "      <th>2</th>\n",
       "      <td>136952</td>\n",
       "      <td>5.884205</td>\n",
       "    </tr>\n",
       "    <tr>\n",
       "      <th>3</th>\n",
       "      <td>136953</td>\n",
       "      <td>36.853350</td>\n",
       "    </tr>\n",
       "    <tr>\n",
       "      <th>4</th>\n",
       "      <td>136954</td>\n",
       "      <td>27.684495</td>\n",
       "    </tr>\n",
       "  </tbody>\n",
       "</table>\n",
       "</div>"
      ],
      "text/plain": [
       "       id   num_sold\n",
       "0  136950  46.021508\n",
       "1  136951  42.997624\n",
       "2  136952   5.884205\n",
       "3  136953  36.853350\n",
       "4  136954  27.684495"
      ]
     },
     "execution_count": 48,
     "metadata": {},
     "output_type": "execute_result"
    }
   ],
   "source": [
    "output.head()"
   ]
  },
  {
   "cell_type": "code",
   "execution_count": 49,
   "id": "04708f21",
   "metadata": {
    "execution": {
     "iopub.execute_input": "2023-07-25T12:59:45.370429Z",
     "iopub.status.busy": "2023-07-25T12:59:45.369956Z",
     "iopub.status.idle": "2023-07-25T12:59:45.496677Z",
     "shell.execute_reply": "2023-07-25T12:59:45.495195Z"
    },
    "papermill": {
     "duration": 0.172304,
     "end_time": "2023-07-25T12:59:45.499828",
     "exception": false,
     "start_time": "2023-07-25T12:59:45.327524",
     "status": "completed"
    },
    "tags": []
   },
   "outputs": [
    {
     "name": "stdout",
     "output_type": "stream",
     "text": [
      "Your submission was successfully saved!\n"
     ]
    }
   ],
   "source": [
    "output.to_csv('submission.csv', index=False)\n",
    "print(\"Your submission was successfully saved!\")"
   ]
  },
  {
   "cell_type": "code",
   "execution_count": null,
   "id": "50e05d62",
   "metadata": {
    "papermill": {
     "duration": 0.041874,
     "end_time": "2023-07-25T12:59:45.582726",
     "exception": false,
     "start_time": "2023-07-25T12:59:45.540852",
     "status": "completed"
    },
    "tags": []
   },
   "outputs": [],
   "source": []
  }
 ],
 "metadata": {
  "kernelspec": {
   "display_name": "Python 3",
   "language": "python",
   "name": "python3"
  },
  "language_info": {
   "codemirror_mode": {
    "name": "ipython",
    "version": 3
   },
   "file_extension": ".py",
   "mimetype": "text/x-python",
   "name": "python",
   "nbconvert_exporter": "python",
   "pygments_lexer": "ipython3",
   "version": "3.10.12"
  },
  "papermill": {
   "default_parameters": {},
   "duration": 2601.420798,
   "end_time": "2023-07-25T12:59:48.271175",
   "environment_variables": {},
   "exception": null,
   "input_path": "__notebook__.ipynb",
   "output_path": "__notebook__.ipynb",
   "parameters": {},
   "start_time": "2023-07-25T12:16:26.850377",
   "version": "2.4.0"
  }
 },
 "nbformat": 4,
 "nbformat_minor": 5
}
