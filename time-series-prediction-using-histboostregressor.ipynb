{
 "cells": [
  {
   "cell_type": "code",
   "execution_count": 1,
   "id": "92c0bafa",
   "metadata": {
    "_cell_guid": "b1076dfc-b9ad-4769-8c92-a6c4dae69d19",
    "_uuid": "8f2839f25d086af736a60e9eeb907d3b93b6e0e5",
    "execution": {
     "iopub.execute_input": "2023-07-16T08:39:44.350181Z",
     "iopub.status.busy": "2023-07-16T08:39:44.349732Z",
     "iopub.status.idle": "2023-07-16T08:39:47.163104Z",
     "shell.execute_reply": "2023-07-16T08:39:47.161984Z"
    },
    "papermill": {
     "duration": 2.82841,
     "end_time": "2023-07-16T08:39:47.165474",
     "exception": false,
     "start_time": "2023-07-16T08:39:44.337064",
     "status": "completed"
    },
    "tags": []
   },
   "outputs": [
    {
     "name": "stderr",
     "output_type": "stream",
     "text": [
      "/opt/conda/lib/python3.10/site-packages/scipy/__init__.py:146: UserWarning: A NumPy version >=1.16.5 and <1.23.0 is required for this version of SciPy (detected version 1.23.5\n",
      "  warnings.warn(f\"A NumPy version >={np_minversion} and <{np_maxversion}\"\n"
     ]
    },
    {
     "name": "stdout",
     "output_type": "stream",
     "text": [
      "/kaggle/input/playground-series-s3e19/sample_submission.csv\n",
      "/kaggle/input/playground-series-s3e19/train.csv\n",
      "/kaggle/input/playground-series-s3e19/test.csv\n"
     ]
    }
   ],
   "source": [
    "\n",
    "\n",
    "import numpy as np # linear algebra\n",
    "import pandas as pd # data processing, CSV file I/O (e.g. pd.read_csv)\n",
    "import matplotlib.pyplot as plt\n",
    "import seaborn as sns\n",
    "#%matplotlib.inline\n",
    "import warnings\n",
    "warnings.filterwarnings(action='ignore')\n",
    "import optuna\n",
    "from sklearn.ensemble import HistGradientBoostingRegressor\n",
    "from category_encoders import CatBoostEncoder\n",
    "from sklearn.model_selection import train_test_split, cross_val_score,KFold\n",
    "\n",
    "\n",
    "\n",
    "import os\n",
    "for dirname, _, filenames in os.walk('/kaggle/input'):\n",
    "    for filename in filenames:\n",
    "        print(os.path.join(dirname, filename))\n",
    "\n"
   ]
  },
  {
   "cell_type": "code",
   "execution_count": 2,
   "id": "788fc9f7",
   "metadata": {
    "execution": {
     "iopub.execute_input": "2023-07-16T08:39:47.186135Z",
     "iopub.status.busy": "2023-07-16T08:39:47.185099Z",
     "iopub.status.idle": "2023-07-16T08:39:47.432047Z",
     "shell.execute_reply": "2023-07-16T08:39:47.430854Z"
    },
    "papermill": {
     "duration": 0.259966,
     "end_time": "2023-07-16T08:39:47.434801",
     "exception": false,
     "start_time": "2023-07-16T08:39:47.174835",
     "status": "completed"
    },
    "tags": []
   },
   "outputs": [],
   "source": [
    "train=pd.read_csv('/kaggle/input/playground-series-s3e19/train.csv')"
   ]
  },
  {
   "cell_type": "code",
   "execution_count": 3,
   "id": "abd7ffde",
   "metadata": {
    "execution": {
     "iopub.execute_input": "2023-07-16T08:39:47.453978Z",
     "iopub.status.busy": "2023-07-16T08:39:47.453622Z",
     "iopub.status.idle": "2023-07-16T08:39:47.508288Z",
     "shell.execute_reply": "2023-07-16T08:39:47.507309Z"
    },
    "papermill": {
     "duration": 0.067103,
     "end_time": "2023-07-16T08:39:47.510675",
     "exception": false,
     "start_time": "2023-07-16T08:39:47.443572",
     "status": "completed"
    },
    "tags": []
   },
   "outputs": [],
   "source": [
    "test = pd.read_csv('/kaggle/input/playground-series-s3e19/test.csv')"
   ]
  },
  {
   "cell_type": "code",
   "execution_count": 4,
   "id": "380c43f7",
   "metadata": {
    "execution": {
     "iopub.execute_input": "2023-07-16T08:39:47.531397Z",
     "iopub.status.busy": "2023-07-16T08:39:47.530392Z",
     "iopub.status.idle": "2023-07-16T08:39:47.554842Z",
     "shell.execute_reply": "2023-07-16T08:39:47.553675Z"
    },
    "papermill": {
     "duration": 0.037227,
     "end_time": "2023-07-16T08:39:47.557207",
     "exception": false,
     "start_time": "2023-07-16T08:39:47.519980",
     "status": "completed"
    },
    "tags": []
   },
   "outputs": [
    {
     "data": {
      "text/html": [
       "<div>\n",
       "<style scoped>\n",
       "    .dataframe tbody tr th:only-of-type {\n",
       "        vertical-align: middle;\n",
       "    }\n",
       "\n",
       "    .dataframe tbody tr th {\n",
       "        vertical-align: top;\n",
       "    }\n",
       "\n",
       "    .dataframe thead th {\n",
       "        text-align: right;\n",
       "    }\n",
       "</style>\n",
       "<table border=\"1\" class=\"dataframe\">\n",
       "  <thead>\n",
       "    <tr style=\"text-align: right;\">\n",
       "      <th></th>\n",
       "      <th>id</th>\n",
       "      <th>date</th>\n",
       "      <th>country</th>\n",
       "      <th>store</th>\n",
       "      <th>product</th>\n",
       "    </tr>\n",
       "  </thead>\n",
       "  <tbody>\n",
       "    <tr>\n",
       "      <th>0</th>\n",
       "      <td>136950</td>\n",
       "      <td>2022-01-01</td>\n",
       "      <td>Argentina</td>\n",
       "      <td>Kaggle Learn</td>\n",
       "      <td>Using LLMs to Improve Your Coding</td>\n",
       "    </tr>\n",
       "    <tr>\n",
       "      <th>1</th>\n",
       "      <td>136951</td>\n",
       "      <td>2022-01-01</td>\n",
       "      <td>Argentina</td>\n",
       "      <td>Kaggle Learn</td>\n",
       "      <td>Using LLMs to Train More LLMs</td>\n",
       "    </tr>\n",
       "    <tr>\n",
       "      <th>2</th>\n",
       "      <td>136952</td>\n",
       "      <td>2022-01-01</td>\n",
       "      <td>Argentina</td>\n",
       "      <td>Kaggle Learn</td>\n",
       "      <td>Using LLMs to Win Friends and Influence People</td>\n",
       "    </tr>\n",
       "    <tr>\n",
       "      <th>3</th>\n",
       "      <td>136953</td>\n",
       "      <td>2022-01-01</td>\n",
       "      <td>Argentina</td>\n",
       "      <td>Kaggle Learn</td>\n",
       "      <td>Using LLMs to Win More Kaggle Competitions</td>\n",
       "    </tr>\n",
       "    <tr>\n",
       "      <th>4</th>\n",
       "      <td>136954</td>\n",
       "      <td>2022-01-01</td>\n",
       "      <td>Argentina</td>\n",
       "      <td>Kaggle Learn</td>\n",
       "      <td>Using LLMs to Write Better</td>\n",
       "    </tr>\n",
       "  </tbody>\n",
       "</table>\n",
       "</div>"
      ],
      "text/plain": [
       "       id        date    country         store  \\\n",
       "0  136950  2022-01-01  Argentina  Kaggle Learn   \n",
       "1  136951  2022-01-01  Argentina  Kaggle Learn   \n",
       "2  136952  2022-01-01  Argentina  Kaggle Learn   \n",
       "3  136953  2022-01-01  Argentina  Kaggle Learn   \n",
       "4  136954  2022-01-01  Argentina  Kaggle Learn   \n",
       "\n",
       "                                          product  \n",
       "0               Using LLMs to Improve Your Coding  \n",
       "1                   Using LLMs to Train More LLMs  \n",
       "2  Using LLMs to Win Friends and Influence People  \n",
       "3      Using LLMs to Win More Kaggle Competitions  \n",
       "4                      Using LLMs to Write Better  "
      ]
     },
     "execution_count": 4,
     "metadata": {},
     "output_type": "execute_result"
    }
   ],
   "source": [
    "test.head()"
   ]
  },
  {
   "cell_type": "code",
   "execution_count": 5,
   "id": "4f32488c",
   "metadata": {
    "execution": {
     "iopub.execute_input": "2023-07-16T08:39:47.577088Z",
     "iopub.status.busy": "2023-07-16T08:39:47.576178Z",
     "iopub.status.idle": "2023-07-16T08:39:47.679547Z",
     "shell.execute_reply": "2023-07-16T08:39:47.678462Z"
    },
    "papermill": {
     "duration": 0.116254,
     "end_time": "2023-07-16T08:39:47.682413",
     "exception": false,
     "start_time": "2023-07-16T08:39:47.566159",
     "status": "completed"
    },
    "tags": []
   },
   "outputs": [
    {
     "name": "stdout",
     "output_type": "stream",
     "text": [
      "<class 'pandas.core.frame.DataFrame'>\n",
      "RangeIndex: 136950 entries, 0 to 136949\n",
      "Data columns (total 6 columns):\n",
      " #   Column    Non-Null Count   Dtype \n",
      "---  ------    --------------   ----- \n",
      " 0   id        136950 non-null  int64 \n",
      " 1   date      136950 non-null  object\n",
      " 2   country   136950 non-null  object\n",
      " 3   store     136950 non-null  object\n",
      " 4   product   136950 non-null  object\n",
      " 5   num_sold  136950 non-null  int64 \n",
      "dtypes: int64(2), object(4)\n",
      "memory usage: 6.3+ MB\n"
     ]
    }
   ],
   "source": [
    "train.info()"
   ]
  },
  {
   "cell_type": "code",
   "execution_count": 6,
   "id": "311d03e0",
   "metadata": {
    "execution": {
     "iopub.execute_input": "2023-07-16T08:39:47.703295Z",
     "iopub.status.busy": "2023-07-16T08:39:47.702899Z",
     "iopub.status.idle": "2023-07-16T08:39:47.796431Z",
     "shell.execute_reply": "2023-07-16T08:39:47.795097Z"
    },
    "papermill": {
     "duration": 0.106952,
     "end_time": "2023-07-16T08:39:47.798932",
     "exception": false,
     "start_time": "2023-07-16T08:39:47.691980",
     "status": "completed"
    },
    "tags": []
   },
   "outputs": [
    {
     "data": {
      "text/plain": [
       "id          0\n",
       "date        0\n",
       "country     0\n",
       "store       0\n",
       "product     0\n",
       "num_sold    0\n",
       "dtype: int64"
      ]
     },
     "execution_count": 6,
     "metadata": {},
     "output_type": "execute_result"
    }
   ],
   "source": [
    "train.isnull().sum()"
   ]
  },
  {
   "cell_type": "code",
   "execution_count": 7,
   "id": "1ff6b951",
   "metadata": {
    "execution": {
     "iopub.execute_input": "2023-07-16T08:39:47.820133Z",
     "iopub.status.busy": "2023-07-16T08:39:47.819729Z",
     "iopub.status.idle": "2023-07-16T08:39:47.848666Z",
     "shell.execute_reply": "2023-07-16T08:39:47.847489Z"
    },
    "papermill": {
     "duration": 0.042419,
     "end_time": "2023-07-16T08:39:47.851227",
     "exception": false,
     "start_time": "2023-07-16T08:39:47.808808",
     "status": "completed"
    },
    "tags": []
   },
   "outputs": [],
   "source": [
    "train['date']=pd.to_datetime(train['date'])"
   ]
  },
  {
   "cell_type": "code",
   "execution_count": 8,
   "id": "9dc9fe4e",
   "metadata": {
    "execution": {
     "iopub.execute_input": "2023-07-16T08:39:47.873176Z",
     "iopub.status.busy": "2023-07-16T08:39:47.871958Z",
     "iopub.status.idle": "2023-07-16T08:39:47.885065Z",
     "shell.execute_reply": "2023-07-16T08:39:47.883984Z"
    },
    "papermill": {
     "duration": 0.026075,
     "end_time": "2023-07-16T08:39:47.887150",
     "exception": false,
     "start_time": "2023-07-16T08:39:47.861075",
     "status": "completed"
    },
    "tags": []
   },
   "outputs": [
    {
     "data": {
      "text/html": [
       "<div>\n",
       "<style scoped>\n",
       "    .dataframe tbody tr th:only-of-type {\n",
       "        vertical-align: middle;\n",
       "    }\n",
       "\n",
       "    .dataframe tbody tr th {\n",
       "        vertical-align: top;\n",
       "    }\n",
       "\n",
       "    .dataframe thead th {\n",
       "        text-align: right;\n",
       "    }\n",
       "</style>\n",
       "<table border=\"1\" class=\"dataframe\">\n",
       "  <thead>\n",
       "    <tr style=\"text-align: right;\">\n",
       "      <th></th>\n",
       "      <th>id</th>\n",
       "      <th>date</th>\n",
       "      <th>country</th>\n",
       "      <th>store</th>\n",
       "      <th>product</th>\n",
       "      <th>num_sold</th>\n",
       "    </tr>\n",
       "  </thead>\n",
       "  <tbody>\n",
       "    <tr>\n",
       "      <th>0</th>\n",
       "      <td>0</td>\n",
       "      <td>2017-01-01</td>\n",
       "      <td>Argentina</td>\n",
       "      <td>Kaggle Learn</td>\n",
       "      <td>Using LLMs to Improve Your Coding</td>\n",
       "      <td>63</td>\n",
       "    </tr>\n",
       "    <tr>\n",
       "      <th>1</th>\n",
       "      <td>1</td>\n",
       "      <td>2017-01-01</td>\n",
       "      <td>Argentina</td>\n",
       "      <td>Kaggle Learn</td>\n",
       "      <td>Using LLMs to Train More LLMs</td>\n",
       "      <td>66</td>\n",
       "    </tr>\n",
       "    <tr>\n",
       "      <th>2</th>\n",
       "      <td>2</td>\n",
       "      <td>2017-01-01</td>\n",
       "      <td>Argentina</td>\n",
       "      <td>Kaggle Learn</td>\n",
       "      <td>Using LLMs to Win Friends and Influence People</td>\n",
       "      <td>9</td>\n",
       "    </tr>\n",
       "    <tr>\n",
       "      <th>3</th>\n",
       "      <td>3</td>\n",
       "      <td>2017-01-01</td>\n",
       "      <td>Argentina</td>\n",
       "      <td>Kaggle Learn</td>\n",
       "      <td>Using LLMs to Win More Kaggle Competitions</td>\n",
       "      <td>59</td>\n",
       "    </tr>\n",
       "    <tr>\n",
       "      <th>4</th>\n",
       "      <td>4</td>\n",
       "      <td>2017-01-01</td>\n",
       "      <td>Argentina</td>\n",
       "      <td>Kaggle Learn</td>\n",
       "      <td>Using LLMs to Write Better</td>\n",
       "      <td>49</td>\n",
       "    </tr>\n",
       "  </tbody>\n",
       "</table>\n",
       "</div>"
      ],
      "text/plain": [
       "   id       date    country         store  \\\n",
       "0   0 2017-01-01  Argentina  Kaggle Learn   \n",
       "1   1 2017-01-01  Argentina  Kaggle Learn   \n",
       "2   2 2017-01-01  Argentina  Kaggle Learn   \n",
       "3   3 2017-01-01  Argentina  Kaggle Learn   \n",
       "4   4 2017-01-01  Argentina  Kaggle Learn   \n",
       "\n",
       "                                          product  num_sold  \n",
       "0               Using LLMs to Improve Your Coding        63  \n",
       "1                   Using LLMs to Train More LLMs        66  \n",
       "2  Using LLMs to Win Friends and Influence People         9  \n",
       "3      Using LLMs to Win More Kaggle Competitions        59  \n",
       "4                      Using LLMs to Write Better        49  "
      ]
     },
     "execution_count": 8,
     "metadata": {},
     "output_type": "execute_result"
    }
   ],
   "source": [
    "train.head()"
   ]
  },
  {
   "cell_type": "code",
   "execution_count": 9,
   "id": "52ab0475",
   "metadata": {
    "execution": {
     "iopub.execute_input": "2023-07-16T08:39:47.907864Z",
     "iopub.status.busy": "2023-07-16T08:39:47.907444Z",
     "iopub.status.idle": "2023-07-16T08:39:47.980073Z",
     "shell.execute_reply": "2023-07-16T08:39:47.978840Z"
    },
    "papermill": {
     "duration": 0.085781,
     "end_time": "2023-07-16T08:39:47.982367",
     "exception": false,
     "start_time": "2023-07-16T08:39:47.896586",
     "status": "completed"
    },
    "tags": []
   },
   "outputs": [
    {
     "data": {
      "text/plain": [
       "id          0\n",
       "date        0\n",
       "country     0\n",
       "store       0\n",
       "product     0\n",
       "num_sold    0\n",
       "dtype: int64"
      ]
     },
     "execution_count": 9,
     "metadata": {},
     "output_type": "execute_result"
    }
   ],
   "source": [
    "train.isnull().sum()"
   ]
  },
  {
   "cell_type": "code",
   "execution_count": 10,
   "id": "5d3a1ea2",
   "metadata": {
    "execution": {
     "iopub.execute_input": "2023-07-16T08:39:48.002800Z",
     "iopub.status.busy": "2023-07-16T08:39:48.002340Z",
     "iopub.status.idle": "2023-07-16T08:39:48.031609Z",
     "shell.execute_reply": "2023-07-16T08:39:48.030741Z"
    },
    "papermill": {
     "duration": 0.04181,
     "end_time": "2023-07-16T08:39:48.033589",
     "exception": false,
     "start_time": "2023-07-16T08:39:47.991779",
     "status": "completed"
    },
    "tags": []
   },
   "outputs": [
    {
     "data": {
      "text/html": [
       "<div>\n",
       "<style scoped>\n",
       "    .dataframe tbody tr th:only-of-type {\n",
       "        vertical-align: middle;\n",
       "    }\n",
       "\n",
       "    .dataframe tbody tr th {\n",
       "        vertical-align: top;\n",
       "    }\n",
       "\n",
       "    .dataframe thead th {\n",
       "        text-align: right;\n",
       "    }\n",
       "</style>\n",
       "<table border=\"1\" class=\"dataframe\">\n",
       "  <thead>\n",
       "    <tr style=\"text-align: right;\">\n",
       "      <th></th>\n",
       "      <th>id</th>\n",
       "      <th>num_sold</th>\n",
       "    </tr>\n",
       "  </thead>\n",
       "  <tbody>\n",
       "    <tr>\n",
       "      <th>count</th>\n",
       "      <td>136950.00000</td>\n",
       "      <td>136950.000000</td>\n",
       "    </tr>\n",
       "    <tr>\n",
       "      <th>mean</th>\n",
       "      <td>68474.50000</td>\n",
       "      <td>165.522636</td>\n",
       "    </tr>\n",
       "    <tr>\n",
       "      <th>std</th>\n",
       "      <td>39534.20402</td>\n",
       "      <td>183.691575</td>\n",
       "    </tr>\n",
       "    <tr>\n",
       "      <th>min</th>\n",
       "      <td>0.00000</td>\n",
       "      <td>2.000000</td>\n",
       "    </tr>\n",
       "    <tr>\n",
       "      <th>25%</th>\n",
       "      <td>34237.25000</td>\n",
       "      <td>46.000000</td>\n",
       "    </tr>\n",
       "    <tr>\n",
       "      <th>50%</th>\n",
       "      <td>68474.50000</td>\n",
       "      <td>98.000000</td>\n",
       "    </tr>\n",
       "    <tr>\n",
       "      <th>75%</th>\n",
       "      <td>102711.75000</td>\n",
       "      <td>184.000000</td>\n",
       "    </tr>\n",
       "    <tr>\n",
       "      <th>max</th>\n",
       "      <td>136949.00000</td>\n",
       "      <td>1380.000000</td>\n",
       "    </tr>\n",
       "  </tbody>\n",
       "</table>\n",
       "</div>"
      ],
      "text/plain": [
       "                 id       num_sold\n",
       "count  136950.00000  136950.000000\n",
       "mean    68474.50000     165.522636\n",
       "std     39534.20402     183.691575\n",
       "min         0.00000       2.000000\n",
       "25%     34237.25000      46.000000\n",
       "50%     68474.50000      98.000000\n",
       "75%    102711.75000     184.000000\n",
       "max    136949.00000    1380.000000"
      ]
     },
     "execution_count": 10,
     "metadata": {},
     "output_type": "execute_result"
    }
   ],
   "source": [
    "train.describe()"
   ]
  },
  {
   "cell_type": "code",
   "execution_count": 11,
   "id": "6823276d",
   "metadata": {
    "execution": {
     "iopub.execute_input": "2023-07-16T08:39:48.055520Z",
     "iopub.status.busy": "2023-07-16T08:39:48.054500Z",
     "iopub.status.idle": "2023-07-16T08:39:48.102147Z",
     "shell.execute_reply": "2023-07-16T08:39:48.100631Z"
    },
    "papermill": {
     "duration": 0.061425,
     "end_time": "2023-07-16T08:39:48.104946",
     "exception": false,
     "start_time": "2023-07-16T08:39:48.043521",
     "status": "completed"
    },
    "tags": []
   },
   "outputs": [
    {
     "name": "stdout",
     "output_type": "stream",
     "text": [
      "id has 136950 values\n",
      "date has 1826 values\n",
      "country has 5 values\n",
      "store has 3 values\n",
      "product has 5 values\n",
      "num_sold has 1028 values\n"
     ]
    }
   ],
   "source": [
    "for col in train.columns:\n",
    "    print(f\"{col} has {len(train[col].unique())} values\")"
   ]
  },
  {
   "cell_type": "code",
   "execution_count": 12,
   "id": "b95f9f57",
   "metadata": {
    "execution": {
     "iopub.execute_input": "2023-07-16T08:39:48.127426Z",
     "iopub.status.busy": "2023-07-16T08:39:48.127036Z",
     "iopub.status.idle": "2023-07-16T08:39:48.143416Z",
     "shell.execute_reply": "2023-07-16T08:39:48.142424Z"
    },
    "papermill": {
     "duration": 0.030642,
     "end_time": "2023-07-16T08:39:48.146102",
     "exception": false,
     "start_time": "2023-07-16T08:39:48.115460",
     "status": "completed"
    },
    "tags": []
   },
   "outputs": [],
   "source": [
    "products= train['product'].unique()"
   ]
  },
  {
   "cell_type": "code",
   "execution_count": 13,
   "id": "cebab255",
   "metadata": {
    "execution": {
     "iopub.execute_input": "2023-07-16T08:39:48.168818Z",
     "iopub.status.busy": "2023-07-16T08:39:48.168455Z",
     "iopub.status.idle": "2023-07-16T08:39:48.174532Z",
     "shell.execute_reply": "2023-07-16T08:39:48.173796Z"
    },
    "papermill": {
     "duration": 0.019899,
     "end_time": "2023-07-16T08:39:48.176640",
     "exception": false,
     "start_time": "2023-07-16T08:39:48.156741",
     "status": "completed"
    },
    "tags": []
   },
   "outputs": [
    {
     "data": {
      "text/plain": [
       "array(['Using LLMs to Improve Your Coding',\n",
       "       'Using LLMs to Train More LLMs',\n",
       "       'Using LLMs to Win Friends and Influence People',\n",
       "       'Using LLMs to Win More Kaggle Competitions',\n",
       "       'Using LLMs to Write Better'], dtype=object)"
      ]
     },
     "execution_count": 13,
     "metadata": {},
     "output_type": "execute_result"
    }
   ],
   "source": [
    "products"
   ]
  },
  {
   "cell_type": "code",
   "execution_count": 14,
   "id": "9c148e33",
   "metadata": {
    "execution": {
     "iopub.execute_input": "2023-07-16T08:39:48.198874Z",
     "iopub.status.busy": "2023-07-16T08:39:48.198534Z",
     "iopub.status.idle": "2023-07-16T08:39:48.204639Z",
     "shell.execute_reply": "2023-07-16T08:39:48.203555Z"
    },
    "papermill": {
     "duration": 0.019875,
     "end_time": "2023-07-16T08:39:48.206861",
     "exception": false,
     "start_time": "2023-07-16T08:39:48.186986",
     "status": "completed"
    },
    "tags": []
   },
   "outputs": [
    {
     "data": {
      "text/plain": [
       "5"
      ]
     },
     "execution_count": 14,
     "metadata": {},
     "output_type": "execute_result"
    }
   ],
   "source": [
    "len(products)"
   ]
  },
  {
   "cell_type": "code",
   "execution_count": 15,
   "id": "4a418a5f",
   "metadata": {
    "execution": {
     "iopub.execute_input": "2023-07-16T08:39:48.229506Z",
     "iopub.status.busy": "2023-07-16T08:39:48.229149Z",
     "iopub.status.idle": "2023-07-16T08:39:50.412090Z",
     "shell.execute_reply": "2023-07-16T08:39:50.411053Z"
    },
    "papermill": {
     "duration": 2.197502,
     "end_time": "2023-07-16T08:39:50.414820",
     "exception": false,
     "start_time": "2023-07-16T08:39:48.217318",
     "status": "completed"
    },
    "tags": []
   },
   "outputs": [
    {
     "data": {
      "image/png": "[encoded data removed]",
      "text/plain": [
       "<Figure size 640x480 with 1 Axes>"
      ]
     },
     "metadata": {},
     "output_type": "display_data"
    }
   ],
   "source": [
    "for i in products:\n",
    "    train_1 = train[train['product']==i]\n",
    "    #plt.subplot(len(products),1,j)\n",
    "    #plt.subplot(1,2,len(i))\n",
    "    plt.plot(train_1['date'],train_1['num_sold'])\n",
    "    # Giving title to the chart using plt.title\n",
    "    plt.title(f\"Product '{i}' sold by Date\")\n",
    "    # rotating the x-axis tick labels at 30degree\n",
    "    # towards right\n",
    "    plt.xticks(rotation=30, ha='right')\n",
    " \n",
    " # Providing x and y label to the chart\n",
    "    plt.xlabel('Date')\n",
    "    plt.ylabel('Products sold')\n",
    "    \n",
    "    "
   ]
  },
  {
   "cell_type": "code",
   "execution_count": 16,
   "id": "a2cc1521",
   "metadata": {
    "execution": {
     "iopub.execute_input": "2023-07-16T08:39:50.438478Z",
     "iopub.status.busy": "2023-07-16T08:39:50.437430Z",
     "iopub.status.idle": "2023-07-16T08:39:50.445361Z",
     "shell.execute_reply": "2023-07-16T08:39:50.444313Z"
    },
    "papermill": {
     "duration": 0.02195,
     "end_time": "2023-07-16T08:39:50.447688",
     "exception": false,
     "start_time": "2023-07-16T08:39:50.425738",
     "status": "completed"
    },
    "tags": []
   },
   "outputs": [
    {
     "data": {
      "text/plain": [
       "Timestamp('2021-12-31 00:00:00')"
      ]
     },
     "execution_count": 16,
     "metadata": {},
     "output_type": "execute_result"
    }
   ],
   "source": [
    "train['date'].max()"
   ]
  },
  {
   "cell_type": "code",
   "execution_count": 17,
   "id": "d2092e04",
   "metadata": {
    "execution": {
     "iopub.execute_input": "2023-07-16T08:39:50.472695Z",
     "iopub.status.busy": "2023-07-16T08:39:50.471355Z",
     "iopub.status.idle": "2023-07-16T08:39:50.479878Z",
     "shell.execute_reply": "2023-07-16T08:39:50.478755Z"
    },
    "papermill": {
     "duration": 0.023013,
     "end_time": "2023-07-16T08:39:50.481990",
     "exception": false,
     "start_time": "2023-07-16T08:39:50.458977",
     "status": "completed"
    },
    "tags": []
   },
   "outputs": [
    {
     "data": {
      "text/plain": [
       "Timestamp('2017-01-01 00:00:00')"
      ]
     },
     "execution_count": 17,
     "metadata": {},
     "output_type": "execute_result"
    }
   ],
   "source": [
    "train['date'].min()"
   ]
  },
  {
   "cell_type": "code",
   "execution_count": 18,
   "id": "003cf257",
   "metadata": {
    "execution": {
     "iopub.execute_input": "2023-07-16T08:39:50.505552Z",
     "iopub.status.busy": "2023-07-16T08:39:50.505097Z",
     "iopub.status.idle": "2023-07-16T08:39:50.510754Z",
     "shell.execute_reply": "2023-07-16T08:39:50.509602Z"
    },
    "papermill": {
     "duration": 0.019931,
     "end_time": "2023-07-16T08:39:50.512712",
     "exception": false,
     "start_time": "2023-07-16T08:39:50.492781",
     "status": "completed"
    },
    "tags": []
   },
   "outputs": [],
   "source": [
    "def new_column(df):\n",
    "   df['day']=df['date'].dt.day\n",
    "   df['month']=df['date'].dt.month\n",
    "   df['year']=df['date'].dt.year\n",
    "   df=df.drop(['date'],axis=1)\n",
    "   return df"
   ]
  },
  {
   "cell_type": "code",
   "execution_count": 19,
   "id": "596bdefb",
   "metadata": {
    "execution": {
     "iopub.execute_input": "2023-07-16T08:39:50.536673Z",
     "iopub.status.busy": "2023-07-16T08:39:50.535689Z",
     "iopub.status.idle": "2023-07-16T08:39:50.589514Z",
     "shell.execute_reply": "2023-07-16T08:39:50.588523Z"
    },
    "papermill": {
     "duration": 0.068483,
     "end_time": "2023-07-16T08:39:50.592196",
     "exception": false,
     "start_time": "2023-07-16T08:39:50.523713",
     "status": "completed"
    },
    "tags": []
   },
   "outputs": [],
   "source": [
    "train= new_column(train)"
   ]
  },
  {
   "cell_type": "code",
   "execution_count": 20,
   "id": "68d94aae",
   "metadata": {
    "execution": {
     "iopub.execute_input": "2023-07-16T08:39:50.616066Z",
     "iopub.status.busy": "2023-07-16T08:39:50.615052Z",
     "iopub.status.idle": "2023-07-16T08:39:50.628487Z",
     "shell.execute_reply": "2023-07-16T08:39:50.627367Z"
    },
    "papermill": {
     "duration": 0.027523,
     "end_time": "2023-07-16T08:39:50.630614",
     "exception": false,
     "start_time": "2023-07-16T08:39:50.603091",
     "status": "completed"
    },
    "tags": []
   },
   "outputs": [
    {
     "data": {
      "text/html": [
       "<div>\n",
       "<style scoped>\n",
       "    .dataframe tbody tr th:only-of-type {\n",
       "        vertical-align: middle;\n",
       "    }\n",
       "\n",
       "    .dataframe tbody tr th {\n",
       "        vertical-align: top;\n",
       "    }\n",
       "\n",
       "    .dataframe thead th {\n",
       "        text-align: right;\n",
       "    }\n",
       "</style>\n",
       "<table border=\"1\" class=\"dataframe\">\n",
       "  <thead>\n",
       "    <tr style=\"text-align: right;\">\n",
       "      <th></th>\n",
       "      <th>id</th>\n",
       "      <th>country</th>\n",
       "      <th>store</th>\n",
       "      <th>product</th>\n",
       "      <th>num_sold</th>\n",
       "      <th>day</th>\n",
       "      <th>month</th>\n",
       "      <th>year</th>\n",
       "    </tr>\n",
       "  </thead>\n",
       "  <tbody>\n",
       "    <tr>\n",
       "      <th>0</th>\n",
       "      <td>0</td>\n",
       "      <td>Argentina</td>\n",
       "      <td>Kaggle Learn</td>\n",
       "      <td>Using LLMs to Improve Your Coding</td>\n",
       "      <td>63</td>\n",
       "      <td>1</td>\n",
       "      <td>1</td>\n",
       "      <td>2017</td>\n",
       "    </tr>\n",
       "    <tr>\n",
       "      <th>1</th>\n",
       "      <td>1</td>\n",
       "      <td>Argentina</td>\n",
       "      <td>Kaggle Learn</td>\n",
       "      <td>Using LLMs to Train More LLMs</td>\n",
       "      <td>66</td>\n",
       "      <td>1</td>\n",
       "      <td>1</td>\n",
       "      <td>2017</td>\n",
       "    </tr>\n",
       "    <tr>\n",
       "      <th>2</th>\n",
       "      <td>2</td>\n",
       "      <td>Argentina</td>\n",
       "      <td>Kaggle Learn</td>\n",
       "      <td>Using LLMs to Win Friends and Influence People</td>\n",
       "      <td>9</td>\n",
       "      <td>1</td>\n",
       "      <td>1</td>\n",
       "      <td>2017</td>\n",
       "    </tr>\n",
       "    <tr>\n",
       "      <th>3</th>\n",
       "      <td>3</td>\n",
       "      <td>Argentina</td>\n",
       "      <td>Kaggle Learn</td>\n",
       "      <td>Using LLMs to Win More Kaggle Competitions</td>\n",
       "      <td>59</td>\n",
       "      <td>1</td>\n",
       "      <td>1</td>\n",
       "      <td>2017</td>\n",
       "    </tr>\n",
       "    <tr>\n",
       "      <th>4</th>\n",
       "      <td>4</td>\n",
       "      <td>Argentina</td>\n",
       "      <td>Kaggle Learn</td>\n",
       "      <td>Using LLMs to Write Better</td>\n",
       "      <td>49</td>\n",
       "      <td>1</td>\n",
       "      <td>1</td>\n",
       "      <td>2017</td>\n",
       "    </tr>\n",
       "  </tbody>\n",
       "</table>\n",
       "</div>"
      ],
      "text/plain": [
       "   id    country         store  \\\n",
       "0   0  Argentina  Kaggle Learn   \n",
       "1   1  Argentina  Kaggle Learn   \n",
       "2   2  Argentina  Kaggle Learn   \n",
       "3   3  Argentina  Kaggle Learn   \n",
       "4   4  Argentina  Kaggle Learn   \n",
       "\n",
       "                                          product  num_sold  day  month  year  \n",
       "0               Using LLMs to Improve Your Coding        63    1      1  2017  \n",
       "1                   Using LLMs to Train More LLMs        66    1      1  2017  \n",
       "2  Using LLMs to Win Friends and Influence People         9    1      1  2017  \n",
       "3      Using LLMs to Win More Kaggle Competitions        59    1      1  2017  \n",
       "4                      Using LLMs to Write Better        49    1      1  2017  "
      ]
     },
     "execution_count": 20,
     "metadata": {},
     "output_type": "execute_result"
    }
   ],
   "source": [
    "train.head()"
   ]
  },
  {
   "cell_type": "code",
   "execution_count": 21,
   "id": "ae75e03f",
   "metadata": {
    "execution": {
     "iopub.execute_input": "2023-07-16T08:39:50.654227Z",
     "iopub.status.busy": "2023-07-16T08:39:50.653783Z",
     "iopub.status.idle": "2023-07-16T08:39:50.658720Z",
     "shell.execute_reply": "2023-07-16T08:39:50.657543Z"
    },
    "papermill": {
     "duration": 0.019309,
     "end_time": "2023-07-16T08:39:50.660787",
     "exception": false,
     "start_time": "2023-07-16T08:39:50.641478",
     "status": "completed"
    },
    "tags": []
   },
   "outputs": [],
   "source": [
    "#countries=train['country'].unique()"
   ]
  },
  {
   "cell_type": "code",
   "execution_count": 22,
   "id": "6947b672",
   "metadata": {
    "execution": {
     "iopub.execute_input": "2023-07-16T08:39:50.684893Z",
     "iopub.status.busy": "2023-07-16T08:39:50.684510Z",
     "iopub.status.idle": "2023-07-16T08:39:50.689579Z",
     "shell.execute_reply": "2023-07-16T08:39:50.688352Z"
    },
    "papermill": {
     "duration": 0.01968,
     "end_time": "2023-07-16T08:39:50.691837",
     "exception": false,
     "start_time": "2023-07-16T08:39:50.672157",
     "status": "completed"
    },
    "tags": []
   },
   "outputs": [],
   "source": [
    "#stores=train['store'].unique()"
   ]
  },
  {
   "cell_type": "code",
   "execution_count": 23,
   "id": "77a66f9c",
   "metadata": {
    "execution": {
     "iopub.execute_input": "2023-07-16T08:39:50.715416Z",
     "iopub.status.busy": "2023-07-16T08:39:50.715035Z",
     "iopub.status.idle": "2023-07-16T08:39:50.731581Z",
     "shell.execute_reply": "2023-07-16T08:39:50.730396Z"
    },
    "papermill": {
     "duration": 0.03112,
     "end_time": "2023-07-16T08:39:50.733952",
     "exception": false,
     "start_time": "2023-07-16T08:39:50.702832",
     "status": "completed"
    },
    "tags": []
   },
   "outputs": [],
   "source": [
    "X= train.drop(['num_sold'],axis=1)\n",
    "y= train[['num_sold']]"
   ]
  },
  {
   "cell_type": "code",
   "execution_count": 24,
   "id": "8993eb57",
   "metadata": {
    "execution": {
     "iopub.execute_input": "2023-07-16T08:39:50.757416Z",
     "iopub.status.busy": "2023-07-16T08:39:50.757055Z",
     "iopub.status.idle": "2023-07-16T08:39:51.012260Z",
     "shell.execute_reply": "2023-07-16T08:39:51.011011Z"
    },
    "papermill": {
     "duration": 0.270036,
     "end_time": "2023-07-16T08:39:51.015017",
     "exception": false,
     "start_time": "2023-07-16T08:39:50.744981",
     "status": "completed"
    },
    "tags": []
   },
   "outputs": [],
   "source": [
    "cbe= CatBoostEncoder(cols = ['country', 'store', 'product']).fit(X,y)\n",
    "X= cbe.transform(X)\n"
   ]
  },
  {
   "cell_type": "code",
   "execution_count": 25,
   "id": "929daa25",
   "metadata": {
    "execution": {
     "iopub.execute_input": "2023-07-16T08:39:51.038849Z",
     "iopub.status.busy": "2023-07-16T08:39:51.038497Z",
     "iopub.status.idle": "2023-07-16T08:39:51.049969Z",
     "shell.execute_reply": "2023-07-16T08:39:51.048893Z"
    },
    "papermill": {
     "duration": 0.02656,
     "end_time": "2023-07-16T08:39:51.052700",
     "exception": false,
     "start_time": "2023-07-16T08:39:51.026140",
     "status": "completed"
    },
    "tags": []
   },
   "outputs": [],
   "source": [
    "test['date']=pd.to_datetime(test['date'])"
   ]
  },
  {
   "cell_type": "code",
   "execution_count": 26,
   "id": "f8874986",
   "metadata": {
    "execution": {
     "iopub.execute_input": "2023-07-16T08:39:51.078163Z",
     "iopub.status.busy": "2023-07-16T08:39:51.077808Z",
     "iopub.status.idle": "2023-07-16T08:39:51.094061Z",
     "shell.execute_reply": "2023-07-16T08:39:51.092819Z"
    },
    "papermill": {
     "duration": 0.031947,
     "end_time": "2023-07-16T08:39:51.096794",
     "exception": false,
     "start_time": "2023-07-16T08:39:51.064847",
     "status": "completed"
    },
    "tags": []
   },
   "outputs": [],
   "source": [
    "test=new_column(test)"
   ]
  },
  {
   "cell_type": "code",
   "execution_count": 27,
   "id": "f015b991",
   "metadata": {
    "execution": {
     "iopub.execute_input": "2023-07-16T08:39:51.123327Z",
     "iopub.status.busy": "2023-07-16T08:39:51.122496Z",
     "iopub.status.idle": "2023-07-16T08:39:51.155279Z",
     "shell.execute_reply": "2023-07-16T08:39:51.154273Z"
    },
    "papermill": {
     "duration": 0.049147,
     "end_time": "2023-07-16T08:39:51.158166",
     "exception": false,
     "start_time": "2023-07-16T08:39:51.109019",
     "status": "completed"
    },
    "tags": []
   },
   "outputs": [],
   "source": [
    "test=cbe.transform(test)"
   ]
  },
  {
   "cell_type": "code",
   "execution_count": 28,
   "id": "3a6bdaf6",
   "metadata": {
    "execution": {
     "iopub.execute_input": "2023-07-16T08:39:51.183538Z",
     "iopub.status.busy": "2023-07-16T08:39:51.183175Z",
     "iopub.status.idle": "2023-07-16T08:39:51.190773Z",
     "shell.execute_reply": "2023-07-16T08:39:51.189708Z"
    },
    "papermill": {
     "duration": 0.022711,
     "end_time": "2023-07-16T08:39:51.192904",
     "exception": false,
     "start_time": "2023-07-16T08:39:51.170193",
     "status": "completed"
    },
    "tags": []
   },
   "outputs": [],
   "source": [
    "def hgbr_objective(trial):\n",
    "    # Use the trial object to suggest a value for alpha\n",
    "    # Optuna will come up with a suggested value based on the scores of previous trials\n",
    "    _alpha = trial.suggest_float(\"quantile\", 0.1, 1)\n",
    "    _beta = trial.suggest_float(\"learning_rate\", 0.1, 20)\n",
    "    _gamma = trial.suggest_int(\"max_iter\", 1, 100)\n",
    "    _delta= trial.suggest_int(\"max_leaf_nodes\", 2, 100)\n",
    "    _theta= trial.suggest_int(\"max_depth\", 1, 8)\n",
    "    # Define the model with the suggested alpha\n",
    "    hgbr = HistGradientBoostingRegressor(quantile=_alpha,learning_rate=_beta,max_iter=_gamma,\n",
    "                                         max_leaf_nodes= _delta,max_depth=_theta,random_state=42)\n",
    "    # Calculate the score with 10-folds cross validation, which returns a list of scores\n",
    "    # scoring is defined as negative RMSE as it is what this Kaggle competition uses to evaluate the result\n",
    "    scores = cross_val_score(hgbr, X, y, \n",
    "                             cv=KFold(n_splits=10,\n",
    "                                      shuffle=True,\n",
    "                                      random_state=42),\n",
    "                             scoring=\"neg_root_mean_squared_error\",error_score='raise'\n",
    "                            )\n",
    "    # Return the mean of 10 scores\n",
    "    return scores.mean()"
   ]
  },
  {
   "cell_type": "code",
   "execution_count": 29,
   "id": "bdabf958",
   "metadata": {
    "execution": {
     "iopub.execute_input": "2023-07-16T08:39:51.217894Z",
     "iopub.status.busy": "2023-07-16T08:39:51.217491Z",
     "iopub.status.idle": "2023-07-16T08:39:51.224946Z",
     "shell.execute_reply": "2023-07-16T08:39:51.223708Z"
    },
    "papermill": {
     "duration": 0.022659,
     "end_time": "2023-07-16T08:39:51.227123",
     "exception": false,
     "start_time": "2023-07-16T08:39:51.204464",
     "status": "completed"
    },
    "tags": []
   },
   "outputs": [
    {
     "name": "stderr",
     "output_type": "stream",
     "text": [
      "[I 2023-07-16 08:39:51,219] A new study created in memory with name: no-name-68ea4ca8-fe08-408b-b3b0-4e7d48df506f\n"
     ]
    }
   ],
   "source": [
    "# Create Study object\n",
    "study = optuna.create_study(direction=\"maximize\")"
   ]
  },
  {
   "cell_type": "code",
   "execution_count": 30,
   "id": "d60192e4",
   "metadata": {
    "execution": {
     "iopub.execute_input": "2023-07-16T08:39:51.252463Z",
     "iopub.status.busy": "2023-07-16T08:39:51.252034Z",
     "iopub.status.idle": "2023-07-16T08:48:50.129627Z",
     "shell.execute_reply": "2023-07-16T08:48:50.128242Z"
    },
    "papermill": {
     "duration": 538.910465,
     "end_time": "2023-07-16T08:48:50.149593",
     "exception": false,
     "start_time": "2023-07-16T08:39:51.239128",
     "status": "completed"
    },
    "tags": []
   },
   "outputs": [
    {
     "name": "stderr",
     "output_type": "stream",
     "text": [
      "[I 2023-07-16 08:39:54,722] Trial 0 finished with value: -29.666081554172923 and parameters: {'quantile': 0.7002837128770173, 'learning_rate': 1.3139429876854798, 'max_iter': 19, 'max_leaf_nodes': 80, 'max_depth': 4}. Best is trial 0 with value: -29.666081554172923.\n",
      "[I 2023-07-16 08:39:56,286] Trial 1 finished with value: -86798529305424.47 and parameters: {'quantile': 0.969834145170868, 'learning_rate': 15.818799515730714, 'max_iter': 48, 'max_leaf_nodes': 68, 'max_depth': 3}. Best is trial 0 with value: -29.666081554172923.\n",
      "[I 2023-07-16 08:39:57,964] Trial 2 finished with value: -937862749707.1383 and parameters: {'quantile': 0.28560542632244357, 'learning_rate': 10.386467806092424, 'max_iter': 71, 'max_leaf_nodes': 90, 'max_depth': 4}. Best is trial 0 with value: -29.666081554172923.\n",
      "[I 2023-07-16 08:40:00,012] Trial 3 finished with value: -225639823008256.44 and parameters: {'quantile': 0.8083103698449841, 'learning_rate': 17.21770885995425, 'max_iter': 79, 'max_leaf_nodes': 33, 'max_depth': 6}. Best is trial 0 with value: -29.666081554172923.\n",
      "[I 2023-07-16 08:40:01,643] Trial 4 finished with value: -1181678312.547675 and parameters: {'quantile': 0.9761008666688917, 'learning_rate': 10.430113869397077, 'max_iter': 7, 'max_leaf_nodes': 44, 'max_depth': 5}. Best is trial 0 with value: -29.666081554172923.\n",
      "[I 2023-07-16 08:40:03,286] Trial 5 finished with value: -11488232.643696865 and parameters: {'quantile': 0.9905637920534015, 'learning_rate': 4.029099845554698, 'max_iter': 37, 'max_leaf_nodes': 65, 'max_depth': 4}. Best is trial 0 with value: -29.666081554172923.\n",
      "[I 2023-07-16 08:40:04,291] Trial 6 finished with value: -2764.1206717976847 and parameters: {'quantile': 0.20335228742163913, 'learning_rate': 16.52669962709458, 'max_iter': 1, 'max_leaf_nodes': 15, 'max_depth': 8}. Best is trial 0 with value: -29.666081554172923.\n",
      "[I 2023-07-16 08:40:06,854] Trial 7 finished with value: -6128388717030.814 and parameters: {'quantile': 0.7813434461071396, 'learning_rate': 12.3035916990077, 'max_iter': 52, 'max_leaf_nodes': 60, 'max_depth': 7}. Best is trial 0 with value: -29.666081554172923.\n",
      "[I 2023-07-16 08:40:10,840] Trial 8 finished with value: -41.71711678817956 and parameters: {'quantile': 0.6210876571936859, 'learning_rate': 0.7218033163144105, 'max_iter': 80, 'max_leaf_nodes': 3, 'max_depth': 4}. Best is trial 0 with value: -29.666081554172923.\n",
      "[I 2023-07-16 08:40:13,350] Trial 9 finished with value: -40605316270531.914 and parameters: {'quantile': 0.9046781048116569, 'learning_rate': 14.65702812738993, 'max_iter': 66, 'max_leaf_nodes': 50, 'max_depth': 7}. Best is trial 0 with value: -29.666081554172923.\n",
      "[I 2023-07-16 08:40:14,694] Trial 10 finished with value: -670390356.8179729 and parameters: {'quantile': 0.47902517260853494, 'learning_rate': 5.707031855488715, 'max_iter': 25, 'max_leaf_nodes': 100, 'max_depth': 1}. Best is trial 0 with value: -29.666081554172923.\n",
      "[I 2023-07-16 08:40:18,615] Trial 11 finished with value: -90.7701640313964 and parameters: {'quantile': 0.6532953437364, 'learning_rate': 0.8163843648723922, 'max_iter': 98, 'max_leaf_nodes': 2, 'max_depth': 2}. Best is trial 0 with value: -29.666081554172923.\n",
      "[I 2023-07-16 08:40:25,326] Trial 12 finished with value: -32.027924295851804 and parameters: {'quantile': 0.5724855447162538, 'learning_rate': 0.13923924293736434, 'max_iter': 91, 'max_leaf_nodes': 82, 'max_depth': 3}. Best is trial 0 with value: -29.666081554172923.\n",
      "[I 2023-07-16 08:40:26,752] Trial 13 finished with value: -1286561171.055317 and parameters: {'quantile': 0.49666379472087935, 'learning_rate': 5.934785154707782, 'max_iter': 100, 'max_leaf_nodes': 80, 'max_depth': 2}. Best is trial 0 with value: -29.666081554172923.\n",
      "[I 2023-07-16 08:40:28,937] Trial 14 finished with value: -36.969893430102545 and parameters: {'quantile': 0.3897316623502053, 'learning_rate': 0.26632844607089545, 'max_iter': 21, 'max_leaf_nodes': 84, 'max_depth': 3}. Best is trial 0 with value: -29.666081554172923.\n",
      "[I 2023-07-16 08:40:30,963] Trial 15 finished with value: -274626.4896066226 and parameters: {'quantile': 0.6426044866687803, 'learning_rate': 3.083464584064397, 'max_iter': 19, 'max_leaf_nodes': 77, 'max_depth': 5}. Best is trial 0 with value: -29.666081554172923.\n",
      "[I 2023-07-16 08:40:32,443] Trial 16 finished with value: -19365718785.664814 and parameters: {'quantile': 0.7459741004213815, 'learning_rate': 7.392417733370608, 'max_iter': 35, 'max_leaf_nodes': 97, 'max_depth': 3}. Best is trial 0 with value: -29.666081554172923.\n",
      "[I 2023-07-16 08:40:33,732] Trial 17 finished with value: -532043998404540.5 and parameters: {'quantile': 0.5605901180230388, 'learning_rate': 19.31087573096329, 'max_iter': 57, 'max_leaf_nodes': 71, 'max_depth': 1}. Best is trial 0 with value: -29.666081554172923.\n",
      "[I 2023-07-16 08:40:35,113] Trial 18 finished with value: -45431.31692620424 and parameters: {'quantile': 0.42102035684285133, 'learning_rate': 2.770356216174156, 'max_iter': 88, 'max_leaf_nodes': 56, 'max_depth': 2}. Best is trial 0 with value: -29.666081554172923.\n",
      "[I 2023-07-16 08:40:37,246] Trial 19 finished with value: -52103306047.70755 and parameters: {'quantile': 0.7179299343471555, 'learning_rate': 8.019849227563828, 'max_iter': 42, 'max_leaf_nodes': 36, 'max_depth': 6}. Best is trial 0 with value: -29.666081554172923.\n",
      "[I 2023-07-16 08:40:39,255] Trial 20 finished with value: -4542.100118570994 and parameters: {'quantile': 0.5655618172561128, 'learning_rate': 2.3824044956596255, 'max_iter': 62, 'max_leaf_nodes': 93, 'max_depth': 5}. Best is trial 0 with value: -29.666081554172923.\n",
      "[I 2023-07-16 08:40:41,192] Trial 21 finished with value: -46.25909269696525 and parameters: {'quantile': 0.38330795840427434, 'learning_rate': 0.15330791485318385, 'max_iter': 18, 'max_leaf_nodes': 84, 'max_depth': 3}. Best is trial 0 with value: -29.666081554172923.\n",
      "[I 2023-07-16 08:40:43,603] Trial 22 finished with value: -38.1024700860553 and parameters: {'quantile': 0.10425267543093658, 'learning_rate': 0.18113974188038973, 'max_iter': 27, 'max_leaf_nodes': 84, 'max_depth': 3}. Best is trial 0 with value: -29.666081554172923.\n",
      "[I 2023-07-16 08:40:45,351] Trial 23 finished with value: -591.8006389201885 and parameters: {'quantile': 0.405671570797907, 'learning_rate': 2.1280963035026232, 'max_iter': 11, 'max_leaf_nodes': 74, 'max_depth': 4}. Best is trial 0 with value: -29.666081554172923.\n",
      "[I 2023-07-16 08:40:46,666] Trial 24 finished with value: -28697623.516221542 and parameters: {'quantile': 0.5069872977057153, 'learning_rate': 4.373725924590259, 'max_iter': 33, 'max_leaf_nodes': 86, 'max_depth': 2}. Best is trial 0 with value: -29.666081554172923.\n",
      "[I 2023-07-16 08:40:48,128] Trial 25 finished with value: -238.3324049546533 and parameters: {'quantile': 0.6874673550779904, 'learning_rate': 2.0297733933813333, 'max_iter': 15, 'max_leaf_nodes': 63, 'max_depth': 3}. Best is trial 0 with value: -29.666081554172923.\n",
      "[I 2023-07-16 08:40:49,804] Trial 26 finished with value: -13265636.342857175 and parameters: {'quantile': 0.5868942959768877, 'learning_rate': 4.072989496247516, 'max_iter': 26, 'max_leaf_nodes': 74, 'max_depth': 4}. Best is trial 0 with value: -29.666081554172923.\n",
      "[I 2023-07-16 08:40:52,447] Trial 27 finished with value: -43.75317662822975 and parameters: {'quantile': 0.6067879662275286, 'learning_rate': 1.257607990713439, 'max_iter': 45, 'max_leaf_nodes': 92, 'max_depth': 2}. Best is trial 0 with value: -29.666081554172923.\n",
      "[I 2023-07-16 08:40:53,531] Trial 28 finished with value: -121.29230688575687 and parameters: {'quantile': 0.33973141126362066, 'learning_rate': 1.8384927437841327, 'max_iter': 3, 'max_leaf_nodes': 80, 'max_depth': 3}. Best is trial 0 with value: -29.666081554172923.\n",
      "[I 2023-07-16 08:41:00,961] Trial 29 finished with value: -23.81066950288881 and parameters: {'quantile': 0.524270593302107, 'learning_rate': 0.322657476164224, 'max_iter': 53, 'max_leaf_nodes': 68, 'max_depth': 5}. Best is trial 29 with value: -23.81066950288881.\n",
      "[I 2023-07-16 08:41:03,547] Trial 30 finished with value: -1271970.2959969766 and parameters: {'quantile': 0.6806257491015508, 'learning_rate': 3.427081712921667, 'max_iter': 90, 'max_leaf_nodes': 68, 'max_depth': 6}. Best is trial 29 with value: -23.81066950288881.\n",
      "[I 2023-07-16 08:41:09,818] Trial 31 finished with value: -25.35169526934414 and parameters: {'quantile': 0.5120833760553563, 'learning_rate': 0.1888610352975584, 'max_iter': 51, 'max_leaf_nodes': 69, 'max_depth': 5}. Best is trial 29 with value: -23.81066950288881.\n",
      "[I 2023-07-16 08:41:16,067] Trial 32 finished with value: -25.679328645538853 and parameters: {'quantile': 0.53483210923154, 'learning_rate': 1.4625170622624342, 'max_iter': 54, 'max_leaf_nodes': 57, 'max_depth': 5}. Best is trial 29 with value: -23.81066950288881.\n",
      "[I 2023-07-16 08:41:22,157] Trial 33 finished with value: -26.320151579460696 and parameters: {'quantile': 0.5269943206289549, 'learning_rate': 1.5768394921548299, 'max_iter': 54, 'max_leaf_nodes': 53, 'max_depth': 5}. Best is trial 29 with value: -23.81066950288881.\n",
      "[I 2023-07-16 08:41:29,453] Trial 34 finished with value: -26.133197168057052 and parameters: {'quantile': 0.5030833968770098, 'learning_rate': 1.5076521298848773, 'max_iter': 52, 'max_leaf_nodes': 49, 'max_depth': 5}. Best is trial 29 with value: -23.81066950288881.\n",
      "[I 2023-07-16 08:41:31,806] Trial 35 finished with value: -102882.15469796896 and parameters: {'quantile': 0.47566798917763325, 'learning_rate': 2.8874204894624698, 'max_iter': 60, 'max_leaf_nodes': 43, 'max_depth': 6}. Best is trial 29 with value: -23.81066950288881.\n",
      "[I 2023-07-16 08:41:37,556] Trial 36 finished with value: -26.366881660144145 and parameters: {'quantile': 0.4457758626999236, 'learning_rate': 1.5430406213748473, 'max_iter': 48, 'max_leaf_nodes': 47, 'max_depth': 5}. Best is trial 29 with value: -23.81066950288881.\n",
      "[I 2023-07-16 08:41:39,600] Trial 37 finished with value: -159438248.79540232 and parameters: {'quantile': 0.5286108687723783, 'learning_rate': 4.934788891954503, 'max_iter': 72, 'max_leaf_nodes': 29, 'max_depth': 6}. Best is trial 29 with value: -23.81066950288881.\n",
      "[I 2023-07-16 08:41:42,133] Trial 38 finished with value: -360233.59999948024 and parameters: {'quantile': 0.4620537585949889, 'learning_rate': 3.1385903924927088, 'max_iter': 40, 'max_leaf_nodes': 59, 'max_depth': 7}. Best is trial 29 with value: -23.81066950288881.\n",
      "[I 2023-07-16 08:41:50,017] Trial 39 finished with value: -23.009255249357533 and parameters: {'quantile': 0.5321841163151303, 'learning_rate': 1.1315501281584694, 'max_iter': 71, 'max_leaf_nodes': 39, 'max_depth': 5}. Best is trial 39 with value: -23.009255249357533.\n",
      "[I 2023-07-16 08:41:52,070] Trial 40 finished with value: -28932842.078652225 and parameters: {'quantile': 0.6050295088912433, 'learning_rate': 4.317616283554619, 'max_iter': 69, 'max_leaf_nodes': 25, 'max_depth': 6}. Best is trial 39 with value: -23.009255249357533.\n",
      "[I 2023-07-16 08:42:01,715] Trial 41 finished with value: -23.017952926115207 and parameters: {'quantile': 0.5299934425679032, 'learning_rate': 1.1721729809518877, 'max_iter': 76, 'max_leaf_nodes': 39, 'max_depth': 5}. Best is trial 39 with value: -23.009255249357533.\n",
      "[I 2023-07-16 08:42:09,895] Trial 42 finished with value: -23.01825557044205 and parameters: {'quantile': 0.5419906393182843, 'learning_rate': 1.1279950274910917, 'max_iter': 73, 'max_leaf_nodes': 37, 'max_depth': 5}. Best is trial 39 with value: -23.009255249357533.\n",
      "[I 2023-07-16 08:42:16,273] Trial 43 finished with value: -24.768449996198484 and parameters: {'quantile': 0.4431363331648226, 'learning_rate': 1.062685138825339, 'max_iter': 76, 'max_leaf_nodes': 35, 'max_depth': 4}. Best is trial 39 with value: -23.009255249357533.\n",
      "[I 2023-07-16 08:42:22,583] Trial 44 finished with value: -25.178457928194366 and parameters: {'quantile': 0.46389599674032067, 'learning_rate': 1.258967183647468, 'max_iter': 78, 'max_leaf_nodes': 37, 'max_depth': 4}. Best is trial 39 with value: -23.009255249357533.\n",
      "[I 2023-07-16 08:42:24,321] Trial 45 finished with value: -4503.004640049441 and parameters: {'quantile': 0.6301753801097798, 'learning_rate': 2.382405514548295, 'max_iter': 75, 'max_leaf_nodes': 22, 'max_depth': 4}. Best is trial 39 with value: -23.009255249357533.\n",
      "[I 2023-07-16 08:42:32,277] Trial 46 finished with value: -24.572963642896706 and parameters: {'quantile': 0.5731807137018425, 'learning_rate': 1.0955066164104565, 'max_iter': 85, 'max_leaf_nodes': 43, 'max_depth': 4}. Best is trial 39 with value: -23.009255249357533.\n",
      "[I 2023-07-16 08:42:34,604] Trial 47 finished with value: -1426776.3795595926 and parameters: {'quantile': 0.5664018232987356, 'learning_rate': 3.4551282652429847, 'max_iter': 82, 'max_leaf_nodes': 41, 'max_depth': 6}. Best is trial 39 with value: -23.009255249357533.\n",
      "[I 2023-07-16 08:42:39,857] Trial 48 finished with value: -23.01765029134377 and parameters: {'quantile': 0.65007791312777, 'learning_rate': 0.7658400581055276, 'max_iter': 64, 'max_leaf_nodes': 16, 'max_depth': 7}. Best is trial 39 with value: -23.009255249357533.\n",
      "[I 2023-07-16 08:42:41,466] Trial 49 finished with value: -2144.650756669608 and parameters: {'quantile': 0.6549745829982394, 'learning_rate': 2.2836452474250435, 'max_iter': 65, 'max_leaf_nodes': 10, 'max_depth': 8}. Best is trial 39 with value: -23.009255249357533.\n",
      "[I 2023-07-16 08:42:48,406] Trial 50 finished with value: -21.72908750171498 and parameters: {'quantile': 0.6084253710884169, 'learning_rate': 0.7187010432753613, 'max_iter': 69, 'max_leaf_nodes': 29, 'max_depth': 7}. Best is trial 50 with value: -21.72908750171498.\n",
      "[I 2023-07-16 08:42:54,290] Trial 51 finished with value: -22.507654259186232 and parameters: {'quantile': 0.6148659951708539, 'learning_rate': 0.7988161912489082, 'max_iter': 70, 'max_leaf_nodes': 18, 'max_depth': 7}. Best is trial 50 with value: -21.72908750171498.\n",
      "[I 2023-07-16 08:42:59,689] Trial 52 finished with value: -22.882875579619203 and parameters: {'quantile': 0.6250820606634933, 'learning_rate': 0.8891623362443906, 'max_iter': 69, 'max_leaf_nodes': 16, 'max_depth': 7}. Best is trial 50 with value: -21.72908750171498.\n",
      "[I 2023-07-16 08:43:02,512] Trial 53 finished with value: -2288624.1148070833 and parameters: {'quantile': 0.6267852961394882, 'learning_rate': 3.575210602289004, 'max_iter': 68, 'max_leaf_nodes': 17, 'max_depth': 7}. Best is trial 50 with value: -21.72908750171498.\n",
      "[I 2023-07-16 08:43:04,067] Trial 54 finished with value: -11068.086870449497 and parameters: {'quantile': 0.7321966707813282, 'learning_rate': 2.51305022100472, 'max_iter': 64, 'max_leaf_nodes': 9, 'max_depth': 7}. Best is trial 50 with value: -21.72908750171498.\n",
      "[I 2023-07-16 08:43:12,425] Trial 55 finished with value: -20.705241843285922 and parameters: {'quantile': 0.685029793854224, 'learning_rate': 0.8165217374126787, 'max_iter': 83, 'max_leaf_nodes': 30, 'max_depth': 8}. Best is trial 55 with value: -20.705241843285922.\n",
      "[I 2023-07-16 08:43:19,401] Trial 56 finished with value: -21.589864146376787 and parameters: {'quantile': 0.6689457808244827, 'learning_rate': 0.6080756962448265, 'max_iter': 84, 'max_leaf_nodes': 20, 'max_depth': 8}. Best is trial 55 with value: -20.705241843285922.\n",
      "[I 2023-07-16 08:43:21,659] Trial 57 finished with value: -45277.84191975052 and parameters: {'quantile': 0.7713121267075108, 'learning_rate': 2.7384552720486433, 'max_iter': 95, 'max_leaf_nodes': 31, 'max_depth': 8}. Best is trial 55 with value: -20.705241843285922.\n",
      "[I 2023-07-16 08:43:28,728] Trial 58 finished with value: -21.662240826554545 and parameters: {'quantile': 0.7075462373657146, 'learning_rate': 0.5687396284769426, 'max_iter': 83, 'max_leaf_nodes': 22, 'max_depth': 8}. Best is trial 55 with value: -20.705241843285922.\n",
      "[I 2023-07-16 08:43:30,698] Trial 59 finished with value: -414.49750218536144 and parameters: {'quantile': 0.7025758844497444, 'learning_rate': 2.0870209168755576, 'max_iter': 82, 'max_leaf_nodes': 24, 'max_depth': 8}. Best is trial 55 with value: -20.705241843285922.\n",
      "[I 2023-07-16 08:43:40,300] Trial 60 finished with value: -23.76241560559866 and parameters: {'quantile': 0.8056982531677879, 'learning_rate': 0.13112619649084772, 'max_iter': 87, 'max_leaf_nodes': 20, 'max_depth': 8}. Best is trial 55 with value: -20.705241843285922.\n",
      "[I 2023-07-16 08:43:48,065] Trial 61 finished with value: -20.878924505933536 and parameters: {'quantile': 0.6688352178535379, 'learning_rate': 0.728954261322756, 'max_iter': 84, 'max_leaf_nodes': 27, 'max_depth': 8}. Best is trial 55 with value: -20.705241843285922.\n",
      "[I 2023-07-16 08:43:54,080] Trial 62 finished with value: -22.9878689226638 and parameters: {'quantile': 0.672607767381425, 'learning_rate': 0.613884845996586, 'max_iter': 95, 'max_leaf_nodes': 10, 'max_depth': 8}. Best is trial 55 with value: -20.705241843285922.\n",
      "[I 2023-07-16 08:44:03,262] Trial 63 finished with value: -28.128068651718735 and parameters: {'quantile': 0.7240079601970086, 'learning_rate': 1.7840707813569672, 'max_iter': 84, 'max_leaf_nodes': 28, 'max_depth': 8}. Best is trial 55 with value: -20.705241843285922.\n",
      "[I 2023-07-16 08:44:10,930] Trial 64 finished with value: -22.127489312284766 and parameters: {'quantile': 0.6995303083154834, 'learning_rate': 0.6635629774259797, 'max_iter': 79, 'max_leaf_nodes': 19, 'max_depth': 7}. Best is trial 55 with value: -20.705241843285922.\n",
      "[I 2023-07-16 08:44:18,424] Trial 65 finished with value: -25.516856526070512 and parameters: {'quantile': 0.7540248874053768, 'learning_rate': 0.11720795890014202, 'max_iter': 93, 'max_leaf_nodes': 13, 'max_depth': 8}. Best is trial 55 with value: -20.705241843285922.\n",
      "[I 2023-07-16 08:44:26,769] Trial 66 finished with value: -35.577208260456686 and parameters: {'quantile': 0.6976974594338186, 'learning_rate': 1.9595802145491126, 'max_iter': 80, 'max_leaf_nodes': 19, 'max_depth': 7}. Best is trial 55 with value: -20.705241843285922.\n",
      "[I 2023-07-16 08:44:28,200] Trial 67 finished with value: -69079.32135565512 and parameters: {'quantile': 0.6652215269859598, 'learning_rate': 2.8206465575494795, 'max_iter': 88, 'max_leaf_nodes': 6, 'max_depth': 8}. Best is trial 55 with value: -20.705241843285922.\n",
      "[I 2023-07-16 08:44:35,770] Trial 68 finished with value: -21.221811555756254 and parameters: {'quantile': 0.7044823278980478, 'learning_rate': 0.7749218883699904, 'max_iter': 81, 'max_leaf_nodes': 27, 'max_depth': 8}. Best is trial 55 with value: -20.705241843285922.\n",
      "[I 2023-07-16 08:44:38,909] Trial 69 finished with value: -2855976.902375147 and parameters: {'quantile': 0.7056832087312643, 'learning_rate': 3.6315713105103655, 'max_iter': 84, 'max_leaf_nodes': 27, 'max_depth': 8}. Best is trial 55 with value: -20.705241843285922.\n",
      "[I 2023-07-16 08:44:47,149] Trial 70 finished with value: -20.692772945565068 and parameters: {'quantile': 0.7536147042328507, 'learning_rate': 0.6982216100138301, 'max_iter': 80, 'max_leaf_nodes': 32, 'max_depth': 8}. Best is trial 70 with value: -20.692772945565068.\n",
      "[I 2023-07-16 08:44:55,176] Trial 71 finished with value: -20.70617291104646 and parameters: {'quantile': 0.7671850163021467, 'learning_rate': 0.7645698545111205, 'max_iter': 79, 'max_leaf_nodes': 31, 'max_depth': 8}. Best is trial 70 with value: -20.692772945565068.\n",
      "[I 2023-07-16 08:45:05,464] Trial 72 finished with value: -29.14825536904836 and parameters: {'quantile': 0.7456778557608986, 'learning_rate': 1.863619898921237, 'max_iter': 90, 'max_leaf_nodes': 32, 'max_depth': 8}. Best is trial 70 with value: -20.692772945565068.\n",
      "[I 2023-07-16 08:45:14,745] Trial 73 finished with value: -20.89419652246919 and parameters: {'quantile': 0.7956050429546281, 'learning_rate': 0.6202579474787544, 'max_iter': 98, 'max_leaf_nodes': 23, 'max_depth': 8}. Best is trial 70 with value: -20.692772945565068.\n",
      "[I 2023-07-16 08:45:16,770] Trial 74 finished with value: -10495.750897541328 and parameters: {'quantile': 0.841501820587378, 'learning_rate': 2.5024213505038047, 'max_iter': 99, 'max_leaf_nodes': 24, 'max_depth': 8}. Best is trial 70 with value: -20.692772945565068.\n",
      "[I 2023-07-16 08:45:27,182] Trial 75 finished with value: -24.91080024808248 and parameters: {'quantile': 0.8083580345447815, 'learning_rate': 1.6228636305637107, 'max_iter': 94, 'max_leaf_nodes': 33, 'max_depth': 8}. Best is trial 70 with value: -20.692772945565068.\n",
      "[I 2023-07-16 08:45:34,518] Trial 76 finished with value: -21.825327670798686 and parameters: {'quantile': 0.7473936111710107, 'learning_rate': 0.48034348303810276, 'max_iter': 86, 'max_leaf_nodes': 21, 'max_depth': 8}. Best is trial 70 with value: -20.692772945565068.\n",
      "[I 2023-07-16 08:45:36,585] Trial 77 finished with value: -335679.6027655667 and parameters: {'quantile': 0.7749931629466789, 'learning_rate': 3.124428792664216, 'max_iter': 92, 'max_leaf_nodes': 26, 'max_depth': 8}. Best is trial 70 with value: -20.692772945565068.\n",
      "[I 2023-07-16 08:45:45,645] Trial 78 finished with value: -26.58690661213557 and parameters: {'quantile': 0.6750555878193035, 'learning_rate': 1.6652159489899736, 'max_iter': 82, 'max_leaf_nodes': 23, 'max_depth': 8}. Best is trial 70 with value: -20.692772945565068.\n",
      "[I 2023-07-16 08:45:54,703] Trial 79 finished with value: -20.499457394107377 and parameters: {'quantile': 0.7223552992633999, 'learning_rate': 0.5489016322237011, 'max_iter': 97, 'max_leaf_nodes': 30, 'max_depth': 8}. Best is trial 79 with value: -20.499457394107377.\n",
      "[I 2023-07-16 08:46:05,560] Trial 80 finished with value: -22.671004582525914 and parameters: {'quantile': 0.8494148113620388, 'learning_rate': 0.12631797051859306, 'max_iter': 98, 'max_leaf_nodes': 30, 'max_depth': 8}. Best is trial 79 with value: -20.499457394107377.\n",
      "[I 2023-07-16 08:46:15,953] Trial 81 finished with value: -20.084450628798244 and parameters: {'quantile': 0.7230938539601754, 'learning_rate': 0.6909259733628729, 'max_iter': 90, 'max_leaf_nodes': 35, 'max_depth': 8}. Best is trial 81 with value: -20.084450628798244.\n",
      "[I 2023-07-16 08:46:26,576] Trial 82 finished with value: -21.4010265390362 and parameters: {'quantile': 0.7278025803644808, 'learning_rate': 1.2741377632686697, 'max_iter': 97, 'max_leaf_nodes': 35, 'max_depth': 8}. Best is trial 81 with value: -20.084450628798244.\n",
      "[I 2023-07-16 08:46:36,755] Trial 83 finished with value: -23.519589959848613 and parameters: {'quantile': 0.7283571872246601, 'learning_rate': 1.472335791833388, 'max_iter': 89, 'max_leaf_nodes': 34, 'max_depth': 8}. Best is trial 81 with value: -20.084450628798244.\n",
      "[I 2023-07-16 08:46:39,183] Trial 84 finished with value: -1661.2347672693722 and parameters: {'quantile': 0.7621397834021951, 'learning_rate': 2.2488158036629633, 'max_iter': 100, 'max_leaf_nodes': 46, 'max_depth': 8}. Best is trial 81 with value: -20.084450628798244.\n",
      "[I 2023-07-16 08:46:51,511] Trial 85 finished with value: -20.535828952349828 and parameters: {'quantile': 0.7950259612318317, 'learning_rate': 1.1118162265984493, 'max_iter': 96, 'max_leaf_nodes': 39, 'max_depth': 7}. Best is trial 81 with value: -20.084450628798244.\n",
      "[I 2023-07-16 08:46:53,665] Trial 86 finished with value: -262.17748979237024 and parameters: {'quantile': 0.7966004032163992, 'learning_rate': 2.0372250840366606, 'max_iter': 96, 'max_leaf_nodes': 40, 'max_depth': 7}. Best is trial 81 with value: -20.084450628798244.\n",
      "[I 2023-07-16 08:47:02,670] Trial 87 finished with value: -20.874206691856017 and parameters: {'quantile': 0.7791858522204792, 'learning_rate': 0.9866266494052198, 'max_iter': 89, 'max_leaf_nodes': 31, 'max_depth': 7}. Best is trial 81 with value: -20.084450628798244.\n",
      "[I 2023-07-16 08:47:12,205] Trial 88 finished with value: -21.806658084810667 and parameters: {'quantile': 0.7755143125581873, 'learning_rate': 1.2211366304831162, 'max_iter': 92, 'max_leaf_nodes': 32, 'max_depth': 7}. Best is trial 81 with value: -20.084450628798244.\n",
      "[I 2023-07-16 08:47:15,519] Trial 89 finished with value: -43271.13093789354 and parameters: {'quantile': 0.8181255362085891, 'learning_rate': 2.730410421238113, 'max_iter': 90, 'max_leaf_nodes': 37, 'max_depth': 7}. Best is trial 81 with value: -20.084450628798244.\n",
      "[I 2023-07-16 08:47:28,895] Trial 90 finished with value: -26.893406678660448 and parameters: {'quantile': 0.7872639354465791, 'learning_rate': 1.799341716185404, 'max_iter': 100, 'max_leaf_nodes': 43, 'max_depth': 7}. Best is trial 81 with value: -20.084450628798244.\n",
      "[I 2023-07-16 08:47:37,147] Trial 91 finished with value: -21.08330804357154 and parameters: {'quantile': 0.7482680563220439, 'learning_rate': 0.9110235043335582, 'max_iter': 87, 'max_leaf_nodes': 27, 'max_depth': 8}. Best is trial 81 with value: -20.084450628798244.\n",
      "[I 2023-07-16 08:47:48,558] Trial 92 finished with value: -23.048260206641224 and parameters: {'quantile': 0.7516688409655161, 'learning_rate': 0.11706432085096896, 'max_iter': 88, 'max_leaf_nodes': 29, 'max_depth': 8}. Best is trial 81 with value: -20.084450628798244.\n",
      "[I 2023-07-16 08:47:57,668] Trial 93 finished with value: -20.191539192142397 and parameters: {'quantile': 0.8275124897806503, 'learning_rate': 1.006391959669629, 'max_iter': 93, 'max_leaf_nodes': 31, 'max_depth': 8}. Best is trial 81 with value: -20.084450628798244.\n",
      "[I 2023-07-16 08:48:06,918] Trial 94 finished with value: -21.842643167640045 and parameters: {'quantile': 0.8338450277941576, 'learning_rate': 1.2650335755679494, 'max_iter': 93, 'max_leaf_nodes': 31, 'max_depth': 8}. Best is trial 81 with value: -20.084450628798244.\n",
      "[I 2023-07-16 08:48:09,048] Trial 95 finished with value: -3844.4829438461975 and parameters: {'quantile': 0.8689674422752846, 'learning_rate': 2.3583092798686716, 'max_iter': 97, 'max_leaf_nodes': 38, 'max_depth': 7}. Best is trial 81 with value: -20.084450628798244.\n",
      "[I 2023-07-16 08:48:19,829] Trial 96 finished with value: -20.558100166474226 and parameters: {'quantile': 0.7868656955835445, 'learning_rate': 0.4584616885173297, 'max_iter': 91, 'max_leaf_nodes': 35, 'max_depth': 8}. Best is trial 81 with value: -20.084450628798244.\n",
      "[I 2023-07-16 08:48:28,989] Trial 97 finished with value: -26.562008409858088 and parameters: {'quantile': 0.7789273246383009, 'learning_rate': 1.6870003422982305, 'max_iter': 78, 'max_leaf_nodes': 35, 'max_depth': 8}. Best is trial 81 with value: -20.084450628798244.\n",
      "[I 2023-07-16 08:48:37,949] Trial 98 finished with value: -20.880238849275628 and parameters: {'quantile': 0.8909179858042005, 'learning_rate': 1.1127391557726676, 'max_iter': 75, 'max_leaf_nodes': 42, 'max_depth': 7}. Best is trial 81 with value: -20.084450628798244.\n",
      "[I 2023-07-16 08:48:50,125] Trial 99 finished with value: -19.77782523791037 and parameters: {'quantile': 0.8109912277027663, 'learning_rate': 0.49089459848103356, 'max_iter': 91, 'max_leaf_nodes': 46, 'max_depth': 8}. Best is trial 99 with value: -19.77782523791037.\n"
     ]
    }
   ],
   "source": [
    "# Optimize the study, use more trials to obtain better result, use less trials to be more cost-efficient\n",
    "study.optimize(hgbr_objective, n_trials=100) # Use more"
   ]
  },
  {
   "cell_type": "code",
   "execution_count": 31,
   "id": "2c07c3ac",
   "metadata": {
    "execution": {
     "iopub.execute_input": "2023-07-16T08:48:50.187370Z",
     "iopub.status.busy": "2023-07-16T08:48:50.186941Z",
     "iopub.status.idle": "2023-07-16T08:48:50.192811Z",
     "shell.execute_reply": "2023-07-16T08:48:50.191536Z"
    },
    "papermill": {
     "duration": 0.028265,
     "end_time": "2023-07-16T08:48:50.195597",
     "exception": false,
     "start_time": "2023-07-16T08:48:50.167332",
     "status": "completed"
    },
    "tags": []
   },
   "outputs": [],
   "source": [
    "# Print the result\n",
    "best_params = study.best_params\n",
    "best_score = study.best_value"
   ]
  },
  {
   "cell_type": "code",
   "execution_count": 32,
   "id": "b76b9bc2",
   "metadata": {
    "execution": {
     "iopub.execute_input": "2023-07-16T08:48:50.232304Z",
     "iopub.status.busy": "2023-07-16T08:48:50.231356Z",
     "iopub.status.idle": "2023-07-16T08:48:50.238682Z",
     "shell.execute_reply": "2023-07-16T08:48:50.237488Z"
    },
    "papermill": {
     "duration": 0.027894,
     "end_time": "2023-07-16T08:48:50.240840",
     "exception": false,
     "start_time": "2023-07-16T08:48:50.212946",
     "status": "completed"
    },
    "tags": []
   },
   "outputs": [
    {
     "data": {
      "text/plain": [
       "-19.77782523791037"
      ]
     },
     "execution_count": 32,
     "metadata": {},
     "output_type": "execute_result"
    }
   ],
   "source": [
    "best_score"
   ]
  },
  {
   "cell_type": "code",
   "execution_count": 33,
   "id": "6d0c2b87",
   "metadata": {
    "execution": {
     "iopub.execute_input": "2023-07-16T08:48:50.277625Z",
     "iopub.status.busy": "2023-07-16T08:48:50.276411Z",
     "iopub.status.idle": "2023-07-16T08:48:50.282421Z",
     "shell.execute_reply": "2023-07-16T08:48:50.281313Z"
    },
    "papermill": {
     "duration": 0.026642,
     "end_time": "2023-07-16T08:48:50.284678",
     "exception": false,
     "start_time": "2023-07-16T08:48:50.258036",
     "status": "completed"
    },
    "tags": []
   },
   "outputs": [],
   "source": [
    "hgbr= HistGradientBoostingRegressor(**best_params,random_state=42)"
   ]
  },
  {
   "cell_type": "code",
   "execution_count": 34,
   "id": "678649a2",
   "metadata": {
    "execution": {
     "iopub.execute_input": "2023-07-16T08:48:50.320180Z",
     "iopub.status.busy": "2023-07-16T08:48:50.319745Z",
     "iopub.status.idle": "2023-07-16T08:48:51.425224Z",
     "shell.execute_reply": "2023-07-16T08:48:51.424239Z"
    },
    "papermill": {
     "duration": 1.125878,
     "end_time": "2023-07-16T08:48:51.427370",
     "exception": false,
     "start_time": "2023-07-16T08:48:50.301492",
     "status": "completed"
    },
    "tags": []
   },
   "outputs": [
    {
     "data": {
      "text/html": [
       "<style>#sk-container-id-1 {color: black;background-color: white;}#sk-container-id-1 pre{padding: 0;}#sk-container-id-1 div.sk-toggleable {background-color: white;}#sk-container-id-1 label.sk-toggleable__label {cursor: pointer;display: block;width: 100%;margin-bottom: 0;padding: 0.3em;box-sizing: border-box;text-align: center;}#sk-container-id-1 label.sk-toggleable__label-arrow:before {content: \"▸\";float: left;margin-right: 0.25em;color: #696969;}#sk-container-id-1 label.sk-toggleable__label-arrow:hover:before {color: black;}#sk-container-id-1 div.sk-estimator:hover label.sk-toggleable__label-arrow:before {color: black;}#sk-container-id-1 div.sk-toggleable__content {max-height: 0;max-width: 0;overflow: hidden;text-align: left;background-color: #f0f8ff;}#sk-container-id-1 div.sk-toggleable__content pre {margin: 0.2em;color: black;border-radius: 0.25em;background-color: #f0f8ff;}#sk-container-id-1 input.sk-toggleable__control:checked~div.sk-toggleable__content {max-height: 200px;max-width: 100%;overflow: auto;}#sk-container-id-1 input.sk-toggleable__control:checked~label.sk-toggleable__label-arrow:before {content: \"▾\";}#sk-container-id-1 div.sk-estimator input.sk-toggleable__control:checked~label.sk-toggleable__label {background-color: #d4ebff;}#sk-container-id-1 div.sk-label input.sk-toggleable__control:checked~label.sk-toggleable__label {background-color: #d4ebff;}#sk-container-id-1 input.sk-hidden--visually {border: 0;clip: rect(1px 1px 1px 1px);clip: rect(1px, 1px, 1px, 1px);height: 1px;margin: -1px;overflow: hidden;padding: 0;position: absolute;width: 1px;}#sk-container-id-1 div.sk-estimator {font-family: monospace;background-color: #f0f8ff;border: 1px dotted black;border-radius: 0.25em;box-sizing: border-box;margin-bottom: 0.5em;}#sk-container-id-1 div.sk-estimator:hover {background-color: #d4ebff;}#sk-container-id-1 div.sk-parallel-item::after {content: \"\";width: 100%;border-bottom: 1px solid gray;flex-grow: 1;}#sk-container-id-1 div.sk-label:hover label.sk-toggleable__label {background-color: #d4ebff;}#sk-container-id-1 div.sk-serial::before {content: \"\";position: absolute;border-left: 1px solid gray;box-sizing: border-box;top: 0;bottom: 0;left: 50%;z-index: 0;}#sk-container-id-1 div.sk-serial {display: flex;flex-direction: column;align-items: center;background-color: white;padding-right: 0.2em;padding-left: 0.2em;position: relative;}#sk-container-id-1 div.sk-item {position: relative;z-index: 1;}#sk-container-id-1 div.sk-parallel {display: flex;align-items: stretch;justify-content: center;background-color: white;position: relative;}#sk-container-id-1 div.sk-item::before, #sk-container-id-1 div.sk-parallel-item::before {content: \"\";position: absolute;border-left: 1px solid gray;box-sizing: border-box;top: 0;bottom: 0;left: 50%;z-index: -1;}#sk-container-id-1 div.sk-parallel-item {display: flex;flex-direction: column;z-index: 1;position: relative;background-color: white;}#sk-container-id-1 div.sk-parallel-item:first-child::after {align-self: flex-end;width: 50%;}#sk-container-id-1 div.sk-parallel-item:last-child::after {align-self: flex-start;width: 50%;}#sk-container-id-1 div.sk-parallel-item:only-child::after {width: 0;}#sk-container-id-1 div.sk-dashed-wrapped {border: 1px dashed gray;margin: 0 0.4em 0.5em 0.4em;box-sizing: border-box;padding-bottom: 0.4em;background-color: white;}#sk-container-id-1 div.sk-label label {font-family: monospace;font-weight: bold;display: inline-block;line-height: 1.2em;}#sk-container-id-1 div.sk-label-container {text-align: center;}#sk-container-id-1 div.sk-container {/* jupyter's `normalize.less` sets `[hidden] { display: none; }` but bootstrap.min.css set `[hidden] { display: none !important; }` so we also need the `!important` here to be able to override the default hidden behavior on the sphinx rendered scikit-learn.org. See: https://github.com/scikit-learn/scikit-learn/issues/21755 */display: inline-block !important;position: relative;}#sk-container-id-1 div.sk-text-repr-fallback {display: none;}</style><div id=\"sk-container-id-1\" class=\"sk-top-container\"><div class=\"sk-text-repr-fallback\"><pre>HistGradientBoostingRegressor(learning_rate=0.49089459848103356, max_depth=8,\n",
       "                              max_iter=91, max_leaf_nodes=46,\n",
       "                              quantile=0.8109912277027663, random_state=42)</pre><b>In a Jupyter environment, please rerun this cell to show the HTML representation or trust the notebook. <br />On GitHub, the HTML representation is unable to render, please try loading this page with nbviewer.org.</b></div><div class=\"sk-container\" hidden><div class=\"sk-item\"><div class=\"sk-estimator sk-toggleable\"><input class=\"sk-toggleable__control sk-hidden--visually\" id=\"sk-estimator-id-1\" type=\"checkbox\" checked><label for=\"sk-estimator-id-1\" class=\"sk-toggleable__label sk-toggleable__label-arrow\">HistGradientBoostingRegressor</label><div class=\"sk-toggleable__content\"><pre>HistGradientBoostingRegressor(learning_rate=0.49089459848103356, max_depth=8,\n",
       "                              max_iter=91, max_leaf_nodes=46,\n",
       "                              quantile=0.8109912277027663, random_state=42)</pre></div></div></div></div></div>"
      ],
      "text/plain": [
       "HistGradientBoostingRegressor(learning_rate=0.49089459848103356, max_depth=8,\n",
       "                              max_iter=91, max_leaf_nodes=46,\n",
       "                              quantile=0.8109912277027663, random_state=42)"
      ]
     },
     "execution_count": 34,
     "metadata": {},
     "output_type": "execute_result"
    }
   ],
   "source": [
    "hgbr.fit(X,y)"
   ]
  },
  {
   "cell_type": "code",
   "execution_count": 35,
   "id": "2626e493",
   "metadata": {
    "execution": {
     "iopub.execute_input": "2023-07-16T08:48:51.466267Z",
     "iopub.status.busy": "2023-07-16T08:48:51.465900Z",
     "iopub.status.idle": "2023-07-16T08:48:51.470746Z",
     "shell.execute_reply": "2023-07-16T08:48:51.469732Z"
    },
    "papermill": {
     "duration": 0.02696,
     "end_time": "2023-07-16T08:48:51.472854",
     "exception": false,
     "start_time": "2023-07-16T08:48:51.445894",
     "status": "completed"
    },
    "tags": []
   },
   "outputs": [],
   "source": [
    "#for c in countries:\n",
    "   # train= train[train['country']==c]\n",
    "   # for s in stores:\n",
    "    # train = train[train['store']==s]\n",
    "   #  new_column= train[['date','num_sold']]\n",
    "   #  new_column.columns = ['ds', 'y'] \n",
    "   #  new_column = new_column.drop_duplicates(subset= 'ds', keep='last')\n",
    "     \n",
    "   #  model = n.fit(new_column, freq='D', epochs=10,batch_size=6)"
   ]
  },
  {
   "cell_type": "code",
   "execution_count": 36,
   "id": "ad44310a",
   "metadata": {
    "execution": {
     "iopub.execute_input": "2023-07-16T08:48:51.511741Z",
     "iopub.status.busy": "2023-07-16T08:48:51.511245Z",
     "iopub.status.idle": "2023-07-16T08:48:51.523478Z",
     "shell.execute_reply": "2023-07-16T08:48:51.522621Z"
    },
    "papermill": {
     "duration": 0.034079,
     "end_time": "2023-07-16T08:48:51.525345",
     "exception": false,
     "start_time": "2023-07-16T08:48:51.491266",
     "status": "completed"
    },
    "tags": []
   },
   "outputs": [
    {
     "data": {
      "text/html": [
       "<div>\n",
       "<style scoped>\n",
       "    .dataframe tbody tr th:only-of-type {\n",
       "        vertical-align: middle;\n",
       "    }\n",
       "\n",
       "    .dataframe tbody tr th {\n",
       "        vertical-align: top;\n",
       "    }\n",
       "\n",
       "    .dataframe thead th {\n",
       "        text-align: right;\n",
       "    }\n",
       "</style>\n",
       "<table border=\"1\" class=\"dataframe\">\n",
       "  <thead>\n",
       "    <tr style=\"text-align: right;\">\n",
       "      <th></th>\n",
       "      <th>id</th>\n",
       "      <th>country</th>\n",
       "      <th>store</th>\n",
       "      <th>product</th>\n",
       "      <th>day</th>\n",
       "      <th>month</th>\n",
       "      <th>year</th>\n",
       "    </tr>\n",
       "  </thead>\n",
       "  <tbody>\n",
       "    <tr>\n",
       "      <th>0</th>\n",
       "      <td>136950</td>\n",
       "      <td>61.458491</td>\n",
       "      <td>60.373256</td>\n",
       "      <td>221.585430</td>\n",
       "      <td>1</td>\n",
       "      <td>1</td>\n",
       "      <td>2022</td>\n",
       "    </tr>\n",
       "    <tr>\n",
       "      <th>1</th>\n",
       "      <td>136951</td>\n",
       "      <td>61.458491</td>\n",
       "      <td>60.373256</td>\n",
       "      <td>218.836133</td>\n",
       "      <td>1</td>\n",
       "      <td>1</td>\n",
       "      <td>2022</td>\n",
       "    </tr>\n",
       "    <tr>\n",
       "      <th>2</th>\n",
       "      <td>136952</td>\n",
       "      <td>61.458491</td>\n",
       "      <td>60.373256</td>\n",
       "      <td>34.052409</td>\n",
       "      <td>1</td>\n",
       "      <td>1</td>\n",
       "      <td>2022</td>\n",
       "    </tr>\n",
       "    <tr>\n",
       "      <th>3</th>\n",
       "      <td>136953</td>\n",
       "      <td>61.458491</td>\n",
       "      <td>60.373256</td>\n",
       "      <td>185.041748</td>\n",
       "      <td>1</td>\n",
       "      <td>1</td>\n",
       "      <td>2022</td>\n",
       "    </tr>\n",
       "    <tr>\n",
       "      <th>4</th>\n",
       "      <td>136954</td>\n",
       "      <td>61.458491</td>\n",
       "      <td>60.373256</td>\n",
       "      <td>168.097460</td>\n",
       "      <td>1</td>\n",
       "      <td>1</td>\n",
       "      <td>2022</td>\n",
       "    </tr>\n",
       "  </tbody>\n",
       "</table>\n",
       "</div>"
      ],
      "text/plain": [
       "       id    country      store     product  day  month  year\n",
       "0  136950  61.458491  60.373256  221.585430    1      1  2022\n",
       "1  136951  61.458491  60.373256  218.836133    1      1  2022\n",
       "2  136952  61.458491  60.373256   34.052409    1      1  2022\n",
       "3  136953  61.458491  60.373256  185.041748    1      1  2022\n",
       "4  136954  61.458491  60.373256  168.097460    1      1  2022"
      ]
     },
     "execution_count": 36,
     "metadata": {},
     "output_type": "execute_result"
    }
   ],
   "source": [
    "test.head()"
   ]
  },
  {
   "cell_type": "code",
   "execution_count": 37,
   "id": "0f189bbe",
   "metadata": {
    "execution": {
     "iopub.execute_input": "2023-07-16T08:48:51.564554Z",
     "iopub.status.busy": "2023-07-16T08:48:51.563898Z",
     "iopub.status.idle": "2023-07-16T08:48:51.637147Z",
     "shell.execute_reply": "2023-07-16T08:48:51.636302Z"
    },
    "papermill": {
     "duration": 0.095863,
     "end_time": "2023-07-16T08:48:51.639887",
     "exception": false,
     "start_time": "2023-07-16T08:48:51.544024",
     "status": "completed"
    },
    "tags": []
   },
   "outputs": [],
   "source": [
    "prediction = hgbr.predict(test)"
   ]
  },
  {
   "cell_type": "code",
   "execution_count": 38,
   "id": "24a99570",
   "metadata": {
    "execution": {
     "iopub.execute_input": "2023-07-16T08:48:51.679105Z",
     "iopub.status.busy": "2023-07-16T08:48:51.678526Z",
     "iopub.status.idle": "2023-07-16T08:48:51.684307Z",
     "shell.execute_reply": "2023-07-16T08:48:51.683151Z"
    },
    "papermill": {
     "duration": 0.028039,
     "end_time": "2023-07-16T08:48:51.686755",
     "exception": false,
     "start_time": "2023-07-16T08:48:51.658716",
     "status": "completed"
    },
    "tags": []
   },
   "outputs": [],
   "source": [
    "output=pd.DataFrame({'id':test.id,'num_sold':prediction})"
   ]
  },
  {
   "cell_type": "code",
   "execution_count": 39,
   "id": "4a877fe7",
   "metadata": {
    "execution": {
     "iopub.execute_input": "2023-07-16T08:48:51.727655Z",
     "iopub.status.busy": "2023-07-16T08:48:51.726481Z",
     "iopub.status.idle": "2023-07-16T08:48:51.737106Z",
     "shell.execute_reply": "2023-07-16T08:48:51.736037Z"
    },
    "papermill": {
     "duration": 0.03362,
     "end_time": "2023-07-16T08:48:51.739355",
     "exception": false,
     "start_time": "2023-07-16T08:48:51.705735",
     "status": "completed"
    },
    "tags": []
   },
   "outputs": [
    {
     "data": {
      "text/html": [
       "<div>\n",
       "<style scoped>\n",
       "    .dataframe tbody tr th:only-of-type {\n",
       "        vertical-align: middle;\n",
       "    }\n",
       "\n",
       "    .dataframe tbody tr th {\n",
       "        vertical-align: top;\n",
       "    }\n",
       "\n",
       "    .dataframe thead th {\n",
       "        text-align: right;\n",
       "    }\n",
       "</style>\n",
       "<table border=\"1\" class=\"dataframe\">\n",
       "  <thead>\n",
       "    <tr style=\"text-align: right;\">\n",
       "      <th></th>\n",
       "      <th>id</th>\n",
       "      <th>num_sold</th>\n",
       "    </tr>\n",
       "  </thead>\n",
       "  <tbody>\n",
       "    <tr>\n",
       "      <th>0</th>\n",
       "      <td>136950</td>\n",
       "      <td>33.474303</td>\n",
       "    </tr>\n",
       "    <tr>\n",
       "      <th>1</th>\n",
       "      <td>136951</td>\n",
       "      <td>33.011834</td>\n",
       "    </tr>\n",
       "    <tr>\n",
       "      <th>2</th>\n",
       "      <td>136952</td>\n",
       "      <td>2.607575</td>\n",
       "    </tr>\n",
       "    <tr>\n",
       "      <th>3</th>\n",
       "      <td>136953</td>\n",
       "      <td>32.555424</td>\n",
       "    </tr>\n",
       "    <tr>\n",
       "      <th>4</th>\n",
       "      <td>136954</td>\n",
       "      <td>27.303691</td>\n",
       "    </tr>\n",
       "  </tbody>\n",
       "</table>\n",
       "</div>"
      ],
      "text/plain": [
       "       id   num_sold\n",
       "0  136950  33.474303\n",
       "1  136951  33.011834\n",
       "2  136952   2.607575\n",
       "3  136953  32.555424\n",
       "4  136954  27.303691"
      ]
     },
     "execution_count": 39,
     "metadata": {},
     "output_type": "execute_result"
    }
   ],
   "source": [
    "output.head()"
   ]
  },
  {
   "cell_type": "code",
   "execution_count": 40,
   "id": "def421cf",
   "metadata": {
    "execution": {
     "iopub.execute_input": "2023-07-16T08:48:51.779596Z",
     "iopub.status.busy": "2023-07-16T08:48:51.778768Z",
     "iopub.status.idle": "2023-07-16T08:48:51.868408Z",
     "shell.execute_reply": "2023-07-16T08:48:51.867229Z"
    },
    "papermill": {
     "duration": 0.112476,
     "end_time": "2023-07-16T08:48:51.870822",
     "exception": false,
     "start_time": "2023-07-16T08:48:51.758346",
     "status": "completed"
    },
    "tags": []
   },
   "outputs": [
    {
     "name": "stdout",
     "output_type": "stream",
     "text": [
      "Your submission was successfully saved!\n"
     ]
    }
   ],
   "source": [
    "output.to_csv('submission.csv', index=False)\n",
    "print(\"Your submission was successfully saved!\")"
   ]
  }
 ],
 "metadata": {
  "kernelspec": {
   "display_name": "Python 3",
   "language": "python",
   "name": "python3"
  },
  "language_info": {
   "codemirror_mode": {
    "name": "ipython",
    "version": 3
   },
   "file_extension": ".py",
   "mimetype": "text/x-python",
   "name": "python",
   "nbconvert_exporter": "python",
   "pygments_lexer": "ipython3",
   "version": "3.10.12"
  },
  "papermill": {
   "default_parameters": {},
   "duration": 557.911154,
   "end_time": "2023-07-16T08:48:53.117340",
   "environment_variables": {},
   "exception": null,
   "input_path": "__notebook__.ipynb",
   "output_path": "__notebook__.ipynb",
   "parameters": {},
   "start_time": "2023-07-16T08:39:35.206186",
   "version": "2.4.0"
  }
 },
 "nbformat": 4,
 "nbformat_minor": 5
}
