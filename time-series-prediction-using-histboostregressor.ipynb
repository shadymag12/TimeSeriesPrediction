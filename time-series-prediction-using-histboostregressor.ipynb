{
 "cells": [
  {
   "cell_type": "code",
   "execution_count": 1,
   "id": "25d41ee2",
   "metadata": {
    "_cell_guid": "b1076dfc-b9ad-4769-8c92-a6c4dae69d19",
    "_uuid": "8f2839f25d086af736a60e9eeb907d3b93b6e0e5",
    "execution": {
     "iopub.execute_input": "2023-07-19T05:30:10.638568Z",
     "iopub.status.busy": "2023-07-19T05:30:10.638169Z",
     "iopub.status.idle": "2023-07-19T05:30:13.760540Z",
     "shell.execute_reply": "2023-07-19T05:30:13.759392Z"
    },
    "papermill": {
     "duration": 3.142072,
     "end_time": "2023-07-19T05:30:13.763539",
     "exception": false,
     "start_time": "2023-07-19T05:30:10.621467",
     "status": "completed"
    },
    "tags": []
   },
   "outputs": [
    {
     "name": "stderr",
     "output_type": "stream",
     "text": [
      "/opt/conda/lib/python3.10/site-packages/scipy/__init__.py:146: UserWarning: A NumPy version >=1.16.5 and <1.23.0 is required for this version of SciPy (detected version 1.23.5\n",
      "  warnings.warn(f\"A NumPy version >={np_minversion} and <{np_maxversion}\"\n"
     ]
    },
    {
     "name": "stdout",
     "output_type": "stream",
     "text": [
      "/kaggle/input/playground-series-s3e19/sample_submission.csv\n",
      "/kaggle/input/playground-series-s3e19/train.csv\n",
      "/kaggle/input/playground-series-s3e19/test.csv\n"
     ]
    }
   ],
   "source": [
    "\n",
    "\n",
    "import numpy as np # linear algebra\n",
    "import pandas as pd # data processing, CSV file I/O (e.g. pd.read_csv)\n",
    "import matplotlib.pyplot as plt\n",
    "import seaborn as sns\n",
    "#%matplotlib.inline\n",
    "import warnings\n",
    "warnings.filterwarnings(action='ignore')\n",
    "import optuna\n",
    "from sklearn.ensemble import HistGradientBoostingRegressor\n",
    "from category_encoders import CatBoostEncoder\n",
    "from sklearn.model_selection import train_test_split, cross_val_score,KFold\n",
    "\n",
    "\n",
    "\n",
    "import os\n",
    "for dirname, _, filenames in os.walk('/kaggle/input'):\n",
    "    for filename in filenames:\n",
    "        print(os.path.join(dirname, filename))\n",
    "\n"
   ]
  },
  {
   "cell_type": "code",
   "execution_count": 2,
   "id": "2f5a8632",
   "metadata": {
    "execution": {
     "iopub.execute_input": "2023-07-19T05:30:13.791282Z",
     "iopub.status.busy": "2023-07-19T05:30:13.790866Z",
     "iopub.status.idle": "2023-07-19T05:30:14.067038Z",
     "shell.execute_reply": "2023-07-19T05:30:14.065829Z"
    },
    "papermill": {
     "duration": 0.293283,
     "end_time": "2023-07-19T05:30:14.069892",
     "exception": false,
     "start_time": "2023-07-19T05:30:13.776609",
     "status": "completed"
    },
    "tags": []
   },
   "outputs": [],
   "source": [
    "train=pd.read_csv('/kaggle/input/playground-series-s3e19/train.csv')"
   ]
  },
  {
   "cell_type": "code",
   "execution_count": 3,
   "id": "d8282e6c",
   "metadata": {
    "execution": {
     "iopub.execute_input": "2023-07-19T05:30:14.098539Z",
     "iopub.status.busy": "2023-07-19T05:30:14.097190Z",
     "iopub.status.idle": "2023-07-19T05:30:14.154497Z",
     "shell.execute_reply": "2023-07-19T05:30:14.153278Z"
    },
    "papermill": {
     "duration": 0.074749,
     "end_time": "2023-07-19T05:30:14.157657",
     "exception": false,
     "start_time": "2023-07-19T05:30:14.082908",
     "status": "completed"
    },
    "tags": []
   },
   "outputs": [],
   "source": [
    "test = pd.read_csv('/kaggle/input/playground-series-s3e19/test.csv')"
   ]
  },
  {
   "cell_type": "code",
   "execution_count": 4,
   "id": "a6eb7bde",
   "metadata": {
    "execution": {
     "iopub.execute_input": "2023-07-19T05:30:14.186469Z",
     "iopub.status.busy": "2023-07-19T05:30:14.185641Z",
     "iopub.status.idle": "2023-07-19T05:30:14.208481Z",
     "shell.execute_reply": "2023-07-19T05:30:14.207365Z"
    },
    "papermill": {
     "duration": 0.039992,
     "end_time": "2023-07-19T05:30:14.210917",
     "exception": false,
     "start_time": "2023-07-19T05:30:14.170925",
     "status": "completed"
    },
    "tags": []
   },
   "outputs": [
    {
     "data": {
      "text/html": [
       "<div>\n",
       "<style scoped>\n",
       "    .dataframe tbody tr th:only-of-type {\n",
       "        vertical-align: middle;\n",
       "    }\n",
       "\n",
       "    .dataframe tbody tr th {\n",
       "        vertical-align: top;\n",
       "    }\n",
       "\n",
       "    .dataframe thead th {\n",
       "        text-align: right;\n",
       "    }\n",
       "</style>\n",
       "<table border=\"1\" class=\"dataframe\">\n",
       "  <thead>\n",
       "    <tr style=\"text-align: right;\">\n",
       "      <th></th>\n",
       "      <th>id</th>\n",
       "      <th>date</th>\n",
       "      <th>country</th>\n",
       "      <th>store</th>\n",
       "      <th>product</th>\n",
       "    </tr>\n",
       "  </thead>\n",
       "  <tbody>\n",
       "    <tr>\n",
       "      <th>0</th>\n",
       "      <td>136950</td>\n",
       "      <td>2022-01-01</td>\n",
       "      <td>Argentina</td>\n",
       "      <td>Kaggle Learn</td>\n",
       "      <td>Using LLMs to Improve Your Coding</td>\n",
       "    </tr>\n",
       "    <tr>\n",
       "      <th>1</th>\n",
       "      <td>136951</td>\n",
       "      <td>2022-01-01</td>\n",
       "      <td>Argentina</td>\n",
       "      <td>Kaggle Learn</td>\n",
       "      <td>Using LLMs to Train More LLMs</td>\n",
       "    </tr>\n",
       "    <tr>\n",
       "      <th>2</th>\n",
       "      <td>136952</td>\n",
       "      <td>2022-01-01</td>\n",
       "      <td>Argentina</td>\n",
       "      <td>Kaggle Learn</td>\n",
       "      <td>Using LLMs to Win Friends and Influence People</td>\n",
       "    </tr>\n",
       "    <tr>\n",
       "      <th>3</th>\n",
       "      <td>136953</td>\n",
       "      <td>2022-01-01</td>\n",
       "      <td>Argentina</td>\n",
       "      <td>Kaggle Learn</td>\n",
       "      <td>Using LLMs to Win More Kaggle Competitions</td>\n",
       "    </tr>\n",
       "    <tr>\n",
       "      <th>4</th>\n",
       "      <td>136954</td>\n",
       "      <td>2022-01-01</td>\n",
       "      <td>Argentina</td>\n",
       "      <td>Kaggle Learn</td>\n",
       "      <td>Using LLMs to Write Better</td>\n",
       "    </tr>\n",
       "  </tbody>\n",
       "</table>\n",
       "</div>"
      ],
      "text/plain": [
       "       id        date    country         store  \\\n",
       "0  136950  2022-01-01  Argentina  Kaggle Learn   \n",
       "1  136951  2022-01-01  Argentina  Kaggle Learn   \n",
       "2  136952  2022-01-01  Argentina  Kaggle Learn   \n",
       "3  136953  2022-01-01  Argentina  Kaggle Learn   \n",
       "4  136954  2022-01-01  Argentina  Kaggle Learn   \n",
       "\n",
       "                                          product  \n",
       "0               Using LLMs to Improve Your Coding  \n",
       "1                   Using LLMs to Train More LLMs  \n",
       "2  Using LLMs to Win Friends and Influence People  \n",
       "3      Using LLMs to Win More Kaggle Competitions  \n",
       "4                      Using LLMs to Write Better  "
      ]
     },
     "execution_count": 4,
     "metadata": {},
     "output_type": "execute_result"
    }
   ],
   "source": [
    "test.head()"
   ]
  },
  {
   "cell_type": "code",
   "execution_count": 5,
   "id": "006fa077",
   "metadata": {
    "execution": {
     "iopub.execute_input": "2023-07-19T05:30:14.239377Z",
     "iopub.status.busy": "2023-07-19T05:30:14.238592Z",
     "iopub.status.idle": "2023-07-19T05:30:14.439430Z",
     "shell.execute_reply": "2023-07-19T05:30:14.438270Z"
    },
    "papermill": {
     "duration": 0.217723,
     "end_time": "2023-07-19T05:30:14.441710",
     "exception": false,
     "start_time": "2023-07-19T05:30:14.223987",
     "status": "completed"
    },
    "tags": []
   },
   "outputs": [
    {
     "name": "stdout",
     "output_type": "stream",
     "text": [
      "<class 'pandas.core.frame.DataFrame'>\n",
      "RangeIndex: 136950 entries, 0 to 136949\n",
      "Data columns (total 6 columns):\n",
      " #   Column    Non-Null Count   Dtype \n",
      "---  ------    --------------   ----- \n",
      " 0   id        136950 non-null  int64 \n",
      " 1   date      136950 non-null  object\n",
      " 2   country   136950 non-null  object\n",
      " 3   store     136950 non-null  object\n",
      " 4   product   136950 non-null  object\n",
      " 5   num_sold  136950 non-null  int64 \n",
      "dtypes: int64(2), object(4)\n",
      "memory usage: 6.3+ MB\n"
     ]
    }
   ],
   "source": [
    "train.info()"
   ]
  },
  {
   "cell_type": "code",
   "execution_count": 6,
   "id": "dbc6a797",
   "metadata": {
    "execution": {
     "iopub.execute_input": "2023-07-19T05:30:14.470633Z",
     "iopub.status.busy": "2023-07-19T05:30:14.469833Z",
     "iopub.status.idle": "2023-07-19T05:30:14.656552Z",
     "shell.execute_reply": "2023-07-19T05:30:14.655405Z"
    },
    "papermill": {
     "duration": 0.20383,
     "end_time": "2023-07-19T05:30:14.658853",
     "exception": false,
     "start_time": "2023-07-19T05:30:14.455023",
     "status": "completed"
    },
    "tags": []
   },
   "outputs": [
    {
     "data": {
      "text/plain": [
       "id          0\n",
       "date        0\n",
       "country     0\n",
       "store       0\n",
       "product     0\n",
       "num_sold    0\n",
       "dtype: int64"
      ]
     },
     "execution_count": 6,
     "metadata": {},
     "output_type": "execute_result"
    }
   ],
   "source": [
    "train.isnull().sum()"
   ]
  },
  {
   "cell_type": "code",
   "execution_count": 7,
   "id": "1400f2c8",
   "metadata": {
    "execution": {
     "iopub.execute_input": "2023-07-19T05:30:14.687801Z",
     "iopub.status.busy": "2023-07-19T05:30:14.687081Z",
     "iopub.status.idle": "2023-07-19T05:30:14.723033Z",
     "shell.execute_reply": "2023-07-19T05:30:14.721727Z"
    },
    "papermill": {
     "duration": 0.053706,
     "end_time": "2023-07-19T05:30:14.725789",
     "exception": false,
     "start_time": "2023-07-19T05:30:14.672083",
     "status": "completed"
    },
    "tags": []
   },
   "outputs": [],
   "source": [
    "train['date']=pd.to_datetime(train['date'])"
   ]
  },
  {
   "cell_type": "code",
   "execution_count": 8,
   "id": "3b7bbb82",
   "metadata": {
    "execution": {
     "iopub.execute_input": "2023-07-19T05:30:14.755641Z",
     "iopub.status.busy": "2023-07-19T05:30:14.755196Z",
     "iopub.status.idle": "2023-07-19T05:30:14.773688Z",
     "shell.execute_reply": "2023-07-19T05:30:14.770860Z"
    },
    "papermill": {
     "duration": 0.036265,
     "end_time": "2023-07-19T05:30:14.776198",
     "exception": false,
     "start_time": "2023-07-19T05:30:14.739933",
     "status": "completed"
    },
    "tags": []
   },
   "outputs": [
    {
     "data": {
      "text/html": [
       "<div>\n",
       "<style scoped>\n",
       "    .dataframe tbody tr th:only-of-type {\n",
       "        vertical-align: middle;\n",
       "    }\n",
       "\n",
       "    .dataframe tbody tr th {\n",
       "        vertical-align: top;\n",
       "    }\n",
       "\n",
       "    .dataframe thead th {\n",
       "        text-align: right;\n",
       "    }\n",
       "</style>\n",
       "<table border=\"1\" class=\"dataframe\">\n",
       "  <thead>\n",
       "    <tr style=\"text-align: right;\">\n",
       "      <th></th>\n",
       "      <th>id</th>\n",
       "      <th>date</th>\n",
       "      <th>country</th>\n",
       "      <th>store</th>\n",
       "      <th>product</th>\n",
       "      <th>num_sold</th>\n",
       "    </tr>\n",
       "  </thead>\n",
       "  <tbody>\n",
       "    <tr>\n",
       "      <th>0</th>\n",
       "      <td>0</td>\n",
       "      <td>2017-01-01</td>\n",
       "      <td>Argentina</td>\n",
       "      <td>Kaggle Learn</td>\n",
       "      <td>Using LLMs to Improve Your Coding</td>\n",
       "      <td>63</td>\n",
       "    </tr>\n",
       "    <tr>\n",
       "      <th>1</th>\n",
       "      <td>1</td>\n",
       "      <td>2017-01-01</td>\n",
       "      <td>Argentina</td>\n",
       "      <td>Kaggle Learn</td>\n",
       "      <td>Using LLMs to Train More LLMs</td>\n",
       "      <td>66</td>\n",
       "    </tr>\n",
       "    <tr>\n",
       "      <th>2</th>\n",
       "      <td>2</td>\n",
       "      <td>2017-01-01</td>\n",
       "      <td>Argentina</td>\n",
       "      <td>Kaggle Learn</td>\n",
       "      <td>Using LLMs to Win Friends and Influence People</td>\n",
       "      <td>9</td>\n",
       "    </tr>\n",
       "    <tr>\n",
       "      <th>3</th>\n",
       "      <td>3</td>\n",
       "      <td>2017-01-01</td>\n",
       "      <td>Argentina</td>\n",
       "      <td>Kaggle Learn</td>\n",
       "      <td>Using LLMs to Win More Kaggle Competitions</td>\n",
       "      <td>59</td>\n",
       "    </tr>\n",
       "    <tr>\n",
       "      <th>4</th>\n",
       "      <td>4</td>\n",
       "      <td>2017-01-01</td>\n",
       "      <td>Argentina</td>\n",
       "      <td>Kaggle Learn</td>\n",
       "      <td>Using LLMs to Write Better</td>\n",
       "      <td>49</td>\n",
       "    </tr>\n",
       "  </tbody>\n",
       "</table>\n",
       "</div>"
      ],
      "text/plain": [
       "   id       date    country         store  \\\n",
       "0   0 2017-01-01  Argentina  Kaggle Learn   \n",
       "1   1 2017-01-01  Argentina  Kaggle Learn   \n",
       "2   2 2017-01-01  Argentina  Kaggle Learn   \n",
       "3   3 2017-01-01  Argentina  Kaggle Learn   \n",
       "4   4 2017-01-01  Argentina  Kaggle Learn   \n",
       "\n",
       "                                          product  num_sold  \n",
       "0               Using LLMs to Improve Your Coding        63  \n",
       "1                   Using LLMs to Train More LLMs        66  \n",
       "2  Using LLMs to Win Friends and Influence People         9  \n",
       "3      Using LLMs to Win More Kaggle Competitions        59  \n",
       "4                      Using LLMs to Write Better        49  "
      ]
     },
     "execution_count": 8,
     "metadata": {},
     "output_type": "execute_result"
    }
   ],
   "source": [
    "train.head()"
   ]
  },
  {
   "cell_type": "code",
   "execution_count": 9,
   "id": "bbcbb3a0",
   "metadata": {
    "execution": {
     "iopub.execute_input": "2023-07-19T05:30:14.807157Z",
     "iopub.status.busy": "2023-07-19T05:30:14.805975Z",
     "iopub.status.idle": "2023-07-19T05:30:14.966069Z",
     "shell.execute_reply": "2023-07-19T05:30:14.964805Z"
    },
    "papermill": {
     "duration": 0.178287,
     "end_time": "2023-07-19T05:30:14.968661",
     "exception": false,
     "start_time": "2023-07-19T05:30:14.790374",
     "status": "completed"
    },
    "tags": []
   },
   "outputs": [
    {
     "data": {
      "text/plain": [
       "id          0\n",
       "date        0\n",
       "country     0\n",
       "store       0\n",
       "product     0\n",
       "num_sold    0\n",
       "dtype: int64"
      ]
     },
     "execution_count": 9,
     "metadata": {},
     "output_type": "execute_result"
    }
   ],
   "source": [
    "train.isnull().sum()"
   ]
  },
  {
   "cell_type": "code",
   "execution_count": 10,
   "id": "3e625c0c",
   "metadata": {
    "execution": {
     "iopub.execute_input": "2023-07-19T05:30:14.998100Z",
     "iopub.status.busy": "2023-07-19T05:30:14.997705Z",
     "iopub.status.idle": "2023-07-19T05:30:15.026704Z",
     "shell.execute_reply": "2023-07-19T05:30:15.025538Z"
    },
    "papermill": {
     "duration": 0.046649,
     "end_time": "2023-07-19T05:30:15.029114",
     "exception": false,
     "start_time": "2023-07-19T05:30:14.982465",
     "status": "completed"
    },
    "tags": []
   },
   "outputs": [
    {
     "data": {
      "text/html": [
       "<div>\n",
       "<style scoped>\n",
       "    .dataframe tbody tr th:only-of-type {\n",
       "        vertical-align: middle;\n",
       "    }\n",
       "\n",
       "    .dataframe tbody tr th {\n",
       "        vertical-align: top;\n",
       "    }\n",
       "\n",
       "    .dataframe thead th {\n",
       "        text-align: right;\n",
       "    }\n",
       "</style>\n",
       "<table border=\"1\" class=\"dataframe\">\n",
       "  <thead>\n",
       "    <tr style=\"text-align: right;\">\n",
       "      <th></th>\n",
       "      <th>id</th>\n",
       "      <th>num_sold</th>\n",
       "    </tr>\n",
       "  </thead>\n",
       "  <tbody>\n",
       "    <tr>\n",
       "      <th>count</th>\n",
       "      <td>136950.00000</td>\n",
       "      <td>136950.000000</td>\n",
       "    </tr>\n",
       "    <tr>\n",
       "      <th>mean</th>\n",
       "      <td>68474.50000</td>\n",
       "      <td>165.522636</td>\n",
       "    </tr>\n",
       "    <tr>\n",
       "      <th>std</th>\n",
       "      <td>39534.20402</td>\n",
       "      <td>183.691575</td>\n",
       "    </tr>\n",
       "    <tr>\n",
       "      <th>min</th>\n",
       "      <td>0.00000</td>\n",
       "      <td>2.000000</td>\n",
       "    </tr>\n",
       "    <tr>\n",
       "      <th>25%</th>\n",
       "      <td>34237.25000</td>\n",
       "      <td>46.000000</td>\n",
       "    </tr>\n",
       "    <tr>\n",
       "      <th>50%</th>\n",
       "      <td>68474.50000</td>\n",
       "      <td>98.000000</td>\n",
       "    </tr>\n",
       "    <tr>\n",
       "      <th>75%</th>\n",
       "      <td>102711.75000</td>\n",
       "      <td>184.000000</td>\n",
       "    </tr>\n",
       "    <tr>\n",
       "      <th>max</th>\n",
       "      <td>136949.00000</td>\n",
       "      <td>1380.000000</td>\n",
       "    </tr>\n",
       "  </tbody>\n",
       "</table>\n",
       "</div>"
      ],
      "text/plain": [
       "                 id       num_sold\n",
       "count  136950.00000  136950.000000\n",
       "mean    68474.50000     165.522636\n",
       "std     39534.20402     183.691575\n",
       "min         0.00000       2.000000\n",
       "25%     34237.25000      46.000000\n",
       "50%     68474.50000      98.000000\n",
       "75%    102711.75000     184.000000\n",
       "max    136949.00000    1380.000000"
      ]
     },
     "execution_count": 10,
     "metadata": {},
     "output_type": "execute_result"
    }
   ],
   "source": [
    "train.describe()"
   ]
  },
  {
   "cell_type": "code",
   "execution_count": 11,
   "id": "c01b7990",
   "metadata": {
    "execution": {
     "iopub.execute_input": "2023-07-19T05:30:15.060262Z",
     "iopub.status.busy": "2023-07-19T05:30:15.059134Z",
     "iopub.status.idle": "2023-07-19T05:30:15.115207Z",
     "shell.execute_reply": "2023-07-19T05:30:15.113883Z"
    },
    "papermill": {
     "duration": 0.073896,
     "end_time": "2023-07-19T05:30:15.117507",
     "exception": false,
     "start_time": "2023-07-19T05:30:15.043611",
     "status": "completed"
    },
    "tags": []
   },
   "outputs": [
    {
     "name": "stdout",
     "output_type": "stream",
     "text": [
      "id has 136950 values\n",
      "date has 1826 values\n",
      "country has 5 values\n",
      "store has 3 values\n",
      "product has 5 values\n",
      "num_sold has 1028 values\n"
     ]
    }
   ],
   "source": [
    "for col in train.columns:\n",
    "    print(f\"{col} has {len(train[col].unique())} values\")"
   ]
  },
  {
   "cell_type": "code",
   "execution_count": 12,
   "id": "7d4b9c25",
   "metadata": {
    "execution": {
     "iopub.execute_input": "2023-07-19T05:30:15.149429Z",
     "iopub.status.busy": "2023-07-19T05:30:15.148717Z",
     "iopub.status.idle": "2023-07-19T05:30:15.168664Z",
     "shell.execute_reply": "2023-07-19T05:30:15.167663Z"
    },
    "papermill": {
     "duration": 0.039254,
     "end_time": "2023-07-19T05:30:15.171064",
     "exception": false,
     "start_time": "2023-07-19T05:30:15.131810",
     "status": "completed"
    },
    "tags": []
   },
   "outputs": [],
   "source": [
    "products= train['product'].unique()"
   ]
  },
  {
   "cell_type": "code",
   "execution_count": 13,
   "id": "71c1c881",
   "metadata": {
    "execution": {
     "iopub.execute_input": "2023-07-19T05:30:15.202292Z",
     "iopub.status.busy": "2023-07-19T05:30:15.201192Z",
     "iopub.status.idle": "2023-07-19T05:30:15.207662Z",
     "shell.execute_reply": "2023-07-19T05:30:15.206583Z"
    },
    "papermill": {
     "duration": 0.024863,
     "end_time": "2023-07-19T05:30:15.210040",
     "exception": false,
     "start_time": "2023-07-19T05:30:15.185177",
     "status": "completed"
    },
    "tags": []
   },
   "outputs": [
    {
     "data": {
      "text/plain": [
       "array(['Using LLMs to Improve Your Coding',\n",
       "       'Using LLMs to Train More LLMs',\n",
       "       'Using LLMs to Win Friends and Influence People',\n",
       "       'Using LLMs to Win More Kaggle Competitions',\n",
       "       'Using LLMs to Write Better'], dtype=object)"
      ]
     },
     "execution_count": 13,
     "metadata": {},
     "output_type": "execute_result"
    }
   ],
   "source": [
    "products"
   ]
  },
  {
   "cell_type": "code",
   "execution_count": 14,
   "id": "a1cec96d",
   "metadata": {
    "execution": {
     "iopub.execute_input": "2023-07-19T05:30:15.241509Z",
     "iopub.status.busy": "2023-07-19T05:30:15.240557Z",
     "iopub.status.idle": "2023-07-19T05:30:15.248023Z",
     "shell.execute_reply": "2023-07-19T05:30:15.246942Z"
    },
    "papermill": {
     "duration": 0.025893,
     "end_time": "2023-07-19T05:30:15.250306",
     "exception": false,
     "start_time": "2023-07-19T05:30:15.224413",
     "status": "completed"
    },
    "tags": []
   },
   "outputs": [
    {
     "data": {
      "text/plain": [
       "5"
      ]
     },
     "execution_count": 14,
     "metadata": {},
     "output_type": "execute_result"
    }
   ],
   "source": [
    "len(products)"
   ]
  },
  {
   "cell_type": "code",
   "execution_count": 15,
   "id": "797acfdf",
   "metadata": {
    "execution": {
     "iopub.execute_input": "2023-07-19T05:30:15.283413Z",
     "iopub.status.busy": "2023-07-19T05:30:15.282992Z",
     "iopub.status.idle": "2023-07-19T05:30:17.588036Z",
     "shell.execute_reply": "2023-07-19T05:30:17.586723Z"
    },
    "papermill": {
     "duration": 2.324864,
     "end_time": "2023-07-19T05:30:17.590688",
     "exception": false,
     "start_time": "2023-07-19T05:30:15.265824",
     "status": "completed"
    },
    "tags": []
   },
   "outputs": [
    {
     "data": {
      "image/png": "[encoded data removed]",
      "text/plain": [
       "<Figure size 640x480 with 1 Axes>"
      ]
     },
     "metadata": {},
     "output_type": "display_data"
    }
   ],
   "source": [
    "for i in products:\n",
    "    train_1 = train[train['product']==i]\n",
    "    #plt.subplot(len(products),1,j)\n",
    "    #plt.subplot(1,2,len(i))\n",
    "    plt.plot(train_1['date'],train_1['num_sold'])\n",
    "    # Giving title to the chart using plt.title\n",
    "    plt.title(f\"Product '{i}' sold by Date\")\n",
    "    # rotating the x-axis tick labels at 30degree\n",
    "    # towards right\n",
    "    plt.xticks(rotation=30, ha='right')\n",
    " \n",
    " # Providing x and y label to the chart\n",
    "    plt.xlabel('Date')\n",
    "    plt.ylabel('Products sold')\n",
    "    \n",
    "    "
   ]
  },
  {
   "cell_type": "code",
   "execution_count": 16,
   "id": "09fa04bd",
   "metadata": {
    "execution": {
     "iopub.execute_input": "2023-07-19T05:30:17.623336Z",
     "iopub.status.busy": "2023-07-19T05:30:17.622448Z",
     "iopub.status.idle": "2023-07-19T05:30:17.630587Z",
     "shell.execute_reply": "2023-07-19T05:30:17.629555Z"
    },
    "papermill": {
     "duration": 0.026957,
     "end_time": "2023-07-19T05:30:17.632849",
     "exception": false,
     "start_time": "2023-07-19T05:30:17.605892",
     "status": "completed"
    },
    "tags": []
   },
   "outputs": [
    {
     "data": {
      "text/plain": [
       "Timestamp('2021-12-31 00:00:00')"
      ]
     },
     "execution_count": 16,
     "metadata": {},
     "output_type": "execute_result"
    }
   ],
   "source": [
    "train['date'].max()"
   ]
  },
  {
   "cell_type": "code",
   "execution_count": 17,
   "id": "8264fedf",
   "metadata": {
    "execution": {
     "iopub.execute_input": "2023-07-19T05:30:17.665278Z",
     "iopub.status.busy": "2023-07-19T05:30:17.664893Z",
     "iopub.status.idle": "2023-07-19T05:30:17.672524Z",
     "shell.execute_reply": "2023-07-19T05:30:17.671521Z"
    },
    "papermill": {
     "duration": 0.026123,
     "end_time": "2023-07-19T05:30:17.674635",
     "exception": false,
     "start_time": "2023-07-19T05:30:17.648512",
     "status": "completed"
    },
    "tags": []
   },
   "outputs": [
    {
     "data": {
      "text/plain": [
       "Timestamp('2017-01-01 00:00:00')"
      ]
     },
     "execution_count": 17,
     "metadata": {},
     "output_type": "execute_result"
    }
   ],
   "source": [
    "train['date'].min()"
   ]
  },
  {
   "cell_type": "code",
   "execution_count": 18,
   "id": "1f7298e3",
   "metadata": {
    "execution": {
     "iopub.execute_input": "2023-07-19T05:30:17.708277Z",
     "iopub.status.busy": "2023-07-19T05:30:17.707500Z",
     "iopub.status.idle": "2023-07-19T05:30:17.712940Z",
     "shell.execute_reply": "2023-07-19T05:30:17.712193Z"
    },
    "papermill": {
     "duration": 0.024759,
     "end_time": "2023-07-19T05:30:17.715052",
     "exception": false,
     "start_time": "2023-07-19T05:30:17.690293",
     "status": "completed"
    },
    "tags": []
   },
   "outputs": [],
   "source": [
    "def new_column(df):\n",
    "   df['day']=df['date'].dt.day\n",
    "   df['month']=df['date'].dt.month\n",
    "   df['year']=df['date'].dt.year\n",
    "   df=df.drop(['date'],axis=1)\n",
    "   return df"
   ]
  },
  {
   "cell_type": "code",
   "execution_count": 19,
   "id": "f5945fb1",
   "metadata": {
    "execution": {
     "iopub.execute_input": "2023-07-19T05:30:17.748646Z",
     "iopub.status.busy": "2023-07-19T05:30:17.747925Z",
     "iopub.status.idle": "2023-07-19T05:30:17.801620Z",
     "shell.execute_reply": "2023-07-19T05:30:17.800512Z"
    },
    "papermill": {
     "duration": 0.073463,
     "end_time": "2023-07-19T05:30:17.804437",
     "exception": false,
     "start_time": "2023-07-19T05:30:17.730974",
     "status": "completed"
    },
    "tags": []
   },
   "outputs": [],
   "source": [
    "train= new_column(train)"
   ]
  },
  {
   "cell_type": "code",
   "execution_count": 20,
   "id": "50877dcb",
   "metadata": {
    "execution": {
     "iopub.execute_input": "2023-07-19T05:30:17.837988Z",
     "iopub.status.busy": "2023-07-19T05:30:17.837164Z",
     "iopub.status.idle": "2023-07-19T05:30:17.850770Z",
     "shell.execute_reply": "2023-07-19T05:30:17.849695Z"
    },
    "papermill": {
     "duration": 0.032515,
     "end_time": "2023-07-19T05:30:17.852891",
     "exception": false,
     "start_time": "2023-07-19T05:30:17.820376",
     "status": "completed"
    },
    "tags": []
   },
   "outputs": [
    {
     "data": {
      "text/html": [
       "<div>\n",
       "<style scoped>\n",
       "    .dataframe tbody tr th:only-of-type {\n",
       "        vertical-align: middle;\n",
       "    }\n",
       "\n",
       "    .dataframe tbody tr th {\n",
       "        vertical-align: top;\n",
       "    }\n",
       "\n",
       "    .dataframe thead th {\n",
       "        text-align: right;\n",
       "    }\n",
       "</style>\n",
       "<table border=\"1\" class=\"dataframe\">\n",
       "  <thead>\n",
       "    <tr style=\"text-align: right;\">\n",
       "      <th></th>\n",
       "      <th>id</th>\n",
       "      <th>country</th>\n",
       "      <th>store</th>\n",
       "      <th>product</th>\n",
       "      <th>num_sold</th>\n",
       "      <th>day</th>\n",
       "      <th>month</th>\n",
       "      <th>year</th>\n",
       "    </tr>\n",
       "  </thead>\n",
       "  <tbody>\n",
       "    <tr>\n",
       "      <th>0</th>\n",
       "      <td>0</td>\n",
       "      <td>Argentina</td>\n",
       "      <td>Kaggle Learn</td>\n",
       "      <td>Using LLMs to Improve Your Coding</td>\n",
       "      <td>63</td>\n",
       "      <td>1</td>\n",
       "      <td>1</td>\n",
       "      <td>2017</td>\n",
       "    </tr>\n",
       "    <tr>\n",
       "      <th>1</th>\n",
       "      <td>1</td>\n",
       "      <td>Argentina</td>\n",
       "      <td>Kaggle Learn</td>\n",
       "      <td>Using LLMs to Train More LLMs</td>\n",
       "      <td>66</td>\n",
       "      <td>1</td>\n",
       "      <td>1</td>\n",
       "      <td>2017</td>\n",
       "    </tr>\n",
       "    <tr>\n",
       "      <th>2</th>\n",
       "      <td>2</td>\n",
       "      <td>Argentina</td>\n",
       "      <td>Kaggle Learn</td>\n",
       "      <td>Using LLMs to Win Friends and Influence People</td>\n",
       "      <td>9</td>\n",
       "      <td>1</td>\n",
       "      <td>1</td>\n",
       "      <td>2017</td>\n",
       "    </tr>\n",
       "    <tr>\n",
       "      <th>3</th>\n",
       "      <td>3</td>\n",
       "      <td>Argentina</td>\n",
       "      <td>Kaggle Learn</td>\n",
       "      <td>Using LLMs to Win More Kaggle Competitions</td>\n",
       "      <td>59</td>\n",
       "      <td>1</td>\n",
       "      <td>1</td>\n",
       "      <td>2017</td>\n",
       "    </tr>\n",
       "    <tr>\n",
       "      <th>4</th>\n",
       "      <td>4</td>\n",
       "      <td>Argentina</td>\n",
       "      <td>Kaggle Learn</td>\n",
       "      <td>Using LLMs to Write Better</td>\n",
       "      <td>49</td>\n",
       "      <td>1</td>\n",
       "      <td>1</td>\n",
       "      <td>2017</td>\n",
       "    </tr>\n",
       "  </tbody>\n",
       "</table>\n",
       "</div>"
      ],
      "text/plain": [
       "   id    country         store  \\\n",
       "0   0  Argentina  Kaggle Learn   \n",
       "1   1  Argentina  Kaggle Learn   \n",
       "2   2  Argentina  Kaggle Learn   \n",
       "3   3  Argentina  Kaggle Learn   \n",
       "4   4  Argentina  Kaggle Learn   \n",
       "\n",
       "                                          product  num_sold  day  month  year  \n",
       "0               Using LLMs to Improve Your Coding        63    1      1  2017  \n",
       "1                   Using LLMs to Train More LLMs        66    1      1  2017  \n",
       "2  Using LLMs to Win Friends and Influence People         9    1      1  2017  \n",
       "3      Using LLMs to Win More Kaggle Competitions        59    1      1  2017  \n",
       "4                      Using LLMs to Write Better        49    1      1  2017  "
      ]
     },
     "execution_count": 20,
     "metadata": {},
     "output_type": "execute_result"
    }
   ],
   "source": [
    "train.head()"
   ]
  },
  {
   "cell_type": "markdown",
   "id": "00a758a6",
   "metadata": {
    "papermill": {
     "duration": 0.015945,
     "end_time": "2023-07-19T05:30:17.884706",
     "exception": false,
     "start_time": "2023-07-19T05:30:17.868761",
     "status": "completed"
    },
    "tags": []
   },
   "source": [
    "Exclude 2020 as it is outlier because of unpredictable covid 19 phase"
   ]
  },
  {
   "cell_type": "code",
   "execution_count": 21,
   "id": "68986991",
   "metadata": {
    "execution": {
     "iopub.execute_input": "2023-07-19T05:30:17.918026Z",
     "iopub.status.busy": "2023-07-19T05:30:17.917608Z",
     "iopub.status.idle": "2023-07-19T05:30:17.932078Z",
     "shell.execute_reply": "2023-07-19T05:30:17.930890Z"
    },
    "papermill": {
     "duration": 0.033838,
     "end_time": "2023-07-19T05:30:17.934516",
     "exception": false,
     "start_time": "2023-07-19T05:30:17.900678",
     "status": "completed"
    },
    "tags": []
   },
   "outputs": [],
   "source": [
    "train = train[train['year'] != 2020]"
   ]
  },
  {
   "cell_type": "code",
   "execution_count": 22,
   "id": "c6472983",
   "metadata": {
    "execution": {
     "iopub.execute_input": "2023-07-19T05:30:17.967663Z",
     "iopub.status.busy": "2023-07-19T05:30:17.967248Z",
     "iopub.status.idle": "2023-07-19T05:30:17.971698Z",
     "shell.execute_reply": "2023-07-19T05:30:17.970678Z"
    },
    "papermill": {
     "duration": 0.023682,
     "end_time": "2023-07-19T05:30:17.973938",
     "exception": false,
     "start_time": "2023-07-19T05:30:17.950256",
     "status": "completed"
    },
    "tags": []
   },
   "outputs": [],
   "source": [
    "#stores=train['store'].unique()"
   ]
  },
  {
   "cell_type": "code",
   "execution_count": 23,
   "id": "0dc95778",
   "metadata": {
    "execution": {
     "iopub.execute_input": "2023-07-19T05:30:18.007247Z",
     "iopub.status.busy": "2023-07-19T05:30:18.006525Z",
     "iopub.status.idle": "2023-07-19T05:30:18.017796Z",
     "shell.execute_reply": "2023-07-19T05:30:18.016697Z"
    },
    "papermill": {
     "duration": 0.030717,
     "end_time": "2023-07-19T05:30:18.020195",
     "exception": false,
     "start_time": "2023-07-19T05:30:17.989478",
     "status": "completed"
    },
    "tags": []
   },
   "outputs": [],
   "source": [
    "X= train.drop(['num_sold'],axis=1)\n",
    "y= train[['num_sold']]"
   ]
  },
  {
   "cell_type": "code",
   "execution_count": 24,
   "id": "f801e7ef",
   "metadata": {
    "execution": {
     "iopub.execute_input": "2023-07-19T05:30:18.053936Z",
     "iopub.status.busy": "2023-07-19T05:30:18.053527Z",
     "iopub.status.idle": "2023-07-19T05:30:18.376715Z",
     "shell.execute_reply": "2023-07-19T05:30:18.375658Z"
    },
    "papermill": {
     "duration": 0.343161,
     "end_time": "2023-07-19T05:30:18.379520",
     "exception": false,
     "start_time": "2023-07-19T05:30:18.036359",
     "status": "completed"
    },
    "tags": []
   },
   "outputs": [],
   "source": [
    "cbe= CatBoostEncoder(cols = ['country', 'store', 'product']).fit(X,y)\n",
    "X= cbe.transform(X)\n"
   ]
  },
  {
   "cell_type": "code",
   "execution_count": 25,
   "id": "7154f94c",
   "metadata": {
    "execution": {
     "iopub.execute_input": "2023-07-19T05:30:18.413278Z",
     "iopub.status.busy": "2023-07-19T05:30:18.412885Z",
     "iopub.status.idle": "2023-07-19T05:30:18.426569Z",
     "shell.execute_reply": "2023-07-19T05:30:18.425462Z"
    },
    "papermill": {
     "duration": 0.033409,
     "end_time": "2023-07-19T05:30:18.428935",
     "exception": false,
     "start_time": "2023-07-19T05:30:18.395526",
     "status": "completed"
    },
    "tags": []
   },
   "outputs": [],
   "source": [
    "test['date']=pd.to_datetime(test['date'])"
   ]
  },
  {
   "cell_type": "code",
   "execution_count": 26,
   "id": "3afeb3cd",
   "metadata": {
    "execution": {
     "iopub.execute_input": "2023-07-19T05:30:18.462352Z",
     "iopub.status.busy": "2023-07-19T05:30:18.461946Z",
     "iopub.status.idle": "2023-07-19T05:30:18.480078Z",
     "shell.execute_reply": "2023-07-19T05:30:18.479073Z"
    },
    "papermill": {
     "duration": 0.03804,
     "end_time": "2023-07-19T05:30:18.482756",
     "exception": false,
     "start_time": "2023-07-19T05:30:18.444716",
     "status": "completed"
    },
    "tags": []
   },
   "outputs": [],
   "source": [
    "test=new_column(test)"
   ]
  },
  {
   "cell_type": "code",
   "execution_count": 27,
   "id": "bd5aa15a",
   "metadata": {
    "execution": {
     "iopub.execute_input": "2023-07-19T05:30:18.516319Z",
     "iopub.status.busy": "2023-07-19T05:30:18.515921Z",
     "iopub.status.idle": "2023-07-19T05:30:18.563014Z",
     "shell.execute_reply": "2023-07-19T05:30:18.561792Z"
    },
    "papermill": {
     "duration": 0.067165,
     "end_time": "2023-07-19T05:30:18.565822",
     "exception": false,
     "start_time": "2023-07-19T05:30:18.498657",
     "status": "completed"
    },
    "tags": []
   },
   "outputs": [],
   "source": [
    "test=cbe.transform(test)"
   ]
  },
  {
   "cell_type": "code",
   "execution_count": 28,
   "id": "f75fbf33",
   "metadata": {
    "execution": {
     "iopub.execute_input": "2023-07-19T05:30:18.599367Z",
     "iopub.status.busy": "2023-07-19T05:30:18.598965Z",
     "iopub.status.idle": "2023-07-19T05:30:18.607421Z",
     "shell.execute_reply": "2023-07-19T05:30:18.606236Z"
    },
    "papermill": {
     "duration": 0.02793,
     "end_time": "2023-07-19T05:30:18.609598",
     "exception": false,
     "start_time": "2023-07-19T05:30:18.581668",
     "status": "completed"
    },
    "tags": []
   },
   "outputs": [],
   "source": [
    "def hgbr_objective(trial):\n",
    "    # Use the trial object to suggest a value for alpha\n",
    "    # Optuna will come up with a suggested value based on the scores of previous trials\n",
    "    _alpha = trial.suggest_float(\"quantile\", 0.1, 1)\n",
    "    _beta = trial.suggest_float(\"learning_rate\", 0.1, 20)\n",
    "    _gamma = trial.suggest_int(\"max_iter\", 1, 100)\n",
    "    _delta= trial.suggest_int(\"max_leaf_nodes\", 2, 100)\n",
    "    _theta= trial.suggest_int(\"max_depth\", 1, 12)\n",
    "    # Define the model with the suggested alpha\n",
    "    hgbr = HistGradientBoostingRegressor(quantile=_alpha,learning_rate=_beta,max_iter=_gamma,\n",
    "                                         interaction_cst=\"pairwise\",warm_start=1,l2_regularization=1,\n",
    "                                         max_leaf_nodes= _delta,max_depth=_theta,random_state=42)\n",
    "    # Calculate the score with 10-folds cross validation, which returns a list of scores\n",
    "    # scoring is defined as negative RMSE as it is what this Kaggle competition uses to evaluate the result\n",
    "    scores = cross_val_score(hgbr, X, y, \n",
    "                             cv=KFold(n_splits=10,\n",
    "                                      shuffle=True,\n",
    "                                      random_state=42),\n",
    "                             scoring=\"neg_root_mean_squared_error\"\n",
    "                             #,error_score='raise'\n",
    "                            )\n",
    "    # Return the mean of 10 scores\n",
    "    return scores.mean()"
   ]
  },
  {
   "cell_type": "code",
   "execution_count": 29,
   "id": "3cb7afbe",
   "metadata": {
    "execution": {
     "iopub.execute_input": "2023-07-19T05:30:18.642305Z",
     "iopub.status.busy": "2023-07-19T05:30:18.641901Z",
     "iopub.status.idle": "2023-07-19T05:30:18.648671Z",
     "shell.execute_reply": "2023-07-19T05:30:18.647765Z"
    },
    "papermill": {
     "duration": 0.025767,
     "end_time": "2023-07-19T05:30:18.650893",
     "exception": false,
     "start_time": "2023-07-19T05:30:18.625126",
     "status": "completed"
    },
    "tags": []
   },
   "outputs": [
    {
     "name": "stderr",
     "output_type": "stream",
     "text": [
      "[I 2023-07-19 05:30:18,643] A new study created in memory with name: no-name-bcf173f0-69ef-4658-bb87-3a0ad552871c\n"
     ]
    }
   ],
   "source": [
    "# Create Study object\n",
    "study = optuna.create_study(direction=\"maximize\")"
   ]
  },
  {
   "cell_type": "code",
   "execution_count": 30,
   "id": "442f16b5",
   "metadata": {
    "execution": {
     "iopub.execute_input": "2023-07-19T05:30:18.684051Z",
     "iopub.status.busy": "2023-07-19T05:30:18.683616Z",
     "iopub.status.idle": "2023-07-19T05:37:40.609885Z",
     "shell.execute_reply": "2023-07-19T05:37:40.608856Z"
    },
    "papermill": {
     "duration": 441.946121,
     "end_time": "2023-07-19T05:37:40.612734",
     "exception": false,
     "start_time": "2023-07-19T05:30:18.666613",
     "status": "completed"
    },
    "tags": []
   },
   "outputs": [
    {
     "name": "stderr",
     "output_type": "stream",
     "text": [
      "[I 2023-07-19 05:30:20,005] Trial 0 finished with value: -292361218203.5824 and parameters: {'quantile': 0.3823379655930341, 'learning_rate': 9.455526252468509, 'max_iter': 61, 'max_leaf_nodes': 85, 'max_depth': 4}. Best is trial 0 with value: -292361218203.5824.\n",
      "[I 2023-07-19 05:30:21,459] Trial 1 finished with value: -31987570.408133842 and parameters: {'quantile': 0.14377405493814854, 'learning_rate': 4.396729523726211, 'max_iter': 38, 'max_leaf_nodes': 57, 'max_depth': 10}. Best is trial 1 with value: -31987570.408133842.\n",
      "[I 2023-07-19 05:30:22,906] Trial 2 finished with value: -362958581468903.9 and parameters: {'quantile': 0.14847398751759933, 'learning_rate': 18.239759692057792, 'max_iter': 33, 'max_leaf_nodes': 84, 'max_depth': 6}. Best is trial 1 with value: -31987570.408133842.\n",
      "[I 2023-07-19 05:30:24,300] Trial 3 finished with value: -353622482.0853976 and parameters: {'quantile': 0.9314203005915774, 'learning_rate': 6.081606000358605, 'max_iter': 9, 'max_leaf_nodes': 79, 'max_depth': 6}. Best is trial 1 with value: -31987570.408133842.\n",
      "[I 2023-07-19 05:30:25,810] Trial 4 finished with value: -20675.242755054358 and parameters: {'quantile': 0.9654847737573545, 'learning_rate': 2.6297867687343714, 'max_iter': 82, 'max_leaf_nodes': 60, 'max_depth': 9}. Best is trial 4 with value: -20675.242755054358.\n",
      "[I 2023-07-19 05:30:27,273] Trial 5 finished with value: -119888839755.93991 and parameters: {'quantile': 0.943813560659864, 'learning_rate': 8.734435205915949, 'max_iter': 16, 'max_leaf_nodes': 100, 'max_depth': 12}. Best is trial 4 with value: -20675.242755054358.\n",
      "[I 2023-07-19 05:30:28,716] Trial 6 finished with value: -112376867.93341601 and parameters: {'quantile': 0.6296381505772392, 'learning_rate': 4.851482987633938, 'max_iter': 33, 'max_leaf_nodes': 72, 'max_depth': 10}. Best is trial 4 with value: -20675.242755054358.\n",
      "[I 2023-07-19 05:30:30,158] Trial 7 finished with value: -10871943407.33524 and parameters: {'quantile': 0.39530392542147763, 'learning_rate': 7.083927366688107, 'max_iter': 29, 'max_leaf_nodes': 34, 'max_depth': 12}. Best is trial 4 with value: -20675.242755054358.\n",
      "[I 2023-07-19 05:30:31,607] Trial 8 finished with value: -1174857465.1097322 and parameters: {'quantile': 0.9658972790079567, 'learning_rate': 5.870290042432782, 'max_iter': 57, 'max_leaf_nodes': 83, 'max_depth': 6}. Best is trial 4 with value: -20675.242755054358.\n",
      "[I 2023-07-19 05:30:33,732] Trial 9 finished with value: -916569934639807.8 and parameters: {'quantile': 0.36590341724808273, 'learning_rate': 19.915485567907027, 'max_iter': 22, 'max_leaf_nodes': 6, 'max_depth': 4}. Best is trial 4 with value: -20675.242755054358.\n",
      "[I 2023-07-19 05:30:36,814] Trial 10 finished with value: -91.85574605345661 and parameters: {'quantile': 0.7494730136879661, 'learning_rate': 0.3229922506849392, 'max_iter': 93, 'max_leaf_nodes': 35, 'max_depth': 1}. Best is trial 10 with value: -91.85574605345661.\n",
      "[I 2023-07-19 05:30:39,886] Trial 11 finished with value: -91.79440736089136 and parameters: {'quantile': 0.7732541344468431, 'learning_rate': 0.7454716201411362, 'max_iter': 98, 'max_leaf_nodes': 36, 'max_depth': 1}. Best is trial 11 with value: -91.79440736089136.\n",
      "[I 2023-07-19 05:30:43,063] Trial 12 finished with value: -92.94536193350424 and parameters: {'quantile': 0.7406514705121406, 'learning_rate': 0.10715618193145718, 'max_iter': 100, 'max_leaf_nodes': 30, 'max_depth': 1}. Best is trial 11 with value: -91.79440736089136.\n",
      "[I 2023-07-19 05:30:46,399] Trial 13 finished with value: -91.80317752149456 and parameters: {'quantile': 0.7661688438898344, 'learning_rate': 0.49265018711552155, 'max_iter': 100, 'max_leaf_nodes': 36, 'max_depth': 1}. Best is trial 11 with value: -91.79440736089136.\n",
      "[I 2023-07-19 05:30:47,634] Trial 14 finished with value: -6167.83197913898 and parameters: {'quantile': 0.7926641747803651, 'learning_rate': 2.4442333645911636, 'max_iter': 77, 'max_leaf_nodes': 18, 'max_depth': 3}. Best is trial 11 with value: -91.79440736089136.\n",
      "[I 2023-07-19 05:30:48,771] Trial 15 finished with value: -11584458492966.238 and parameters: {'quantile': 0.6123023397429467, 'learning_rate': 13.236532393779495, 'max_iter': 72, 'max_leaf_nodes': 45, 'max_depth': 2}. Best is trial 11 with value: -91.79440736089136.\n",
      "[I 2023-07-19 05:30:50,014] Trial 16 finished with value: -1165.2741623267286 and parameters: {'quantile': 0.8255352021458088, 'learning_rate': 2.2221058896491543, 'max_iter': 89, 'max_leaf_nodes': 20, 'max_depth': 3}. Best is trial 11 with value: -91.79440736089136.\n",
      "[I 2023-07-19 05:30:53,212] Trial 17 finished with value: -91.93198589245728 and parameters: {'quantile': 0.6829819578912945, 'learning_rate': 0.22817016179896304, 'max_iter': 100, 'max_leaf_nodes': 46, 'max_depth': 1}. Best is trial 11 with value: -91.79440736089136.\n",
      "[I 2023-07-19 05:30:54,325] Trial 18 finished with value: -756320.0141357845 and parameters: {'quantile': 0.8780399629347584, 'learning_rate': 3.3428879130522535, 'max_iter': 69, 'max_leaf_nodes': 3, 'max_depth': 4}. Best is trial 11 with value: -91.79440736089136.\n",
      "[I 2023-07-19 05:30:55,884] Trial 19 finished with value: -20875720953.24847 and parameters: {'quantile': 0.8026191564222596, 'learning_rate': 7.49406587528827, 'max_iter': 48, 'max_leaf_nodes': 18, 'max_depth': 8}. Best is trial 11 with value: -91.79440736089136.\n",
      "[I 2023-07-19 05:30:57,028] Trial 20 finished with value: -2246113005624.4893 and parameters: {'quantile': 0.5454308886369951, 'learning_rate': 11.385185506847684, 'max_iter': 86, 'max_leaf_nodes': 63, 'max_depth': 2}. Best is trial 11 with value: -91.79440736089136.\n",
      "[I 2023-07-19 05:30:59,448] Trial 21 finished with value: -91.78488901237105 and parameters: {'quantile': 0.734371848605306, 'learning_rate': 1.2456987084727622, 'max_iter': 92, 'max_leaf_nodes': 35, 'max_depth': 1}. Best is trial 21 with value: -91.78488901237105.\n",
      "[I 2023-07-19 05:31:03,178] Trial 22 finished with value: -40.0024335971602 and parameters: {'quantile': 0.850413551373345, 'learning_rate': 1.4414064386294911, 'max_iter': 94, 'max_leaf_nodes': 42, 'max_depth': 2}. Best is trial 22 with value: -40.0024335971602.\n",
      "[I 2023-07-19 05:31:09,034] Trial 23 finished with value: -42.941202597584244 and parameters: {'quantile': 0.8649251450712638, 'learning_rate': 1.900078660584336, 'max_iter': 91, 'max_leaf_nodes': 47, 'max_depth': 3}. Best is trial 22 with value: -40.0024335971602.\n",
      "[I 2023-07-19 05:31:10,271] Trial 24 finished with value: -3321854.1074994775 and parameters: {'quantile': 0.8659880784325371, 'learning_rate': 3.7086648792154095, 'max_iter': 80, 'max_leaf_nodes': 51, 'max_depth': 3}. Best is trial 22 with value: -40.0024335971602.\n",
      "[I 2023-07-19 05:31:16,021] Trial 25 finished with value: -37.873395968741804 and parameters: {'quantile': 0.8744370575997338, 'learning_rate': 1.5890807594878322, 'max_iter': 68, 'max_leaf_nodes': 26, 'max_depth': 5}. Best is trial 25 with value: -37.873395968741804.\n",
      "[I 2023-07-19 05:31:17,501] Trial 26 finished with value: -15224673.50123709 and parameters: {'quantile': 0.8858861442999303, 'learning_rate': 4.153692201800467, 'max_iter': 66, 'max_leaf_nodes': 24, 'max_depth': 5}. Best is trial 25 with value: -37.873395968741804.\n",
      "[I 2023-07-19 05:31:23,351] Trial 27 finished with value: -44.74234664241623 and parameters: {'quantile': 0.875655747206688, 'learning_rate': 1.9320636891864018, 'max_iter': 75, 'max_leaf_nodes': 44, 'max_depth': 5}. Best is trial 25 with value: -37.873395968741804.\n",
      "[I 2023-07-19 05:31:24,850] Trial 28 finished with value: -118575.93432246 and parameters: {'quantile': 0.9985005825087971, 'learning_rate': 2.9407906065981004, 'max_iter': 49, 'max_leaf_nodes': 68, 'max_depth': 7}. Best is trial 25 with value: -37.873395968741804.\n",
      "[I 2023-07-19 05:31:26,225] Trial 29 finished with value: -142997952.56284446 and parameters: {'quantile': 0.8385234437614972, 'learning_rate': 4.945398894134561, 'max_iter': 59, 'max_leaf_nodes': 51, 'max_depth': 4}. Best is trial 25 with value: -37.873395968741804.\n",
      "[I 2023-07-19 05:31:29,661] Trial 30 finished with value: -66.93488202907932 and parameters: {'quantile': 0.9095799266817407, 'learning_rate': 1.9634495524388313, 'max_iter': 83, 'max_leaf_nodes': 9, 'max_depth': 2}. Best is trial 25 with value: -37.873395968741804.\n",
      "[I 2023-07-19 05:31:37,007] Trial 31 finished with value: -38.65481166171366 and parameters: {'quantile': 0.8621630812098773, 'learning_rate': 1.7641934020342143, 'max_iter': 74, 'max_leaf_nodes': 43, 'max_depth': 5}. Best is trial 25 with value: -37.873395968741804.\n",
      "[I 2023-07-19 05:31:42,436] Trial 32 finished with value: -38.70824328921366 and parameters: {'quantile': 0.8389953855211598, 'learning_rate': 1.7343837365282266, 'max_iter': 64, 'max_leaf_nodes': 42, 'max_depth': 5}. Best is trial 25 with value: -37.873395968741804.\n",
      "[I 2023-07-19 05:31:43,922] Trial 33 finished with value: -1759971.485879029 and parameters: {'quantile': 0.9917463897473346, 'learning_rate': 3.5416788170128477, 'max_iter': 65, 'max_leaf_nodes': 28, 'max_depth': 5}. Best is trial 25 with value: -37.873395968741804.\n",
      "[I 2023-07-19 05:31:50,195] Trial 34 finished with value: -37.00056634130796 and parameters: {'quantile': 0.9087991163406526, 'learning_rate': 1.312268087967564, 'max_iter': 53, 'max_leaf_nodes': 41, 'max_depth': 7}. Best is trial 34 with value: -37.00056634130796.\n",
      "[I 2023-07-19 05:31:51,672] Trial 35 finished with value: -68174710.26937696 and parameters: {'quantile': 0.9152557902685307, 'learning_rate': 4.663701575222081, 'max_iter': 54, 'max_leaf_nodes': 12, 'max_depth': 7}. Best is trial 34 with value: -37.00056634130796.\n",
      "[I 2023-07-19 05:31:53,221] Trial 36 finished with value: -126489.97377669733 and parameters: {'quantile': 0.9331571509688005, 'learning_rate': 2.9533694679985913, 'max_iter': 45, 'max_leaf_nodes': 27, 'max_depth': 8}. Best is trial 34 with value: -37.00056634130796.\n",
      "[I 2023-07-19 05:31:58,128] Trial 37 finished with value: -37.409244209754334 and parameters: {'quantile': 0.829337768110297, 'learning_rate': 1.2033756193346286, 'max_iter': 41, 'max_leaf_nodes': 54, 'max_depth': 6}. Best is trial 34 with value: -37.00056634130796.\n",
      "[I 2023-07-19 05:31:59,650] Trial 38 finished with value: -521060173.65116787 and parameters: {'quantile': 0.9655000860073603, 'learning_rate': 5.490000302191973, 'max_iter': 40, 'max_leaf_nodes': 57, 'max_depth': 6}. Best is trial 34 with value: -37.00056634130796.\n",
      "[I 2023-07-19 05:32:01,191] Trial 39 finished with value: -9086267.92443476 and parameters: {'quantile': 0.9174794815484948, 'learning_rate': 3.9950514769064287, 'max_iter': 54, 'max_leaf_nodes': 57, 'max_depth': 8}. Best is trial 34 with value: -37.00056634130796.\n",
      "[I 2023-07-19 05:32:02,397] Trial 40 finished with value: -46.69783551570351 and parameters: {'quantile': 0.8183105971950115, 'learning_rate': 1.2802065848584097, 'max_iter': 4, 'max_leaf_nodes': 75, 'max_depth': 7}. Best is trial 34 with value: -37.00056634130796.\n",
      "[I 2023-07-19 05:32:03,940] Trial 41 finished with value: -51700.901502088 and parameters: {'quantile': 0.9395346380378603, 'learning_rate': 2.786208037754845, 'max_iter': 61, 'max_leaf_nodes': 40, 'max_depth': 6}. Best is trial 34 with value: -37.00056634130796.\n",
      "[I 2023-07-19 05:32:08,551] Trial 42 finished with value: -37.978545761608345 and parameters: {'quantile': 0.822861911458338, 'learning_rate': 1.234685294916503, 'max_iter': 35, 'max_leaf_nodes': 52, 'max_depth': 5}. Best is trial 34 with value: -37.00056634130796.\n",
      "[I 2023-07-19 05:32:12,134] Trial 43 finished with value: -37.801696536161785 and parameters: {'quantile': 0.8000819746918758, 'learning_rate': 1.249936474518069, 'max_iter': 29, 'max_leaf_nodes': 52, 'max_depth': 6}. Best is trial 34 with value: -37.00056634130796.\n",
      "[I 2023-07-19 05:32:16,308] Trial 44 finished with value: -36.856058730225236 and parameters: {'quantile': 0.7916619761626448, 'learning_rate': 1.0113945782748028, 'max_iter': 27, 'max_leaf_nodes': 52, 'max_depth': 9}. Best is trial 44 with value: -36.856058730225236.\n",
      "[I 2023-07-19 05:32:19,581] Trial 45 finished with value: -49.550214570607395 and parameters: {'quantile': 0.7131703769978397, 'learning_rate': 0.14632354079462329, 'max_iter': 27, 'max_leaf_nodes': 65, 'max_depth': 10}. Best is trial 44 with value: -36.856058730225236.\n",
      "[I 2023-07-19 05:32:22,397] Trial 46 finished with value: -38.049226863584025 and parameters: {'quantile': 0.7847151402023614, 'learning_rate': 0.8390269910587593, 'max_iter': 16, 'max_leaf_nodes': 62, 'max_depth': 9}. Best is trial 44 with value: -36.856058730225236.\n",
      "[I 2023-07-19 05:32:23,929] Trial 47 finished with value: -43882.13530395158 and parameters: {'quantile': 0.7886012051801697, 'learning_rate': 2.757161379389073, 'max_iter': 40, 'max_leaf_nodes': 53, 'max_depth': 11}. Best is trial 44 with value: -36.856058730225236.\n",
      "[I 2023-07-19 05:32:25,513] Trial 48 finished with value: -18553374.8184204 and parameters: {'quantile': 0.693342818541653, 'learning_rate': 4.21666876324347, 'max_iter': 27, 'max_leaf_nodes': 93, 'max_depth': 9}. Best is trial 44 with value: -36.856058730225236.\n",
      "[I 2023-07-19 05:32:27,027] Trial 49 finished with value: -1645012467.135072 and parameters: {'quantile': 0.7530648389815561, 'learning_rate': 6.037009012108178, 'max_iter': 20, 'max_leaf_nodes': 70, 'max_depth': 11}. Best is trial 44 with value: -36.856058730225236.\n",
      "[I 2023-07-19 05:32:31,832] Trial 50 finished with value: -37.31021055253999 and parameters: {'quantile': 0.902441859049626, 'learning_rate': 0.7259780030366132, 'max_iter': 43, 'max_leaf_nodes': 57, 'max_depth': 6}. Best is trial 44 with value: -36.856058730225236.\n",
      "[I 2023-07-19 05:32:36,700] Trial 51 finished with value: -37.226135489732975 and parameters: {'quantile': 0.8983812245026579, 'learning_rate': 0.8121238942235082, 'max_iter': 42, 'max_leaf_nodes': 57, 'max_depth': 6}. Best is trial 44 with value: -36.856058730225236.\n",
      "[I 2023-07-19 05:32:42,864] Trial 52 finished with value: -37.10698909326808 and parameters: {'quantile': 0.9605653143630456, 'learning_rate': 0.875877563463366, 'max_iter': 44, 'max_leaf_nodes': 59, 'max_depth': 6}. Best is trial 44 with value: -36.856058730225236.\n",
      "[I 2023-07-19 05:32:47,528] Trial 53 finished with value: -42.63506213301312 and parameters: {'quantile': 0.9615106756809257, 'learning_rate': 0.18549115235069535, 'max_iter': 43, 'max_leaf_nodes': 59, 'max_depth': 7}. Best is trial 44 with value: -36.856058730225236.\n",
      "[I 2023-07-19 05:32:51,479] Trial 54 finished with value: -37.54196417411869 and parameters: {'quantile': 0.9050278709302835, 'learning_rate': 0.7349175307933142, 'max_iter': 34, 'max_leaf_nodes': 76, 'max_depth': 6}. Best is trial 44 with value: -36.856058730225236.\n",
      "[I 2023-07-19 05:32:52,973] Trial 55 finished with value: -6116.895216406955 and parameters: {'quantile': 0.9551318461594467, 'learning_rate': 2.4429096543948674, 'max_iter': 45, 'max_leaf_nodes': 67, 'max_depth': 8}. Best is trial 44 with value: -36.856058730225236.\n",
      "[I 2023-07-19 05:32:54,487] Trial 56 finished with value: -433530.10495317297 and parameters: {'quantile': 0.9899930710777958, 'learning_rate': 3.209410287359395, 'max_iter': 56, 'max_leaf_nodes': 56, 'max_depth': 7}. Best is trial 44 with value: -36.856058730225236.\n",
      "[I 2023-07-19 05:33:00,926] Trial 57 finished with value: -36.62276249928163 and parameters: {'quantile': 0.9330722072568673, 'learning_rate': 0.7336832414526875, 'max_iter': 50, 'max_leaf_nodes': 48, 'max_depth': 9}. Best is trial 57 with value: -36.62276249928163.\n",
      "[I 2023-07-19 05:33:02,437] Trial 58 finished with value: -4884.140350158528 and parameters: {'quantile': 0.9329621966480699, 'learning_rate': 2.4107906306914044, 'max_iter': 51, 'max_leaf_nodes': 49, 'max_depth': 9}. Best is trial 57 with value: -36.62276249928163.\n",
      "[I 2023-07-19 05:33:11,077] Trial 59 finished with value: -36.379669730700805 and parameters: {'quantile': 0.9047783617330045, 'learning_rate': 0.7836596171960936, 'max_iter': 51, 'max_leaf_nodes': 61, 'max_depth': 10}. Best is trial 59 with value: -36.379669730700805.\n",
      "[I 2023-07-19 05:33:15,587] Trial 60 finished with value: -41.743958521348794 and parameters: {'quantile': 0.9693306460906058, 'learning_rate': 0.22532136708121653, 'max_iter': 36, 'max_leaf_nodes': 61, 'max_depth': 11}. Best is trial 59 with value: -36.379669730700805.\n",
      "[I 2023-07-19 05:33:21,558] Trial 61 finished with value: -36.64622979289211 and parameters: {'quantile': 0.8949086504751705, 'learning_rate': 0.710990197251242, 'max_iter': 47, 'max_leaf_nodes': 48, 'max_depth': 10}. Best is trial 59 with value: -36.379669730700805.\n",
      "[I 2023-07-19 05:33:23,080] Trial 62 finished with value: -971.9988625420167 and parameters: {'quantile': 0.8997907019815252, 'learning_rate': 2.199852864744889, 'max_iter': 51, 'max_leaf_nodes': 39, 'max_depth': 10}. Best is trial 59 with value: -36.379669730700805.\n",
      "[I 2023-07-19 05:33:30,693] Trial 63 finished with value: -36.374171744931644 and parameters: {'quantile': 0.9377289505789698, 'learning_rate': 0.719383342181442, 'max_iter': 61, 'max_leaf_nodes': 48, 'max_depth': 10}. Best is trial 63 with value: -36.374171744931644.\n",
      "[I 2023-07-19 05:33:38,366] Trial 64 finished with value: -36.31484765362189 and parameters: {'quantile': 0.9492121327380852, 'learning_rate': 0.7961773269155056, 'max_iter': 61, 'max_leaf_nodes': 48, 'max_depth': 10}. Best is trial 64 with value: -36.31484765362189.\n",
      "[I 2023-07-19 05:33:39,903] Trial 65 finished with value: -1730199.2870192789 and parameters: {'quantile': 0.9266391201016182, 'learning_rate': 3.5373464417711658, 'max_iter': 61, 'max_leaf_nodes': 32, 'max_depth': 12}. Best is trial 64 with value: -36.31484765362189.\n",
      "[I 2023-07-19 05:33:46,931] Trial 66 finished with value: -44.341087324809905 and parameters: {'quantile': 0.8589796715646396, 'learning_rate': 0.10469213836668778, 'max_iter': 57, 'max_leaf_nodes': 45, 'max_depth': 10}. Best is trial 64 with value: -36.31484765362189.\n",
      "[I 2023-07-19 05:33:54,409] Trial 67 finished with value: -38.52326518103808 and parameters: {'quantile': 0.8810012533876403, 'learning_rate': 1.8168499084585301, 'max_iter': 70, 'max_leaf_nodes': 38, 'max_depth': 9}. Best is trial 64 with value: -36.31484765362189.\n",
      "[I 2023-07-19 05:33:55,985] Trial 68 finished with value: -590.3823574488902 and parameters: {'quantile': 0.9440572262494589, 'learning_rate': 2.140405792203843, 'max_iter': 48, 'max_leaf_nodes': 47, 'max_depth': 11}. Best is trial 64 with value: -36.31484765362189.\n",
      "[I 2023-07-19 05:33:57,505] Trial 69 finished with value: -369117.2343509629 and parameters: {'quantile': 0.9990021563852136, 'learning_rate': 3.1741595720494, 'max_iter': 53, 'max_leaf_nodes': 49, 'max_depth': 10}. Best is trial 64 with value: -36.31484765362189.\n",
      "[I 2023-07-19 05:34:05,378] Trial 70 finished with value: -36.841662640522 and parameters: {'quantile': 0.8530189979129456, 'learning_rate': 1.4952826376416812, 'max_iter': 60, 'max_leaf_nodes': 48, 'max_depth': 10}. Best is trial 64 with value: -36.31484765362189.\n",
      "[I 2023-07-19 05:34:14,143] Trial 71 finished with value: -36.91749873275462 and parameters: {'quantile': 0.8633645638485462, 'learning_rate': 1.4517901500508696, 'max_iter': 63, 'max_leaf_nodes': 47, 'max_depth': 10}. Best is trial 64 with value: -36.31484765362189.\n",
      "[I 2023-07-19 05:34:21,889] Trial 72 finished with value: -36.502511542519834 and parameters: {'quantile': 0.8493832323481139, 'learning_rate': 0.5969422630335973, 'max_iter': 63, 'max_leaf_nodes': 48, 'max_depth': 10}. Best is trial 64 with value: -36.31484765362189.\n",
      "[I 2023-07-19 05:34:29,623] Trial 73 finished with value: -36.44372371265977 and parameters: {'quantile': 0.8141013085164194, 'learning_rate': 0.637196219375126, 'max_iter': 61, 'max_leaf_nodes': 49, 'max_depth': 11}. Best is trial 64 with value: -36.31484765362189.\n",
      "[I 2023-07-19 05:34:37,022] Trial 74 finished with value: -36.38989264852244 and parameters: {'quantile': 0.8412853756632669, 'learning_rate': 0.718745352590867, 'max_iter': 58, 'max_leaf_nodes': 49, 'max_depth': 11}. Best is trial 64 with value: -36.31484765362189.\n",
      "[I 2023-07-19 05:34:45,010] Trial 75 finished with value: -36.71115672780421 and parameters: {'quantile': 0.8192607806949461, 'learning_rate': 0.558346728797245, 'max_iter': 57, 'max_leaf_nodes': 44, 'max_depth': 11}. Best is trial 64 with value: -36.31484765362189.\n",
      "[I 2023-07-19 05:34:46,578] Trial 76 finished with value: -5303.183048766348 and parameters: {'quantile': 0.8878697394958575, 'learning_rate': 2.42245464659062, 'max_iter': 66, 'max_leaf_nodes': 64, 'max_depth': 12}. Best is trial 64 with value: -36.31484765362189.\n",
      "[I 2023-07-19 05:34:48,116] Trial 77 finished with value: -545.4242235166291 and parameters: {'quantile': 0.8443583984050121, 'learning_rate': 2.13110988625374, 'max_iter': 47, 'max_leaf_nodes': 37, 'max_depth': 11}. Best is trial 64 with value: -36.31484765362189.\n",
      "[I 2023-07-19 05:34:55,526] Trial 78 finished with value: -36.68086014307038 and parameters: {'quantile': 0.926725877664395, 'learning_rate': 0.5358085638142709, 'max_iter': 72, 'max_leaf_nodes': 33, 'max_depth': 11}. Best is trial 64 with value: -36.31484765362189.\n",
      "[I 2023-07-19 05:35:04,522] Trial 79 finished with value: -37.373107035324054 and parameters: {'quantile': 0.8857277766208961, 'learning_rate': 1.6603497958338576, 'max_iter': 68, 'max_leaf_nodes': 54, 'max_depth': 10}. Best is trial 64 with value: -36.31484765362189.\n",
      "[I 2023-07-19 05:35:11,001] Trial 80 finished with value: -43.74638946080974 and parameters: {'quantile': 0.7726839909846748, 'learning_rate': 0.10712551836719453, 'max_iter': 62, 'max_leaf_nodes': 42, 'max_depth': 12}. Best is trial 64 with value: -36.31484765362189.\n",
      "[I 2023-07-19 05:35:19,616] Trial 81 finished with value: -36.5646493749107 and parameters: {'quantile': 0.9441455873184805, 'learning_rate': 0.6173964136469154, 'max_iter': 73, 'max_leaf_nodes': 34, 'max_depth': 11}. Best is trial 64 with value: -36.31484765362189.\n",
      "[I 2023-07-19 05:35:29,589] Trial 82 finished with value: -36.27474216168817 and parameters: {'quantile': 0.9736851517837409, 'learning_rate': 0.8502381965956528, 'max_iter': 78, 'max_leaf_nodes': 49, 'max_depth': 10}. Best is trial 82 with value: -36.27474216168817.\n",
      "[I 2023-07-19 05:35:39,840] Trial 83 finished with value: -36.325235498370986 and parameters: {'quantile': 0.9709570932297531, 'learning_rate': 1.0841658754087276, 'max_iter': 78, 'max_leaf_nodes': 50, 'max_depth': 11}. Best is trial 82 with value: -36.27474216168817.\n",
      "[I 2023-07-19 05:35:41,370] Trial 84 finished with value: -38482.631379461265 and parameters: {'quantile': 0.9693289826125505, 'learning_rate': 2.7342426678586937, 'max_iter': 79, 'max_leaf_nodes': 23, 'max_depth': 12}. Best is trial 82 with value: -36.27474216168817.\n",
      "[I 2023-07-19 05:35:52,112] Trial 85 finished with value: -36.43020122683667 and parameters: {'quantile': 0.9805670525575199, 'learning_rate': 1.174663312886662, 'max_iter': 74, 'max_leaf_nodes': 50, 'max_depth': 11}. Best is trial 82 with value: -36.27474216168817.\n",
      "[I 2023-07-19 05:36:02,716] Trial 86 finished with value: -37.39751115413557 and parameters: {'quantile': 0.9795575163774028, 'learning_rate': 1.7167309879612227, 'max_iter': 84, 'max_leaf_nodes': 50, 'max_depth': 11}. Best is trial 82 with value: -36.27474216168817.\n",
      "[I 2023-07-19 05:36:13,388] Trial 87 finished with value: -36.60243195126357 and parameters: {'quantile': 0.9749882379176124, 'learning_rate': 1.4093964679280515, 'max_iter': 77, 'max_leaf_nodes': 55, 'max_depth': 12}. Best is trial 82 with value: -36.27474216168817.\n",
      "[I 2023-07-19 05:36:23,507] Trial 88 finished with value: -36.28697098611215 and parameters: {'quantile': 0.992544073395836, 'learning_rate': 0.994465992469557, 'max_iter': 76, 'max_leaf_nodes': 45, 'max_depth': 11}. Best is trial 82 with value: -36.27474216168817.\n",
      "[I 2023-07-19 05:36:33,535] Trial 89 finished with value: -36.43515548063329 and parameters: {'quantile': 0.9763477343069183, 'learning_rate': 1.2004494253325366, 'max_iter': 86, 'max_leaf_nodes': 43, 'max_depth': 11}. Best is trial 82 with value: -36.27474216168817.\n",
      "[I 2023-07-19 05:36:40,309] Trial 90 finished with value: -115.98739703688315 and parameters: {'quantile': 0.9935930994064964, 'learning_rate': 1.9912408491068003, 'max_iter': 86, 'max_leaf_nodes': 45, 'max_depth': 12}. Best is trial 82 with value: -36.27474216168817.\n",
      "[I 2023-07-19 05:36:51,714] Trial 91 finished with value: -36.34245803878587 and parameters: {'quantile': 0.9550784591906771, 'learning_rate': 1.1454448102466874, 'max_iter': 81, 'max_leaf_nodes': 51, 'max_depth': 11}. Best is trial 82 with value: -36.27474216168817.\n",
      "[I 2023-07-19 05:37:01,540] Trial 92 finished with value: -36.31216258172556 and parameters: {'quantile': 0.953692572419409, 'learning_rate': 1.0893002281909139, 'max_iter': 89, 'max_leaf_nodes': 40, 'max_depth': 11}. Best is trial 82 with value: -36.27474216168817.\n",
      "[I 2023-07-19 05:37:11,436] Trial 93 finished with value: -36.29589079269374 and parameters: {'quantile': 0.9502661087686166, 'learning_rate': 1.01535376754512, 'max_iter': 95, 'max_leaf_nodes': 51, 'max_depth': 11}. Best is trial 82 with value: -36.27474216168817.\n",
      "[I 2023-07-19 05:37:12,966] Trial 94 finished with value: -11559.867337279426 and parameters: {'quantile': 0.9516184237582168, 'learning_rate': 2.5377386860659836, 'max_iter': 97, 'max_leaf_nodes': 40, 'max_depth': 10}. Best is trial 82 with value: -36.27474216168817.\n",
      "[I 2023-07-19 05:37:14,505] Trial 95 finished with value: -217492.41888097365 and parameters: {'quantile': 0.9484232712498756, 'learning_rate': 3.0621546184000694, 'max_iter': 89, 'max_leaf_nodes': 54, 'max_depth': 12}. Best is trial 82 with value: -36.27474216168817.\n",
      "[I 2023-07-19 05:37:25,559] Trial 96 finished with value: -36.30298599742518 and parameters: {'quantile': 0.9196458096070611, 'learning_rate': 1.0507732162412498, 'max_iter': 95, 'max_leaf_nodes': 59, 'max_depth': 11}. Best is trial 82 with value: -36.27474216168817.\n",
      "[I 2023-07-19 05:37:27,110] Trial 97 finished with value: -7182959.535350496 and parameters: {'quantile': 0.9180731656832722, 'learning_rate': 3.9254768178440647, 'max_iter': 94, 'max_leaf_nodes': 59, 'max_depth': 10}. Best is trial 82 with value: -36.27474216168817.\n",
      "[I 2023-07-19 05:37:39,089] Trial 98 finished with value: -36.7880748543922 and parameters: {'quantile': 0.9958680383889604, 'learning_rate': 1.5733869357598795, 'max_iter': 80, 'max_leaf_nodes': 66, 'max_depth': 11}. Best is trial 82 with value: -36.27474216168817.\n",
      "[I 2023-07-19 05:37:40,605] Trial 99 finished with value: -445.04732456352093 and parameters: {'quantile': 0.9175249231395045, 'learning_rate': 2.1073216517563718, 'max_iter': 90, 'max_leaf_nodes': 60, 'max_depth': 9}. Best is trial 82 with value: -36.27474216168817.\n"
     ]
    }
   ],
   "source": [
    "# Optimize the study, use more trials to obtain better result, use less trials to be more cost-efficient\n",
    "study.optimize(hgbr_objective, n_trials=100) # Use more"
   ]
  },
  {
   "cell_type": "code",
   "execution_count": 31,
   "id": "a5bb4881",
   "metadata": {
    "execution": {
     "iopub.execute_input": "2023-07-19T05:37:40.665626Z",
     "iopub.status.busy": "2023-07-19T05:37:40.665157Z",
     "iopub.status.idle": "2023-07-19T05:37:40.671538Z",
     "shell.execute_reply": "2023-07-19T05:37:40.670367Z"
    },
    "papermill": {
     "duration": 0.035173,
     "end_time": "2023-07-19T05:37:40.673859",
     "exception": false,
     "start_time": "2023-07-19T05:37:40.638686",
     "status": "completed"
    },
    "tags": []
   },
   "outputs": [],
   "source": [
    "# Print the result\n",
    "best_params = study.best_params\n",
    "best_score = study.best_value"
   ]
  },
  {
   "cell_type": "code",
   "execution_count": 32,
   "id": "bdd27ae3",
   "metadata": {
    "execution": {
     "iopub.execute_input": "2023-07-19T05:37:40.725785Z",
     "iopub.status.busy": "2023-07-19T05:37:40.725347Z",
     "iopub.status.idle": "2023-07-19T05:37:40.731924Z",
     "shell.execute_reply": "2023-07-19T05:37:40.731053Z"
    },
    "papermill": {
     "duration": 0.035223,
     "end_time": "2023-07-19T05:37:40.734001",
     "exception": false,
     "start_time": "2023-07-19T05:37:40.698778",
     "status": "completed"
    },
    "tags": []
   },
   "outputs": [
    {
     "data": {
      "text/plain": [
       "-36.27474216168817"
      ]
     },
     "execution_count": 32,
     "metadata": {},
     "output_type": "execute_result"
    }
   ],
   "source": [
    "best_score"
   ]
  },
  {
   "cell_type": "code",
   "execution_count": 33,
   "id": "b6d261fe",
   "metadata": {
    "execution": {
     "iopub.execute_input": "2023-07-19T05:37:40.785955Z",
     "iopub.status.busy": "2023-07-19T05:37:40.785555Z",
     "iopub.status.idle": "2023-07-19T05:37:40.790933Z",
     "shell.execute_reply": "2023-07-19T05:37:40.789796Z"
    },
    "papermill": {
     "duration": 0.034323,
     "end_time": "2023-07-19T05:37:40.793408",
     "exception": false,
     "start_time": "2023-07-19T05:37:40.759085",
     "status": "completed"
    },
    "tags": []
   },
   "outputs": [],
   "source": [
    "hgbr= HistGradientBoostingRegressor(**best_params,random_state=42)"
   ]
  },
  {
   "cell_type": "code",
   "execution_count": 34,
   "id": "fb26e82d",
   "metadata": {
    "execution": {
     "iopub.execute_input": "2023-07-19T05:37:40.846425Z",
     "iopub.status.busy": "2023-07-19T05:37:40.845113Z",
     "iopub.status.idle": "2023-07-19T05:37:41.774918Z",
     "shell.execute_reply": "2023-07-19T05:37:41.773921Z"
    },
    "papermill": {
     "duration": 0.959086,
     "end_time": "2023-07-19T05:37:41.777773",
     "exception": false,
     "start_time": "2023-07-19T05:37:40.818687",
     "status": "completed"
    },
    "tags": []
   },
   "outputs": [
    {
     "data": {
      "text/html": [
       "<style>#sk-container-id-1 {color: black;background-color: white;}#sk-container-id-1 pre{padding: 0;}#sk-container-id-1 div.sk-toggleable {background-color: white;}#sk-container-id-1 label.sk-toggleable__label {cursor: pointer;display: block;width: 100%;margin-bottom: 0;padding: 0.3em;box-sizing: border-box;text-align: center;}#sk-container-id-1 label.sk-toggleable__label-arrow:before {content: \"▸\";float: left;margin-right: 0.25em;color: #696969;}#sk-container-id-1 label.sk-toggleable__label-arrow:hover:before {color: black;}#sk-container-id-1 div.sk-estimator:hover label.sk-toggleable__label-arrow:before {color: black;}#sk-container-id-1 div.sk-toggleable__content {max-height: 0;max-width: 0;overflow: hidden;text-align: left;background-color: #f0f8ff;}#sk-container-id-1 div.sk-toggleable__content pre {margin: 0.2em;color: black;border-radius: 0.25em;background-color: #f0f8ff;}#sk-container-id-1 input.sk-toggleable__control:checked~div.sk-toggleable__content {max-height: 200px;max-width: 100%;overflow: auto;}#sk-container-id-1 input.sk-toggleable__control:checked~label.sk-toggleable__label-arrow:before {content: \"▾\";}#sk-container-id-1 div.sk-estimator input.sk-toggleable__control:checked~label.sk-toggleable__label {background-color: #d4ebff;}#sk-container-id-1 div.sk-label input.sk-toggleable__control:checked~label.sk-toggleable__label {background-color: #d4ebff;}#sk-container-id-1 input.sk-hidden--visually {border: 0;clip: rect(1px 1px 1px 1px);clip: rect(1px, 1px, 1px, 1px);height: 1px;margin: -1px;overflow: hidden;padding: 0;position: absolute;width: 1px;}#sk-container-id-1 div.sk-estimator {font-family: monospace;background-color: #f0f8ff;border: 1px dotted black;border-radius: 0.25em;box-sizing: border-box;margin-bottom: 0.5em;}#sk-container-id-1 div.sk-estimator:hover {background-color: #d4ebff;}#sk-container-id-1 div.sk-parallel-item::after {content: \"\";width: 100%;border-bottom: 1px solid gray;flex-grow: 1;}#sk-container-id-1 div.sk-label:hover label.sk-toggleable__label {background-color: #d4ebff;}#sk-container-id-1 div.sk-serial::before {content: \"\";position: absolute;border-left: 1px solid gray;box-sizing: border-box;top: 0;bottom: 0;left: 50%;z-index: 0;}#sk-container-id-1 div.sk-serial {display: flex;flex-direction: column;align-items: center;background-color: white;padding-right: 0.2em;padding-left: 0.2em;position: relative;}#sk-container-id-1 div.sk-item {position: relative;z-index: 1;}#sk-container-id-1 div.sk-parallel {display: flex;align-items: stretch;justify-content: center;background-color: white;position: relative;}#sk-container-id-1 div.sk-item::before, #sk-container-id-1 div.sk-parallel-item::before {content: \"\";position: absolute;border-left: 1px solid gray;box-sizing: border-box;top: 0;bottom: 0;left: 50%;z-index: -1;}#sk-container-id-1 div.sk-parallel-item {display: flex;flex-direction: column;z-index: 1;position: relative;background-color: white;}#sk-container-id-1 div.sk-parallel-item:first-child::after {align-self: flex-end;width: 50%;}#sk-container-id-1 div.sk-parallel-item:last-child::after {align-self: flex-start;width: 50%;}#sk-container-id-1 div.sk-parallel-item:only-child::after {width: 0;}#sk-container-id-1 div.sk-dashed-wrapped {border: 1px dashed gray;margin: 0 0.4em 0.5em 0.4em;box-sizing: border-box;padding-bottom: 0.4em;background-color: white;}#sk-container-id-1 div.sk-label label {font-family: monospace;font-weight: bold;display: inline-block;line-height: 1.2em;}#sk-container-id-1 div.sk-label-container {text-align: center;}#sk-container-id-1 div.sk-container {/* jupyter's `normalize.less` sets `[hidden] { display: none; }` but bootstrap.min.css set `[hidden] { display: none !important; }` so we also need the `!important` here to be able to override the default hidden behavior on the sphinx rendered scikit-learn.org. See: https://github.com/scikit-learn/scikit-learn/issues/21755 */display: inline-block !important;position: relative;}#sk-container-id-1 div.sk-text-repr-fallback {display: none;}</style><div id=\"sk-container-id-1\" class=\"sk-top-container\"><div class=\"sk-text-repr-fallback\"><pre>HistGradientBoostingRegressor(learning_rate=0.8502381965956528, max_depth=10,\n",
       "                              max_iter=78, max_leaf_nodes=49,\n",
       "                              quantile=0.9736851517837409, random_state=42)</pre><b>In a Jupyter environment, please rerun this cell to show the HTML representation or trust the notebook. <br />On GitHub, the HTML representation is unable to render, please try loading this page with nbviewer.org.</b></div><div class=\"sk-container\" hidden><div class=\"sk-item\"><div class=\"sk-estimator sk-toggleable\"><input class=\"sk-toggleable__control sk-hidden--visually\" id=\"sk-estimator-id-1\" type=\"checkbox\" checked><label for=\"sk-estimator-id-1\" class=\"sk-toggleable__label sk-toggleable__label-arrow\">HistGradientBoostingRegressor</label><div class=\"sk-toggleable__content\"><pre>HistGradientBoostingRegressor(learning_rate=0.8502381965956528, max_depth=10,\n",
       "                              max_iter=78, max_leaf_nodes=49,\n",
       "                              quantile=0.9736851517837409, random_state=42)</pre></div></div></div></div></div>"
      ],
      "text/plain": [
       "HistGradientBoostingRegressor(learning_rate=0.8502381965956528, max_depth=10,\n",
       "                              max_iter=78, max_leaf_nodes=49,\n",
       "                              quantile=0.9736851517837409, random_state=42)"
      ]
     },
     "execution_count": 34,
     "metadata": {},
     "output_type": "execute_result"
    }
   ],
   "source": [
    "hgbr.fit(X,y)"
   ]
  },
  {
   "cell_type": "code",
   "execution_count": 35,
   "id": "31264573",
   "metadata": {
    "execution": {
     "iopub.execute_input": "2023-07-19T05:37:41.831022Z",
     "iopub.status.busy": "2023-07-19T05:37:41.830614Z",
     "iopub.status.idle": "2023-07-19T05:37:41.836038Z",
     "shell.execute_reply": "2023-07-19T05:37:41.834835Z"
    },
    "papermill": {
     "duration": 0.035103,
     "end_time": "2023-07-19T05:37:41.838504",
     "exception": false,
     "start_time": "2023-07-19T05:37:41.803401",
     "status": "completed"
    },
    "tags": []
   },
   "outputs": [],
   "source": [
    "#for c in countries:\n",
    "   # train= train[train['country']==c]\n",
    "   # for s in stores:\n",
    "    # train = train[train['store']==s]\n",
    "   #  new_column= train[['date','num_sold']]\n",
    "   #  new_column.columns = ['ds', 'y'] \n",
    "   #  new_column = new_column.drop_duplicates(subset= 'ds', keep='last')\n",
    "     \n",
    "   #  model = n.fit(new_column, freq='D', epochs=10,batch_size=6)"
   ]
  },
  {
   "cell_type": "code",
   "execution_count": 36,
   "id": "42295343",
   "metadata": {
    "execution": {
     "iopub.execute_input": "2023-07-19T05:37:41.893878Z",
     "iopub.status.busy": "2023-07-19T05:37:41.893460Z",
     "iopub.status.idle": "2023-07-19T05:37:41.908723Z",
     "shell.execute_reply": "2023-07-19T05:37:41.907412Z"
    },
    "papermill": {
     "duration": 0.04598,
     "end_time": "2023-07-19T05:37:41.911035",
     "exception": false,
     "start_time": "2023-07-19T05:37:41.865055",
     "status": "completed"
    },
    "tags": []
   },
   "outputs": [
    {
     "data": {
      "text/html": [
       "<div>\n",
       "<style scoped>\n",
       "    .dataframe tbody tr th:only-of-type {\n",
       "        vertical-align: middle;\n",
       "    }\n",
       "\n",
       "    .dataframe tbody tr th {\n",
       "        vertical-align: top;\n",
       "    }\n",
       "\n",
       "    .dataframe thead th {\n",
       "        text-align: right;\n",
       "    }\n",
       "</style>\n",
       "<table border=\"1\" class=\"dataframe\">\n",
       "  <thead>\n",
       "    <tr style=\"text-align: right;\">\n",
       "      <th></th>\n",
       "      <th>id</th>\n",
       "      <th>country</th>\n",
       "      <th>store</th>\n",
       "      <th>product</th>\n",
       "      <th>day</th>\n",
       "      <th>month</th>\n",
       "      <th>year</th>\n",
       "    </tr>\n",
       "  </thead>\n",
       "  <tbody>\n",
       "    <tr>\n",
       "      <th>0</th>\n",
       "      <td>136950</td>\n",
       "      <td>65.712922</td>\n",
       "      <td>61.909528</td>\n",
       "      <td>227.768216</td>\n",
       "      <td>1</td>\n",
       "      <td>1</td>\n",
       "      <td>2022</td>\n",
       "    </tr>\n",
       "    <tr>\n",
       "      <th>1</th>\n",
       "      <td>136951</td>\n",
       "      <td>65.712922</td>\n",
       "      <td>61.909528</td>\n",
       "      <td>222.596169</td>\n",
       "      <td>1</td>\n",
       "      <td>1</td>\n",
       "      <td>2022</td>\n",
       "    </tr>\n",
       "    <tr>\n",
       "      <th>2</th>\n",
       "      <td>136952</td>\n",
       "      <td>65.712922</td>\n",
       "      <td>61.909528</td>\n",
       "      <td>34.762737</td>\n",
       "      <td>1</td>\n",
       "      <td>1</td>\n",
       "      <td>2022</td>\n",
       "    </tr>\n",
       "    <tr>\n",
       "      <th>3</th>\n",
       "      <td>136953</td>\n",
       "      <td>65.712922</td>\n",
       "      <td>61.909528</td>\n",
       "      <td>190.187786</td>\n",
       "      <td>1</td>\n",
       "      <td>1</td>\n",
       "      <td>2022</td>\n",
       "    </tr>\n",
       "    <tr>\n",
       "      <th>4</th>\n",
       "      <td>136954</td>\n",
       "      <td>65.712922</td>\n",
       "      <td>61.909528</td>\n",
       "      <td>173.170344</td>\n",
       "      <td>1</td>\n",
       "      <td>1</td>\n",
       "      <td>2022</td>\n",
       "    </tr>\n",
       "  </tbody>\n",
       "</table>\n",
       "</div>"
      ],
      "text/plain": [
       "       id    country      store     product  day  month  year\n",
       "0  136950  65.712922  61.909528  227.768216    1      1  2022\n",
       "1  136951  65.712922  61.909528  222.596169    1      1  2022\n",
       "2  136952  65.712922  61.909528   34.762737    1      1  2022\n",
       "3  136953  65.712922  61.909528  190.187786    1      1  2022\n",
       "4  136954  65.712922  61.909528  173.170344    1      1  2022"
      ]
     },
     "execution_count": 36,
     "metadata": {},
     "output_type": "execute_result"
    }
   ],
   "source": [
    "test.head()"
   ]
  },
  {
   "cell_type": "code",
   "execution_count": 37,
   "id": "5c53118e",
   "metadata": {
    "execution": {
     "iopub.execute_input": "2023-07-19T05:37:41.967300Z",
     "iopub.status.busy": "2023-07-19T05:37:41.966600Z",
     "iopub.status.idle": "2023-07-19T05:37:42.032910Z",
     "shell.execute_reply": "2023-07-19T05:37:42.031800Z"
    },
    "papermill": {
     "duration": 0.096872,
     "end_time": "2023-07-19T05:37:42.035791",
     "exception": false,
     "start_time": "2023-07-19T05:37:41.938919",
     "status": "completed"
    },
    "tags": []
   },
   "outputs": [],
   "source": [
    "prediction = hgbr.predict(test)"
   ]
  },
  {
   "cell_type": "code",
   "execution_count": 38,
   "id": "5dc01f46",
   "metadata": {
    "execution": {
     "iopub.execute_input": "2023-07-19T05:37:42.091339Z",
     "iopub.status.busy": "2023-07-19T05:37:42.090930Z",
     "iopub.status.idle": "2023-07-19T05:37:42.096784Z",
     "shell.execute_reply": "2023-07-19T05:37:42.095839Z"
    },
    "papermill": {
     "duration": 0.035407,
     "end_time": "2023-07-19T05:37:42.098984",
     "exception": false,
     "start_time": "2023-07-19T05:37:42.063577",
     "status": "completed"
    },
    "tags": []
   },
   "outputs": [],
   "source": [
    "output=pd.DataFrame({'id':test.id,'num_sold':prediction*1.53})"
   ]
  },
  {
   "cell_type": "code",
   "execution_count": 39,
   "id": "f1596d0a",
   "metadata": {
    "execution": {
     "iopub.execute_input": "2023-07-19T05:37:42.152955Z",
     "iopub.status.busy": "2023-07-19T05:37:42.152341Z",
     "iopub.status.idle": "2023-07-19T05:37:42.161788Z",
     "shell.execute_reply": "2023-07-19T05:37:42.160909Z"
    },
    "papermill": {
     "duration": 0.038821,
     "end_time": "2023-07-19T05:37:42.163931",
     "exception": false,
     "start_time": "2023-07-19T05:37:42.125110",
     "status": "completed"
    },
    "tags": []
   },
   "outputs": [
    {
     "data": {
      "text/html": [
       "<div>\n",
       "<style scoped>\n",
       "    .dataframe tbody tr th:only-of-type {\n",
       "        vertical-align: middle;\n",
       "    }\n",
       "\n",
       "    .dataframe tbody tr th {\n",
       "        vertical-align: top;\n",
       "    }\n",
       "\n",
       "    .dataframe thead th {\n",
       "        text-align: right;\n",
       "    }\n",
       "</style>\n",
       "<table border=\"1\" class=\"dataframe\">\n",
       "  <thead>\n",
       "    <tr style=\"text-align: right;\">\n",
       "      <th></th>\n",
       "      <th>id</th>\n",
       "      <th>num_sold</th>\n",
       "    </tr>\n",
       "  </thead>\n",
       "  <tbody>\n",
       "    <tr>\n",
       "      <th>0</th>\n",
       "      <td>136950</td>\n",
       "      <td>42.520164</td>\n",
       "    </tr>\n",
       "    <tr>\n",
       "      <th>1</th>\n",
       "      <td>136951</td>\n",
       "      <td>55.177160</td>\n",
       "    </tr>\n",
       "    <tr>\n",
       "      <th>2</th>\n",
       "      <td>136952</td>\n",
       "      <td>-4.544998</td>\n",
       "    </tr>\n",
       "    <tr>\n",
       "      <th>3</th>\n",
       "      <td>136953</td>\n",
       "      <td>46.281895</td>\n",
       "    </tr>\n",
       "    <tr>\n",
       "      <th>4</th>\n",
       "      <td>136954</td>\n",
       "      <td>34.257029</td>\n",
       "    </tr>\n",
       "  </tbody>\n",
       "</table>\n",
       "</div>"
      ],
      "text/plain": [
       "       id   num_sold\n",
       "0  136950  42.520164\n",
       "1  136951  55.177160\n",
       "2  136952  -4.544998\n",
       "3  136953  46.281895\n",
       "4  136954  34.257029"
      ]
     },
     "execution_count": 39,
     "metadata": {},
     "output_type": "execute_result"
    }
   ],
   "source": [
    "output.head()"
   ]
  },
  {
   "cell_type": "code",
   "execution_count": 40,
   "id": "02f0ea4c",
   "metadata": {
    "execution": {
     "iopub.execute_input": "2023-07-19T05:37:42.219188Z",
     "iopub.status.busy": "2023-07-19T05:37:42.218460Z",
     "iopub.status.idle": "2023-07-19T05:37:42.342197Z",
     "shell.execute_reply": "2023-07-19T05:37:42.340616Z"
    },
    "papermill": {
     "duration": 0.153741,
     "end_time": "2023-07-19T05:37:42.344695",
     "exception": false,
     "start_time": "2023-07-19T05:37:42.190954",
     "status": "completed"
    },
    "tags": []
   },
   "outputs": [
    {
     "name": "stdout",
     "output_type": "stream",
     "text": [
      "Your submission was successfully saved!\n"
     ]
    }
   ],
   "source": [
    "output.to_csv('submission.csv', index=False)\n",
    "print(\"Your submission was successfully saved!\")"
   ]
  }
 ],
 "metadata": {
  "kernelspec": {
   "display_name": "Python 3",
   "language": "python",
   "name": "python3"
  },
  "language_info": {
   "codemirror_mode": {
    "name": "ipython",
    "version": 3
   },
   "file_extension": ".py",
   "mimetype": "text/x-python",
   "name": "python",
   "nbconvert_exporter": "python",
   "pygments_lexer": "ipython3",
   "version": "3.10.12"
  },
  "papermill": {
   "default_parameters": {},
   "duration": 465.790674,
   "end_time": "2023-07-19T05:37:43.495811",
   "environment_variables": {},
   "exception": null,
   "input_path": "__notebook__.ipynb",
   "output_path": "__notebook__.ipynb",
   "parameters": {},
   "start_time": "2023-07-19T05:29:57.705137",
   "version": "2.4.0"
  }
 },
 "nbformat": 4,
 "nbformat_minor": 5
}
